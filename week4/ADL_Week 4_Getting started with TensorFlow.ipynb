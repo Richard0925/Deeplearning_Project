{
 "cells": [
  {
   "cell_type": "markdown",
   "id": "4fd1bc41",
   "metadata": {},
   "source": [
    "# Using TensorFlow to create and train neural networks"
   ]
  },
  {
   "cell_type": "markdown",
   "id": "26bdc8d6",
   "metadata": {},
   "source": [
    "To work with TensorFlow, we first need to install it. Uncomment the code below, if you haven't already done so (note that we use `pydot` and `graphviz` for visualizing the hidden layers of a neural network - but they are not necessary to run neural networks in TensorFlow).\n",
    "\n",
    "Note that parts 5 and 6 of the notebook build on a GitHub repository by [Aurélien Géron](https://github.com/ageron/handson-ml2)."
   ]
  },
  {
   "cell_type": "markdown",
   "id": "14fcb906",
   "metadata": {},
   "source": [
    "Once we have installed all packages, let's do the obligatory imports:"
   ]
  },
  {
   "cell_type": "code",
   "execution_count": 1,
   "id": "f21cd366",
   "metadata": {},
   "outputs": [],
   "source": [
    "import tensorflow as tf\n",
    "import numpy as np\n",
    "from sklearn.model_selection import train_test_split\n",
    "import matplotlib.pyplot as plt\n",
    "\n",
    "# tf.__version__\n",
    "# print(\"Num GPUs Available: \", len(tf.config.experimental.list_physical_devices('GPU')))"
   ]
  },
  {
   "cell_type": "markdown",
   "id": "30ef7259",
   "metadata": {},
   "source": [
    "# 1. Creating a simple neural network with the Sequential API"
   ]
  },
  {
   "cell_type": "markdown",
   "id": "f106c9f2",
   "metadata": {},
   "source": [
    "We will recreate what we did in the last lecture: a logistic regression model that allows us to differentiate between sign-language digits 0 and 1. But this time, we will be using TensorFlow's Sequential API to build a (single-neuron) neural network. The data-handling is the same as last week:"
   ]
  },
  {
   "cell_type": "code",
   "execution_count": 2,
   "id": "6d88bf49",
   "metadata": {},
   "outputs": [],
   "source": [
    "X = np.load(\"digits_X.npy\")\n",
    "y = np.load(\"digits_y.npy\")\n",
    "X = np.concatenate((X[204:409], X[822:1028]), axis=0)\n",
    "z = np.zeros(409 - 204)\n",
    "o = np.ones(1028 - 822)\n",
    "y = np.concatenate((z, o), axis=0).reshape(X.shape[0], 1)\n",
    "X_train, X_test, y_train, y_test = train_test_split(\n",
    "    X, y, test_size=0.15, random_state=172\n",
    ")"
   ]
  },
  {
   "cell_type": "markdown",
   "id": "a20a52f6",
   "metadata": {},
   "source": [
    "## 1.1 Building the model"
   ]
  },
  {
   "cell_type": "markdown",
   "id": "46d47f43",
   "metadata": {},
   "source": [
    "Let's create the model. Notice that we haven't flattened the observations (recall that each value of `X` is a matrix!). The beauty about TensorFlow is that we can simply add in a `Flatten` layer, to do this for us. Hence, we have two layers in our model: the `Flatten` layer (not an actual neural network layer), and a standard `Dense` layer, with one neuron/unit (the one that performs the logistic regression).\n",
    "\n",
    "For our `Dense` layer with one neuron, we also need to specify the activation function. Of course, for a logistic regression, we use the logistic sigmoid function, simply `'sigmoid'` in TensorFlow.\n",
    "\n",
    "We can (but don't have to) specify a `kernel_initializer`. Usually, the defaults work fine, but with the little amount of data we have, we need to set this to `'uniform'` for things to work properly."
   ]
  },
  {
   "cell_type": "code",
   "execution_count": 3,
   "id": "c324809e",
   "metadata": {},
   "outputs": [
    {
     "name": "stdout",
     "output_type": "stream",
     "text": [
      "Metal device set to: Apple M1 Pro\n",
      "\n",
      "systemMemory: 16.00 GB\n",
      "maxCacheSize: 5.33 GB\n",
      "\n"
     ]
    },
    {
     "name": "stderr",
     "output_type": "stream",
     "text": [
      "2023-02-22 23:14:53.598179: I tensorflow/core/common_runtime/pluggable_device/pluggable_device_factory.cc:306] Could not identify NUMA node of platform GPU ID 0, defaulting to 0. Your kernel may not have been built with NUMA support.\n",
      "2023-02-22 23:14:53.598356: I tensorflow/core/common_runtime/pluggable_device/pluggable_device_factory.cc:272] Created TensorFlow device (/job:localhost/replica:0/task:0/device:GPU:0 with 0 MB memory) -> physical PluggableDevice (device: 0, name: METAL, pci bus id: <undefined>)\n"
     ]
    }
   ],
   "source": [
    "model = tf.keras.models.Sequential(\n",
    "    [\n",
    "        tf.keras.layers.Flatten(input_shape=(64, 64)),\n",
    "        tf.keras.layers.Dense(1, activation=\"sigmoid\", kernel_initializer=\"uniform\"),\n",
    "    ]\n",
    ")"
   ]
  },
  {
   "cell_type": "markdown",
   "id": "1ac04a43",
   "metadata": {},
   "source": [
    "Note that we could also create the model step-by-step, as follows:\n",
    "```\n",
    "model = tf.keras.models.Sequential()\n",
    "model.add(tf.keras.layers.Flatten(input_shape=(64,64)))\n",
    "model.add(tf.keras.layers.Dense(1, activation='sigmoid', kernel_initializer = 'uniform'))\n",
    "```"
   ]
  },
  {
   "cell_type": "markdown",
   "id": "d8cc1e38",
   "metadata": {},
   "source": [
    "Now that we have created our model, we can take a look at its layers:"
   ]
  },
  {
   "cell_type": "code",
   "execution_count": 4,
   "id": "95977520",
   "metadata": {},
   "outputs": [
    {
     "data": {
      "text/plain": [
       "[<keras.layers.reshaping.flatten.Flatten at 0x29516fa60>,\n",
       " <keras.layers.core.dense.Dense at 0x106199330>]"
      ]
     },
     "execution_count": 4,
     "metadata": {},
     "output_type": "execute_result"
    }
   ],
   "source": [
    "model.layers\n"
   ]
  },
  {
   "cell_type": "markdown",
   "id": "b07c5676",
   "metadata": {},
   "source": [
    "The `model.summary()` is a bit more informative:"
   ]
  },
  {
   "cell_type": "code",
   "execution_count": 5,
   "id": "dafa8e14",
   "metadata": {},
   "outputs": [
    {
     "name": "stdout",
     "output_type": "stream",
     "text": [
      "Model: \"sequential\"\n",
      "_________________________________________________________________\n",
      " Layer (type)                Output Shape              Param #   \n",
      "=================================================================\n",
      " flatten (Flatten)           (None, 4096)              0         \n",
      "                                                                 \n",
      " dense (Dense)               (None, 1)                 4097      \n",
      "                                                                 \n",
      "=================================================================\n",
      "Total params: 4,097\n",
      "Trainable params: 4,097\n",
      "Non-trainable params: 0\n",
      "_________________________________________________________________\n"
     ]
    }
   ],
   "source": [
    "model.summary()\n"
   ]
  },
  {
   "cell_type": "markdown",
   "id": "f2d645a0",
   "metadata": {},
   "source": [
    "The `Flatten` layer flattens each input from a (64,64)-matrix to a (4096,)-vector. However, it says (None, 4096) for the output shape. Can you guess why?\n",
    "\n",
    "Also, can you guess what the 4097 parameters are?"
   ]
  },
  {
   "cell_type": "markdown",
   "id": "44f182a0",
   "metadata": {},
   "source": [
    "In order to use our model, we also have to `compile` it. This is the step where we decide on\n",
    "- the optimization algorithm (we will use `'sgd'`, or stochastic gradient descent, basically a step-by-step version of gradient descent),\n",
    "- the loss function (we will use `'binary_crossentropy'`, as before),\n",
    "- the metrics to keep track of as the model is being trained, in the form of a list (we will only keep track of `'accuracy'` for now)."
   ]
  },
  {
   "cell_type": "code",
   "execution_count": 6,
   "id": "79a29ee6",
   "metadata": {},
   "outputs": [],
   "source": [
    "model.compile(optimizer=\"sgd\", loss=\"binary_crossentropy\", metrics=[\"accuracy\"])"
   ]
  },
  {
   "cell_type": "markdown",
   "id": "40b81170",
   "metadata": {},
   "source": [
    "That's it! When we compile the model, it automatically creates the forward propagation and back-propagation steps for us, based on the layers and cost function we define!"
   ]
  },
  {
   "cell_type": "markdown",
   "id": "6e3acf7c",
   "metadata": {},
   "source": [
    "## 1.2 Training the model"
   ]
  },
  {
   "cell_type": "markdown",
   "id": "46fea9f7",
   "metadata": {},
   "source": [
    "We will now train the model, using the training data. We will run it for 100 \"epochs\", that is iterations of our optimization algorithm:"
   ]
  },
  {
   "cell_type": "code",
   "execution_count": 7,
   "id": "94ae018a",
   "metadata": {},
   "outputs": [
    {
     "name": "stdout",
     "output_type": "stream",
     "text": [
      "Epoch 1/100\n"
     ]
    },
    {
     "name": "stderr",
     "output_type": "stream",
     "text": [
      "2023-02-22 23:15:01.984580: W tensorflow/core/platform/profile_utils/cpu_utils.cc:128] Failed to get CPU frequency: 0 Hz\n",
      "2023-02-22 23:15:02.141498: I tensorflow/core/grappler/optimizers/custom_graph_optimizer_registry.cc:114] Plugin optimizer for device_type GPU is enabled.\n"
     ]
    },
    {
     "name": "stdout",
     "output_type": "stream",
     "text": [
      "11/11 [==============================] - 1s 13ms/step - loss: 2.5340 - accuracy: 0.4642\n",
      "Epoch 2/100\n",
      "11/11 [==============================] - 0s 6ms/step - loss: 1.1715 - accuracy: 0.6418\n",
      "Epoch 3/100\n",
      "11/11 [==============================] - 0s 6ms/step - loss: 2.3949 - accuracy: 0.4728\n",
      "Epoch 4/100\n",
      "11/11 [==============================] - 0s 7ms/step - loss: 2.3053 - accuracy: 0.4470\n",
      "Epoch 5/100\n",
      "11/11 [==============================] - 0s 6ms/step - loss: 1.4714 - accuracy: 0.5645\n",
      "Epoch 6/100\n",
      "11/11 [==============================] - 0s 6ms/step - loss: 1.7409 - accuracy: 0.4756\n",
      "Epoch 7/100\n",
      "11/11 [==============================] - 0s 6ms/step - loss: 1.2722 - accuracy: 0.5444\n",
      "Epoch 8/100\n",
      "11/11 [==============================] - 0s 6ms/step - loss: 0.3884 - accuracy: 0.8395\n",
      "Epoch 9/100\n",
      "11/11 [==============================] - 0s 6ms/step - loss: 0.2406 - accuracy: 0.9169\n",
      "Epoch 10/100\n",
      "11/11 [==============================] - 0s 6ms/step - loss: 0.2543 - accuracy: 0.9026\n",
      "Epoch 11/100\n",
      "11/11 [==============================] - 0s 6ms/step - loss: 0.2627 - accuracy: 0.9026\n",
      "Epoch 12/100\n",
      "11/11 [==============================] - 0s 6ms/step - loss: 0.7387 - accuracy: 0.7106\n",
      "Epoch 13/100\n",
      "11/11 [==============================] - 0s 6ms/step - loss: 0.2296 - accuracy: 0.9169\n",
      "Epoch 14/100\n",
      "11/11 [==============================] - 0s 6ms/step - loss: 0.2777 - accuracy: 0.8797\n",
      "Epoch 15/100\n",
      "11/11 [==============================] - 0s 6ms/step - loss: 0.6562 - accuracy: 0.7479\n",
      "Epoch 16/100\n",
      "11/11 [==============================] - 0s 6ms/step - loss: 0.2834 - accuracy: 0.8739\n",
      "Epoch 17/100\n",
      "11/11 [==============================] - 0s 6ms/step - loss: 0.4975 - accuracy: 0.8109\n",
      "Epoch 18/100\n",
      "11/11 [==============================] - 0s 6ms/step - loss: 0.2831 - accuracy: 0.8653\n",
      "Epoch 19/100\n",
      "11/11 [==============================] - 0s 7ms/step - loss: 0.3884 - accuracy: 0.8395\n",
      "Epoch 20/100\n",
      "11/11 [==============================] - 0s 6ms/step - loss: 0.4177 - accuracy: 0.7937\n",
      "Epoch 21/100\n",
      "11/11 [==============================] - 0s 6ms/step - loss: 0.1763 - accuracy: 0.9398\n",
      "Epoch 22/100\n",
      "11/11 [==============================] - 0s 6ms/step - loss: 0.1880 - accuracy: 0.9284\n",
      "Epoch 23/100\n",
      "11/11 [==============================] - 0s 6ms/step - loss: 0.1607 - accuracy: 0.9542\n",
      "Epoch 24/100\n",
      "11/11 [==============================] - 0s 6ms/step - loss: 0.2016 - accuracy: 0.9284\n",
      "Epoch 25/100\n",
      "11/11 [==============================] - 0s 6ms/step - loss: 0.1654 - accuracy: 0.9341\n",
      "Epoch 26/100\n",
      "11/11 [==============================] - 0s 8ms/step - loss: 0.1471 - accuracy: 0.9599\n",
      "Epoch 27/100\n",
      "11/11 [==============================] - 0s 7ms/step - loss: 0.1436 - accuracy: 0.9542\n",
      "Epoch 28/100\n",
      "11/11 [==============================] - 0s 6ms/step - loss: 0.1711 - accuracy: 0.9456\n",
      "Epoch 29/100\n",
      "11/11 [==============================] - 0s 7ms/step - loss: 0.1452 - accuracy: 0.9542\n",
      "Epoch 30/100\n",
      "11/11 [==============================] - 0s 7ms/step - loss: 0.1593 - accuracy: 0.9398\n",
      "Epoch 31/100\n",
      "11/11 [==============================] - 0s 6ms/step - loss: 0.1522 - accuracy: 0.9398\n",
      "Epoch 32/100\n",
      "11/11 [==============================] - 0s 6ms/step - loss: 0.1684 - accuracy: 0.9398\n",
      "Epoch 33/100\n",
      "11/11 [==============================] - 0s 6ms/step - loss: 0.1317 - accuracy: 0.9656\n",
      "Epoch 34/100\n",
      "11/11 [==============================] - 0s 6ms/step - loss: 0.1600 - accuracy: 0.9427\n",
      "Epoch 35/100\n",
      "11/11 [==============================] - 0s 6ms/step - loss: 0.1332 - accuracy: 0.9570\n",
      "Epoch 36/100\n",
      "11/11 [==============================] - 0s 6ms/step - loss: 0.1396 - accuracy: 0.9513\n",
      "Epoch 37/100\n",
      "11/11 [==============================] - 0s 6ms/step - loss: 0.1434 - accuracy: 0.9599\n",
      "Epoch 38/100\n",
      "11/11 [==============================] - 0s 6ms/step - loss: 0.1662 - accuracy: 0.9370\n",
      "Epoch 39/100\n",
      "11/11 [==============================] - 0s 6ms/step - loss: 0.1425 - accuracy: 0.9513\n",
      "Epoch 40/100\n",
      "11/11 [==============================] - 0s 6ms/step - loss: 0.1283 - accuracy: 0.9685\n",
      "Epoch 41/100\n",
      "11/11 [==============================] - 0s 6ms/step - loss: 0.1257 - accuracy: 0.9713\n",
      "Epoch 42/100\n",
      "11/11 [==============================] - 0s 6ms/step - loss: 0.1438 - accuracy: 0.9427\n",
      "Epoch 43/100\n",
      "11/11 [==============================] - 0s 6ms/step - loss: 0.1285 - accuracy: 0.9542\n",
      "Epoch 44/100\n",
      "11/11 [==============================] - 0s 6ms/step - loss: 0.1233 - accuracy: 0.9599\n",
      "Epoch 45/100\n",
      "11/11 [==============================] - 0s 6ms/step - loss: 0.1599 - accuracy: 0.9484\n",
      "Epoch 46/100\n",
      "11/11 [==============================] - 0s 6ms/step - loss: 0.1178 - accuracy: 0.9656\n",
      "Epoch 47/100\n",
      "11/11 [==============================] - 0s 6ms/step - loss: 0.1252 - accuracy: 0.9513\n",
      "Epoch 48/100\n",
      "11/11 [==============================] - 0s 6ms/step - loss: 0.1252 - accuracy: 0.9599\n",
      "Epoch 49/100\n",
      "11/11 [==============================] - 0s 7ms/step - loss: 0.1191 - accuracy: 0.9628\n",
      "Epoch 50/100\n",
      "11/11 [==============================] - 0s 6ms/step - loss: 0.1257 - accuracy: 0.9599\n",
      "Epoch 51/100\n",
      "11/11 [==============================] - 0s 6ms/step - loss: 0.1185 - accuracy: 0.9599\n",
      "Epoch 52/100\n",
      "11/11 [==============================] - 0s 7ms/step - loss: 0.1152 - accuracy: 0.9685\n",
      "Epoch 53/100\n",
      "11/11 [==============================] - 0s 6ms/step - loss: 0.1096 - accuracy: 0.9685\n",
      "Epoch 54/100\n",
      "11/11 [==============================] - 0s 7ms/step - loss: 0.1103 - accuracy: 0.9799\n",
      "Epoch 55/100\n",
      "11/11 [==============================] - 0s 6ms/step - loss: 0.1149 - accuracy: 0.9685\n",
      "Epoch 56/100\n",
      "11/11 [==============================] - 0s 6ms/step - loss: 0.1057 - accuracy: 0.9713\n",
      "Epoch 57/100\n",
      "11/11 [==============================] - 0s 6ms/step - loss: 0.1235 - accuracy: 0.9542\n",
      "Epoch 58/100\n",
      "11/11 [==============================] - 0s 6ms/step - loss: 0.1049 - accuracy: 0.9771\n",
      "Epoch 59/100\n",
      "11/11 [==============================] - 0s 6ms/step - loss: 0.1042 - accuracy: 0.9742\n",
      "Epoch 60/100\n",
      "11/11 [==============================] - 0s 6ms/step - loss: 0.1056 - accuracy: 0.9628\n",
      "Epoch 61/100\n",
      "11/11 [==============================] - 0s 6ms/step - loss: 0.1032 - accuracy: 0.9799\n",
      "Epoch 62/100\n",
      "11/11 [==============================] - 0s 6ms/step - loss: 0.1101 - accuracy: 0.9771\n",
      "Epoch 63/100\n",
      "11/11 [==============================] - 0s 6ms/step - loss: 0.1025 - accuracy: 0.9771\n",
      "Epoch 64/100\n",
      "11/11 [==============================] - 0s 6ms/step - loss: 0.1043 - accuracy: 0.9713\n",
      "Epoch 65/100\n",
      "11/11 [==============================] - 0s 6ms/step - loss: 0.1099 - accuracy: 0.9685\n",
      "Epoch 66/100\n",
      "11/11 [==============================] - 0s 6ms/step - loss: 0.0997 - accuracy: 0.9742\n",
      "Epoch 67/100\n",
      "11/11 [==============================] - 0s 6ms/step - loss: 0.1163 - accuracy: 0.9685\n",
      "Epoch 68/100\n",
      "11/11 [==============================] - 0s 6ms/step - loss: 0.0956 - accuracy: 0.9771\n",
      "Epoch 69/100\n",
      "11/11 [==============================] - 0s 6ms/step - loss: 0.0971 - accuracy: 0.9771\n",
      "Epoch 70/100\n",
      "11/11 [==============================] - 0s 6ms/step - loss: 0.0938 - accuracy: 0.9713\n",
      "Epoch 71/100\n",
      "11/11 [==============================] - 0s 6ms/step - loss: 0.1001 - accuracy: 0.9713\n",
      "Epoch 72/100\n",
      "11/11 [==============================] - 0s 6ms/step - loss: 0.0982 - accuracy: 0.9771\n",
      "Epoch 73/100\n",
      "11/11 [==============================] - 0s 6ms/step - loss: 0.1035 - accuracy: 0.9685\n",
      "Epoch 74/100\n",
      "11/11 [==============================] - 0s 6ms/step - loss: 0.0993 - accuracy: 0.9713\n",
      "Epoch 75/100\n",
      "11/11 [==============================] - 0s 7ms/step - loss: 0.0961 - accuracy: 0.9799\n",
      "Epoch 76/100\n",
      "11/11 [==============================] - 0s 6ms/step - loss: 0.0932 - accuracy: 0.9799\n",
      "Epoch 77/100\n",
      "11/11 [==============================] - 0s 6ms/step - loss: 0.0976 - accuracy: 0.9713\n",
      "Epoch 78/100\n",
      "11/11 [==============================] - 0s 6ms/step - loss: 0.1072 - accuracy: 0.9685\n",
      "Epoch 79/100\n",
      "11/11 [==============================] - 0s 6ms/step - loss: 0.0909 - accuracy: 0.9771\n",
      "Epoch 80/100\n",
      "11/11 [==============================] - 0s 6ms/step - loss: 0.0933 - accuracy: 0.9799\n",
      "Epoch 81/100\n",
      "11/11 [==============================] - 0s 6ms/step - loss: 0.0894 - accuracy: 0.9799\n",
      "Epoch 82/100\n",
      "11/11 [==============================] - 0s 6ms/step - loss: 0.0902 - accuracy: 0.9799\n",
      "Epoch 83/100\n",
      "11/11 [==============================] - 0s 6ms/step - loss: 0.0894 - accuracy: 0.9799\n",
      "Epoch 84/100\n",
      "11/11 [==============================] - 0s 6ms/step - loss: 0.0906 - accuracy: 0.9799\n",
      "Epoch 85/100\n",
      "11/11 [==============================] - 0s 6ms/step - loss: 0.0924 - accuracy: 0.9742\n",
      "Epoch 86/100\n",
      "11/11 [==============================] - 0s 6ms/step - loss: 0.1028 - accuracy: 0.9656\n",
      "Epoch 87/100\n",
      "11/11 [==============================] - 0s 6ms/step - loss: 0.0910 - accuracy: 0.9771\n",
      "Epoch 88/100\n",
      "11/11 [==============================] - 0s 6ms/step - loss: 0.0893 - accuracy: 0.9742\n",
      "Epoch 89/100\n",
      "11/11 [==============================] - 0s 6ms/step - loss: 0.0910 - accuracy: 0.9799\n",
      "Epoch 90/100\n",
      "11/11 [==============================] - 0s 6ms/step - loss: 0.0945 - accuracy: 0.9771\n",
      "Epoch 91/100\n",
      "11/11 [==============================] - 0s 6ms/step - loss: 0.0852 - accuracy: 0.9828\n",
      "Epoch 92/100\n",
      "11/11 [==============================] - 0s 6ms/step - loss: 0.0987 - accuracy: 0.9771\n",
      "Epoch 93/100\n",
      "11/11 [==============================] - 0s 6ms/step - loss: 0.0882 - accuracy: 0.9771\n",
      "Epoch 94/100\n",
      "11/11 [==============================] - 0s 6ms/step - loss: 0.0917 - accuracy: 0.9742\n",
      "Epoch 95/100\n",
      "11/11 [==============================] - 0s 6ms/step - loss: 0.0822 - accuracy: 0.9828\n",
      "Epoch 96/100\n",
      "11/11 [==============================] - 0s 6ms/step - loss: 0.0843 - accuracy: 0.9799\n",
      "Epoch 97/100\n",
      "11/11 [==============================] - 0s 7ms/step - loss: 0.0830 - accuracy: 0.9799\n",
      "Epoch 98/100\n",
      "11/11 [==============================] - 0s 6ms/step - loss: 0.0820 - accuracy: 0.9828\n",
      "Epoch 99/100\n",
      "11/11 [==============================] - 0s 6ms/step - loss: 0.1028 - accuracy: 0.9713\n",
      "Epoch 100/100\n",
      "11/11 [==============================] - 0s 6ms/step - loss: 0.0846 - accuracy: 0.9799\n"
     ]
    },
    {
     "data": {
      "text/plain": [
       "<keras.callbacks.History at 0x2972df760>"
      ]
     },
     "execution_count": 7,
     "metadata": {},
     "output_type": "execute_result"
    }
   ],
   "source": [
    "model.fit(X_train, y_train, epochs=100)\n"
   ]
  },
  {
   "cell_type": "markdown",
   "id": "0b5ab15e",
   "metadata": {},
   "source": [
    "## 1.3 Making predictions"
   ]
  },
  {
   "cell_type": "markdown",
   "id": "dc3e1976",
   "metadata": {},
   "source": [
    "To make predictions, we simply input the data we want to make predictions on into the model we have trained. `.numpy()` just helps with formatting"
   ]
  },
  {
   "cell_type": "code",
   "execution_count": 8,
   "id": "fe8eece6",
   "metadata": {},
   "outputs": [],
   "source": [
    "predictions = model(X_test).numpy()\n"
   ]
  },
  {
   "cell_type": "markdown",
   "id": "b2b5c531",
   "metadata": {},
   "source": [
    "Our predictions are values between 0 and 1. Let's get actual binary classification predictions and compute the accuracy on the test set:"
   ]
  },
  {
   "cell_type": "code",
   "execution_count": 9,
   "id": "0bfdfd30",
   "metadata": {},
   "outputs": [
    {
     "name": "stdout",
     "output_type": "stream",
     "text": [
      "test accuracy: 91.93548387096774 %\n"
     ]
    }
   ],
   "source": [
    "predictions = predictions > 0.5\n",
    "print(\"test accuracy: {} %\".format(100 - np.mean(np.abs(predictions - y_test)) * 100))"
   ]
  },
  {
   "cell_type": "markdown",
   "id": "4766ab45",
   "metadata": {},
   "source": [
    "## 1.4 The same but a bit fancier"
   ]
  },
  {
   "cell_type": "markdown",
   "id": "83f5e545",
   "metadata": {},
   "source": [
    "Let's restart the process (we will use `clear_session` to properly clear out TensorFlow's cache). Other than that, we will only make three small changes:\n",
    "- We add validation data to the training process (we will here simply use the test data - not best practice, but this is just for showing you how the TensorFlow training can directly consider a validation data set)\n",
    "- Instead of using the default `'sgd'` optimizer, we manually specify the learning rate, using the `tf.keras.optimizers.experimental.SGD` object\n",
    "- We also save the output of `model.fit`, as this will be interesting for drawing graphs"
   ]
  },
  {
   "cell_type": "code",
   "execution_count": 10,
   "id": "1877267f",
   "metadata": {},
   "outputs": [],
   "source": [
    "tf.keras.backend.clear_session()\n"
   ]
  },
  {
   "cell_type": "code",
   "execution_count": 11,
   "id": "5b633b26",
   "metadata": {},
   "outputs": [],
   "source": [
    "model = tf.keras.models.Sequential(\n",
    "    [\n",
    "        tf.keras.layers.Flatten(input_shape=(64, 64)),\n",
    "        tf.keras.layers.Dense(1, activation=\"sigmoid\"),\n",
    "    ]\n",
    ")\n",
    "model.compile(\n",
    "    optimizer=tf.keras.optimizers.SGD(learning_rate=0.01),\n",
    "    loss=\"binary_crossentropy\",\n",
    "    metrics=[\"accuracy\"],\n",
    ")\n"
   ]
  },
  {
   "cell_type": "code",
   "execution_count": 12,
   "id": "63fbe555",
   "metadata": {},
   "outputs": [
    {
     "name": "stdout",
     "output_type": "stream",
     "text": [
      "Epoch 1/100\n",
      " 8/11 [====================>.........] - ETA: 0s - loss: 2.2036 - accuracy: 0.4492"
     ]
    },
    {
     "name": "stderr",
     "output_type": "stream",
     "text": [
      "2023-02-22 23:15:15.871327: I tensorflow/core/grappler/optimizers/custom_graph_optimizer_registry.cc:114] Plugin optimizer for device_type GPU is enabled.\n"
     ]
    },
    {
     "name": "stdout",
     "output_type": "stream",
     "text": [
      "11/11 [==============================] - 1s 30ms/step - loss: 2.3114 - accuracy: 0.4527 - val_loss: 3.9534 - val_accuracy: 0.5000\n",
      "Epoch 2/100\n",
      "11/11 [==============================] - 0s 8ms/step - loss: 1.8504 - accuracy: 0.5186 - val_loss: 0.8031 - val_accuracy: 0.5000\n",
      "Epoch 3/100\n",
      " 1/11 [=>............................] - ETA: 0s - loss: 0.4615 - accuracy: 0.7188"
     ]
    },
    {
     "name": "stderr",
     "output_type": "stream",
     "text": [
      "2023-02-22 23:15:16.178448: I tensorflow/core/grappler/optimizers/custom_graph_optimizer_registry.cc:114] Plugin optimizer for device_type GPU is enabled.\n"
     ]
    },
    {
     "name": "stdout",
     "output_type": "stream",
     "text": [
      "11/11 [==============================] - 0s 9ms/step - loss: 1.5505 - accuracy: 0.5587 - val_loss: 1.1516 - val_accuracy: 0.5000\n",
      "Epoch 4/100\n",
      "11/11 [==============================] - 0s 8ms/step - loss: 1.9888 - accuracy: 0.5129 - val_loss: 1.7802 - val_accuracy: 0.5000\n",
      "Epoch 5/100\n",
      "11/11 [==============================] - 0s 8ms/step - loss: 1.7306 - accuracy: 0.5072 - val_loss: 2.1187 - val_accuracy: 0.5000\n",
      "Epoch 6/100\n",
      "11/11 [==============================] - 0s 8ms/step - loss: 1.5359 - accuracy: 0.5244 - val_loss: 0.4910 - val_accuracy: 0.7258\n",
      "Epoch 7/100\n",
      "11/11 [==============================] - 0s 8ms/step - loss: 1.3429 - accuracy: 0.5244 - val_loss: 2.4264 - val_accuracy: 0.5000\n",
      "Epoch 8/100\n",
      "11/11 [==============================] - 0s 8ms/step - loss: 1.2789 - accuracy: 0.5960 - val_loss: 1.1654 - val_accuracy: 0.5161\n",
      "Epoch 9/100\n",
      "11/11 [==============================] - 0s 8ms/step - loss: 0.3984 - accuracy: 0.8166 - val_loss: 0.7948 - val_accuracy: 0.6452\n",
      "Epoch 10/100\n",
      "11/11 [==============================] - 0s 8ms/step - loss: 0.8962 - accuracy: 0.6648 - val_loss: 0.4406 - val_accuracy: 0.8065\n",
      "Epoch 11/100\n",
      "11/11 [==============================] - 0s 9ms/step - loss: 0.2518 - accuracy: 0.8883 - val_loss: 0.2451 - val_accuracy: 0.8871\n",
      "Epoch 12/100\n",
      "11/11 [==============================] - 0s 8ms/step - loss: 0.2778 - accuracy: 0.8739 - val_loss: 0.2291 - val_accuracy: 0.9032\n",
      "Epoch 13/100\n",
      "11/11 [==============================] - 0s 8ms/step - loss: 0.5898 - accuracy: 0.7851 - val_loss: 0.2939 - val_accuracy: 0.8548\n",
      "Epoch 14/100\n",
      "11/11 [==============================] - 0s 9ms/step - loss: 0.3034 - accuracy: 0.8596 - val_loss: 0.5282 - val_accuracy: 0.7258\n",
      "Epoch 15/100\n",
      "11/11 [==============================] - 0s 9ms/step - loss: 0.3373 - accuracy: 0.8510 - val_loss: 0.4312 - val_accuracy: 0.8226\n",
      "Epoch 16/100\n",
      "11/11 [==============================] - 0s 8ms/step - loss: 0.1846 - accuracy: 0.9370 - val_loss: 0.2128 - val_accuracy: 0.9032\n",
      "Epoch 17/100\n",
      "11/11 [==============================] - 0s 8ms/step - loss: 0.2054 - accuracy: 0.9226 - val_loss: 0.2321 - val_accuracy: 0.9194\n",
      "Epoch 18/100\n",
      "11/11 [==============================] - 0s 9ms/step - loss: 0.2016 - accuracy: 0.9341 - val_loss: 0.2063 - val_accuracy: 0.9194\n",
      "Epoch 19/100\n",
      "11/11 [==============================] - 0s 8ms/step - loss: 0.2289 - accuracy: 0.8968 - val_loss: 0.2495 - val_accuracy: 0.8871\n",
      "Epoch 20/100\n",
      "11/11 [==============================] - 0s 8ms/step - loss: 0.2207 - accuracy: 0.9226 - val_loss: 0.2216 - val_accuracy: 0.9194\n",
      "Epoch 21/100\n",
      "11/11 [==============================] - 0s 8ms/step - loss: 0.1807 - accuracy: 0.9427 - val_loss: 0.2071 - val_accuracy: 0.9032\n",
      "Epoch 22/100\n",
      "11/11 [==============================] - 0s 8ms/step - loss: 0.1592 - accuracy: 0.9570 - val_loss: 0.2013 - val_accuracy: 0.9032\n",
      "Epoch 23/100\n",
      "11/11 [==============================] - 0s 8ms/step - loss: 0.2003 - accuracy: 0.9398 - val_loss: 0.2428 - val_accuracy: 0.9194\n",
      "Epoch 24/100\n",
      "11/11 [==============================] - 0s 8ms/step - loss: 0.1633 - accuracy: 0.9398 - val_loss: 0.2084 - val_accuracy: 0.9194\n",
      "Epoch 25/100\n",
      "11/11 [==============================] - 0s 8ms/step - loss: 0.1510 - accuracy: 0.9570 - val_loss: 0.2896 - val_accuracy: 0.9194\n",
      "Epoch 26/100\n",
      "11/11 [==============================] - 0s 8ms/step - loss: 0.2056 - accuracy: 0.9169 - val_loss: 0.2208 - val_accuracy: 0.9194\n",
      "Epoch 27/100\n",
      "11/11 [==============================] - 0s 7ms/step - loss: 0.1566 - accuracy: 0.9456 - val_loss: 0.2029 - val_accuracy: 0.9194\n",
      "Epoch 28/100\n",
      "11/11 [==============================] - 0s 7ms/step - loss: 0.1537 - accuracy: 0.9427 - val_loss: 0.2348 - val_accuracy: 0.9194\n",
      "Epoch 29/100\n",
      "11/11 [==============================] - 0s 7ms/step - loss: 0.1492 - accuracy: 0.9513 - val_loss: 0.1935 - val_accuracy: 0.9032\n",
      "Epoch 30/100\n",
      "11/11 [==============================] - 0s 7ms/step - loss: 0.2028 - accuracy: 0.9198 - val_loss: 0.2303 - val_accuracy: 0.9032\n",
      "Epoch 31/100\n",
      "11/11 [==============================] - 0s 7ms/step - loss: 0.1374 - accuracy: 0.9685 - val_loss: 0.2285 - val_accuracy: 0.9194\n",
      "Epoch 32/100\n",
      "11/11 [==============================] - 0s 8ms/step - loss: 0.1386 - accuracy: 0.9685 - val_loss: 0.1992 - val_accuracy: 0.9194\n",
      "Epoch 33/100\n",
      "11/11 [==============================] - 0s 7ms/step - loss: 0.1718 - accuracy: 0.9341 - val_loss: 0.2455 - val_accuracy: 0.9194\n",
      "Epoch 34/100\n",
      "11/11 [==============================] - 0s 8ms/step - loss: 0.1475 - accuracy: 0.9570 - val_loss: 0.3132 - val_accuracy: 0.9194\n",
      "Epoch 35/100\n",
      "11/11 [==============================] - 0s 8ms/step - loss: 0.1779 - accuracy: 0.9370 - val_loss: 0.1939 - val_accuracy: 0.9032\n",
      "Epoch 36/100\n",
      "11/11 [==============================] - 0s 7ms/step - loss: 0.1559 - accuracy: 0.9513 - val_loss: 0.1943 - val_accuracy: 0.9032\n",
      "Epoch 37/100\n",
      "11/11 [==============================] - 0s 7ms/step - loss: 0.1525 - accuracy: 0.9513 - val_loss: 0.1913 - val_accuracy: 0.9194\n",
      "Epoch 38/100\n",
      "11/11 [==============================] - 0s 7ms/step - loss: 0.1326 - accuracy: 0.9628 - val_loss: 0.2208 - val_accuracy: 0.9194\n",
      "Epoch 39/100\n",
      "11/11 [==============================] - 0s 7ms/step - loss: 0.1446 - accuracy: 0.9456 - val_loss: 0.2387 - val_accuracy: 0.9194\n",
      "Epoch 40/100\n",
      "11/11 [==============================] - 0s 8ms/step - loss: 0.1492 - accuracy: 0.9427 - val_loss: 0.1882 - val_accuracy: 0.9032\n",
      "Epoch 41/100\n",
      "11/11 [==============================] - 0s 7ms/step - loss: 0.1274 - accuracy: 0.9656 - val_loss: 0.1873 - val_accuracy: 0.9032\n",
      "Epoch 42/100\n",
      "11/11 [==============================] - 0s 8ms/step - loss: 0.1269 - accuracy: 0.9599 - val_loss: 0.2012 - val_accuracy: 0.9194\n",
      "Epoch 43/100\n",
      "11/11 [==============================] - 0s 8ms/step - loss: 0.1180 - accuracy: 0.9656 - val_loss: 0.1875 - val_accuracy: 0.8871\n",
      "Epoch 44/100\n",
      "11/11 [==============================] - 0s 8ms/step - loss: 0.1188 - accuracy: 0.9656 - val_loss: 0.2389 - val_accuracy: 0.9194\n",
      "Epoch 45/100\n",
      "11/11 [==============================] - 0s 9ms/step - loss: 0.1186 - accuracy: 0.9656 - val_loss: 0.1931 - val_accuracy: 0.9032\n",
      "Epoch 46/100\n",
      "11/11 [==============================] - 0s 7ms/step - loss: 0.1301 - accuracy: 0.9542 - val_loss: 0.2130 - val_accuracy: 0.9194\n",
      "Epoch 47/100\n",
      "11/11 [==============================] - 0s 7ms/step - loss: 0.1191 - accuracy: 0.9713 - val_loss: 0.1881 - val_accuracy: 0.9032\n",
      "Epoch 48/100\n",
      "11/11 [==============================] - 0s 8ms/step - loss: 0.1232 - accuracy: 0.9628 - val_loss: 0.1877 - val_accuracy: 0.9032\n",
      "Epoch 49/100\n",
      "11/11 [==============================] - 0s 8ms/step - loss: 0.1171 - accuracy: 0.9656 - val_loss: 0.1905 - val_accuracy: 0.9194\n",
      "Epoch 50/100\n",
      "11/11 [==============================] - 0s 8ms/step - loss: 0.1266 - accuracy: 0.9599 - val_loss: 0.1842 - val_accuracy: 0.8871\n",
      "Epoch 51/100\n",
      "11/11 [==============================] - 0s 8ms/step - loss: 0.1143 - accuracy: 0.9656 - val_loss: 0.1862 - val_accuracy: 0.9032\n",
      "Epoch 52/100\n",
      "11/11 [==============================] - 0s 7ms/step - loss: 0.1310 - accuracy: 0.9599 - val_loss: 0.1830 - val_accuracy: 0.9032\n",
      "Epoch 53/100\n",
      "11/11 [==============================] - 0s 8ms/step - loss: 0.1236 - accuracy: 0.9628 - val_loss: 0.1966 - val_accuracy: 0.9032\n",
      "Epoch 54/100\n",
      "11/11 [==============================] - 0s 8ms/step - loss: 0.1215 - accuracy: 0.9656 - val_loss: 0.1918 - val_accuracy: 0.9032\n",
      "Epoch 55/100\n",
      "11/11 [==============================] - 0s 8ms/step - loss: 0.1142 - accuracy: 0.9656 - val_loss: 0.1821 - val_accuracy: 0.9194\n",
      "Epoch 56/100\n",
      "11/11 [==============================] - 0s 8ms/step - loss: 0.1146 - accuracy: 0.9685 - val_loss: 0.1960 - val_accuracy: 0.9032\n",
      "Epoch 57/100\n",
      "11/11 [==============================] - 0s 8ms/step - loss: 0.1031 - accuracy: 0.9742 - val_loss: 0.1931 - val_accuracy: 0.9032\n",
      "Epoch 58/100\n",
      "11/11 [==============================] - 0s 8ms/step - loss: 0.1012 - accuracy: 0.9713 - val_loss: 0.2288 - val_accuracy: 0.9194\n",
      "Epoch 59/100\n",
      "11/11 [==============================] - 0s 8ms/step - loss: 0.1150 - accuracy: 0.9799 - val_loss: 0.1895 - val_accuracy: 0.9032\n",
      "Epoch 60/100\n",
      "11/11 [==============================] - 0s 8ms/step - loss: 0.1030 - accuracy: 0.9713 - val_loss: 0.1804 - val_accuracy: 0.9194\n",
      "Epoch 61/100\n",
      "11/11 [==============================] - 0s 8ms/step - loss: 0.1121 - accuracy: 0.9713 - val_loss: 0.2187 - val_accuracy: 0.9194\n",
      "Epoch 62/100\n",
      "11/11 [==============================] - 0s 8ms/step - loss: 0.1109 - accuracy: 0.9656 - val_loss: 0.1890 - val_accuracy: 0.9032\n",
      "Epoch 63/100\n",
      "11/11 [==============================] - 0s 7ms/step - loss: 0.0998 - accuracy: 0.9771 - val_loss: 0.1843 - val_accuracy: 0.9032\n",
      "Epoch 64/100\n",
      "11/11 [==============================] - 0s 8ms/step - loss: 0.1035 - accuracy: 0.9771 - val_loss: 0.1803 - val_accuracy: 0.9194\n",
      "Epoch 65/100\n",
      "11/11 [==============================] - 0s 7ms/step - loss: 0.1023 - accuracy: 0.9742 - val_loss: 0.2044 - val_accuracy: 0.9194\n",
      "Epoch 66/100\n",
      "11/11 [==============================] - 0s 8ms/step - loss: 0.1083 - accuracy: 0.9656 - val_loss: 0.1907 - val_accuracy: 0.9032\n",
      "Epoch 67/100\n",
      "11/11 [==============================] - 0s 8ms/step - loss: 0.1097 - accuracy: 0.9742 - val_loss: 0.2098 - val_accuracy: 0.9194\n",
      "Epoch 68/100\n",
      "11/11 [==============================] - 0s 8ms/step - loss: 0.1064 - accuracy: 0.9742 - val_loss: 0.2093 - val_accuracy: 0.9194\n",
      "Epoch 69/100\n",
      "11/11 [==============================] - 0s 8ms/step - loss: 0.0975 - accuracy: 0.9771 - val_loss: 0.1802 - val_accuracy: 0.9194\n",
      "Epoch 70/100\n",
      "11/11 [==============================] - 0s 8ms/step - loss: 0.1083 - accuracy: 0.9742 - val_loss: 0.1882 - val_accuracy: 0.9032\n",
      "Epoch 71/100\n",
      "11/11 [==============================] - 0s 7ms/step - loss: 0.0991 - accuracy: 0.9799 - val_loss: 0.1915 - val_accuracy: 0.9032\n",
      "Epoch 72/100\n",
      "11/11 [==============================] - 0s 7ms/step - loss: 0.1001 - accuracy: 0.9713 - val_loss: 0.2216 - val_accuracy: 0.9194\n",
      "Epoch 73/100\n",
      "11/11 [==============================] - 0s 9ms/step - loss: 0.0971 - accuracy: 0.9742 - val_loss: 0.1857 - val_accuracy: 0.9032\n",
      "Epoch 74/100\n",
      "11/11 [==============================] - 0s 8ms/step - loss: 0.1058 - accuracy: 0.9742 - val_loss: 0.2030 - val_accuracy: 0.9194\n",
      "Epoch 75/100\n",
      "11/11 [==============================] - 0s 8ms/step - loss: 0.1016 - accuracy: 0.9771 - val_loss: 0.1765 - val_accuracy: 0.9194\n",
      "Epoch 76/100\n",
      "11/11 [==============================] - 0s 8ms/step - loss: 0.1000 - accuracy: 0.9771 - val_loss: 0.1934 - val_accuracy: 0.9032\n",
      "Epoch 77/100\n",
      "11/11 [==============================] - 0s 8ms/step - loss: 0.0979 - accuracy: 0.9713 - val_loss: 0.1979 - val_accuracy: 0.9032\n",
      "Epoch 78/100\n",
      "11/11 [==============================] - 0s 8ms/step - loss: 0.1165 - accuracy: 0.9628 - val_loss: 0.1834 - val_accuracy: 0.9032\n",
      "Epoch 79/100\n",
      "11/11 [==============================] - 0s 8ms/step - loss: 0.0932 - accuracy: 0.9799 - val_loss: 0.1835 - val_accuracy: 0.9032\n",
      "Epoch 80/100\n",
      "11/11 [==============================] - 0s 8ms/step - loss: 0.0950 - accuracy: 0.9742 - val_loss: 0.1781 - val_accuracy: 0.9194\n",
      "Epoch 81/100\n",
      "11/11 [==============================] - 0s 8ms/step - loss: 0.0969 - accuracy: 0.9713 - val_loss: 0.2246 - val_accuracy: 0.9194\n",
      "Epoch 82/100\n",
      "11/11 [==============================] - 0s 8ms/step - loss: 0.0966 - accuracy: 0.9656 - val_loss: 0.1843 - val_accuracy: 0.9032\n",
      "Epoch 83/100\n",
      "11/11 [==============================] - 0s 8ms/step - loss: 0.0977 - accuracy: 0.9685 - val_loss: 0.1808 - val_accuracy: 0.9032\n",
      "Epoch 84/100\n",
      "11/11 [==============================] - 0s 8ms/step - loss: 0.0871 - accuracy: 0.9799 - val_loss: 0.1796 - val_accuracy: 0.9194\n",
      "Epoch 85/100\n",
      "11/11 [==============================] - 0s 8ms/step - loss: 0.0944 - accuracy: 0.9771 - val_loss: 0.1776 - val_accuracy: 0.9194\n",
      "Epoch 86/100\n",
      "11/11 [==============================] - 0s 8ms/step - loss: 0.0894 - accuracy: 0.9771 - val_loss: 0.1769 - val_accuracy: 0.9194\n",
      "Epoch 87/100\n",
      "11/11 [==============================] - 0s 7ms/step - loss: 0.1020 - accuracy: 0.9742 - val_loss: 0.1869 - val_accuracy: 0.9032\n",
      "Epoch 88/100\n",
      "11/11 [==============================] - 0s 8ms/step - loss: 0.0907 - accuracy: 0.9713 - val_loss: 0.1905 - val_accuracy: 0.9032\n",
      "Epoch 89/100\n",
      "11/11 [==============================] - 0s 7ms/step - loss: 0.0875 - accuracy: 0.9799 - val_loss: 0.1776 - val_accuracy: 0.9194\n",
      "Epoch 90/100\n",
      "11/11 [==============================] - 0s 7ms/step - loss: 0.0890 - accuracy: 0.9771 - val_loss: 0.2052 - val_accuracy: 0.9194\n",
      "Epoch 91/100\n",
      "11/11 [==============================] - 0s 8ms/step - loss: 0.0949 - accuracy: 0.9771 - val_loss: 0.1871 - val_accuracy: 0.9032\n",
      "Epoch 92/100\n",
      "11/11 [==============================] - 0s 8ms/step - loss: 0.0849 - accuracy: 0.9771 - val_loss: 0.1730 - val_accuracy: 0.9194\n",
      "Epoch 93/100\n",
      "11/11 [==============================] - 0s 8ms/step - loss: 0.0862 - accuracy: 0.9828 - val_loss: 0.1748 - val_accuracy: 0.9194\n",
      "Epoch 94/100\n",
      "11/11 [==============================] - 0s 8ms/step - loss: 0.0858 - accuracy: 0.9799 - val_loss: 0.1988 - val_accuracy: 0.9032\n",
      "Epoch 95/100\n",
      "11/11 [==============================] - 0s 8ms/step - loss: 0.0885 - accuracy: 0.9771 - val_loss: 0.1789 - val_accuracy: 0.9194\n",
      "Epoch 96/100\n",
      "11/11 [==============================] - 0s 9ms/step - loss: 0.0837 - accuracy: 0.9857 - val_loss: 0.1726 - val_accuracy: 0.9194\n",
      "Epoch 97/100\n",
      "11/11 [==============================] - 0s 8ms/step - loss: 0.0826 - accuracy: 0.9771 - val_loss: 0.1726 - val_accuracy: 0.9194\n",
      "Epoch 98/100\n",
      "11/11 [==============================] - 0s 8ms/step - loss: 0.0857 - accuracy: 0.9742 - val_loss: 0.1755 - val_accuracy: 0.9194\n",
      "Epoch 99/100\n",
      "11/11 [==============================] - 0s 8ms/step - loss: 0.0801 - accuracy: 0.9742 - val_loss: 0.1786 - val_accuracy: 0.9194\n",
      "Epoch 100/100\n",
      "11/11 [==============================] - 0s 8ms/step - loss: 0.0796 - accuracy: 0.9828 - val_loss: 0.1724 - val_accuracy: 0.9355\n"
     ]
    }
   ],
   "source": [
    "log = model.fit(X_train, y_train, epochs=100, validation_data=(X_test, y_test))\n"
   ]
  },
  {
   "cell_type": "markdown",
   "id": "c17af278",
   "metadata": {},
   "source": [
    "We can now use the log to see how the training went. The `log.history` is a dictionary that will capture, for each epoch, all the metrics we defined for our model (`['accuracy']` in our case), as well as the cost/loss, for both the training and the \"validation\" dataset. The keywords to use in the dictionary are simply the words you can find in the log above."
   ]
  },
  {
   "cell_type": "code",
   "execution_count": 13,
   "id": "c9f38185",
   "metadata": {},
   "outputs": [
    {
     "data": {
      "image/png": "[encoded data removed]",
      "text/plain": [
       "<Figure size 640x480 with 1 Axes>"
      ]
     },
     "metadata": {},
     "output_type": "display_data"
    }
   ],
   "source": [
    "plt.plot(log.history[\"loss\"], label=\"training loss\")\n",
    "plt.plot(log.history[\"val_loss\"], label=\"testing loss\")\n",
    "plt.legend()\n",
    "plt.show()"
   ]
  },
  {
   "cell_type": "code",
   "execution_count": 14,
   "id": "821b4198",
   "metadata": {
    "scrolled": true
   },
   "outputs": [
    {
     "data": {
      "image/png": "[encoded data removed]",
      "text/plain": [
       "<Figure size 640x480 with 1 Axes>"
      ]
     },
     "metadata": {},
     "output_type": "display_data"
    }
   ],
   "source": [
    "plt.plot(log.history[\"accuracy\"], label=\"training accuracy\")\n",
    "plt.plot(log.history[\"val_accuracy\"], label=\"testing accuracy\")\n",
    "plt.legend()\n",
    "plt.show()"
   ]
  },
  {
   "cell_type": "markdown",
   "id": "39d7aaf8",
   "metadata": {},
   "source": [
    "We can also look at the parameters and how they have been adjusted when the model was trained. Remember that `model.layers` gives us all the layers of our model:"
   ]
  },
  {
   "cell_type": "code",
   "execution_count": 15,
   "id": "aebb715e",
   "metadata": {},
   "outputs": [
    {
     "data": {
      "text/plain": [
       "[<keras.layers.reshaping.flatten.Flatten at 0x29aad2fb0>,\n",
       " <keras.layers.core.dense.Dense at 0x29aad3490>]"
      ]
     },
     "execution_count": 15,
     "metadata": {},
     "output_type": "execute_result"
    }
   ],
   "source": [
    "model.layers\n"
   ]
  },
  {
   "cell_type": "markdown",
   "id": "ca3e6597",
   "metadata": {},
   "source": [
    "We can access these layers with standard Pythonic indexing. E.g., the output layer in our case is layer 1:"
   ]
  },
  {
   "cell_type": "code",
   "execution_count": 16,
   "id": "b05b2712",
   "metadata": {},
   "outputs": [],
   "source": [
    "output_layer = model.layers[1]\n"
   ]
  },
  {
   "cell_type": "markdown",
   "id": "dacd5708",
   "metadata": {},
   "source": [
    "Let's now take a look at both the weights and the bias after training. Before you run the cell, ask yourself: how many weights and biases do you expect there to be?"
   ]
  },
  {
   "cell_type": "code",
   "execution_count": 17,
   "id": "c2bd5348",
   "metadata": {},
   "outputs": [
    {
     "name": "stdout",
     "output_type": "stream",
     "text": [
      "[[0.00338376]\n",
      " [0.0180232 ]\n",
      " [0.01421334]\n",
      " ...\n",
      " [0.01522353]\n",
      " [0.01372195]\n",
      " [0.03164911]]\n",
      "----\n",
      "(4096, 1)\n",
      "----\n",
      "[-0.0046734]\n"
     ]
    }
   ],
   "source": [
    "weights, bias = output_layer.get_weights()\n",
    "print(weights)\n",
    "print(\"----\")\n",
    "print(weights.shape)\n",
    "print(\"----\")\n",
    "print(bias)"
   ]
  },
  {
   "cell_type": "markdown",
   "id": "168efacd",
   "metadata": {},
   "source": [
    "We make predictions as before."
   ]
  },
  {
   "cell_type": "code",
   "execution_count": 18,
   "id": "67d1c4cd",
   "metadata": {},
   "outputs": [
    {
     "name": "stdout",
     "output_type": "stream",
     "text": [
      "test accuracy: 93.54838709677419 %\n"
     ]
    }
   ],
   "source": [
    "predictions = model(X_test).numpy()\n",
    "predictions = predictions > 0.5\n",
    "print(\"test accuracy: {} %\".format(100 - np.mean(np.abs(predictions - y_test)) * 100))"
   ]
  },
  {
   "cell_type": "markdown",
   "id": "221c40ce",
   "metadata": {},
   "source": [
    "Note: you can also use `model.predict(X_test)` to make predictins (try it out). This has the advantage that we can change the `batch_size` (something we will get to know later), and that it works on TenssorFlow `Dataset` objects."
   ]
  },
  {
   "cell_type": "markdown",
   "id": "0aa63c5a",
   "metadata": {},
   "source": [
    "# 2. Creating a deeper neural network with TensorFlow"
   ]
  },
  {
   "cell_type": "markdown",
   "id": "839802a5",
   "metadata": {},
   "source": [
    "We will now create a deeper neural network with TensorFlow's Sequential API (the same one we were just using now). Before we do so, let's properly clear out the cache:"
   ]
  },
  {
   "cell_type": "code",
   "execution_count": 19,
   "id": "99178380",
   "metadata": {},
   "outputs": [],
   "source": [
    "tf.keras.backend.clear_session()\n"
   ]
  },
  {
   "cell_type": "markdown",
   "id": "27922aa2",
   "metadata": {},
   "source": [
    "We can now create the model. We are using the `Flatten` layer again, to convert our input-matrices into input-vectors. We then add a number of hidden layers and an output layer. Can you add the missing layers? In particular, we want to add \n",
    "- A `Dense` layer with 3 units and the `\"relu\"` activation function. Hint: use `model.add(tf.keras.layers.Dense(3, activation=\"relu\", kernel_initializer='uniform'))`\n",
    "- An output layer. This should again allow you to do binary classification as before\n",
    "\n",
    "Make sure to use `kernel_initializer='uniform'` for all `Dense` layers."
   ]
  },
  {
   "cell_type": "code",
   "execution_count": 36,
   "id": "f2bd0ce9",
   "metadata": {},
   "outputs": [],
   "source": [
    "model = tf.keras.models.Sequential()\n",
    "model.add(tf.keras.layers.Flatten(input_shape=(64, 64)))\n",
    "model.add(tf.keras.layers.Dense(3, activation=\"relu\", kernel_initializer='uniform'))\n",
    "model.add(tf.keras.layers.Dense(1, activation=\"sigmoid\", kernel_initializer='uniform'))"
   ]
  },
  {
   "cell_type": "markdown",
   "id": "7e8a1d9a",
   "metadata": {},
   "source": [
    "In general, if you are unsure about any of the inputs to the TensorFlow functions, make sure to check the [amazing documentation](https://www.tensorflow.org/api_docs/python/tf/all_symbols).\n",
    "\n",
    "As before, we can print out a summary of the `model`:"
   ]
  },
  {
   "cell_type": "code",
   "execution_count": 37,
   "id": "912c9825",
   "metadata": {},
   "outputs": [
    {
     "name": "stdout",
     "output_type": "stream",
     "text": [
      "Model: \"sequential_2\"\n",
      "_________________________________________________________________\n",
      " Layer (type)                Output Shape              Param #   \n",
      "=================================================================\n",
      " flatten_2 (Flatten)         (None, 4096)              0         \n",
      "                                                                 \n",
      " dense (Dense)               (None, 3)                 12291     \n",
      "                                                                 \n",
      " dense_1 (Dense)             (None, 1)                 4         \n",
      "                                                                 \n",
      "=================================================================\n",
      "Total params: 12,295\n",
      "Trainable params: 12,295\n",
      "Non-trainable params: 0\n",
      "_________________________________________________________________\n"
     ]
    }
   ],
   "source": [
    "model.summary()\n"
   ]
  },
  {
   "cell_type": "markdown",
   "id": "eabfa407",
   "metadata": {},
   "source": [
    "Do the shapes make sense to you?\n",
    "\n",
    "Can you account for the number of parameters?"
   ]
  },
  {
   "cell_type": "markdown",
   "id": "fd73e0b2",
   "metadata": {},
   "source": [
    "We can also visualize the layers of our model (this will rely on you having successfuly installed graphviz. Don't worry too much if you're having problem with this - the information is the same as in `model.summary()`):"
   ]
  },
  {
   "cell_type": "code",
   "execution_count": 38,
   "id": "70e3a591",
   "metadata": {},
   "outputs": [
    {
     "data": {
      "image/png": "[encoded data removed]",
      "text/plain": [
       "<IPython.core.display.Image object>"
      ]
     },
     "execution_count": 38,
     "metadata": {},
     "output_type": "execute_result"
    }
   ],
   "source": [
    "tf.keras.utils.plot_model(model, show_shapes=True)\n"
   ]
  },
  {
   "cell_type": "markdown",
   "id": "60bae996",
   "metadata": {},
   "source": [
    "And as before, we can take a look at it's parameters (note that we haven't trained the model yet, so these are the randomly generated weights and biases):"
   ]
  },
  {
   "cell_type": "code",
   "execution_count": 41,
   "id": "bb7afbb2",
   "metadata": {},
   "outputs": [],
   "source": [
    "hidden_layer = model.layers[1]"
   ]
  },
  {
   "cell_type": "code",
   "execution_count": 42,
   "id": "1022d865",
   "metadata": {},
   "outputs": [
    {
     "name": "stdout",
     "output_type": "stream",
     "text": [
      "[[-0.00310504 -0.04235617  0.00144929]\n",
      " [ 0.04600736  0.03063942 -0.02409171]\n",
      " [ 0.04616118 -0.03789729  0.03287758]\n",
      " ...\n",
      " [-0.0086939  -0.02450599 -0.01828896]\n",
      " [ 0.04612073  0.01450587  0.03341885]\n",
      " [ 0.04582659 -0.01220337 -0.01506297]]\n",
      "----\n",
      "(4096, 3)\n",
      "----\n",
      "[0. 0. 0.]\n",
      "----\n",
      "(3,)\n"
     ]
    }
   ],
   "source": [
    "weights, bias = hidden_layer.get_weights()\n",
    "print(weights)\n",
    "print(\"----\")\n",
    "print(weights.shape)\n",
    "print(\"----\")\n",
    "print(bias)\n",
    "print(\"----\")\n",
    "print(bias.shape)"
   ]
  },
  {
   "cell_type": "markdown",
   "id": "ced9387c",
   "metadata": {},
   "source": [
    "Finally, before training the model, we need to compile it again. We will once more use `SGD` as an optimization algorithm (with learning rate `0.01`), and `'binary_crossentropy'` as our loss (or cost) function. Also, make sure to add `\"accuracy\"` as a metric."
   ]
  },
  {
   "cell_type": "code",
   "execution_count": 63,
   "id": "137e6c7f",
   "metadata": {},
   "outputs": [],
   "source": [
    "model.compile()  # Complete"
   ]
  },
  {
   "cell_type": "markdown",
   "id": "5bbd0056",
   "metadata": {},
   "source": [
    "## 2.1 Training the model"
   ]
  },
  {
   "cell_type": "markdown",
   "id": "76e078a1",
   "metadata": {},
   "source": [
    "Let's now run the model for 100 epochs, similar to what we did before:"
   ]
  },
  {
   "cell_type": "code",
   "execution_count": 1,
   "id": "0b16b599",
   "metadata": {},
   "outputs": [
    {
     "ename": "NameError",
     "evalue": "name 'model' is not defined",
     "output_type": "error",
     "traceback": [
      "\u001b[0;31m---------------------------------------------------------------------------\u001b[0m",
      "\u001b[0;31mNameError\u001b[0m                                 Traceback (most recent call last)",
      "Cell \u001b[0;32mIn [1], line 1\u001b[0m\n\u001b[0;32m----> 1\u001b[0m log \u001b[38;5;241m=\u001b[39m model\u001b[38;5;241m.\u001b[39mfit()\n",
      "\u001b[0;31mNameError\u001b[0m: name 'model' is not defined"
     ]
    }
   ],
   "source": [
    "log = model.fit()  # Complete"
   ]
  },
  {
   "cell_type": "markdown",
   "id": "d15cecdc",
   "metadata": {},
   "source": [
    "As before, we can display the training process:"
   ]
  },
  {
   "cell_type": "code",
   "execution_count": 65,
   "id": "b19e927c",
   "metadata": {},
   "outputs": [
    {
     "data": {
      "image/png": "[encoded data removed]",
      "text/plain": [
       "<Figure size 640x480 with 1 Axes>"
      ]
     },
     "metadata": {},
     "output_type": "display_data"
    }
   ],
   "source": [
    "plt.plot(log.history[\"accuracy\"], label=\"training accuracy\")\n",
    "plt.plot(log.history[\"val_accuracy\"], label=\"testing accuracy\")\n",
    "plt.legend()\n",
    "plt.show()"
   ]
  },
  {
   "cell_type": "markdown",
   "id": "4f5e7599",
   "metadata": {},
   "source": [
    "# 3. Multi-class classification with softmax"
   ]
  },
  {
   "cell_type": "markdown",
   "id": "f8f181f1",
   "metadata": {},
   "source": [
    "We will now see how to use a softmax activation function to classify observations into multiple classes. As always, we start by cleaning up:"
   ]
  },
  {
   "cell_type": "code",
   "execution_count": 66,
   "id": "11db922c",
   "metadata": {},
   "outputs": [],
   "source": [
    "tf.keras.backend.clear_session()\n"
   ]
  },
  {
   "cell_type": "markdown",
   "id": "ee060f30",
   "metadata": {},
   "source": [
    "For this example, we will use the full digits dataset (recall that we had images of ten sign-language digits, with the corresponding one-hot-encoded labels). We will also be a bit more \"proper\" and split the dataset into training, test and validation sets:"
   ]
  },
  {
   "cell_type": "code",
   "execution_count": 67,
   "id": "831efd8e",
   "metadata": {},
   "outputs": [
    {
     "name": "stdout",
     "output_type": "stream",
     "text": [
      "(1649, 64, 64)\n",
      "(1649, 10)\n",
      "(207, 64, 64)\n",
      "(207, 10)\n",
      "(206, 64, 64)\n",
      "(206, 10)\n"
     ]
    }
   ],
   "source": [
    "X = np.load(\"digits_X.npy\")\n",
    "y = np.load(\"digits_y.npy\")\n",
    "X_train, X_other, y_train, y_other = train_test_split(\n",
    "    X, y, train_size=0.8, random_state=342\n",
    ")\n",
    "X_test, X_valid, y_test, y_valid = train_test_split(\n",
    "    X_other, y_other, train_size=0.5, random_state=152\n",
    ")\n",
    "print(X_train.shape)\n",
    "print(y_train.shape)\n",
    "print(X_valid.shape)\n",
    "print(y_valid.shape)\n",
    "print(X_test.shape)\n",
    "print(y_test.shape)"
   ]
  },
  {
   "cell_type": "markdown",
   "id": "88a573c8",
   "metadata": {},
   "source": [
    "We train a simple feed-forward network, with two hidden layers, plus the softmax layer. Remember also that we need to flatten the image-matrics:"
   ]
  },
  {
   "cell_type": "code",
   "execution_count": 68,
   "id": "01f7b545",
   "metadata": {},
   "outputs": [],
   "source": [
    "model = tf.keras.models.Sequential(\n",
    "    [\n",
    "        tf.keras.layers.Flatten(input_shape=(64, 64)),\n",
    "        tf.keras.layers.Dense(300, activation=\"relu\"),\n",
    "        tf.keras.layers.Dense(100, activation=\"relu\"),\n",
    "        tf.keras.layers.Dense(100, activation=\"relu\"),\n",
    "        tf.keras.layers.Dense(10, activation=\"softmax\"),\n",
    "    ]\n",
    ")"
   ]
  },
  {
   "cell_type": "markdown",
   "id": "641af616",
   "metadata": {},
   "source": [
    "Can you tell why the output layer has ten units instead of 1?"
   ]
  },
  {
   "cell_type": "markdown",
   "id": "ab01c851",
   "metadata": {},
   "source": [
    "As always, it is useful to take a look at our model and try to spot any possible issues:"
   ]
  },
  {
   "cell_type": "code",
   "execution_count": 69,
   "id": "d6beaf19",
   "metadata": {},
   "outputs": [
    {
     "name": "stdout",
     "output_type": "stream",
     "text": [
      "Model: \"sequential\"\n",
      "_________________________________________________________________\n",
      " Layer (type)                Output Shape              Param #   \n",
      "=================================================================\n",
      " flatten (Flatten)           (None, 4096)              0         \n",
      "                                                                 \n",
      " dense (Dense)               (None, 300)               1229100   \n",
      "                                                                 \n",
      " dense_1 (Dense)             (None, 100)               30100     \n",
      "                                                                 \n",
      " dense_2 (Dense)             (None, 100)               10100     \n",
      "                                                                 \n",
      " dense_3 (Dense)             (None, 10)                1010      \n",
      "                                                                 \n",
      "=================================================================\n",
      "Total params: 1,270,310\n",
      "Trainable params: 1,270,310\n",
      "Non-trainable params: 0\n",
      "_________________________________________________________________\n"
     ]
    }
   ],
   "source": [
    "model.summary()\n"
   ]
  },
  {
   "cell_type": "markdown",
   "id": "5d487f12",
   "metadata": {},
   "source": [
    "We can then compile the model. For multiple categories, we will usually use the `categorical_crossentropy` loss (with some exceptions, one of which you will come across in this week's homework). We also use the `'adam'` optimization algorithm (with our self-defined learning rate), which we talk about in class next week. Otherwise, let's again keep track of `'accuracy'`:"
   ]
  },
  {
   "cell_type": "code",
   "execution_count": 70,
   "id": "ebe6d690",
   "metadata": {},
   "outputs": [],
   "source": [
    "model.compile(\n",
    "    loss=\"categorical_crossentropy\",\n",
    "    optimizer=tf.keras.optimizers.Adam(learning_rate=0.001),\n",
    "    metrics=[\"accuracy\"],\n",
    ")"
   ]
  },
  {
   "cell_type": "markdown",
   "id": "682f9215",
   "metadata": {},
   "source": [
    "We can now run the model, we will use 200 epochs for now:"
   ]
  },
  {
   "cell_type": "code",
   "execution_count": 71,
   "id": "e2ee802f",
   "metadata": {},
   "outputs": [
    {
     "name": "stdout",
     "output_type": "stream",
     "text": [
      "Epoch 1/100\n",
      " 1/52 [..............................] - ETA: 17s - loss: 2.3858 - accuracy: 0.2188"
     ]
    },
    {
     "name": "stderr",
     "output_type": "stream",
     "text": [
      "2023-02-16 18:18:34.278408: I tensorflow/core/grappler/optimizers/custom_graph_optimizer_registry.cc:114] Plugin optimizer for device_type GPU is enabled.\n"
     ]
    },
    {
     "name": "stdout",
     "output_type": "stream",
     "text": [
      "52/52 [==============================] - 1s 20ms/step - loss: 2.4313 - accuracy: 0.1310 - val_loss: 2.1956 - val_accuracy: 0.1691\n",
      "Epoch 2/100\n",
      " 6/52 [==>...........................] - ETA: 0s - loss: 2.2055 - accuracy: 0.1615"
     ]
    },
    {
     "name": "stderr",
     "output_type": "stream",
     "text": [
      "2023-02-16 18:18:35.341281: I tensorflow/core/grappler/optimizers/custom_graph_optimizer_registry.cc:114] Plugin optimizer for device_type GPU is enabled.\n"
     ]
    },
    {
     "name": "stdout",
     "output_type": "stream",
     "text": [
      "52/52 [==============================] - 1s 13ms/step - loss: 2.1297 - accuracy: 0.2207 - val_loss: 1.9784 - val_accuracy: 0.2947\n",
      "Epoch 3/100\n",
      "52/52 [==============================] - 1s 12ms/step - loss: 2.0544 - accuracy: 0.2583 - val_loss: 1.8166 - val_accuracy: 0.3720\n",
      "Epoch 4/100\n",
      "52/52 [==============================] - 1s 13ms/step - loss: 1.7727 - accuracy: 0.3602 - val_loss: 1.6487 - val_accuracy: 0.4203\n",
      "Epoch 5/100\n",
      "52/52 [==============================] - 1s 14ms/step - loss: 1.6271 - accuracy: 0.4445 - val_loss: 1.5433 - val_accuracy: 0.4831\n",
      "Epoch 6/100\n",
      "52/52 [==============================] - 1s 13ms/step - loss: 1.4866 - accuracy: 0.4682 - val_loss: 1.5850 - val_accuracy: 0.3865\n",
      "Epoch 7/100\n",
      "52/52 [==============================] - 1s 13ms/step - loss: 1.3209 - accuracy: 0.5537 - val_loss: 1.1742 - val_accuracy: 0.5894\n",
      "Epoch 8/100\n",
      "52/52 [==============================] - 1s 13ms/step - loss: 1.1970 - accuracy: 0.5816 - val_loss: 1.5716 - val_accuracy: 0.3913\n",
      "Epoch 9/100\n",
      "52/52 [==============================] - 1s 13ms/step - loss: 1.2485 - accuracy: 0.5646 - val_loss: 1.0051 - val_accuracy: 0.6570\n",
      "Epoch 10/100\n",
      "52/52 [==============================] - 1s 12ms/step - loss: 1.1463 - accuracy: 0.6143 - val_loss: 1.2987 - val_accuracy: 0.5121\n",
      "Epoch 11/100\n",
      "52/52 [==============================] - 1s 13ms/step - loss: 1.0045 - accuracy: 0.6665 - val_loss: 1.1756 - val_accuracy: 0.6135\n",
      "Epoch 12/100\n",
      "52/52 [==============================] - 1s 12ms/step - loss: 0.9113 - accuracy: 0.6998 - val_loss: 1.0422 - val_accuracy: 0.6425\n",
      "Epoch 13/100\n",
      "52/52 [==============================] - 1s 15ms/step - loss: 0.9809 - accuracy: 0.6622 - val_loss: 1.1069 - val_accuracy: 0.6087\n",
      "Epoch 14/100\n",
      "52/52 [==============================] - 1s 14ms/step - loss: 0.9363 - accuracy: 0.6841 - val_loss: 0.8804 - val_accuracy: 0.7246\n",
      "Epoch 15/100\n",
      "52/52 [==============================] - 1s 13ms/step - loss: 0.8371 - accuracy: 0.7283 - val_loss: 0.9125 - val_accuracy: 0.6957\n",
      "Epoch 16/100\n",
      "52/52 [==============================] - 1s 13ms/step - loss: 0.8163 - accuracy: 0.7259 - val_loss: 0.8360 - val_accuracy: 0.7101\n",
      "Epoch 17/100\n",
      "52/52 [==============================] - 1s 14ms/step - loss: 0.8180 - accuracy: 0.7277 - val_loss: 1.0081 - val_accuracy: 0.6522\n",
      "Epoch 18/100\n",
      "52/52 [==============================] - 1s 15ms/step - loss: 0.7476 - accuracy: 0.7568 - val_loss: 0.7481 - val_accuracy: 0.7488\n",
      "Epoch 19/100\n",
      "52/52 [==============================] - 1s 15ms/step - loss: 0.7572 - accuracy: 0.7380 - val_loss: 0.8040 - val_accuracy: 0.7101\n",
      "Epoch 20/100\n",
      "52/52 [==============================] - 1s 15ms/step - loss: 0.7535 - accuracy: 0.7338 - val_loss: 1.0694 - val_accuracy: 0.5894\n",
      "Epoch 21/100\n",
      "52/52 [==============================] - 1s 14ms/step - loss: 0.8304 - accuracy: 0.7089 - val_loss: 0.6930 - val_accuracy: 0.7778\n",
      "Epoch 22/100\n",
      "52/52 [==============================] - 1s 16ms/step - loss: 0.7300 - accuracy: 0.7677 - val_loss: 0.7882 - val_accuracy: 0.7295\n",
      "Epoch 23/100\n",
      "52/52 [==============================] - 1s 13ms/step - loss: 0.6887 - accuracy: 0.7641 - val_loss: 0.7748 - val_accuracy: 0.7391\n",
      "Epoch 24/100\n",
      "52/52 [==============================] - 1s 14ms/step - loss: 0.5698 - accuracy: 0.8102 - val_loss: 0.7948 - val_accuracy: 0.7150\n",
      "Epoch 25/100\n",
      "52/52 [==============================] - 1s 16ms/step - loss: 0.6378 - accuracy: 0.7811 - val_loss: 0.8913 - val_accuracy: 0.6908\n",
      "Epoch 26/100\n",
      "52/52 [==============================] - 1s 14ms/step - loss: 0.6362 - accuracy: 0.7793 - val_loss: 1.0382 - val_accuracy: 0.6377\n",
      "Epoch 27/100\n",
      "52/52 [==============================] - 1s 13ms/step - loss: 0.5391 - accuracy: 0.8181 - val_loss: 0.6233 - val_accuracy: 0.7874\n",
      "Epoch 28/100\n",
      "52/52 [==============================] - 1s 14ms/step - loss: 0.5829 - accuracy: 0.8035 - val_loss: 1.0967 - val_accuracy: 0.6473\n",
      "Epoch 29/100\n",
      "52/52 [==============================] - 1s 13ms/step - loss: 0.6329 - accuracy: 0.7896 - val_loss: 0.6942 - val_accuracy: 0.7391\n",
      "Epoch 30/100\n",
      "52/52 [==============================] - 1s 13ms/step - loss: 0.4942 - accuracy: 0.8399 - val_loss: 0.6169 - val_accuracy: 0.7681\n",
      "Epoch 31/100\n",
      "52/52 [==============================] - 1s 14ms/step - loss: 0.5110 - accuracy: 0.8217 - val_loss: 0.6665 - val_accuracy: 0.7874\n",
      "Epoch 32/100\n",
      "52/52 [==============================] - 1s 14ms/step - loss: 0.5288 - accuracy: 0.8229 - val_loss: 0.6373 - val_accuracy: 0.7778\n",
      "Epoch 33/100\n",
      "52/52 [==============================] - 1s 17ms/step - loss: 0.5973 - accuracy: 0.8047 - val_loss: 0.6972 - val_accuracy: 0.7536\n",
      "Epoch 34/100\n",
      "52/52 [==============================] - 1s 14ms/step - loss: 0.5008 - accuracy: 0.8223 - val_loss: 1.0840 - val_accuracy: 0.6473\n",
      "Epoch 35/100\n",
      "52/52 [==============================] - 1s 13ms/step - loss: 0.6485 - accuracy: 0.7605 - val_loss: 0.9486 - val_accuracy: 0.7101\n",
      "Epoch 36/100\n",
      "52/52 [==============================] - 1s 13ms/step - loss: 0.5070 - accuracy: 0.8326 - val_loss: 0.8135 - val_accuracy: 0.7053\n",
      "Epoch 37/100\n",
      "52/52 [==============================] - 1s 13ms/step - loss: 0.4924 - accuracy: 0.8290 - val_loss: 0.6284 - val_accuracy: 0.7923\n",
      "Epoch 38/100\n",
      "52/52 [==============================] - 1s 13ms/step - loss: 0.4931 - accuracy: 0.8247 - val_loss: 0.7388 - val_accuracy: 0.7536\n",
      "Epoch 39/100\n",
      "52/52 [==============================] - 1s 14ms/step - loss: 0.4729 - accuracy: 0.8320 - val_loss: 0.6393 - val_accuracy: 0.7826\n",
      "Epoch 40/100\n",
      "52/52 [==============================] - 1s 13ms/step - loss: 0.4164 - accuracy: 0.8617 - val_loss: 0.8556 - val_accuracy: 0.7005\n",
      "Epoch 41/100\n",
      "52/52 [==============================] - 1s 14ms/step - loss: 0.3943 - accuracy: 0.8593 - val_loss: 0.6753 - val_accuracy: 0.7343\n",
      "Epoch 42/100\n",
      "52/52 [==============================] - 1s 17ms/step - loss: 0.4033 - accuracy: 0.8557 - val_loss: 0.7601 - val_accuracy: 0.7536\n",
      "Epoch 43/100\n",
      "52/52 [==============================] - 1s 14ms/step - loss: 0.4279 - accuracy: 0.8496 - val_loss: 1.1693 - val_accuracy: 0.6329\n",
      "Epoch 44/100\n",
      "52/52 [==============================] - 1s 14ms/step - loss: 0.4825 - accuracy: 0.8241 - val_loss: 0.5358 - val_accuracy: 0.8116\n",
      "Epoch 45/100\n",
      "52/52 [==============================] - 1s 13ms/step - loss: 0.3996 - accuracy: 0.8660 - val_loss: 0.8357 - val_accuracy: 0.7391\n",
      "Epoch 46/100\n",
      "52/52 [==============================] - 1s 13ms/step - loss: 0.4498 - accuracy: 0.8454 - val_loss: 0.8512 - val_accuracy: 0.7536\n",
      "Epoch 47/100\n",
      "52/52 [==============================] - 1s 14ms/step - loss: 0.4408 - accuracy: 0.8569 - val_loss: 0.6525 - val_accuracy: 0.7488\n",
      "Epoch 48/100\n",
      "52/52 [==============================] - 1s 13ms/step - loss: 0.3557 - accuracy: 0.8745 - val_loss: 0.5867 - val_accuracy: 0.8019\n",
      "Epoch 49/100\n",
      "52/52 [==============================] - 1s 14ms/step - loss: 0.3543 - accuracy: 0.8787 - val_loss: 0.7416 - val_accuracy: 0.7633\n",
      "Epoch 50/100\n",
      "52/52 [==============================] - 1s 15ms/step - loss: 0.3714 - accuracy: 0.8684 - val_loss: 0.8751 - val_accuracy: 0.7246\n",
      "Epoch 51/100\n",
      "52/52 [==============================] - 1s 14ms/step - loss: 0.3986 - accuracy: 0.8611 - val_loss: 0.5472 - val_accuracy: 0.7971\n",
      "Epoch 52/100\n",
      "52/52 [==============================] - 1s 14ms/step - loss: 0.4772 - accuracy: 0.8284 - val_loss: 0.8063 - val_accuracy: 0.7150\n",
      "Epoch 53/100\n",
      "52/52 [==============================] - 1s 14ms/step - loss: 0.3222 - accuracy: 0.8921 - val_loss: 0.8148 - val_accuracy: 0.7488\n",
      "Epoch 54/100\n",
      "52/52 [==============================] - 1s 15ms/step - loss: 0.3326 - accuracy: 0.8878 - val_loss: 0.6472 - val_accuracy: 0.7729\n",
      "Epoch 55/100\n",
      "52/52 [==============================] - 1s 14ms/step - loss: 0.2993 - accuracy: 0.8957 - val_loss: 0.5988 - val_accuracy: 0.7874\n",
      "Epoch 56/100\n",
      "52/52 [==============================] - 1s 13ms/step - loss: 0.2825 - accuracy: 0.9042 - val_loss: 0.8381 - val_accuracy: 0.7391\n",
      "Epoch 57/100\n",
      "52/52 [==============================] - 1s 13ms/step - loss: 0.2867 - accuracy: 0.9030 - val_loss: 0.6588 - val_accuracy: 0.7729\n",
      "Epoch 58/100\n",
      "52/52 [==============================] - 1s 14ms/step - loss: 0.4021 - accuracy: 0.8587 - val_loss: 0.6076 - val_accuracy: 0.7778\n",
      "Epoch 59/100\n",
      "52/52 [==============================] - 1s 13ms/step - loss: 0.2720 - accuracy: 0.9078 - val_loss: 0.4962 - val_accuracy: 0.8261\n",
      "Epoch 60/100\n",
      "52/52 [==============================] - 1s 13ms/step - loss: 0.3311 - accuracy: 0.8902 - val_loss: 0.7353 - val_accuracy: 0.7633\n",
      "Epoch 61/100\n",
      "52/52 [==============================] - 1s 14ms/step - loss: 0.2834 - accuracy: 0.9060 - val_loss: 0.9322 - val_accuracy: 0.7295\n",
      "Epoch 62/100\n",
      "52/52 [==============================] - 1s 13ms/step - loss: 0.4310 - accuracy: 0.8423 - val_loss: 0.7366 - val_accuracy: 0.7488\n",
      "Epoch 63/100\n",
      "52/52 [==============================] - 1s 13ms/step - loss: 0.2943 - accuracy: 0.8890 - val_loss: 0.5721 - val_accuracy: 0.8116\n",
      "Epoch 64/100\n",
      "52/52 [==============================] - 1s 14ms/step - loss: 0.2093 - accuracy: 0.9254 - val_loss: 0.6650 - val_accuracy: 0.7923\n",
      "Epoch 65/100\n",
      "52/52 [==============================] - 1s 13ms/step - loss: 0.2315 - accuracy: 0.9151 - val_loss: 0.5107 - val_accuracy: 0.8551\n",
      "Epoch 66/100\n",
      "52/52 [==============================] - 1s 13ms/step - loss: 0.2023 - accuracy: 0.9333 - val_loss: 0.6778 - val_accuracy: 0.8019\n",
      "Epoch 67/100\n",
      "52/52 [==============================] - 1s 14ms/step - loss: 0.2931 - accuracy: 0.8969 - val_loss: 0.5502 - val_accuracy: 0.8357\n",
      "Epoch 68/100\n",
      "52/52 [==============================] - 1s 14ms/step - loss: 0.2915 - accuracy: 0.9048 - val_loss: 0.5211 - val_accuracy: 0.8164\n",
      "Epoch 69/100\n",
      "52/52 [==============================] - 1s 15ms/step - loss: 0.2663 - accuracy: 0.8975 - val_loss: 0.7137 - val_accuracy: 0.7826\n",
      "Epoch 70/100\n",
      "52/52 [==============================] - 1s 13ms/step - loss: 0.2394 - accuracy: 0.9212 - val_loss: 0.5517 - val_accuracy: 0.8068\n",
      "Epoch 71/100\n",
      "52/52 [==============================] - 1s 13ms/step - loss: 0.1824 - accuracy: 0.9351 - val_loss: 0.7544 - val_accuracy: 0.7826\n",
      "Epoch 72/100\n",
      "52/52 [==============================] - 1s 13ms/step - loss: 0.2102 - accuracy: 0.9278 - val_loss: 0.7526 - val_accuracy: 0.7826\n",
      "Epoch 73/100\n",
      "52/52 [==============================] - 1s 14ms/step - loss: 0.5920 - accuracy: 0.7871 - val_loss: 0.5875 - val_accuracy: 0.7971\n",
      "Epoch 74/100\n",
      "52/52 [==============================] - 1s 13ms/step - loss: 0.2253 - accuracy: 0.9224 - val_loss: 0.5228 - val_accuracy: 0.8454\n",
      "Epoch 75/100\n",
      "52/52 [==============================] - 1s 14ms/step - loss: 0.1975 - accuracy: 0.9309 - val_loss: 0.5446 - val_accuracy: 0.8261\n",
      "Epoch 76/100\n",
      "52/52 [==============================] - 1s 13ms/step - loss: 0.1999 - accuracy: 0.9272 - val_loss: 0.5521 - val_accuracy: 0.8213\n",
      "Epoch 77/100\n",
      "52/52 [==============================] - 1s 12ms/step - loss: 0.2620 - accuracy: 0.9042 - val_loss: 0.5631 - val_accuracy: 0.8261\n",
      "Epoch 78/100\n",
      "52/52 [==============================] - 1s 13ms/step - loss: 0.2902 - accuracy: 0.8993 - val_loss: 0.9107 - val_accuracy: 0.7536\n",
      "Epoch 79/100\n",
      "52/52 [==============================] - 1s 13ms/step - loss: 0.1769 - accuracy: 0.9369 - val_loss: 0.5147 - val_accuracy: 0.8261\n",
      "Epoch 80/100\n",
      "52/52 [==============================] - 1s 13ms/step - loss: 0.1425 - accuracy: 0.9472 - val_loss: 0.6176 - val_accuracy: 0.8116\n",
      "Epoch 81/100\n",
      "52/52 [==============================] - 1s 14ms/step - loss: 0.2720 - accuracy: 0.9005 - val_loss: 0.6379 - val_accuracy: 0.8454\n",
      "Epoch 82/100\n",
      "52/52 [==============================] - 1s 14ms/step - loss: 0.2494 - accuracy: 0.9157 - val_loss: 0.7629 - val_accuracy: 0.7778\n",
      "Epoch 83/100\n",
      "52/52 [==============================] - 1s 13ms/step - loss: 0.1561 - accuracy: 0.9485 - val_loss: 0.6472 - val_accuracy: 0.8261\n",
      "Epoch 84/100\n",
      "52/52 [==============================] - 1s 14ms/step - loss: 0.1411 - accuracy: 0.9478 - val_loss: 0.8586 - val_accuracy: 0.7826\n",
      "Epoch 85/100\n",
      "52/52 [==============================] - 1s 13ms/step - loss: 0.1943 - accuracy: 0.9230 - val_loss: 0.4642 - val_accuracy: 0.8406\n",
      "Epoch 86/100\n",
      "52/52 [==============================] - 1s 13ms/step - loss: 0.2005 - accuracy: 0.9260 - val_loss: 0.5813 - val_accuracy: 0.8019\n",
      "Epoch 87/100\n",
      "52/52 [==============================] - 1s 14ms/step - loss: 0.1962 - accuracy: 0.9284 - val_loss: 0.6512 - val_accuracy: 0.8068\n",
      "Epoch 88/100\n",
      "52/52 [==============================] - 1s 13ms/step - loss: 0.4197 - accuracy: 0.8508 - val_loss: 0.8750 - val_accuracy: 0.7391\n",
      "Epoch 89/100\n",
      "52/52 [==============================] - 1s 13ms/step - loss: 0.2428 - accuracy: 0.9121 - val_loss: 0.7944 - val_accuracy: 0.7923\n",
      "Epoch 90/100\n",
      "52/52 [==============================] - 1s 14ms/step - loss: 0.2110 - accuracy: 0.9230 - val_loss: 0.5794 - val_accuracy: 0.8406\n",
      "Epoch 91/100\n",
      "52/52 [==============================] - 1s 13ms/step - loss: 0.1123 - accuracy: 0.9642 - val_loss: 0.7574 - val_accuracy: 0.7778\n",
      "Epoch 92/100\n",
      "52/52 [==============================] - 1s 13ms/step - loss: 0.1390 - accuracy: 0.9521 - val_loss: 0.4738 - val_accuracy: 0.8502\n",
      "Epoch 93/100\n",
      "52/52 [==============================] - 1s 14ms/step - loss: 0.1052 - accuracy: 0.9685 - val_loss: 0.5204 - val_accuracy: 0.8454\n",
      "Epoch 94/100\n",
      "52/52 [==============================] - 1s 13ms/step - loss: 0.1289 - accuracy: 0.9576 - val_loss: 0.5427 - val_accuracy: 0.8647\n",
      "Epoch 95/100\n",
      "52/52 [==============================] - 1s 13ms/step - loss: 0.1203 - accuracy: 0.9582 - val_loss: 0.4911 - val_accuracy: 0.8551\n",
      "Epoch 96/100\n",
      "52/52 [==============================] - 1s 16ms/step - loss: 0.1663 - accuracy: 0.9400 - val_loss: 0.6209 - val_accuracy: 0.8261\n",
      "Epoch 97/100\n",
      "52/52 [==============================] - 1s 14ms/step - loss: 0.1649 - accuracy: 0.9424 - val_loss: 0.4739 - val_accuracy: 0.8599\n",
      "Epoch 98/100\n",
      "52/52 [==============================] - 1s 14ms/step - loss: 0.0865 - accuracy: 0.9733 - val_loss: 0.6049 - val_accuracy: 0.8406\n",
      "Epoch 99/100\n",
      "52/52 [==============================] - 1s 14ms/step - loss: 0.1669 - accuracy: 0.9375 - val_loss: 0.6592 - val_accuracy: 0.8019\n",
      "Epoch 100/100\n",
      "52/52 [==============================] - 1s 13ms/step - loss: 0.2474 - accuracy: 0.9066 - val_loss: 0.6505 - val_accuracy: 0.8116\n"
     ]
    }
   ],
   "source": [
    "log = model.fit(X_train, y_train, epochs=100, validation_data=(X_valid, y_valid))"
   ]
  },
  {
   "cell_type": "markdown",
   "id": "5f20b3f0",
   "metadata": {},
   "source": [
    "Let's evaluate the model on the test data:"
   ]
  },
  {
   "cell_type": "code",
   "execution_count": 72,
   "id": "770de80b",
   "metadata": {},
   "outputs": [
    {
     "name": "stdout",
     "output_type": "stream",
     "text": [
      "7/7 [==============================] - 0s 16ms/step - loss: 0.6669 - accuracy: 0.8350\n"
     ]
    },
    {
     "data": {
      "text/plain": [
       "[0.6669211387634277, 0.8349514603614807]"
      ]
     },
     "execution_count": 72,
     "metadata": {},
     "output_type": "execute_result"
    }
   ],
   "source": [
    "model.evaluate(X_test, y_test)\n"
   ]
  },
  {
   "cell_type": "markdown",
   "id": "81220358",
   "metadata": {},
   "source": [
    "The accuracy is around 77%. Is that good or bad? Always consider what the baseline is (in this case, we have ten different outcomes on a balanced dataset, so anything more than 10% is at least better than random guessing)"
   ]
  },
  {
   "cell_type": "markdown",
   "id": "fabd2193",
   "metadata": {},
   "source": [
    "Finally, let's take a look at how the training of the model proceeded:"
   ]
  },
  {
   "cell_type": "code",
   "execution_count": 73,
   "id": "95a5fd95",
   "metadata": {},
   "outputs": [
    {
     "data": {
      "image/png": "[encoded data removed]",
      "text/plain": [
       "<Figure size 640x480 with 1 Axes>"
      ]
     },
     "metadata": {},
     "output_type": "display_data"
    }
   ],
   "source": [
    "plt.plot(log.history[\"loss\"], label=\"training loss\")\n",
    "plt.plot(log.history[\"val_loss\"], label=\"validation loss\")\n",
    "plt.legend()\n",
    "plt.show()"
   ]
  },
  {
   "cell_type": "markdown",
   "id": "7ea558da",
   "metadata": {},
   "source": [
    "You will see above that the training loss keeps decreasing, while the validation loss stagnates and eventually increases again. This is a point at which the model starts overfitting - any neural network will if you train it for long enough. But instead of taking the final model that is not ideal, why not take the best model (somewhere in the middle of the training process)? This is where callbacks come in."
   ]
  },
  {
   "cell_type": "markdown",
   "id": "dd034f90",
   "metadata": {},
   "source": [
    "## 3.1 Callbacks"
   ]
  },
  {
   "cell_type": "markdown",
   "id": "83535edc",
   "metadata": {},
   "source": [
    "The idea behind callbacks is that you might want to \"do stuff\" while training your model (for example, saving your current progress, in case your computer crashes, or saving the best model so far). We start by defining our model:"
   ]
  },
  {
   "cell_type": "code",
   "execution_count": 74,
   "id": "945b6466",
   "metadata": {},
   "outputs": [],
   "source": [
    "tf.keras.backend.clear_session()\n",
    "model = tf.keras.models.Sequential(\n",
    "    [\n",
    "        tf.keras.layers.Flatten(input_shape=(64, 64)),\n",
    "        tf.keras.layers.Dense(300, activation=\"relu\"),\n",
    "        tf.keras.layers.Dense(100, activation=\"relu\"),\n",
    "        tf.keras.layers.Dense(100, activation=\"relu\"),\n",
    "        tf.keras.layers.Dense(10, activation=\"softmax\"),\n",
    "    ]\n",
    ")\n",
    "model.compile(\n",
    "    loss=\"categorical_crossentropy\",\n",
    "    optimizer=tf.keras.optimizers.Adam(learning_rate=0.001),\n",
    "    metrics=[\"accuracy\"],\n",
    ")"
   ]
  },
  {
   "cell_type": "markdown",
   "id": "d9ce8ed4",
   "metadata": {},
   "source": [
    "Let's now create a `ModelCheckpoint`, which is a call-back that saves your model in each iteration (epoch) of training. That is, whatever you might do later on with your model, you can always get back to the trained version.\n",
    "\n",
    "In your checkpoint, you will need to specify how the model should be saved as. Moreover, if you are using `validation_data` when training your model, you can also specify `save_best_only=True`. This means, that the callback looks at your validation_loss, and only saves the model at its current state if the validation loss is better (i.e. lower) than the one in the previous saved version. Quite useful, right?"
   ]
  },
  {
   "cell_type": "code",
   "execution_count": 75,
   "id": "39d8952a",
   "metadata": {},
   "outputs": [],
   "source": [
    "checkpoint_cb = tf.keras.callbacks.ModelCheckpoint(\n",
    "    \"my_best_tf_regression_model.h5\", save_best_only=True\n",
    ")"
   ]
  },
  {
   "cell_type": "markdown",
   "id": "2cbb089a",
   "metadata": {},
   "source": [
    "Once we have generated the callback, we add it to our callback list in training, as we did for TensorBoard. Nothing else changes:"
   ]
  },
  {
   "cell_type": "code",
   "execution_count": 76,
   "id": "1bf49199",
   "metadata": {
    "scrolled": true
   },
   "outputs": [
    {
     "name": "stdout",
     "output_type": "stream",
     "text": [
      "Epoch 1/30\n",
      " 5/52 [=>............................] - ETA: 0s - loss: 3.1962 - accuracy: 0.1250 "
     ]
    },
    {
     "name": "stderr",
     "output_type": "stream",
     "text": [
      "2023-02-16 18:20:42.875221: I tensorflow/core/grappler/optimizers/custom_graph_optimizer_registry.cc:114] Plugin optimizer for device_type GPU is enabled.\n"
     ]
    },
    {
     "name": "stdout",
     "output_type": "stream",
     "text": [
      "52/52 [==============================] - 1s 16ms/step - loss: 2.5111 - accuracy: 0.1073 - val_loss: 2.2672 - val_accuracy: 0.1159\n",
      "Epoch 2/30\n",
      " 1/52 [..............................] - ETA: 0s - loss: 2.1826 - accuracy: 0.2188"
     ]
    },
    {
     "name": "stderr",
     "output_type": "stream",
     "text": [
      "2023-02-16 18:20:43.696220: I tensorflow/core/grappler/optimizers/custom_graph_optimizer_registry.cc:114] Plugin optimizer for device_type GPU is enabled.\n"
     ]
    },
    {
     "name": "stdout",
     "output_type": "stream",
     "text": [
      "52/52 [==============================] - 1s 14ms/step - loss: 2.1593 - accuracy: 0.2220 - val_loss: 2.0297 - val_accuracy: 0.2077\n",
      "Epoch 3/30\n",
      "52/52 [==============================] - 1s 13ms/step - loss: 2.0134 - accuracy: 0.2693 - val_loss: 1.8884 - val_accuracy: 0.3140\n",
      "Epoch 4/30\n",
      "52/52 [==============================] - 1s 14ms/step - loss: 1.8472 - accuracy: 0.3402 - val_loss: 1.7075 - val_accuracy: 0.3816\n",
      "Epoch 5/30\n",
      "52/52 [==============================] - 1s 14ms/step - loss: 1.5792 - accuracy: 0.4482 - val_loss: 1.4011 - val_accuracy: 0.4493\n",
      "Epoch 6/30\n",
      "52/52 [==============================] - 1s 12ms/step - loss: 1.5270 - accuracy: 0.4597 - val_loss: 1.4089 - val_accuracy: 0.4734\n",
      "Epoch 7/30\n",
      "52/52 [==============================] - 1s 13ms/step - loss: 1.3797 - accuracy: 0.5088 - val_loss: 1.9214 - val_accuracy: 0.2995\n",
      "Epoch 8/30\n",
      "52/52 [==============================] - 1s 15ms/step - loss: 1.4394 - accuracy: 0.4924 - val_loss: 1.2247 - val_accuracy: 0.5459\n",
      "Epoch 9/30\n",
      "52/52 [==============================] - 1s 13ms/step - loss: 1.0924 - accuracy: 0.6289 - val_loss: 1.0369 - val_accuracy: 0.6377\n",
      "Epoch 10/30\n",
      "52/52 [==============================] - 1s 13ms/step - loss: 1.1218 - accuracy: 0.6228 - val_loss: 1.1809 - val_accuracy: 0.5749\n",
      "Epoch 11/30\n",
      "52/52 [==============================] - 1s 13ms/step - loss: 1.0060 - accuracy: 0.6719 - val_loss: 1.2305 - val_accuracy: 0.6087\n",
      "Epoch 12/30\n",
      "52/52 [==============================] - 1s 13ms/step - loss: 1.1069 - accuracy: 0.6343 - val_loss: 0.9430 - val_accuracy: 0.6812\n",
      "Epoch 13/30\n",
      "52/52 [==============================] - 1s 14ms/step - loss: 0.8757 - accuracy: 0.7204 - val_loss: 0.9229 - val_accuracy: 0.6812\n",
      "Epoch 14/30\n",
      "52/52 [==============================] - 1s 14ms/step - loss: 0.9151 - accuracy: 0.6853 - val_loss: 0.9117 - val_accuracy: 0.6908\n",
      "Epoch 15/30\n",
      "52/52 [==============================] - 1s 13ms/step - loss: 0.8184 - accuracy: 0.7368 - val_loss: 0.9316 - val_accuracy: 0.6522\n",
      "Epoch 16/30\n",
      "52/52 [==============================] - 1s 14ms/step - loss: 0.8163 - accuracy: 0.7138 - val_loss: 1.0590 - val_accuracy: 0.6087\n",
      "Epoch 17/30\n",
      "52/52 [==============================] - 1s 13ms/step - loss: 0.8780 - accuracy: 0.7041 - val_loss: 0.9902 - val_accuracy: 0.6667\n",
      "Epoch 18/30\n",
      "52/52 [==============================] - 1s 14ms/step - loss: 0.7483 - accuracy: 0.7562 - val_loss: 0.7942 - val_accuracy: 0.7246\n",
      "Epoch 19/30\n",
      "52/52 [==============================] - 1s 15ms/step - loss: 0.6722 - accuracy: 0.7926 - val_loss: 1.2199 - val_accuracy: 0.5797\n",
      "Epoch 20/30\n",
      "52/52 [==============================] - 1s 13ms/step - loss: 0.8414 - accuracy: 0.7119 - val_loss: 0.8319 - val_accuracy: 0.7198\n",
      "Epoch 21/30\n",
      "52/52 [==============================] - 1s 13ms/step - loss: 0.7685 - accuracy: 0.7526 - val_loss: 0.8529 - val_accuracy: 0.7150\n",
      "Epoch 22/30\n",
      "52/52 [==============================] - 1s 13ms/step - loss: 0.6961 - accuracy: 0.7732 - val_loss: 0.9673 - val_accuracy: 0.6570\n",
      "Epoch 23/30\n",
      "52/52 [==============================] - 1s 12ms/step - loss: 0.7523 - accuracy: 0.7350 - val_loss: 0.8675 - val_accuracy: 0.6667\n",
      "Epoch 24/30\n",
      "52/52 [==============================] - 1s 13ms/step - loss: 0.8062 - accuracy: 0.7241 - val_loss: 0.7952 - val_accuracy: 0.7246\n",
      "Epoch 25/30\n",
      "52/52 [==============================] - 1s 14ms/step - loss: 0.6067 - accuracy: 0.7993 - val_loss: 0.6898 - val_accuracy: 0.7681\n",
      "Epoch 26/30\n",
      "52/52 [==============================] - 1s 13ms/step - loss: 0.5864 - accuracy: 0.7999 - val_loss: 0.7551 - val_accuracy: 0.7536\n",
      "Epoch 27/30\n",
      "52/52 [==============================] - 1s 13ms/step - loss: 0.6186 - accuracy: 0.7999 - val_loss: 0.6700 - val_accuracy: 0.7729\n",
      "Epoch 28/30\n",
      "52/52 [==============================] - 1s 14ms/step - loss: 0.5346 - accuracy: 0.8235 - val_loss: 0.8570 - val_accuracy: 0.7246\n",
      "Epoch 29/30\n",
      "52/52 [==============================] - 1s 13ms/step - loss: 0.5491 - accuracy: 0.8199 - val_loss: 0.7798 - val_accuracy: 0.7053\n",
      "Epoch 30/30\n",
      "52/52 [==============================] - 1s 12ms/step - loss: 0.6356 - accuracy: 0.7817 - val_loss: 0.6872 - val_accuracy: 0.7585\n"
     ]
    }
   ],
   "source": [
    "history = model.fit(\n",
    "    X_train,\n",
    "    y_train,\n",
    "    epochs=30,\n",
    "    validation_data=(X_valid, y_valid),\n",
    "    callbacks=[checkpoint_cb],\n",
    ")"
   ]
  },
  {
   "cell_type": "markdown",
   "id": "004c983f",
   "metadata": {},
   "source": [
    "You can now run `tf.keras.models.load_model(\"my_best_tf_regression_model.h5\")` to call up the version of your model that had the best validation loss:"
   ]
  },
  {
   "cell_type": "code",
   "execution_count": 77,
   "id": "ebdb3be5",
   "metadata": {},
   "outputs": [],
   "source": [
    "model = tf.keras.models.load_model(\"my_best_tf_regression_model.h5\")\n"
   ]
  },
  {
   "cell_type": "markdown",
   "id": "f51941f9",
   "metadata": {},
   "source": [
    "Let's again evaluate the model:"
   ]
  },
  {
   "cell_type": "code",
   "execution_count": 78,
   "id": "fb945137",
   "metadata": {},
   "outputs": [
    {
     "name": "stdout",
     "output_type": "stream",
     "text": [
      "7/7 [==============================] - 0s 12ms/step - loss: 0.6195 - accuracy: 0.7961\n"
     ]
    },
    {
     "name": "stderr",
     "output_type": "stream",
     "text": [
      "2023-02-16 18:21:04.228240: I tensorflow/core/grappler/optimizers/custom_graph_optimizer_registry.cc:114] Plugin optimizer for device_type GPU is enabled.\n"
     ]
    },
    {
     "data": {
      "text/plain": [
       "[0.6194944381713867, 0.7961165308952332]"
      ]
     },
     "execution_count": 78,
     "metadata": {},
     "output_type": "execute_result"
    }
   ],
   "source": [
    "model.evaluate(X_test, y_test)\n"
   ]
  },
  {
   "cell_type": "markdown",
   "id": "dcda3835",
   "metadata": {},
   "source": [
    "Not a huge imporvement here (if any), but it's a general process to keep in mind. For any (working) model, the loss on the validation set **will** go up eventually if you train the model enough - simply because there are so many parameters.\n",
    "\n",
    "Another useful callback to try out (this is left to you) is the `EarlyStopping` callback, which stops the training process if the validation loss isn't improving anymore. You can call it as follows:\n",
    "```\n",
    "early_stopping_cb = tf.keras.callbacks.EarlyStopping(patience=10, restore_best_weights=True)\n",
    "```\n",
    "\n",
    "Here, `patience` defines the number of epochs which the callback waits for improvements before stopping the training. `restore_best_weights=True` means that, once training is stopped, you get the version of the model that led to the best validation loss, not the final version of the model.\n",
    "\n",
    "You can add multiple callbacks to your model (note that the `callbacks` argument within `model.fit()` takes a list as input)."
   ]
  },
  {
   "cell_type": "markdown",
   "id": "08fd833a",
   "metadata": {},
   "source": [
    "## 3.2 Saving and loading models"
   ]
  },
  {
   "cell_type": "markdown",
   "id": "28e3b3b3",
   "metadata": {},
   "source": [
    "Sometimes, we need to save our models outside of callbacks (say, as part of an assignment :-)). TensorFlow enables this quite easily, for example with the following code. Once you have saved the model, check your working directory and you will find it there (as an \"h5\" file)."
   ]
  },
  {
   "cell_type": "code",
   "execution_count": 79,
   "id": "1f99b116",
   "metadata": {},
   "outputs": [],
   "source": [
    "model.save(\"my_tf_regression_model.h5\")\n"
   ]
  },
  {
   "cell_type": "markdown",
   "id": "9f8d8581",
   "metadata": {},
   "source": [
    "We can now call up the (trained) model, just as easily:"
   ]
  },
  {
   "cell_type": "code",
   "execution_count": 80,
   "id": "f8a3909b",
   "metadata": {},
   "outputs": [],
   "source": [
    "saved_model = tf.keras.models.load_model(\"my_tf_regression_model.h5\")\n"
   ]
  },
  {
   "cell_type": "markdown",
   "id": "d348254c",
   "metadata": {},
   "source": [
    "Verify that this is the trained model by running the predictions on it. You should get the same result as with the original model:"
   ]
  },
  {
   "cell_type": "code",
   "execution_count": 81,
   "id": "d167f3e6",
   "metadata": {},
   "outputs": [
    {
     "data": {
      "text/plain": [
       "(206, 64, 64)"
      ]
     },
     "execution_count": 81,
     "metadata": {},
     "output_type": "execute_result"
    }
   ],
   "source": [
    "X_test.shape\n"
   ]
  },
  {
   "cell_type": "code",
   "execution_count": 82,
   "id": "7290b415",
   "metadata": {},
   "outputs": [
    {
     "name": "stdout",
     "output_type": "stream",
     "text": [
      "1/1 [==============================] - 0s 72ms/step\n",
      "1/1 [==============================] - 0s 45ms/step\n",
      "Predicted probabilities with original model: [[0.00248232 0.00131635 0.04237565 0.03682883 0.02725528 0.14213373\n",
      "  0.00986347 0.05277275 0.68174815 0.00322352]]\n",
      "Predicted probabilities with saved model: [[0.00248232 0.00131635 0.04237565 0.03682883 0.02725528 0.14213373\n",
      "  0.00986347 0.05277275 0.68174815 0.00322352]]\n"
     ]
    },
    {
     "name": "stderr",
     "output_type": "stream",
     "text": [
      "2023-02-16 18:22:41.346429: I tensorflow/core/grappler/optimizers/custom_graph_optimizer_registry.cc:114] Plugin optimizer for device_type GPU is enabled.\n",
      "2023-02-16 18:22:41.425019: I tensorflow/core/grappler/optimizers/custom_graph_optimizer_registry.cc:114] Plugin optimizer for device_type GPU is enabled.\n"
     ]
    }
   ],
   "source": [
    "X_new = X_test[:1, :, :]\n",
    "y_predict_original = model.predict(X_new)\n",
    "y_predict_saved = saved_model.predict(X_new)\n",
    "print(\"Predicted probabilities with original model: \" + str(y_predict_original))\n",
    "print(\"Predicted probabilities with saved model: \" + str(y_predict_saved))"
   ]
  },
  {
   "cell_type": "markdown",
   "id": "1ed41e54",
   "metadata": {},
   "source": [
    "Sometimes, you might want to save only the parameters of the model, not the entire model. Again, TensorFlow allows us to save and load the parameters quite easily:"
   ]
  },
  {
   "cell_type": "code",
   "execution_count": 83,
   "id": "2603114f",
   "metadata": {},
   "outputs": [],
   "source": [
    "model.save_weights(\"my_tf_regression_weights.ckpt\")\n"
   ]
  },
  {
   "cell_type": "code",
   "execution_count": 84,
   "id": "6b3317fb",
   "metadata": {},
   "outputs": [
    {
     "data": {
      "text/plain": [
       "<tensorflow.python.checkpoint.checkpoint.CheckpointLoadStatus at 0x28410fac0>"
      ]
     },
     "execution_count": 84,
     "metadata": {},
     "output_type": "execute_result"
    }
   ],
   "source": [
    "model.load_weights(\"my_tf_regression_weights.ckpt\")\n"
   ]
  },
  {
   "cell_type": "markdown",
   "id": "68fadc12",
   "metadata": {},
   "source": [
    "## 3.3 Visualization with TensorBoard"
   ]
  },
  {
   "cell_type": "markdown",
   "id": "a288a65e",
   "metadata": {},
   "source": [
    "We will now see how we can use TensorBoard to get more in-depth visualizations of our training process and our model. Let's start by cleaning up and making some additional imports:"
   ]
  },
  {
   "cell_type": "code",
   "execution_count": 85,
   "id": "a5b4d56a",
   "metadata": {},
   "outputs": [],
   "source": [
    "tf.keras.backend.clear_session()\n"
   ]
  },
  {
   "cell_type": "code",
   "execution_count": 86,
   "id": "c012e78f",
   "metadata": {},
   "outputs": [],
   "source": [
    "import os\n",
    "import datetime\n"
   ]
  },
  {
   "cell_type": "markdown",
   "id": "07ddbc89",
   "metadata": {},
   "source": [
    "We can load TensorBoard into the Jupyter Notebook and specify where the relevant logs should be kept that are needed to visualize the training process:"
   ]
  },
  {
   "cell_type": "code",
   "execution_count": 87,
   "id": "7a12ac77",
   "metadata": {},
   "outputs": [],
   "source": [
    "%load_ext tensorboard\n",
    "logdir = os.path.join(\n",
    "    \"logs\", datetime.datetime.now().strftime(\"%Y%m%d-%H%M%S\"))\n"
   ]
  },
  {
   "cell_type": "markdown",
   "id": "b2626bdc",
   "metadata": {},
   "source": [
    "We build the same baseline model as before:"
   ]
  },
  {
   "cell_type": "code",
   "execution_count": 88,
   "id": "5f9ca7c2",
   "metadata": {},
   "outputs": [],
   "source": [
    "tf.keras.backend.clear_session()\n",
    "model = tf.keras.models.Sequential(\n",
    "    [\n",
    "        tf.keras.layers.Flatten(input_shape=(64, 64)),\n",
    "        tf.keras.layers.Dense(300, activation=\"relu\"),\n",
    "        tf.keras.layers.Dense(100, activation=\"relu\"),\n",
    "        tf.keras.layers.Dense(100, activation=\"relu\"),\n",
    "        tf.keras.layers.Dense(10, activation=\"softmax\"),\n",
    "    ]\n",
    ")\n",
    "model.compile(\n",
    "    loss=\"categorical_crossentropy\",\n",
    "    optimizer=tf.keras.optimizers.Adam(learning_rate=0.001),\n",
    "    metrics=[\"accuracy\"],\n",
    ")"
   ]
  },
  {
   "cell_type": "markdown",
   "id": "54f91b59",
   "metadata": {},
   "source": [
    "We train our model as before (for a bit less time), but we add another `callback`. In particular one related to the `TensorBoard`:"
   ]
  },
  {
   "cell_type": "code",
   "execution_count": 89,
   "id": "80a6a497",
   "metadata": {},
   "outputs": [
    {
     "name": "stdout",
     "output_type": "stream",
     "text": [
      "Epoch 1/50\n",
      " 3/52 [>.............................] - ETA: 1s - loss: 2.8528 - accuracy: 0.0729 "
     ]
    },
    {
     "name": "stderr",
     "output_type": "stream",
     "text": [
      "2023-02-16 18:22:53.313581: I tensorflow/core/grappler/optimizers/custom_graph_optimizer_registry.cc:114] Plugin optimizer for device_type GPU is enabled.\n"
     ]
    },
    {
     "name": "stdout",
     "output_type": "stream",
     "text": [
      "52/52 [==============================] - 1s 17ms/step - loss: 2.4519 - accuracy: 0.1116 - val_loss: 2.3152 - val_accuracy: 0.1884\n",
      "Epoch 2/50\n",
      " 5/52 [=>............................] - ETA: 0s - loss: 2.2875 - accuracy: 0.1688"
     ]
    },
    {
     "name": "stderr",
     "output_type": "stream",
     "text": [
      "2023-02-16 18:22:54.217569: I tensorflow/core/grappler/optimizers/custom_graph_optimizer_registry.cc:114] Plugin optimizer for device_type GPU is enabled.\n"
     ]
    },
    {
     "name": "stdout",
     "output_type": "stream",
     "text": [
      "52/52 [==============================] - 1s 13ms/step - loss: 2.2578 - accuracy: 0.1922 - val_loss: 2.1717 - val_accuracy: 0.2657\n",
      "Epoch 3/50\n",
      "52/52 [==============================] - 1s 13ms/step - loss: 2.0521 - accuracy: 0.2765 - val_loss: 1.9604 - val_accuracy: 0.2464\n",
      "Epoch 4/50\n",
      "52/52 [==============================] - 1s 14ms/step - loss: 1.8265 - accuracy: 0.3329 - val_loss: 1.9267 - val_accuracy: 0.3188\n",
      "Epoch 5/50\n",
      "52/52 [==============================] - 1s 13ms/step - loss: 1.7199 - accuracy: 0.4021 - val_loss: 1.4891 - val_accuracy: 0.5411\n",
      "Epoch 6/50\n",
      "52/52 [==============================] - 1s 13ms/step - loss: 1.4757 - accuracy: 0.5039 - val_loss: 1.3959 - val_accuracy: 0.5700\n",
      "Epoch 7/50\n",
      "52/52 [==============================] - 1s 14ms/step - loss: 1.3457 - accuracy: 0.5312 - val_loss: 1.2721 - val_accuracy: 0.5411\n",
      "Epoch 8/50\n",
      "52/52 [==============================] - 1s 13ms/step - loss: 1.2373 - accuracy: 0.5706 - val_loss: 1.1491 - val_accuracy: 0.5894\n",
      "Epoch 9/50\n",
      "52/52 [==============================] - 1s 13ms/step - loss: 1.0881 - accuracy: 0.6186 - val_loss: 1.0955 - val_accuracy: 0.6377\n",
      "Epoch 10/50\n",
      "52/52 [==============================] - 1s 14ms/step - loss: 1.0947 - accuracy: 0.6167 - val_loss: 1.5021 - val_accuracy: 0.4783\n",
      "Epoch 11/50\n",
      "52/52 [==============================] - 1s 13ms/step - loss: 1.1026 - accuracy: 0.6210 - val_loss: 0.9686 - val_accuracy: 0.6425\n",
      "Epoch 12/50\n",
      "52/52 [==============================] - 1s 13ms/step - loss: 0.9089 - accuracy: 0.6980 - val_loss: 0.9928 - val_accuracy: 0.6473\n",
      "Epoch 13/50\n",
      "52/52 [==============================] - 1s 14ms/step - loss: 0.9565 - accuracy: 0.6780 - val_loss: 0.9859 - val_accuracy: 0.6280\n",
      "Epoch 14/50\n",
      "52/52 [==============================] - 1s 13ms/step - loss: 0.8952 - accuracy: 0.7016 - val_loss: 0.9519 - val_accuracy: 0.6377\n",
      "Epoch 15/50\n",
      "52/52 [==============================] - 1s 13ms/step - loss: 0.8288 - accuracy: 0.7223 - val_loss: 1.0107 - val_accuracy: 0.6135\n",
      "Epoch 16/50\n",
      "52/52 [==============================] - 1s 14ms/step - loss: 0.8917 - accuracy: 0.7059 - val_loss: 0.8826 - val_accuracy: 0.7343\n",
      "Epoch 17/50\n",
      "52/52 [==============================] - 1s 13ms/step - loss: 0.8461 - accuracy: 0.7180 - val_loss: 0.8121 - val_accuracy: 0.7343\n",
      "Epoch 18/50\n",
      "52/52 [==============================] - 1s 13ms/step - loss: 0.7822 - accuracy: 0.7344 - val_loss: 0.9074 - val_accuracy: 0.6908\n",
      "Epoch 19/50\n",
      "52/52 [==============================] - 1s 13ms/step - loss: 0.7428 - accuracy: 0.7611 - val_loss: 0.7929 - val_accuracy: 0.7198\n",
      "Epoch 20/50\n",
      "52/52 [==============================] - 1s 13ms/step - loss: 0.6489 - accuracy: 0.7950 - val_loss: 0.8187 - val_accuracy: 0.7053\n",
      "Epoch 21/50\n",
      "52/52 [==============================] - 1s 13ms/step - loss: 0.7285 - accuracy: 0.7611 - val_loss: 0.7958 - val_accuracy: 0.7246\n",
      "Epoch 22/50\n",
      "52/52 [==============================] - 1s 13ms/step - loss: 0.6280 - accuracy: 0.7914 - val_loss: 0.7979 - val_accuracy: 0.7246\n",
      "Epoch 23/50\n",
      "52/52 [==============================] - 1s 13ms/step - loss: 0.5869 - accuracy: 0.8096 - val_loss: 0.8250 - val_accuracy: 0.7246\n",
      "Epoch 24/50\n",
      "52/52 [==============================] - 1s 13ms/step - loss: 0.6194 - accuracy: 0.7993 - val_loss: 0.6319 - val_accuracy: 0.7923\n",
      "Epoch 25/50\n",
      "52/52 [==============================] - 1s 13ms/step - loss: 0.6058 - accuracy: 0.8041 - val_loss: 0.8211 - val_accuracy: 0.7053\n",
      "Epoch 26/50\n",
      "52/52 [==============================] - 1s 13ms/step - loss: 0.6093 - accuracy: 0.7926 - val_loss: 0.6823 - val_accuracy: 0.7440\n",
      "Epoch 27/50\n",
      "52/52 [==============================] - 1s 14ms/step - loss: 0.5600 - accuracy: 0.8102 - val_loss: 0.6823 - val_accuracy: 0.7729\n",
      "Epoch 28/50\n",
      "52/52 [==============================] - 1s 13ms/step - loss: 0.5666 - accuracy: 0.7993 - val_loss: 0.6788 - val_accuracy: 0.7585\n",
      "Epoch 29/50\n",
      "52/52 [==============================] - 1s 13ms/step - loss: 0.5269 - accuracy: 0.8308 - val_loss: 0.9897 - val_accuracy: 0.6860\n",
      "Epoch 30/50\n",
      "52/52 [==============================] - 1s 13ms/step - loss: 0.6488 - accuracy: 0.7738 - val_loss: 0.6859 - val_accuracy: 0.7681\n",
      "Epoch 31/50\n",
      "52/52 [==============================] - 1s 13ms/step - loss: 0.4996 - accuracy: 0.8363 - val_loss: 1.0559 - val_accuracy: 0.6715\n",
      "Epoch 32/50\n",
      "52/52 [==============================] - 1s 13ms/step - loss: 0.4967 - accuracy: 0.8290 - val_loss: 0.6971 - val_accuracy: 0.7440\n",
      "Epoch 33/50\n",
      "52/52 [==============================] - 1s 14ms/step - loss: 0.4987 - accuracy: 0.8229 - val_loss: 0.6141 - val_accuracy: 0.7923\n",
      "Epoch 34/50\n",
      "52/52 [==============================] - 1s 13ms/step - loss: 0.5050 - accuracy: 0.8253 - val_loss: 0.6124 - val_accuracy: 0.7826\n",
      "Epoch 35/50\n",
      "52/52 [==============================] - 1s 13ms/step - loss: 0.4644 - accuracy: 0.8460 - val_loss: 0.7197 - val_accuracy: 0.7391\n",
      "Epoch 36/50\n",
      "52/52 [==============================] - 1s 14ms/step - loss: 0.4823 - accuracy: 0.8326 - val_loss: 0.6198 - val_accuracy: 0.7681\n",
      "Epoch 37/50\n",
      "52/52 [==============================] - 1s 13ms/step - loss: 0.4825 - accuracy: 0.8338 - val_loss: 0.7473 - val_accuracy: 0.7585\n",
      "Epoch 38/50\n",
      "52/52 [==============================] - 1s 13ms/step - loss: 0.5217 - accuracy: 0.8211 - val_loss: 0.6502 - val_accuracy: 0.7778\n",
      "Epoch 39/50\n",
      "52/52 [==============================] - 1s 14ms/step - loss: 0.4276 - accuracy: 0.8526 - val_loss: 0.6448 - val_accuracy: 0.8019\n",
      "Epoch 40/50\n",
      "52/52 [==============================] - 1s 13ms/step - loss: 0.4236 - accuracy: 0.8587 - val_loss: 0.7261 - val_accuracy: 0.7391\n",
      "Epoch 41/50\n",
      "52/52 [==============================] - 1s 13ms/step - loss: 0.4329 - accuracy: 0.8526 - val_loss: 1.0044 - val_accuracy: 0.7005\n",
      "Epoch 42/50\n",
      "52/52 [==============================] - 1s 14ms/step - loss: 0.4135 - accuracy: 0.8623 - val_loss: 0.7016 - val_accuracy: 0.7536\n",
      "Epoch 43/50\n",
      "52/52 [==============================] - 1s 13ms/step - loss: 0.4054 - accuracy: 0.8642 - val_loss: 0.7757 - val_accuracy: 0.7150\n",
      "Epoch 44/50\n",
      "52/52 [==============================] - 1s 13ms/step - loss: 0.4230 - accuracy: 0.8502 - val_loss: 0.6767 - val_accuracy: 0.7729\n",
      "Epoch 45/50\n",
      "52/52 [==============================] - 1s 14ms/step - loss: 0.3584 - accuracy: 0.8878 - val_loss: 0.5676 - val_accuracy: 0.8213\n",
      "Epoch 46/50\n",
      "52/52 [==============================] - 1s 13ms/step - loss: 0.3180 - accuracy: 0.8957 - val_loss: 0.6735 - val_accuracy: 0.7729\n",
      "Epoch 47/50\n",
      "52/52 [==============================] - 1s 13ms/step - loss: 0.4474 - accuracy: 0.8399 - val_loss: 0.6339 - val_accuracy: 0.7681\n",
      "Epoch 48/50\n",
      "52/52 [==============================] - 1s 13ms/step - loss: 0.4380 - accuracy: 0.8435 - val_loss: 0.8022 - val_accuracy: 0.7440\n",
      "Epoch 49/50\n",
      "52/52 [==============================] - 1s 13ms/step - loss: 0.3991 - accuracy: 0.8545 - val_loss: 0.7601 - val_accuracy: 0.7488\n",
      "Epoch 50/50\n",
      "52/52 [==============================] - 1s 13ms/step - loss: 0.3673 - accuracy: 0.8733 - val_loss: 0.5879 - val_accuracy: 0.7729\n"
     ]
    }
   ],
   "source": [
    "tensorboard_cb = tf.keras.callbacks.TensorBoard(logdir)\n",
    "history = model.fit(\n",
    "    X_train,\n",
    "    y_train,\n",
    "    epochs=50,\n",
    "    validation_data=(X_valid, y_valid),\n",
    "    callbacks=[tensorboard_cb],\n",
    ")"
   ]
  },
  {
   "cell_type": "markdown",
   "id": "49a5b3c0",
   "metadata": {},
   "source": [
    "In the training process, nothing has chaged, except that you will now find a log-folder in your working directory. We can call upon that log to display the TensorBoard as follows (if you get an error, keep reading below)"
   ]
  },
  {
   "cell_type": "code",
   "execution_count": 90,
   "id": "2673a64d",
   "metadata": {},
   "outputs": [
    {
     "data": {
      "text/html": [
       "\n",
       "      <iframe id=\"tensorboard-frame-7d45525c8208734\" width=\"100%\" height=\"800\" frameborder=\"0\">\n",
       "      </iframe>\n",
       "      <script>\n",
       "        (function() {\n",
       "          const frame = document.getElementById(\"tensorboard-frame-7d45525c8208734\");\n",
       "          const url = new URL(\"/\", window.location);\n",
       "          const port = 6006;\n",
       "          if (port) {\n",
       "            url.port = port;\n",
       "          }\n",
       "          frame.src = url;\n",
       "        })();\n",
       "      </script>\n",
       "    "
      ],
      "text/plain": [
       "<IPython.core.display.HTML object>"
      ]
     },
     "metadata": {},
     "output_type": "display_data"
    }
   ],
   "source": [
    "%tensorboard - -logdir logs\n"
   ]
  },
  {
   "cell_type": "markdown",
   "id": "cb700092",
   "metadata": {},
   "source": [
    "You may run into an issue here because of a conflict between TensorBoard and the environment you are using. If this is the case, you need to specify exactly where TensorBoard can be found. It should be within your environment's folder, under \"bin\". You can find an example below. Uncomment the next lines and adjust your path accordingly:"
   ]
  },
  {
   "cell_type": "code",
   "execution_count": 91,
   "id": "42b4e7c6",
   "metadata": {},
   "outputs": [
    {
     "data": {
      "text/plain": [
       "Reusing TensorBoard on port 6006 (pid 5068), started 0:00:01 ago. (Use '!kill 5068' to kill it.)"
      ]
     },
     "metadata": {},
     "output_type": "display_data"
    },
    {
     "data": {
      "text/html": [
       "\n",
       "      <iframe id=\"tensorboard-frame-80e8295fdf6fbcaa\" width=\"100%\" height=\"800\" frameborder=\"0\">\n",
       "      </iframe>\n",
       "      <script>\n",
       "        (function() {\n",
       "          const frame = document.getElementById(\"tensorboard-frame-80e8295fdf6fbcaa\");\n",
       "          const url = new URL(\"http://localhost\");\n",
       "          const port = 6006;\n",
       "          if (port) {\n",
       "            url.port = port;\n",
       "          }\n",
       "          frame.src = url;\n",
       "        })();\n",
       "      </script>\n",
       "    "
      ],
      "text/plain": [
       "<IPython.core.display.HTML object>"
      ]
     },
     "metadata": {},
     "output_type": "display_data"
    }
   ],
   "source": [
    "os.environ['TENSORBOARD_BINARY'] = '/Users/username/anaconda3/envs/adl_env/bin/tensorboard'\n",
    "%tensorboard - -logdir logs\n"
   ]
  },
  {
   "cell_type": "markdown",
   "id": "ead043ab",
   "metadata": {},
   "source": [
    "Enjoy exploring the TensorBoard. We will see later that we can still add a lot more functionality to it. It is particularly nice for comparing different models."
   ]
  },
  {
   "cell_type": "markdown",
   "id": "f570d847",
   "metadata": {},
   "source": [
    "# 4. Exercise: some fundamentals of TensorFlow"
   ]
  },
  {
   "cell_type": "markdown",
   "id": "c2bc5cad",
   "metadata": {},
   "source": [
    "## 4.1 Creating tensors"
   ]
  },
  {
   "cell_type": "markdown",
   "id": "00797399",
   "metadata": {},
   "source": [
    "There are two types of \"variables\" in TensorFlow that you might work with. Actual variables, `tf.Variables`, which can be changed once they have been set, as well as constants , `tf.constant`, which cannot be changed anymore. Let's create a random array of data `X`, as well as parameter matrices `W` and `b`. Can you see why we would use `tf.constant` for `X` and `tf.Variable` for `W` and `b`?"
   ]
  },
  {
   "cell_type": "code",
   "execution_count": 122,
   "id": "40cda2ee",
   "metadata": {},
   "outputs": [
    {
     "data": {
      "text/plain": [
       "TensorShape([100, 5])"
      ]
     },
     "execution_count": 122,
     "metadata": {},
     "output_type": "execute_result"
    }
   ],
   "source": [
    "X = tf.constant(np.random.randn(100, 5), name=\"X\")\n",
    "X.shape"
   ]
  },
  {
   "cell_type": "markdown",
   "id": "723fc939",
   "metadata": {},
   "source": [
    "Note that the \"tensor\" we create has exactly the dimension of the numpy array we use to initialize it. TensorFlow allows you to use `numpy` data quite seamlessly."
   ]
  },
  {
   "cell_type": "code",
   "execution_count": 123,
   "id": "bece0cf9",
   "metadata": {},
   "outputs": [
    {
     "data": {
      "text/plain": [
       "TensorShape([5, 3])"
      ]
     },
     "execution_count": 123,
     "metadata": {},
     "output_type": "execute_result"
    }
   ],
   "source": [
    "W = tf.Variable(np.random.randn(5, 3), name=\"W\")\n",
    "W.shape"
   ]
  },
  {
   "cell_type": "code",
   "execution_count": 109,
   "id": "132289fd",
   "metadata": {},
   "outputs": [
    {
     "data": {
      "text/plain": [
       "TensorShape([1, 3])"
      ]
     },
     "execution_count": 109,
     "metadata": {},
     "output_type": "execute_result"
    }
   ],
   "source": [
    "b = tf.Variable(np.random.randn(1, 3), name=\"b\")\n",
    "b.shape"
   ]
  },
  {
   "cell_type": "markdown",
   "id": "c431a734",
   "metadata": {},
   "source": [
    "## 4.2 Basic operations on tensors"
   ]
  },
  {
   "cell_type": "markdown",
   "id": "8cbe51e1",
   "metadata": {},
   "source": [
    "Let's now perform some basic operations on tensors. These work essentially the same way as in `numpy` (e.g., the typical rules of matrix-multiplication apply when we use `tf.matmul`), just that we have to learn a few different key-words:"
   ]
  },
  {
   "cell_type": "code",
   "execution_count": 125,
   "id": "b78743e9",
   "metadata": {},
   "outputs": [
    {
     "data": {
      "text/plain": [
       "<tf.Tensor: shape=(100, 3), dtype=float64, numpy=\n",
       "array([[ 0.04778361, -0.7583209 , -1.94854853],\n",
       "       [-1.99228922,  1.43112897,  0.49306968],\n",
       "       [ 0.82832566, -2.24884802, -1.95195071],\n",
       "       [-1.8965805 ,  3.98909158,  0.86657584],\n",
       "       [-4.75781487,  3.06433959,  0.75654319],\n",
       "       [-0.95825038, -0.61631017, -0.47197544],\n",
       "       [-4.03801226,  2.17252224,  1.72759381],\n",
       "       [-0.81533436, -0.14413606, -1.6967775 ],\n",
       "       [-1.93175928,  2.03832908,  0.20393574],\n",
       "       [-0.31627174, -2.21212385, -2.70764564],\n",
       "       [-3.2917586 , -0.80287317, -1.46736335],\n",
       "       [-3.91649074,  1.75705373,  1.3321897 ],\n",
       "       [-3.67310178,  0.4847446 , -0.40057471],\n",
       "       [-0.10853323, -0.92473739, -1.22320953],\n",
       "       [-2.08107737,  0.3461194 , -0.74864962],\n",
       "       [-3.39116931,  6.00298259,  2.51764545],\n",
       "       [-4.45491118,  4.66343834,  0.91724989],\n",
       "       [-2.80049451,  1.61785876, -0.23577695],\n",
       "       [-2.55537244,  0.8449478 ,  0.27398547],\n",
       "       [-4.77915628,  1.31408533,  1.21907421],\n",
       "       [-3.13769148,  5.77776109,  1.74192186],\n",
       "       [-1.6900625 ,  0.86167154, -0.36153493],\n",
       "       [-1.98921372,  1.05506832, -0.07077906],\n",
       "       [-2.57047771,  0.70115815,  0.40691627],\n",
       "       [-1.40149113, -1.16346201, -0.78338595],\n",
       "       [-4.13499658,  4.18897064,  3.16222392],\n",
       "       [-2.27027454, -1.10084854, -1.0546087 ],\n",
       "       [-1.91130836, -3.59039851, -1.91660791],\n",
       "       [-4.97760346,  0.83700689,  0.11446115],\n",
       "       [-2.91953298,  1.22070078,  0.90416058],\n",
       "       [-3.58053077, -1.06549772, -0.98385772],\n",
       "       [-0.58038048,  0.65801645, -2.8095281 ],\n",
       "       [-1.35153703, -0.78627309, -1.00492722],\n",
       "       [-0.65381592, -0.58875793, -0.86107897],\n",
       "       [-1.79313774,  2.28337352, -0.58298032],\n",
       "       [-0.56366512, -3.77486965, -3.26573438],\n",
       "       [-2.53878793,  1.7299844 ,  1.40279451],\n",
       "       [-2.28844245, -1.67282769, -1.62218224],\n",
       "       [-2.28990534,  0.59422665,  0.64192113],\n",
       "       [-1.98523276,  1.76384318,  2.4275023 ],\n",
       "       [-2.11963145,  2.79963077,  0.15284967],\n",
       "       [-3.38763616,  4.74597561,  1.36474699],\n",
       "       [-1.69868626,  4.3209774 ,  0.35476588],\n",
       "       [-2.97531824, -4.73456684, -1.51212198],\n",
       "       [-0.10504842, -1.95379783, -2.18481824],\n",
       "       [-1.2990518 , -0.10065104,  1.36968673],\n",
       "       [-2.24572493,  0.95328166, -0.95457096],\n",
       "       [-2.35502671,  1.8761844 , -0.33042164],\n",
       "       [-1.90244507, -2.90805559, -3.41352671],\n",
       "       [-2.36145513, -0.02041702, -0.24870086],\n",
       "       [-2.57672949,  2.14047117, -0.84321162],\n",
       "       [-3.02785054,  5.78845979,  1.41300325],\n",
       "       [-2.57735743, -0.06619664, -0.47816874],\n",
       "       [-1.74281762, -1.00396149, -1.08337677],\n",
       "       [-0.210517  , -2.01125821, -2.36154577],\n",
       "       [ 0.57679765, -1.29540124, -1.50472796],\n",
       "       [-2.0800637 ,  5.229549  ,  1.9645335 ],\n",
       "       [-4.03798443,  4.43765003,  1.39431963],\n",
       "       [-4.43348346,  0.83133433,  0.19908032],\n",
       "       [-3.06107416,  3.51775304,  0.96105298],\n",
       "       [-1.99762925,  2.50644413,  0.47416324],\n",
       "       [ 1.16802263, -1.76849032, -1.62326789],\n",
       "       [-0.85552745, -0.41837304, -1.49047756],\n",
       "       [-1.24778752, -1.67918468, -0.90947842],\n",
       "       [-1.71669735, -2.02124391, -2.39183859],\n",
       "       [-3.11309733,  2.54632127,  0.91514376],\n",
       "       [-0.02444298,  1.93934541,  1.47813089],\n",
       "       [-1.37671916,  2.60968797, -0.30048652],\n",
       "       [-2.99939276,  2.85457956,  0.15350276],\n",
       "       [-5.32574811,  3.86319155,  2.63676844],\n",
       "       [-2.1321226 , -0.83656173, -1.50566589],\n",
       "       [-2.73256807, -0.22081785, -0.99510147],\n",
       "       [-1.6519991 ,  3.5696003 ,  0.03571406],\n",
       "       [-1.54039972, -3.82702523, -1.59412883],\n",
       "       [-2.33422474,  2.71956879, -0.88415108],\n",
       "       [-3.10801831,  2.91812992,  0.7759438 ],\n",
       "       [-2.40720426,  8.36064905,  2.74467788],\n",
       "       [-2.92756311, -0.22398213,  0.25714533],\n",
       "       [-2.41488627,  1.3446496 , -0.9139682 ],\n",
       "       [ 0.47738488,  1.21470017,  0.11165247],\n",
       "       [-0.92459883,  1.76210044,  0.13627619],\n",
       "       [-0.65067342, -1.46284221, -1.89391895],\n",
       "       [-0.38708973, -0.40348828, -2.01264246],\n",
       "       [-1.77567514,  3.77101222,  2.71829218],\n",
       "       [-0.87663213,  2.72401046,  2.94684646],\n",
       "       [-3.46107511,  1.11764509, -0.72593649],\n",
       "       [-1.40438562,  0.4979992 , -1.64347312],\n",
       "       [-0.24943419,  3.29983786,  0.99612185],\n",
       "       [-1.07769543, -2.82711342, -2.76285243],\n",
       "       [-2.60801966, -2.21069097, -0.57545239],\n",
       "       [-0.71512993, -1.63639117, -1.41235895],\n",
       "       [ 0.1003371 ,  0.51262487, -0.93174154],\n",
       "       [-3.62015536,  5.82525756,  2.19317299],\n",
       "       [-0.87730537, -0.8930328 , -1.00105196],\n",
       "       [-1.53015539,  0.53031695, -0.53271971],\n",
       "       [-0.4269549 , -4.42641354, -2.11255665],\n",
       "       [-2.02971807, -1.95199026,  0.01212074],\n",
       "       [-2.81546002, -0.20315134, -0.04446459],\n",
       "       [-0.36677055,  0.366555  , -0.07159268],\n",
       "       [-3.88369966,  0.84152171, -0.87199975]])>"
      ]
     },
     "execution_count": 125,
     "metadata": {},
     "output_type": "execute_result"
    }
   ],
   "source": [
    "z = tf.add(tf.matmul(X, W), b)\n",
    "z"
   ]
  },
  {
   "cell_type": "markdown",
   "id": "bcb3c1e6",
   "metadata": {},
   "source": [
    "TensorFlow has all the standard activation functions in-built, for example, the logistic sigmoid one:"
   ]
  },
  {
   "cell_type": "code",
   "execution_count": 96,
   "id": "d49214ee",
   "metadata": {},
   "outputs": [
    {
     "data": {
      "text/plain": [
       "TensorShape([100, 3])"
      ]
     },
     "execution_count": 96,
     "metadata": {},
     "output_type": "execute_result"
    }
   ],
   "source": [
    "a = tf.keras.activations.sigmoid(z)\n",
    "a.shape\n"
   ]
  },
  {
   "cell_type": "markdown",
   "id": "ef51daeb",
   "metadata": {},
   "source": [
    "Something that numpy cannot do, but that TensorFlow can: retrieve the gradient:"
   ]
  },
  {
   "cell_type": "code",
   "execution_count": 97,
   "id": "f97c55d4",
   "metadata": {},
   "outputs": [
    {
     "name": "stdout",
     "output_type": "stream",
     "text": [
      "Function value tf.Tensor(9.0, shape=(), dtype=float32)\n",
      "Gradient tf.Tensor(6.0, shape=(), dtype=float32)\n"
     ]
    }
   ],
   "source": [
    "input_var = tf.Variable(initial_value=3.0)\n",
    "\n",
    "with tf.GradientTape() as tape:\n",
    "    result = tf.square(input_var)\n",
    "    \n",
    "gradient = tape.gradient(result, input_var)\n",
    "print(\"Function value\", result)\n",
    "print(\"Gradient\", gradient)"
   ]
  },
  {
   "cell_type": "markdown",
   "id": "a8814521",
   "metadata": {},
   "source": [
    "## 4.3 Type-casting"
   ]
  },
  {
   "cell_type": "markdown",
   "id": "adcb5987",
   "metadata": {},
   "source": [
    "One aspect of TensorFlow you might know from other programming languages, but which is usually taken care of for you in base Python, is that types are not automatically \"cast\". What that means is that we cannot run operations such as multiplying an integer and a float tensor. We cannot even multiply a `float32` tensor with a `float64` tensor! You can find the datatype of any tensor by printing it out, or by specifically looking at `tensor.dtype`:"
   ]
  },
  {
   "cell_type": "code",
   "execution_count": 98,
   "id": "de43641e",
   "metadata": {},
   "outputs": [
    {
     "data": {
      "text/plain": [
       "<tf.Variable 'b:0' shape=(1, 3) dtype=float64, numpy=array([[-0.48502824, -0.37853627, -0.37921518]])>"
      ]
     },
     "execution_count": 98,
     "metadata": {},
     "output_type": "execute_result"
    }
   ],
   "source": [
    "b\n"
   ]
  },
  {
   "cell_type": "code",
   "execution_count": 99,
   "id": "377afca7",
   "metadata": {},
   "outputs": [
    {
     "data": {
      "text/plain": [
       "tf.float64"
      ]
     },
     "execution_count": 99,
     "metadata": {},
     "output_type": "execute_result"
    }
   ],
   "source": [
    "b.dtype\n"
   ]
  },
  {
   "cell_type": "markdown",
   "id": "f72b18a1",
   "metadata": {},
   "source": [
    "We will now (explicitly) convert `b` from a `tf.float64` data-type (a float with 64 bits of precision), to a `tf.float32` data-type (a float with 32 bits of precision):"
   ]
  },
  {
   "cell_type": "code",
   "execution_count": 103,
   "id": "0e4223b5",
   "metadata": {},
   "outputs": [
    {
     "data": {
      "text/plain": [
       "<tf.Tensor: shape=(1, 3), dtype=float32, numpy=array([[-0.48502824, -0.37853625, -0.37921518]], dtype=float32)>"
      ]
     },
     "execution_count": 103,
     "metadata": {},
     "output_type": "execute_result"
    }
   ],
   "source": [
    "b = tf.cast(b, tf.float32)\n",
    "b"
   ]
  },
  {
   "cell_type": "markdown",
   "id": "adab1496",
   "metadata": {},
   "source": [
    "Note that `X` and `W` are still of type `tf.float64` (the default). Let's try the following:"
   ]
  },
  {
   "cell_type": "code",
   "execution_count": 104,
   "id": "104118bf",
   "metadata": {},
   "outputs": [
    {
     "ename": "InvalidArgumentError",
     "evalue": "cannot compute AddV2 as input #1(zero-based) was expected to be a double tensor but is a float tensor [Op:AddV2]",
     "output_type": "error",
     "traceback": [
      "\u001b[0;31m---------------------------------------------------------------------------\u001b[0m",
      "\u001b[0;31mInvalidArgumentError\u001b[0m                      Traceback (most recent call last)",
      "Cell \u001b[0;32mIn [104], line 1\u001b[0m\n\u001b[0;32m----> 1\u001b[0m tf\u001b[38;5;241m.\u001b[39madd(tf\u001b[38;5;241m.\u001b[39mmatmul(X,W),b)\n",
      "File \u001b[0;32m/Library/Frameworks/Python.framework/Versions/3.10/lib/python3.10/site-packages/tensorflow/python/util/traceback_utils.py:153\u001b[0m, in \u001b[0;36mfilter_traceback.<locals>.error_handler\u001b[0;34m(*args, **kwargs)\u001b[0m\n\u001b[1;32m    <a href='file:///Library/Frameworks/Python.framework/Versions/3.10/lib/python3.10/site-packages/tensorflow/python/util/traceback_utils.py?line=150'>151</a>\u001b[0m \u001b[39mexcept\u001b[39;00m \u001b[39mException\u001b[39;00m \u001b[39mas\u001b[39;00m e:\n\u001b[1;32m    <a href='file:///Library/Frameworks/Python.framework/Versions/3.10/lib/python3.10/site-packages/tensorflow/python/util/traceback_utils.py?line=151'>152</a>\u001b[0m   filtered_tb \u001b[39m=\u001b[39m _process_traceback_frames(e\u001b[39m.\u001b[39m__traceback__)\n\u001b[0;32m--> <a href='file:///Library/Frameworks/Python.framework/Versions/3.10/lib/python3.10/site-packages/tensorflow/python/util/traceback_utils.py?line=152'>153</a>\u001b[0m   \u001b[39mraise\u001b[39;00m e\u001b[39m.\u001b[39mwith_traceback(filtered_tb) \u001b[39mfrom\u001b[39;00m \u001b[39mNone\u001b[39m\n\u001b[1;32m    <a href='file:///Library/Frameworks/Python.framework/Versions/3.10/lib/python3.10/site-packages/tensorflow/python/util/traceback_utils.py?line=153'>154</a>\u001b[0m \u001b[39mfinally\u001b[39;00m:\n\u001b[1;32m    <a href='file:///Library/Frameworks/Python.framework/Versions/3.10/lib/python3.10/site-packages/tensorflow/python/util/traceback_utils.py?line=154'>155</a>\u001b[0m   \u001b[39mdel\u001b[39;00m filtered_tb\n",
      "File \u001b[0;32m/Library/Frameworks/Python.framework/Versions/3.10/lib/python3.10/site-packages/tensorflow/python/framework/ops.py:7209\u001b[0m, in \u001b[0;36mraise_from_not_ok_status\u001b[0;34m(e, name)\u001b[0m\n\u001b[1;32m   <a href='file:///Library/Frameworks/Python.framework/Versions/3.10/lib/python3.10/site-packages/tensorflow/python/framework/ops.py?line=7206'>7207</a>\u001b[0m \u001b[39mdef\u001b[39;00m \u001b[39mraise_from_not_ok_status\u001b[39m(e, name):\n\u001b[1;32m   <a href='file:///Library/Frameworks/Python.framework/Versions/3.10/lib/python3.10/site-packages/tensorflow/python/framework/ops.py?line=7207'>7208</a>\u001b[0m   e\u001b[39m.\u001b[39mmessage \u001b[39m+\u001b[39m\u001b[39m=\u001b[39m (\u001b[39m\"\u001b[39m\u001b[39m name: \u001b[39m\u001b[39m\"\u001b[39m \u001b[39m+\u001b[39m name \u001b[39mif\u001b[39;00m name \u001b[39mis\u001b[39;00m \u001b[39mnot\u001b[39;00m \u001b[39mNone\u001b[39;00m \u001b[39melse\u001b[39;00m \u001b[39m\"\u001b[39m\u001b[39m\"\u001b[39m)\n\u001b[0;32m-> <a href='file:///Library/Frameworks/Python.framework/Versions/3.10/lib/python3.10/site-packages/tensorflow/python/framework/ops.py?line=7208'>7209</a>\u001b[0m   \u001b[39mraise\u001b[39;00m core\u001b[39m.\u001b[39m_status_to_exception(e) \u001b[39mfrom\u001b[39;00m \u001b[39mNone\u001b[39m\n",
      "\u001b[0;31mInvalidArgumentError\u001b[0m: cannot compute AddV2 as input #1(zero-based) was expected to be a double tensor but is a float tensor [Op:AddV2]"
     ]
    }
   ],
   "source": [
    "tf.add(tf.matmul(X, W), b)"
   ]
  },
  {
   "cell_type": "markdown",
   "id": "9fb344ff",
   "metadata": {},
   "source": [
    "This didn't work! Let's re-cast `b` into a `tf.float64`"
   ]
  },
  {
   "cell_type": "code",
   "execution_count": 126,
   "id": "f3e977ae",
   "metadata": {},
   "outputs": [],
   "source": [
    "b = tf.cast(b, tf.float64)\n"
   ]
  },
  {
   "cell_type": "code",
   "execution_count": 127,
   "id": "a6521f04",
   "metadata": {},
   "outputs": [
    {
     "data": {
      "text/plain": [
       "tf.float64"
      ]
     },
     "execution_count": 127,
     "metadata": {},
     "output_type": "execute_result"
    }
   ],
   "source": [
    "b.dtype\n"
   ]
  },
  {
   "cell_type": "code",
   "execution_count": 128,
   "id": "7c7aeb2e",
   "metadata": {},
   "outputs": [
    {
     "data": {
      "text/plain": [
       "<tf.Tensor: shape=(100, 3), dtype=float64, numpy=\n",
       "array([[ 0.04778361, -0.7583209 , -1.94854853],\n",
       "       [-1.99228922,  1.43112897,  0.49306968],\n",
       "       [ 0.82832566, -2.24884802, -1.95195071],\n",
       "       [-1.8965805 ,  3.98909158,  0.86657584],\n",
       "       [-4.75781487,  3.06433959,  0.75654319],\n",
       "       [-0.95825038, -0.61631017, -0.47197544],\n",
       "       [-4.03801226,  2.17252224,  1.72759381],\n",
       "       [-0.81533436, -0.14413606, -1.6967775 ],\n",
       "       [-1.93175928,  2.03832908,  0.20393574],\n",
       "       [-0.31627174, -2.21212385, -2.70764564],\n",
       "       [-3.2917586 , -0.80287317, -1.46736335],\n",
       "       [-3.91649074,  1.75705373,  1.3321897 ],\n",
       "       [-3.67310178,  0.4847446 , -0.40057471],\n",
       "       [-0.10853323, -0.92473739, -1.22320953],\n",
       "       [-2.08107737,  0.3461194 , -0.74864962],\n",
       "       [-3.39116931,  6.00298259,  2.51764545],\n",
       "       [-4.45491118,  4.66343834,  0.91724989],\n",
       "       [-2.80049451,  1.61785876, -0.23577695],\n",
       "       [-2.55537244,  0.8449478 ,  0.27398547],\n",
       "       [-4.77915628,  1.31408533,  1.21907421],\n",
       "       [-3.13769148,  5.77776109,  1.74192186],\n",
       "       [-1.6900625 ,  0.86167154, -0.36153493],\n",
       "       [-1.98921372,  1.05506832, -0.07077906],\n",
       "       [-2.57047771,  0.70115815,  0.40691627],\n",
       "       [-1.40149113, -1.16346201, -0.78338595],\n",
       "       [-4.13499658,  4.18897064,  3.16222392],\n",
       "       [-2.27027454, -1.10084854, -1.0546087 ],\n",
       "       [-1.91130836, -3.59039851, -1.91660791],\n",
       "       [-4.97760346,  0.83700689,  0.11446115],\n",
       "       [-2.91953298,  1.22070078,  0.90416058],\n",
       "       [-3.58053077, -1.06549772, -0.98385772],\n",
       "       [-0.58038048,  0.65801645, -2.8095281 ],\n",
       "       [-1.35153703, -0.78627309, -1.00492722],\n",
       "       [-0.65381592, -0.58875793, -0.86107897],\n",
       "       [-1.79313774,  2.28337352, -0.58298032],\n",
       "       [-0.56366512, -3.77486965, -3.26573438],\n",
       "       [-2.53878793,  1.7299844 ,  1.40279451],\n",
       "       [-2.28844245, -1.67282769, -1.62218224],\n",
       "       [-2.28990534,  0.59422665,  0.64192113],\n",
       "       [-1.98523276,  1.76384318,  2.4275023 ],\n",
       "       [-2.11963145,  2.79963077,  0.15284967],\n",
       "       [-3.38763616,  4.74597561,  1.36474699],\n",
       "       [-1.69868626,  4.3209774 ,  0.35476588],\n",
       "       [-2.97531824, -4.73456684, -1.51212198],\n",
       "       [-0.10504842, -1.95379783, -2.18481824],\n",
       "       [-1.2990518 , -0.10065104,  1.36968673],\n",
       "       [-2.24572493,  0.95328166, -0.95457096],\n",
       "       [-2.35502671,  1.8761844 , -0.33042164],\n",
       "       [-1.90244507, -2.90805559, -3.41352671],\n",
       "       [-2.36145513, -0.02041702, -0.24870086],\n",
       "       [-2.57672949,  2.14047117, -0.84321162],\n",
       "       [-3.02785054,  5.78845979,  1.41300325],\n",
       "       [-2.57735743, -0.06619664, -0.47816874],\n",
       "       [-1.74281762, -1.00396149, -1.08337677],\n",
       "       [-0.210517  , -2.01125821, -2.36154577],\n",
       "       [ 0.57679765, -1.29540124, -1.50472796],\n",
       "       [-2.0800637 ,  5.229549  ,  1.9645335 ],\n",
       "       [-4.03798443,  4.43765003,  1.39431963],\n",
       "       [-4.43348346,  0.83133433,  0.19908032],\n",
       "       [-3.06107416,  3.51775304,  0.96105298],\n",
       "       [-1.99762925,  2.50644413,  0.47416324],\n",
       "       [ 1.16802263, -1.76849032, -1.62326789],\n",
       "       [-0.85552745, -0.41837304, -1.49047756],\n",
       "       [-1.24778752, -1.67918468, -0.90947842],\n",
       "       [-1.71669735, -2.02124391, -2.39183859],\n",
       "       [-3.11309733,  2.54632127,  0.91514376],\n",
       "       [-0.02444298,  1.93934541,  1.47813089],\n",
       "       [-1.37671916,  2.60968797, -0.30048652],\n",
       "       [-2.99939276,  2.85457956,  0.15350276],\n",
       "       [-5.32574811,  3.86319155,  2.63676844],\n",
       "       [-2.1321226 , -0.83656173, -1.50566589],\n",
       "       [-2.73256807, -0.22081785, -0.99510147],\n",
       "       [-1.6519991 ,  3.5696003 ,  0.03571406],\n",
       "       [-1.54039972, -3.82702523, -1.59412883],\n",
       "       [-2.33422474,  2.71956879, -0.88415108],\n",
       "       [-3.10801831,  2.91812992,  0.7759438 ],\n",
       "       [-2.40720426,  8.36064905,  2.74467788],\n",
       "       [-2.92756311, -0.22398213,  0.25714533],\n",
       "       [-2.41488627,  1.3446496 , -0.9139682 ],\n",
       "       [ 0.47738488,  1.21470017,  0.11165247],\n",
       "       [-0.92459883,  1.76210044,  0.13627619],\n",
       "       [-0.65067342, -1.46284221, -1.89391895],\n",
       "       [-0.38708973, -0.40348828, -2.01264246],\n",
       "       [-1.77567514,  3.77101222,  2.71829218],\n",
       "       [-0.87663213,  2.72401046,  2.94684646],\n",
       "       [-3.46107511,  1.11764509, -0.72593649],\n",
       "       [-1.40438562,  0.4979992 , -1.64347312],\n",
       "       [-0.24943419,  3.29983786,  0.99612185],\n",
       "       [-1.07769543, -2.82711342, -2.76285243],\n",
       "       [-2.60801966, -2.21069097, -0.57545239],\n",
       "       [-0.71512993, -1.63639117, -1.41235895],\n",
       "       [ 0.1003371 ,  0.51262487, -0.93174154],\n",
       "       [-3.62015536,  5.82525756,  2.19317299],\n",
       "       [-0.87730537, -0.8930328 , -1.00105196],\n",
       "       [-1.53015539,  0.53031695, -0.53271971],\n",
       "       [-0.4269549 , -4.42641354, -2.11255665],\n",
       "       [-2.02971807, -1.95199026,  0.01212074],\n",
       "       [-2.81546002, -0.20315134, -0.04446459],\n",
       "       [-0.36677055,  0.366555  , -0.07159268],\n",
       "       [-3.88369966,  0.84152171, -0.87199975]])>"
      ]
     },
     "execution_count": 128,
     "metadata": {},
     "output_type": "execute_result"
    }
   ],
   "source": [
    "tf.add(tf.matmul(X, W), b)"
   ]
  },
  {
   "cell_type": "markdown",
   "id": "76bca134",
   "metadata": {},
   "source": [
    "Now it works again!"
   ]
  },
  {
   "cell_type": "markdown",
   "id": "afcd0bf7",
   "metadata": {},
   "source": [
    "## 4.4 Some other useful operations"
   ]
  },
  {
   "cell_type": "markdown",
   "id": "3b864790",
   "metadata": {},
   "source": [
    "Let's look at `tf.one_hot` and `tf.reshape`, two operations you come across a lot when handling data in TensorFlow. Can you see what they do?"
   ]
  },
  {
   "cell_type": "code",
   "execution_count": 134,
   "id": "f6fd7423",
   "metadata": {},
   "outputs": [
    {
     "data": {
      "text/plain": [
       "<tf.Tensor: shape=(4,), dtype=float32, numpy=array([0., 0., 0., 1.], dtype=float32)>"
      ]
     },
     "execution_count": 134,
     "metadata": {},
     "output_type": "execute_result"
    }
   ],
   "source": [
    "y = tf.constant(3)\n",
    "y_one_hot = tf.one_hot(y, 4, axis=0)\n",
    "y_one_hot"
   ]
  },
  {
   "cell_type": "code",
   "execution_count": 137,
   "id": "24dc0dfa",
   "metadata": {},
   "outputs": [
    {
     "data": {
      "text/plain": [
       "<tf.Tensor: shape=(), dtype=int32, numpy=3>"
      ]
     },
     "execution_count": 137,
     "metadata": {},
     "output_type": "execute_result"
    }
   ],
   "source": [
    "y"
   ]
  },
  {
   "cell_type": "code",
   "execution_count": 158,
   "id": "47ff9e05",
   "metadata": {},
   "outputs": [
    {
     "data": {
      "text/plain": [
       "<tf.Tensor: shape=(4, 1), dtype=float32, numpy=\n",
       "array([[0.],\n",
       "       [0.],\n",
       "       [1.],\n",
       "       [0.]], dtype=float32)>"
      ]
     },
     "execution_count": 158,
     "metadata": {},
     "output_type": "execute_result"
    }
   ],
   "source": [
    "y = [2]\n",
    "y_one_hot = tf.one_hot(y, 4, axis=0)\n",
    "y_one_hot"
   ]
  },
  {
   "cell_type": "code",
   "execution_count": 159,
   "id": "debe30d3",
   "metadata": {},
   "outputs": [
    {
     "data": {
      "text/plain": [
       "<tf.Tensor: shape=(4,), dtype=float32, numpy=array([0., 0., 1., 0.], dtype=float32)>"
      ]
     },
     "execution_count": 159,
     "metadata": {},
     "output_type": "execute_result"
    }
   ],
   "source": [
    "tf.reshape(y_one_hot, (4,))"
   ]
  },
  {
   "cell_type": "markdown",
   "id": "98ba9e9e",
   "metadata": {},
   "source": [
    "# 5. Exercise: Creating a neural network for regression"
   ]
  },
  {
   "cell_type": "markdown",
   "id": "38524b01",
   "metadata": {},
   "source": [
    "We will now use a neural network for regression instead of classification. In particular, we will load a standard scikit-learn dataset that contains key characteristics of some houses in california, as well as their values (in $100,000). We will then try to predict the houses' values."
   ]
  },
  {
   "cell_type": "code",
   "execution_count": 111,
   "id": "2aacb91d",
   "metadata": {},
   "outputs": [],
   "source": [
    "from sklearn.datasets import fetch_california_housing\n",
    "from sklearn.preprocessing import StandardScaler\n",
    "import ssl\n",
    "\n",
    "ssl._create_default_https_context = ssl._create_unverified_context"
   ]
  },
  {
   "cell_type": "code",
   "execution_count": 112,
   "id": "773f46c0",
   "metadata": {},
   "outputs": [],
   "source": [
    "housing = fetch_california_housing()\n"
   ]
  },
  {
   "cell_type": "markdown",
   "id": "acb1fb09",
   "metadata": {},
   "source": [
    "The housing data comes as a dictionary: We can find the features of the data as follows:"
   ]
  },
  {
   "cell_type": "code",
   "execution_count": 113,
   "id": "8c1b83ef",
   "metadata": {},
   "outputs": [
    {
     "data": {
      "text/plain": [
       "['MedInc',\n",
       " 'HouseAge',\n",
       " 'AveRooms',\n",
       " 'AveBedrms',\n",
       " 'Population',\n",
       " 'AveOccup',\n",
       " 'Latitude',\n",
       " 'Longitude']"
      ]
     },
     "execution_count": 113,
     "metadata": {},
     "output_type": "execute_result"
    }
   ],
   "source": [
    "housing[\"feature_names\"]"
   ]
  },
  {
   "cell_type": "markdown",
   "id": "99fec7d8",
   "metadata": {},
   "source": [
    "The actual observations (or, more precisely, the feature matrix `X`) comes with the key `'data'`:"
   ]
  },
  {
   "cell_type": "code",
   "execution_count": 114,
   "id": "557acbd6",
   "metadata": {},
   "outputs": [
    {
     "data": {
      "text/plain": [
       "(20640, 8)"
      ]
     },
     "execution_count": 114,
     "metadata": {},
     "output_type": "execute_result"
    }
   ],
   "source": [
    "housing[\"data\"].shape"
   ]
  },
  {
   "cell_type": "markdown",
   "id": "990ae1bd",
   "metadata": {},
   "source": [
    "The labels come with the key `'target'`:"
   ]
  },
  {
   "cell_type": "code",
   "execution_count": 115,
   "id": "8211122b",
   "metadata": {},
   "outputs": [
    {
     "data": {
      "text/plain": [
       "(20640,)"
      ]
     },
     "execution_count": 115,
     "metadata": {},
     "output_type": "execute_result"
    }
   ],
   "source": [
    "housing[\"target\"].shape"
   ]
  },
  {
   "cell_type": "markdown",
   "id": "17d43b4b",
   "metadata": {},
   "source": [
    "As always, we start by splitting the data. We will use a training, a validation, and a testing set:"
   ]
  },
  {
   "cell_type": "code",
   "execution_count": 116,
   "id": "23bcb1ab",
   "metadata": {},
   "outputs": [
    {
     "name": "stdout",
     "output_type": "stream",
     "text": [
      "(14447, 8)\n",
      "(3097, 8)\n",
      "(3096, 8)\n"
     ]
    }
   ],
   "source": [
    "X_train, X_other, y_train, y_other = train_test_split(\n",
    "    housing[\"data\"], housing[\"target\"], train_size=0.7, random_state=461\n",
    ")\n",
    "X_test, X_valid, y_test, y_valid = train_test_split(\n",
    "    X_other, y_other, train_size=0.5, random_state=391\n",
    ")\n",
    "print(X_train.shape)\n",
    "print(X_valid.shape)\n",
    "print(X_test.shape)"
   ]
  },
  {
   "cell_type": "markdown",
   "id": "8b0b7d3f",
   "metadata": {},
   "source": [
    "Next, we normalize the X-data. Keep in mind to not use the validation or test data in defining how the scaling process works (otherwise, you can leak information about this data into your training process). You should, however, use the same scaler on validation and test data, rather than defining your own scalers here - this will work better than normalizing all data independently:\n",
    "\n",
    "\n",
    "The fit_transform method is commonly used on the training data set to learn the scaling parameters and then apply the same transformation to both the training data and the validation or test data. However, it is important to use the transform method, rather than fit_transform, on any new data sets, since we do not want to re-learn the mean and standard deviation values from these data sets."
   ]
  },
  {
   "cell_type": "code",
   "execution_count": 117,
   "id": "11d5e817",
   "metadata": {},
   "outputs": [],
   "source": [
    "scaler = StandardScaler()\n",
    "\n",
    "# calculate the mean and sd of training data, and stored them into a cache of StandardScaler()\n",
    "# then use the calculated mean and sd to scale the new data in test and validation sets \n",
    "# by appling \"transform()\"\n",
    "X_train = scaler.fit_transform(X_train)\n",
    "\n",
    "# Use transform instead of fit_transform on validation and test data \n",
    "# since we want to use the mean and standard deviation values that \n",
    "# were learned from the training data.\n",
    "X_valid = scaler.transform(X_valid)\n",
    "X_test = scaler.transform(X_test)\n"
   ]
  },
  {
   "cell_type": "markdown",
   "id": "724ad403",
   "metadata": {},
   "source": [
    "## 5.1 Building a neural network"
   ]
  },
  {
   "cell_type": "markdown",
   "id": "df214576",
   "metadata": {},
   "source": [
    "Let's clear our TensorFlow session. Even if not strictly necessary, this is good practice."
   ]
  },
  {
   "cell_type": "code",
   "execution_count": 118,
   "id": "5d85d8c1",
   "metadata": {},
   "outputs": [],
   "source": [
    "tf.keras.backend.clear_session()\n"
   ]
  },
  {
   "cell_type": "markdown",
   "id": "7b6395f9",
   "metadata": {},
   "source": [
    "Now it's your turn! Build a neural network with three `Dense` layers: two hidden layers with `'relu'` activation, and one final output layer. The hidden layers should have 10 neurons each. For the first hidden layer, you have to specify the correct `input_shape`. Recall that this corresponds to the columns in our X-data. But make sure that `input_shape` is a list or a tuple, not just a single value, otherwise there will be an error.\n",
    "\n",
    "For the output layer, consider whether we need any activation function at all. Remember that a linear regression is just a weighted sum of inputs plus a bias (sounds familiar?)\n",
    "\n",
    "Save your model as `model`.\n",
    "\n",
    "If you are stuck, first take a look at the [documentation](https://www.tensorflow.org/api_docs/python/tf/keras/layers/Dense) of the `Dense` layers."
   ]
  },
  {
   "cell_type": "code",
   "execution_count": null,
   "id": "c9637d6e",
   "metadata": {},
   "outputs": [],
   "source": [
    "\n",
    "\n",
    "\n"
   ]
  },
  {
   "cell_type": "markdown",
   "id": "49312a01",
   "metadata": {},
   "source": [
    "As always, it helps to visualize your model with the `summary()` function:"
   ]
  },
  {
   "cell_type": "code",
   "execution_count": null,
   "id": "efa065c4",
   "metadata": {},
   "outputs": [],
   "source": [
    "model.summary()\n"
   ]
  },
  {
   "cell_type": "markdown",
   "id": "2be969bd",
   "metadata": {},
   "source": [
    "As before, try to answer the following questions:\n",
    "- Do the shapes make sense to you?\n",
    "- Can you account for the number of parameters?"
   ]
  },
  {
   "cell_type": "markdown",
   "id": "27cc7344",
   "metadata": {},
   "source": [
    "Now, compile your model. We are doing regression, so it is quite natural to use `'mean_squared_error'` as the loss function.\n",
    "\n",
    "Moreover, we will us `'sgd'` as before. However, instead of specifying `optimizer = 'sgd'`, we will make a custom optimizer function, which allows us to choose our own learning rate. In particular, you should use\n",
    "```\n",
    "optimizer=tf.keras.optimizers.SGD(learning_rate=0.03))\n",
    "```\n",
    "\n",
    "Finally, since we are not doing classification, there is no accuracy to keep track of, so simply leave out the `metrics` argument."
   ]
  },
  {
   "cell_type": "code",
   "execution_count": null,
   "id": "275d60f6",
   "metadata": {},
   "outputs": [],
   "source": []
  },
  {
   "cell_type": "markdown",
   "id": "a1356000",
   "metadata": {},
   "source": [
    "Train your model for 30 epochs, also keeping track of the `validation_data`. Save the output as `log`."
   ]
  },
  {
   "cell_type": "code",
   "execution_count": null,
   "id": "bf352b4c",
   "metadata": {},
   "outputs": [],
   "source": []
  },
  {
   "cell_type": "markdown",
   "id": "7690934d",
   "metadata": {},
   "source": [
    "Use the code below to display the loss on both the training and the validation set:"
   ]
  },
  {
   "cell_type": "code",
   "execution_count": null,
   "id": "bc1d43aa",
   "metadata": {},
   "outputs": [],
   "source": [
    "plt.plot(log.history[\"loss\"], label=\"training loss\")\n",
    "plt.plot(log.history[\"val_loss\"], label=\"validation loss\")\n",
    "plt.legend()\n",
    "plt.show()"
   ]
  },
  {
   "cell_type": "markdown",
   "id": "46c7a0ba",
   "metadata": {},
   "source": [
    "We can evaluate the model on the test set directly, using `model.evaluate(X_test,y_test)`. Try it out:"
   ]
  },
  {
   "cell_type": "code",
   "execution_count": null,
   "id": "fa3dc64e",
   "metadata": {
    "scrolled": true
   },
   "outputs": [],
   "source": []
  },
  {
   "cell_type": "markdown",
   "id": "2360f4d6",
   "metadata": {},
   "source": [
    "Finally, we can take a look at some examples and see how well we are doing on those. Run the code below, and feel free to adjust the examples."
   ]
  },
  {
   "cell_type": "code",
   "execution_count": null,
   "id": "87250279",
   "metadata": {},
   "outputs": [],
   "source": [
    "X_new = X_test[:5]\n",
    "y_predict = model.predict(X_new)\n",
    "y_predict = y_predict.reshape(\n",
    "    -1,\n",
    ")\n",
    "y_predict = [round(y, 3) for y in y_predict]"
   ]
  },
  {
   "cell_type": "code",
   "execution_count": null,
   "id": "3896ab2a",
   "metadata": {},
   "outputs": [],
   "source": [
    "print(\"Predicted values: \" + str(y_predict))\n",
    "print(\"True values: \" + str(y_test[:5]))\n"
   ]
  },
  {
   "cell_type": "markdown",
   "id": "36adc085",
   "metadata": {},
   "source": [
    "Can you do better? Try tweaking the learning rate, the number of layers, and the neurons per layer to see if your validation loss improves. Once you have decided on your final model, evaluate it on the test set and note down your loss there."
   ]
  },
  {
   "cell_type": "markdown",
   "id": "a31838b2",
   "metadata": {},
   "source": [
    "# 6. Exercise: More multiclass-classification"
   ]
  },
  {
   "cell_type": "markdown",
   "id": "6c824b11",
   "metadata": {},
   "source": [
    "For this part, we will train a neural network on a dataset of fashion-products that is labeled with the categories of each product. The data is loaded directly from TensorFlow (which has quite the broad collection of datasets):"
   ]
  },
  {
   "cell_type": "code",
   "execution_count": 110,
   "id": "ce81c1ae",
   "metadata": {},
   "outputs": [
    {
     "name": "stdout",
     "output_type": "stream",
     "text": [
      "Downloading data from https://storage.googleapis.com/tensorflow/tf-keras-datasets/train-labels-idx1-ubyte.gz\n"
     ]
    },
    {
     "ename": "Exception",
     "evalue": "URL fetch failure on https://storage.googleapis.com/tensorflow/tf-keras-datasets/train-labels-idx1-ubyte.gz: None -- [SSL: CERTIFICATE_VERIFY_FAILED] certificate verify failed: unable to get local issuer certificate (_ssl.c:997)",
     "output_type": "error",
     "traceback": [
      "\u001b[0;31m---------------------------------------------------------------------------\u001b[0m",
      "\u001b[0;31mSSLCertVerificationError\u001b[0m                  Traceback (most recent call last)",
      "File \u001b[0;32m/Library/Frameworks/Python.framework/Versions/3.10/lib/python3.10/urllib/request.py:1348\u001b[0m, in \u001b[0;36mAbstractHTTPHandler.do_open\u001b[0;34m(self, http_class, req, **http_conn_args)\u001b[0m\n\u001b[1;32m   <a href='file:///Library/Frameworks/Python.framework/Versions/3.10/lib/python3.10/urllib/request.py?line=1346'>1347</a>\u001b[0m \u001b[39mtry\u001b[39;00m:\n\u001b[0;32m-> <a href='file:///Library/Frameworks/Python.framework/Versions/3.10/lib/python3.10/urllib/request.py?line=1347'>1348</a>\u001b[0m     h\u001b[39m.\u001b[39;49mrequest(req\u001b[39m.\u001b[39;49mget_method(), req\u001b[39m.\u001b[39;49mselector, req\u001b[39m.\u001b[39;49mdata, headers,\n\u001b[1;32m   <a href='file:///Library/Frameworks/Python.framework/Versions/3.10/lib/python3.10/urllib/request.py?line=1348'>1349</a>\u001b[0m               encode_chunked\u001b[39m=\u001b[39;49mreq\u001b[39m.\u001b[39;49mhas_header(\u001b[39m'\u001b[39;49m\u001b[39mTransfer-encoding\u001b[39;49m\u001b[39m'\u001b[39;49m))\n\u001b[1;32m   <a href='file:///Library/Frameworks/Python.framework/Versions/3.10/lib/python3.10/urllib/request.py?line=1349'>1350</a>\u001b[0m \u001b[39mexcept\u001b[39;00m \u001b[39mOSError\u001b[39;00m \u001b[39mas\u001b[39;00m err: \u001b[39m# timeout error\u001b[39;00m\n",
      "File \u001b[0;32m/Library/Frameworks/Python.framework/Versions/3.10/lib/python3.10/http/client.py:1282\u001b[0m, in \u001b[0;36mHTTPConnection.request\u001b[0;34m(self, method, url, body, headers, encode_chunked)\u001b[0m\n\u001b[1;32m   <a href='file:///Library/Frameworks/Python.framework/Versions/3.10/lib/python3.10/http/client.py?line=1280'>1281</a>\u001b[0m \u001b[39m\"\"\"Send a complete request to the server.\"\"\"\u001b[39;00m\n\u001b[0;32m-> <a href='file:///Library/Frameworks/Python.framework/Versions/3.10/lib/python3.10/http/client.py?line=1281'>1282</a>\u001b[0m \u001b[39mself\u001b[39;49m\u001b[39m.\u001b[39;49m_send_request(method, url, body, headers, encode_chunked)\n",
      "File \u001b[0;32m/Library/Frameworks/Python.framework/Versions/3.10/lib/python3.10/http/client.py:1328\u001b[0m, in \u001b[0;36mHTTPConnection._send_request\u001b[0;34m(self, method, url, body, headers, encode_chunked)\u001b[0m\n\u001b[1;32m   <a href='file:///Library/Frameworks/Python.framework/Versions/3.10/lib/python3.10/http/client.py?line=1326'>1327</a>\u001b[0m     body \u001b[39m=\u001b[39m _encode(body, \u001b[39m'\u001b[39m\u001b[39mbody\u001b[39m\u001b[39m'\u001b[39m)\n\u001b[0;32m-> <a href='file:///Library/Frameworks/Python.framework/Versions/3.10/lib/python3.10/http/client.py?line=1327'>1328</a>\u001b[0m \u001b[39mself\u001b[39;49m\u001b[39m.\u001b[39;49mendheaders(body, encode_chunked\u001b[39m=\u001b[39;49mencode_chunked)\n",
      "File \u001b[0;32m/Library/Frameworks/Python.framework/Versions/3.10/lib/python3.10/http/client.py:1277\u001b[0m, in \u001b[0;36mHTTPConnection.endheaders\u001b[0;34m(self, message_body, encode_chunked)\u001b[0m\n\u001b[1;32m   <a href='file:///Library/Frameworks/Python.framework/Versions/3.10/lib/python3.10/http/client.py?line=1275'>1276</a>\u001b[0m     \u001b[39mraise\u001b[39;00m CannotSendHeader()\n\u001b[0;32m-> <a href='file:///Library/Frameworks/Python.framework/Versions/3.10/lib/python3.10/http/client.py?line=1276'>1277</a>\u001b[0m \u001b[39mself\u001b[39;49m\u001b[39m.\u001b[39;49m_send_output(message_body, encode_chunked\u001b[39m=\u001b[39;49mencode_chunked)\n",
      "File \u001b[0;32m/Library/Frameworks/Python.framework/Versions/3.10/lib/python3.10/http/client.py:1037\u001b[0m, in \u001b[0;36mHTTPConnection._send_output\u001b[0;34m(self, message_body, encode_chunked)\u001b[0m\n\u001b[1;32m   <a href='file:///Library/Frameworks/Python.framework/Versions/3.10/lib/python3.10/http/client.py?line=1035'>1036</a>\u001b[0m \u001b[39mdel\u001b[39;00m \u001b[39mself\u001b[39m\u001b[39m.\u001b[39m_buffer[:]\n\u001b[0;32m-> <a href='file:///Library/Frameworks/Python.framework/Versions/3.10/lib/python3.10/http/client.py?line=1036'>1037</a>\u001b[0m \u001b[39mself\u001b[39;49m\u001b[39m.\u001b[39;49msend(msg)\n\u001b[1;32m   <a href='file:///Library/Frameworks/Python.framework/Versions/3.10/lib/python3.10/http/client.py?line=1038'>1039</a>\u001b[0m \u001b[39mif\u001b[39;00m message_body \u001b[39mis\u001b[39;00m \u001b[39mnot\u001b[39;00m \u001b[39mNone\u001b[39;00m:\n\u001b[1;32m   <a href='file:///Library/Frameworks/Python.framework/Versions/3.10/lib/python3.10/http/client.py?line=1039'>1040</a>\u001b[0m \n\u001b[1;32m   <a href='file:///Library/Frameworks/Python.framework/Versions/3.10/lib/python3.10/http/client.py?line=1040'>1041</a>\u001b[0m     \u001b[39m# create a consistent interface to message_body\u001b[39;00m\n",
      "File \u001b[0;32m/Library/Frameworks/Python.framework/Versions/3.10/lib/python3.10/http/client.py:975\u001b[0m, in \u001b[0;36mHTTPConnection.send\u001b[0;34m(self, data)\u001b[0m\n\u001b[1;32m    <a href='file:///Library/Frameworks/Python.framework/Versions/3.10/lib/python3.10/http/client.py?line=973'>974</a>\u001b[0m \u001b[39mif\u001b[39;00m \u001b[39mself\u001b[39m\u001b[39m.\u001b[39mauto_open:\n\u001b[0;32m--> <a href='file:///Library/Frameworks/Python.framework/Versions/3.10/lib/python3.10/http/client.py?line=974'>975</a>\u001b[0m     \u001b[39mself\u001b[39;49m\u001b[39m.\u001b[39;49mconnect()\n\u001b[1;32m    <a href='file:///Library/Frameworks/Python.framework/Versions/3.10/lib/python3.10/http/client.py?line=975'>976</a>\u001b[0m \u001b[39melse\u001b[39;00m:\n",
      "File \u001b[0;32m/Library/Frameworks/Python.framework/Versions/3.10/lib/python3.10/http/client.py:1454\u001b[0m, in \u001b[0;36mHTTPSConnection.connect\u001b[0;34m(self)\u001b[0m\n\u001b[1;32m   <a href='file:///Library/Frameworks/Python.framework/Versions/3.10/lib/python3.10/http/client.py?line=1451'>1452</a>\u001b[0m     server_hostname \u001b[39m=\u001b[39m \u001b[39mself\u001b[39m\u001b[39m.\u001b[39mhost\n\u001b[0;32m-> <a href='file:///Library/Frameworks/Python.framework/Versions/3.10/lib/python3.10/http/client.py?line=1453'>1454</a>\u001b[0m \u001b[39mself\u001b[39m\u001b[39m.\u001b[39msock \u001b[39m=\u001b[39m \u001b[39mself\u001b[39;49m\u001b[39m.\u001b[39;49m_context\u001b[39m.\u001b[39;49mwrap_socket(\u001b[39mself\u001b[39;49m\u001b[39m.\u001b[39;49msock,\n\u001b[1;32m   <a href='file:///Library/Frameworks/Python.framework/Versions/3.10/lib/python3.10/http/client.py?line=1454'>1455</a>\u001b[0m                                       server_hostname\u001b[39m=\u001b[39;49mserver_hostname)\n",
      "File \u001b[0;32m/Library/Frameworks/Python.framework/Versions/3.10/lib/python3.10/ssl.py:512\u001b[0m, in \u001b[0;36mSSLContext.wrap_socket\u001b[0;34m(self, sock, server_side, do_handshake_on_connect, suppress_ragged_eofs, server_hostname, session)\u001b[0m\n\u001b[1;32m    <a href='file:///Library/Frameworks/Python.framework/Versions/3.10/lib/python3.10/ssl.py?line=505'>506</a>\u001b[0m \u001b[39mdef\u001b[39;00m \u001b[39mwrap_socket\u001b[39m(\u001b[39mself\u001b[39m, sock, server_side\u001b[39m=\u001b[39m\u001b[39mFalse\u001b[39;00m,\n\u001b[1;32m    <a href='file:///Library/Frameworks/Python.framework/Versions/3.10/lib/python3.10/ssl.py?line=506'>507</a>\u001b[0m                 do_handshake_on_connect\u001b[39m=\u001b[39m\u001b[39mTrue\u001b[39;00m,\n\u001b[1;32m    <a href='file:///Library/Frameworks/Python.framework/Versions/3.10/lib/python3.10/ssl.py?line=507'>508</a>\u001b[0m                 suppress_ragged_eofs\u001b[39m=\u001b[39m\u001b[39mTrue\u001b[39;00m,\n\u001b[1;32m    <a href='file:///Library/Frameworks/Python.framework/Versions/3.10/lib/python3.10/ssl.py?line=508'>509</a>\u001b[0m                 server_hostname\u001b[39m=\u001b[39m\u001b[39mNone\u001b[39;00m, session\u001b[39m=\u001b[39m\u001b[39mNone\u001b[39;00m):\n\u001b[1;32m    <a href='file:///Library/Frameworks/Python.framework/Versions/3.10/lib/python3.10/ssl.py?line=509'>510</a>\u001b[0m     \u001b[39m# SSLSocket class handles server_hostname encoding before it calls\u001b[39;00m\n\u001b[1;32m    <a href='file:///Library/Frameworks/Python.framework/Versions/3.10/lib/python3.10/ssl.py?line=510'>511</a>\u001b[0m     \u001b[39m# ctx._wrap_socket()\u001b[39;00m\n\u001b[0;32m--> <a href='file:///Library/Frameworks/Python.framework/Versions/3.10/lib/python3.10/ssl.py?line=511'>512</a>\u001b[0m     \u001b[39mreturn\u001b[39;00m \u001b[39mself\u001b[39;49m\u001b[39m.\u001b[39;49msslsocket_class\u001b[39m.\u001b[39;49m_create(\n\u001b[1;32m    <a href='file:///Library/Frameworks/Python.framework/Versions/3.10/lib/python3.10/ssl.py?line=512'>513</a>\u001b[0m         sock\u001b[39m=\u001b[39;49msock,\n\u001b[1;32m    <a href='file:///Library/Frameworks/Python.framework/Versions/3.10/lib/python3.10/ssl.py?line=513'>514</a>\u001b[0m         server_side\u001b[39m=\u001b[39;49mserver_side,\n\u001b[1;32m    <a href='file:///Library/Frameworks/Python.framework/Versions/3.10/lib/python3.10/ssl.py?line=514'>515</a>\u001b[0m         do_handshake_on_connect\u001b[39m=\u001b[39;49mdo_handshake_on_connect,\n\u001b[1;32m    <a href='file:///Library/Frameworks/Python.framework/Versions/3.10/lib/python3.10/ssl.py?line=515'>516</a>\u001b[0m         suppress_ragged_eofs\u001b[39m=\u001b[39;49msuppress_ragged_eofs,\n\u001b[1;32m    <a href='file:///Library/Frameworks/Python.framework/Versions/3.10/lib/python3.10/ssl.py?line=516'>517</a>\u001b[0m         server_hostname\u001b[39m=\u001b[39;49mserver_hostname,\n\u001b[1;32m    <a href='file:///Library/Frameworks/Python.framework/Versions/3.10/lib/python3.10/ssl.py?line=517'>518</a>\u001b[0m         context\u001b[39m=\u001b[39;49m\u001b[39mself\u001b[39;49m,\n\u001b[1;32m    <a href='file:///Library/Frameworks/Python.framework/Versions/3.10/lib/python3.10/ssl.py?line=518'>519</a>\u001b[0m         session\u001b[39m=\u001b[39;49msession\n\u001b[1;32m    <a href='file:///Library/Frameworks/Python.framework/Versions/3.10/lib/python3.10/ssl.py?line=519'>520</a>\u001b[0m     )\n",
      "File \u001b[0;32m/Library/Frameworks/Python.framework/Versions/3.10/lib/python3.10/ssl.py:1070\u001b[0m, in \u001b[0;36mSSLSocket._create\u001b[0;34m(cls, sock, server_side, do_handshake_on_connect, suppress_ragged_eofs, server_hostname, context, session)\u001b[0m\n\u001b[1;32m   <a href='file:///Library/Frameworks/Python.framework/Versions/3.10/lib/python3.10/ssl.py?line=1068'>1069</a>\u001b[0m             \u001b[39mraise\u001b[39;00m \u001b[39mValueError\u001b[39;00m(\u001b[39m\"\u001b[39m\u001b[39mdo_handshake_on_connect should not be specified for non-blocking sockets\u001b[39m\u001b[39m\"\u001b[39m)\n\u001b[0;32m-> <a href='file:///Library/Frameworks/Python.framework/Versions/3.10/lib/python3.10/ssl.py?line=1069'>1070</a>\u001b[0m         \u001b[39mself\u001b[39;49m\u001b[39m.\u001b[39;49mdo_handshake()\n\u001b[1;32m   <a href='file:///Library/Frameworks/Python.framework/Versions/3.10/lib/python3.10/ssl.py?line=1070'>1071</a>\u001b[0m \u001b[39mexcept\u001b[39;00m (\u001b[39mOSError\u001b[39;00m, \u001b[39mValueError\u001b[39;00m):\n",
      "File \u001b[0;32m/Library/Frameworks/Python.framework/Versions/3.10/lib/python3.10/ssl.py:1341\u001b[0m, in \u001b[0;36mSSLSocket.do_handshake\u001b[0;34m(self, block)\u001b[0m\n\u001b[1;32m   <a href='file:///Library/Frameworks/Python.framework/Versions/3.10/lib/python3.10/ssl.py?line=1339'>1340</a>\u001b[0m         \u001b[39mself\u001b[39m\u001b[39m.\u001b[39msettimeout(\u001b[39mNone\u001b[39;00m)\n\u001b[0;32m-> <a href='file:///Library/Frameworks/Python.framework/Versions/3.10/lib/python3.10/ssl.py?line=1340'>1341</a>\u001b[0m     \u001b[39mself\u001b[39;49m\u001b[39m.\u001b[39;49m_sslobj\u001b[39m.\u001b[39;49mdo_handshake()\n\u001b[1;32m   <a href='file:///Library/Frameworks/Python.framework/Versions/3.10/lib/python3.10/ssl.py?line=1341'>1342</a>\u001b[0m \u001b[39mfinally\u001b[39;00m:\n",
      "\u001b[0;31mSSLCertVerificationError\u001b[0m: [SSL: CERTIFICATE_VERIFY_FAILED] certificate verify failed: unable to get local issuer certificate (_ssl.c:997)",
      "\nDuring handling of the above exception, another exception occurred:\n",
      "\u001b[0;31mURLError\u001b[0m                                  Traceback (most recent call last)",
      "File \u001b[0;32m/Library/Frameworks/Python.framework/Versions/3.10/lib/python3.10/site-packages/keras/utils/data_utils.py:296\u001b[0m, in \u001b[0;36mget_file\u001b[0;34m(fname, origin, untar, md5_hash, file_hash, cache_subdir, hash_algorithm, extract, archive_format, cache_dir)\u001b[0m\n\u001b[1;32m    <a href='file:///Library/Frameworks/Python.framework/Versions/3.10/lib/python3.10/site-packages/keras/utils/data_utils.py?line=294'>295</a>\u001b[0m \u001b[39mtry\u001b[39;00m:\n\u001b[0;32m--> <a href='file:///Library/Frameworks/Python.framework/Versions/3.10/lib/python3.10/site-packages/keras/utils/data_utils.py?line=295'>296</a>\u001b[0m     urlretrieve(origin, fpath, DLProgbar())\n\u001b[1;32m    <a href='file:///Library/Frameworks/Python.framework/Versions/3.10/lib/python3.10/site-packages/keras/utils/data_utils.py?line=296'>297</a>\u001b[0m \u001b[39mexcept\u001b[39;00m urllib\u001b[39m.\u001b[39merror\u001b[39m.\u001b[39mHTTPError \u001b[39mas\u001b[39;00m e:\n",
      "File \u001b[0;32m/Library/Frameworks/Python.framework/Versions/3.10/lib/python3.10/site-packages/keras/utils/data_utils.py:84\u001b[0m, in \u001b[0;36murlretrieve\u001b[0;34m(url, filename, reporthook, data)\u001b[0m\n\u001b[1;32m     <a href='file:///Library/Frameworks/Python.framework/Versions/3.10/lib/python3.10/site-packages/keras/utils/data_utils.py?line=81'>82</a>\u001b[0m             \u001b[39mbreak\u001b[39;00m\n\u001b[0;32m---> <a href='file:///Library/Frameworks/Python.framework/Versions/3.10/lib/python3.10/site-packages/keras/utils/data_utils.py?line=83'>84</a>\u001b[0m response \u001b[39m=\u001b[39m urlopen(url, data)\n\u001b[1;32m     <a href='file:///Library/Frameworks/Python.framework/Versions/3.10/lib/python3.10/site-packages/keras/utils/data_utils.py?line=84'>85</a>\u001b[0m \u001b[39mwith\u001b[39;00m \u001b[39mopen\u001b[39m(filename, \u001b[39m\"\u001b[39m\u001b[39mwb\u001b[39m\u001b[39m\"\u001b[39m) \u001b[39mas\u001b[39;00m fd:\n",
      "File \u001b[0;32m/Library/Frameworks/Python.framework/Versions/3.10/lib/python3.10/urllib/request.py:216\u001b[0m, in \u001b[0;36murlopen\u001b[0;34m(url, data, timeout, cafile, capath, cadefault, context)\u001b[0m\n\u001b[1;32m    <a href='file:///Library/Frameworks/Python.framework/Versions/3.10/lib/python3.10/urllib/request.py?line=214'>215</a>\u001b[0m     opener \u001b[39m=\u001b[39m _opener\n\u001b[0;32m--> <a href='file:///Library/Frameworks/Python.framework/Versions/3.10/lib/python3.10/urllib/request.py?line=215'>216</a>\u001b[0m \u001b[39mreturn\u001b[39;00m opener\u001b[39m.\u001b[39;49mopen(url, data, timeout)\n",
      "File \u001b[0;32m/Library/Frameworks/Python.framework/Versions/3.10/lib/python3.10/urllib/request.py:519\u001b[0m, in \u001b[0;36mOpenerDirector.open\u001b[0;34m(self, fullurl, data, timeout)\u001b[0m\n\u001b[1;32m    <a href='file:///Library/Frameworks/Python.framework/Versions/3.10/lib/python3.10/urllib/request.py?line=517'>518</a>\u001b[0m sys\u001b[39m.\u001b[39maudit(\u001b[39m'\u001b[39m\u001b[39murllib.Request\u001b[39m\u001b[39m'\u001b[39m, req\u001b[39m.\u001b[39mfull_url, req\u001b[39m.\u001b[39mdata, req\u001b[39m.\u001b[39mheaders, req\u001b[39m.\u001b[39mget_method())\n\u001b[0;32m--> <a href='file:///Library/Frameworks/Python.framework/Versions/3.10/lib/python3.10/urllib/request.py?line=518'>519</a>\u001b[0m response \u001b[39m=\u001b[39m \u001b[39mself\u001b[39;49m\u001b[39m.\u001b[39;49m_open(req, data)\n\u001b[1;32m    <a href='file:///Library/Frameworks/Python.framework/Versions/3.10/lib/python3.10/urllib/request.py?line=520'>521</a>\u001b[0m \u001b[39m# post-process response\u001b[39;00m\n",
      "File \u001b[0;32m/Library/Frameworks/Python.framework/Versions/3.10/lib/python3.10/urllib/request.py:536\u001b[0m, in \u001b[0;36mOpenerDirector._open\u001b[0;34m(self, req, data)\u001b[0m\n\u001b[1;32m    <a href='file:///Library/Frameworks/Python.framework/Versions/3.10/lib/python3.10/urllib/request.py?line=534'>535</a>\u001b[0m protocol \u001b[39m=\u001b[39m req\u001b[39m.\u001b[39mtype\n\u001b[0;32m--> <a href='file:///Library/Frameworks/Python.framework/Versions/3.10/lib/python3.10/urllib/request.py?line=535'>536</a>\u001b[0m result \u001b[39m=\u001b[39m \u001b[39mself\u001b[39;49m\u001b[39m.\u001b[39;49m_call_chain(\u001b[39mself\u001b[39;49m\u001b[39m.\u001b[39;49mhandle_open, protocol, protocol \u001b[39m+\u001b[39;49m\n\u001b[1;32m    <a href='file:///Library/Frameworks/Python.framework/Versions/3.10/lib/python3.10/urllib/request.py?line=536'>537</a>\u001b[0m                           \u001b[39m'\u001b[39;49m\u001b[39m_open\u001b[39;49m\u001b[39m'\u001b[39;49m, req)\n\u001b[1;32m    <a href='file:///Library/Frameworks/Python.framework/Versions/3.10/lib/python3.10/urllib/request.py?line=537'>538</a>\u001b[0m \u001b[39mif\u001b[39;00m result:\n",
      "File \u001b[0;32m/Library/Frameworks/Python.framework/Versions/3.10/lib/python3.10/urllib/request.py:496\u001b[0m, in \u001b[0;36mOpenerDirector._call_chain\u001b[0;34m(self, chain, kind, meth_name, *args)\u001b[0m\n\u001b[1;32m    <a href='file:///Library/Frameworks/Python.framework/Versions/3.10/lib/python3.10/urllib/request.py?line=494'>495</a>\u001b[0m func \u001b[39m=\u001b[39m \u001b[39mgetattr\u001b[39m(handler, meth_name)\n\u001b[0;32m--> <a href='file:///Library/Frameworks/Python.framework/Versions/3.10/lib/python3.10/urllib/request.py?line=495'>496</a>\u001b[0m result \u001b[39m=\u001b[39m func(\u001b[39m*\u001b[39;49margs)\n\u001b[1;32m    <a href='file:///Library/Frameworks/Python.framework/Versions/3.10/lib/python3.10/urllib/request.py?line=496'>497</a>\u001b[0m \u001b[39mif\u001b[39;00m result \u001b[39mis\u001b[39;00m \u001b[39mnot\u001b[39;00m \u001b[39mNone\u001b[39;00m:\n",
      "File \u001b[0;32m/Library/Frameworks/Python.framework/Versions/3.10/lib/python3.10/urllib/request.py:1391\u001b[0m, in \u001b[0;36mHTTPSHandler.https_open\u001b[0;34m(self, req)\u001b[0m\n\u001b[1;32m   <a href='file:///Library/Frameworks/Python.framework/Versions/3.10/lib/python3.10/urllib/request.py?line=1389'>1390</a>\u001b[0m \u001b[39mdef\u001b[39;00m \u001b[39mhttps_open\u001b[39m(\u001b[39mself\u001b[39m, req):\n\u001b[0;32m-> <a href='file:///Library/Frameworks/Python.framework/Versions/3.10/lib/python3.10/urllib/request.py?line=1390'>1391</a>\u001b[0m     \u001b[39mreturn\u001b[39;00m \u001b[39mself\u001b[39;49m\u001b[39m.\u001b[39;49mdo_open(http\u001b[39m.\u001b[39;49mclient\u001b[39m.\u001b[39;49mHTTPSConnection, req,\n\u001b[1;32m   <a href='file:///Library/Frameworks/Python.framework/Versions/3.10/lib/python3.10/urllib/request.py?line=1391'>1392</a>\u001b[0m         context\u001b[39m=\u001b[39;49m\u001b[39mself\u001b[39;49m\u001b[39m.\u001b[39;49m_context, check_hostname\u001b[39m=\u001b[39;49m\u001b[39mself\u001b[39;49m\u001b[39m.\u001b[39;49m_check_hostname)\n",
      "File \u001b[0;32m/Library/Frameworks/Python.framework/Versions/3.10/lib/python3.10/urllib/request.py:1351\u001b[0m, in \u001b[0;36mAbstractHTTPHandler.do_open\u001b[0;34m(self, http_class, req, **http_conn_args)\u001b[0m\n\u001b[1;32m   <a href='file:///Library/Frameworks/Python.framework/Versions/3.10/lib/python3.10/urllib/request.py?line=1349'>1350</a>\u001b[0m \u001b[39mexcept\u001b[39;00m \u001b[39mOSError\u001b[39;00m \u001b[39mas\u001b[39;00m err: \u001b[39m# timeout error\u001b[39;00m\n\u001b[0;32m-> <a href='file:///Library/Frameworks/Python.framework/Versions/3.10/lib/python3.10/urllib/request.py?line=1350'>1351</a>\u001b[0m     \u001b[39mraise\u001b[39;00m URLError(err)\n\u001b[1;32m   <a href='file:///Library/Frameworks/Python.framework/Versions/3.10/lib/python3.10/urllib/request.py?line=1351'>1352</a>\u001b[0m r \u001b[39m=\u001b[39m h\u001b[39m.\u001b[39mgetresponse()\n",
      "\u001b[0;31mURLError\u001b[0m: <urlopen error [SSL: CERTIFICATE_VERIFY_FAILED] certificate verify failed: unable to get local issuer certificate (_ssl.c:997)>",
      "\nDuring handling of the above exception, another exception occurred:\n",
      "\u001b[0;31mException\u001b[0m                                 Traceback (most recent call last)",
      "Cell \u001b[0;32mIn [110], line 2\u001b[0m\n\u001b[1;32m      1\u001b[0m fashion_mnist \u001b[38;5;241m=\u001b[39m tf\u001b[38;5;241m.\u001b[39mkeras\u001b[38;5;241m.\u001b[39mdatasets\u001b[38;5;241m.\u001b[39mfashion_mnist\n\u001b[0;32m----> 2\u001b[0m (X_other, y_other), (X_test, y_test) \u001b[38;5;241m=\u001b[39m fashion_mnist\u001b[38;5;241m.\u001b[39mload_data()\n",
      "File \u001b[0;32m/Library/Frameworks/Python.framework/Versions/3.10/lib/python3.10/site-packages/keras/datasets/fashion_mnist.py:93\u001b[0m, in \u001b[0;36mload_data\u001b[0;34m()\u001b[0m\n\u001b[1;32m     <a href='file:///Library/Frameworks/Python.framework/Versions/3.10/lib/python3.10/site-packages/keras/datasets/fashion_mnist.py?line=90'>91</a>\u001b[0m paths \u001b[39m=\u001b[39m []\n\u001b[1;32m     <a href='file:///Library/Frameworks/Python.framework/Versions/3.10/lib/python3.10/site-packages/keras/datasets/fashion_mnist.py?line=91'>92</a>\u001b[0m \u001b[39mfor\u001b[39;00m fname \u001b[39min\u001b[39;00m files:\n\u001b[0;32m---> <a href='file:///Library/Frameworks/Python.framework/Versions/3.10/lib/python3.10/site-packages/keras/datasets/fashion_mnist.py?line=92'>93</a>\u001b[0m     paths\u001b[39m.\u001b[39mappend(get_file(fname, origin\u001b[39m=\u001b[39;49mbase \u001b[39m+\u001b[39;49m fname, cache_subdir\u001b[39m=\u001b[39;49mdirname))\n\u001b[1;32m     <a href='file:///Library/Frameworks/Python.framework/Versions/3.10/lib/python3.10/site-packages/keras/datasets/fashion_mnist.py?line=94'>95</a>\u001b[0m \u001b[39mwith\u001b[39;00m gzip\u001b[39m.\u001b[39mopen(paths[\u001b[39m0\u001b[39m], \u001b[39m\"\u001b[39m\u001b[39mrb\u001b[39m\u001b[39m\"\u001b[39m) \u001b[39mas\u001b[39;00m lbpath:\n\u001b[1;32m     <a href='file:///Library/Frameworks/Python.framework/Versions/3.10/lib/python3.10/site-packages/keras/datasets/fashion_mnist.py?line=95'>96</a>\u001b[0m     y_train \u001b[39m=\u001b[39m np\u001b[39m.\u001b[39mfrombuffer(lbpath\u001b[39m.\u001b[39mread(), np\u001b[39m.\u001b[39muint8, offset\u001b[39m=\u001b[39m\u001b[39m8\u001b[39m)\n",
      "File \u001b[0;32m/Library/Frameworks/Python.framework/Versions/3.10/lib/python3.10/site-packages/keras/utils/data_utils.py:300\u001b[0m, in \u001b[0;36mget_file\u001b[0;34m(fname, origin, untar, md5_hash, file_hash, cache_subdir, hash_algorithm, extract, archive_format, cache_dir)\u001b[0m\n\u001b[1;32m    <a href='file:///Library/Frameworks/Python.framework/Versions/3.10/lib/python3.10/site-packages/keras/utils/data_utils.py?line=297'>298</a>\u001b[0m         \u001b[39mraise\u001b[39;00m \u001b[39mException\u001b[39;00m(error_msg\u001b[39m.\u001b[39mformat(origin, e\u001b[39m.\u001b[39mcode, e\u001b[39m.\u001b[39mmsg))\n\u001b[1;32m    <a href='file:///Library/Frameworks/Python.framework/Versions/3.10/lib/python3.10/site-packages/keras/utils/data_utils.py?line=298'>299</a>\u001b[0m     \u001b[39mexcept\u001b[39;00m urllib\u001b[39m.\u001b[39merror\u001b[39m.\u001b[39mURLError \u001b[39mas\u001b[39;00m e:\n\u001b[0;32m--> <a href='file:///Library/Frameworks/Python.framework/Versions/3.10/lib/python3.10/site-packages/keras/utils/data_utils.py?line=299'>300</a>\u001b[0m         \u001b[39mraise\u001b[39;00m \u001b[39mException\u001b[39;00m(error_msg\u001b[39m.\u001b[39mformat(origin, e\u001b[39m.\u001b[39merrno, e\u001b[39m.\u001b[39mreason))\n\u001b[1;32m    <a href='file:///Library/Frameworks/Python.framework/Versions/3.10/lib/python3.10/site-packages/keras/utils/data_utils.py?line=300'>301</a>\u001b[0m \u001b[39mexcept\u001b[39;00m (\u001b[39mException\u001b[39;00m, \u001b[39mKeyboardInterrupt\u001b[39;00m):\n\u001b[1;32m    <a href='file:///Library/Frameworks/Python.framework/Versions/3.10/lib/python3.10/site-packages/keras/utils/data_utils.py?line=301'>302</a>\u001b[0m     \u001b[39mif\u001b[39;00m os\u001b[39m.\u001b[39mpath\u001b[39m.\u001b[39mexists(fpath):\n",
      "\u001b[0;31mException\u001b[0m: URL fetch failure on https://storage.googleapis.com/tensorflow/tf-keras-datasets/train-labels-idx1-ubyte.gz: None -- [SSL: CERTIFICATE_VERIFY_FAILED] certificate verify failed: unable to get local issuer certificate (_ssl.c:997)"
     ]
    }
   ],
   "source": [
    "fashion_mnist = tf.keras.datasets.fashion_mnist\n",
    "(X_other, y_other), (X_test, y_test) = fashion_mnist.load_data()\n"
   ]
  },
  {
   "cell_type": "code",
   "execution_count": null,
   "id": "7231a214",
   "metadata": {},
   "outputs": [],
   "source": [
    "print(X_other.shape)\n",
    "print(y_other.shape)\n",
    "print(X_test.shape)\n",
    "print(y_test.shape)\n"
   ]
  },
  {
   "cell_type": "markdown",
   "id": "bc37aff5",
   "metadata": {},
   "source": [
    "The X's are matrices (with 28x28 pixels), while the y's are numbers.\n",
    "\n",
    "We divide the values of X by 255 (essentially standardizing the pixel-values to 0-1) and also split apart a validation set (of the same size as the test set):"
   ]
  },
  {
   "cell_type": "code",
   "execution_count": null,
   "id": "09935b02",
   "metadata": {},
   "outputs": [],
   "source": [
    "X_other = X_other / 255.0\n",
    "X_test = X_test / 255.0\n",
    "X_train, X_valid, y_train, y_valid = train_test_split(\n",
    "    X_other, y_other, train_size=50000, random_state=152\n",
    ")\n",
    "\n",
    "print(X_train.shape)\n",
    "print(y_train.shape)\n",
    "print(X_valid.shape)\n",
    "print(y_valid.shape)"
   ]
  },
  {
   "cell_type": "markdown",
   "id": "d502fd8f",
   "metadata": {},
   "source": [
    "Let's plot two examples:"
   ]
  },
  {
   "cell_type": "code",
   "execution_count": null,
   "id": "1199ffe0",
   "metadata": {},
   "outputs": [],
   "source": [
    "plt.subplot(1, 2, 1)\n",
    "plt.imshow(X_train[0], cmap=\"binary\")\n",
    "plt.axis(\"off\")\n",
    "plt.subplot(1, 2, 2)\n",
    "plt.imshow(X_train[500], cmap=\"binary\")\n",
    "plt.axis(\"off\")"
   ]
  },
  {
   "cell_type": "markdown",
   "id": "ce05e70f",
   "metadata": {},
   "source": [
    "As well as the corresponding labels:"
   ]
  },
  {
   "cell_type": "code",
   "execution_count": null,
   "id": "89478fbb",
   "metadata": {},
   "outputs": [],
   "source": [
    "print(y_train[0])\n",
    "print(y_train[500])\n"
   ]
  },
  {
   "cell_type": "markdown",
   "id": "e4802b77",
   "metadata": {},
   "source": [
    "That's a bit hard to interpret. Luckily, we have the right names for each label available:"
   ]
  },
  {
   "cell_type": "code",
   "execution_count": null,
   "id": "51cfed3c",
   "metadata": {},
   "outputs": [],
   "source": [
    "class_names = [\n",
    "    \"T-shirt/top\",\n",
    "    \"Trouser\",\n",
    "    \"Pullover\",\n",
    "    \"Dress\",\n",
    "    \"Coat\",\n",
    "    \"Sandal\",\n",
    "    \"Shirt\",\n",
    "    \"Sneaker\",\n",
    "    \"Bag\",\n",
    "    \"Ankle boot\",\n",
    "]"
   ]
  },
  {
   "cell_type": "markdown",
   "id": "cf13cd27",
   "metadata": {},
   "source": [
    "We can now take another look at what the pictures above represent:"
   ]
  },
  {
   "cell_type": "code",
   "execution_count": null,
   "id": "ce69c4dd",
   "metadata": {},
   "outputs": [],
   "source": [
    "print(class_names[y_train[0]])\n",
    "print(class_names[y_train[500]])\n"
   ]
  },
  {
   "cell_type": "markdown",
   "id": "473138d8",
   "metadata": {},
   "source": [
    "## 6.1 Training the model"
   ]
  },
  {
   "cell_type": "markdown",
   "id": "83032bb9",
   "metadata": {},
   "source": [
    "Let's start with some housekeeping:"
   ]
  },
  {
   "cell_type": "code",
   "execution_count": null,
   "id": "deeff742",
   "metadata": {},
   "outputs": [],
   "source": [
    "tf.keras.backend.clear_session()\n"
   ]
  },
  {
   "cell_type": "markdown",
   "id": "1c2ebe4f",
   "metadata": {},
   "source": [
    "Can you create a model with two hidden layers and one (softmax) output layer? The hidden layers should have 100 neurons each. You will have to figure out the number of neurons on the output layer (hint: it depends on the number of classes).\n",
    "\n",
    "Also, don't forget to flatten the images with an appropriate `input_shape`!\n",
    "\n",
    "Make sure you save your model as `model`."
   ]
  },
  {
   "cell_type": "code",
   "execution_count": null,
   "id": "cfaabf96",
   "metadata": {},
   "outputs": [],
   "source": [
    "\n",
    "\n",
    "\n"
   ]
  },
  {
   "cell_type": "markdown",
   "id": "455e72fb",
   "metadata": {},
   "source": [
    "Use the `summary` function, to see whether everything worked out as it should. If you defined the model as discussed above, you should get a total of 89,610 parameters."
   ]
  },
  {
   "cell_type": "code",
   "execution_count": null,
   "id": "c25373f1",
   "metadata": {},
   "outputs": [],
   "source": [
    "model.summary()\n"
   ]
  },
  {
   "cell_type": "markdown",
   "id": "5f91d79b",
   "metadata": {},
   "source": [
    "We can now compile the model. Use `optimizer=tf.keras.optimizers.SGD(learning_rate=0.01)` and `metrics=['accuracy']`. For the loss, use `sparse_categorical_crossentropy`. This is because our y's here are **not** one-hot-encoded, but instead are values from 0 to 9."
   ]
  },
  {
   "cell_type": "code",
   "execution_count": null,
   "id": "42d71356",
   "metadata": {},
   "outputs": [],
   "source": [
    "\n"
   ]
  },
  {
   "cell_type": "markdown",
   "id": "22a9e0f4",
   "metadata": {},
   "source": [
    "Train the model for 30 epochs, keeping track also of the `validation_data`."
   ]
  },
  {
   "cell_type": "code",
   "execution_count": null,
   "id": "0ee79f8b",
   "metadata": {},
   "outputs": [],
   "source": []
  },
  {
   "cell_type": "markdown",
   "id": "e175357c",
   "metadata": {},
   "source": [
    "Take a look at the training process. The below will only work if you have called your training output `log`:"
   ]
  },
  {
   "cell_type": "code",
   "execution_count": null,
   "id": "1d30a452",
   "metadata": {},
   "outputs": [],
   "source": [
    "plt.plot(log.history[\"accuracy\"], label=\"training accuracy\")\n",
    "plt.plot(log.history[\"val_accuracy\"], label=\"testing accuracy\")\n",
    "plt.legend()\n",
    "plt.show()"
   ]
  },
  {
   "cell_type": "markdown",
   "id": "82d38f9b",
   "metadata": {},
   "source": [
    "If we accept our model, we can evaluate it on the test set, using the `evaluate` function of our model:"
   ]
  },
  {
   "cell_type": "code",
   "execution_count": null,
   "id": "56c8dace",
   "metadata": {},
   "outputs": [],
   "source": []
  },
  {
   "cell_type": "markdown",
   "id": "761f747a",
   "metadata": {},
   "source": [
    "We can also take a look at some predictions:"
   ]
  },
  {
   "cell_type": "code",
   "execution_count": null,
   "id": "2c6df529",
   "metadata": {},
   "outputs": [],
   "source": [
    "X_new = X_test[:4]\n",
    "y_predict = np.argmax(model.predict(X_new), axis=-1)\n",
    "y_predict = [class_names[y] for y in y_predict]\n"
   ]
  },
  {
   "cell_type": "code",
   "execution_count": null,
   "id": "e4305585",
   "metadata": {},
   "outputs": [],
   "source": [
    "plt.subplot(1, 4, 1)\n",
    "plt.imshow(X_test[0], cmap=\"binary\")\n",
    "plt.axis(\"off\")\n",
    "plt.subplot(1, 4, 2)\n",
    "plt.imshow(X_test[1], cmap=\"binary\")\n",
    "plt.axis(\"off\")\n",
    "plt.subplot(1, 4, 3)\n",
    "plt.imshow(X_test[2], cmap=\"binary\")\n",
    "plt.axis(\"off\")\n",
    "plt.subplot(1, 4, 4)\n",
    "plt.imshow(X_test[3], cmap=\"binary\")\n",
    "plt.axis(\"off\")\n",
    "print(\"Predictions are: \" + str(y_predict))"
   ]
  },
  {
   "cell_type": "markdown",
   "id": "692bda86",
   "metadata": {},
   "source": [
    "Can you do better? Try tweaking the learning rate, the number of layers, and the neurons per layer to see if your validation loss improves. Once you have decided on your final model, evaluate it on the test set and note down your loss there."
   ]
  }
 ],
 "metadata": {
  "interpreter": {
   "hash": "aee8b7b246df8f9039afb4144a1f6fd8d2ca17a180786b69acc140d282b71a49"
  },
  "kernelspec": {
   "display_name": "Python 3.10.1 64-bit",
   "language": "python",
   "name": "python3"
  },
  "language_info": {
   "codemirror_mode": {
    "name": "ipython",
    "version": 3
   },
   "file_extension": ".py",
   "mimetype": "text/x-python",
   "name": "python",
   "nbconvert_exporter": "python",
   "pygments_lexer": "ipython3",
   "version": "3.10.1"
  },
  "vscode": {
   "interpreter": {
    "hash": "844c4e49d67cc0acf910f14467e33bd4b14696c6f305335989102e23185a8d23"
   }
  }
 },
 "nbformat": 4,
 "nbformat_minor": 5
}
