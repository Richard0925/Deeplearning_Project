{
 "cells": [
  {
   "cell_type": "markdown",
   "id": "4fd1bc41",
   "metadata": {},
   "source": [
    "# Using TensorFlow to create and train neural networks"
   ]
  },
  {
   "cell_type": "markdown",
   "id": "26bdc8d6",
   "metadata": {},
   "source": [
    "To work with TensorFlow, we first need to install it. Uncomment the code below, if you haven't already done so (note that we use `pydot` and `graphviz` for visualizing the hidden layers of a neural network - but they are not necessary to run neural networks in TensorFlow).\n",
    "\n",
    "Note that parts 5 and 6 of the notebook build on a GitHub repository by [Aurélien Géron](https://github.com/ageron/handson-ml2)."
   ]
  },
  {
   "cell_type": "code",
   "execution_count": null,
   "id": "665647a6",
   "metadata": {},
   "outputs": [],
   "source": [
    "#!pip install tensorflow\n",
    "#!pip install pydot\n",
    "#!pip install graphviz"
   ]
  },
  {
   "cell_type": "markdown",
   "id": "14fcb906",
   "metadata": {},
   "source": [
    "Once we have installed all packages, let's do the obligatory imports:"
   ]
  },
  {
   "cell_type": "code",
   "execution_count": 1,
   "id": "f21cd366",
   "metadata": {},
   "outputs": [],
   "source": [
    "import tensorflow as tf\n",
    "import numpy as np\n",
    "from sklearn.model_selection import train_test_split\n",
    "import matplotlib.pyplot as plt"
   ]
  },
  {
   "cell_type": "markdown",
   "id": "30ef7259",
   "metadata": {},
   "source": [
    "# 1. Creating a simple neural network with the Sequential API"
   ]
  },
  {
   "cell_type": "markdown",
   "id": "f106c9f2",
   "metadata": {},
   "source": [
    "We will recreate what we did in the last lecture: a logistic regression model that allows us to differentiate between sign-language digits 0 and 1. But this time, we will be using TensorFlow's Sequential API to build a (single-neuron) neural network. The data-handling is the same as last week:"
   ]
  },
  {
   "cell_type": "code",
   "execution_count": 2,
   "id": "6d88bf49",
   "metadata": {},
   "outputs": [],
   "source": [
    "X = np.load('digits_X.npy')\n",
    "y = np.load('digits_y.npy')\n",
    "X = np.concatenate((X[204:409], X[822:1028] ), axis=0)\n",
    "z = np.zeros(409-204)\n",
    "o = np.ones(1028-822)\n",
    "y = np.concatenate((z, o), axis=0).reshape(X.shape[0],1)\n",
    "X_train, X_test, y_train, y_test = train_test_split(X, y, test_size=0.15, random_state=172)"
   ]
  },
  {
   "cell_type": "markdown",
   "id": "a20a52f6",
   "metadata": {},
   "source": [
    "## 1.1 Building the model"
   ]
  },
  {
   "cell_type": "markdown",
   "id": "46d47f43",
   "metadata": {},
   "source": [
    "Let's create the model. Notice that we haven't flattened the observations (recall that each value of `X` is a matrix!). The beauty about TensorFlow is that we can simply add in a `Flatten` layer, to do this for us. Hence, we have two layers in our model: the `Flatten` layer (not an actual neural network layer), and a standard `Dense` layer, with one neuron/unit (the one that performs the logistic regression).\n",
    "\n",
    "For our `Dense` layer with one neuron, we also need to specify the activation function. Of course, for a logistic regression, we use the logistic sigmoid function, simply `'sigmoid'` in TensorFlow.\n",
    "\n",
    "We can (but don't have to) specify a `kernel_initializer`. Usually, the defaults work fine, but with the little amount of data we have, we need to set this to `'uniform'` for things to work properly."
   ]
  },
  {
   "cell_type": "code",
   "execution_count": 3,
   "id": "c324809e",
   "metadata": {},
   "outputs": [
    {
     "name": "stdout",
     "output_type": "stream",
     "text": [
      "Metal device set to: Apple M1 Pro\n",
      "\n",
      "systemMemory: 16.00 GB\n",
      "maxCacheSize: 5.33 GB\n",
      "\n"
     ]
    },
    {
     "name": "stderr",
     "output_type": "stream",
     "text": [
      "2023-02-22 23:35:40.149104: I tensorflow/core/common_runtime/pluggable_device/pluggable_device_factory.cc:306] Could not identify NUMA node of platform GPU ID 0, defaulting to 0. Your kernel may not have been built with NUMA support.\n",
      "2023-02-22 23:35:40.149241: I tensorflow/core/common_runtime/pluggable_device/pluggable_device_factory.cc:272] Created TensorFlow device (/job:localhost/replica:0/task:0/device:GPU:0 with 0 MB memory) -> physical PluggableDevice (device: 0, name: METAL, pci bus id: <undefined>)\n"
     ]
    }
   ],
   "source": [
    "model = tf.keras.models.Sequential([\n",
    "  tf.keras.layers.Flatten(input_shape=(64, 64)),\n",
    "  tf.keras.layers.Dense(1, activation='sigmoid', kernel_initializer = 'uniform')\n",
    "])"
   ]
  },
  {
   "cell_type": "markdown",
   "id": "1ac04a43",
   "metadata": {},
   "source": [
    "Note that we could also create the model step-by-step, as follows:\n",
    "```\n",
    "model = tf.keras.models.Sequential()\n",
    "model.add(tf.keras.layers.Flatten(input_shape=(64,64)))\n",
    "model.add(tf.keras.layers.Dense(1, activation='sigmoid', kernel_initializer = 'uniform'))\n",
    "```"
   ]
  },
  {
   "cell_type": "markdown",
   "id": "d8cc1e38",
   "metadata": {},
   "source": [
    "Now that we have created our model, we can take a look at its layers:"
   ]
  },
  {
   "cell_type": "code",
   "execution_count": 8,
   "id": "95977520",
   "metadata": {},
   "outputs": [
    {
     "data": {
      "text/plain": [
       "[<keras.layers.reshaping.flatten.Flatten at 0x29d06ba90>,\n",
       " <keras.layers.core.dense.Dense at 0x105e9b580>]"
      ]
     },
     "execution_count": 8,
     "metadata": {},
     "output_type": "execute_result"
    }
   ],
   "source": [
    "model.layers"
   ]
  },
  {
   "cell_type": "markdown",
   "id": "b07c5676",
   "metadata": {},
   "source": [
    "The `model.summary()` is a bit more informative:"
   ]
  },
  {
   "cell_type": "code",
   "execution_count": 6,
   "id": "dafa8e14",
   "metadata": {},
   "outputs": [
    {
     "name": "stdout",
     "output_type": "stream",
     "text": [
      "Model: \"sequential\"\n",
      "_________________________________________________________________\n",
      " Layer (type)                Output Shape              Param #   \n",
      "=================================================================\n",
      " flatten (Flatten)           (None, 4096)              0         \n",
      "                                                                 \n",
      " dense (Dense)               (None, 1)                 4097      \n",
      "                                                                 \n",
      "=================================================================\n",
      "Total params: 4,097\n",
      "Trainable params: 4,097\n",
      "Non-trainable params: 0\n",
      "_________________________________________________________________\n"
     ]
    }
   ],
   "source": [
    "model.summary()"
   ]
  },
  {
   "cell_type": "markdown",
   "id": "f2d645a0",
   "metadata": {},
   "source": [
    "The `Flatten` layer flattens each input from a (64,64)-matrix to a (4096,)-vector. However, it says (None, 4096) for the output shape. Can you guess why?\n",
    "\n",
    "Also, can you guess what the 4097 parameters are?"
   ]
  },
  {
   "cell_type": "markdown",
   "id": "44f182a0",
   "metadata": {},
   "source": [
    "In order to use our model, we also have to `compile` it. This is the step where we decide on\n",
    "- the optimization algorithm (we will use `'sgd'`, or stochastic gradient descent, basically a step-by-step version of gradient descent),\n",
    "- the loss function (we will use `'binary_crossentropy'`, as before),\n",
    "- the metrics to keep track of as the model is being trained, in the form of a list (we will only keep track of `'accuracy'` for now)."
   ]
  },
  {
   "cell_type": "code",
   "execution_count": 9,
   "id": "79a29ee6",
   "metadata": {},
   "outputs": [],
   "source": [
    "model.compile(optimizer='sgd',\n",
    "              loss='binary_crossentropy',\n",
    "              \n",
    "              metrics=['accuracy'])"
   ]
  },
  {
   "cell_type": "markdown",
   "id": "40b81170",
   "metadata": {},
   "source": [
    "That's it! When we compile the model, it automatically creates the forward propagation and back-propagation steps for us, based on the layers and cost function we define!"
   ]
  },
  {
   "cell_type": "markdown",
   "id": "6e3acf7c",
   "metadata": {},
   "source": [
    "## 1.2 Training the model"
   ]
  },
  {
   "cell_type": "markdown",
   "id": "46fea9f7",
   "metadata": {},
   "source": [
    "We will now train the model, using the training data. We will run it for 100 \"epochs\", that is iterations of our optimization algorithm:"
   ]
  },
  {
   "cell_type": "code",
   "execution_count": 10,
   "id": "94ae018a",
   "metadata": {},
   "outputs": [
    {
     "name": "stdout",
     "output_type": "stream",
     "text": [
      "Epoch 1/100\n"
     ]
    },
    {
     "name": "stderr",
     "output_type": "stream",
     "text": [
      "2023-02-22 23:50:24.797885: W tensorflow/core/platform/profile_utils/cpu_utils.cc:128] Failed to get CPU frequency: 0 Hz\n",
      "2023-02-22 23:50:24.953325: I tensorflow/core/grappler/optimizers/custom_graph_optimizer_registry.cc:114] Plugin optimizer for device_type GPU is enabled.\n"
     ]
    },
    {
     "name": "stdout",
     "output_type": "stream",
     "text": [
      "11/11 [==============================] - 1s 15ms/step - loss: 1.6111 - accuracy: 0.5186\n",
      "Epoch 2/100\n",
      "11/11 [==============================] - 0s 7ms/step - loss: 2.2711 - accuracy: 0.4928\n",
      "Epoch 3/100\n",
      "11/11 [==============================] - 0s 7ms/step - loss: 1.6142 - accuracy: 0.6132\n",
      "Epoch 4/100\n",
      "11/11 [==============================] - 0s 7ms/step - loss: 1.7292 - accuracy: 0.5129\n",
      "Epoch 5/100\n",
      "11/11 [==============================] - 0s 7ms/step - loss: 1.8682 - accuracy: 0.5014\n",
      "Epoch 6/100\n",
      "11/11 [==============================] - 0s 6ms/step - loss: 1.3239 - accuracy: 0.5444\n",
      "Epoch 7/100\n",
      "11/11 [==============================] - 0s 8ms/step - loss: 1.1221 - accuracy: 0.5501\n",
      "Epoch 8/100\n",
      "11/11 [==============================] - 0s 6ms/step - loss: 1.6523 - accuracy: 0.5501\n",
      "Epoch 9/100\n",
      "11/11 [==============================] - 0s 6ms/step - loss: 0.8907 - accuracy: 0.6648\n",
      "Epoch 10/100\n",
      "11/11 [==============================] - 0s 6ms/step - loss: 0.4276 - accuracy: 0.8195\n",
      "Epoch 11/100\n",
      "11/11 [==============================] - 0s 6ms/step - loss: 0.3288 - accuracy: 0.8539\n",
      "Epoch 12/100\n",
      "11/11 [==============================] - 0s 6ms/step - loss: 0.5283 - accuracy: 0.7364\n",
      "Epoch 13/100\n",
      "11/11 [==============================] - 0s 6ms/step - loss: 0.5038 - accuracy: 0.7822\n",
      "Epoch 14/100\n",
      "11/11 [==============================] - 0s 7ms/step - loss: 0.2382 - accuracy: 0.9054\n",
      "Epoch 15/100\n",
      "11/11 [==============================] - 0s 6ms/step - loss: 0.2390 - accuracy: 0.9026\n",
      "Epoch 16/100\n",
      "11/11 [==============================] - 0s 6ms/step - loss: 0.2021 - accuracy: 0.9198\n",
      "Epoch 17/100\n",
      "11/11 [==============================] - 0s 6ms/step - loss: 0.3398 - accuracy: 0.8481\n",
      "Epoch 18/100\n",
      "11/11 [==============================] - 0s 6ms/step - loss: 0.2285 - accuracy: 0.9026\n",
      "Epoch 19/100\n",
      "11/11 [==============================] - 0s 6ms/step - loss: 0.1661 - accuracy: 0.9370\n",
      "Epoch 20/100\n",
      "11/11 [==============================] - 0s 6ms/step - loss: 0.1912 - accuracy: 0.9341\n",
      "Epoch 21/100\n",
      "11/11 [==============================] - 0s 6ms/step - loss: 0.1688 - accuracy: 0.9427\n",
      "Epoch 22/100\n",
      "11/11 [==============================] - 0s 7ms/step - loss: 0.2084 - accuracy: 0.9083\n",
      "Epoch 23/100\n",
      "11/11 [==============================] - 0s 6ms/step - loss: 0.1659 - accuracy: 0.9542\n",
      "Epoch 24/100\n",
      "11/11 [==============================] - 0s 6ms/step - loss: 0.1578 - accuracy: 0.9456\n",
      "Epoch 25/100\n",
      "11/11 [==============================] - 0s 6ms/step - loss: 0.1615 - accuracy: 0.9542\n",
      "Epoch 26/100\n",
      "11/11 [==============================] - 0s 7ms/step - loss: 0.1985 - accuracy: 0.9169\n",
      "Epoch 27/100\n",
      "11/11 [==============================] - 0s 6ms/step - loss: 0.1710 - accuracy: 0.9312\n",
      "Epoch 28/100\n",
      "11/11 [==============================] - 0s 7ms/step - loss: 0.1502 - accuracy: 0.9570\n",
      "Epoch 29/100\n",
      "11/11 [==============================] - 0s 6ms/step - loss: 0.1586 - accuracy: 0.9484\n",
      "Epoch 30/100\n",
      "11/11 [==============================] - 0s 6ms/step - loss: 0.1403 - accuracy: 0.9484\n",
      "Epoch 31/100\n",
      "11/11 [==============================] - 0s 6ms/step - loss: 0.1407 - accuracy: 0.9599\n",
      "Epoch 32/100\n",
      "11/11 [==============================] - 0s 6ms/step - loss: 0.1465 - accuracy: 0.9513\n",
      "Epoch 33/100\n",
      "11/11 [==============================] - 0s 8ms/step - loss: 0.1562 - accuracy: 0.9370\n",
      "Epoch 34/100\n",
      "11/11 [==============================] - 0s 6ms/step - loss: 0.1481 - accuracy: 0.9570\n",
      "Epoch 35/100\n",
      "11/11 [==============================] - 0s 6ms/step - loss: 0.1521 - accuracy: 0.9484\n",
      "Epoch 36/100\n",
      "11/11 [==============================] - 0s 6ms/step - loss: 0.1351 - accuracy: 0.9542\n",
      "Epoch 37/100\n",
      "11/11 [==============================] - 0s 6ms/step - loss: 0.1383 - accuracy: 0.9599\n",
      "Epoch 38/100\n",
      "11/11 [==============================] - 0s 6ms/step - loss: 0.1331 - accuracy: 0.9542\n",
      "Epoch 39/100\n",
      "11/11 [==============================] - 0s 6ms/step - loss: 0.1401 - accuracy: 0.9599\n",
      "Epoch 40/100\n",
      "11/11 [==============================] - 0s 7ms/step - loss: 0.1261 - accuracy: 0.9628\n",
      "Epoch 41/100\n",
      "11/11 [==============================] - 0s 6ms/step - loss: 0.1417 - accuracy: 0.9599\n",
      "Epoch 42/100\n",
      "11/11 [==============================] - 0s 7ms/step - loss: 0.1423 - accuracy: 0.9513\n",
      "Epoch 43/100\n",
      "11/11 [==============================] - 0s 6ms/step - loss: 0.1213 - accuracy: 0.9713\n",
      "Epoch 44/100\n",
      "11/11 [==============================] - 0s 6ms/step - loss: 0.1363 - accuracy: 0.9542\n",
      "Epoch 45/100\n",
      "11/11 [==============================] - 0s 6ms/step - loss: 0.1862 - accuracy: 0.9312\n",
      "Epoch 46/100\n",
      "11/11 [==============================] - 0s 6ms/step - loss: 0.1509 - accuracy: 0.9456\n",
      "Epoch 47/100\n",
      "11/11 [==============================] - 0s 6ms/step - loss: 0.1370 - accuracy: 0.9513\n",
      "Epoch 48/100\n",
      "11/11 [==============================] - 0s 6ms/step - loss: 0.1353 - accuracy: 0.9570\n",
      "Epoch 49/100\n",
      "11/11 [==============================] - 0s 6ms/step - loss: 0.1228 - accuracy: 0.9685\n",
      "Epoch 50/100\n",
      "11/11 [==============================] - 0s 7ms/step - loss: 0.1174 - accuracy: 0.9599\n",
      "Epoch 51/100\n",
      "11/11 [==============================] - 0s 6ms/step - loss: 0.1143 - accuracy: 0.9685\n",
      "Epoch 52/100\n",
      "11/11 [==============================] - 0s 6ms/step - loss: 0.1251 - accuracy: 0.9599\n",
      "Epoch 53/100\n",
      "11/11 [==============================] - 0s 6ms/step - loss: 0.1188 - accuracy: 0.9685\n",
      "Epoch 54/100\n",
      "11/11 [==============================] - 0s 6ms/step - loss: 0.1105 - accuracy: 0.9742\n",
      "Epoch 55/100\n",
      "11/11 [==============================] - 0s 6ms/step - loss: 0.1183 - accuracy: 0.9628\n",
      "Epoch 56/100\n",
      "11/11 [==============================] - 0s 6ms/step - loss: 0.1171 - accuracy: 0.9685\n",
      "Epoch 57/100\n",
      "11/11 [==============================] - 0s 6ms/step - loss: 0.1110 - accuracy: 0.9742\n",
      "Epoch 58/100\n",
      "11/11 [==============================] - 0s 6ms/step - loss: 0.1134 - accuracy: 0.9628\n",
      "Epoch 59/100\n",
      "11/11 [==============================] - 0s 6ms/step - loss: 0.1174 - accuracy: 0.9713\n",
      "Epoch 60/100\n",
      "11/11 [==============================] - 0s 6ms/step - loss: 0.1211 - accuracy: 0.9656\n",
      "Epoch 61/100\n",
      "11/11 [==============================] - 0s 6ms/step - loss: 0.1082 - accuracy: 0.9685\n",
      "Epoch 62/100\n",
      "11/11 [==============================] - 0s 6ms/step - loss: 0.1104 - accuracy: 0.9742\n",
      "Epoch 63/100\n",
      "11/11 [==============================] - 0s 6ms/step - loss: 0.1050 - accuracy: 0.9713\n",
      "Epoch 64/100\n",
      "11/11 [==============================] - 0s 6ms/step - loss: 0.1076 - accuracy: 0.9771\n",
      "Epoch 65/100\n",
      "11/11 [==============================] - 0s 6ms/step - loss: 0.1078 - accuracy: 0.9742\n",
      "Epoch 66/100\n",
      "11/11 [==============================] - 0s 6ms/step - loss: 0.1060 - accuracy: 0.9713\n",
      "Epoch 67/100\n",
      "11/11 [==============================] - 0s 6ms/step - loss: 0.0973 - accuracy: 0.9742\n",
      "Epoch 68/100\n",
      "11/11 [==============================] - 0s 6ms/step - loss: 0.1105 - accuracy: 0.9742\n",
      "Epoch 69/100\n",
      "11/11 [==============================] - 0s 6ms/step - loss: 0.0960 - accuracy: 0.9742\n",
      "Epoch 70/100\n",
      "11/11 [==============================] - 0s 6ms/step - loss: 0.0993 - accuracy: 0.9713\n",
      "Epoch 71/100\n",
      "11/11 [==============================] - 0s 6ms/step - loss: 0.1081 - accuracy: 0.9599\n",
      "Epoch 72/100\n",
      "11/11 [==============================] - 0s 6ms/step - loss: 0.1015 - accuracy: 0.9713\n",
      "Epoch 73/100\n",
      "11/11 [==============================] - 0s 6ms/step - loss: 0.0971 - accuracy: 0.9771\n",
      "Epoch 74/100\n",
      "11/11 [==============================] - 0s 6ms/step - loss: 0.1052 - accuracy: 0.9685\n",
      "Epoch 75/100\n",
      "11/11 [==============================] - 0s 7ms/step - loss: 0.1024 - accuracy: 0.9742\n",
      "Epoch 76/100\n",
      "11/11 [==============================] - 0s 6ms/step - loss: 0.1130 - accuracy: 0.9628\n",
      "Epoch 77/100\n",
      "11/11 [==============================] - 0s 6ms/step - loss: 0.0974 - accuracy: 0.9742\n",
      "Epoch 78/100\n",
      "11/11 [==============================] - 0s 6ms/step - loss: 0.0978 - accuracy: 0.9771\n",
      "Epoch 79/100\n",
      "11/11 [==============================] - 0s 8ms/step - loss: 0.0945 - accuracy: 0.9828\n",
      "Epoch 80/100\n",
      "11/11 [==============================] - 0s 6ms/step - loss: 0.0949 - accuracy: 0.9742\n",
      "Epoch 81/100\n",
      "11/11 [==============================] - 0s 7ms/step - loss: 0.0945 - accuracy: 0.9713\n",
      "Epoch 82/100\n",
      "11/11 [==============================] - 0s 7ms/step - loss: 0.0901 - accuracy: 0.9799\n",
      "Epoch 83/100\n",
      "11/11 [==============================] - 0s 7ms/step - loss: 0.0883 - accuracy: 0.9799\n",
      "Epoch 84/100\n",
      "11/11 [==============================] - 0s 7ms/step - loss: 0.0915 - accuracy: 0.9799\n",
      "Epoch 85/100\n",
      "11/11 [==============================] - 0s 6ms/step - loss: 0.0961 - accuracy: 0.9713\n",
      "Epoch 86/100\n",
      "11/11 [==============================] - 0s 6ms/step - loss: 0.0883 - accuracy: 0.9799\n",
      "Epoch 87/100\n",
      "11/11 [==============================] - 0s 6ms/step - loss: 0.0877 - accuracy: 0.9799\n",
      "Epoch 88/100\n",
      "11/11 [==============================] - 0s 7ms/step - loss: 0.0956 - accuracy: 0.9771\n",
      "Epoch 89/100\n",
      "11/11 [==============================] - 0s 6ms/step - loss: 0.0867 - accuracy: 0.9828\n",
      "Epoch 90/100\n",
      "11/11 [==============================] - 0s 8ms/step - loss: 0.0938 - accuracy: 0.9771\n",
      "Epoch 91/100\n",
      "11/11 [==============================] - 0s 6ms/step - loss: 0.0832 - accuracy: 0.9771\n",
      "Epoch 92/100\n",
      "11/11 [==============================] - 0s 6ms/step - loss: 0.0881 - accuracy: 0.9799\n",
      "Epoch 93/100\n",
      "11/11 [==============================] - 0s 6ms/step - loss: 0.0881 - accuracy: 0.9799\n",
      "Epoch 94/100\n",
      "11/11 [==============================] - 0s 6ms/step - loss: 0.0874 - accuracy: 0.9799\n",
      "Epoch 95/100\n",
      "11/11 [==============================] - 0s 7ms/step - loss: 0.0951 - accuracy: 0.9656\n",
      "Epoch 96/100\n",
      "11/11 [==============================] - 0s 6ms/step - loss: 0.0830 - accuracy: 0.9828\n",
      "Epoch 97/100\n",
      "11/11 [==============================] - 0s 6ms/step - loss: 0.0849 - accuracy: 0.9828\n",
      "Epoch 98/100\n",
      "11/11 [==============================] - 0s 7ms/step - loss: 0.0835 - accuracy: 0.9742\n",
      "Epoch 99/100\n",
      "11/11 [==============================] - 0s 6ms/step - loss: 0.0855 - accuracy: 0.9828\n",
      "Epoch 100/100\n",
      "11/11 [==============================] - 0s 6ms/step - loss: 0.0872 - accuracy: 0.9828\n"
     ]
    },
    {
     "data": {
      "text/plain": [
       "<keras.callbacks.History at 0x29d1a6920>"
      ]
     },
     "execution_count": 10,
     "metadata": {},
     "output_type": "execute_result"
    }
   ],
   "source": [
    "model.fit(X_train, y_train, epochs=100)"
   ]
  },
  {
   "cell_type": "markdown",
   "id": "0b5ab15e",
   "metadata": {},
   "source": [
    "## 1.3 Making predictions"
   ]
  },
  {
   "cell_type": "markdown",
   "id": "dc3e1976",
   "metadata": {},
   "source": [
    "To make predictions, we simply input the data we want to make predictions on into the model we have trained. `.numpy()` just helps with formatting"
   ]
  },
  {
   "cell_type": "code",
   "execution_count": 11,
   "id": "fe8eece6",
   "metadata": {},
   "outputs": [],
   "source": [
    "predictions = model(X_test).numpy()"
   ]
  },
  {
   "cell_type": "markdown",
   "id": "b2b5c531",
   "metadata": {},
   "source": [
    "Our predictions are values between 0 and 1. Let's get actual binary classification predictions and compute the accuracy on the test set:"
   ]
  },
  {
   "cell_type": "code",
   "execution_count": 12,
   "id": "0bfdfd30",
   "metadata": {},
   "outputs": [
    {
     "name": "stdout",
     "output_type": "stream",
     "text": [
      "test accuracy: 91.93548387096774 %\n"
     ]
    }
   ],
   "source": [
    "predictions = (predictions > 0.5)\n",
    "print(\"test accuracy: {} %\".format(100 - np.mean(np.abs(predictions - y_test)) * 100))"
   ]
  },
  {
   "cell_type": "markdown",
   "id": "4766ab45",
   "metadata": {},
   "source": [
    "## 1.4 The same but a bit fancier"
   ]
  },
  {
   "cell_type": "markdown",
   "id": "83f5e545",
   "metadata": {},
   "source": [
    "Let's restart the process (we will use `clear_session` to properly clear out TensorFlow's cache). Other than that, we will only make three small changes:\n",
    "- We add validation data to the training process (we will here simply use the test data - not best practice, but this is just for showing you how the TensorFlow training can directly consider a validation data set)\n",
    "- Instead of using the default `'sgd'` optimizer, we manually specify the learning rate, using the `tf.keras.optimizers.experimental.SGD` object\n",
    "- We also save the output of `model.fit`, as this will be interesting for drawing graphs"
   ]
  },
  {
   "cell_type": "code",
   "execution_count": 13,
   "id": "1877267f",
   "metadata": {},
   "outputs": [],
   "source": [
    "tf.keras.backend.clear_session()\n"
   ]
  },
  {
   "cell_type": "code",
   "execution_count": 15,
   "id": "5406c3bb",
   "metadata": {},
   "outputs": [
    {
     "name": "stdout",
     "output_type": "stream",
     "text": [
      "Epoch 1/100\n",
      " 9/11 [=======================>......] - ETA: 0s - loss: 1.9373 - accuracy: 0.4896"
     ]
    },
    {
     "name": "stderr",
     "output_type": "stream",
     "text": [
      "2023-02-23 00:06:52.408492: I tensorflow/core/grappler/optimizers/custom_graph_optimizer_registry.cc:114] Plugin optimizer for device_type GPU is enabled.\n"
     ]
    },
    {
     "name": "stdout",
     "output_type": "stream",
     "text": [
      "11/11 [==============================] - 1s 29ms/step - loss: 2.0753 - accuracy: 0.4900 - val_loss: 1.4644 - val_accuracy: 0.5000\n",
      "Epoch 2/100\n",
      " 8/11 [====================>.........] - ETA: 0s - loss: 1.9878 - accuracy: 0.5117"
     ]
    },
    {
     "name": "stderr",
     "output_type": "stream",
     "text": [
      "2023-02-23 00:06:52.743243: I tensorflow/core/grappler/optimizers/custom_graph_optimizer_registry.cc:114] Plugin optimizer for device_type GPU is enabled.\n"
     ]
    },
    {
     "name": "stdout",
     "output_type": "stream",
     "text": [
      "11/11 [==============================] - 0s 10ms/step - loss: 2.2083 - accuracy: 0.4928 - val_loss: 1.6354 - val_accuracy: 0.5000\n",
      "Epoch 3/100\n",
      "11/11 [==============================] - 0s 9ms/step - loss: 1.7879 - accuracy: 0.5244 - val_loss: 2.1581 - val_accuracy: 0.5000\n",
      "Epoch 4/100\n",
      "11/11 [==============================] - 0s 9ms/step - loss: 2.3963 - accuracy: 0.4613 - val_loss: 1.1461 - val_accuracy: 0.5000\n",
      "Epoch 5/100\n",
      "11/11 [==============================] - 0s 8ms/step - loss: 1.9720 - accuracy: 0.4728 - val_loss: 2.1705 - val_accuracy: 0.5000\n",
      "Epoch 6/100\n",
      "11/11 [==============================] - 0s 9ms/step - loss: 1.4369 - accuracy: 0.5788 - val_loss: 0.4309 - val_accuracy: 0.8065\n",
      "Epoch 7/100\n",
      "11/11 [==============================] - 0s 9ms/step - loss: 1.0715 - accuracy: 0.5788 - val_loss: 2.2470 - val_accuracy: 0.5000\n",
      "Epoch 8/100\n",
      "11/11 [==============================] - 0s 9ms/step - loss: 1.2218 - accuracy: 0.5702 - val_loss: 0.2840 - val_accuracy: 0.8548\n",
      "Epoch 9/100\n",
      "11/11 [==============================] - 0s 9ms/step - loss: 0.9052 - accuracy: 0.6447 - val_loss: 0.2504 - val_accuracy: 0.9194\n",
      "Epoch 10/100\n",
      "11/11 [==============================] - 0s 8ms/step - loss: 0.2392 - accuracy: 0.9054 - val_loss: 0.2482 - val_accuracy: 0.8871\n",
      "Epoch 11/100\n",
      "11/11 [==============================] - 0s 9ms/step - loss: 0.4923 - accuracy: 0.7880 - val_loss: 0.3539 - val_accuracy: 0.8226\n",
      "Epoch 12/100\n",
      "11/11 [==============================] - 0s 9ms/step - loss: 0.2888 - accuracy: 0.8797 - val_loss: 0.3022 - val_accuracy: 0.8065\n",
      "Epoch 13/100\n",
      "11/11 [==============================] - 0s 10ms/step - loss: 0.2885 - accuracy: 0.8682 - val_loss: 0.4901 - val_accuracy: 0.8065\n",
      "Epoch 14/100\n",
      "11/11 [==============================] - 0s 8ms/step - loss: 0.2340 - accuracy: 0.9026 - val_loss: 0.4371 - val_accuracy: 0.8226\n",
      "Epoch 15/100\n",
      "11/11 [==============================] - 0s 8ms/step - loss: 0.3597 - accuracy: 0.8395 - val_loss: 0.2319 - val_accuracy: 0.8871\n",
      "Epoch 16/100\n",
      "11/11 [==============================] - 0s 9ms/step - loss: 0.2376 - accuracy: 0.8968 - val_loss: 0.5636 - val_accuracy: 0.7742\n",
      "Epoch 17/100\n",
      "11/11 [==============================] - 0s 9ms/step - loss: 0.2015 - accuracy: 0.9226 - val_loss: 0.2209 - val_accuracy: 0.8871\n",
      "Epoch 18/100\n",
      "11/11 [==============================] - 0s 8ms/step - loss: 0.7823 - accuracy: 0.6963 - val_loss: 0.2552 - val_accuracy: 0.8871\n",
      "Epoch 19/100\n",
      "11/11 [==============================] - 0s 8ms/step - loss: 0.2216 - accuracy: 0.9083 - val_loss: 0.2809 - val_accuracy: 0.9194\n",
      "Epoch 20/100\n",
      "11/11 [==============================] - 0s 8ms/step - loss: 0.1642 - accuracy: 0.9570 - val_loss: 0.2092 - val_accuracy: 0.9032\n",
      "Epoch 21/100\n",
      "11/11 [==============================] - 0s 8ms/step - loss: 0.1620 - accuracy: 0.9427 - val_loss: 0.2604 - val_accuracy: 0.9194\n",
      "Epoch 22/100\n",
      "11/11 [==============================] - 0s 9ms/step - loss: 0.1819 - accuracy: 0.9341 - val_loss: 0.2392 - val_accuracy: 0.9194\n",
      "Epoch 23/100\n",
      "11/11 [==============================] - 0s 9ms/step - loss: 0.1671 - accuracy: 0.9456 - val_loss: 0.4548 - val_accuracy: 0.8387\n",
      "Epoch 24/100\n",
      "11/11 [==============================] - 0s 9ms/step - loss: 0.2687 - accuracy: 0.8625 - val_loss: 0.3260 - val_accuracy: 0.9032\n",
      "Epoch 25/100\n",
      "11/11 [==============================] - 0s 8ms/step - loss: 0.1823 - accuracy: 0.9284 - val_loss: 0.2055 - val_accuracy: 0.9032\n",
      "Epoch 26/100\n",
      "11/11 [==============================] - 0s 8ms/step - loss: 0.1729 - accuracy: 0.9312 - val_loss: 0.2248 - val_accuracy: 0.9194\n",
      "Epoch 27/100\n",
      "11/11 [==============================] - 0s 8ms/step - loss: 0.1750 - accuracy: 0.9341 - val_loss: 0.2022 - val_accuracy: 0.8871\n",
      "Epoch 28/100\n",
      "11/11 [==============================] - 0s 9ms/step - loss: 0.1536 - accuracy: 0.9570 - val_loss: 0.2400 - val_accuracy: 0.9194\n",
      "Epoch 29/100\n",
      "11/11 [==============================] - 0s 8ms/step - loss: 0.1487 - accuracy: 0.9484 - val_loss: 0.2030 - val_accuracy: 0.8871\n",
      "Epoch 30/100\n",
      "11/11 [==============================] - 0s 8ms/step - loss: 0.1438 - accuracy: 0.9513 - val_loss: 0.1977 - val_accuracy: 0.9032\n",
      "Epoch 31/100\n",
      "11/11 [==============================] - 0s 8ms/step - loss: 0.1659 - accuracy: 0.9513 - val_loss: 0.2796 - val_accuracy: 0.9194\n",
      "Epoch 32/100\n",
      "11/11 [==============================] - 0s 8ms/step - loss: 0.1558 - accuracy: 0.9513 - val_loss: 0.2315 - val_accuracy: 0.9194\n",
      "Epoch 33/100\n",
      "11/11 [==============================] - 0s 8ms/step - loss: 0.1360 - accuracy: 0.9599 - val_loss: 0.1965 - val_accuracy: 0.8871\n",
      "Epoch 34/100\n",
      "11/11 [==============================] - 0s 8ms/step - loss: 0.1555 - accuracy: 0.9484 - val_loss: 0.2094 - val_accuracy: 0.9194\n",
      "Epoch 35/100\n",
      "11/11 [==============================] - 0s 8ms/step - loss: 0.1371 - accuracy: 0.9570 - val_loss: 0.2200 - val_accuracy: 0.9194\n",
      "Epoch 36/100\n",
      "11/11 [==============================] - 0s 8ms/step - loss: 0.1297 - accuracy: 0.9599 - val_loss: 0.1975 - val_accuracy: 0.8871\n",
      "Epoch 37/100\n",
      "11/11 [==============================] - 0s 8ms/step - loss: 0.1519 - accuracy: 0.9484 - val_loss: 0.2900 - val_accuracy: 0.9032\n",
      "Epoch 38/100\n",
      "11/11 [==============================] - 0s 8ms/step - loss: 0.1464 - accuracy: 0.9398 - val_loss: 0.2361 - val_accuracy: 0.9194\n",
      "Epoch 39/100\n",
      "11/11 [==============================] - 0s 8ms/step - loss: 0.1492 - accuracy: 0.9427 - val_loss: 0.1961 - val_accuracy: 0.9032\n",
      "Epoch 40/100\n",
      "11/11 [==============================] - 0s 10ms/step - loss: 0.1224 - accuracy: 0.9656 - val_loss: 0.1945 - val_accuracy: 0.8871\n",
      "Epoch 41/100\n",
      "11/11 [==============================] - 0s 8ms/step - loss: 0.1412 - accuracy: 0.9570 - val_loss: 0.2548 - val_accuracy: 0.9194\n",
      "Epoch 42/100\n",
      "11/11 [==============================] - 0s 7ms/step - loss: 0.1439 - accuracy: 0.9456 - val_loss: 0.1948 - val_accuracy: 0.8871\n",
      "Epoch 43/100\n",
      "11/11 [==============================] - 0s 8ms/step - loss: 0.1341 - accuracy: 0.9542 - val_loss: 0.1905 - val_accuracy: 0.8871\n",
      "Epoch 44/100\n",
      "11/11 [==============================] - 0s 8ms/step - loss: 0.1487 - accuracy: 0.9398 - val_loss: 0.2712 - val_accuracy: 0.9194\n",
      "Epoch 45/100\n",
      "11/11 [==============================] - 0s 8ms/step - loss: 0.1369 - accuracy: 0.9628 - val_loss: 0.1890 - val_accuracy: 0.9032\n",
      "Epoch 46/100\n",
      "11/11 [==============================] - 0s 9ms/step - loss: 0.1234 - accuracy: 0.9656 - val_loss: 0.1952 - val_accuracy: 0.9032\n",
      "Epoch 47/100\n",
      "11/11 [==============================] - 0s 8ms/step - loss: 0.1273 - accuracy: 0.9656 - val_loss: 0.1920 - val_accuracy: 0.9194\n",
      "Epoch 48/100\n",
      "11/11 [==============================] - 0s 8ms/step - loss: 0.1441 - accuracy: 0.9484 - val_loss: 0.1900 - val_accuracy: 0.8871\n",
      "Epoch 49/100\n",
      "11/11 [==============================] - 0s 8ms/step - loss: 0.1265 - accuracy: 0.9542 - val_loss: 0.1895 - val_accuracy: 0.8871\n",
      "Epoch 50/100\n",
      "11/11 [==============================] - 0s 8ms/step - loss: 0.1172 - accuracy: 0.9713 - val_loss: 0.1892 - val_accuracy: 0.8871\n",
      "Epoch 51/100\n",
      "11/11 [==============================] - 0s 8ms/step - loss: 0.1339 - accuracy: 0.9427 - val_loss: 0.1888 - val_accuracy: 0.9194\n",
      "Epoch 52/100\n",
      "11/11 [==============================] - 0s 8ms/step - loss: 0.1352 - accuracy: 0.9513 - val_loss: 0.1893 - val_accuracy: 0.9032\n",
      "Epoch 53/100\n",
      "11/11 [==============================] - 0s 7ms/step - loss: 0.1282 - accuracy: 0.9570 - val_loss: 0.1967 - val_accuracy: 0.9032\n",
      "Epoch 54/100\n",
      "11/11 [==============================] - 0s 8ms/step - loss: 0.1183 - accuracy: 0.9713 - val_loss: 0.2154 - val_accuracy: 0.9194\n",
      "Epoch 55/100\n",
      "11/11 [==============================] - 0s 9ms/step - loss: 0.1103 - accuracy: 0.9713 - val_loss: 0.2058 - val_accuracy: 0.9032\n",
      "Epoch 56/100\n",
      "11/11 [==============================] - 0s 9ms/step - loss: 0.1134 - accuracy: 0.9713 - val_loss: 0.2320 - val_accuracy: 0.9194\n",
      "Epoch 57/100\n",
      "11/11 [==============================] - 0s 8ms/step - loss: 0.1056 - accuracy: 0.9742 - val_loss: 0.2554 - val_accuracy: 0.9194\n",
      "Epoch 58/100\n",
      "11/11 [==============================] - 0s 8ms/step - loss: 0.1161 - accuracy: 0.9685 - val_loss: 0.1850 - val_accuracy: 0.9194\n",
      "Epoch 59/100\n",
      "11/11 [==============================] - 0s 8ms/step - loss: 0.1051 - accuracy: 0.9771 - val_loss: 0.1887 - val_accuracy: 0.9194\n",
      "Epoch 60/100\n",
      "11/11 [==============================] - 0s 8ms/step - loss: 0.1189 - accuracy: 0.9628 - val_loss: 0.1828 - val_accuracy: 0.9194\n",
      "Epoch 61/100\n",
      "11/11 [==============================] - 0s 8ms/step - loss: 0.1127 - accuracy: 0.9713 - val_loss: 0.1825 - val_accuracy: 0.9032\n",
      "Epoch 62/100\n",
      "11/11 [==============================] - 0s 8ms/step - loss: 0.1052 - accuracy: 0.9799 - val_loss: 0.2160 - val_accuracy: 0.9194\n",
      "Epoch 63/100\n",
      "11/11 [==============================] - 0s 8ms/step - loss: 0.1111 - accuracy: 0.9713 - val_loss: 0.1850 - val_accuracy: 0.9194\n",
      "Epoch 64/100\n",
      "11/11 [==============================] - 0s 8ms/step - loss: 0.1201 - accuracy: 0.9599 - val_loss: 0.1814 - val_accuracy: 0.9032\n",
      "Epoch 65/100\n",
      "11/11 [==============================] - 0s 8ms/step - loss: 0.1139 - accuracy: 0.9685 - val_loss: 0.1968 - val_accuracy: 0.9032\n",
      "Epoch 66/100\n",
      "11/11 [==============================] - 0s 10ms/step - loss: 0.1129 - accuracy: 0.9542 - val_loss: 0.1887 - val_accuracy: 0.9032\n",
      "Epoch 67/100\n",
      "11/11 [==============================] - 0s 9ms/step - loss: 0.1182 - accuracy: 0.9570 - val_loss: 0.1812 - val_accuracy: 0.9194\n",
      "Epoch 68/100\n",
      "11/11 [==============================] - 0s 8ms/step - loss: 0.1004 - accuracy: 0.9742 - val_loss: 0.1811 - val_accuracy: 0.9194\n",
      "Epoch 69/100\n",
      "11/11 [==============================] - 0s 8ms/step - loss: 0.1082 - accuracy: 0.9713 - val_loss: 0.1932 - val_accuracy: 0.9032\n",
      "Epoch 70/100\n",
      "11/11 [==============================] - 0s 8ms/step - loss: 0.1039 - accuracy: 0.9656 - val_loss: 0.1800 - val_accuracy: 0.9032\n",
      "Epoch 71/100\n",
      "11/11 [==============================] - 0s 8ms/step - loss: 0.0979 - accuracy: 0.9771 - val_loss: 0.1827 - val_accuracy: 0.9032\n",
      "Epoch 72/100\n",
      "11/11 [==============================] - 0s 9ms/step - loss: 0.0966 - accuracy: 0.9771 - val_loss: 0.2219 - val_accuracy: 0.9194\n",
      "Epoch 73/100\n",
      "11/11 [==============================] - 0s 9ms/step - loss: 0.1074 - accuracy: 0.9742 - val_loss: 0.1998 - val_accuracy: 0.9032\n",
      "Epoch 74/100\n",
      "11/11 [==============================] - 0s 8ms/step - loss: 0.1029 - accuracy: 0.9771 - val_loss: 0.1788 - val_accuracy: 0.9032\n",
      "Epoch 75/100\n",
      "11/11 [==============================] - 0s 8ms/step - loss: 0.1006 - accuracy: 0.9742 - val_loss: 0.1805 - val_accuracy: 0.9194\n",
      "Epoch 76/100\n",
      "11/11 [==============================] - 0s 8ms/step - loss: 0.0970 - accuracy: 0.9713 - val_loss: 0.2679 - val_accuracy: 0.9194\n",
      "Epoch 77/100\n",
      "11/11 [==============================] - 0s 8ms/step - loss: 0.0958 - accuracy: 0.9742 - val_loss: 0.1780 - val_accuracy: 0.9032\n",
      "Epoch 78/100\n",
      "11/11 [==============================] - 0s 8ms/step - loss: 0.0929 - accuracy: 0.9799 - val_loss: 0.1779 - val_accuracy: 0.9194\n",
      "Epoch 79/100\n",
      "11/11 [==============================] - 0s 8ms/step - loss: 0.0984 - accuracy: 0.9713 - val_loss: 0.2031 - val_accuracy: 0.9032\n",
      "Epoch 80/100\n",
      "11/11 [==============================] - 0s 8ms/step - loss: 0.1020 - accuracy: 0.9713 - val_loss: 0.1816 - val_accuracy: 0.9032\n",
      "Epoch 81/100\n",
      "11/11 [==============================] - 0s 7ms/step - loss: 0.0965 - accuracy: 0.9742 - val_loss: 0.1775 - val_accuracy: 0.9194\n",
      "Epoch 82/100\n",
      "11/11 [==============================] - 0s 8ms/step - loss: 0.0923 - accuracy: 0.9771 - val_loss: 0.1881 - val_accuracy: 0.9032\n",
      "Epoch 83/100\n",
      "11/11 [==============================] - 0s 8ms/step - loss: 0.0975 - accuracy: 0.9771 - val_loss: 0.1790 - val_accuracy: 0.9194\n",
      "Epoch 84/100\n",
      "11/11 [==============================] - 0s 9ms/step - loss: 0.0970 - accuracy: 0.9656 - val_loss: 0.1860 - val_accuracy: 0.9032\n",
      "Epoch 85/100\n",
      "11/11 [==============================] - 0s 8ms/step - loss: 0.0930 - accuracy: 0.9742 - val_loss: 0.1836 - val_accuracy: 0.9032\n",
      "Epoch 86/100\n",
      "11/11 [==============================] - 0s 8ms/step - loss: 0.0938 - accuracy: 0.9799 - val_loss: 0.1785 - val_accuracy: 0.9194\n",
      "Epoch 87/100\n",
      "11/11 [==============================] - 0s 8ms/step - loss: 0.0945 - accuracy: 0.9771 - val_loss: 0.2231 - val_accuracy: 0.9194\n",
      "Epoch 88/100\n",
      "11/11 [==============================] - 0s 9ms/step - loss: 0.0907 - accuracy: 0.9799 - val_loss: 0.1791 - val_accuracy: 0.9194\n",
      "Epoch 89/100\n",
      "11/11 [==============================] - 0s 10ms/step - loss: 0.0880 - accuracy: 0.9799 - val_loss: 0.1934 - val_accuracy: 0.9032\n",
      "Epoch 90/100\n",
      "11/11 [==============================] - 0s 9ms/step - loss: 0.0870 - accuracy: 0.9799 - val_loss: 0.1753 - val_accuracy: 0.9194\n",
      "Epoch 91/100\n",
      "11/11 [==============================] - 0s 8ms/step - loss: 0.0919 - accuracy: 0.9742 - val_loss: 0.2058 - val_accuracy: 0.9032\n",
      "Epoch 92/100\n",
      "11/11 [==============================] - 0s 8ms/step - loss: 0.0849 - accuracy: 0.9828 - val_loss: 0.1747 - val_accuracy: 0.9032\n",
      "Epoch 93/100\n",
      "11/11 [==============================] - 0s 9ms/step - loss: 0.0852 - accuracy: 0.9828 - val_loss: 0.1744 - val_accuracy: 0.9032\n",
      "Epoch 94/100\n",
      "11/11 [==============================] - 0s 8ms/step - loss: 0.0929 - accuracy: 0.9713 - val_loss: 0.1837 - val_accuracy: 0.9032\n",
      "Epoch 95/100\n",
      "11/11 [==============================] - 0s 9ms/step - loss: 0.0852 - accuracy: 0.9742 - val_loss: 0.2186 - val_accuracy: 0.9194\n",
      "Epoch 96/100\n",
      "11/11 [==============================] - 0s 8ms/step - loss: 0.0959 - accuracy: 0.9742 - val_loss: 0.1799 - val_accuracy: 0.9032\n",
      "Epoch 97/100\n",
      "11/11 [==============================] - 0s 9ms/step - loss: 0.0960 - accuracy: 0.9713 - val_loss: 0.1733 - val_accuracy: 0.9032\n",
      "Epoch 98/100\n",
      "11/11 [==============================] - 0s 9ms/step - loss: 0.0817 - accuracy: 0.9799 - val_loss: 0.1930 - val_accuracy: 0.9032\n",
      "Epoch 99/100\n",
      "11/11 [==============================] - 0s 8ms/step - loss: 0.0860 - accuracy: 0.9799 - val_loss: 0.1740 - val_accuracy: 0.9355\n",
      "Epoch 100/100\n",
      "11/11 [==============================] - 0s 9ms/step - loss: 0.0853 - accuracy: 0.9799 - val_loss: 0.1958 - val_accuracy: 0.9032\n"
     ]
    }
   ],
   "source": [
    "model = tf.keras.models.Sequential([\n",
    "  tf.keras.layers.Flatten(input_shape=(64, 64)),\n",
    "  tf.keras.layers.Dense(1, activation='sigmoid')\n",
    "])\n",
    "\n",
    "model.compile(optimizer=tf.keras.optimizers.SGD(learning_rate=0.01),\n",
    "              loss='binary_crossentropy',\n",
    "              metrics=['accuracy'])\n",
    "\n",
    "log = model.fit(X_train, y_train, epochs=100, validation_data=(X_test, y_test))"
   ]
  },
  {
   "cell_type": "markdown",
   "id": "c17af278",
   "metadata": {},
   "source": [
    "We can now use the log to see how the training went. The `log.history` is a dictionary that will capture, for each epoch, all the metrics we defined for our model (`['accuracy']` in our case), as well as the cost/loss, for both the training and the \"validation\" dataset. The keywords to use in the dictionary are simply the words you can find in the log above."
   ]
  },
  {
   "cell_type": "code",
   "execution_count": 16,
   "id": "f80d4829",
   "metadata": {},
   "outputs": [
    {
     "data": {
      "image/png": "[encoded data removed]",
      "text/plain": [
       "<Figure size 640x480 with 1 Axes>"
      ]
     },
     "metadata": {},
     "output_type": "display_data"
    }
   ],
   "source": [
    "plt.plot(log.history['loss'],label = \"training loss\")\n",
    "plt.plot(log.history['val_loss'], label = \"testing loss\")\n",
    "plt.legend()\n",
    "plt.show()"
   ]
  },
  {
   "cell_type": "code",
   "execution_count": 17,
   "id": "821b4198",
   "metadata": {
    "scrolled": true
   },
   "outputs": [
    {
     "data": {
      "image/png": "[encoded data removed]",
      "text/plain": [
       "<Figure size 640x480 with 1 Axes>"
      ]
     },
     "metadata": {},
     "output_type": "display_data"
    }
   ],
   "source": [
    "plt.plot(log.history['accuracy'],label = \"training accuracy\")\n",
    "plt.plot(log.history['val_accuracy'], label = \"testing accuracy\")\n",
    "plt.legend()\n",
    "plt.show()"
   ]
  },
  {
   "cell_type": "markdown",
   "id": "39d7aaf8",
   "metadata": {},
   "source": [
    "We can also look at the parameters and how they have been adjusted when the model was trained. Remember that `model.layers` gives us all the layers of our model:"
   ]
  },
  {
   "cell_type": "code",
   "execution_count": 18,
   "id": "aebb715e",
   "metadata": {},
   "outputs": [
    {
     "data": {
      "text/plain": [
       "[<keras.layers.reshaping.flatten.Flatten at 0x2bfff3490>,\n",
       " <keras.layers.core.dense.Dense at 0x2bfff3ca0>]"
      ]
     },
     "execution_count": 18,
     "metadata": {},
     "output_type": "execute_result"
    }
   ],
   "source": [
    "model.layers"
   ]
  },
  {
   "cell_type": "markdown",
   "id": "ca3e6597",
   "metadata": {},
   "source": [
    "We can access these layers with standard Pythonic indexing. E.g., the output layer in our case is layer 1:"
   ]
  },
  {
   "cell_type": "code",
   "execution_count": 19,
   "id": "b05b2712",
   "metadata": {},
   "outputs": [],
   "source": [
    "output_layer = model.layers[1]"
   ]
  },
  {
   "cell_type": "markdown",
   "id": "dacd5708",
   "metadata": {},
   "source": [
    "Let's now take a look at both the weights and the bias after training. Before you run the cell, ask yourself: how many weights and biases do you expect there to be?"
   ]
  },
  {
   "cell_type": "code",
   "execution_count": 20,
   "id": "c2bd5348",
   "metadata": {},
   "outputs": [
    {
     "name": "stdout",
     "output_type": "stream",
     "text": [
      "[[-0.00209777]\n",
      " [ 0.00713125]\n",
      " [-0.0100219 ]\n",
      " ...\n",
      " [ 0.01565746]\n",
      " [ 0.00015043]\n",
      " [-0.01249894]]\n",
      "----\n",
      "(4096, 1)\n",
      "----\n",
      "[-0.00527056]\n"
     ]
    }
   ],
   "source": [
    "weights, bias = output_layer.get_weights()\n",
    "print(weights)\n",
    "print('----')\n",
    "print(weights.shape)\n",
    "print('----')\n",
    "print(bias)"
   ]
  },
  {
   "cell_type": "markdown",
   "id": "168efacd",
   "metadata": {},
   "source": [
    "We make predictions as before."
   ]
  },
  {
   "cell_type": "code",
   "execution_count": 21,
   "id": "9bd6925f",
   "metadata": {},
   "outputs": [
    {
     "name": "stdout",
     "output_type": "stream",
     "text": [
      "test accuracy: 90.3225806451613 %\n"
     ]
    }
   ],
   "source": [
    "predictions = model(X_test).numpy()\n",
    "predictions = (predictions > 0.5)\n",
    "print(\"test accuracy: {} %\".format(100 - np.mean(np.abs(predictions - y_test)) * 100))"
   ]
  },
  {
   "cell_type": "markdown",
   "id": "6240bf35",
   "metadata": {},
   "source": [
    "Note: you can also use `model.predict(X_test)` to make predictins (try it out). This has the advantage that we can change the `batch_size` (something we will get to know later), and that it works on TenssorFlow `Dataset` objects."
   ]
  },
  {
   "cell_type": "markdown",
   "id": "0aa63c5a",
   "metadata": {},
   "source": [
    "# 2. Creating a deeper neural network with TensorFlow"
   ]
  },
  {
   "cell_type": "markdown",
   "id": "839802a5",
   "metadata": {},
   "source": [
    "We will now create a deeper neural network with TensorFlow's Sequential API (the same one we were just using now). Before we do so, let's properly clear out the cache:"
   ]
  },
  {
   "cell_type": "code",
   "execution_count": 22,
   "id": "99178380",
   "metadata": {},
   "outputs": [],
   "source": [
    "tf.keras.backend.clear_session()"
   ]
  },
  {
   "cell_type": "markdown",
   "id": "27922aa2",
   "metadata": {},
   "source": [
    "We can now create the model. We are using the `Flatten` layer again, to convert our input-matrices into input-vectors. We then add a number of hidden layers and an output layer. Can you add the missing layers? In particular, we want to add \n",
    "- A `Dense` layer with 3 units and the `\"relu\"` activation function. Hint: use `model.add(tf.keras.layers.Dense(3, activation=\"relu\", kernel_initializer='uniform'))`\n",
    "- An output layer. This should again allow you to do binary classification as before\n",
    "\n",
    "Make sure to use `kernel_initializer='uniform'` for all `Dense` layers."
   ]
  },
  {
   "cell_type": "code",
   "execution_count": 23,
   "id": "f2bd0ce9",
   "metadata": {},
   "outputs": [],
   "source": [
    "model = tf.keras.models.Sequential()\n",
    "model.add(tf.keras.layers.Flatten(input_shape=(64,64)))\n",
    "model.add(tf.keras.layers.Dense(3, activation=\"relu\", kernel_initializer='uniform'))\n",
    "model.add(tf.keras.layers.Dense(1, activation=\"sigmoid\", kernel_initializer='uniform'))"
   ]
  },
  {
   "cell_type": "markdown",
   "id": "7e8a1d9a",
   "metadata": {},
   "source": [
    "In general, if you are unsure about any of the inputs to the TensorFlow functions, make sure to check the [amazing documentation](https://www.tensorflow.org/api_docs/python/tf/all_symbols).\n",
    "\n",
    "As before, we can print out a summary of the `model`:"
   ]
  },
  {
   "cell_type": "code",
   "execution_count": 24,
   "id": "912c9825",
   "metadata": {},
   "outputs": [
    {
     "name": "stdout",
     "output_type": "stream",
     "text": [
      "Model: \"sequential\"\n",
      "_________________________________________________________________\n",
      " Layer (type)                Output Shape              Param #   \n",
      "=================================================================\n",
      " flatten (Flatten)           (None, 4096)              0         \n",
      "                                                                 \n",
      " dense (Dense)               (None, 3)                 12291     \n",
      "                                                                 \n",
      " dense_1 (Dense)             (None, 1)                 4         \n",
      "                                                                 \n",
      "=================================================================\n",
      "Total params: 12,295\n",
      "Trainable params: 12,295\n",
      "Non-trainable params: 0\n",
      "_________________________________________________________________\n"
     ]
    }
   ],
   "source": [
    "model.summary()"
   ]
  },
  {
   "cell_type": "markdown",
   "id": "eabfa407",
   "metadata": {},
   "source": [
    "Do the shapes make sense to you?\n",
    "\n",
    "Can you account for the number of parameters?"
   ]
  },
  {
   "cell_type": "markdown",
   "id": "fd73e0b2",
   "metadata": {},
   "source": [
    "We can also visualize the layers of our model (this will rely on you having successfuly installed graphviz. Don't worry too much if you're having problem with this - the information is the same as in `model.summary()`):"
   ]
  },
  {
   "cell_type": "code",
   "execution_count": 25,
   "id": "70e3a591",
   "metadata": {},
   "outputs": [
    {
     "data": {
      "image/png": "[encoded data removed]",
      "text/plain": [
       "<IPython.core.display.Image object>"
      ]
     },
     "execution_count": 25,
     "metadata": {},
     "output_type": "execute_result"
    }
   ],
   "source": [
    "tf.keras.utils.plot_model(model, show_shapes=True)"
   ]
  },
  {
   "cell_type": "markdown",
   "id": "60bae996",
   "metadata": {},
   "source": [
    "And as before, we can take a look at it's parameters (note that we haven't trained the model yet, so these are the randomly generated weights and biases):"
   ]
  },
  {
   "cell_type": "code",
   "execution_count": 26,
   "id": "bb7afbb2",
   "metadata": {},
   "outputs": [],
   "source": [
    "hidden_layer = model.layers[1]"
   ]
  },
  {
   "cell_type": "code",
   "execution_count": 27,
   "id": "1022d865",
   "metadata": {},
   "outputs": [
    {
     "name": "stdout",
     "output_type": "stream",
     "text": [
      "[[ 0.04070088  0.01445139  0.02386515]\n",
      " [-0.04755646  0.03972692  0.02267096]\n",
      " [-0.04993638  0.01754632 -0.01634507]\n",
      " ...\n",
      " [ 0.02001521 -0.04811801  0.00834948]\n",
      " [ 0.04509057  0.0488881  -0.04010129]\n",
      " [-0.03322619 -0.00252495 -0.0311322 ]]\n",
      "----\n",
      "(4096, 3)\n",
      "----\n",
      "[0. 0. 0.]\n",
      "----\n",
      "(3,)\n"
     ]
    }
   ],
   "source": [
    "weights, bias = hidden_layer.get_weights()\n",
    "print(weights)\n",
    "print('----')\n",
    "print(weights.shape)\n",
    "print('----')\n",
    "print(bias)\n",
    "print('----')\n",
    "print(bias.shape)"
   ]
  },
  {
   "cell_type": "markdown",
   "id": "ced9387c",
   "metadata": {},
   "source": [
    "Finally, before training the model, we need to compile it again. We will once more use `SGD` as an optimization algorithm (with learning rate `0.01`), and `'binary_crossentropy'` as our loss (or cost) function. Also, make sure to add `\"accuracy\"` as a metric."
   ]
  },
  {
   "cell_type": "code",
   "execution_count": 28,
   "id": "137e6c7f",
   "metadata": {},
   "outputs": [],
   "source": [
    "model.compile(loss=\"binary_crossentropy\",\n",
    "              optimizer=tf.keras.optimizers.SGD(learning_rate=0.01),\n",
    "              metrics=[\"accuracy\"])"
   ]
  },
  {
   "cell_type": "markdown",
   "id": "5bbd0056",
   "metadata": {},
   "source": [
    "## 2.1 Training the model"
   ]
  },
  {
   "cell_type": "markdown",
   "id": "76e078a1",
   "metadata": {},
   "source": [
    "Let's now run the model for 100 epochs, similar to what we did before:"
   ]
  },
  {
   "cell_type": "code",
   "execution_count": 29,
   "id": "0b16b599",
   "metadata": {},
   "outputs": [
    {
     "name": "stdout",
     "output_type": "stream",
     "text": [
      "Epoch 1/100\n"
     ]
    },
    {
     "name": "stderr",
     "output_type": "stream",
     "text": [
      "2023-02-23 00:09:14.101184: I tensorflow/core/grappler/optimizers/custom_graph_optimizer_registry.cc:114] Plugin optimizer for device_type GPU is enabled.\n"
     ]
    },
    {
     "name": "stdout",
     "output_type": "stream",
     "text": [
      "11/11 [==============================] - 1s 34ms/step - loss: 0.6931 - accuracy: 0.4785 - val_loss: 0.6931 - val_accuracy: 0.4516\n",
      "Epoch 2/100\n",
      " 8/11 [====================>.........] - ETA: 0s - loss: 0.6930 - accuracy: 0.4883"
     ]
    },
    {
     "name": "stderr",
     "output_type": "stream",
     "text": [
      "2023-02-23 00:09:14.899053: I tensorflow/core/grappler/optimizers/custom_graph_optimizer_registry.cc:114] Plugin optimizer for device_type GPU is enabled.\n"
     ]
    },
    {
     "name": "stdout",
     "output_type": "stream",
     "text": [
      "11/11 [==============================] - 0s 9ms/step - loss: 0.6930 - accuracy: 0.4986 - val_loss: 0.6931 - val_accuracy: 0.4355\n",
      "Epoch 3/100\n",
      "11/11 [==============================] - 0s 9ms/step - loss: 0.6930 - accuracy: 0.4957 - val_loss: 0.6930 - val_accuracy: 0.4839\n",
      "Epoch 4/100\n",
      "11/11 [==============================] - 0s 9ms/step - loss: 0.6930 - accuracy: 0.5301 - val_loss: 0.6930 - val_accuracy: 0.4516\n",
      "Epoch 5/100\n",
      "11/11 [==============================] - 0s 11ms/step - loss: 0.6929 - accuracy: 0.4957 - val_loss: 0.6930 - val_accuracy: 0.4677\n",
      "Epoch 6/100\n",
      "11/11 [==============================] - 0s 9ms/step - loss: 0.6929 - accuracy: 0.5072 - val_loss: 0.6929 - val_accuracy: 0.4839\n",
      "Epoch 7/100\n",
      "11/11 [==============================] - 0s 9ms/step - loss: 0.6929 - accuracy: 0.5186 - val_loss: 0.6929 - val_accuracy: 0.4839\n",
      "Epoch 8/100\n",
      "11/11 [==============================] - 0s 9ms/step - loss: 0.6929 - accuracy: 0.5415 - val_loss: 0.6929 - val_accuracy: 0.4677\n",
      "Epoch 9/100\n",
      "11/11 [==============================] - 0s 9ms/step - loss: 0.6928 - accuracy: 0.5272 - val_loss: 0.6929 - val_accuracy: 0.4355\n",
      "Epoch 10/100\n",
      "11/11 [==============================] - 0s 9ms/step - loss: 0.6928 - accuracy: 0.5129 - val_loss: 0.6928 - val_accuracy: 0.4516\n",
      "Epoch 11/100\n",
      "11/11 [==============================] - 0s 9ms/step - loss: 0.6927 - accuracy: 0.5501 - val_loss: 0.6928 - val_accuracy: 0.4677\n",
      "Epoch 12/100\n",
      "11/11 [==============================] - 0s 8ms/step - loss: 0.6927 - accuracy: 0.5215 - val_loss: 0.6927 - val_accuracy: 0.4516\n",
      "Epoch 13/100\n",
      "11/11 [==============================] - 0s 8ms/step - loss: 0.6926 - accuracy: 0.5358 - val_loss: 0.6926 - val_accuracy: 0.4677\n",
      "Epoch 14/100\n",
      "11/11 [==============================] - 0s 8ms/step - loss: 0.6925 - accuracy: 0.5387 - val_loss: 0.6925 - val_accuracy: 0.4839\n",
      "Epoch 15/100\n",
      "11/11 [==============================] - 0s 9ms/step - loss: 0.6923 - accuracy: 0.5387 - val_loss: 0.6924 - val_accuracy: 0.4839\n",
      "Epoch 16/100\n",
      "11/11 [==============================] - 0s 9ms/step - loss: 0.6922 - accuracy: 0.5158 - val_loss: 0.6922 - val_accuracy: 0.5161\n",
      "Epoch 17/100\n",
      "11/11 [==============================] - 0s 9ms/step - loss: 0.6920 - accuracy: 0.5330 - val_loss: 0.6920 - val_accuracy: 0.5161\n",
      "Epoch 18/100\n",
      "11/11 [==============================] - 0s 8ms/step - loss: 0.6918 - accuracy: 0.5473 - val_loss: 0.6918 - val_accuracy: 0.5323\n",
      "Epoch 19/100\n",
      "11/11 [==============================] - 0s 8ms/step - loss: 0.6916 - accuracy: 0.5616 - val_loss: 0.6915 - val_accuracy: 0.5161\n",
      "Epoch 20/100\n",
      "11/11 [==============================] - 0s 10ms/step - loss: 0.6914 - accuracy: 0.5444 - val_loss: 0.6911 - val_accuracy: 0.5161\n",
      "Epoch 21/100\n",
      "11/11 [==============================] - 0s 9ms/step - loss: 0.6906 - accuracy: 0.5358 - val_loss: 0.6905 - val_accuracy: 0.5323\n",
      "Epoch 22/100\n",
      "11/11 [==============================] - 0s 11ms/step - loss: 0.6901 - accuracy: 0.5530 - val_loss: 0.6897 - val_accuracy: 0.5968\n",
      "Epoch 23/100\n",
      "11/11 [==============================] - 0s 8ms/step - loss: 0.6896 - accuracy: 0.5501 - val_loss: 0.6887 - val_accuracy: 0.5806\n",
      "Epoch 24/100\n",
      "11/11 [==============================] - 0s 8ms/step - loss: 0.6884 - accuracy: 0.5444 - val_loss: 0.6876 - val_accuracy: 0.6129\n",
      "Epoch 25/100\n",
      "11/11 [==============================] - 0s 9ms/step - loss: 0.6870 - accuracy: 0.5415 - val_loss: 0.6864 - val_accuracy: 0.6290\n",
      "Epoch 26/100\n",
      "11/11 [==============================] - 0s 9ms/step - loss: 0.6856 - accuracy: 0.5903 - val_loss: 0.6839 - val_accuracy: 0.6129\n",
      "Epoch 27/100\n",
      "11/11 [==============================] - 0s 9ms/step - loss: 0.6826 - accuracy: 0.6246 - val_loss: 0.6821 - val_accuracy: 0.5000\n",
      "Epoch 28/100\n",
      "11/11 [==============================] - 0s 8ms/step - loss: 0.6804 - accuracy: 0.5215 - val_loss: 0.6794 - val_accuracy: 0.7742\n",
      "Epoch 29/100\n",
      "11/11 [==============================] - 0s 8ms/step - loss: 0.6772 - accuracy: 0.6418 - val_loss: 0.6752 - val_accuracy: 0.5161\n",
      "Epoch 30/100\n",
      "11/11 [==============================] - 0s 9ms/step - loss: 0.6740 - accuracy: 0.5845 - val_loss: 0.6707 - val_accuracy: 0.5806\n",
      "Epoch 31/100\n",
      "11/11 [==============================] - 0s 9ms/step - loss: 0.6699 - accuracy: 0.5931 - val_loss: 0.6659 - val_accuracy: 0.7742\n",
      "Epoch 32/100\n",
      "11/11 [==============================] - 0s 9ms/step - loss: 0.6666 - accuracy: 0.6361 - val_loss: 0.6610 - val_accuracy: 0.5161\n",
      "Epoch 33/100\n",
      "11/11 [==============================] - 0s 9ms/step - loss: 0.6582 - accuracy: 0.6017 - val_loss: 0.6535 - val_accuracy: 0.7742\n",
      "Epoch 34/100\n",
      "11/11 [==============================] - 0s 9ms/step - loss: 0.6489 - accuracy: 0.6791 - val_loss: 0.6548 - val_accuracy: 0.5000\n",
      "Epoch 35/100\n",
      "11/11 [==============================] - 0s 9ms/step - loss: 0.6427 - accuracy: 0.6218 - val_loss: 0.6389 - val_accuracy: 0.5161\n",
      "Epoch 36/100\n",
      "11/11 [==============================] - 0s 9ms/step - loss: 0.6384 - accuracy: 0.6332 - val_loss: 0.6266 - val_accuracy: 0.6613\n",
      "Epoch 37/100\n",
      "11/11 [==============================] - 0s 9ms/step - loss: 0.6255 - accuracy: 0.6848 - val_loss: 0.6162 - val_accuracy: 0.6613\n",
      "Epoch 38/100\n",
      "11/11 [==============================] - 0s 8ms/step - loss: 0.6239 - accuracy: 0.7020 - val_loss: 0.6082 - val_accuracy: 0.8226\n",
      "Epoch 39/100\n",
      "11/11 [==============================] - 0s 8ms/step - loss: 0.6049 - accuracy: 0.7421 - val_loss: 0.6102 - val_accuracy: 0.5161\n",
      "Epoch 40/100\n",
      "11/11 [==============================] - 0s 9ms/step - loss: 0.5976 - accuracy: 0.6991 - val_loss: 0.5834 - val_accuracy: 0.8226\n",
      "Epoch 41/100\n",
      "11/11 [==============================] - 0s 9ms/step - loss: 0.5870 - accuracy: 0.7593 - val_loss: 0.5743 - val_accuracy: 0.8548\n",
      "Epoch 42/100\n",
      "11/11 [==============================] - 0s 9ms/step - loss: 0.5737 - accuracy: 0.7450 - val_loss: 0.5922 - val_accuracy: 0.5161\n",
      "Epoch 43/100\n",
      "11/11 [==============================] - 0s 8ms/step - loss: 0.5790 - accuracy: 0.7221 - val_loss: 0.5998 - val_accuracy: 0.8871\n",
      "Epoch 44/100\n",
      "11/11 [==============================] - 0s 8ms/step - loss: 0.5595 - accuracy: 0.7994 - val_loss: 0.5570 - val_accuracy: 0.6129\n",
      "Epoch 45/100\n",
      "11/11 [==============================] - 0s 8ms/step - loss: 0.5493 - accuracy: 0.7966 - val_loss: 0.5776 - val_accuracy: 0.5161\n",
      "Epoch 46/100\n",
      "11/11 [==============================] - 0s 10ms/step - loss: 0.5243 - accuracy: 0.7994 - val_loss: 0.5172 - val_accuracy: 0.8548\n",
      "Epoch 47/100\n",
      "11/11 [==============================] - 0s 9ms/step - loss: 0.5202 - accuracy: 0.8367 - val_loss: 0.5428 - val_accuracy: 0.6129\n",
      "Epoch 48/100\n",
      "11/11 [==============================] - 0s 8ms/step - loss: 0.5083 - accuracy: 0.8281 - val_loss: 0.5033 - val_accuracy: 0.7903\n",
      "Epoch 49/100\n",
      "11/11 [==============================] - 0s 8ms/step - loss: 0.4900 - accuracy: 0.8510 - val_loss: 0.5200 - val_accuracy: 0.6613\n",
      "Epoch 50/100\n",
      "11/11 [==============================] - 0s 8ms/step - loss: 0.4845 - accuracy: 0.8309 - val_loss: 0.4933 - val_accuracy: 0.9032\n",
      "Epoch 51/100\n",
      "11/11 [==============================] - 0s 9ms/step - loss: 0.4751 - accuracy: 0.8825 - val_loss: 0.5627 - val_accuracy: 0.5968\n",
      "Epoch 52/100\n",
      "11/11 [==============================] - 0s 9ms/step - loss: 0.4808 - accuracy: 0.8252 - val_loss: 0.5277 - val_accuracy: 0.6129\n",
      "Epoch 53/100\n",
      "11/11 [==============================] - 0s 9ms/step - loss: 0.4856 - accuracy: 0.8424 - val_loss: 0.4839 - val_accuracy: 0.9194\n",
      "Epoch 54/100\n",
      "11/11 [==============================] - 0s 8ms/step - loss: 0.4932 - accuracy: 0.8510 - val_loss: 0.5016 - val_accuracy: 0.6935\n",
      "Epoch 55/100\n",
      "11/11 [==============================] - 0s 8ms/step - loss: 0.4392 - accuracy: 0.8797 - val_loss: 0.4534 - val_accuracy: 0.8548\n",
      "Epoch 56/100\n",
      "11/11 [==============================] - 0s 9ms/step - loss: 0.4477 - accuracy: 0.8797 - val_loss: 0.4579 - val_accuracy: 0.8387\n",
      "Epoch 57/100\n",
      "11/11 [==============================] - 0s 9ms/step - loss: 0.4363 - accuracy: 0.8854 - val_loss: 0.4875 - val_accuracy: 0.7581\n",
      "Epoch 58/100\n",
      "11/11 [==============================] - 0s 9ms/step - loss: 0.4363 - accuracy: 0.8768 - val_loss: 0.4412 - val_accuracy: 0.8548\n",
      "Epoch 59/100\n",
      "11/11 [==============================] - 0s 8ms/step - loss: 0.4316 - accuracy: 0.8940 - val_loss: 0.4416 - val_accuracy: 0.8548\n",
      "Epoch 60/100\n",
      "11/11 [==============================] - 0s 8ms/step - loss: 0.4138 - accuracy: 0.9054 - val_loss: 0.4728 - val_accuracy: 0.8871\n",
      "Epoch 61/100\n",
      "11/11 [==============================] - 0s 8ms/step - loss: 0.4071 - accuracy: 0.9140 - val_loss: 0.4348 - val_accuracy: 0.8548\n",
      "Epoch 62/100\n",
      "11/11 [==============================] - 0s 9ms/step - loss: 0.3932 - accuracy: 0.9226 - val_loss: 0.4108 - val_accuracy: 0.9194\n",
      "Epoch 63/100\n",
      "11/11 [==============================] - 0s 9ms/step - loss: 0.3914 - accuracy: 0.8997 - val_loss: 0.4809 - val_accuracy: 0.9194\n",
      "Epoch 64/100\n",
      "11/11 [==============================] - 0s 9ms/step - loss: 0.3920 - accuracy: 0.9169 - val_loss: 0.4023 - val_accuracy: 0.9194\n",
      "Epoch 65/100\n",
      "11/11 [==============================] - 0s 8ms/step - loss: 0.3806 - accuracy: 0.9169 - val_loss: 0.3937 - val_accuracy: 0.9194\n",
      "Epoch 66/100\n",
      "11/11 [==============================] - 0s 8ms/step - loss: 0.3738 - accuracy: 0.9226 - val_loss: 0.4395 - val_accuracy: 0.9032\n",
      "Epoch 67/100\n",
      "11/11 [==============================] - 0s 10ms/step - loss: 0.3792 - accuracy: 0.9169 - val_loss: 0.3877 - val_accuracy: 0.9194\n",
      "Epoch 68/100\n",
      "11/11 [==============================] - 0s 9ms/step - loss: 0.3492 - accuracy: 0.9398 - val_loss: 0.4345 - val_accuracy: 0.9032\n",
      "Epoch 69/100\n",
      "11/11 [==============================] - 0s 9ms/step - loss: 0.3630 - accuracy: 0.9226 - val_loss: 0.3774 - val_accuracy: 0.9194\n",
      "Epoch 70/100\n",
      "11/11 [==============================] - 0s 8ms/step - loss: 0.3432 - accuracy: 0.9398 - val_loss: 0.3844 - val_accuracy: 0.9032\n",
      "Epoch 71/100\n",
      "11/11 [==============================] - 0s 9ms/step - loss: 0.3550 - accuracy: 0.9398 - val_loss: 0.3721 - val_accuracy: 0.9194\n",
      "Epoch 72/100\n",
      "11/11 [==============================] - 0s 9ms/step - loss: 0.3327 - accuracy: 0.9427 - val_loss: 0.3717 - val_accuracy: 0.9194\n",
      "Epoch 73/100\n",
      "11/11 [==============================] - 0s 9ms/step - loss: 0.3351 - accuracy: 0.9398 - val_loss: 0.3682 - val_accuracy: 0.9355\n",
      "Epoch 74/100\n",
      "11/11 [==============================] - 0s 9ms/step - loss: 0.3756 - accuracy: 0.9026 - val_loss: 0.3627 - val_accuracy: 0.9194\n",
      "Epoch 75/100\n",
      "11/11 [==============================] - 0s 8ms/step - loss: 0.3438 - accuracy: 0.9312 - val_loss: 0.3956 - val_accuracy: 0.8871\n",
      "Epoch 76/100\n",
      "11/11 [==============================] - 0s 8ms/step - loss: 0.3500 - accuracy: 0.9255 - val_loss: 0.4314 - val_accuracy: 0.8548\n",
      "Epoch 77/100\n",
      "11/11 [==============================] - 0s 9ms/step - loss: 0.3527 - accuracy: 0.9026 - val_loss: 0.3988 - val_accuracy: 0.9032\n",
      "Epoch 78/100\n",
      "11/11 [==============================] - 0s 9ms/step - loss: 0.3242 - accuracy: 0.9456 - val_loss: 0.3645 - val_accuracy: 0.8871\n",
      "Epoch 79/100\n",
      "11/11 [==============================] - 0s 9ms/step - loss: 0.3409 - accuracy: 0.9226 - val_loss: 0.3565 - val_accuracy: 0.8871\n",
      "Epoch 80/100\n",
      "11/11 [==============================] - 0s 8ms/step - loss: 0.3345 - accuracy: 0.9284 - val_loss: 0.4667 - val_accuracy: 0.8226\n",
      "Epoch 81/100\n",
      "11/11 [==============================] - 0s 8ms/step - loss: 0.3638 - accuracy: 0.9026 - val_loss: 0.3499 - val_accuracy: 0.9194\n",
      "Epoch 82/100\n",
      "11/11 [==============================] - 0s 9ms/step - loss: 0.3021 - accuracy: 0.9513 - val_loss: 0.3387 - val_accuracy: 0.9194\n",
      "Epoch 83/100\n",
      "11/11 [==============================] - 0s 9ms/step - loss: 0.3199 - accuracy: 0.9370 - val_loss: 0.3613 - val_accuracy: 0.9194\n",
      "Epoch 84/100\n",
      "11/11 [==============================] - 0s 9ms/step - loss: 0.2901 - accuracy: 0.9570 - val_loss: 0.3454 - val_accuracy: 0.9032\n",
      "Epoch 85/100\n",
      "11/11 [==============================] - 0s 8ms/step - loss: 0.2915 - accuracy: 0.9570 - val_loss: 0.3332 - val_accuracy: 0.9194\n",
      "Epoch 86/100\n",
      "11/11 [==============================] - 0s 8ms/step - loss: 0.2997 - accuracy: 0.9427 - val_loss: 0.3347 - val_accuracy: 0.8871\n",
      "Epoch 87/100\n",
      "11/11 [==============================] - 0s 8ms/step - loss: 0.2912 - accuracy: 0.9570 - val_loss: 0.3903 - val_accuracy: 0.8871\n",
      "Epoch 88/100\n",
      "11/11 [==============================] - 0s 8ms/step - loss: 0.3132 - accuracy: 0.9255 - val_loss: 0.3266 - val_accuracy: 0.9194\n",
      "Epoch 89/100\n",
      "11/11 [==============================] - 0s 9ms/step - loss: 0.2771 - accuracy: 0.9628 - val_loss: 0.3295 - val_accuracy: 0.9194\n",
      "Epoch 90/100\n",
      "11/11 [==============================] - 0s 8ms/step - loss: 0.2808 - accuracy: 0.9542 - val_loss: 0.3202 - val_accuracy: 0.9194\n",
      "Epoch 91/100\n",
      "11/11 [==============================] - 0s 8ms/step - loss: 0.2773 - accuracy: 0.9513 - val_loss: 0.3274 - val_accuracy: 0.9194\n",
      "Epoch 92/100\n",
      "11/11 [==============================] - 0s 8ms/step - loss: 0.2616 - accuracy: 0.9628 - val_loss: 0.3193 - val_accuracy: 0.9194\n",
      "Epoch 93/100\n",
      "11/11 [==============================] - 0s 9ms/step - loss: 0.2854 - accuracy: 0.9456 - val_loss: 0.3139 - val_accuracy: 0.9032\n",
      "Epoch 94/100\n",
      "11/11 [==============================] - 0s 9ms/step - loss: 0.2598 - accuracy: 0.9542 - val_loss: 0.3119 - val_accuracy: 0.8871\n",
      "Epoch 95/100\n",
      "11/11 [==============================] - 0s 9ms/step - loss: 0.2735 - accuracy: 0.9484 - val_loss: 0.3108 - val_accuracy: 0.9194\n",
      "Epoch 96/100\n",
      "11/11 [==============================] - 0s 9ms/step - loss: 0.2500 - accuracy: 0.9628 - val_loss: 0.3188 - val_accuracy: 0.9194\n",
      "Epoch 97/100\n",
      "11/11 [==============================] - 0s 8ms/step - loss: 0.2615 - accuracy: 0.9542 - val_loss: 0.3205 - val_accuracy: 0.9194\n",
      "Epoch 98/100\n",
      "11/11 [==============================] - 0s 9ms/step - loss: 0.2560 - accuracy: 0.9599 - val_loss: 0.3066 - val_accuracy: 0.9194\n",
      "Epoch 99/100\n",
      "11/11 [==============================] - 0s 9ms/step - loss: 0.2614 - accuracy: 0.9628 - val_loss: 0.3156 - val_accuracy: 0.9194\n",
      "Epoch 100/100\n",
      "11/11 [==============================] - 0s 10ms/step - loss: 0.2848 - accuracy: 0.9370 - val_loss: 0.3452 - val_accuracy: 0.9194\n"
     ]
    }
   ],
   "source": [
    "log = model.fit(X_train, y_train, epochs=100,validation_data=(X_test, y_test))"
   ]
  },
  {
   "cell_type": "markdown",
   "id": "d15cecdc",
   "metadata": {},
   "source": [
    "As before, we can display the training process:"
   ]
  },
  {
   "cell_type": "code",
   "execution_count": 30,
   "id": "b19e927c",
   "metadata": {},
   "outputs": [
    {
     "data": {
      "image/png": "[encoded data removed]",
      "text/plain": [
       "<Figure size 640x480 with 1 Axes>"
      ]
     },
     "metadata": {},
     "output_type": "display_data"
    }
   ],
   "source": [
    "plt.plot(log.history['accuracy'],label = \"training accuracy\")\n",
    "plt.plot(log.history['val_accuracy'], label = \"testing accuracy\")\n",
    "plt.legend()\n",
    "plt.show()"
   ]
  },
  {
   "cell_type": "markdown",
   "id": "4f5e7599",
   "metadata": {},
   "source": [
    "# 3. Multi-class classification with softmax"
   ]
  },
  {
   "cell_type": "markdown",
   "id": "f8f181f1",
   "metadata": {},
   "source": [
    "We will now see how to use a softmax activation function to classify observations into multiple classes. As always, we start by cleaning up:"
   ]
  },
  {
   "cell_type": "code",
   "execution_count": 31,
   "id": "11db922c",
   "metadata": {},
   "outputs": [],
   "source": [
    "tf.keras.backend.clear_session()"
   ]
  },
  {
   "cell_type": "markdown",
   "id": "ee060f30",
   "metadata": {},
   "source": [
    "For this example, we will use the full digits dataset (recall that we had images of ten sign-language digits, with the corresponding one-hot-encoded labels). We will also be a bit more \"proper\" and split the dataset into training, test and validation sets:"
   ]
  },
  {
   "cell_type": "code",
   "execution_count": 32,
   "id": "831efd8e",
   "metadata": {},
   "outputs": [
    {
     "name": "stdout",
     "output_type": "stream",
     "text": [
      "(1649, 64, 64)\n",
      "(1649, 10)\n",
      "(207, 64, 64)\n",
      "(207, 10)\n",
      "(206, 64, 64)\n",
      "(206, 10)\n"
     ]
    }
   ],
   "source": [
    "X = np.load('digits_X.npy')\n",
    "y = np.load('digits_y.npy')\n",
    "X_train, X_other, y_train, y_other = train_test_split(X, y, train_size=0.8, random_state=342)\n",
    "X_test, X_valid, y_test, y_valid = train_test_split(X_other, y_other, train_size = 0.5, random_state=152)\n",
    "print(X_train.shape)\n",
    "print(y_train.shape)\n",
    "print(X_valid.shape)\n",
    "print(y_valid.shape)\n",
    "print(X_test.shape)\n",
    "print(y_test.shape)"
   ]
  },
  {
   "cell_type": "markdown",
   "id": "88a573c8",
   "metadata": {},
   "source": [
    "We train a simple feed-forward network, with two hidden layers, plus the softmax layer. Remember also that we need to flatten the image-matrics:"
   ]
  },
  {
   "cell_type": "code",
   "execution_count": 33,
   "id": "01f7b545",
   "metadata": {},
   "outputs": [],
   "source": [
    "model = tf.keras.models.Sequential([\n",
    "    tf.keras.layers.Flatten(input_shape=(64, 64)),\n",
    "    tf.keras.layers.Dense(300, activation=\"relu\"),\n",
    "    tf.keras.layers.Dense(100, activation=\"relu\"),\n",
    "    tf.keras.layers.Dense(100, activation=\"relu\"),\n",
    "    tf.keras.layers.Dense(10, activation=\"softmax\"),\n",
    "])"
   ]
  },
  {
   "cell_type": "markdown",
   "id": "641af616",
   "metadata": {},
   "source": [
    "Can you tell why the output layer has ten units instead of 1?"
   ]
  },
  {
   "cell_type": "markdown",
   "id": "ab01c851",
   "metadata": {},
   "source": [
    "As always, it is useful to take a look at our model and try to spot any possible issues:"
   ]
  },
  {
   "cell_type": "code",
   "execution_count": 34,
   "id": "d6beaf19",
   "metadata": {},
   "outputs": [
    {
     "name": "stdout",
     "output_type": "stream",
     "text": [
      "Model: \"sequential\"\n",
      "_________________________________________________________________\n",
      " Layer (type)                Output Shape              Param #   \n",
      "=================================================================\n",
      " flatten (Flatten)           (None, 4096)              0         \n",
      "                                                                 \n",
      " dense (Dense)               (None, 300)               1229100   \n",
      "                                                                 \n",
      " dense_1 (Dense)             (None, 100)               30100     \n",
      "                                                                 \n",
      " dense_2 (Dense)             (None, 100)               10100     \n",
      "                                                                 \n",
      " dense_3 (Dense)             (None, 10)                1010      \n",
      "                                                                 \n",
      "=================================================================\n",
      "Total params: 1,270,310\n",
      "Trainable params: 1,270,310\n",
      "Non-trainable params: 0\n",
      "_________________________________________________________________\n"
     ]
    }
   ],
   "source": [
    "model.summary()"
   ]
  },
  {
   "cell_type": "markdown",
   "id": "5d487f12",
   "metadata": {},
   "source": [
    "We can then compile the model. For multiple categories, we will usually use the `categorical_crossentropy` loss (with some exceptions, one of which you will come across in this week's homework). We also use the `'adam'` optimization algorithm (with our self-defined learning rate), which we talk about in class next week. Otherwise, let's again keep track of `'accuracy'`:"
   ]
  },
  {
   "cell_type": "code",
   "execution_count": 35,
   "id": "ebe6d690",
   "metadata": {},
   "outputs": [],
   "source": [
    "model.compile(loss=\"categorical_crossentropy\",\n",
    "              optimizer=tf.keras.optimizers.Adam(learning_rate=0.001),\n",
    "              metrics=[\"accuracy\"])"
   ]
  },
  {
   "cell_type": "markdown",
   "id": "682f9215",
   "metadata": {},
   "source": [
    "We can now run the model, we will use 200 epochs for now:"
   ]
  },
  {
   "cell_type": "code",
   "execution_count": 36,
   "id": "e2ee802f",
   "metadata": {},
   "outputs": [
    {
     "name": "stdout",
     "output_type": "stream",
     "text": [
      "Epoch 1/100\n"
     ]
    },
    {
     "name": "stderr",
     "output_type": "stream",
     "text": [
      "2023-02-23 00:11:45.571380: I tensorflow/core/grappler/optimizers/custom_graph_optimizer_registry.cc:114] Plugin optimizer for device_type GPU is enabled.\n"
     ]
    },
    {
     "name": "stdout",
     "output_type": "stream",
     "text": [
      "52/52 [==============================] - ETA: 0s - loss: 2.5039 - accuracy: 0.1158"
     ]
    },
    {
     "name": "stderr",
     "output_type": "stream",
     "text": [
      "2023-02-23 00:11:47.488514: I tensorflow/core/grappler/optimizers/custom_graph_optimizer_registry.cc:114] Plugin optimizer for device_type GPU is enabled.\n"
     ]
    },
    {
     "name": "stdout",
     "output_type": "stream",
     "text": [
      "52/52 [==============================] - 2s 21ms/step - loss: 2.5039 - accuracy: 0.1158 - val_loss: 2.2997 - val_accuracy: 0.1401\n",
      "Epoch 2/100\n",
      "52/52 [==============================] - 1s 13ms/step - loss: 2.2358 - accuracy: 0.1892 - val_loss: 2.1222 - val_accuracy: 0.1981\n",
      "Epoch 3/100\n",
      "52/52 [==============================] - 1s 13ms/step - loss: 2.0019 - accuracy: 0.2868 - val_loss: 2.0833 - val_accuracy: 0.2271\n",
      "Epoch 4/100\n",
      "52/52 [==============================] - 1s 13ms/step - loss: 1.8077 - accuracy: 0.3687 - val_loss: 1.6723 - val_accuracy: 0.5121\n",
      "Epoch 5/100\n",
      "52/52 [==============================] - 1s 14ms/step - loss: 1.5533 - accuracy: 0.4718 - val_loss: 1.5962 - val_accuracy: 0.4976\n",
      "Epoch 6/100\n",
      "52/52 [==============================] - 1s 13ms/step - loss: 1.3856 - accuracy: 0.5221 - val_loss: 1.3367 - val_accuracy: 0.4734\n",
      "Epoch 7/100\n",
      "52/52 [==============================] - 1s 13ms/step - loss: 1.2866 - accuracy: 0.5391 - val_loss: 1.0850 - val_accuracy: 0.6184\n",
      "Epoch 8/100\n",
      "52/52 [==============================] - 1s 14ms/step - loss: 1.1855 - accuracy: 0.6089 - val_loss: 1.1820 - val_accuracy: 0.5894\n",
      "Epoch 9/100\n",
      "52/52 [==============================] - 1s 13ms/step - loss: 1.1342 - accuracy: 0.6082 - val_loss: 1.1316 - val_accuracy: 0.5604\n",
      "Epoch 10/100\n",
      "52/52 [==============================] - 1s 13ms/step - loss: 1.0455 - accuracy: 0.6295 - val_loss: 1.0444 - val_accuracy: 0.6184\n",
      "Epoch 11/100\n",
      "52/52 [==============================] - 1s 13ms/step - loss: 0.9871 - accuracy: 0.6537 - val_loss: 1.0171 - val_accuracy: 0.6280\n",
      "Epoch 12/100\n",
      "52/52 [==============================] - 1s 13ms/step - loss: 0.8892 - accuracy: 0.7119 - val_loss: 0.8367 - val_accuracy: 0.7246\n",
      "Epoch 13/100\n",
      "52/52 [==============================] - 1s 13ms/step - loss: 0.8731 - accuracy: 0.7241 - val_loss: 0.8718 - val_accuracy: 0.7053\n",
      "Epoch 14/100\n",
      "52/52 [==============================] - 1s 13ms/step - loss: 0.8952 - accuracy: 0.6974 - val_loss: 1.0391 - val_accuracy: 0.6329\n",
      "Epoch 15/100\n",
      "52/52 [==============================] - 1s 13ms/step - loss: 0.7854 - accuracy: 0.7374 - val_loss: 0.7726 - val_accuracy: 0.7585\n",
      "Epoch 16/100\n",
      "52/52 [==============================] - 1s 13ms/step - loss: 0.7597 - accuracy: 0.7447 - val_loss: 1.2042 - val_accuracy: 0.5797\n",
      "Epoch 17/100\n",
      "52/52 [==============================] - 1s 13ms/step - loss: 0.9222 - accuracy: 0.6883 - val_loss: 0.9597 - val_accuracy: 0.6570\n",
      "Epoch 18/100\n",
      "52/52 [==============================] - 1s 13ms/step - loss: 0.8047 - accuracy: 0.7368 - val_loss: 0.8025 - val_accuracy: 0.7053\n",
      "Epoch 19/100\n",
      "52/52 [==============================] - 1s 13ms/step - loss: 0.7097 - accuracy: 0.7702 - val_loss: 1.0736 - val_accuracy: 0.5990\n",
      "Epoch 20/100\n",
      "52/52 [==============================] - 1s 13ms/step - loss: 0.7636 - accuracy: 0.7629 - val_loss: 0.7833 - val_accuracy: 0.7536\n",
      "Epoch 21/100\n",
      "52/52 [==============================] - 1s 13ms/step - loss: 0.7211 - accuracy: 0.7720 - val_loss: 0.7795 - val_accuracy: 0.7536\n",
      "Epoch 22/100\n",
      "52/52 [==============================] - 1s 13ms/step - loss: 0.6439 - accuracy: 0.7750 - val_loss: 0.7688 - val_accuracy: 0.7101\n",
      "Epoch 23/100\n",
      "52/52 [==============================] - 1s 13ms/step - loss: 0.6383 - accuracy: 0.7920 - val_loss: 0.7281 - val_accuracy: 0.7536\n",
      "Epoch 24/100\n",
      "52/52 [==============================] - 1s 13ms/step - loss: 0.7323 - accuracy: 0.7562 - val_loss: 0.7866 - val_accuracy: 0.7198\n",
      "Epoch 25/100\n",
      "52/52 [==============================] - 1s 13ms/step - loss: 0.5931 - accuracy: 0.8059 - val_loss: 0.7914 - val_accuracy: 0.7295\n",
      "Epoch 26/100\n",
      "52/52 [==============================] - 1s 13ms/step - loss: 0.5733 - accuracy: 0.8144 - val_loss: 0.7842 - val_accuracy: 0.7295\n",
      "Epoch 27/100\n",
      "52/52 [==============================] - 1s 13ms/step - loss: 0.5674 - accuracy: 0.8065 - val_loss: 0.8391 - val_accuracy: 0.7198\n",
      "Epoch 28/100\n",
      "52/52 [==============================] - 1s 13ms/step - loss: 0.5013 - accuracy: 0.8344 - val_loss: 0.6286 - val_accuracy: 0.7778\n",
      "Epoch 29/100\n",
      "52/52 [==============================] - 1s 13ms/step - loss: 0.5364 - accuracy: 0.8175 - val_loss: 1.0938 - val_accuracy: 0.6232\n",
      "Epoch 30/100\n",
      "52/52 [==============================] - 1s 13ms/step - loss: 0.5420 - accuracy: 0.8266 - val_loss: 0.7721 - val_accuracy: 0.7343\n",
      "Epoch 31/100\n",
      "52/52 [==============================] - 1s 13ms/step - loss: 0.4410 - accuracy: 0.8545 - val_loss: 0.6823 - val_accuracy: 0.7391\n",
      "Epoch 32/100\n",
      "52/52 [==============================] - 1s 13ms/step - loss: 0.4460 - accuracy: 0.8526 - val_loss: 0.6601 - val_accuracy: 0.8068\n",
      "Epoch 33/100\n",
      "52/52 [==============================] - 1s 13ms/step - loss: 0.5039 - accuracy: 0.8241 - val_loss: 0.6708 - val_accuracy: 0.7295\n",
      "Epoch 34/100\n",
      "52/52 [==============================] - 1s 13ms/step - loss: 0.5938 - accuracy: 0.8017 - val_loss: 0.5918 - val_accuracy: 0.8019\n",
      "Epoch 35/100\n",
      "52/52 [==============================] - 1s 13ms/step - loss: 0.4815 - accuracy: 0.8496 - val_loss: 0.6184 - val_accuracy: 0.7778\n",
      "Epoch 36/100\n",
      "52/52 [==============================] - 1s 13ms/step - loss: 0.4443 - accuracy: 0.8520 - val_loss: 0.8372 - val_accuracy: 0.7343\n",
      "Epoch 37/100\n",
      "52/52 [==============================] - 1s 13ms/step - loss: 0.5172 - accuracy: 0.8278 - val_loss: 0.6036 - val_accuracy: 0.8068\n",
      "Epoch 38/100\n",
      "52/52 [==============================] - 1s 13ms/step - loss: 0.5000 - accuracy: 0.8302 - val_loss: 0.8137 - val_accuracy: 0.7343\n",
      "Epoch 39/100\n",
      "52/52 [==============================] - 1s 13ms/step - loss: 0.4512 - accuracy: 0.8357 - val_loss: 1.0296 - val_accuracy: 0.6812\n",
      "Epoch 40/100\n",
      "52/52 [==============================] - 1s 13ms/step - loss: 0.5029 - accuracy: 0.8169 - val_loss: 0.8022 - val_accuracy: 0.7391\n",
      "Epoch 41/100\n",
      "52/52 [==============================] - 1s 13ms/step - loss: 0.4765 - accuracy: 0.8448 - val_loss: 0.6452 - val_accuracy: 0.8116\n",
      "Epoch 42/100\n",
      "52/52 [==============================] - 1s 13ms/step - loss: 0.4512 - accuracy: 0.8514 - val_loss: 0.7890 - val_accuracy: 0.7391\n",
      "Epoch 43/100\n",
      "52/52 [==============================] - 1s 13ms/step - loss: 0.3697 - accuracy: 0.8830 - val_loss: 0.6625 - val_accuracy: 0.7923\n",
      "Epoch 44/100\n",
      "52/52 [==============================] - 1s 13ms/step - loss: 0.5017 - accuracy: 0.8199 - val_loss: 0.7255 - val_accuracy: 0.7585\n",
      "Epoch 45/100\n",
      "52/52 [==============================] - 1s 13ms/step - loss: 0.3854 - accuracy: 0.8642 - val_loss: 0.8465 - val_accuracy: 0.7101\n",
      "Epoch 46/100\n",
      "52/52 [==============================] - 1s 13ms/step - loss: 0.4128 - accuracy: 0.8502 - val_loss: 0.7652 - val_accuracy: 0.7440\n",
      "Epoch 47/100\n",
      "52/52 [==============================] - 1s 12ms/step - loss: 0.3866 - accuracy: 0.8672 - val_loss: 0.7779 - val_accuracy: 0.7729\n",
      "Epoch 48/100\n",
      "52/52 [==============================] - 1s 13ms/step - loss: 0.3540 - accuracy: 0.8811 - val_loss: 0.6124 - val_accuracy: 0.8116\n",
      "Epoch 49/100\n",
      "52/52 [==============================] - 1s 13ms/step - loss: 0.3184 - accuracy: 0.8896 - val_loss: 0.5258 - val_accuracy: 0.8454\n",
      "Epoch 50/100\n",
      "52/52 [==============================] - 1s 13ms/step - loss: 0.2896 - accuracy: 0.9018 - val_loss: 0.6022 - val_accuracy: 0.7971\n",
      "Epoch 51/100\n",
      "52/52 [==============================] - 1s 13ms/step - loss: 0.2844 - accuracy: 0.9060 - val_loss: 0.9401 - val_accuracy: 0.6957\n",
      "Epoch 52/100\n",
      "52/52 [==============================] - 1s 13ms/step - loss: 0.4695 - accuracy: 0.8454 - val_loss: 0.7058 - val_accuracy: 0.7874\n",
      "Epoch 53/100\n",
      "52/52 [==============================] - 1s 13ms/step - loss: 0.3631 - accuracy: 0.8811 - val_loss: 0.6313 - val_accuracy: 0.8068\n",
      "Epoch 54/100\n",
      "52/52 [==============================] - 1s 13ms/step - loss: 0.3810 - accuracy: 0.8702 - val_loss: 1.0108 - val_accuracy: 0.7150\n",
      "Epoch 55/100\n",
      "52/52 [==============================] - 1s 13ms/step - loss: 0.3556 - accuracy: 0.8733 - val_loss: 0.5542 - val_accuracy: 0.8261\n",
      "Epoch 56/100\n",
      "52/52 [==============================] - 1s 13ms/step - loss: 0.2751 - accuracy: 0.9066 - val_loss: 0.6483 - val_accuracy: 0.7729\n",
      "Epoch 57/100\n",
      "52/52 [==============================] - 1s 13ms/step - loss: 0.3400 - accuracy: 0.8787 - val_loss: 0.8064 - val_accuracy: 0.7536\n",
      "Epoch 58/100\n",
      "52/52 [==============================] - 1s 13ms/step - loss: 0.3146 - accuracy: 0.8890 - val_loss: 0.7096 - val_accuracy: 0.7633\n",
      "Epoch 59/100\n",
      "52/52 [==============================] - 1s 13ms/step - loss: 0.3168 - accuracy: 0.8908 - val_loss: 0.6492 - val_accuracy: 0.7923\n",
      "Epoch 60/100\n",
      "52/52 [==============================] - 1s 13ms/step - loss: 0.2378 - accuracy: 0.9212 - val_loss: 0.6928 - val_accuracy: 0.7778\n",
      "Epoch 61/100\n",
      "52/52 [==============================] - 1s 13ms/step - loss: 0.3547 - accuracy: 0.8733 - val_loss: 0.7807 - val_accuracy: 0.7536\n",
      "Epoch 62/100\n",
      "52/52 [==============================] - 1s 13ms/step - loss: 0.3020 - accuracy: 0.8890 - val_loss: 0.6518 - val_accuracy: 0.7874\n",
      "Epoch 63/100\n",
      "52/52 [==============================] - 1s 13ms/step - loss: 0.2823 - accuracy: 0.8981 - val_loss: 0.7251 - val_accuracy: 0.7923\n",
      "Epoch 64/100\n",
      "52/52 [==============================] - 1s 13ms/step - loss: 0.2883 - accuracy: 0.8951 - val_loss: 0.6542 - val_accuracy: 0.7923\n",
      "Epoch 65/100\n",
      "52/52 [==============================] - 1s 13ms/step - loss: 0.2439 - accuracy: 0.9169 - val_loss: 0.5827 - val_accuracy: 0.8213\n",
      "Epoch 66/100\n",
      "52/52 [==============================] - 1s 13ms/step - loss: 0.2195 - accuracy: 0.9236 - val_loss: 0.7468 - val_accuracy: 0.7874\n",
      "Epoch 67/100\n",
      "52/52 [==============================] - 1s 13ms/step - loss: 0.2213 - accuracy: 0.9315 - val_loss: 0.5510 - val_accuracy: 0.8213\n",
      "Epoch 68/100\n",
      "52/52 [==============================] - 1s 13ms/step - loss: 0.1935 - accuracy: 0.9333 - val_loss: 0.6736 - val_accuracy: 0.7488\n",
      "Epoch 69/100\n",
      "52/52 [==============================] - 1s 13ms/step - loss: 0.2697 - accuracy: 0.9078 - val_loss: 0.6485 - val_accuracy: 0.7778\n",
      "Epoch 70/100\n",
      "52/52 [==============================] - 1s 13ms/step - loss: 0.2921 - accuracy: 0.8975 - val_loss: 0.6181 - val_accuracy: 0.7729\n",
      "Epoch 71/100\n",
      "52/52 [==============================] - 1s 13ms/step - loss: 0.2247 - accuracy: 0.9187 - val_loss: 0.6774 - val_accuracy: 0.8068\n",
      "Epoch 72/100\n",
      "52/52 [==============================] - 1s 13ms/step - loss: 0.2211 - accuracy: 0.9224 - val_loss: 0.6221 - val_accuracy: 0.8213\n",
      "Epoch 73/100\n",
      "52/52 [==============================] - 1s 13ms/step - loss: 0.2113 - accuracy: 0.9266 - val_loss: 0.5766 - val_accuracy: 0.8261\n",
      "Epoch 74/100\n",
      "52/52 [==============================] - 1s 13ms/step - loss: 0.1665 - accuracy: 0.9442 - val_loss: 0.7293 - val_accuracy: 0.8019\n",
      "Epoch 75/100\n",
      "52/52 [==============================] - 1s 13ms/step - loss: 0.2819 - accuracy: 0.9066 - val_loss: 0.6827 - val_accuracy: 0.7923\n",
      "Epoch 76/100\n",
      "52/52 [==============================] - 1s 13ms/step - loss: 0.3898 - accuracy: 0.8708 - val_loss: 0.5278 - val_accuracy: 0.8261\n",
      "Epoch 77/100\n",
      "52/52 [==============================] - 1s 13ms/step - loss: 0.3084 - accuracy: 0.8902 - val_loss: 0.7656 - val_accuracy: 0.7633\n",
      "Epoch 78/100\n",
      "52/52 [==============================] - 1s 13ms/step - loss: 0.2708 - accuracy: 0.9042 - val_loss: 0.6876 - val_accuracy: 0.7971\n",
      "Epoch 79/100\n",
      "52/52 [==============================] - 1s 13ms/step - loss: 0.2056 - accuracy: 0.9327 - val_loss: 0.5075 - val_accuracy: 0.8309\n",
      "Epoch 80/100\n",
      "52/52 [==============================] - 1s 13ms/step - loss: 0.2074 - accuracy: 0.9212 - val_loss: 0.7733 - val_accuracy: 0.7633\n",
      "Epoch 81/100\n",
      "52/52 [==============================] - 1s 13ms/step - loss: 0.2702 - accuracy: 0.8969 - val_loss: 0.5772 - val_accuracy: 0.8309\n",
      "Epoch 82/100\n",
      "52/52 [==============================] - 1s 13ms/step - loss: 0.1958 - accuracy: 0.9327 - val_loss: 0.5139 - val_accuracy: 0.8309\n",
      "Epoch 83/100\n",
      "52/52 [==============================] - 1s 13ms/step - loss: 0.2006 - accuracy: 0.9297 - val_loss: 0.7636 - val_accuracy: 0.7778\n",
      "Epoch 84/100\n",
      "52/52 [==============================] - 1s 13ms/step - loss: 0.1817 - accuracy: 0.9381 - val_loss: 0.7493 - val_accuracy: 0.7488\n",
      "Epoch 85/100\n",
      "52/52 [==============================] - 1s 13ms/step - loss: 0.1498 - accuracy: 0.9491 - val_loss: 1.0035 - val_accuracy: 0.7488\n",
      "Epoch 86/100\n",
      "52/52 [==============================] - 1s 13ms/step - loss: 0.1783 - accuracy: 0.9363 - val_loss: 0.5034 - val_accuracy: 0.8261\n",
      "Epoch 87/100\n",
      "52/52 [==============================] - 1s 12ms/step - loss: 0.1292 - accuracy: 0.9600 - val_loss: 0.5218 - val_accuracy: 0.8406\n",
      "Epoch 88/100\n",
      "52/52 [==============================] - 1s 13ms/step - loss: 0.1708 - accuracy: 0.9327 - val_loss: 0.6278 - val_accuracy: 0.8261\n",
      "Epoch 89/100\n",
      "52/52 [==============================] - 1s 13ms/step - loss: 0.2100 - accuracy: 0.9248 - val_loss: 0.7192 - val_accuracy: 0.8213\n",
      "Epoch 90/100\n",
      "52/52 [==============================] - 1s 13ms/step - loss: 0.3509 - accuracy: 0.8787 - val_loss: 0.6133 - val_accuracy: 0.8068\n",
      "Epoch 91/100\n",
      "52/52 [==============================] - 1s 13ms/step - loss: 0.1171 - accuracy: 0.9551 - val_loss: 0.6005 - val_accuracy: 0.8261\n",
      "Epoch 92/100\n",
      "52/52 [==============================] - 1s 13ms/step - loss: 0.1202 - accuracy: 0.9606 - val_loss: 1.6075 - val_accuracy: 0.6715\n",
      "Epoch 93/100\n",
      "52/52 [==============================] - 1s 13ms/step - loss: 0.2669 - accuracy: 0.9018 - val_loss: 0.6696 - val_accuracy: 0.7971\n",
      "Epoch 94/100\n",
      "52/52 [==============================] - 1s 13ms/step - loss: 0.1762 - accuracy: 0.9351 - val_loss: 0.5422 - val_accuracy: 0.8164\n",
      "Epoch 95/100\n",
      "52/52 [==============================] - 1s 13ms/step - loss: 0.1148 - accuracy: 0.9521 - val_loss: 0.5279 - val_accuracy: 0.8454\n",
      "Epoch 96/100\n",
      "52/52 [==============================] - 1s 13ms/step - loss: 0.1299 - accuracy: 0.9606 - val_loss: 0.5228 - val_accuracy: 0.8647\n",
      "Epoch 97/100\n",
      "52/52 [==============================] - 1s 13ms/step - loss: 0.1141 - accuracy: 0.9545 - val_loss: 0.6539 - val_accuracy: 0.8309\n",
      "Epoch 98/100\n",
      "52/52 [==============================] - 1s 13ms/step - loss: 0.1283 - accuracy: 0.9569 - val_loss: 0.5789 - val_accuracy: 0.8357\n",
      "Epoch 99/100\n",
      "52/52 [==============================] - 1s 13ms/step - loss: 0.1739 - accuracy: 0.9357 - val_loss: 0.8229 - val_accuracy: 0.8019\n",
      "Epoch 100/100\n",
      "52/52 [==============================] - 1s 13ms/step - loss: 0.1721 - accuracy: 0.9436 - val_loss: 0.5991 - val_accuracy: 0.8309\n"
     ]
    }
   ],
   "source": [
    "log = model.fit(X_train, y_train, epochs=100,\n",
    "                    validation_data=(X_valid, y_valid))"
   ]
  },
  {
   "cell_type": "markdown",
   "id": "c352baad",
   "metadata": {},
   "source": [
    "Let's evaluate the model on the test data:"
   ]
  },
  {
   "cell_type": "code",
   "execution_count": 37,
   "id": "5b12f5a4",
   "metadata": {},
   "outputs": [
    {
     "name": "stdout",
     "output_type": "stream",
     "text": [
      "7/7 [==============================] - 0s 36ms/step - loss: 0.6266 - accuracy: 0.8398\n"
     ]
    },
    {
     "data": {
      "text/plain": [
       "[0.6265994906425476, 0.8398058414459229]"
      ]
     },
     "execution_count": 37,
     "metadata": {},
     "output_type": "execute_result"
    }
   ],
   "source": [
    "model.evaluate(X_test, y_test)"
   ]
  },
  {
   "cell_type": "markdown",
   "id": "1232ef3c",
   "metadata": {},
   "source": [
    "The accuracy is around 77%. Is that good or bad? Always consider what the baseline is (in this case, we have ten different outcomes on a balanced dataset, so anything more than 10% is at least better than random guessing)"
   ]
  },
  {
   "cell_type": "markdown",
   "id": "14914fc3",
   "metadata": {},
   "source": [
    "Finally, let's take a look at how the training of the model proceeded:"
   ]
  },
  {
   "cell_type": "code",
   "execution_count": 38,
   "id": "4ead16f1",
   "metadata": {},
   "outputs": [
    {
     "data": {
      "image/png": "[encoded data removed]",
      "text/plain": [
       "<Figure size 640x480 with 1 Axes>"
      ]
     },
     "metadata": {},
     "output_type": "display_data"
    }
   ],
   "source": [
    "plt.plot(log.history['loss'],label = \"training loss\")\n",
    "plt.plot(log.history['val_loss'], label = \"validation loss\")\n",
    "plt.legend()\n",
    "plt.show()"
   ]
  },
  {
   "cell_type": "markdown",
   "id": "c362e370",
   "metadata": {},
   "source": [
    "You will see above that the training loss keeps decreasing, while the validation loss stagnates and eventually increases again. This is a point at which the model starts overfitting - any neural network will if you train it for long enough. But instead of taking the final model that is not ideal, why not take the best model (somewhere in the middle of the training process)? This is where callbacks come in."
   ]
  },
  {
   "cell_type": "markdown",
   "id": "1511407e",
   "metadata": {},
   "source": [
    "## 3.1 Callbacks"
   ]
  },
  {
   "cell_type": "markdown",
   "id": "538e4c46",
   "metadata": {},
   "source": [
    "The idea behind callbacks is that you might want to \"do stuff\" while training your model (for example, saving your current progress, in case your computer crashes, or saving the best model so far). We start by defining our model:"
   ]
  },
  {
   "cell_type": "code",
   "execution_count": 39,
   "id": "0104a397",
   "metadata": {},
   "outputs": [],
   "source": [
    "tf.keras.backend.clear_session()\n",
    "model = tf.keras.models.Sequential([\n",
    "    tf.keras.layers.Flatten(input_shape=(64, 64)),\n",
    "    tf.keras.layers.Dense(300, activation=\"relu\"),\n",
    "    tf.keras.layers.Dense(100, activation=\"relu\"),\n",
    "    tf.keras.layers.Dense(100, activation=\"relu\"),\n",
    "    tf.keras.layers.Dense(10, activation=\"softmax\"),\n",
    "])\n",
    "model.compile(loss=\"categorical_crossentropy\",\n",
    "              optimizer=tf.keras.optimizers.Adam(learning_rate=0.001),\n",
    "              metrics=[\"accuracy\"])"
   ]
  },
  {
   "cell_type": "markdown",
   "id": "9e0b7178",
   "metadata": {},
   "source": [
    "Let's now create a `ModelCheckpoint`, which is a call-back that saves your model in each iteration (epoch) of training. That is, whatever you might do later on with your model, you can always get back to the trained version.\n",
    "\n",
    "In your checkpoint, you will need to specify how the model should be saved as. Moreover, if you are using `validation_data` when training your model, you can also specify `save_best_only=True`. This means, that the callback looks at your validation_loss, and only saves the model at its current state if the validation loss is better (i.e. lower) than the one in the previous saved version. Quite useful, right?"
   ]
  },
  {
   "cell_type": "code",
   "execution_count": 40,
   "id": "f8cbafdf",
   "metadata": {},
   "outputs": [],
   "source": [
    "checkpoint_cb = tf.keras.callbacks.ModelCheckpoint(\"my_best_tf_regression_model.h5\", save_best_only=True)"
   ]
  },
  {
   "cell_type": "markdown",
   "id": "541ddc24",
   "metadata": {},
   "source": [
    "Once we have generated the callback, we add it to our callback list in training, as we did for TensorBoard. Nothing else changes:"
   ]
  },
  {
   "cell_type": "code",
   "execution_count": 41,
   "id": "01ea7abf",
   "metadata": {
    "scrolled": true
   },
   "outputs": [
    {
     "name": "stdout",
     "output_type": "stream",
     "text": [
      "Epoch 1/30\n",
      " 5/52 [=>............................] - ETA: 0s - loss: 2.8341 - accuracy: 0.1375 "
     ]
    },
    {
     "name": "stderr",
     "output_type": "stream",
     "text": [
      "2023-02-23 00:13:17.133757: I tensorflow/core/grappler/optimizers/custom_graph_optimizer_registry.cc:114] Plugin optimizer for device_type GPU is enabled.\n"
     ]
    },
    {
     "name": "stdout",
     "output_type": "stream",
     "text": [
      "52/52 [==============================] - 1s 17ms/step - loss: 2.4795 - accuracy: 0.1195 - val_loss: 2.3971 - val_accuracy: 0.1401\n",
      "Epoch 2/30\n",
      " 1/52 [..............................] - ETA: 0s - loss: 2.3308 - accuracy: 0.0938"
     ]
    },
    {
     "name": "stderr",
     "output_type": "stream",
     "text": [
      "2023-02-23 00:13:17.964014: I tensorflow/core/grappler/optimizers/custom_graph_optimizer_registry.cc:114] Plugin optimizer for device_type GPU is enabled.\n"
     ]
    },
    {
     "name": "stdout",
     "output_type": "stream",
     "text": [
      "52/52 [==============================] - 1s 14ms/step - loss: 2.2375 - accuracy: 0.1916 - val_loss: 2.1994 - val_accuracy: 0.2029\n",
      "Epoch 3/30\n",
      "52/52 [==============================] - 1s 14ms/step - loss: 2.0983 - accuracy: 0.2602 - val_loss: 1.9793 - val_accuracy: 0.2705\n",
      "Epoch 4/30\n",
      "52/52 [==============================] - 1s 13ms/step - loss: 1.8720 - accuracy: 0.3323 - val_loss: 1.7545 - val_accuracy: 0.3768\n",
      "Epoch 5/30\n",
      "52/52 [==============================] - 1s 13ms/step - loss: 1.7162 - accuracy: 0.3887 - val_loss: 1.5320 - val_accuracy: 0.4928\n",
      "Epoch 6/30\n",
      "52/52 [==============================] - 1s 14ms/step - loss: 1.4211 - accuracy: 0.5064 - val_loss: 1.4133 - val_accuracy: 0.5121\n",
      "Epoch 7/30\n",
      "52/52 [==============================] - 1s 14ms/step - loss: 1.3394 - accuracy: 0.5233 - val_loss: 1.1774 - val_accuracy: 0.6184\n",
      "Epoch 8/30\n",
      "52/52 [==============================] - 1s 13ms/step - loss: 1.2586 - accuracy: 0.5488 - val_loss: 1.2638 - val_accuracy: 0.5362\n",
      "Epoch 9/30\n",
      "52/52 [==============================] - 1s 13ms/step - loss: 1.1910 - accuracy: 0.5840 - val_loss: 1.2107 - val_accuracy: 0.5700\n",
      "Epoch 10/30\n",
      "52/52 [==============================] - 1s 14ms/step - loss: 1.0428 - accuracy: 0.6416 - val_loss: 1.0392 - val_accuracy: 0.6425\n",
      "Epoch 11/30\n",
      "52/52 [==============================] - 1s 13ms/step - loss: 0.9602 - accuracy: 0.6762 - val_loss: 1.0604 - val_accuracy: 0.6667\n",
      "Epoch 12/30\n",
      "52/52 [==============================] - 1s 13ms/step - loss: 0.9949 - accuracy: 0.6713 - val_loss: 0.9556 - val_accuracy: 0.6908\n",
      "Epoch 13/30\n",
      "52/52 [==============================] - 1s 14ms/step - loss: 0.8347 - accuracy: 0.7247 - val_loss: 1.0118 - val_accuracy: 0.6039\n",
      "Epoch 14/30\n",
      "52/52 [==============================] - 1s 13ms/step - loss: 0.9775 - accuracy: 0.6659 - val_loss: 1.1850 - val_accuracy: 0.5604\n",
      "Epoch 15/30\n",
      "52/52 [==============================] - 1s 13ms/step - loss: 0.8495 - accuracy: 0.7071 - val_loss: 0.8807 - val_accuracy: 0.7198\n",
      "Epoch 16/30\n",
      "52/52 [==============================] - 1s 13ms/step - loss: 0.8544 - accuracy: 0.7041 - val_loss: 1.1503 - val_accuracy: 0.5845\n",
      "Epoch 17/30\n",
      "52/52 [==============================] - 1s 13ms/step - loss: 0.7915 - accuracy: 0.7374 - val_loss: 0.8479 - val_accuracy: 0.7246\n",
      "Epoch 18/30\n",
      "52/52 [==============================] - 1s 13ms/step - loss: 0.9707 - accuracy: 0.6841 - val_loss: 0.9780 - val_accuracy: 0.6522\n",
      "Epoch 19/30\n",
      "52/52 [==============================] - 1s 14ms/step - loss: 0.8135 - accuracy: 0.7314 - val_loss: 0.8290 - val_accuracy: 0.7053\n",
      "Epoch 20/30\n",
      "52/52 [==============================] - 1s 13ms/step - loss: 0.8286 - accuracy: 0.7150 - val_loss: 0.7346 - val_accuracy: 0.7246\n",
      "Epoch 21/30\n",
      "52/52 [==============================] - 1s 13ms/step - loss: 0.7821 - accuracy: 0.7398 - val_loss: 0.8102 - val_accuracy: 0.7440\n",
      "Epoch 22/30\n",
      "52/52 [==============================] - 1s 13ms/step - loss: 0.6957 - accuracy: 0.7793 - val_loss: 1.1028 - val_accuracy: 0.5942\n",
      "Epoch 23/30\n",
      "52/52 [==============================] - 1s 13ms/step - loss: 0.7486 - accuracy: 0.7265 - val_loss: 0.7927 - val_accuracy: 0.7536\n",
      "Epoch 24/30\n",
      "52/52 [==============================] - 1s 13ms/step - loss: 0.6916 - accuracy: 0.7665 - val_loss: 0.8055 - val_accuracy: 0.7343\n",
      "Epoch 25/30\n",
      "52/52 [==============================] - 1s 13ms/step - loss: 0.6861 - accuracy: 0.7732 - val_loss: 0.8588 - val_accuracy: 0.7150\n",
      "Epoch 26/30\n",
      "52/52 [==============================] - 1s 13ms/step - loss: 0.6109 - accuracy: 0.8005 - val_loss: 0.9758 - val_accuracy: 0.6473\n",
      "Epoch 27/30\n",
      "52/52 [==============================] - 1s 13ms/step - loss: 0.5903 - accuracy: 0.7999 - val_loss: 0.6941 - val_accuracy: 0.7488\n",
      "Epoch 28/30\n",
      "52/52 [==============================] - 1s 13ms/step - loss: 0.5809 - accuracy: 0.8163 - val_loss: 0.7041 - val_accuracy: 0.7633\n",
      "Epoch 29/30\n",
      "52/52 [==============================] - 1s 13ms/step - loss: 0.7386 - accuracy: 0.7538 - val_loss: 0.7346 - val_accuracy: 0.7585\n",
      "Epoch 30/30\n",
      "52/52 [==============================] - 1s 13ms/step - loss: 0.5551 - accuracy: 0.8187 - val_loss: 0.9649 - val_accuracy: 0.7198\n"
     ]
    }
   ],
   "source": [
    "history = model.fit(X_train, y_train, epochs=30,\n",
    "                    validation_data=(X_valid, y_valid),\n",
    "                    callbacks=[checkpoint_cb])"
   ]
  },
  {
   "cell_type": "markdown",
   "id": "fb9dfdf6",
   "metadata": {},
   "source": [
    "You can now run `tf.keras.models.load_model(\"my_best_tf_regression_model.h5\")` to call up the version of your model that had the best validation loss:"
   ]
  },
  {
   "cell_type": "code",
   "execution_count": 42,
   "id": "fa14ff6e",
   "metadata": {},
   "outputs": [],
   "source": [
    "model = tf.keras.models.load_model(\"my_best_tf_regression_model.h5\")"
   ]
  },
  {
   "cell_type": "markdown",
   "id": "a8a78635",
   "metadata": {},
   "source": [
    "Let's again evaluate the model:"
   ]
  },
  {
   "cell_type": "code",
   "execution_count": null,
   "id": "e679fcf5",
   "metadata": {},
   "outputs": [],
   "source": [
    "model.evaluate(X_test, y_test)"
   ]
  },
  {
   "cell_type": "markdown",
   "id": "8906d947",
   "metadata": {},
   "source": [
    "Not a huge imporvement here (if any), but it's a general process to keep in mind. For any (working) model, the loss on the validation set **will** go up eventually if you train the model enough - simply because there are so many parameters.\n",
    "\n",
    "Another useful callback to try out (this is left to you) is the `EarlyStopping` callback, which stops the training process if the validation loss isn't improving anymore. You can call it as follows:\n",
    "```\n",
    "early_stopping_cb = tf.keras.callbacks.EarlyStopping(patience=10, restore_best_weights=True)\n",
    "```\n",
    "\n",
    "Here, `patience` defines the number of epochs which the callback waits for improvements before stopping the training. `restore_best_weights=True` means that, once training is stopped, you get the version of the model that led to the best validation loss, not the final version of the model.\n",
    "\n",
    "You can add multiple callbacks to your model (note that the `callbacks` argument within `model.fit()` takes a list as input)."
   ]
  },
  {
   "cell_type": "markdown",
   "id": "8f7dc4f3",
   "metadata": {},
   "source": [
    "## 3.2 Saving and loading models"
   ]
  },
  {
   "cell_type": "markdown",
   "id": "715a838f",
   "metadata": {},
   "source": [
    "Sometimes, we need to save our models outside of callbacks (say, as part of an assignment :-)). TensorFlow enables this quite easily, for example with the following code. Once you have saved the model, check your working directory and you will find it there (as an \"h5\" file)."
   ]
  },
  {
   "cell_type": "code",
   "execution_count": null,
   "id": "a5d1ab44",
   "metadata": {},
   "outputs": [],
   "source": [
    "model.save(\"my_tf_regression_model.h5\")"
   ]
  },
  {
   "cell_type": "markdown",
   "id": "1bd06ea1",
   "metadata": {},
   "source": [
    "We can now call up the (trained) model, just as easily:"
   ]
  },
  {
   "cell_type": "code",
   "execution_count": null,
   "id": "72bcde93",
   "metadata": {},
   "outputs": [],
   "source": [
    "saved_model = tf.keras.models.load_model(\"my_tf_regression_model.h5\")"
   ]
  },
  {
   "cell_type": "markdown",
   "id": "b952a8d8",
   "metadata": {},
   "source": [
    "Verify that this is the trained model by running the predictions on it. You should get the same result as with the original model:"
   ]
  },
  {
   "cell_type": "code",
   "execution_count": null,
   "id": "c4133c02",
   "metadata": {},
   "outputs": [],
   "source": [
    "X_test.shape"
   ]
  },
  {
   "cell_type": "code",
   "execution_count": null,
   "id": "516560a2",
   "metadata": {},
   "outputs": [],
   "source": [
    "X_new = X_test[:1,:,:]\n",
    "y_predict_original = model.predict(X_new)\n",
    "y_predict_saved = saved_model.predict(X_new)\n",
    "print(\"Predicted probabilities with original model: \" + str(y_predict_original))\n",
    "print(\"Predicted probabilities with saved model: \" + str(y_predict_saved))"
   ]
  },
  {
   "cell_type": "markdown",
   "id": "1ae888c1",
   "metadata": {},
   "source": [
    "Sometimes, you might want to save only the parameters of the model, not the entire model. Again, TensorFlow allows us to save and load the parameters quite easily:"
   ]
  },
  {
   "cell_type": "code",
   "execution_count": null,
   "id": "ccc4015c",
   "metadata": {},
   "outputs": [],
   "source": [
    "model.save_weights(\"my_tf_regression_weights.ckpt\")"
   ]
  },
  {
   "cell_type": "code",
   "execution_count": null,
   "id": "1f8e4e3b",
   "metadata": {},
   "outputs": [],
   "source": [
    "model.load_weights(\"my_tf_regression_weights.ckpt\")"
   ]
  },
  {
   "cell_type": "markdown",
   "id": "8f66045b",
   "metadata": {},
   "source": [
    "## 3.3 Visualization with TensorBoard"
   ]
  },
  {
   "cell_type": "markdown",
   "id": "5d2eb916",
   "metadata": {},
   "source": [
    "We will now see how we can use TensorBoard to get more in-depth visualizations of our training process and our model. Let's start by cleaning up and making some additional imports:"
   ]
  },
  {
   "cell_type": "code",
   "execution_count": null,
   "id": "0eab8958",
   "metadata": {},
   "outputs": [],
   "source": [
    "tf.keras.backend.clear_session()"
   ]
  },
  {
   "cell_type": "code",
   "execution_count": null,
   "id": "d3f0a6cd",
   "metadata": {},
   "outputs": [],
   "source": [
    "import os\n",
    "import datetime"
   ]
  },
  {
   "cell_type": "markdown",
   "id": "25857330",
   "metadata": {},
   "source": [
    "We can load TensorBoard into the Jupyter Notebook and specify where the relevant logs should be kept that are needed to visualize the training process:"
   ]
  },
  {
   "cell_type": "code",
   "execution_count": null,
   "id": "cddd2c19",
   "metadata": {},
   "outputs": [],
   "source": [
    "%load_ext tensorboard\n",
    "logdir = os.path.join(\"logs\", datetime.datetime.now().strftime(\"%Y%m%d-%H%M%S\"))"
   ]
  },
  {
   "cell_type": "markdown",
   "id": "b17167bd",
   "metadata": {},
   "source": [
    "We build the same baseline model as before:"
   ]
  },
  {
   "cell_type": "code",
   "execution_count": null,
   "id": "f94ff4d1",
   "metadata": {},
   "outputs": [],
   "source": [
    "tf.keras.backend.clear_session()\n",
    "model = tf.keras.models.Sequential([\n",
    "    tf.keras.layers.Flatten(input_shape=(64, 64)),\n",
    "    tf.keras.layers.Dense(300, activation=\"relu\"),\n",
    "    tf.keras.layers.Dense(100, activation=\"relu\"),\n",
    "    tf.keras.layers.Dense(100, activation=\"relu\"),\n",
    "    tf.keras.layers.Dense(10, activation=\"softmax\"),\n",
    "])\n",
    "model.compile(loss=\"categorical_crossentropy\",\n",
    "              optimizer=tf.keras.optimizers.Adam(learning_rate=0.001),\n",
    "              metrics=[\"accuracy\"])"
   ]
  },
  {
   "cell_type": "markdown",
   "id": "3e163881",
   "metadata": {},
   "source": [
    "We train our model as before (for a bit less time), but we add another `callback`. In particular one related to the `TensorBoard`:"
   ]
  },
  {
   "cell_type": "code",
   "execution_count": null,
   "id": "bb8ed2d4",
   "metadata": {},
   "outputs": [],
   "source": [
    "tensorboard_cb = tf.keras.callbacks.TensorBoard(logdir)\n",
    "history = model.fit(X_train, y_train, epochs=50,\n",
    "                    validation_data=(X_valid, y_valid),\n",
    "                    callbacks=[tensorboard_cb])"
   ]
  },
  {
   "cell_type": "markdown",
   "id": "86bfc454",
   "metadata": {},
   "source": [
    "In the training process, nothing has chaged, except that you will now find a log-folder in your working directory. We can call upon that log to display the TensorBoard as follows (if you get an error, keep reading below)"
   ]
  },
  {
   "cell_type": "code",
   "execution_count": null,
   "id": "b2e40066",
   "metadata": {},
   "outputs": [],
   "source": [
    "%tensorboard --logdir logs"
   ]
  },
  {
   "cell_type": "markdown",
   "id": "d1adc2fd",
   "metadata": {},
   "source": [
    "You may run into an issue here because of a conflict between TensorBoard and the environment you are using. If this is the case, you need to specify exactly where TensorBoard can be found. It should be within your environment's folder, under \"bin\". You can find an example below. Uncomment the next lines and adjust your path accordingly:"
   ]
  },
  {
   "cell_type": "code",
   "execution_count": null,
   "id": "96fdacbe",
   "metadata": {},
   "outputs": [],
   "source": [
    "# os.environ['TENSORBOARD_BINARY'] = '/Users/username/anaconda3/envs/adl_env/bin/tensorboard'\n",
    "# %tensorboard --logdir logs"
   ]
  },
  {
   "cell_type": "markdown",
   "id": "abe9176b",
   "metadata": {},
   "source": [
    "Enjoy exploring the TensorBoard. We will see later that we can still add a lot more functionality to it. It is particularly nice for comparing different models."
   ]
  },
  {
   "cell_type": "markdown",
   "id": "f570d847",
   "metadata": {},
   "source": [
    "# 4. Exercise: some fundamentals of TensorFlow"
   ]
  },
  {
   "cell_type": "markdown",
   "id": "c2bc5cad",
   "metadata": {},
   "source": [
    "## 4.1 Creating tensors"
   ]
  },
  {
   "cell_type": "markdown",
   "id": "00797399",
   "metadata": {},
   "source": [
    "There are two types of \"variables\" in TensorFlow that you might work with. Actual variables, `tf.Variables`, which can be changed once they have been set, as well as constants , `tf.constant`, which cannot be changed anymore. Let's create a random array of data `X`, as well as parameter matrices `W` and `b`. Can you see why we would use `tf.constant` for `X` and `tf.Variable` for `W` and `b`?"
   ]
  },
  {
   "cell_type": "code",
   "execution_count": 231,
   "id": "40cda2ee",
   "metadata": {},
   "outputs": [
    {
     "data": {
      "text/plain": [
       "TensorShape([100, 5])"
      ]
     },
     "execution_count": 231,
     "metadata": {},
     "output_type": "execute_result"
    }
   ],
   "source": [
    "X = tf.constant(np.random.randn(100,5), name = \"X\")\n",
    "X.shape"
   ]
  },
  {
   "cell_type": "markdown",
   "id": "723fc939",
   "metadata": {},
   "source": [
    "Note that the \"tensor\" we create has exactly the dimension of the numpy array we use to initialize it. TensorFlow allows you to use `numpy` data quite seamlessly."
   ]
  },
  {
   "cell_type": "code",
   "execution_count": 232,
   "id": "bece0cf9",
   "metadata": {},
   "outputs": [
    {
     "data": {
      "text/plain": [
       "TensorShape([5, 3])"
      ]
     },
     "execution_count": 232,
     "metadata": {},
     "output_type": "execute_result"
    }
   ],
   "source": [
    "W = tf.Variable(np.random.randn(5,3), name = \"W\")\n",
    "W.shape"
   ]
  },
  {
   "cell_type": "code",
   "execution_count": 233,
   "id": "132289fd",
   "metadata": {},
   "outputs": [
    {
     "data": {
      "text/plain": [
       "TensorShape([1, 3])"
      ]
     },
     "execution_count": 233,
     "metadata": {},
     "output_type": "execute_result"
    }
   ],
   "source": [
    "b = tf.Variable(np.random.randn(1,3), name = \"b\")\n",
    "b.shape"
   ]
  },
  {
   "cell_type": "markdown",
   "id": "c431a734",
   "metadata": {},
   "source": [
    "## 4.2 Basic operations on tensors"
   ]
  },
  {
   "cell_type": "markdown",
   "id": "8cbe51e1",
   "metadata": {},
   "source": [
    "Let's now perform some basic operations on tensors. These work essentially the same way as in `numpy` (e.g., the typical rules of matrix-multiplication apply when we use `tf.matmul`), just that we have to learn a few different key-words:"
   ]
  },
  {
   "cell_type": "code",
   "execution_count": 234,
   "id": "b78743e9",
   "metadata": {},
   "outputs": [
    {
     "data": {
      "text/plain": [
       "TensorShape([100, 3])"
      ]
     },
     "execution_count": 234,
     "metadata": {},
     "output_type": "execute_result"
    }
   ],
   "source": [
    "z = tf.add(tf.matmul(X,W),b)\n",
    "z.shape"
   ]
  },
  {
   "cell_type": "markdown",
   "id": "bcb3c1e6",
   "metadata": {},
   "source": [
    "TensorFlow has all the standard activation functions in-built, for example, the logistic sigmoid one:"
   ]
  },
  {
   "cell_type": "code",
   "execution_count": 235,
   "id": "d49214ee",
   "metadata": {},
   "outputs": [
    {
     "data": {
      "text/plain": [
       "TensorShape([100, 3])"
      ]
     },
     "execution_count": 235,
     "metadata": {},
     "output_type": "execute_result"
    }
   ],
   "source": [
    "a = tf.keras.activations.sigmoid(z)\n",
    "a.shape"
   ]
  },
  {
   "cell_type": "markdown",
   "id": "bb470c16",
   "metadata": {},
   "source": [
    "Something that numpy cannot do, but that TensorFlow can: retrieve the gradient:"
   ]
  },
  {
   "cell_type": "code",
   "execution_count": 237,
   "id": "1cd15432",
   "metadata": {},
   "outputs": [
    {
     "name": "stdout",
     "output_type": "stream",
     "text": [
      "Original value tf.Tensor(9.0, shape=(), dtype=float32)\n",
      "Gradient tf.Tensor(6.0, shape=(), dtype=float32)\n"
     ]
    }
   ],
   "source": [
    "input_var = tf.Variable(initial_value=3.)\n",
    "with tf.GradientTape() as tape:\n",
    "    result = tf.square(input_var)\n",
    "gradient = tape.gradient(result, input_var)\n",
    "print(\"Function value\", result)\n",
    "print(\"Gradient\", gradient)"
   ]
  },
  {
   "cell_type": "markdown",
   "id": "a8814521",
   "metadata": {},
   "source": [
    "## 4.3 Type-casting"
   ]
  },
  {
   "cell_type": "markdown",
   "id": "adcb5987",
   "metadata": {},
   "source": [
    "One aspect of TensorFlow you might know from other programming languages, but which is usually taken care of for you in base Python, is that types are not automatically \"cast\". What that means is that we cannot run operations such as multiplying an integer and a float tensor. We cannot even multiply a `float32` tensor with a `float64` tensor! You can find the datatype of any tensor by printing it out, or by specifically looking at `tensor.dtype`:"
   ]
  },
  {
   "cell_type": "code",
   "execution_count": null,
   "id": "de43641e",
   "metadata": {},
   "outputs": [],
   "source": [
    "b"
   ]
  },
  {
   "cell_type": "code",
   "execution_count": null,
   "id": "377afca7",
   "metadata": {},
   "outputs": [],
   "source": [
    "b.dtype"
   ]
  },
  {
   "cell_type": "markdown",
   "id": "f72b18a1",
   "metadata": {},
   "source": [
    "We will now (explicitly) convert `b` from a `tf.float64` data-type (a float with 64 bits of precision), to a `tf.float32` data-type (a float with 32 bits of precision):"
   ]
  },
  {
   "cell_type": "code",
   "execution_count": null,
   "id": "0e4223b5",
   "metadata": {},
   "outputs": [],
   "source": [
    "b = tf.cast(b,tf.float32)"
   ]
  },
  {
   "cell_type": "markdown",
   "id": "adab1496",
   "metadata": {},
   "source": [
    "Note that `X` and `W` are still of type `tf.float64` (the default). Let's try the following:"
   ]
  },
  {
   "cell_type": "code",
   "execution_count": null,
   "id": "104118bf",
   "metadata": {},
   "outputs": [],
   "source": [
    "tf.add(tf.matmul(X,W),b)"
   ]
  },
  {
   "cell_type": "markdown",
   "id": "9fb344ff",
   "metadata": {},
   "source": [
    "This didn't work! Let's re-cast `b` into a `tf.float64`"
   ]
  },
  {
   "cell_type": "code",
   "execution_count": null,
   "id": "f3e977ae",
   "metadata": {},
   "outputs": [],
   "source": [
    "b = tf.cast(b, tf.float64)"
   ]
  },
  {
   "cell_type": "code",
   "execution_count": null,
   "id": "a6521f04",
   "metadata": {},
   "outputs": [],
   "source": [
    "b.dtype"
   ]
  },
  {
   "cell_type": "code",
   "execution_count": null,
   "id": "7c7aeb2e",
   "metadata": {},
   "outputs": [],
   "source": [
    "tf.add(tf.matmul(X,W),b)"
   ]
  },
  {
   "cell_type": "markdown",
   "id": "76bca134",
   "metadata": {},
   "source": [
    "Now it works again!"
   ]
  },
  {
   "cell_type": "markdown",
   "id": "afcd0bf7",
   "metadata": {},
   "source": [
    "## 4.4 Some other useful operations"
   ]
  },
  {
   "cell_type": "markdown",
   "id": "3b864790",
   "metadata": {},
   "source": [
    "Let's look at `tf.one_hot` and `tf.reshape`, two operations you come across a lot when handling data in TensorFlow. Can you see what they do?"
   ]
  },
  {
   "cell_type": "code",
   "execution_count": null,
   "id": "f6fd7423",
   "metadata": {},
   "outputs": [],
   "source": [
    "y = tf.constant(3)\n",
    "y_one_hot = tf.one_hot(y,4,axis=0)\n",
    "y_one_hot"
   ]
  },
  {
   "cell_type": "code",
   "execution_count": null,
   "id": "47ff9e05",
   "metadata": {},
   "outputs": [],
   "source": [
    "y = [2]\n",
    "y_one_hot = tf.one_hot(y,4,axis=0)\n",
    "y_one_hot"
   ]
  },
  {
   "cell_type": "code",
   "execution_count": null,
   "id": "debe30d3",
   "metadata": {},
   "outputs": [],
   "source": [
    "tf.reshape(y_one_hot,(4,))"
   ]
  },
  {
   "cell_type": "markdown",
   "id": "98ba9e9e",
   "metadata": {},
   "source": [
    "# 5. Exercise: Creating a neural network for regression"
   ]
  },
  {
   "cell_type": "markdown",
   "id": "38524b01",
   "metadata": {},
   "source": [
    "We will now use a neural network for regression instead of classification. In particular, we will load a standard scikit-learn dataset that contains key characteristics of some houses in california, as well as their values (in $100,000). We will then try to predict the houses' values."
   ]
  },
  {
   "cell_type": "code",
   "execution_count": null,
   "id": "2aacb91d",
   "metadata": {},
   "outputs": [],
   "source": [
    "from sklearn.datasets import fetch_california_housing\n",
    "from sklearn.preprocessing import StandardScaler"
   ]
  },
  {
   "cell_type": "code",
   "execution_count": null,
   "id": "773f46c0",
   "metadata": {},
   "outputs": [],
   "source": [
    "housing = fetch_california_housing()"
   ]
  },
  {
   "cell_type": "markdown",
   "id": "acb1fb09",
   "metadata": {},
   "source": [
    "The housing data comes as a dictionary: We can find the features of the data as follows:"
   ]
  },
  {
   "cell_type": "code",
   "execution_count": null,
   "id": "8c1b83ef",
   "metadata": {},
   "outputs": [],
   "source": [
    "housing['feature_names']"
   ]
  },
  {
   "cell_type": "markdown",
   "id": "99fec7d8",
   "metadata": {},
   "source": [
    "The actual observations (or, more precisely, the feature matrix `X`) comes with the key `'data'`:"
   ]
  },
  {
   "cell_type": "code",
   "execution_count": null,
   "id": "557acbd6",
   "metadata": {},
   "outputs": [],
   "source": [
    "housing['data'].shape"
   ]
  },
  {
   "cell_type": "markdown",
   "id": "990ae1bd",
   "metadata": {},
   "source": [
    "The labels come with the key `'target'`:"
   ]
  },
  {
   "cell_type": "code",
   "execution_count": null,
   "id": "8211122b",
   "metadata": {},
   "outputs": [],
   "source": [
    "housing['target'].shape"
   ]
  },
  {
   "cell_type": "markdown",
   "id": "17d43b4b",
   "metadata": {},
   "source": [
    "As always, we start by splitting the data. We will use a training, a validation, and a testing set:"
   ]
  },
  {
   "cell_type": "code",
   "execution_count": null,
   "id": "23bcb1ab",
   "metadata": {},
   "outputs": [],
   "source": [
    "X_train, X_other, y_train, y_other = train_test_split(housing['data'], housing['target'], train_size=0.7, random_state=461)\n",
    "X_test, X_valid, y_test, y_valid = train_test_split(X_other, y_other, train_size = 0.5, random_state=391)\n",
    "print(X_train.shape)\n",
    "print(X_valid.shape)\n",
    "print(X_test.shape)"
   ]
  },
  {
   "cell_type": "markdown",
   "id": "8b0b7d3f",
   "metadata": {},
   "source": [
    "Next, we normalize the X-data. Keep in mind to not use the validation or test data in defining how the scaling process works (otherwise, you can leak information about this data into your training process). You should, however, use the same scaler on validation and test data, rather than defining your own scalers here - this will work better than normalizing all data independently:"
   ]
  },
  {
   "cell_type": "code",
   "execution_count": null,
   "id": "11d5e817",
   "metadata": {},
   "outputs": [],
   "source": [
    "scaler = StandardScaler()\n",
    "X_train = scaler.fit_transform(X_train)\n",
    "X_valid = scaler.transform(X_valid)\n",
    "X_test = scaler.transform(X_test)"
   ]
  },
  {
   "cell_type": "markdown",
   "id": "724ad403",
   "metadata": {},
   "source": [
    "## 5.1 Building a neural network"
   ]
  },
  {
   "cell_type": "markdown",
   "id": "df214576",
   "metadata": {},
   "source": [
    "Let's clear our TensorFlow session. Even if not strictly necessary, this is good practice."
   ]
  },
  {
   "cell_type": "code",
   "execution_count": null,
   "id": "5d85d8c1",
   "metadata": {},
   "outputs": [],
   "source": [
    "tf.keras.backend.clear_session()"
   ]
  },
  {
   "cell_type": "markdown",
   "id": "7b6395f9",
   "metadata": {},
   "source": [
    "Now it's your turn! Build a neural network with three `Dense` layers: two hidden layers with `'relu'` activation, and one final output layer. The hidden layers should have 10 neurons each. For the first hidden layer, you have to specify the correct `input_shape`. Recall that this corresponds to the columns in our X-data. But make sure that `input_shape` is a list or a tuple, not just a single value, otherwise there will be an error.\n",
    "\n",
    "For the output layer, consider whether we need any activation function at all. Remember that a linear regression is just a weighted sum of inputs plus a bias (sounds familiar?)\n",
    "\n",
    "Save your model as `model`.\n",
    "\n",
    "If you are stuck, first take a look at the [documentation](https://www.tensorflow.org/api_docs/python/tf/keras/layers/Dense) of the `Dense` layers."
   ]
  },
  {
   "cell_type": "code",
   "execution_count": null,
   "id": "c9637d6e",
   "metadata": {},
   "outputs": [],
   "source": [
    "model = tf.keras.models.Sequential([\n",
    "    tf.keras.layers.Dense(10, activation=\"relu\", input_shape=X_train.shape[1:]),\n",
    "    tf.keras.layers.Dense(10, activation=\"relu\"),\n",
    "    tf.keras.layers.Dense(1)\n",
    "])"
   ]
  },
  {
   "cell_type": "markdown",
   "id": "49312a01",
   "metadata": {},
   "source": [
    "As always, it helps to visualize your model with the `summary()` function:"
   ]
  },
  {
   "cell_type": "code",
   "execution_count": null,
   "id": "efa065c4",
   "metadata": {},
   "outputs": [],
   "source": [
    "model.summary()"
   ]
  },
  {
   "cell_type": "markdown",
   "id": "2be969bd",
   "metadata": {},
   "source": [
    "As before, try to answer the following questions:\n",
    "- Do the shapes make sense to you?\n",
    "- Can you account for the number of parameters?"
   ]
  },
  {
   "cell_type": "markdown",
   "id": "27cc7344",
   "metadata": {},
   "source": [
    "Now, compile your model. We are doing regression, so it is quite natural to use `'mean_squared_error'` as the loss function.\n",
    "\n",
    "Moreover, we will us `'sgd'` as before. However, instead of specifying `optimizer = 'sgd'`, we will make a custom optimizer function, which allows us to choose our own learning rate. In particular, you should use\n",
    "```\n",
    "optimizer=tf.keras.optimizers.SGD(learning_rate=0.03))\n",
    "```\n",
    "\n",
    "Finally, since we are not doing classification, there is no accuracy to keep track of, so simply leave out the `metrics` argument."
   ]
  },
  {
   "cell_type": "code",
   "execution_count": null,
   "id": "275d60f6",
   "metadata": {},
   "outputs": [],
   "source": [
    "model.compile(loss=\"mean_squared_error\",\n",
    "              optimizer=tf.keras.optimizers.SGD(learning_rate=0.03))"
   ]
  },
  {
   "cell_type": "markdown",
   "id": "a1356000",
   "metadata": {},
   "source": [
    "Train your model for 30 epochs, also keeping track of the `validation_data`. Save the output as `log`."
   ]
  },
  {
   "cell_type": "code",
   "execution_count": null,
   "id": "bf352b4c",
   "metadata": {},
   "outputs": [],
   "source": [
    "log = model.fit(X_train, y_train, epochs=30, validation_data=(X_valid, y_valid))"
   ]
  },
  {
   "cell_type": "markdown",
   "id": "7690934d",
   "metadata": {},
   "source": [
    "Use the code below to display the loss on both the training and the validation set:"
   ]
  },
  {
   "cell_type": "code",
   "execution_count": null,
   "id": "bc1d43aa",
   "metadata": {},
   "outputs": [],
   "source": [
    "plt.plot(log.history['loss'],label = \"training loss\")\n",
    "plt.plot(log.history['val_loss'], label = \"validation loss\")\n",
    "plt.legend()\n",
    "plt.show()"
   ]
  },
  {
   "cell_type": "markdown",
   "id": "46c7a0ba",
   "metadata": {},
   "source": [
    "We can evaluate the model on the test set directly, using `model.evaluate(X_test,y_test)`. Try it out:"
   ]
  },
  {
   "cell_type": "code",
   "execution_count": null,
   "id": "fa3dc64e",
   "metadata": {
    "scrolled": true
   },
   "outputs": [],
   "source": [
    "model.evaluate(X_test, y_test)"
   ]
  },
  {
   "cell_type": "markdown",
   "id": "2360f4d6",
   "metadata": {},
   "source": [
    "Finally, we can take a look at some examples and see how well we are doing on those. Run the code below, and feel free to adjust the examples."
   ]
  },
  {
   "cell_type": "code",
   "execution_count": null,
   "id": "87250279",
   "metadata": {},
   "outputs": [],
   "source": [
    "X_new = X_test[:5]\n",
    "y_predict = model.predict(X_new)\n",
    "y_predict = y_predict.reshape(-1,)\n",
    "y_predict = [round(y,3) for y in y_predict]"
   ]
  },
  {
   "cell_type": "code",
   "execution_count": null,
   "id": "3896ab2a",
   "metadata": {},
   "outputs": [],
   "source": [
    "print(\"Predicted values: \" + str(y_predict))\n",
    "print(\"True values: \" + str(y_test[:5]))"
   ]
  },
  {
   "cell_type": "markdown",
   "id": "36adc085",
   "metadata": {},
   "source": [
    "Can you do better? Try tweaking the learning rate, the number of layers, and the neurons per layer to see if your validation loss improves. Once you have decided on your final model, evaluate it on the test set and note down your loss there."
   ]
  },
  {
   "cell_type": "markdown",
   "id": "a31838b2",
   "metadata": {},
   "source": [
    "# 6. Exercise: More multiclass-classification"
   ]
  },
  {
   "cell_type": "markdown",
   "id": "6c824b11",
   "metadata": {},
   "source": [
    "For this part, we will train a neural network on a dataset of fashion-products that is labeled with the categories of each product. The data is loaded directly from TensorFlow (which has quite the broad collection of datasets):"
   ]
  },
  {
   "cell_type": "code",
   "execution_count": null,
   "id": "ce81c1ae",
   "metadata": {},
   "outputs": [],
   "source": [
    "fashion_mnist = tf.keras.datasets.fashion_mnist\n",
    "(X_other, y_other), (X_test, y_test) = fashion_mnist.load_data()"
   ]
  },
  {
   "cell_type": "code",
   "execution_count": null,
   "id": "7231a214",
   "metadata": {},
   "outputs": [],
   "source": [
    "print(X_other.shape)\n",
    "print(y_other.shape)\n",
    "print(X_test.shape)\n",
    "print(y_test.shape)"
   ]
  },
  {
   "cell_type": "markdown",
   "id": "bc37aff5",
   "metadata": {},
   "source": [
    "The X's are matrices (with 28x28 pixels), while the y's are numbers.\n",
    "\n",
    "We divide the values of X by 255 (essentially standardizing the pixel-values to 0-1) and also split apart a validation set (of the same size as the test set):"
   ]
  },
  {
   "cell_type": "code",
   "execution_count": null,
   "id": "09935b02",
   "metadata": {},
   "outputs": [],
   "source": [
    "X_other = X_other / 255.\n",
    "X_test = X_test / 255.\n",
    "X_train, X_valid, y_train, y_valid = train_test_split(X_other, y_other, train_size = 50000, random_state=152)\n",
    "\n",
    "print(X_train.shape)\n",
    "print(y_train.shape)\n",
    "print(X_valid.shape)\n",
    "print(y_valid.shape)"
   ]
  },
  {
   "cell_type": "markdown",
   "id": "d502fd8f",
   "metadata": {},
   "source": [
    "Let's plot two examples:"
   ]
  },
  {
   "cell_type": "code",
   "execution_count": null,
   "id": "1199ffe0",
   "metadata": {},
   "outputs": [],
   "source": [
    "plt.subplot(1, 2, 1)\n",
    "plt.imshow(X_train[0],cmap=\"binary\")\n",
    "plt.axis('off')\n",
    "plt.subplot(1, 2, 2)\n",
    "plt.imshow(X_train[500],cmap=\"binary\")\n",
    "plt.axis('off')"
   ]
  },
  {
   "cell_type": "markdown",
   "id": "ce05e70f",
   "metadata": {},
   "source": [
    "As well as the corresponding labels:"
   ]
  },
  {
   "cell_type": "code",
   "execution_count": null,
   "id": "89478fbb",
   "metadata": {},
   "outputs": [],
   "source": [
    "print(y_train[0])\n",
    "print(y_train[500])"
   ]
  },
  {
   "cell_type": "markdown",
   "id": "e4802b77",
   "metadata": {},
   "source": [
    "That's a bit hard to interpret. Luckily, we have the right names for each label available:"
   ]
  },
  {
   "cell_type": "code",
   "execution_count": null,
   "id": "51cfed3c",
   "metadata": {},
   "outputs": [],
   "source": [
    "class_names = [\"T-shirt/top\", \"Trouser\", \"Pullover\", \"Dress\", \"Coat\", \"Sandal\", \"Shirt\", \"Sneaker\", \"Bag\", \"Ankle boot\"]"
   ]
  },
  {
   "cell_type": "markdown",
   "id": "cf13cd27",
   "metadata": {},
   "source": [
    "We can now take another look at what the pictures above represent:"
   ]
  },
  {
   "cell_type": "code",
   "execution_count": null,
   "id": "ce69c4dd",
   "metadata": {},
   "outputs": [],
   "source": [
    "print(class_names[y_train[0]])\n",
    "print(class_names[y_train[500]])"
   ]
  },
  {
   "cell_type": "markdown",
   "id": "473138d8",
   "metadata": {},
   "source": [
    "## 6.1 Training the model"
   ]
  },
  {
   "cell_type": "markdown",
   "id": "83032bb9",
   "metadata": {},
   "source": [
    "Let's start with some housekeeping:"
   ]
  },
  {
   "cell_type": "code",
   "execution_count": null,
   "id": "deeff742",
   "metadata": {},
   "outputs": [],
   "source": [
    "tf.keras.backend.clear_session()"
   ]
  },
  {
   "cell_type": "markdown",
   "id": "1c2ebe4f",
   "metadata": {},
   "source": [
    "Can you create a model with two hidden layers and one (softmax) output layer? The hidden layers should have 100 neurons each. You will have to figure out the number of neurons on the output layer (hint: it depends on the number of classes).\n",
    "\n",
    "Also, don't forget to flatten the images with an appropriate `input_shape`!\n",
    "\n",
    "Make sure you save your model as `model`."
   ]
  },
  {
   "cell_type": "code",
   "execution_count": null,
   "id": "cfaabf96",
   "metadata": {},
   "outputs": [],
   "source": [
    "model = tf.keras.models.Sequential([\n",
    "    tf.keras.layers.Flatten(input_shape=[28, 28]),\n",
    "    tf.keras.layers.Dense(100, activation=\"relu\"),\n",
    "    tf.keras.layers.Dense(100, activation=\"relu\"),\n",
    "    tf.keras.layers.Dense(10, activation=\"softmax\")\n",
    "])"
   ]
  },
  {
   "cell_type": "markdown",
   "id": "455e72fb",
   "metadata": {},
   "source": [
    "Use the `summary` function, to see whether everything worked out as it should. If you defined the model as discussed above, you should get a total of 89,610 parameters."
   ]
  },
  {
   "cell_type": "code",
   "execution_count": null,
   "id": "c25373f1",
   "metadata": {},
   "outputs": [],
   "source": [
    "model.summary()"
   ]
  },
  {
   "cell_type": "markdown",
   "id": "5f91d79b",
   "metadata": {},
   "source": [
    "We can now compile the model. Use `optimizer=tf.keras.optimizers.SGD(learning_rate=0.01)` and `metrics=['accuracy']`. For the loss, use `sparse_categorical_crossentropy`. This is because our y's here are **not** one-hot-encoded, but instead are values from 0 to 9."
   ]
  },
  {
   "cell_type": "code",
   "execution_count": null,
   "id": "42d71356",
   "metadata": {},
   "outputs": [],
   "source": [
    "model.compile(loss=\"sparse_categorical_crossentropy\",\n",
    "              optimizer=tf.keras.optimizers.SGD(learning_rate=0.01),\n",
    "              metrics=[\"accuracy\"])"
   ]
  },
  {
   "cell_type": "markdown",
   "id": "22a9e0f4",
   "metadata": {},
   "source": [
    "Train the model for 30 epochs, keeping track also of the `validation_data`."
   ]
  },
  {
   "cell_type": "code",
   "execution_count": null,
   "id": "0ee79f8b",
   "metadata": {},
   "outputs": [],
   "source": [
    "log = model.fit(X_train, y_train, epochs=30,\n",
    "                    validation_data=(X_valid, y_valid))"
   ]
  },
  {
   "cell_type": "markdown",
   "id": "e175357c",
   "metadata": {},
   "source": [
    "Take a look at the training process. The below will only work if you have called your training output `log`:"
   ]
  },
  {
   "cell_type": "code",
   "execution_count": null,
   "id": "1d30a452",
   "metadata": {},
   "outputs": [],
   "source": [
    "plt.plot(log.history['accuracy'],label = \"training accuracy\")\n",
    "plt.plot(log.history['val_accuracy'], label = \"testing accuracy\")\n",
    "plt.legend()\n",
    "plt.show()"
   ]
  },
  {
   "cell_type": "markdown",
   "id": "82d38f9b",
   "metadata": {},
   "source": [
    "If we accept our model, we can evaluate it on the test set, using the `evaluate` function of our model:"
   ]
  },
  {
   "cell_type": "code",
   "execution_count": null,
   "id": "56c8dace",
   "metadata": {},
   "outputs": [],
   "source": [
    "model.evaluate(X_test, y_test)"
   ]
  },
  {
   "cell_type": "markdown",
   "id": "761f747a",
   "metadata": {},
   "source": [
    "We can also take a look at some predictions:"
   ]
  },
  {
   "cell_type": "code",
   "execution_count": null,
   "id": "2c6df529",
   "metadata": {},
   "outputs": [],
   "source": [
    "X_new = X_test[:4]\n",
    "y_predict = np.argmax(model.predict(X_new), axis=-1)\n",
    "y_predict = [class_names[y] for y in y_predict]"
   ]
  },
  {
   "cell_type": "code",
   "execution_count": null,
   "id": "e4305585",
   "metadata": {},
   "outputs": [],
   "source": [
    "plt.subplot(1, 4, 1)\n",
    "plt.imshow(X_test[0],cmap=\"binary\")\n",
    "plt.axis('off')\n",
    "plt.subplot(1, 4, 2)\n",
    "plt.imshow(X_test[1],cmap=\"binary\")\n",
    "plt.axis('off')\n",
    "plt.subplot(1, 4, 3)\n",
    "plt.imshow(X_test[2],cmap=\"binary\")\n",
    "plt.axis('off')\n",
    "plt.subplot(1, 4, 4)\n",
    "plt.imshow(X_test[3],cmap=\"binary\")\n",
    "plt.axis('off')\n",
    "print(\"Predictions are: \" + str(y_predict))"
   ]
  },
  {
   "cell_type": "markdown",
   "id": "692bda86",
   "metadata": {},
   "source": [
    "Can you do better? Try tweaking the learning rate, the number of layers, and the neurons per layer to see if your validation loss improves. Once you have decided on your final model, evaluate it on the test set and note down your loss there."
   ]
  }
 ],
 "metadata": {
  "interpreter": {
   "hash": "aee8b7b246df8f9039afb4144a1f6fd8d2ca17a180786b69acc140d282b71a49"
  },
  "kernelspec": {
   "display_name": "Python 3.10.1 64-bit",
   "language": "python",
   "name": "python3"
  },
  "language_info": {
   "codemirror_mode": {
    "name": "ipython",
    "version": 3
   },
   "file_extension": ".py",
   "mimetype": "text/x-python",
   "name": "python",
   "nbconvert_exporter": "python",
   "pygments_lexer": "ipython3",
   "version": "3.10.1"
  },
  "vscode": {
   "interpreter": {
    "hash": "844c4e49d67cc0acf910f14467e33bd4b14696c6f305335989102e23185a8d23"
   }
  }
 },
 "nbformat": 4,
 "nbformat_minor": 5
}
