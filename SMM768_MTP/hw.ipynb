{
 "cells": [
  {
   "cell_type": "code",
   "execution_count": 1,
   "id": "8a420f35-a1fd-4355-a655-cb46262d41fd",
   "metadata": {},
   "outputs": [],
   "source": [
    "import numpy as np\n",
    "import pickle\n",
    "import tensorflow as tf\n",
    "from tensorflow.keras.layers import Dense,LSTM,GRU,Conv1D,Conv2D,Flatten,Dropout,MaxPooling1D,GlobalAveragePooling1D\n",
    "import tensorflow.keras.optimizers  as opt\n",
    "from tensorflow.keras.models import Sequential\n",
    "from sklearn.preprocessing import OneHotEncoder\n",
    "import pandas as pd\n",
    "from sklearn.model_selection import train_test_split\n",
    "import matplotlib.pyplot as plt"
   ]
  },
  {
   "cell_type": "code",
   "execution_count": 2,
   "id": "61361a00-7434-4ce2-bedf-dbaf16b68b4c",
   "metadata": {},
   "outputs": [],
   "source": [
    "## load the data files\n",
    "with open('time_series_1.pickle','rb') as handle:\n",
    "    time_series_1 = pickle.load(handle)\n",
    "with open('time_series_2.pickle','rb') as handle:\n",
    "    time_series_2 = pickle.load(handle)   \n",
    "with open('y.pickle','rb') as handle:\n",
    "    y = pickle.load(handle)"
   ]
  },
  {
   "cell_type": "markdown",
   "id": "6bb08198-a6c0-426e-a03a-fffa87ed99a0",
   "metadata": {},
   "source": [
    "## Task 1"
   ]
  },
  {
   "cell_type": "markdown",
   "id": "ee25ed3a-fbf6-41cb-8df6-178f639d1293",
   "metadata": {},
   "source": [
    "In this project, prediction approach of  sequence-to-vector is most sensible to predict the operating mode of a turbine."
   ]
  },
  {
   "cell_type": "code",
   "execution_count": 3,
   "id": "ecf01a52-0521-4472-962c-11675541ec56",
   "metadata": {},
   "outputs": [
    {
     "data": {
      "text/plain": [
       "((2800, 5000, 2), (600, 5000, 2), (600, 5000, 2), (3400, 5000, 2))"
      ]
     },
     "execution_count": 3,
     "metadata": {},
     "output_type": "execute_result"
    }
   ],
   "source": [
    "x = np.dstack([time_series_1,time_series_2])\n",
    "\n",
    "## dataset split,70% for training,15% for validation,15% for testing\n",
    "x_train,x_test,y_train,y_test = train_test_split(x,y,test_size=0.3,random_state=0)\n",
    "x_test,x_valid,y_test,y_valid = train_test_split(x_test,y_test,test_size=0.5,random_state=0)\n",
    "\n",
    "## x_final and y_final will be applied for final training after best model was selected.\n",
    "x_final = np.vstack((x_train,x_valid))\n",
    "y_final = np.hstack((y_train,y_valid))\n",
    "x_train.shape,x_test.shape,x_valid.shape,x_final.shape"
   ]
  },
  {
   "cell_type": "markdown",
   "id": "6f9c1662-5d08-4f72-94d3-3f6288a76cdc",
   "metadata": {},
   "source": [
    "## Task 2"
   ]
  },
  {
   "cell_type": "code",
   "execution_count": 4,
   "id": "c2f42aad-2784-42e3-a2df-ec86d12f0471",
   "metadata": {},
   "outputs": [],
   "source": [
    "## create dataset iterator that produces batches of data\n",
    "def loader(x,y,BATCH_SIZE = 32,SHUFFLE_BUFFER_SIZE = 100): \n",
    "    dataset = tf.data.Dataset.from_tensor_slices((x,y))\n",
    "    dataset = dataset.shuffle(SHUFFLE_BUFFER_SIZE).batch(BATCH_SIZE)\n",
    "    return dataset\n",
    "    \n",
    "train_loader = loader(x_train,y_train)\n",
    "test_loader = loader(x_test,y_test)\n",
    "valid_loader = loader(x_valid,y_valid)\n",
    "final_loader =  loader(x_final,y_final)"
   ]
  },
  {
   "cell_type": "markdown",
   "id": "34826fe3-3f81-4e94-bce1-19b26dac3418",
   "metadata": {},
   "source": [
    "## Task 3"
   ]
  },
  {
   "cell_type": "code",
   "execution_count": 5,
   "id": "be0680cd-4c34-4c6c-9656-de52501b98bf",
   "metadata": {},
   "outputs": [],
   "source": [
    "## set random seed in all model training process for reproducible\n",
    "def set_seed(seed):\n",
    "    np.random.seed(0)\n",
    "    tf.random.set_seed(0)\n",
    "\n",
    "## model training function\n",
    "def train(model,seed=0):\n",
    "    set_seed(seed)\n",
    "    model.compile(loss=tf.keras.losses.SparseCategoricalCrossentropy(from_logits=True),optimizer=opt.Adam(),metrics = ['accuracy'])\n",
    "    check_model = tf.keras.callbacks.ModelCheckpoint(f\"{model.name}_best_model.h5\", save_best_only=True)\n",
    "    log = model.fit(train_loader,epochs=20,validation_data=valid_loader)\n",
    "    return log\n",
    "\n",
    "## loss curve plot\n",
    "def loss_plot(log):\n",
    "    plt.plot(log.history['loss'],label = \"training loss\")\n",
    "    plt.plot(log.history['val_loss'], label = \"validation loss\")\n",
    "    plt.xlabel('Number of epoch')\n",
    "    plt.ylabel('loss')\n",
    "    plt.legend()\n",
    "    plt.show()"
   ]
  },
  {
   "cell_type": "markdown",
   "id": "dd28861a-cb5b-4fdb-9dca-25f58cb79fa5",
   "metadata": {},
   "source": [
    "#### lstm model"
   ]
  },
  {
   "cell_type": "code",
   "execution_count": 118,
   "id": "d45176da-5449-4f87-bec2-c1f26adccf01",
   "metadata": {},
   "outputs": [
    {
     "name": "stdout",
     "output_type": "stream",
     "text": [
      "Model: \"lstm\"\n",
      "_________________________________________________________________\n",
      "Layer (type)                 Output Shape              Param #   \n",
      "=================================================================\n",
      "lstm (LSTM)                  (None, None, 100)         41200     \n",
      "_________________________________________________________________\n",
      "lstm_1 (LSTM)                (None, 100)               80400     \n",
      "_________________________________________________________________\n",
      "dense_68 (Dense)             (None, 4)                 404       \n",
      "=================================================================\n",
      "Total params: 122,004\n",
      "Trainable params: 122,004\n",
      "Non-trainable params: 0\n",
      "_________________________________________________________________\n"
     ]
    }
   ],
   "source": [
    "lstm = Sequential([\n",
    "    LSTM(100,return_sequences=True,input_shape=[None,2]),\n",
    "    LSTM(100),\n",
    "    Dense(4)\n",
    "],name='lstm')\n",
    "lstm.summary()"
   ]
  },
  {
   "cell_type": "code",
   "execution_count": 119,
   "id": "31cfb592-7258-4d8d-af42-6931fb4088a7",
   "metadata": {},
   "outputs": [
    {
     "name": "stdout",
     "output_type": "stream",
     "text": [
      "Epoch 1/20\n",
      "88/88 [==============================] - 43s 451ms/step - loss: 1.3823 - accuracy: 0.2875 - val_loss: 1.3691 - val_accuracy: 0.2717\n",
      "Epoch 2/20\n",
      "88/88 [==============================] - 39s 449ms/step - loss: 1.3360 - accuracy: 0.3489 - val_loss: 1.3318 - val_accuracy: 0.3083\n",
      "Epoch 3/20\n",
      "88/88 [==============================] - 39s 445ms/step - loss: 1.2909 - accuracy: 0.4021 - val_loss: 1.2885 - val_accuracy: 0.4033\n",
      "Epoch 4/20\n",
      "88/88 [==============================] - 40s 456ms/step - loss: 1.2263 - accuracy: 0.4454 - val_loss: 1.2187 - val_accuracy: 0.4367\n",
      "Epoch 5/20\n",
      "88/88 [==============================] - 38s 436ms/step - loss: 1.2189 - accuracy: 0.4386 - val_loss: 1.2384 - val_accuracy: 0.4367\n",
      "Epoch 6/20\n",
      "88/88 [==============================] - 39s 438ms/step - loss: 1.1223 - accuracy: 0.4921 - val_loss: 1.1065 - val_accuracy: 0.4900\n",
      "Epoch 7/20\n",
      "88/88 [==============================] - 39s 443ms/step - loss: 1.0197 - accuracy: 0.5504 - val_loss: 1.0229 - val_accuracy: 0.5267\n",
      "Epoch 8/20\n",
      "88/88 [==============================] - 39s 442ms/step - loss: 0.9582 - accuracy: 0.5786 - val_loss: 0.9503 - val_accuracy: 0.5850\n",
      "Epoch 9/20\n",
      "88/88 [==============================] - 38s 432ms/step - loss: 0.8901 - accuracy: 0.6164 - val_loss: 0.9893 - val_accuracy: 0.5550\n",
      "Epoch 10/20\n",
      "88/88 [==============================] - 40s 458ms/step - loss: 0.8298 - accuracy: 0.6500 - val_loss: 0.8359 - val_accuracy: 0.6317\n",
      "Epoch 11/20\n",
      "88/88 [==============================] - 39s 439ms/step - loss: 0.7844 - accuracy: 0.6754 - val_loss: 0.8311 - val_accuracy: 0.6183\n",
      "Epoch 12/20\n",
      "88/88 [==============================] - 39s 443ms/step - loss: 0.7129 - accuracy: 0.7068 - val_loss: 0.7774 - val_accuracy: 0.6667\n",
      "Epoch 13/20\n",
      "88/88 [==============================] - 40s 450ms/step - loss: 0.6957 - accuracy: 0.7200 - val_loss: 0.7527 - val_accuracy: 0.6783\n",
      "Epoch 14/20\n",
      "88/88 [==============================] - 39s 441ms/step - loss: 0.6315 - accuracy: 0.7418 - val_loss: 0.7554 - val_accuracy: 0.6817\n",
      "Epoch 15/20\n",
      "88/88 [==============================] - 38s 435ms/step - loss: 0.6016 - accuracy: 0.7536 - val_loss: 0.6635 - val_accuracy: 0.7250\n",
      "Epoch 16/20\n",
      "88/88 [==============================] - 39s 448ms/step - loss: 0.5977 - accuracy: 0.7557 - val_loss: 0.7626 - val_accuracy: 0.6917\n",
      "Epoch 17/20\n",
      "88/88 [==============================] - 38s 435ms/step - loss: 0.5531 - accuracy: 0.7779 - val_loss: 0.6636 - val_accuracy: 0.7367\n",
      "Epoch 18/20\n",
      "88/88 [==============================] - 38s 438ms/step - loss: 0.5205 - accuracy: 0.7954 - val_loss: 0.6010 - val_accuracy: 0.7533\n",
      "Epoch 19/20\n",
      "88/88 [==============================] - 39s 441ms/step - loss: 0.4883 - accuracy: 0.7964 - val_loss: 0.6074 - val_accuracy: 0.7483\n",
      "Epoch 20/20\n",
      "88/88 [==============================] - 39s 440ms/step - loss: 0.4633 - accuracy: 0.8086 - val_loss: 0.6732 - val_accuracy: 0.7367\n"
     ]
    },
    {
     "data": {
      "image/png": "[encoded data removed]",
      "text/plain": [
       "<Figure size 432x288 with 1 Axes>"
      ]
     },
     "metadata": {
      "needs_background": "light"
     },
     "output_type": "display_data"
    }
   ],
   "source": [
    "lstm_log = train(lstm)\n",
    "loss_plot(lstm_log)"
   ]
  },
  {
   "cell_type": "markdown",
   "id": "416ad742-a1de-4896-9d1e-369c1c027133",
   "metadata": {},
   "source": [
    "#### gru model"
   ]
  },
  {
   "cell_type": "code",
   "execution_count": 113,
   "id": "28110ad6-bdde-46a5-9149-472281063ce2",
   "metadata": {},
   "outputs": [
    {
     "name": "stdout",
     "output_type": "stream",
     "text": [
      "Model: \"gru\"\n",
      "_________________________________________________________________\n",
      "Layer (type)                 Output Shape              Param #   \n",
      "=================================================================\n",
      "gru_2 (GRU)                  (None, None, 100)         31200     \n",
      "_________________________________________________________________\n",
      "gru_3 (GRU)                  (None, 100)               60600     \n",
      "_________________________________________________________________\n",
      "dense_66 (Dense)             (None, 4)                 404       \n",
      "=================================================================\n",
      "Total params: 92,204\n",
      "Trainable params: 92,204\n",
      "Non-trainable params: 0\n",
      "_________________________________________________________________\n"
     ]
    }
   ],
   "source": [
    "gru = Sequential([\n",
    "    GRU(100,return_sequences=True,input_shape=[None,2]),\n",
    "    GRU(100),\n",
    "    Dense(4)\n",
    "],name='gru')\n",
    "gru.summary()"
   ]
  },
  {
   "cell_type": "code",
   "execution_count": 114,
   "id": "162a6e6a-4431-4ef4-a2db-b04a51695466",
   "metadata": {},
   "outputs": [
    {
     "name": "stdout",
     "output_type": "stream",
     "text": [
      "Epoch 1/20\n",
      "88/88 [==============================] - 41s 437ms/step - loss: 1.3881 - accuracy: 0.2986 - val_loss: 1.3535 - val_accuracy: 0.3383\n",
      "Epoch 2/20\n",
      "88/88 [==============================] - 38s 436ms/step - loss: 1.2984 - accuracy: 0.3796 - val_loss: 1.2589 - val_accuracy: 0.4217\n",
      "Epoch 3/20\n",
      "88/88 [==============================] - 39s 438ms/step - loss: 1.0910 - accuracy: 0.5218 - val_loss: 1.0863 - val_accuracy: 0.5150\n",
      "Epoch 4/20\n",
      "88/88 [==============================] - 37s 417ms/step - loss: 0.8848 - accuracy: 0.6282 - val_loss: 0.9328 - val_accuracy: 0.6183\n",
      "Epoch 5/20\n",
      "88/88 [==============================] - 38s 437ms/step - loss: 0.7303 - accuracy: 0.7000 - val_loss: 0.6362 - val_accuracy: 0.7167\n",
      "Epoch 6/20\n",
      "88/88 [==============================] - 38s 435ms/step - loss: 0.6611 - accuracy: 0.7179 - val_loss: 0.6291 - val_accuracy: 0.7167\n",
      "Epoch 7/20\n",
      "88/88 [==============================] - 38s 433ms/step - loss: 0.5379 - accuracy: 0.7807 - val_loss: 0.6563 - val_accuracy: 0.7300\n",
      "Epoch 8/20\n",
      "88/88 [==============================] - 38s 429ms/step - loss: 0.4911 - accuracy: 0.8046 - val_loss: 0.4569 - val_accuracy: 0.8217\n",
      "Epoch 9/20\n",
      "88/88 [==============================] - 39s 442ms/step - loss: 0.4200 - accuracy: 0.8325 - val_loss: 0.4846 - val_accuracy: 0.8000\n",
      "Epoch 10/20\n",
      "88/88 [==============================] - 37s 426ms/step - loss: 0.3707 - accuracy: 0.8511 - val_loss: 0.3907 - val_accuracy: 0.8517\n",
      "Epoch 11/20\n",
      "88/88 [==============================] - 38s 433ms/step - loss: 0.3621 - accuracy: 0.8536 - val_loss: 0.4394 - val_accuracy: 0.8183\n",
      "Epoch 12/20\n",
      "88/88 [==============================] - 40s 451ms/step - loss: 0.2977 - accuracy: 0.8743 - val_loss: 0.3737 - val_accuracy: 0.8367\n",
      "Epoch 13/20\n",
      "88/88 [==============================] - 38s 430ms/step - loss: 0.3194 - accuracy: 0.8686 - val_loss: 0.3555 - val_accuracy: 0.8517\n",
      "Epoch 14/20\n",
      "88/88 [==============================] - 38s 430ms/step - loss: 0.2809 - accuracy: 0.8861 - val_loss: 0.3776 - val_accuracy: 0.8417\n",
      "Epoch 15/20\n",
      "88/88 [==============================] - 39s 441ms/step - loss: 0.2555 - accuracy: 0.8925 - val_loss: 0.3631 - val_accuracy: 0.8283\n",
      "Epoch 16/20\n",
      "88/88 [==============================] - 38s 427ms/step - loss: 0.2432 - accuracy: 0.8957 - val_loss: 0.3830 - val_accuracy: 0.8367\n",
      "Epoch 17/20\n",
      "88/88 [==============================] - 37s 423ms/step - loss: 0.2398 - accuracy: 0.8975 - val_loss: 0.3170 - val_accuracy: 0.8533\n",
      "Epoch 18/20\n",
      "88/88 [==============================] - 39s 438ms/step - loss: 0.2414 - accuracy: 0.8964 - val_loss: 0.3320 - val_accuracy: 0.8467\n",
      "Epoch 19/20\n",
      "88/88 [==============================] - 38s 430ms/step - loss: 0.2399 - accuracy: 0.8996 - val_loss: 0.3323 - val_accuracy: 0.8583\n",
      "Epoch 20/20\n",
      "88/88 [==============================] - 38s 427ms/step - loss: 0.2082 - accuracy: 0.9086 - val_loss: 0.3205 - val_accuracy: 0.8633\n"
     ]
    },
    {
     "data": {
      "image/png": "[encoded data removed]",
      "text/plain": [
       "<Figure size 432x288 with 1 Axes>"
      ]
     },
     "metadata": {
      "needs_background": "light"
     },
     "output_type": "display_data"
    }
   ],
   "source": [
    "gru_log = train(gru)\n",
    "loss_plot(gru_log)"
   ]
  },
  {
   "cell_type": "markdown",
   "id": "657ae968-c3c1-400f-8188-c30bfdd3d4b3",
   "metadata": {},
   "source": [
    "Compare the training logs between lstm and gru model, we can find gru is better than lstm in the same experimental setting. Therefore, I wil use GRU module to construct new model for improving performance."
   ]
  },
  {
   "cell_type": "markdown",
   "id": "c81e1c05-113b-4364-bd72-c141e94b39a8",
   "metadata": {},
   "source": [
    "#### different layers and element combination"
   ]
  },
  {
   "cell_type": "code",
   "execution_count": 115,
   "id": "a6223550-9b1f-475f-8c88-c026c6b58a58",
   "metadata": {},
   "outputs": [
    {
     "name": "stdout",
     "output_type": "stream",
     "text": [
      "Model: \"conv_gru\"\n",
      "_________________________________________________________________\n",
      "Layer (type)                 Output Shape              Param #   \n",
      "=================================================================\n",
      "conv1d (Conv1D)              (None, None, 8)           392       \n",
      "_________________________________________________________________\n",
      "max_pooling1d (MaxPooling1D) (None, None, 8)           0         \n",
      "_________________________________________________________________\n",
      "conv1d_1 (Conv1D)            (None, None, 16)          1552      \n",
      "_________________________________________________________________\n",
      "max_pooling1d_1 (MaxPooling1 (None, None, 16)          0         \n",
      "_________________________________________________________________\n",
      "conv1d_2 (Conv1D)            (None, None, 32)          3104      \n",
      "_________________________________________________________________\n",
      "gru_4 (GRU)                  (None, 100)               40200     \n",
      "_________________________________________________________________\n",
      "dense_67 (Dense)             (None, 4)                 404       \n",
      "=================================================================\n",
      "Total params: 45,652\n",
      "Trainable params: 45,652\n",
      "Non-trainable params: 0\n",
      "_________________________________________________________________\n"
     ]
    }
   ],
   "source": [
    "conv_gru = Sequential([\n",
    "    Conv1D(8, 24, strides=2, padding='valid',activation=\"relu\",input_shape=[None,2]),\n",
    "    MaxPooling1D(2),\n",
    "    Conv1D(16, 12, activation=\"relu\"),\n",
    "    MaxPooling1D(2),\n",
    "    Conv1D(32, 6, activation=\"relu\"),\n",
    "    GRU(100),\n",
    "    Dense(4)\n",
    "],name='conv_gru')\n",
    "conv_gru.summary()"
   ]
  },
  {
   "cell_type": "code",
   "execution_count": 116,
   "id": "85f01685-d36a-407f-8c59-d872c504bae9",
   "metadata": {},
   "outputs": [
    {
     "name": "stdout",
     "output_type": "stream",
     "text": [
      "Epoch 1/20\n",
      "88/88 [==============================] - 6s 46ms/step - loss: 1.0944 - accuracy: 0.5311 - val_loss: 0.8461 - val_accuracy: 0.6250\n",
      "Epoch 2/20\n",
      "88/88 [==============================] - 3s 39ms/step - loss: 0.7415 - accuracy: 0.6904 - val_loss: 0.5778 - val_accuracy: 0.7750\n",
      "Epoch 3/20\n",
      "88/88 [==============================] - 3s 40ms/step - loss: 0.5385 - accuracy: 0.7818 - val_loss: 0.5268 - val_accuracy: 0.7867\n",
      "Epoch 4/20\n",
      "88/88 [==============================] - 4s 40ms/step - loss: 0.4240 - accuracy: 0.8475 - val_loss: 0.3738 - val_accuracy: 0.8733\n",
      "Epoch 5/20\n",
      "88/88 [==============================] - 4s 41ms/step - loss: 0.3786 - accuracy: 0.8454 - val_loss: 0.3622 - val_accuracy: 0.8600\n",
      "Epoch 6/20\n",
      "88/88 [==============================] - 4s 40ms/step - loss: 0.3531 - accuracy: 0.8550 - val_loss: 0.3744 - val_accuracy: 0.8550\n",
      "Epoch 7/20\n",
      "88/88 [==============================] - 3s 39ms/step - loss: 0.3007 - accuracy: 0.8796 - val_loss: 0.3922 - val_accuracy: 0.8600\n",
      "Epoch 8/20\n",
      "88/88 [==============================] - 3s 38ms/step - loss: 0.2839 - accuracy: 0.8836 - val_loss: 0.3131 - val_accuracy: 0.8800\n",
      "Epoch 9/20\n",
      "88/88 [==============================] - 3s 39ms/step - loss: 0.2752 - accuracy: 0.8857 - val_loss: 0.3146 - val_accuracy: 0.8817\n",
      "Epoch 10/20\n",
      "88/88 [==============================] - 4s 40ms/step - loss: 0.2638 - accuracy: 0.8911 - val_loss: 0.3339 - val_accuracy: 0.8650\n",
      "Epoch 11/20\n",
      "88/88 [==============================] - 4s 41ms/step - loss: 0.2611 - accuracy: 0.8871 - val_loss: 0.3451 - val_accuracy: 0.8733\n",
      "Epoch 12/20\n",
      "88/88 [==============================] - 4s 41ms/step - loss: 0.2579 - accuracy: 0.8868 - val_loss: 0.3437 - val_accuracy: 0.8617\n",
      "Epoch 13/20\n",
      "88/88 [==============================] - 4s 41ms/step - loss: 0.2344 - accuracy: 0.9000 - val_loss: 0.3079 - val_accuracy: 0.8833\n",
      "Epoch 14/20\n",
      "88/88 [==============================] - 3s 39ms/step - loss: 0.2387 - accuracy: 0.8975 - val_loss: 0.3664 - val_accuracy: 0.8567\n",
      "Epoch 15/20\n",
      "88/88 [==============================] - 4s 41ms/step - loss: 0.2310 - accuracy: 0.8986 - val_loss: 0.3414 - val_accuracy: 0.8767\n",
      "Epoch 16/20\n",
      "88/88 [==============================] - 3s 39ms/step - loss: 0.2274 - accuracy: 0.8996 - val_loss: 0.3145 - val_accuracy: 0.8750\n",
      "Epoch 17/20\n",
      "88/88 [==============================] - 3s 39ms/step - loss: 0.2199 - accuracy: 0.9025 - val_loss: 0.3300 - val_accuracy: 0.8750\n",
      "Epoch 18/20\n",
      "88/88 [==============================] - 3s 39ms/step - loss: 0.2115 - accuracy: 0.9054 - val_loss: 0.2985 - val_accuracy: 0.8817\n",
      "Epoch 19/20\n",
      "88/88 [==============================] - 3s 39ms/step - loss: 0.2076 - accuracy: 0.9050 - val_loss: 0.3050 - val_accuracy: 0.8800\n",
      "Epoch 20/20\n",
      "88/88 [==============================] - 3s 39ms/step - loss: 0.2192 - accuracy: 0.9007 - val_loss: 0.3052 - val_accuracy: 0.8750\n"
     ]
    },
    {
     "data": {
      "image/png": "[encoded data removed]",
      "text/plain": [
       "<Figure size 432x288 with 1 Axes>"
      ]
     },
     "metadata": {
      "needs_background": "light"
     },
     "output_type": "display_data"
    }
   ],
   "source": [
    "conv_gru_log = train(conv_gru)\n",
    "loss_plot(conv_gru_log)"
   ]
  },
  {
   "cell_type": "code",
   "execution_count": 120,
   "id": "7024f0a1-3695-4763-9d33-b3afef72f9c6",
   "metadata": {},
   "outputs": [
    {
     "data": {
      "text/html": [
       "<div>\n",
       "<style scoped>\n",
       "    .dataframe tbody tr th:only-of-type {\n",
       "        vertical-align: middle;\n",
       "    }\n",
       "\n",
       "    .dataframe tbody tr th {\n",
       "        vertical-align: top;\n",
       "    }\n",
       "\n",
       "    .dataframe thead th {\n",
       "        text-align: right;\n",
       "    }\n",
       "</style>\n",
       "<table border=\"1\" class=\"dataframe\">\n",
       "  <thead>\n",
       "    <tr style=\"text-align: right;\">\n",
       "      <th></th>\n",
       "      <th>val_accuracy</th>\n",
       "      <th>val_loss</th>\n",
       "    </tr>\n",
       "  </thead>\n",
       "  <tbody>\n",
       "    <tr>\n",
       "      <th>lstm</th>\n",
       "      <td>0.753333</td>\n",
       "      <td>0.601033</td>\n",
       "    </tr>\n",
       "    <tr>\n",
       "      <th>gru</th>\n",
       "      <td>0.863333</td>\n",
       "      <td>0.320458</td>\n",
       "    </tr>\n",
       "    <tr>\n",
       "      <th>conv_gru</th>\n",
       "      <td>0.883333</td>\n",
       "      <td>0.307902</td>\n",
       "    </tr>\n",
       "  </tbody>\n",
       "</table>\n",
       "</div>"
      ],
      "text/plain": [
       "          val_accuracy  val_loss\n",
       "lstm          0.753333  0.601033\n",
       "gru           0.863333  0.320458\n",
       "conv_gru      0.883333  0.307902"
      ]
     },
     "execution_count": 120,
     "metadata": {},
     "output_type": "execute_result"
    }
   ],
   "source": [
    "res = [[],[]]\n",
    "for obj in [lstm_log,gru_log,conv_gru_log]:\n",
    "    idx = np.argmax(obj.history['val_accuracy'])\n",
    "    res[0].append(obj.history['val_accuracy'][idx])\n",
    "    res[1].append(obj.history['val_loss'][idx])\n",
    "res_df = pd.DataFrame(data=np.array(res).T,columns=['val_accuracy','val_loss'],index=['lstm','gru','conv_gru'])\n",
    "res_df"
   ]
  },
  {
   "cell_type": "markdown",
   "id": "306d76ce-3685-4e4b-942f-c697e5a23e32",
   "metadata": {},
   "source": [
    "From the comparing the best performance of each model, conv_gru achieve is best. Furthermore, from the training log, we can see that conv_gru's training speed is 10 times faster than lstm and gru. The number of total parameters of conv_gru almost be half of that in lstm and gru."
   ]
  },
  {
   "cell_type": "markdown",
   "id": "31e3155b-f8ad-441a-ba12-982b53f54ea3",
   "metadata": {},
   "source": [
    "## Task 4"
   ]
  },
  {
   "cell_type": "code",
   "execution_count": null,
   "id": "a19e4f41-640f-47c1-a00f-f1412af25154",
   "metadata": {},
   "outputs": [],
   "source": []
  },
  {
   "cell_type": "code",
   "execution_count": null,
   "id": "17893b50-7b20-4d83-bfaf-fb9f98379f4f",
   "metadata": {},
   "outputs": [],
   "source": []
  },
  {
   "cell_type": "markdown",
   "id": "861f88bd-a506-419c-a34b-bdcc2490b989",
   "metadata": {},
   "source": [
    "## Task 5"
   ]
  },
  {
   "cell_type": "code",
   "execution_count": null,
   "id": "86467b68-4cb4-4fc9-9fc0-076f7cc0100f",
   "metadata": {},
   "outputs": [],
   "source": []
  },
  {
   "cell_type": "code",
   "execution_count": null,
   "id": "79d2c793-78b0-4e57-9bb2-cface1d10af3",
   "metadata": {},
   "outputs": [],
   "source": []
  },
  {
   "cell_type": "markdown",
   "id": "76357ec9-93d4-46ea-bc12-44a159fbed98",
   "metadata": {},
   "source": [
    "## Task 6"
   ]
  },
  {
   "cell_type": "code",
   "execution_count": 6,
   "id": "c5cddb87-17b6-48ae-a687-d9507b3f199c",
   "metadata": {},
   "outputs": [
    {
     "name": "stdout",
     "output_type": "stream",
     "text": [
      "After converting, the train dataset shape:(2800, 100, 100, 1)\n",
      "After converting, the test dataset shape:(600, 100, 100, 1)\n",
      "After converting, the validation dataset shape:(600, 100, 100, 1)\n",
      "After converting, the final train dataset shape:(3400, 100, 100, 1)\n"
     ]
    }
   ],
   "source": [
    "def convert(data):\n",
    "    dim0,dim1,_ = data.shape\n",
    "    convert_data = np.zeros((dim0,100,100))\n",
    "    for i in range(dim0):\n",
    "        mat1 = data[i,:,0]\n",
    "        mat2 = data[i,:,1]\n",
    "        convert_data[i] = np.hstack((mat1.reshape(100,50),mat2.reshape(100,50)))\n",
    "    convert_data = convert_data.reshape(dim0,100,100,1)   \n",
    "    return convert_data.astype('float32')\n",
    "\n",
    "convert_x_train = convert(x_train)\n",
    "convert_x_test = convert(x_test)\n",
    "convert_x_valid = convert(x_valid)\n",
    "convert_x_final = convert(x_final)\n",
    "\n",
    "convert_train_loader = loader(convert_x_train,y_train)\n",
    "convert_test_loader = loader(convert_x_test,y_test)\n",
    "convert_valid_loader = loader(convert_x_valid,y_valid)\n",
    "convert_final_loader =  loader(convert_x_final,y_final)\n",
    "\n",
    "print(f'After converting, the train dataset shape:{convert_x_train.shape}')\n",
    "print(f'After converting, the test dataset shape:{convert_x_test.shape}')\n",
    "print(f'After converting, the validation dataset shape:{convert_x_valid.shape}')\n",
    "print(f'After converting, the final train dataset shape:{convert_x_final.shape}')"
   ]
  },
  {
   "cell_type": "code",
   "execution_count": 7,
   "id": "7461b6cd-23a1-497e-baf8-55bbce67005b",
   "metadata": {},
   "outputs": [
    {
     "data": {
      "image/png": "[encoded data removed]",
      "text/plain": [
       "<Figure size 432x288 with 1 Axes>"
      ]
     },
     "metadata": {
      "needs_background": "light"
     },
     "output_type": "display_data"
    }
   ],
   "source": [
    "## take an example from the training dataset for visualization\n",
    "ex = np.squeeze(convert_x_train[0],axis=-1)\n",
    "plt.imshow(ex,cmap='gray')\n",
    "plt.show()"
   ]
  },
  {
   "cell_type": "markdown",
   "id": "b9c5619b-25b4-4ece-92fa-125004510b63",
   "metadata": {},
   "source": [
    "## Task 7"
   ]
  },
  {
   "cell_type": "code",
   "execution_count": 40,
   "id": "33b276bf-73d0-4c35-8466-f7fa12622134",
   "metadata": {},
   "outputs": [],
   "source": [
    "from tensorflow.keras.layers import Conv2D,MaxPooling2D,Dropout,Flatten,GlobalAveragePooling2D,BatchNormalization"
   ]
  },
  {
   "cell_type": "code",
   "execution_count": 8,
   "id": "95886da0-0bea-4486-ad30-cc535b00982a",
   "metadata": {},
   "outputs": [],
   "source": [
    "def train_convert_data(model,seed=0):\n",
    "    set_seed(seed)\n",
    "    model.compile(loss=tf.keras.losses.SparseCategoricalCrossentropy(from_logits=True),optimizer=opt.Adam(),metrics = ['accuracy'])\n",
    "    check_model = tf.keras.callbacks.ModelCheckpoint(f\"{model.name}_best_model.h5\", save_best_only=True)\n",
    "    log = model.fit(convert_train_loader,epochs=20,validation_data=convert_valid_loader)\n",
    "    return log"
   ]
  },
  {
   "cell_type": "code",
   "execution_count": 104,
   "id": "52328d16-7289-4a37-89c8-ffdcefaf6038",
   "metadata": {},
   "outputs": [
    {
     "name": "stdout",
     "output_type": "stream",
     "text": [
      "Model: \"cnn3_32\"\n",
      "_________________________________________________________________\n",
      "Layer (type)                 Output Shape              Param #   \n",
      "=================================================================\n",
      "conv2d_116 (Conv2D)          (None, 100, 100, 32)      320       \n",
      "_________________________________________________________________\n",
      "conv2d_117 (Conv2D)          (None, 100, 100, 32)      9248      \n",
      "_________________________________________________________________\n",
      "dropout_32 (Dropout)         (None, 100, 100, 32)      0         \n",
      "_________________________________________________________________\n",
      "conv2d_118 (Conv2D)          (None, 100, 100, 16)      4624      \n",
      "_________________________________________________________________\n",
      "max_pooling2d_32 (MaxPooling (None, 33, 33, 16)        0         \n",
      "_________________________________________________________________\n",
      "flatten_28 (Flatten)         (None, 17424)             0         \n",
      "_________________________________________________________________\n",
      "dense_63 (Dense)             (None, 4)                 69700     \n",
      "=================================================================\n",
      "Total params: 83,892\n",
      "Trainable params: 83,892\n",
      "Non-trainable params: 0\n",
      "_________________________________________________________________\n"
     ]
    }
   ],
   "source": [
    "cnn3_32 = Sequential([\n",
    "    Conv2D(32, 3,padding='same',input_shape=(100,100,1)),\n",
    "    Conv2D(32, 3,padding='same'),\n",
    "    Dropout(0.2),\n",
    "    Conv2D(16, 3,padding='same',activation='relu'),\n",
    "    MaxPooling2D(3),\n",
    "    Flatten(),\n",
    "    Dense(4)\n",
    "],name='cnn3_32')\n",
    "cnn3_32.summary()"
   ]
  },
  {
   "cell_type": "code",
   "execution_count": 105,
   "id": "fe4b3256-0f32-4fa7-989a-02e35bfaffb9",
   "metadata": {},
   "outputs": [
    {
     "name": "stdout",
     "output_type": "stream",
     "text": [
      "Epoch 1/20\n",
      "88/88 [==============================] - 1s 12ms/step - loss: 9.8072 - accuracy: 0.2707 - val_loss: 1.3857 - val_accuracy: 0.2617\n",
      "Epoch 2/20\n",
      "88/88 [==============================] - 1s 10ms/step - loss: 1.3830 - accuracy: 0.2825 - val_loss: 1.3786 - val_accuracy: 0.3150\n",
      "Epoch 3/20\n",
      "88/88 [==============================] - 1s 10ms/step - loss: 1.3278 - accuracy: 0.3454 - val_loss: 1.1601 - val_accuracy: 0.6217\n",
      "Epoch 4/20\n",
      "88/88 [==============================] - 1s 10ms/step - loss: 1.0799 - accuracy: 0.5243 - val_loss: 0.7814 - val_accuracy: 0.7333\n",
      "Epoch 5/20\n",
      "88/88 [==============================] - 1s 10ms/step - loss: 0.6866 - accuracy: 0.7382 - val_loss: 0.3491 - val_accuracy: 0.8800\n",
      "Epoch 6/20\n",
      "88/88 [==============================] - 1s 10ms/step - loss: 0.3634 - accuracy: 0.8646 - val_loss: 0.3132 - val_accuracy: 0.8733\n",
      "Epoch 7/20\n",
      "88/88 [==============================] - 1s 10ms/step - loss: 0.3024 - accuracy: 0.8736 - val_loss: 0.3075 - val_accuracy: 0.8817\n",
      "Epoch 8/20\n",
      "88/88 [==============================] - 1s 10ms/step - loss: 0.2966 - accuracy: 0.8829 - val_loss: 0.2647 - val_accuracy: 0.8867\n",
      "Epoch 9/20\n",
      "88/88 [==============================] - 1s 10ms/step - loss: 0.2704 - accuracy: 0.8829 - val_loss: 0.2559 - val_accuracy: 0.8900\n",
      "Epoch 10/20\n",
      "88/88 [==============================] - 1s 10ms/step - loss: 0.2641 - accuracy: 0.8904 - val_loss: 0.2826 - val_accuracy: 0.8833\n",
      "Epoch 11/20\n",
      "88/88 [==============================] - 1s 10ms/step - loss: 0.2586 - accuracy: 0.8907 - val_loss: 0.2634 - val_accuracy: 0.8783\n",
      "Epoch 12/20\n",
      "88/88 [==============================] - 1s 10ms/step - loss: 0.2617 - accuracy: 0.8914 - val_loss: 0.2481 - val_accuracy: 0.8917\n",
      "Epoch 13/20\n",
      "88/88 [==============================] - 1s 10ms/step - loss: 0.2526 - accuracy: 0.8968 - val_loss: 0.2598 - val_accuracy: 0.8783\n",
      "Epoch 14/20\n",
      "88/88 [==============================] - 1s 10ms/step - loss: 0.2455 - accuracy: 0.8961 - val_loss: 0.2577 - val_accuracy: 0.8900\n",
      "Epoch 15/20\n",
      "88/88 [==============================] - 1s 10ms/step - loss: 0.2365 - accuracy: 0.8943 - val_loss: 0.2546 - val_accuracy: 0.8783\n",
      "Epoch 16/20\n",
      "88/88 [==============================] - 1s 10ms/step - loss: 0.2474 - accuracy: 0.8946 - val_loss: 0.2617 - val_accuracy: 0.8917\n",
      "Epoch 17/20\n",
      "88/88 [==============================] - 1s 10ms/step - loss: 0.2494 - accuracy: 0.8904 - val_loss: 0.2844 - val_accuracy: 0.8817\n",
      "Epoch 18/20\n",
      "88/88 [==============================] - 1s 10ms/step - loss: 0.2486 - accuracy: 0.8946 - val_loss: 0.2517 - val_accuracy: 0.8867\n",
      "Epoch 19/20\n",
      "88/88 [==============================] - 1s 10ms/step - loss: 0.2359 - accuracy: 0.8971 - val_loss: 0.2515 - val_accuracy: 0.8933\n",
      "Epoch 20/20\n",
      "88/88 [==============================] - 1s 10ms/step - loss: 0.2319 - accuracy: 0.8986 - val_loss: 0.2975 - val_accuracy: 0.8767\n"
     ]
    },
    {
     "data": {
      "image/png": "[encoded data removed]",
      "text/plain": [
       "<Figure size 432x288 with 1 Axes>"
      ]
     },
     "metadata": {
      "needs_background": "light"
     },
     "output_type": "display_data"
    }
   ],
   "source": [
    "cnn3_32_log = train_convert_data(cnn3_32)\n",
    "loss_plot(cnn3_32_log)"
   ]
  },
  {
   "cell_type": "code",
   "execution_count": 106,
   "id": "52aa9a59-2f80-408d-a0a8-3697ad617f3b",
   "metadata": {},
   "outputs": [
    {
     "name": "stdout",
     "output_type": "stream",
     "text": [
      "Final validation result is:\n",
      "19/19 [==============================] - 0s 5ms/step - loss: 0.2975 - accuracy: 0.8767\n"
     ]
    },
    {
     "data": {
      "text/plain": [
       "[0.2975205183029175, 0.8766666650772095]"
      ]
     },
     "execution_count": 106,
     "metadata": {},
     "output_type": "execute_result"
    }
   ],
   "source": [
    "print(f'Final validation result is:')\n",
    "cnn3_32.evaluate(convert_valid_loader)"
   ]
  },
  {
   "cell_type": "markdown",
   "id": "e15a82ed-ca62-491a-9a5b-fbf9d72ba907",
   "metadata": {},
   "source": [
    "## Task 8"
   ]
  },
  {
   "cell_type": "code",
   "execution_count": 82,
   "id": "a77de116-7a05-4125-9a49-4f96c402ec6d",
   "metadata": {},
   "outputs": [
    {
     "name": "stdout",
     "output_type": "stream",
     "text": [
      "Model: \"cnn5_256\"\n",
      "_________________________________________________________________\n",
      "Layer (type)                 Output Shape              Param #   \n",
      "=================================================================\n",
      "conv2d_103 (Conv2D)          (None, 50, 50, 256)       2560      \n",
      "_________________________________________________________________\n",
      "conv2d_104 (Conv2D)          (None, 50, 50, 128)       295040    \n",
      "_________________________________________________________________\n",
      "dropout_31 (Dropout)         (None, 50, 50, 128)       0         \n",
      "_________________________________________________________________\n",
      "conv2d_105 (Conv2D)          (None, 50, 50, 64)        73792     \n",
      "_________________________________________________________________\n",
      "conv2d_106 (Conv2D)          (None, 50, 50, 32)        18464     \n",
      "_________________________________________________________________\n",
      "conv2d_107 (Conv2D)          (None, 50, 50, 16)        4624      \n",
      "_________________________________________________________________\n",
      "max_pooling2d_31 (MaxPooling (None, 16, 16, 16)        0         \n",
      "_________________________________________________________________\n",
      "flatten_24 (Flatten)         (None, 4096)              0         \n",
      "_________________________________________________________________\n",
      "dense_50 (Dense)             (None, 32)                131104    \n",
      "_________________________________________________________________\n",
      "dense_51 (Dense)             (None, 4)                 132       \n",
      "=================================================================\n",
      "Total params: 525,716\n",
      "Trainable params: 525,716\n",
      "Non-trainable params: 0\n",
      "_________________________________________________________________\n"
     ]
    }
   ],
   "source": [
    "#### Adding 2 convolution layers and 1 fc layer\n",
    "cnn5_256 = Sequential([\n",
    "    Conv2D(256,3,2,padding='same',input_shape=(100,100,1),activation='relu'),\n",
    "    Conv2D(128,3,1,padding='same',activation='relu'),\n",
    "    Dropout(0.2),\n",
    "    Conv2D(64,3,padding='same',activation='relu'),\n",
    "    Conv2D(32,3,padding='same',activation='relu'),\n",
    "    Conv2D(16,3,padding='same',activation='relu'),\n",
    "    MaxPooling2D(3),\n",
    "    Flatten(),\n",
    "    Dense(32),\n",
    "    Dense(4)\n",
    "],name='cnn5_256')\n",
    "cnn5_256.summary()"
   ]
  },
  {
   "cell_type": "code",
   "execution_count": 83,
   "id": "ca2e9277-0bc3-45cc-94eb-96d103a189a6",
   "metadata": {},
   "outputs": [
    {
     "name": "stdout",
     "output_type": "stream",
     "text": [
      "Epoch 1/20\n",
      "88/88 [==============================] - 2s 19ms/step - loss: 2.8082 - accuracy: 0.2729 - val_loss: 1.3235 - val_accuracy: 0.4267\n",
      "Epoch 2/20\n",
      "88/88 [==============================] - 1s 17ms/step - loss: 0.7878 - accuracy: 0.6957 - val_loss: 0.4139 - val_accuracy: 0.8883\n",
      "Epoch 3/20\n",
      "88/88 [==============================] - 1s 17ms/step - loss: 0.3247 - accuracy: 0.8836 - val_loss: 0.2546 - val_accuracy: 0.8883\n",
      "Epoch 4/20\n",
      "88/88 [==============================] - 1s 17ms/step - loss: 0.2709 - accuracy: 0.8904 - val_loss: 0.2683 - val_accuracy: 0.8717\n",
      "Epoch 5/20\n",
      "88/88 [==============================] - 1s 17ms/step - loss: 0.2624 - accuracy: 0.8889 - val_loss: 0.2489 - val_accuracy: 0.8817\n",
      "Epoch 6/20\n",
      "88/88 [==============================] - 2s 17ms/step - loss: 0.2534 - accuracy: 0.8907 - val_loss: 0.2623 - val_accuracy: 0.8967\n",
      "Epoch 7/20\n",
      "88/88 [==============================] - 2s 17ms/step - loss: 0.2493 - accuracy: 0.8979 - val_loss: 0.2612 - val_accuracy: 0.8617\n",
      "Epoch 8/20\n",
      "88/88 [==============================] - 1s 17ms/step - loss: 0.2394 - accuracy: 0.8989 - val_loss: 0.2415 - val_accuracy: 0.8950\n",
      "Epoch 9/20\n",
      "88/88 [==============================] - 2s 17ms/step - loss: 0.2389 - accuracy: 0.8954 - val_loss: 0.2501 - val_accuracy: 0.8967\n",
      "Epoch 10/20\n",
      "88/88 [==============================] - 1s 17ms/step - loss: 0.2366 - accuracy: 0.8993 - val_loss: 0.2456 - val_accuracy: 0.8967\n",
      "Epoch 11/20\n",
      "88/88 [==============================] - 2s 17ms/step - loss: 0.2387 - accuracy: 0.9025 - val_loss: 0.2572 - val_accuracy: 0.8950\n",
      "Epoch 12/20\n",
      "88/88 [==============================] - 1s 17ms/step - loss: 0.2373 - accuracy: 0.8986 - val_loss: 0.2447 - val_accuracy: 0.8983\n",
      "Epoch 13/20\n",
      "88/88 [==============================] - 1s 17ms/step - loss: 0.2287 - accuracy: 0.9007 - val_loss: 0.2644 - val_accuracy: 0.8867\n",
      "Epoch 14/20\n",
      "88/88 [==============================] - 1s 17ms/step - loss: 0.2271 - accuracy: 0.9050 - val_loss: 0.2411 - val_accuracy: 0.8933\n",
      "Epoch 15/20\n",
      "88/88 [==============================] - 1s 17ms/step - loss: 0.2289 - accuracy: 0.9011 - val_loss: 0.2530 - val_accuracy: 0.8967\n",
      "Epoch 16/20\n",
      "88/88 [==============================] - 1s 17ms/step - loss: 0.2309 - accuracy: 0.8975 - val_loss: 0.2500 - val_accuracy: 0.8967\n",
      "Epoch 17/20\n",
      "88/88 [==============================] - 1s 17ms/step - loss: 0.2266 - accuracy: 0.9029 - val_loss: 0.2472 - val_accuracy: 0.8867\n",
      "Epoch 18/20\n",
      "88/88 [==============================] - 2s 17ms/step - loss: 0.2291 - accuracy: 0.8982 - val_loss: 0.2422 - val_accuracy: 0.8933\n",
      "Epoch 19/20\n",
      "88/88 [==============================] - 2s 17ms/step - loss: 0.2273 - accuracy: 0.9018 - val_loss: 0.2441 - val_accuracy: 0.8950\n",
      "Epoch 20/20\n",
      "88/88 [==============================] - 1s 17ms/step - loss: 0.2225 - accuracy: 0.9018 - val_loss: 0.2731 - val_accuracy: 0.8967\n"
     ]
    },
    {
     "data": {
      "image/png": "[encoded data removed]",
      "text/plain": [
       "<Figure size 432x288 with 1 Axes>"
      ]
     },
     "metadata": {
      "needs_background": "light"
     },
     "output_type": "display_data"
    }
   ],
   "source": [
    "cnn5_256_log = train_convert_data(cnn5_256)\n",
    "loss_plot(cnn5_256_log)"
   ]
  },
  {
   "cell_type": "markdown",
   "id": "b034bb3c-ff94-411e-926b-80a35fee477a",
   "metadata": {},
   "source": [
    "#### pretrained model"
   ]
  },
  {
   "cell_type": "code",
   "execution_count": 99,
   "id": "a3f53427-7ef9-4cc2-9570-176f71733781",
   "metadata": {},
   "outputs": [],
   "source": [
    "from tensorflow.keras.applications.mobilenet import MobileNet\n",
    "from tensorflow.keras.applications.vgg16 import VGG16"
   ]
  },
  {
   "cell_type": "code",
   "execution_count": 108,
   "id": "84db0125-f8b2-4187-97ab-5cf99ffbc5af",
   "metadata": {},
   "outputs": [
    {
     "name": "stdout",
     "output_type": "stream",
     "text": [
      "Model: \"vgg_model\"\n",
      "_________________________________________________________________\n",
      "Layer (type)                 Output Shape              Param #   \n",
      "=================================================================\n",
      "conv2d_119 (Conv2D)          (None, 100, 100, 3)       6         \n",
      "_________________________________________________________________\n",
      "vgg16 (Functional)           (None, 3, 3, 512)         14714688  \n",
      "_________________________________________________________________\n",
      "flatten_29 (Flatten)         (None, 4608)              0         \n",
      "_________________________________________________________________\n",
      "dense_64 (Dense)             (None, 4)                 18436     \n",
      "=================================================================\n",
      "Total params: 14,733,130\n",
      "Trainable params: 18,442\n",
      "Non-trainable params: 14,714,688\n",
      "_________________________________________________________________\n"
     ]
    }
   ],
   "source": [
    "vgg = VGG16(weights='imagenet', input_shape = (100,100,3),include_top=False)\n",
    "for layer in vgg.layers:\n",
    "    layer.trainable= False\n",
    "\n",
    "vgg_model = Sequential([\n",
    "    Conv2D(3,1,1,input_shape=(100,100,1)),\n",
    "    vgg,\n",
    "    Flatten(),\n",
    "    Dense(4)\n",
    "],name='vgg_model')\n",
    "vgg_model.summary()"
   ]
  },
  {
   "cell_type": "code",
   "execution_count": 109,
   "id": "dc1961c1-eda9-4d53-a79b-375af8cf5541",
   "metadata": {},
   "outputs": [
    {
     "name": "stdout",
     "output_type": "stream",
     "text": [
      "Epoch 1/20\n",
      "88/88 [==============================] - 3s 27ms/step - loss: 2.3548 - accuracy: 0.3964 - val_loss: 0.9629 - val_accuracy: 0.6467\n",
      "Epoch 2/20\n",
      "88/88 [==============================] - 2s 24ms/step - loss: 1.0107 - accuracy: 0.5721 - val_loss: 0.8707 - val_accuracy: 0.7217\n",
      "Epoch 3/20\n",
      "88/88 [==============================] - 2s 25ms/step - loss: 0.7670 - accuracy: 0.7111 - val_loss: 0.7305 - val_accuracy: 0.7500\n",
      "Epoch 4/20\n",
      "88/88 [==============================] - 2s 25ms/step - loss: 0.5941 - accuracy: 0.7886 - val_loss: 0.5845 - val_accuracy: 0.7267\n",
      "Epoch 5/20\n",
      "88/88 [==============================] - 2s 25ms/step - loss: 0.5039 - accuracy: 0.8289 - val_loss: 0.4806 - val_accuracy: 0.8433\n",
      "Epoch 6/20\n",
      "88/88 [==============================] - 2s 25ms/step - loss: 0.4194 - accuracy: 0.8475 - val_loss: 0.4607 - val_accuracy: 0.7883\n",
      "Epoch 7/20\n",
      "88/88 [==============================] - 2s 24ms/step - loss: 0.4541 - accuracy: 0.8386 - val_loss: 0.6084 - val_accuracy: 0.7600\n",
      "Epoch 8/20\n",
      "88/88 [==============================] - 2s 25ms/step - loss: 0.4348 - accuracy: 0.8468 - val_loss: 0.4100 - val_accuracy: 0.8700\n",
      "Epoch 9/20\n",
      "88/88 [==============================] - 2s 25ms/step - loss: 0.3779 - accuracy: 0.8657 - val_loss: 0.4643 - val_accuracy: 0.7850\n",
      "Epoch 10/20\n",
      "88/88 [==============================] - 2s 24ms/step - loss: 0.3567 - accuracy: 0.8707 - val_loss: 0.3160 - val_accuracy: 0.8783\n",
      "Epoch 11/20\n",
      "88/88 [==============================] - 2s 25ms/step - loss: 0.3379 - accuracy: 0.8736 - val_loss: 0.6650 - val_accuracy: 0.7683\n",
      "Epoch 12/20\n",
      "88/88 [==============================] - 2s 25ms/step - loss: 0.4267 - accuracy: 0.8579 - val_loss: 0.7230 - val_accuracy: 0.8283\n",
      "Epoch 13/20\n",
      "88/88 [==============================] - 2s 24ms/step - loss: 0.3321 - accuracy: 0.8825 - val_loss: 0.4305 - val_accuracy: 0.8800\n",
      "Epoch 14/20\n",
      "88/88 [==============================] - 2s 25ms/step - loss: 0.3252 - accuracy: 0.8793 - val_loss: 0.3956 - val_accuracy: 0.8033\n",
      "Epoch 15/20\n",
      "88/88 [==============================] - 2s 25ms/step - loss: 0.3847 - accuracy: 0.8504 - val_loss: 0.5019 - val_accuracy: 0.7750\n",
      "Epoch 16/20\n",
      "88/88 [==============================] - 2s 25ms/step - loss: 0.4448 - accuracy: 0.8511 - val_loss: 0.4151 - val_accuracy: 0.8767\n",
      "Epoch 17/20\n",
      "88/88 [==============================] - 2s 24ms/step - loss: 0.3423 - accuracy: 0.8664 - val_loss: 0.3708 - val_accuracy: 0.8900\n",
      "Epoch 18/20\n",
      "88/88 [==============================] - 2s 25ms/step - loss: 0.3229 - accuracy: 0.8725 - val_loss: 0.3345 - val_accuracy: 0.8933\n",
      "Epoch 19/20\n",
      "88/88 [==============================] - 2s 25ms/step - loss: 0.3248 - accuracy: 0.8793 - val_loss: 0.3678 - val_accuracy: 0.8217\n",
      "Epoch 20/20\n",
      "88/88 [==============================] - 2s 25ms/step - loss: 0.3697 - accuracy: 0.8664 - val_loss: 0.4109 - val_accuracy: 0.8750\n"
     ]
    }
   ],
   "source": [
    "vgg_model_log = train_convert_data(vgg_model)"
   ]
  },
  {
   "cell_type": "code",
   "execution_count": null,
   "id": "6bdece58-32c7-4233-abb2-230b50025023",
   "metadata": {},
   "outputs": [],
   "source": [
    "print(f'')"
   ]
  },
  {
   "cell_type": "markdown",
   "id": "af366359-722c-43fb-823b-550087f159ad",
   "metadata": {},
   "source": [
    "## Task 9"
   ]
  },
  {
   "cell_type": "code",
   "execution_count": 123,
   "id": "586d9b73-7c3e-41a6-a9c7-44556773fc5b",
   "metadata": {},
   "outputs": [
    {
     "data": {
      "text/html": [
       "<div>\n",
       "<style scoped>\n",
       "    .dataframe tbody tr th:only-of-type {\n",
       "        vertical-align: middle;\n",
       "    }\n",
       "\n",
       "    .dataframe tbody tr th {\n",
       "        vertical-align: top;\n",
       "    }\n",
       "\n",
       "    .dataframe thead th {\n",
       "        text-align: right;\n",
       "    }\n",
       "</style>\n",
       "<table border=\"1\" class=\"dataframe\">\n",
       "  <thead>\n",
       "    <tr style=\"text-align: right;\">\n",
       "      <th></th>\n",
       "      <th>val_accuracy</th>\n",
       "      <th>val_loss</th>\n",
       "    </tr>\n",
       "  </thead>\n",
       "  <tbody>\n",
       "    <tr>\n",
       "      <th>lstm</th>\n",
       "      <td>0.753333</td>\n",
       "      <td>0.601033</td>\n",
       "    </tr>\n",
       "    <tr>\n",
       "      <th>gru</th>\n",
       "      <td>0.863333</td>\n",
       "      <td>0.320458</td>\n",
       "    </tr>\n",
       "    <tr>\n",
       "      <th>conv_gru</th>\n",
       "      <td>0.883333</td>\n",
       "      <td>0.307902</td>\n",
       "    </tr>\n",
       "    <tr>\n",
       "      <th>cnn3_32</th>\n",
       "      <td>0.893333</td>\n",
       "      <td>0.251495</td>\n",
       "    </tr>\n",
       "    <tr>\n",
       "      <th>cnn5_256</th>\n",
       "      <td>0.898333</td>\n",
       "      <td>0.244718</td>\n",
       "    </tr>\n",
       "    <tr>\n",
       "      <th>vgg_model</th>\n",
       "      <td>0.893333</td>\n",
       "      <td>0.334490</td>\n",
       "    </tr>\n",
       "  </tbody>\n",
       "</table>\n",
       "</div>"
      ],
      "text/plain": [
       "           val_accuracy  val_loss\n",
       "lstm           0.753333  0.601033\n",
       "gru            0.863333  0.320458\n",
       "conv_gru       0.883333  0.307902\n",
       "cnn3_32        0.893333  0.251495\n",
       "cnn5_256       0.898333  0.244718\n",
       "vgg_model      0.893333  0.334490"
      ]
     },
     "execution_count": 123,
     "metadata": {},
     "output_type": "execute_result"
    }
   ],
   "source": [
    "model_log = [lstm_log,gru_log,conv_gru_log,cnn3_32_log,cnn5_256_log,vgg_model_log]\n",
    "res = [[],[]]\n",
    "for obj in model_log:\n",
    "    idx = np.argmax(obj.history['val_accuracy'])\n",
    "    res[0].append(obj.history['val_accuracy'][idx])\n",
    "    res[1].append(obj.history['val_loss'][idx])\n",
    "res_df = pd.DataFrame(data=np.array(res).T,columns=['val_accuracy','val_loss'],index=['lstm','gru','conv_gru','cnn3_32','cnn5_256','vgg_model'])\n",
    "res_df"
   ]
  },
  {
   "cell_type": "markdown",
   "id": "78a33923-e67a-49a1-82d9-c914df12d68c",
   "metadata": {},
   "source": [
    "From the results, we can see that cnn3_32 and cnn5_256 have the same validation accuracy, but loss of cnn5_256 is smaller than that of cnn3_32. Therefore, I choose the cnn5_256 as best model"
   ]
  },
  {
   "cell_type": "code",
   "execution_count": 131,
   "id": "fe1bfba9-d124-4ebf-8521-ff017b0c972c",
   "metadata": {},
   "outputs": [
    {
     "name": "stdout",
     "output_type": "stream",
     "text": [
      "Epoch 1/20\n",
      "107/107 [==============================] - 1s 11ms/step - loss: 0.2225 - accuracy: 0.9026 - val_loss: 0.2498 - val_accuracy: 0.8867\n",
      "Epoch 2/20\n",
      "107/107 [==============================] - 1s 11ms/step - loss: 0.2213 - accuracy: 0.9029 - val_loss: 0.2535 - val_accuracy: 0.8867\n",
      "Epoch 3/20\n",
      "107/107 [==============================] - 1s 10ms/step - loss: 0.2184 - accuracy: 0.9026 - val_loss: 0.2659 - val_accuracy: 0.8867\n",
      "Epoch 4/20\n",
      "107/107 [==============================] - 1s 10ms/step - loss: 0.2196 - accuracy: 0.9026 - val_loss: 0.2611 - val_accuracy: 0.8867\n",
      "Epoch 5/20\n",
      "107/107 [==============================] - 1s 11ms/step - loss: 0.2222 - accuracy: 0.9035 - val_loss: 0.2934 - val_accuracy: 0.8867\n",
      "Epoch 6/20\n",
      "107/107 [==============================] - 1s 10ms/step - loss: 0.2187 - accuracy: 0.9024 - val_loss: 0.3393 - val_accuracy: 0.8867\n",
      "Epoch 7/20\n",
      "107/107 [==============================] - 1s 11ms/step - loss: 0.2147 - accuracy: 0.9021 - val_loss: 0.3299 - val_accuracy: 0.8867\n",
      "Epoch 8/20\n",
      "107/107 [==============================] - 1s 11ms/step - loss: 0.2160 - accuracy: 0.9026 - val_loss: 0.3779 - val_accuracy: 0.8867\n",
      "Epoch 9/20\n",
      "107/107 [==============================] - 1s 11ms/step - loss: 0.2161 - accuracy: 0.9021 - val_loss: 0.3306 - val_accuracy: 0.8867\n",
      "Epoch 10/20\n",
      "107/107 [==============================] - 1s 10ms/step - loss: 0.2141 - accuracy: 0.9041 - val_loss: 0.3418 - val_accuracy: 0.8867\n",
      "Epoch 11/20\n",
      "107/107 [==============================] - 1s 10ms/step - loss: 0.2313 - accuracy: 0.8994 - val_loss: 0.3095 - val_accuracy: 0.8700\n",
      "Epoch 12/20\n",
      "107/107 [==============================] - 1s 10ms/step - loss: 0.2252 - accuracy: 0.9018 - val_loss: 0.2807 - val_accuracy: 0.8717\n",
      "Epoch 13/20\n",
      "107/107 [==============================] - 1s 10ms/step - loss: 0.2220 - accuracy: 0.9015 - val_loss: 0.2862 - val_accuracy: 0.8867\n",
      "Epoch 14/20\n",
      "107/107 [==============================] - 1s 10ms/step - loss: 0.2318 - accuracy: 0.9015 - val_loss: 0.2598 - val_accuracy: 0.8867\n",
      "Epoch 15/20\n",
      "107/107 [==============================] - 1s 10ms/step - loss: 0.2253 - accuracy: 0.9018 - val_loss: 0.2525 - val_accuracy: 0.8867\n",
      "Epoch 16/20\n",
      "107/107 [==============================] - 1s 10ms/step - loss: 0.2210 - accuracy: 0.9035 - val_loss: 0.2557 - val_accuracy: 0.8833\n",
      "Epoch 17/20\n",
      "107/107 [==============================] - 1s 10ms/step - loss: 0.2190 - accuracy: 0.9026 - val_loss: 0.2571 - val_accuracy: 0.8867\n",
      "Epoch 18/20\n",
      "107/107 [==============================] - 1s 11ms/step - loss: 0.2170 - accuracy: 0.9026 - val_loss: 0.2936 - val_accuracy: 0.8867\n",
      "Epoch 19/20\n",
      "107/107 [==============================] - 1s 11ms/step - loss: 0.2189 - accuracy: 0.9029 - val_loss: 0.2834 - val_accuracy: 0.8867\n",
      "Epoch 20/20\n",
      "107/107 [==============================] - 1s 10ms/step - loss: 0.2123 - accuracy: 0.9053 - val_loss: 0.3051 - val_accuracy: 0.8833\n",
      "Best testing accuracy is 0.8866666555404663\n"
     ]
    }
   ],
   "source": [
    "best_model = cnn5_256\n",
    "best_model.compile(loss=tf.keras.losses.SparseCategoricalCrossentropy(from_logits=True),optimizer=opt.Adam(),metrics = ['accuracy'])\n",
    "check_model = tf.keras.callbacks.ModelCheckpoint(f\"best_model.h5\", save_best_only=True)\n",
    "best_model_log = model.fit(convert_final_loader,epochs=20,validation_data=convert_test_loader)\n",
    "print(f\"Best testing accuracy is {max(best_model_log.history['val_accuracy'])}\")"
   ]
  },
  {
   "cell_type": "code",
   "execution_count": 132,
   "id": "e86842f0-1a10-491b-9ae6-eb77194af54d",
   "metadata": {},
   "outputs": [
    {
     "name": "stdout",
     "output_type": "stream",
     "text": [
      "19/19 [==============================] - 0s 7ms/step - loss: 0.2785 - accuracy: 0.8900\n"
     ]
    },
    {
     "data": {
      "text/plain": [
       "[0.2784743010997772, 0.8899999856948853]"
      ]
     },
     "execution_count": 132,
     "metadata": {},
     "output_type": "execute_result"
    }
   ],
   "source": [
    "best_model.evaluate(convert_test_loader)"
   ]
  },
  {
   "cell_type": "code",
   "execution_count": null,
   "id": "da8bffc4-e892-413f-b208-6b60784ed1b6",
   "metadata": {},
   "outputs": [],
   "source": [
    "best_model.save()"
   ]
  },
  {
   "cell_type": "code",
   "execution_count": 133,
   "id": "1527c9d7-509c-4e60-9c5b-14bb9e562d34",
   "metadata": {},
   "outputs": [],
   "source": [
    "a = tf.keras.models.load_model('best_model.h5')"
   ]
  },
  {
   "cell_type": "code",
   "execution_count": 134,
   "id": "ff074f19-34cf-46ba-91f7-1f7003b3ea83",
   "metadata": {},
   "outputs": [
    {
     "ename": "ValueError",
     "evalue": "in user code:\n\n    /usr/local/lib/python3.8/dist-packages/tensorflow/python/keras/engine/training.py:1323 test_function  *\n        return step_function(self, iterator)\n    /usr/local/lib/python3.8/dist-packages/tensorflow/python/keras/engine/training.py:1314 step_function  **\n        outputs = model.distribute_strategy.run(run_step, args=(data,))\n    /usr/local/lib/python3.8/dist-packages/tensorflow/python/distribute/distribute_lib.py:1285 run\n        return self._extended.call_for_each_replica(fn, args=args, kwargs=kwargs)\n    /usr/local/lib/python3.8/dist-packages/tensorflow/python/distribute/distribute_lib.py:2833 call_for_each_replica\n        return self._call_for_each_replica(fn, args, kwargs)\n    /usr/local/lib/python3.8/dist-packages/tensorflow/python/distribute/distribute_lib.py:3608 _call_for_each_replica\n        return fn(*args, **kwargs)\n    /usr/local/lib/python3.8/dist-packages/tensorflow/python/keras/engine/training.py:1307 run_step  **\n        outputs = model.test_step(data)\n    /usr/local/lib/python3.8/dist-packages/tensorflow/python/keras/engine/training.py:1268 test_step\n        self.compiled_loss(\n    /usr/local/lib/python3.8/dist-packages/tensorflow/python/keras/engine/compile_utils.py:204 __call__\n        loss_value = loss_obj(y_t, y_p, sample_weight=sw)\n    /usr/local/lib/python3.8/dist-packages/tensorflow/python/keras/losses.py:155 __call__\n        losses = call_fn(y_true, y_pred)\n    /usr/local/lib/python3.8/dist-packages/tensorflow/python/keras/losses.py:259 call  **\n        return ag_fn(y_true, y_pred, **self._fn_kwargs)\n    /usr/local/lib/python3.8/dist-packages/tensorflow/python/util/dispatch.py:206 wrapper\n        return target(*args, **kwargs)\n    /usr/local/lib/python3.8/dist-packages/tensorflow/python/keras/losses.py:1643 categorical_crossentropy\n        return backend.categorical_crossentropy(\n    /usr/local/lib/python3.8/dist-packages/tensorflow/python/util/dispatch.py:206 wrapper\n        return target(*args, **kwargs)\n    /usr/local/lib/python3.8/dist-packages/tensorflow/python/keras/backend.py:4862 categorical_crossentropy\n        target.shape.assert_is_compatible_with(output.shape)\n    /usr/local/lib/python3.8/dist-packages/tensorflow/python/framework/tensor_shape.py:1161 assert_is_compatible_with\n        raise ValueError(\"Shapes %s and %s are incompatible\" % (self, other))\n\n    ValueError: Shapes (None, 1) and (None, 4) are incompatible\n",
     "output_type": "error",
     "traceback": [
      "\u001b[0;31m---------------------------------------------------------------------------\u001b[0m",
      "\u001b[0;31mValueError\u001b[0m                                Traceback (most recent call last)",
      "\u001b[0;32m<ipython-input-134-2471fda3bb22>\u001b[0m in \u001b[0;36m<module>\u001b[0;34m\u001b[0m\n\u001b[0;32m----> 1\u001b[0;31m \u001b[0ma\u001b[0m\u001b[0;34m.\u001b[0m\u001b[0mevaluate\u001b[0m\u001b[0;34m(\u001b[0m\u001b[0mconvert_test_loader\u001b[0m\u001b[0;34m)\u001b[0m\u001b[0;34m\u001b[0m\u001b[0;34m\u001b[0m\u001b[0m\n\u001b[0m",
      "\u001b[0;32m/usr/local/lib/python3.8/dist-packages/tensorflow/python/keras/engine/training.py\u001b[0m in \u001b[0;36mevaluate\u001b[0;34m(self, x, y, batch_size, verbose, sample_weight, steps, callbacks, max_queue_size, workers, use_multiprocessing, return_dict, **kwargs)\u001b[0m\n\u001b[1;32m   1487\u001b[0m             \u001b[0;32mwith\u001b[0m \u001b[0mtrace\u001b[0m\u001b[0;34m.\u001b[0m\u001b[0mTrace\u001b[0m\u001b[0;34m(\u001b[0m\u001b[0;34m'test'\u001b[0m\u001b[0;34m,\u001b[0m \u001b[0mstep_num\u001b[0m\u001b[0;34m=\u001b[0m\u001b[0mstep\u001b[0m\u001b[0;34m,\u001b[0m \u001b[0m_r\u001b[0m\u001b[0;34m=\u001b[0m\u001b[0;36m1\u001b[0m\u001b[0;34m)\u001b[0m\u001b[0;34m:\u001b[0m\u001b[0;34m\u001b[0m\u001b[0;34m\u001b[0m\u001b[0m\n\u001b[1;32m   1488\u001b[0m               \u001b[0mcallbacks\u001b[0m\u001b[0;34m.\u001b[0m\u001b[0mon_test_batch_begin\u001b[0m\u001b[0;34m(\u001b[0m\u001b[0mstep\u001b[0m\u001b[0;34m)\u001b[0m\u001b[0;34m\u001b[0m\u001b[0;34m\u001b[0m\u001b[0m\n\u001b[0;32m-> 1489\u001b[0;31m               \u001b[0mtmp_logs\u001b[0m \u001b[0;34m=\u001b[0m \u001b[0mself\u001b[0m\u001b[0;34m.\u001b[0m\u001b[0mtest_function\u001b[0m\u001b[0;34m(\u001b[0m\u001b[0miterator\u001b[0m\u001b[0;34m)\u001b[0m\u001b[0;34m\u001b[0m\u001b[0;34m\u001b[0m\u001b[0m\n\u001b[0m\u001b[1;32m   1490\u001b[0m               \u001b[0;32mif\u001b[0m \u001b[0mdata_handler\u001b[0m\u001b[0;34m.\u001b[0m\u001b[0mshould_sync\u001b[0m\u001b[0;34m:\u001b[0m\u001b[0;34m\u001b[0m\u001b[0;34m\u001b[0m\u001b[0m\n\u001b[1;32m   1491\u001b[0m                 \u001b[0mcontext\u001b[0m\u001b[0;34m.\u001b[0m\u001b[0masync_wait\u001b[0m\u001b[0;34m(\u001b[0m\u001b[0;34m)\u001b[0m\u001b[0;34m\u001b[0m\u001b[0;34m\u001b[0m\u001b[0m\n",
      "\u001b[0;32m/usr/local/lib/python3.8/dist-packages/tensorflow/python/eager/def_function.py\u001b[0m in \u001b[0;36m__call__\u001b[0;34m(self, *args, **kwds)\u001b[0m\n\u001b[1;32m    887\u001b[0m \u001b[0;34m\u001b[0m\u001b[0m\n\u001b[1;32m    888\u001b[0m       \u001b[0;32mwith\u001b[0m \u001b[0mOptionalXlaContext\u001b[0m\u001b[0;34m(\u001b[0m\u001b[0mself\u001b[0m\u001b[0;34m.\u001b[0m\u001b[0m_jit_compile\u001b[0m\u001b[0;34m)\u001b[0m\u001b[0;34m:\u001b[0m\u001b[0;34m\u001b[0m\u001b[0;34m\u001b[0m\u001b[0m\n\u001b[0;32m--> 889\u001b[0;31m         \u001b[0mresult\u001b[0m \u001b[0;34m=\u001b[0m \u001b[0mself\u001b[0m\u001b[0;34m.\u001b[0m\u001b[0m_call\u001b[0m\u001b[0;34m(\u001b[0m\u001b[0;34m*\u001b[0m\u001b[0margs\u001b[0m\u001b[0;34m,\u001b[0m \u001b[0;34m**\u001b[0m\u001b[0mkwds\u001b[0m\u001b[0;34m)\u001b[0m\u001b[0;34m\u001b[0m\u001b[0;34m\u001b[0m\u001b[0m\n\u001b[0m\u001b[1;32m    890\u001b[0m \u001b[0;34m\u001b[0m\u001b[0m\n\u001b[1;32m    891\u001b[0m       \u001b[0mnew_tracing_count\u001b[0m \u001b[0;34m=\u001b[0m \u001b[0mself\u001b[0m\u001b[0;34m.\u001b[0m\u001b[0mexperimental_get_tracing_count\u001b[0m\u001b[0;34m(\u001b[0m\u001b[0;34m)\u001b[0m\u001b[0;34m\u001b[0m\u001b[0;34m\u001b[0m\u001b[0m\n",
      "\u001b[0;32m/usr/local/lib/python3.8/dist-packages/tensorflow/python/eager/def_function.py\u001b[0m in \u001b[0;36m_call\u001b[0;34m(self, *args, **kwds)\u001b[0m\n\u001b[1;32m    931\u001b[0m       \u001b[0;31m# This is the first call of __call__, so we have to initialize.\u001b[0m\u001b[0;34m\u001b[0m\u001b[0;34m\u001b[0m\u001b[0;34m\u001b[0m\u001b[0m\n\u001b[1;32m    932\u001b[0m       \u001b[0minitializers\u001b[0m \u001b[0;34m=\u001b[0m \u001b[0;34m[\u001b[0m\u001b[0;34m]\u001b[0m\u001b[0;34m\u001b[0m\u001b[0;34m\u001b[0m\u001b[0m\n\u001b[0;32m--> 933\u001b[0;31m       \u001b[0mself\u001b[0m\u001b[0;34m.\u001b[0m\u001b[0m_initialize\u001b[0m\u001b[0;34m(\u001b[0m\u001b[0margs\u001b[0m\u001b[0;34m,\u001b[0m \u001b[0mkwds\u001b[0m\u001b[0;34m,\u001b[0m \u001b[0madd_initializers_to\u001b[0m\u001b[0;34m=\u001b[0m\u001b[0minitializers\u001b[0m\u001b[0;34m)\u001b[0m\u001b[0;34m\u001b[0m\u001b[0;34m\u001b[0m\u001b[0m\n\u001b[0m\u001b[1;32m    934\u001b[0m     \u001b[0;32mfinally\u001b[0m\u001b[0;34m:\u001b[0m\u001b[0;34m\u001b[0m\u001b[0;34m\u001b[0m\u001b[0m\n\u001b[1;32m    935\u001b[0m       \u001b[0;31m# At this point we know that the initialization is complete (or less\u001b[0m\u001b[0;34m\u001b[0m\u001b[0;34m\u001b[0m\u001b[0;34m\u001b[0m\u001b[0m\n",
      "\u001b[0;32m/usr/local/lib/python3.8/dist-packages/tensorflow/python/eager/def_function.py\u001b[0m in \u001b[0;36m_initialize\u001b[0;34m(self, args, kwds, add_initializers_to)\u001b[0m\n\u001b[1;32m    761\u001b[0m     \u001b[0mself\u001b[0m\u001b[0;34m.\u001b[0m\u001b[0m_graph_deleter\u001b[0m \u001b[0;34m=\u001b[0m \u001b[0mFunctionDeleter\u001b[0m\u001b[0;34m(\u001b[0m\u001b[0mself\u001b[0m\u001b[0;34m.\u001b[0m\u001b[0m_lifted_initializer_graph\u001b[0m\u001b[0;34m)\u001b[0m\u001b[0;34m\u001b[0m\u001b[0;34m\u001b[0m\u001b[0m\n\u001b[1;32m    762\u001b[0m     self._concrete_stateful_fn = (\n\u001b[0;32m--> 763\u001b[0;31m         self._stateful_fn._get_concrete_function_internal_garbage_collected(  # pylint: disable=protected-access\n\u001b[0m\u001b[1;32m    764\u001b[0m             *args, **kwds))\n\u001b[1;32m    765\u001b[0m \u001b[0;34m\u001b[0m\u001b[0m\n",
      "\u001b[0;32m/usr/local/lib/python3.8/dist-packages/tensorflow/python/eager/function.py\u001b[0m in \u001b[0;36m_get_concrete_function_internal_garbage_collected\u001b[0;34m(self, *args, **kwargs)\u001b[0m\n\u001b[1;32m   3048\u001b[0m       \u001b[0margs\u001b[0m\u001b[0;34m,\u001b[0m \u001b[0mkwargs\u001b[0m \u001b[0;34m=\u001b[0m \u001b[0;32mNone\u001b[0m\u001b[0;34m,\u001b[0m \u001b[0;32mNone\u001b[0m\u001b[0;34m\u001b[0m\u001b[0;34m\u001b[0m\u001b[0m\n\u001b[1;32m   3049\u001b[0m     \u001b[0;32mwith\u001b[0m \u001b[0mself\u001b[0m\u001b[0;34m.\u001b[0m\u001b[0m_lock\u001b[0m\u001b[0;34m:\u001b[0m\u001b[0;34m\u001b[0m\u001b[0;34m\u001b[0m\u001b[0m\n\u001b[0;32m-> 3050\u001b[0;31m       \u001b[0mgraph_function\u001b[0m\u001b[0;34m,\u001b[0m \u001b[0m_\u001b[0m \u001b[0;34m=\u001b[0m \u001b[0mself\u001b[0m\u001b[0;34m.\u001b[0m\u001b[0m_maybe_define_function\u001b[0m\u001b[0;34m(\u001b[0m\u001b[0margs\u001b[0m\u001b[0;34m,\u001b[0m \u001b[0mkwargs\u001b[0m\u001b[0;34m)\u001b[0m\u001b[0;34m\u001b[0m\u001b[0;34m\u001b[0m\u001b[0m\n\u001b[0m\u001b[1;32m   3051\u001b[0m     \u001b[0;32mreturn\u001b[0m \u001b[0mgraph_function\u001b[0m\u001b[0;34m\u001b[0m\u001b[0;34m\u001b[0m\u001b[0m\n\u001b[1;32m   3052\u001b[0m \u001b[0;34m\u001b[0m\u001b[0m\n",
      "\u001b[0;32m/usr/local/lib/python3.8/dist-packages/tensorflow/python/eager/function.py\u001b[0m in \u001b[0;36m_maybe_define_function\u001b[0;34m(self, args, kwargs)\u001b[0m\n\u001b[1;32m   3442\u001b[0m \u001b[0;34m\u001b[0m\u001b[0m\n\u001b[1;32m   3443\u001b[0m           \u001b[0mself\u001b[0m\u001b[0;34m.\u001b[0m\u001b[0m_function_cache\u001b[0m\u001b[0;34m.\u001b[0m\u001b[0mmissed\u001b[0m\u001b[0;34m.\u001b[0m\u001b[0madd\u001b[0m\u001b[0;34m(\u001b[0m\u001b[0mcall_context_key\u001b[0m\u001b[0;34m)\u001b[0m\u001b[0;34m\u001b[0m\u001b[0;34m\u001b[0m\u001b[0m\n\u001b[0;32m-> 3444\u001b[0;31m           \u001b[0mgraph_function\u001b[0m \u001b[0;34m=\u001b[0m \u001b[0mself\u001b[0m\u001b[0;34m.\u001b[0m\u001b[0m_create_graph_function\u001b[0m\u001b[0;34m(\u001b[0m\u001b[0margs\u001b[0m\u001b[0;34m,\u001b[0m \u001b[0mkwargs\u001b[0m\u001b[0;34m)\u001b[0m\u001b[0;34m\u001b[0m\u001b[0;34m\u001b[0m\u001b[0m\n\u001b[0m\u001b[1;32m   3445\u001b[0m           \u001b[0mself\u001b[0m\u001b[0;34m.\u001b[0m\u001b[0m_function_cache\u001b[0m\u001b[0;34m.\u001b[0m\u001b[0mprimary\u001b[0m\u001b[0;34m[\u001b[0m\u001b[0mcache_key\u001b[0m\u001b[0;34m]\u001b[0m \u001b[0;34m=\u001b[0m \u001b[0mgraph_function\u001b[0m\u001b[0;34m\u001b[0m\u001b[0;34m\u001b[0m\u001b[0m\n\u001b[1;32m   3446\u001b[0m \u001b[0;34m\u001b[0m\u001b[0m\n",
      "\u001b[0;32m/usr/local/lib/python3.8/dist-packages/tensorflow/python/eager/function.py\u001b[0m in \u001b[0;36m_create_graph_function\u001b[0;34m(self, args, kwargs, override_flat_arg_shapes)\u001b[0m\n\u001b[1;32m   3277\u001b[0m     \u001b[0marg_names\u001b[0m \u001b[0;34m=\u001b[0m \u001b[0mbase_arg_names\u001b[0m \u001b[0;34m+\u001b[0m \u001b[0mmissing_arg_names\u001b[0m\u001b[0;34m\u001b[0m\u001b[0;34m\u001b[0m\u001b[0m\n\u001b[1;32m   3278\u001b[0m     graph_function = ConcreteFunction(\n\u001b[0;32m-> 3279\u001b[0;31m         func_graph_module.func_graph_from_py_func(\n\u001b[0m\u001b[1;32m   3280\u001b[0m             \u001b[0mself\u001b[0m\u001b[0;34m.\u001b[0m\u001b[0m_name\u001b[0m\u001b[0;34m,\u001b[0m\u001b[0;34m\u001b[0m\u001b[0;34m\u001b[0m\u001b[0m\n\u001b[1;32m   3281\u001b[0m             \u001b[0mself\u001b[0m\u001b[0;34m.\u001b[0m\u001b[0m_python_function\u001b[0m\u001b[0;34m,\u001b[0m\u001b[0;34m\u001b[0m\u001b[0;34m\u001b[0m\u001b[0m\n",
      "\u001b[0;32m/usr/local/lib/python3.8/dist-packages/tensorflow/python/framework/func_graph.py\u001b[0m in \u001b[0;36mfunc_graph_from_py_func\u001b[0;34m(name, python_func, args, kwargs, signature, func_graph, autograph, autograph_options, add_control_dependencies, arg_names, op_return_value, collections, capture_by_value, override_flat_arg_shapes)\u001b[0m\n\u001b[1;32m    997\u001b[0m         \u001b[0m_\u001b[0m\u001b[0;34m,\u001b[0m \u001b[0moriginal_func\u001b[0m \u001b[0;34m=\u001b[0m \u001b[0mtf_decorator\u001b[0m\u001b[0;34m.\u001b[0m\u001b[0munwrap\u001b[0m\u001b[0;34m(\u001b[0m\u001b[0mpython_func\u001b[0m\u001b[0;34m)\u001b[0m\u001b[0;34m\u001b[0m\u001b[0;34m\u001b[0m\u001b[0m\n\u001b[1;32m    998\u001b[0m \u001b[0;34m\u001b[0m\u001b[0m\n\u001b[0;32m--> 999\u001b[0;31m       \u001b[0mfunc_outputs\u001b[0m \u001b[0;34m=\u001b[0m \u001b[0mpython_func\u001b[0m\u001b[0;34m(\u001b[0m\u001b[0;34m*\u001b[0m\u001b[0mfunc_args\u001b[0m\u001b[0;34m,\u001b[0m \u001b[0;34m**\u001b[0m\u001b[0mfunc_kwargs\u001b[0m\u001b[0;34m)\u001b[0m\u001b[0;34m\u001b[0m\u001b[0;34m\u001b[0m\u001b[0m\n\u001b[0m\u001b[1;32m   1000\u001b[0m \u001b[0;34m\u001b[0m\u001b[0m\n\u001b[1;32m   1001\u001b[0m       \u001b[0;31m# invariant: `func_outputs` contains only Tensors, CompositeTensors,\u001b[0m\u001b[0;34m\u001b[0m\u001b[0;34m\u001b[0m\u001b[0;34m\u001b[0m\u001b[0m\n",
      "\u001b[0;32m/usr/local/lib/python3.8/dist-packages/tensorflow/python/eager/def_function.py\u001b[0m in \u001b[0;36mwrapped_fn\u001b[0;34m(*args, **kwds)\u001b[0m\n\u001b[1;32m    670\u001b[0m         \u001b[0;31m# the function a weak reference to itself to avoid a reference cycle.\u001b[0m\u001b[0;34m\u001b[0m\u001b[0;34m\u001b[0m\u001b[0;34m\u001b[0m\u001b[0m\n\u001b[1;32m    671\u001b[0m         \u001b[0;32mwith\u001b[0m \u001b[0mOptionalXlaContext\u001b[0m\u001b[0;34m(\u001b[0m\u001b[0mcompile_with_xla\u001b[0m\u001b[0;34m)\u001b[0m\u001b[0;34m:\u001b[0m\u001b[0;34m\u001b[0m\u001b[0;34m\u001b[0m\u001b[0m\n\u001b[0;32m--> 672\u001b[0;31m           \u001b[0mout\u001b[0m \u001b[0;34m=\u001b[0m \u001b[0mweak_wrapped_fn\u001b[0m\u001b[0;34m(\u001b[0m\u001b[0;34m)\u001b[0m\u001b[0;34m.\u001b[0m\u001b[0m__wrapped__\u001b[0m\u001b[0;34m(\u001b[0m\u001b[0;34m*\u001b[0m\u001b[0margs\u001b[0m\u001b[0;34m,\u001b[0m \u001b[0;34m**\u001b[0m\u001b[0mkwds\u001b[0m\u001b[0;34m)\u001b[0m\u001b[0;34m\u001b[0m\u001b[0;34m\u001b[0m\u001b[0m\n\u001b[0m\u001b[1;32m    673\u001b[0m         \u001b[0;32mreturn\u001b[0m \u001b[0mout\u001b[0m\u001b[0;34m\u001b[0m\u001b[0;34m\u001b[0m\u001b[0m\n\u001b[1;32m    674\u001b[0m \u001b[0;34m\u001b[0m\u001b[0m\n",
      "\u001b[0;32m/usr/local/lib/python3.8/dist-packages/tensorflow/python/framework/func_graph.py\u001b[0m in \u001b[0;36mwrapper\u001b[0;34m(*args, **kwargs)\u001b[0m\n\u001b[1;32m    984\u001b[0m           \u001b[0;32mexcept\u001b[0m \u001b[0mException\u001b[0m \u001b[0;32mas\u001b[0m \u001b[0me\u001b[0m\u001b[0;34m:\u001b[0m  \u001b[0;31m# pylint:disable=broad-except\u001b[0m\u001b[0;34m\u001b[0m\u001b[0;34m\u001b[0m\u001b[0m\n\u001b[1;32m    985\u001b[0m             \u001b[0;32mif\u001b[0m \u001b[0mhasattr\u001b[0m\u001b[0;34m(\u001b[0m\u001b[0me\u001b[0m\u001b[0;34m,\u001b[0m \u001b[0;34m\"ag_error_metadata\"\u001b[0m\u001b[0;34m)\u001b[0m\u001b[0;34m:\u001b[0m\u001b[0;34m\u001b[0m\u001b[0;34m\u001b[0m\u001b[0m\n\u001b[0;32m--> 986\u001b[0;31m               \u001b[0;32mraise\u001b[0m \u001b[0me\u001b[0m\u001b[0;34m.\u001b[0m\u001b[0mag_error_metadata\u001b[0m\u001b[0;34m.\u001b[0m\u001b[0mto_exception\u001b[0m\u001b[0;34m(\u001b[0m\u001b[0me\u001b[0m\u001b[0;34m)\u001b[0m\u001b[0;34m\u001b[0m\u001b[0;34m\u001b[0m\u001b[0m\n\u001b[0m\u001b[1;32m    987\u001b[0m             \u001b[0;32melse\u001b[0m\u001b[0;34m:\u001b[0m\u001b[0;34m\u001b[0m\u001b[0;34m\u001b[0m\u001b[0m\n\u001b[1;32m    988\u001b[0m               \u001b[0;32mraise\u001b[0m\u001b[0;34m\u001b[0m\u001b[0;34m\u001b[0m\u001b[0m\n",
      "\u001b[0;31mValueError\u001b[0m: in user code:\n\n    /usr/local/lib/python3.8/dist-packages/tensorflow/python/keras/engine/training.py:1323 test_function  *\n        return step_function(self, iterator)\n    /usr/local/lib/python3.8/dist-packages/tensorflow/python/keras/engine/training.py:1314 step_function  **\n        outputs = model.distribute_strategy.run(run_step, args=(data,))\n    /usr/local/lib/python3.8/dist-packages/tensorflow/python/distribute/distribute_lib.py:1285 run\n        return self._extended.call_for_each_replica(fn, args=args, kwargs=kwargs)\n    /usr/local/lib/python3.8/dist-packages/tensorflow/python/distribute/distribute_lib.py:2833 call_for_each_replica\n        return self._call_for_each_replica(fn, args, kwargs)\n    /usr/local/lib/python3.8/dist-packages/tensorflow/python/distribute/distribute_lib.py:3608 _call_for_each_replica\n        return fn(*args, **kwargs)\n    /usr/local/lib/python3.8/dist-packages/tensorflow/python/keras/engine/training.py:1307 run_step  **\n        outputs = model.test_step(data)\n    /usr/local/lib/python3.8/dist-packages/tensorflow/python/keras/engine/training.py:1268 test_step\n        self.compiled_loss(\n    /usr/local/lib/python3.8/dist-packages/tensorflow/python/keras/engine/compile_utils.py:204 __call__\n        loss_value = loss_obj(y_t, y_p, sample_weight=sw)\n    /usr/local/lib/python3.8/dist-packages/tensorflow/python/keras/losses.py:155 __call__\n        losses = call_fn(y_true, y_pred)\n    /usr/local/lib/python3.8/dist-packages/tensorflow/python/keras/losses.py:259 call  **\n        return ag_fn(y_true, y_pred, **self._fn_kwargs)\n    /usr/local/lib/python3.8/dist-packages/tensorflow/python/util/dispatch.py:206 wrapper\n        return target(*args, **kwargs)\n    /usr/local/lib/python3.8/dist-packages/tensorflow/python/keras/losses.py:1643 categorical_crossentropy\n        return backend.categorical_crossentropy(\n    /usr/local/lib/python3.8/dist-packages/tensorflow/python/util/dispatch.py:206 wrapper\n        return target(*args, **kwargs)\n    /usr/local/lib/python3.8/dist-packages/tensorflow/python/keras/backend.py:4862 categorical_crossentropy\n        target.shape.assert_is_compatible_with(output.shape)\n    /usr/local/lib/python3.8/dist-packages/tensorflow/python/framework/tensor_shape.py:1161 assert_is_compatible_with\n        raise ValueError(\"Shapes %s and %s are incompatible\" % (self, other))\n\n    ValueError: Shapes (None, 1) and (None, 4) are incompatible\n"
     ]
    }
   ],
   "source": [
    "a.evaluate(convert_test_loader)"
   ]
  },
  {
   "cell_type": "code",
   "execution_count": null,
   "id": "9c4628d5-df25-44c9-81c4-92ec6b2cad10",
   "metadata": {},
   "outputs": [],
   "source": []
  }
 ],
 "metadata": {
  "kernelspec": {
   "display_name": "Python 3",
   "language": "python",
   "name": "python3"
  },
  "language_info": {
   "codemirror_mode": {
    "name": "ipython",
    "version": 3
   },
   "file_extension": ".py",
   "mimetype": "text/x-python",
   "name": "python",
   "nbconvert_exporter": "python",
   "pygments_lexer": "ipython3",
   "version": "3.8.10"
  }
 },
 "nbformat": 4,
 "nbformat_minor": 5
}
