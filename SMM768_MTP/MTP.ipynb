{
 "cells": [
  {
   "cell_type": "code",
   "execution_count": 13,
   "metadata": {},
   "outputs": [],
   "source": [
    "import tensorflow as tf\n",
    "import numpy as np\n",
    "import pandas as pd\n",
    "from sklearn.model_selection import train_test_split\n",
    "import matplotlib.pyplot as plt\n",
    "import datetime\n",
    "import os\n",
    "import random\n",
    "import keras_tuner as kt\n",
    "from sklearn.metrics import f1_score\n",
    "from sklearn.preprocessing import MinMaxScaler\n",
    "from sklearn.preprocessing import StandardScaler\n",
    "from sklearn.metrics import confusion_matrix\n",
    "from tensorflow import math\n",
    "from sklearn.tree import DecisionTreeClassifier\n",
    "from sklearn.metrics import accuracy_score, precision_score, recall_score\n",
    "from tensorflow.keras.models import Model\n",
    "from tensorflow.keras import layers, losses\n",
    "from imblearn.over_sampling import SMOTE\n",
    "\n",
    "# import ssl\n",
    "# ssl._create_default_https_context = ssl._create_unverified_context"
   ]
  },
  {
   "cell_type": "markdown",
   "metadata": {},
   "source": [
    "## Data cleaning"
   ]
  },
  {
   "cell_type": "code",
   "execution_count": 14,
   "metadata": {},
   "outputs": [
    {
     "name": "stderr",
     "output_type": "stream",
     "text": [
      "/var/folders/k6/934yyy2n5_vf8y3c9cw39gcr0000gn/T/ipykernel_94903/1102670442.py:18: UserWarning: Could not infer format, so each element will be parsed individually, falling back to `dateutil`. To ensure parsing is consistent and as-expected, please specify a format.\n",
      "  insurance_df[\"LossDate\"] = pd.to_datetime(insurance_df[\"LossDate\"])\n",
      "/var/folders/k6/934yyy2n5_vf8y3c9cw39gcr0000gn/T/ipykernel_94903/1102670442.py:19: UserWarning: Could not infer format, so each element will be parsed individually, falling back to `dateutil`. To ensure parsing is consistent and as-expected, please specify a format.\n",
      "  insurance_df[\"FirstPolicySubscriptionDate\"] = pd.to_datetime(\n"
     ]
    },
    {
     "data": {
      "text/html": [
       "<div>\n",
       "<style scoped>\n",
       "    .dataframe tbody tr th:only-of-type {\n",
       "        vertical-align: middle;\n",
       "    }\n",
       "\n",
       "    .dataframe tbody tr th {\n",
       "        vertical-align: top;\n",
       "    }\n",
       "\n",
       "    .dataframe thead th {\n",
       "        text-align: right;\n",
       "    }\n",
       "</style>\n",
       "<table border=\"1\" class=\"dataframe\">\n",
       "  <thead>\n",
       "    <tr style=\"text-align: right;\">\n",
       "      <th></th>\n",
       "      <th>FirstPartyVehicleNumber</th>\n",
       "      <th>ThirdPartyVehicleNumber</th>\n",
       "      <th>DamageImportance</th>\n",
       "      <th>PolicyWasSubscribedOnInternet</th>\n",
       "      <th>NumberOfPoliciesOfPolicyholder</th>\n",
       "      <th>FpVehicleAgeMonths</th>\n",
       "      <th>EasinessToStage</th>\n",
       "      <th>ClaimWihoutIdentifiedThirdParty</th>\n",
       "      <th>ClaimAmount</th>\n",
       "      <th>LossHour</th>\n",
       "      <th>...</th>\n",
       "      <th>ClaimInvolvedCovers_Windscreen ActLiability</th>\n",
       "      <th>ClaimInvolvedCovers_Windscreen ActLiability Burglary</th>\n",
       "      <th>ClaimInvolvedCovers_Windscreen ActLiability Burglary Theft</th>\n",
       "      <th>ClaimInvolvedCovers_Windscreen ActLiability NaturalCatastrophes</th>\n",
       "      <th>ClaimInvolvedCovers_Windscreen ActLiability Theft</th>\n",
       "      <th>ClaimInvolvedCovers_Windscreen ActLiability Theft ReplacementVehicle</th>\n",
       "      <th>ClaimInvolvedCovers_Windscreen MaterialDamages</th>\n",
       "      <th>ClaimInvolvedCovers_Windscreen MaterialDamages ActLiability</th>\n",
       "      <th>ClaimInvolvedCovers_Windscreen NaturalCatastrophes</th>\n",
       "      <th>ClaimInvolvedCovers_Windscreen Theft</th>\n",
       "    </tr>\n",
       "  </thead>\n",
       "  <tbody>\n",
       "    <tr>\n",
       "      <th>0</th>\n",
       "      <td>0.0</td>\n",
       "      <td>0</td>\n",
       "      <td>0.0</td>\n",
       "      <td>1</td>\n",
       "      <td>1</td>\n",
       "      <td>104.0</td>\n",
       "      <td>0.25</td>\n",
       "      <td>1</td>\n",
       "      <td>4624.73</td>\n",
       "      <td>8.0</td>\n",
       "      <td>...</td>\n",
       "      <td>False</td>\n",
       "      <td>False</td>\n",
       "      <td>False</td>\n",
       "      <td>False</td>\n",
       "      <td>False</td>\n",
       "      <td>False</td>\n",
       "      <td>False</td>\n",
       "      <td>False</td>\n",
       "      <td>False</td>\n",
       "      <td>False</td>\n",
       "    </tr>\n",
       "    <tr>\n",
       "      <th>1</th>\n",
       "      <td>1.0</td>\n",
       "      <td>0</td>\n",
       "      <td>0.0</td>\n",
       "      <td>0</td>\n",
       "      <td>3</td>\n",
       "      <td>230.0</td>\n",
       "      <td>0.50</td>\n",
       "      <td>1</td>\n",
       "      <td>1606.81</td>\n",
       "      <td>11.0</td>\n",
       "      <td>...</td>\n",
       "      <td>False</td>\n",
       "      <td>False</td>\n",
       "      <td>False</td>\n",
       "      <td>False</td>\n",
       "      <td>False</td>\n",
       "      <td>False</td>\n",
       "      <td>False</td>\n",
       "      <td>False</td>\n",
       "      <td>False</td>\n",
       "      <td>False</td>\n",
       "    </tr>\n",
       "    <tr>\n",
       "      <th>2</th>\n",
       "      <td>0.0</td>\n",
       "      <td>0</td>\n",
       "      <td>0.0</td>\n",
       "      <td>0</td>\n",
       "      <td>9</td>\n",
       "      <td>93.0</td>\n",
       "      <td>0.25</td>\n",
       "      <td>0</td>\n",
       "      <td>998.20</td>\n",
       "      <td>18.0</td>\n",
       "      <td>...</td>\n",
       "      <td>False</td>\n",
       "      <td>False</td>\n",
       "      <td>False</td>\n",
       "      <td>False</td>\n",
       "      <td>False</td>\n",
       "      <td>False</td>\n",
       "      <td>False</td>\n",
       "      <td>False</td>\n",
       "      <td>False</td>\n",
       "      <td>False</td>\n",
       "    </tr>\n",
       "    <tr>\n",
       "      <th>3</th>\n",
       "      <td>0.0</td>\n",
       "      <td>0</td>\n",
       "      <td>0.0</td>\n",
       "      <td>0</td>\n",
       "      <td>2</td>\n",
       "      <td>56.0</td>\n",
       "      <td>0.25</td>\n",
       "      <td>0</td>\n",
       "      <td>2506.92</td>\n",
       "      <td>11.0</td>\n",
       "      <td>...</td>\n",
       "      <td>False</td>\n",
       "      <td>False</td>\n",
       "      <td>False</td>\n",
       "      <td>False</td>\n",
       "      <td>False</td>\n",
       "      <td>False</td>\n",
       "      <td>False</td>\n",
       "      <td>False</td>\n",
       "      <td>False</td>\n",
       "      <td>False</td>\n",
       "    </tr>\n",
       "    <tr>\n",
       "      <th>4</th>\n",
       "      <td>0.0</td>\n",
       "      <td>1</td>\n",
       "      <td>0.0</td>\n",
       "      <td>0</td>\n",
       "      <td>4</td>\n",
       "      <td>110.0</td>\n",
       "      <td>0.25</td>\n",
       "      <td>0</td>\n",
       "      <td>12.00</td>\n",
       "      <td>12.0</td>\n",
       "      <td>...</td>\n",
       "      <td>False</td>\n",
       "      <td>False</td>\n",
       "      <td>False</td>\n",
       "      <td>False</td>\n",
       "      <td>False</td>\n",
       "      <td>False</td>\n",
       "      <td>False</td>\n",
       "      <td>False</td>\n",
       "      <td>False</td>\n",
       "      <td>False</td>\n",
       "    </tr>\n",
       "  </tbody>\n",
       "</table>\n",
       "<p>5 rows × 122 columns</p>\n",
       "</div>"
      ],
      "text/plain": [
       "   FirstPartyVehicleNumber  ThirdPartyVehicleNumber  DamageImportance  \\\n",
       "0                      0.0                        0               0.0   \n",
       "1                      1.0                        0               0.0   \n",
       "2                      0.0                        0               0.0   \n",
       "3                      0.0                        0               0.0   \n",
       "4                      0.0                        1               0.0   \n",
       "\n",
       "   PolicyWasSubscribedOnInternet  NumberOfPoliciesOfPolicyholder  \\\n",
       "0                              1                               1   \n",
       "1                              0                               3   \n",
       "2                              0                               9   \n",
       "3                              0                               2   \n",
       "4                              0                               4   \n",
       "\n",
       "   FpVehicleAgeMonths  EasinessToStage  ClaimWihoutIdentifiedThirdParty  \\\n",
       "0               104.0             0.25                                1   \n",
       "1               230.0             0.50                                1   \n",
       "2                93.0             0.25                                0   \n",
       "3                56.0             0.25                                0   \n",
       "4               110.0             0.25                                0   \n",
       "\n",
       "   ClaimAmount  LossHour  ...  ClaimInvolvedCovers_Windscreen ActLiability  \\\n",
       "0      4624.73       8.0  ...                                        False   \n",
       "1      1606.81      11.0  ...                                        False   \n",
       "2       998.20      18.0  ...                                        False   \n",
       "3      2506.92      11.0  ...                                        False   \n",
       "4        12.00      12.0  ...                                        False   \n",
       "\n",
       "   ClaimInvolvedCovers_Windscreen ActLiability Burglary  \\\n",
       "0                                              False      \n",
       "1                                              False      \n",
       "2                                              False      \n",
       "3                                              False      \n",
       "4                                              False      \n",
       "\n",
       "   ClaimInvolvedCovers_Windscreen ActLiability Burglary Theft  \\\n",
       "0                                              False            \n",
       "1                                              False            \n",
       "2                                              False            \n",
       "3                                              False            \n",
       "4                                              False            \n",
       "\n",
       "   ClaimInvolvedCovers_Windscreen ActLiability NaturalCatastrophes  \\\n",
       "0                                              False                 \n",
       "1                                              False                 \n",
       "2                                              False                 \n",
       "3                                              False                 \n",
       "4                                              False                 \n",
       "\n",
       "   ClaimInvolvedCovers_Windscreen ActLiability Theft  \\\n",
       "0                                              False   \n",
       "1                                              False   \n",
       "2                                              False   \n",
       "3                                              False   \n",
       "4                                              False   \n",
       "\n",
       "   ClaimInvolvedCovers_Windscreen ActLiability Theft ReplacementVehicle  \\\n",
       "0                                              False                      \n",
       "1                                              False                      \n",
       "2                                              False                      \n",
       "3                                              False                      \n",
       "4                                              False                      \n",
       "\n",
       "   ClaimInvolvedCovers_Windscreen MaterialDamages  \\\n",
       "0                                           False   \n",
       "1                                           False   \n",
       "2                                           False   \n",
       "3                                           False   \n",
       "4                                           False   \n",
       "\n",
       "   ClaimInvolvedCovers_Windscreen MaterialDamages ActLiability  \\\n",
       "0                                              False             \n",
       "1                                              False             \n",
       "2                                              False             \n",
       "3                                              False             \n",
       "4                                              False             \n",
       "\n",
       "   ClaimInvolvedCovers_Windscreen NaturalCatastrophes  \\\n",
       "0                                              False    \n",
       "1                                              False    \n",
       "2                                              False    \n",
       "3                                              False    \n",
       "4                                              False    \n",
       "\n",
       "   ClaimInvolvedCovers_Windscreen Theft  \n",
       "0                                 False  \n",
       "1                                 False  \n",
       "2                                 False  \n",
       "3                                 False  \n",
       "4                                 False  \n",
       "\n",
       "[5 rows x 122 columns]"
      ]
     },
     "execution_count": 14,
     "metadata": {},
     "output_type": "execute_result"
    }
   ],
   "source": [
    "# read csv file\n",
    "insurance_df = pd.read_csv(\"Insurance_claims.csv\")\n",
    "# insurance_df.head()\n",
    "insurance_df = insurance_df.drop(\n",
    "    [\"ReferenceId\", \"PolicyholderNumber\", \"InsurerNotes\"], axis=1\n",
    ")\n",
    "# these are unique values which should be dropped and column about postcode and date will be dropped later\n",
    "# we need to find those repeated values and set them into 1, others into 0(including the missing value)\n",
    "mask = insurance_df[\"FirstPartyVehicleNumber\"].duplicated(keep=False)\n",
    "insurance_df.loc[mask, \"FirstPartyVehicleNumber\"] = 1\n",
    "insurance_df.loc[~mask, \"FirstPartyVehicleNumber\"] = 0\n",
    "# check if there is thirdpartyvehicle, yes -> 1, no -> 0\n",
    "insurance_df[\"ThirdPartyVehicleNumber\"].fillna(0)\n",
    "insurance_df[\"ThirdPartyVehicleNumber\"] = insurance_df[\"ThirdPartyVehicleNumber\"].apply(\n",
    "    lambda x: 1 if x > 0 else 0\n",
    ")\n",
    "\n",
    "insurance_df[\"LossDate\"] = pd.to_datetime(insurance_df[\"LossDate\"])\n",
    "insurance_df[\"FirstPolicySubscriptionDate\"] = pd.to_datetime(\n",
    "    insurance_df[\"FirstPolicySubscriptionDate\"]\n",
    ")\n",
    "\n",
    "# calculate the number of days between the two dates\n",
    "insurance_df[\"days_between\"] = insurance_df.apply(\n",
    "    lambda row: (row[\"LossDate\"] - row[\"FirstPolicySubscriptionDate\"]).days, axis=1\n",
    ")\n",
    "insurance_df = insurance_df.drop([\"LossDate\", \"FirstPolicySubscriptionDate\"], axis=1)\n",
    "\n",
    "# check the two postcodes\n",
    "def compare_digits(x, y):\n",
    "    x_len = len(str(x))\n",
    "    y_len = len(str(y))\n",
    "    if x_len == y_len:\n",
    "        if x_len == 5:\n",
    "            return str(x)[:2] == str(y)[:2]\n",
    "        elif x_len == 4:\n",
    "            return str(x)[0] == str(y)[0]\n",
    "        else:\n",
    "            return False\n",
    "    else:\n",
    "        return False\n",
    "\n",
    "\n",
    "# check if the loss place is in the same district of the holder's place\n",
    "insurance_df[\"IfinSameArea\"] = insurance_df.apply(\n",
    "    lambda row: 1\n",
    "    if compare_digits(row[\"LossPostCode\"], row[\"PolicyHolderPostCode\"])\n",
    "    else 0,\n",
    "    axis=1,\n",
    ")\n",
    "insurance_df = insurance_df.drop([\"LossPostCode\", \"PolicyHolderPostCode\"], axis=1)\n",
    "\n",
    "# set these columns to dummies\n",
    "insurance_df = pd.get_dummies(\n",
    "    insurance_df,\n",
    "    columns=[\n",
    "        \"FirstPartyVehicleType\",\n",
    "        \"PolicyholderOccupation\",\n",
    "        \"ClaimCause\",       \n",
    "        \"ConnectionBetweenParties\",\n",
    "        \"ClaimInvolvedCovers\",\n",
    "    ],\n",
    ")\n",
    "\n",
    "# check the two postcodes\n",
    "def jud(x):\n",
    "    if x == \"TotalLoss\":\n",
    "        return 1\n",
    "    elif x == \"Medium\":\n",
    "        return 0.5\n",
    "    else:\n",
    "        return 0\n",
    "\n",
    "\n",
    "insurance_df[\"DamageImportance\"] = insurance_df[\"DamageImportance\"].fillna(0)\n",
    "insurance_df[\"DamageImportance\"] = insurance_df[\"DamageImportance\"].apply(\n",
    "    lambda row: jud(row)\n",
    ")\n",
    "\n",
    "mean_v_fp = insurance_df[\"FpVehicleAgeMonths\"].mean()\n",
    "insurance_df[\"FpVehicleAgeMonths\"] = insurance_df[\"FpVehicleAgeMonths\"].fillna(\n",
    "    value=mean_v_fp\n",
    ")\n",
    "\n",
    "insurance_df[\"LossHour\"] = insurance_df[\"LossHour\"].fillna(\n",
    "    insurance_df[\"LossHour\"].mean()\n",
    ")\n",
    "\n",
    "mean_v_po = insurance_df[\"PolicyHolderAge\"].mean()\n",
    "insurance_df[\"PolicyHolderAge\"] = insurance_df[\"PolicyHolderAge\"].fillna(mean_v_po)\n",
    "\n",
    "insurance_df.head()"
   ]
  },
  {
   "cell_type": "code",
   "execution_count": null,
   "metadata": {},
   "outputs": [],
   "source": []
  },
  {
   "attachments": {},
   "cell_type": "markdown",
   "metadata": {},
   "source": [
    "## Question 3"
   ]
  },
  {
   "cell_type": "code",
   "execution_count": 5,
   "metadata": {},
   "outputs": [
    {
     "data": {
      "image/png": "[encoded data removed]",
      "text/plain": [
       "<Figure size 640x480 with 1 Axes>"
      ]
     },
     "metadata": {},
     "output_type": "display_data"
    }
   ],
   "source": [
    "import numpy as np\n",
    "import matplotlib.pyplot as plt\n",
    "\n",
    "detection = insurance_df.groupby(['days_between']).size().reset_index(name='count')\n",
    "detection.loc[:, \"count_cum\"] = detection['count'].cumsum()\n",
    "detection.loc[:, \"detection_rate_cum\"] =  detection[['count_cum']]/len(insurance_df)\n",
    "detection.loc[:, \"fraud_cum\"]  = insurance_df.groupby(['days_between'])[['Fraud']].sum().cumsum()\n",
    "detection.loc[:, \"hit_rate_cum\"] = detection['fraud_cum']/detection['count_cum']\n",
    "\n",
    "\n",
    "x = detection['days_between']\n",
    "f = detection['detection_rate_cum']\n",
    "g = detection['hit_rate_cum']\n",
    "\n",
    "plt.plot(x, f, \"-b\", label=\"detection_rate_cum\")\n",
    "plt.plot(x, g, \"-r\", label=\"hit_rate_cum\")\n",
    "plt.legend(loc=\"upper left\")\n",
    "\n",
    "plt.show()"
   ]
  },
  {
   "attachments": {},
   "cell_type": "markdown",
   "metadata": {},
   "source": [
    "## Split and standardize data"
   ]
  },
  {
   "cell_type": "code",
   "execution_count": 48,
   "metadata": {},
   "outputs": [
    {
     "data": {
      "text/plain": [
       "((15970, 121), (15970,), (1730, 121))"
      ]
     },
     "execution_count": 48,
     "metadata": {},
     "output_type": "execute_result"
    }
   ],
   "source": [
    "y = insurance_df[\"Fraud\"]  # creating the dependent variable\n",
    "X = insurance_df.drop(columns=[\"Fraud\"])\n",
    "\n",
    "\n",
    "X_train, X_other, Y_train, Y_other = train_test_split(\n",
    "    X, y, train_size=0.7, random_state=111\n",
    ")\n",
    "\n",
    "\n",
    "X_test, X_valid, Y_test, Y_valid = train_test_split(\n",
    "    X_other, Y_other, test_size=0.5, random_state=111\n",
    ")\n",
    "\n",
    "# Apply SMOTE\n",
    "smote = SMOTE(random_state=111)\n",
    "X_train_smote, Y_train_smote = smote.fit_resample(X_train, Y_train)\n",
    "\n",
    "\n",
    "X_train_smote.shape, Y_train_smote.shape, X_test.shape"
   ]
  },
  {
   "cell_type": "code",
   "execution_count": 49,
   "metadata": {},
   "outputs": [
    {
     "name": "stdout",
     "output_type": "stream",
     "text": [
      "(15970, 121) (15970,) (1730, 121)\n"
     ]
    }
   ],
   "source": [
    "# Checking the shapes of the datasets\n",
    "print(X_train_smote.shape, Y_train_smote.shape, X_test.shape)"
   ]
  },
  {
   "cell_type": "code",
   "execution_count": 50,
   "metadata": {},
   "outputs": [
    {
     "data": {
      "text/plain": [
       "(1730, 121)"
      ]
     },
     "execution_count": 50,
     "metadata": {},
     "output_type": "execute_result"
    }
   ],
   "source": [
    "scaler = StandardScaler()\n",
    "\n",
    "X_train_scaled = scaler.fit_transform(X_train_smote)\n",
    "X_test_scaled = scaler.transform(X_test)\n",
    "X_vaild_scaled = scaler.transform(X_valid)\n",
    "X_vaild_scaled.shape"
   ]
  },
  {
   "cell_type": "markdown",
   "metadata": {},
   "source": [
    "## Boxplot analyses for potentially important feature"
   ]
  },
  {
   "cell_type": "code",
   "execution_count": 18,
   "metadata": {},
   "outputs": [],
   "source": [
    "# Split the dataframe into two groups which have different results of patent application.\n",
    "df_no_all = insurance_df.loc[insurance_df[\"Fraud\"] == 0]\n",
    "df_yes_all = insurance_df.loc[insurance_df[\"Fraud\"] == 1]\n",
    "\n",
    "# Select the parameters that assumed to be related.\n",
    "list_para = [\"NumberOfPoliciesOfPolicyholder\",\"FpVehicleAgeMonths\",\"ClaimAmount\",\"LossHour\",\"PolicyHolderAge\",\"days_between\"]\n",
    "df_no = df_no_all[[\"NumberOfPoliciesOfPolicyholder\",\"FpVehicleAgeMonths\",\"ClaimAmount\",\"LossHour\",\"PolicyHolderAge\",\"days_between\"]]\n",
    "df_yes = df_yes_all[[\"NumberOfPoliciesOfPolicyholder\",\"FpVehicleAgeMonths\",\"ClaimAmount\",\"LossHour\",\"PolicyHolderAge\",\"days_between\"]]\n"
   ]
  },
  {
   "cell_type": "code",
   "execution_count": 19,
   "metadata": {},
   "outputs": [
    {
     "data": {
      "image/png": "[encoded data removed]",
      "text/plain": [
       "<Figure size 1500x1500 with 6 Axes>"
      ]
     },
     "metadata": {},
     "output_type": "display_data"
    }
   ],
   "source": [
    "fig, axes = plt.subplots(nrows = 3, ncols = 2, figsize = (15,15))\n",
    "\n",
    "# Draw the box plots by iterating features\n",
    "k = 0\n",
    "for i in range(3):\n",
    "    for j in range(2):\n",
    "        if k >6:\n",
    "            break\n",
    "        axes[i,j].boxplot([df_yes[list_para[k]], df_no[list_para[k]]])\n",
    "        axes[i,j].set_title(list_para[k])\n",
    "        axes[i,j].set(xlabel = \"Fraud\")\n",
    "        xlabels = axes[i,j].set_xticklabels([\"1\", \"0\"])\n",
    "        k += 1\n",
    "        "
   ]
  },
  {
   "attachments": {},
   "cell_type": "markdown",
   "metadata": {},
   "source": [
    "## This section includes 3 methods: \n",
    "\n",
    "    1. opt_threshold() calculates the optimal threshold for dealing with the network outputs based on \"sigmiod\" activetion function.\n",
    "       The optimal threshold will be the highest f1 score of Y_vaild and y_pred_threshold.\n",
    "\n",
    "    2. show_predicted_result() shows the hit rate, detection rate and other relevant results.\n",
    "\n",
    "    3. create_plot() shows the model loss, accuracy, validation loss and validation accuracy."
   ]
  },
  {
   "cell_type": "code",
   "execution_count": 63,
   "metadata": {},
   "outputs": [],
   "source": [
    "def opt_threshold(model):\n",
    "    # Make predictions on the test set\n",
    "    y_pred = model.predict(X_vaild_scaled)\n",
    "\n",
    "    # Calculate the F1 score for different threshold values\n",
    "    f1_scores = []\n",
    "    thresholds = np.arange(0.0, 1.0, 0.01)\n",
    "    for threshold in thresholds:\n",
    "        y_pred_thresh = tf.keras.backend.cast(y_pred > threshold, 'float32')\n",
    "        f1 = f1_score(Y_valid, y_pred_thresh)\n",
    "        f1_scores.append(f1)\n",
    "\n",
    "    # Select the threshold with the highest F1 score\n",
    "    optimal_threshold = thresholds[np.argmax(f1_scores)]\n",
    "\n",
    "    return optimal_threshold\n",
    "\n",
    "\n",
    "def show_predicted_result(model, data):\n",
    "    y_pred = model.predict(data)\n",
    "    y_pred = y_pred.ravel()\n",
    "\n",
    "    mse = np.sum((y_pred - Y_test) ** 2) / len(y_pred)\n",
    "    print(\"Mean square error: \", mse)\n",
    "\n",
    "    opt_thresh = opt_threshold(model) \n",
    "\n",
    "    y_pred = [1 if p > opt_thresh else 0 for p in y_pred]\n",
    "\n",
    "    hits = sum(Y_test & y_pred)\n",
    "\n",
    "    hit_rate = hits / np.sum(y_pred)\n",
    "    detection_rate = np.sum(y_pred) / len(y_pred)\n",
    "\n",
    "\n",
    "    print(\"Threshold-------------------------:\", opt_thresh)\n",
    "    print(\"Number of data in testset:--------:\", len(y_pred))\n",
    "    print(\"Number of predicted frauds--------:\", np.sum(y_pred))\n",
    "    print(\"Total number of frauds in testset-:\", np.sum(Y_test))\n",
    "    print(\"Number of predicted frauds hit----:\", hits)\n",
    "    print(\"Hit rate--------------------------:\", hit_rate)\n",
    "    print(\"Detection rate--------------------:\", detection_rate)\n",
    "    \n",
    "\n",
    "def create_plot(log):\n",
    "    plt.plot(log.history[\"accuracy\"], label=\"training accuracy\", color=\"red\")\n",
    "    plt.plot(log.history[\"loss\"], label=\"training loss\", color=\"darkgreen\")\n",
    "    plt.plot(\n",
    "        log.history[\"val_accuracy\"],\n",
    "        label=\"validation accuracy\",\n",
    "        color=\"grey\",\n",
    "    )\n",
    "    plt.plot(log.history[\"val_loss\"], label=\"validation loss\", color=\"darkblue\")\n",
    "    plt.legend()\n",
    "    plt.show()"
   ]
  },
  {
   "attachments": {},
   "cell_type": "markdown",
   "metadata": {},
   "source": [
    "## Question 4: Building a decision tree model\n",
    "\n",
    "    • A default tree is given and its hit rate is lower than the neuron network's one\n",
    "      when having the similar detection rates.\n",
    "\n",
    "    1. Default decision tree\n",
    "            Detection rate: 0.012, Hit rate: 0.095\n",
    "  \n",
    "    2. Neuron network\n",
    "            Detection rate: 0.015, Hit rate: 0.154"
   ]
  },
  {
   "cell_type": "code",
   "execution_count": 67,
   "metadata": {},
   "outputs": [
    {
     "name": "stdout",
     "output_type": "stream",
     "text": [
      "Hit rate: 0.2571428571428571\n",
      "Detection rate: 0.02023121387283237\n"
     ]
    }
   ],
   "source": [
    "dtc = DecisionTreeClassifier()\n",
    "dtc.fit(X_train_smote, Y_train_smote)\n",
    "Pred = dtc.predict(X_test)\n",
    "hits1 = sum(Y_test & Pred)\n",
    "\n",
    "hit_rate1 = hits1 / Pred.sum()\n",
    "detection_rate1 = Pred.sum()/ len(Y_test)\n",
    "\n",
    "print(\"Hit rate:\", hit_rate1)\n",
    "print(\"Detection rate:\", detection_rate1)"
   ]
  },
  {
   "attachments": {},
   "cell_type": "markdown",
   "metadata": {},
   "source": [
    "    We also tried to see the top 27 important features and select them as the key features to see if they can help in question 6\n",
    "\n",
    "    The features after 27th have zero importance scores, so we discarded them"
   ]
  },
  {
   "cell_type": "code",
   "execution_count": 68,
   "metadata": {},
   "outputs": [
    {
     "name": "stdout",
     "output_type": "stream",
     "text": [
      "days_between: 0.5081\n",
      "ConnectionBetweenParties_SameAddress: 0.1516\n",
      "DamageImportance: 0.1203\n",
      "ClaimAmount: 0.0396\n",
      "ClaimCause_WindscreenDamage: 0.0275\n",
      "ConnectionBetweenParties_SamePolice: 0.0204\n",
      "PolicyHolderAge: 0.0202\n",
      "LossHour: 0.0137\n",
      "EasinessToStage: 0.0133\n",
      "FirstPartyLiability: 0.0127\n",
      "FirstPartyVehicleNumber: 0.0121\n",
      "ClaimCause_LossOfControl: 0.0112\n",
      "FpVehicleAgeMonths: 0.0064\n",
      "NumberOfBodilyInjuries: 0.0054\n",
      "PolicyholderOccupation_Retired: 0.0046\n",
      "ClaimCause_TotalTheft: 0.0045\n",
      "PolicyholderOccupation_Employee: 0.0044\n",
      "NumberOfPoliciesOfPolicyholder: 0.0033\n",
      "PolicyholderOccupation_Worker: 0.0027\n",
      "ClaimCause_Flood: 0.0025\n",
      "ClaimInvolvedCovers_ActLiability Fire: 0.0017\n",
      "PolicyWasSubscribedOnInternet: 0.0015\n",
      "ClaimInvolvedCovers_MaterialDamages ActLiability: 0.0013\n",
      "ClaimInvolvedCovers_MaterialDamages ActLiability ReplacementVehicle: 0.0012\n",
      "ClaimCause_CollisionWithAnimal: 0.0012\n",
      "FirstPartyVehicleType_Car: 0.0010\n",
      "ClaimCause_AccidentWithUnidentifiedThirdParty: 0.0010\n",
      "PolicyholderOccupation_Unemployed: 0.0009\n",
      "PolicyholderOccupation_Merchant: 0.0007\n",
      "IfinSameArea: 0.0005\n"
     ]
    }
   ],
   "source": [
    "# Create a list of tuples with feature names and their importance scores\n",
    "feature_importances = [(feature, importance) for feature, importance in zip(dtc.feature_names_in_, dtc.feature_importances_)]\n",
    "\n",
    "# Sort the list of feature importances in descending order\n",
    "feature_importances = sorted(feature_importances, key=lambda x: x[1], reverse=True)\n",
    "\n",
    "# Print the first 10 most important features\n",
    "for feature, importance in feature_importances[:30]:\n",
    "    print(f\"{feature}: {importance:.4f}\")"
   ]
  },
  {
   "attachments": {},
   "cell_type": "markdown",
   "metadata": {},
   "source": [
    "## Question 5: Building a deep neuron network\n",
    "\n",
    "    We first create a hyperparameter searching space for Hyperband tuner to train and search the best model\n",
    "\n",
    "    • 5 hyperparameters are tuned and 3 optimizers as well\n",
    "    • Leaky relu is used as a choice to capture more negative inputs with alpha = 0.2, improving the \"dying relu\" problem\n",
    "    • Batch normalisation layers help the network to converge faster\n",
    "    • 10 metrics will be output by the model\n",
    "     "
   ]
  },
  {
   "cell_type": "code",
   "execution_count": 80,
   "metadata": {},
   "outputs": [],
   "source": [
    "def train_model(hp):\n",
    "\n",
    "    # 5 hyperparameters to tune\n",
    "    n_hiddens = hp.Int(\"n_hiddens\", min_value=2, max_value=16, step=2)\n",
    "    n_neurons = hp.Int(\"n_neurons\", min_value=16, max_value=64, step=8)\n",
    "    dropout_rate = hp.Float('dropout_rate', min_value=0.0, max_value=0.9, step=0.1)\n",
    "    # print(\"Current dropout rate:\", dropout_rate)  # Debugging line\n",
    "    learning_rate = hp.Float(\n",
    "        \"learning_rate\", min_value=0.001, max_value=0.05, sampling=\"log\"\n",
    "    )\n",
    "    \n",
    "    model = tf.keras.Sequential(\n",
    "        [tf.keras.layers.Flatten(input_shape=(121, 1))]\n",
    "    )\n",
    "    \n",
    "    for _ in range(n_hiddens):\n",
    "        \n",
    "        model.add(\n",
    "            tf.keras.layers.Dense(\n",
    "                n_neurons,\n",
    "                activation = tf.keras.layers.LeakyReLU(0.2),\n",
    "                )\n",
    "        )\n",
    "        tf.keras.layers.BatchNormalization(),\n",
    "        # model.add(tf.keras.layers.Dropout(rate=dropout_rate))\n",
    "        \n",
    "    model.add(tf.keras.layers.Dense(1, activation=\"sigmoid\"))\n",
    "\n",
    "    optimizer = hp.Choice(\"optimizer\", values=[\"adam\", \"rmsprop\", \"sgd\"])\n",
    "\n",
    "    if optimizer == \"adam\":\n",
    "        optimizer = tf.keras.optimizers.Adam(learning_rate=learning_rate)\n",
    "    elif optimizer == \"rmsprop\":\n",
    "        optimizer = tf.keras.optimizers.RMSprop(learning_rate=learning_rate)\n",
    "    else:\n",
    "        optimizer = tf.keras.optimizers.SGD(learning_rate=learning_rate)\n",
    "\n",
    "    METRICS = [\n",
    "      tf.keras.metrics.MeanSquaredError(name='mse'),\n",
    "      tf.keras.metrics.TruePositives(name='tp'),\n",
    "      tf.keras.metrics.FalsePositives(name='fp'),\n",
    "      tf.keras.metrics.TrueNegatives(name='tn'),\n",
    "      tf.keras.metrics.FalseNegatives(name='fn'), \n",
    "      tf.keras.metrics.BinaryAccuracy(name='accuracy'),\n",
    "      tf.keras.metrics.Precision(name='precision'),\n",
    "      tf.keras.metrics.Recall(name='recall'),\n",
    "      tf.keras.metrics.AUC(name='auc'),\n",
    "      tf.keras.metrics.AUC(name='prc', curve='PR'), # precision-recall curve\n",
    "    ]\n",
    "\n",
    "    model.compile(\n",
    "        # optimizer=optimizer, loss=\"mean_squared_error\", metrics=[tf.keras.metrics.RootMeanSquaredError(name=\"rmse\")]\n",
    "        optimizer=optimizer, loss='binary_crossentropy', \n",
    "                  metrics=METRICS\n",
    "    )\n",
    "\n",
    "    return model"
   ]
  },
  {
   "attachments": {},
   "cell_type": "markdown",
   "metadata": {},
   "source": [
    "## Calculate a weight ratio for frauds and non frauds data\n",
    "\n",
    "    • Adding more weights on the fraud data as they are only 1% of the total dataset\n",
    "    \n",
    "    • The purpose of doing this is to let the neuron network pays more attention on the fraud data in the training process"
   ]
  },
  {
   "cell_type": "code",
   "execution_count": null,
   "metadata": {},
   "outputs": [],
   "source": []
  },
  {
   "cell_type": "code",
   "execution_count": 34,
   "metadata": {},
   "outputs": [
    {
     "name": "stdout",
     "output_type": "stream",
     "text": [
      "Total: 11530\n",
      "Frauds: 115 (1.00% of total)\n",
      "\n",
      "Weight for class 0: 0.51\n",
      "Weight for class 1: 50.13\n"
     ]
    }
   ],
   "source": [
    "neg, pos = np.bincount(insurance_df['Fraud'])\n",
    "total = neg + pos\n",
    "print('Total: {}\\nFrauds: {} ({:.2f}% of total)\\n'.format(\n",
    "    total, pos, 100 * pos / total))\n",
    "\n",
    "# Scaling by total/2 helps keep the loss to a similar magnitude.\n",
    "# The sum of the weights of all examples stays the same.\n",
    "weight_for_0 = (1 / neg) * (total / 2.0)\n",
    "weight_for_1 = (1 / pos) * (total / 2.0)\n",
    "\n",
    "class_weight = {0: weight_for_0, 1: weight_for_1+10}\n",
    "\n",
    "print('Weight for class 0: {:.2f}'.format(weight_for_0))\n",
    "print('Weight for class 1: {:.2f}'.format(weight_for_1))"
   ]
  },
  {
   "attachments": {},
   "cell_type": "markdown",
   "metadata": {},
   "source": [
    "## Hyperband tuner \n",
    "\n",
    "    • The tuner objective is to find the best \"val_accuracy\", despite it is not the task goal\n",
    "    • A better model \"best_hb_model\" was saved after several model fittings for comparing with result from decision tree"
   ]
  },
  {
   "cell_type": "code",
   "execution_count": 76,
   "metadata": {},
   "outputs": [
    {
     "name": "stdout",
     "output_type": "stream",
     "text": [
      "Trial 10 Complete [00h 01m 19s]\n",
      "val_accuracy: 0.9930635690689087\n",
      "\n",
      "Best val_accuracy So Far: 0.9930635690689087\n",
      "Total elapsed time: 00h 06m 08s\n",
      "INFO:tensorflow:Oracle triggered exit\n"
     ]
    }
   ],
   "source": [
    "hyperband_tuner = kt.Hyperband(\n",
    "    train_model,\n",
    "    # objective=kt.Objective(\"rmse\", direction=\"min\"),\n",
    "    objective='val_accuracy',\n",
    "    max_epochs=5,\n",
    "    factor=3,\n",
    "    directory=\"logs\",\n",
    "    project_name=\"hb_tuner1\",\n",
    "    \n",
    ")\n",
    "\n",
    "hyperband_tuner.search(X_train_scaled, Y_train_smote, validation_data=(X_vaild_scaled, Y_valid))\n"
   ]
  },
  {
   "cell_type": "code",
   "execution_count": 77,
   "metadata": {},
   "outputs": [],
   "source": [
    "best_hps = hyperband_tuner.get_best_hyperparameters()[0]\n",
    "best_hb_model = hyperband_tuner.hypermodel.build(best_hps)"
   ]
  },
  {
   "cell_type": "code",
   "execution_count": 82,
   "metadata": {},
   "outputs": [
    {
     "name": "stdout",
     "output_type": "stream",
     "text": [
      "Epoch 1/30\n"
     ]
    },
    {
     "name": "stderr",
     "output_type": "stream",
     "text": [
      "2024-02-02 23:12:22.961944: I tensorflow/core/grappler/optimizers/custom_graph_optimizer_registry.cc:114] Plugin optimizer for device_type GPU is enabled.\n",
      "loc(\"mps_select\"(\"(mpsFileLoc): /AppleInternal/Library/BuildRoots/0032d1ee-80fd-11ee-8227-6aecfccc70fe/Library/Caches/com.apple.xbs/Sources/MetalPerformanceShadersGraph/mpsgraph/MetalPerformanceShadersGraph/Core/Files/MPSGraphUtilities.mm\":294:0)): error: 'anec.gain_offset_control' op result #0 must be 4D/5D memref of 16-bit float or 8-bit signed integer or 8-bit unsigned integer values, but got 'memref<1x512x1x1xi1>'\n",
      "loc(\"mps_select\"(\"(mpsFileLoc): /AppleInternal/Library/BuildRoots/0032d1ee-80fd-11ee-8227-6aecfccc70fe/Library/Caches/com.apple.xbs/Sources/MetalPerformanceShadersGraph/mpsgraph/MetalPerformanceShadersGraph/Core/Files/MPSGraphUtilities.mm\":294:0)): error: 'anec.gain_offset_control' op result #0 must be 4D/5D memref of 16-bit float or 8-bit signed integer or 8-bit unsigned integer values, but got 'memref<1x512x1x1xi1>'\n",
      "loc(\"mps_select\"(\"(mpsFileLoc): /AppleInternal/Library/BuildRoots/0032d1ee-80fd-11ee-8227-6aecfccc70fe/Library/Caches/com.apple.xbs/Sources/MetalPerformanceShadersGraph/mpsgraph/MetalPerformanceShadersGraph/Core/Files/MPSGraphUtilities.mm\":294:0)): error: 'anec.gain_offset_control' op result #0 must be 4D/5D memref of 16-bit float or 8-bit signed integer or 8-bit unsigned integer values, but got 'memref<1x512x1x1xi1>'\n",
      "loc(\"mps_select\"(\"(mpsFileLoc): /AppleInternal/Library/BuildRoots/0032d1ee-80fd-11ee-8227-6aecfccc70fe/Library/Caches/com.apple.xbs/Sources/MetalPerformanceShadersGraph/mpsgraph/MetalPerformanceShadersGraph/Core/Files/MPSGraphUtilities.mm\":294:0)): error: 'anec.gain_offset_control' op result #0 must be 4D/5D memref of 16-bit float or 8-bit signed integer or 8-bit unsigned integer values, but got 'memref<1x512x1x1xi1>'\n",
      "loc(\"mps_select\"(\"(mpsFileLoc): /AppleInternal/Library/BuildRoots/0032d1ee-80fd-11ee-8227-6aecfccc70fe/Library/Caches/com.apple.xbs/Sources/MetalPerformanceShadersGraph/mpsgraph/MetalPerformanceShadersGraph/Core/Files/MPSGraphUtilities.mm\":294:0)): error: 'anec.gain_offset_control' op result #0 must be 4D/5D memref of 16-bit float or 8-bit signed integer or 8-bit unsigned integer values, but got 'memref<1x512x1x1xi1>'\n",
      "loc(\"mps_select\"(\"(mpsFileLoc): /AppleInternal/Library/BuildRoots/0032d1ee-80fd-11ee-8227-6aecfccc70fe/Library/Caches/com.apple.xbs/Sources/MetalPerformanceShadersGraph/mpsgraph/MetalPerformanceShadersGraph/Core/Files/MPSGraphUtilities.mm\":294:0)): error: 'anec.gain_offset_control' op result #0 must be 4D/5D memref of 16-bit float or 8-bit signed integer or 8-bit unsigned integer values, but got 'memref<1x1x1x199xi1>'\n"
     ]
    },
    {
     "name": "stdout",
     "output_type": "stream",
     "text": [
      "30/32 [===========================>..] - ETA: 0s - loss: 0.6928 - mse: 0.2498 - tp: 7632.0000 - fp: 7019.0000 - tn: 653.0000 - fn: 56.0000 - accuracy: 0.5394 - precision: 0.5209 - recall: 0.9927 - auc: 0.4993 - prc: 0.4957"
     ]
    },
    {
     "name": "stderr",
     "output_type": "stream",
     "text": [
      "loc(\"mps_select\"(\"(mpsFileLoc): /AppleInternal/Library/BuildRoots/0032d1ee-80fd-11ee-8227-6aecfccc70fe/Library/Caches/com.apple.xbs/Sources/MetalPerformanceShadersGraph/mpsgraph/MetalPerformanceShadersGraph/Core/Files/MPSGraphUtilities.mm\":294:0)): error: 'anec.gain_offset_control' op result #0 must be 4D/5D memref of 16-bit float or 8-bit signed integer or 8-bit unsigned integer values, but got 'memref<1x98x1x1xi1>'\n",
      "loc(\"mps_select\"(\"(mpsFileLoc): /AppleInternal/Library/BuildRoots/0032d1ee-80fd-11ee-8227-6aecfccc70fe/Library/Caches/com.apple.xbs/Sources/MetalPerformanceShadersGraph/mpsgraph/MetalPerformanceShadersGraph/Core/Files/MPSGraphUtilities.mm\":294:0)): error: 'anec.gain_offset_control' op result #0 must be 4D/5D memref of 16-bit float or 8-bit signed integer or 8-bit unsigned integer values, but got 'memref<1x98x1x1xi1>'\n",
      "loc(\"mps_select\"(\"(mpsFileLoc): /AppleInternal/Library/BuildRoots/0032d1ee-80fd-11ee-8227-6aecfccc70fe/Library/Caches/com.apple.xbs/Sources/MetalPerformanceShadersGraph/mpsgraph/MetalPerformanceShadersGraph/Core/Files/MPSGraphUtilities.mm\":294:0)): error: 'anec.gain_offset_control' op result #0 must be 4D/5D memref of 16-bit float or 8-bit signed integer or 8-bit unsigned integer values, but got 'memref<1x98x1x1xi1>'\n",
      "loc(\"mps_select\"(\"(mpsFileLoc): /AppleInternal/Library/BuildRoots/0032d1ee-80fd-11ee-8227-6aecfccc70fe/Library/Caches/com.apple.xbs/Sources/MetalPerformanceShadersGraph/mpsgraph/MetalPerformanceShadersGraph/Core/Files/MPSGraphUtilities.mm\":294:0)): error: 'anec.gain_offset_control' op result #0 must be 4D/5D memref of 16-bit float or 8-bit signed integer or 8-bit unsigned integer values, but got 'memref<1x98x1x1xi1>'\n",
      "loc(\"mps_select\"(\"(mpsFileLoc): /AppleInternal/Library/BuildRoots/0032d1ee-80fd-11ee-8227-6aecfccc70fe/Library/Caches/com.apple.xbs/Sources/MetalPerformanceShadersGraph/mpsgraph/MetalPerformanceShadersGraph/Core/Files/MPSGraphUtilities.mm\":294:0)): error: 'anec.gain_offset_control' op result #0 must be 4D/5D memref of 16-bit float or 8-bit signed integer or 8-bit unsigned integer values, but got 'memref<1x98x1x1xi1>'\n"
     ]
    },
    {
     "name": "stdout",
     "output_type": "stream",
     "text": [
      "32/32 [==============================] - ETA: 0s - loss: 0.6928 - mse: 0.2498 - tp: 7903.0000 - fp: 7160.0000 - tn: 825.0000 - fn: 82.0000 - accuracy: 0.5465 - precision: 0.5247 - recall: 0.9897 - auc: 0.4991 - prc: 0.4949"
     ]
    },
    {
     "name": "stderr",
     "output_type": "stream",
     "text": [
      "2024-02-02 23:12:26.354560: I tensorflow/core/grappler/optimizers/custom_graph_optimizer_registry.cc:114] Plugin optimizer for device_type GPU is enabled.\n",
      "loc(\"mps_select\"(\"(mpsFileLoc): /AppleInternal/Library/BuildRoots/0032d1ee-80fd-11ee-8227-6aecfccc70fe/Library/Caches/com.apple.xbs/Sources/MetalPerformanceShadersGraph/mpsgraph/MetalPerformanceShadersGraph/Core/Files/MPSGraphUtilities.mm\":294:0)): error: 'anec.gain_offset_control' op result #0 must be 4D/5D memref of 16-bit float or 8-bit signed integer or 8-bit unsigned integer values, but got 'memref<1x512x1x1xi1>'\n",
      "loc(\"mps_select\"(\"(mpsFileLoc): /AppleInternal/Library/BuildRoots/0032d1ee-80fd-11ee-8227-6aecfccc70fe/Library/Caches/com.apple.xbs/Sources/MetalPerformanceShadersGraph/mpsgraph/MetalPerformanceShadersGraph/Core/Files/MPSGraphUtilities.mm\":294:0)): error: 'anec.gain_offset_control' op result #0 must be 4D/5D memref of 16-bit float or 8-bit signed integer or 8-bit unsigned integer values, but got 'memref<1x512x1x1xi1>'\n",
      "loc(\"mps_select\"(\"(mpsFileLoc): /AppleInternal/Library/BuildRoots/0032d1ee-80fd-11ee-8227-6aecfccc70fe/Library/Caches/com.apple.xbs/Sources/MetalPerformanceShadersGraph/mpsgraph/MetalPerformanceShadersGraph/Core/Files/MPSGraphUtilities.mm\":294:0)): error: 'anec.gain_offset_control' op result #0 must be 4D/5D memref of 16-bit float or 8-bit signed integer or 8-bit unsigned integer values, but got 'memref<1x1x1x199xi1>'\n"
     ]
    },
    {
     "name": "stdout",
     "output_type": "stream",
     "text": [
      "32/32 [==============================] - 6s 112ms/step - loss: 0.6928 - mse: 0.2498 - tp: 7903.0000 - fp: 7160.0000 - tn: 825.0000 - fn: 82.0000 - accuracy: 0.5465 - precision: 0.5247 - recall: 0.9897 - auc: 0.4991 - prc: 0.4949 - val_loss: 0.6933 - val_mse: 0.2501 - val_tp: 4.0000 - val_fp: 608.0000 - val_tn: 1109.0000 - val_fn: 9.0000 - val_accuracy: 0.6434 - val_precision: 0.0065 - val_recall: 0.3077 - val_auc: 0.4817 - val_prc: 0.0068\n",
      "Epoch 2/30\n",
      " 1/32 [..............................] - ETA: 1s - loss: 0.6926 - mse: 0.2497 - tp: 208.0000 - fp: 77.0000 - tn: 163.0000 - fn: 64.0000 - accuracy: 0.7246 - precision: 0.7298 - recall: 0.7647 - auc: 0.4913 - prc: 0.5145"
     ]
    },
    {
     "name": "stderr",
     "output_type": "stream",
     "text": [
      "loc(\"mps_select\"(\"(mpsFileLoc): /AppleInternal/Library/BuildRoots/0032d1ee-80fd-11ee-8227-6aecfccc70fe/Library/Caches/com.apple.xbs/Sources/MetalPerformanceShadersGraph/mpsgraph/MetalPerformanceShadersGraph/Core/Files/MPSGraphUtilities.mm\":294:0)): error: 'anec.gain_offset_control' op result #0 must be 4D/5D memref of 16-bit float or 8-bit signed integer or 8-bit unsigned integer values, but got 'memref<1x194x1x1xi1>'\n",
      "loc(\"mps_select\"(\"(mpsFileLoc): /AppleInternal/Library/BuildRoots/0032d1ee-80fd-11ee-8227-6aecfccc70fe/Library/Caches/com.apple.xbs/Sources/MetalPerformanceShadersGraph/mpsgraph/MetalPerformanceShadersGraph/Core/Files/MPSGraphUtilities.mm\":294:0)): error: 'anec.gain_offset_control' op result #0 must be 4D/5D memref of 16-bit float or 8-bit signed integer or 8-bit unsigned integer values, but got 'memref<1x194x1x1xi1>'\n"
     ]
    },
    {
     "name": "stdout",
     "output_type": "stream",
     "text": [
      "32/32 [==============================] - 1s 35ms/step - loss: 0.6924 - mse: 0.2496 - tp: 6856.0000 - fp: 3712.0000 - tn: 4273.0000 - fn: 1129.0000 - accuracy: 0.6969 - precision: 0.6488 - recall: 0.8586 - auc: 0.5139 - prc: 0.5111 - val_loss: 0.6962 - val_mse: 0.2515 - val_tp: 13.0000 - val_fp: 1441.0000 - val_tn: 276.0000 - val_fn: 0.0000e+00 - val_accuracy: 0.1671 - val_precision: 0.0089 - val_recall: 1.0000 - val_auc: 0.4663 - val_prc: 0.0066\n",
      "Epoch 3/30\n",
      "32/32 [==============================] - 1s 34ms/step - loss: 0.6919 - mse: 0.2494 - tp: 7437.0000 - fp: 4319.0000 - tn: 3666.0000 - fn: 548.0000 - accuracy: 0.6952 - precision: 0.6326 - recall: 0.9314 - auc: 0.5861 - prc: 0.5714 - val_loss: 0.6942 - val_mse: 0.2505 - val_tp: 7.0000 - val_fp: 809.0000 - val_tn: 908.0000 - val_fn: 6.0000 - val_accuracy: 0.5289 - val_precision: 0.0086 - val_recall: 0.5385 - val_auc: 0.4523 - val_prc: 0.0063\n",
      "Epoch 4/30\n",
      "32/32 [==============================] - 1s 33ms/step - loss: 0.6915 - mse: 0.2492 - tp: 7255.0000 - fp: 3799.0000 - tn: 4186.0000 - fn: 730.0000 - accuracy: 0.7164 - precision: 0.6563 - recall: 0.9086 - auc: 0.6187 - prc: 0.5911 - val_loss: 0.6946 - val_mse: 0.2507 - val_tp: 8.0000 - val_fp: 839.0000 - val_tn: 878.0000 - val_fn: 5.0000 - val_accuracy: 0.5121 - val_precision: 0.0094 - val_recall: 0.6154 - val_auc: 0.5079 - val_prc: 0.0074\n",
      "Epoch 5/30\n",
      "32/32 [==============================] - 1s 34ms/step - loss: 0.6909 - mse: 0.2489 - tp: 7044.0000 - fp: 3404.0000 - tn: 4581.0000 - fn: 941.0000 - accuracy: 0.7279 - precision: 0.6742 - recall: 0.8822 - auc: 0.6844 - prc: 0.6269 - val_loss: 0.6923 - val_mse: 0.2496 - val_tp: 4.0000 - val_fp: 557.0000 - val_tn: 1160.0000 - val_fn: 9.0000 - val_accuracy: 0.6728 - val_precision: 0.0071 - val_recall: 0.3077 - val_auc: 0.5450 - val_prc: 0.0075\n",
      "Epoch 6/30\n",
      "32/32 [==============================] - 1s 35ms/step - loss: 0.6903 - mse: 0.2486 - tp: 6872.0000 - fp: 3137.0000 - tn: 4848.0000 - fn: 1113.0000 - accuracy: 0.7339 - precision: 0.6866 - recall: 0.8606 - auc: 0.7276 - prc: 0.6480 - val_loss: 0.6915 - val_mse: 0.2492 - val_tp: 4.0000 - val_fp: 531.0000 - val_tn: 1186.0000 - val_fn: 9.0000 - val_accuracy: 0.6879 - val_precision: 0.0075 - val_recall: 0.3077 - val_auc: 0.5201 - val_prc: 0.0074\n",
      "Epoch 7/30\n",
      "32/32 [==============================] - 1s 32ms/step - loss: 0.6895 - mse: 0.2482 - tp: 6581.0000 - fp: 2728.0000 - tn: 5257.0000 - fn: 1404.0000 - accuracy: 0.7413 - precision: 0.7070 - recall: 0.8242 - auc: 0.7528 - prc: 0.6652 - val_loss: 0.6884 - val_mse: 0.2476 - val_tp: 4.0000 - val_fp: 418.0000 - val_tn: 1299.0000 - val_fn: 9.0000 - val_accuracy: 0.7532 - val_precision: 0.0095 - val_recall: 0.3077 - val_auc: 0.5551 - val_prc: 0.0080\n",
      "Epoch 8/30\n",
      "32/32 [==============================] - 1s 33ms/step - loss: 0.6885 - mse: 0.2477 - tp: 6563.0000 - fp: 2668.0000 - tn: 5317.0000 - fn: 1422.0000 - accuracy: 0.7439 - precision: 0.7110 - recall: 0.8219 - auc: 0.7642 - prc: 0.6699 - val_loss: 0.6913 - val_mse: 0.2491 - val_tp: 7.0000 - val_fp: 585.0000 - val_tn: 1132.0000 - val_fn: 6.0000 - val_accuracy: 0.6584 - val_precision: 0.0118 - val_recall: 0.5385 - val_auc: 0.5409 - val_prc: 0.0077\n",
      "Epoch 9/30\n",
      "32/32 [==============================] - 1s 33ms/step - loss: 0.6873 - mse: 0.2471 - tp: 6757.0000 - fp: 2809.0000 - tn: 5176.0000 - fn: 1228.0000 - accuracy: 0.7472 - precision: 0.7064 - recall: 0.8462 - auc: 0.7771 - prc: 0.6791 - val_loss: 0.6916 - val_mse: 0.2492 - val_tp: 7.0000 - val_fp: 613.0000 - val_tn: 1104.0000 - val_fn: 6.0000 - val_accuracy: 0.6422 - val_precision: 0.0113 - val_recall: 0.5385 - val_auc: 0.5902 - val_prc: 0.0084\n",
      "Epoch 10/30\n",
      "32/32 [==============================] - 1s 32ms/step - loss: 0.6860 - mse: 0.2464 - tp: 6858.0000 - fp: 2826.0000 - tn: 5159.0000 - fn: 1127.0000 - accuracy: 0.7525 - precision: 0.7082 - recall: 0.8589 - auc: 0.7890 - prc: 0.6913 - val_loss: 0.6928 - val_mse: 0.2498 - val_tp: 8.0000 - val_fp: 667.0000 - val_tn: 1050.0000 - val_fn: 5.0000 - val_accuracy: 0.6116 - val_precision: 0.0119 - val_recall: 0.6154 - val_auc: 0.6080 - val_prc: 0.0090\n",
      "Epoch 11/30\n",
      "32/32 [==============================] - 1s 31ms/step - loss: 0.6843 - mse: 0.2456 - tp: 7021.0000 - fp: 2887.0000 - tn: 5098.0000 - fn: 964.0000 - accuracy: 0.7589 - precision: 0.7086 - recall: 0.8793 - auc: 0.7952 - prc: 0.6920 - val_loss: 0.6930 - val_mse: 0.2499 - val_tp: 9.0000 - val_fp: 683.0000 - val_tn: 1034.0000 - val_fn: 4.0000 - val_accuracy: 0.6029 - val_precision: 0.0130 - val_recall: 0.6923 - val_auc: 0.6319 - val_prc: 0.0093\n",
      "Epoch 12/30\n",
      "32/32 [==============================] - 1s 32ms/step - loss: 0.6822 - mse: 0.2445 - tp: 7183.0000 - fp: 2954.0000 - tn: 5031.0000 - fn: 802.0000 - accuracy: 0.7648 - precision: 0.7086 - recall: 0.8996 - auc: 0.8067 - prc: 0.7070 - val_loss: 0.6910 - val_mse: 0.2489 - val_tp: 9.0000 - val_fp: 635.0000 - val_tn: 1082.0000 - val_fn: 4.0000 - val_accuracy: 0.6306 - val_precision: 0.0140 - val_recall: 0.6923 - val_auc: 0.6605 - val_prc: 0.0100\n",
      "Epoch 13/30\n",
      "32/32 [==============================] - 1s 32ms/step - loss: 0.6794 - mse: 0.2431 - tp: 7243.0000 - fp: 2958.0000 - tn: 5027.0000 - fn: 742.0000 - accuracy: 0.7683 - precision: 0.7100 - recall: 0.9071 - auc: 0.8147 - prc: 0.7114 - val_loss: 0.6851 - val_mse: 0.2460 - val_tp: 7.0000 - val_fp: 531.0000 - val_tn: 1186.0000 - val_fn: 6.0000 - val_accuracy: 0.6896 - val_precision: 0.0130 - val_recall: 0.5385 - val_auc: 0.6626 - val_prc: 0.0100\n",
      "Epoch 14/30\n",
      "32/32 [==============================] - 1s 31ms/step - loss: 0.6757 - mse: 0.2413 - tp: 7271.0000 - fp: 2880.0000 - tn: 5105.0000 - fn: 714.0000 - accuracy: 0.7750 - precision: 0.7163 - recall: 0.9106 - auc: 0.8243 - prc: 0.7227 - val_loss: 0.6844 - val_mse: 0.2456 - val_tp: 7.0000 - val_fp: 555.0000 - val_tn: 1162.0000 - val_fn: 6.0000 - val_accuracy: 0.6757 - val_precision: 0.0125 - val_recall: 0.5385 - val_auc: 0.6760 - val_prc: 0.0104\n",
      "Epoch 15/30\n",
      "32/32 [==============================] - 1s 32ms/step - loss: 0.6709 - mse: 0.2389 - tp: 7293.0000 - fp: 2821.0000 - tn: 5164.0000 - fn: 692.0000 - accuracy: 0.7800 - precision: 0.7211 - recall: 0.9133 - auc: 0.8322 - prc: 0.7307 - val_loss: 0.6820 - val_mse: 0.2444 - val_tp: 8.0000 - val_fp: 547.0000 - val_tn: 1170.0000 - val_fn: 5.0000 - val_accuracy: 0.6809 - val_precision: 0.0144 - val_recall: 0.6154 - val_auc: 0.6781 - val_prc: 0.0105\n",
      "Epoch 16/30\n",
      "32/32 [==============================] - 1s 32ms/step - loss: 0.6649 - mse: 0.2359 - tp: 7260.0000 - fp: 2693.0000 - tn: 5292.0000 - fn: 725.0000 - accuracy: 0.7860 - precision: 0.7294 - recall: 0.9092 - auc: 0.8421 - prc: 0.7420 - val_loss: 0.6768 - val_mse: 0.2418 - val_tp: 7.0000 - val_fp: 518.0000 - val_tn: 1199.0000 - val_fn: 6.0000 - val_accuracy: 0.6971 - val_precision: 0.0133 - val_recall: 0.5385 - val_auc: 0.6879 - val_prc: 0.0108\n",
      "Epoch 17/30\n",
      "32/32 [==============================] - 1s 31ms/step - loss: 0.6572 - mse: 0.2321 - tp: 7271.0000 - fp: 2579.0000 - tn: 5406.0000 - fn: 714.0000 - accuracy: 0.7938 - precision: 0.7382 - recall: 0.9106 - auc: 0.8517 - prc: 0.7525 - val_loss: 0.6731 - val_mse: 0.2400 - val_tp: 8.0000 - val_fp: 513.0000 - val_tn: 1204.0000 - val_fn: 5.0000 - val_accuracy: 0.7006 - val_precision: 0.0154 - val_recall: 0.6154 - val_auc: 0.7051 - val_prc: 0.0114\n",
      "Epoch 18/30\n",
      "32/32 [==============================] - 1s 30ms/step - loss: 0.6472 - mse: 0.2271 - tp: 7282.0000 - fp: 2453.0000 - tn: 5532.0000 - fn: 703.0000 - accuracy: 0.8024 - precision: 0.7480 - recall: 0.9120 - auc: 0.8626 - prc: 0.7656 - val_loss: 0.6731 - val_mse: 0.2400 - val_tp: 8.0000 - val_fp: 542.0000 - val_tn: 1175.0000 - val_fn: 5.0000 - val_accuracy: 0.6838 - val_precision: 0.0145 - val_recall: 0.6154 - val_auc: 0.7234 - val_prc: 0.0121\n",
      "Epoch 19/30\n",
      "32/32 [==============================] - 1s 31ms/step - loss: 0.6342 - mse: 0.2206 - tp: 7337.0000 - fp: 2336.0000 - tn: 5649.0000 - fn: 648.0000 - accuracy: 0.8131 - precision: 0.7585 - recall: 0.9188 - auc: 0.8731 - prc: 0.7780 - val_loss: 0.6514 - val_mse: 0.2291 - val_tp: 6.0000 - val_fp: 413.0000 - val_tn: 1304.0000 - val_fn: 7.0000 - val_accuracy: 0.7572 - val_precision: 0.0143 - val_recall: 0.4615 - val_auc: 0.7336 - val_prc: 0.0126\n",
      "Epoch 20/30\n",
      "32/32 [==============================] - 1s 32ms/step - loss: 0.6169 - mse: 0.2121 - tp: 7382.0000 - fp: 2119.0000 - tn: 5866.0000 - fn: 603.0000 - accuracy: 0.8296 - precision: 0.7770 - recall: 0.9245 - auc: 0.8853 - prc: 0.7933 - val_loss: 0.6414 - val_mse: 0.2241 - val_tp: 7.0000 - val_fp: 407.0000 - val_tn: 1310.0000 - val_fn: 6.0000 - val_accuracy: 0.7613 - val_precision: 0.0169 - val_recall: 0.5385 - val_auc: 0.7520 - val_prc: 0.0135\n",
      "Epoch 21/30\n",
      "32/32 [==============================] - 1s 31ms/step - loss: 0.5934 - mse: 0.2005 - tp: 7417.0000 - fp: 1913.0000 - tn: 6072.0000 - fn: 568.0000 - accuracy: 0.8446 - precision: 0.7950 - recall: 0.9289 - auc: 0.8989 - prc: 0.8099 - val_loss: 0.6195 - val_mse: 0.2132 - val_tp: 6.0000 - val_fp: 358.0000 - val_tn: 1359.0000 - val_fn: 7.0000 - val_accuracy: 0.7890 - val_precision: 0.0165 - val_recall: 0.4615 - val_auc: 0.7680 - val_prc: 0.0145\n",
      "Epoch 22/30\n",
      "32/32 [==============================] - 1s 31ms/step - loss: 0.5612 - mse: 0.1849 - tp: 7497.0000 - fp: 1701.0000 - tn: 6284.0000 - fn: 488.0000 - accuracy: 0.8629 - precision: 0.8151 - recall: 0.9389 - auc: 0.9126 - prc: 0.8271 - val_loss: 0.5931 - val_mse: 0.2000 - val_tp: 7.0000 - val_fp: 320.0000 - val_tn: 1397.0000 - val_fn: 6.0000 - val_accuracy: 0.8116 - val_precision: 0.0214 - val_recall: 0.5385 - val_auc: 0.7858 - val_prc: 0.0158\n",
      "Epoch 23/30\n",
      "32/32 [==============================] - 1s 30ms/step - loss: 0.5164 - mse: 0.1635 - tp: 7591.0000 - fp: 1468.0000 - tn: 6517.0000 - fn: 394.0000 - accuracy: 0.8834 - precision: 0.8380 - recall: 0.9507 - auc: 0.9292 - prc: 0.8506 - val_loss: 0.5580 - val_mse: 0.1824 - val_tp: 7.0000 - val_fp: 288.0000 - val_tn: 1429.0000 - val_fn: 6.0000 - val_accuracy: 0.8301 - val_precision: 0.0237 - val_recall: 0.5385 - val_auc: 0.8046 - val_prc: 0.0174\n",
      "Epoch 24/30\n",
      "32/32 [==============================] - 1s 31ms/step - loss: 0.4552 - mse: 0.1354 - tp: 7654.0000 - fp: 1180.0000 - tn: 6805.0000 - fn: 331.0000 - accuracy: 0.9054 - precision: 0.8664 - recall: 0.9585 - auc: 0.9451 - prc: 0.8730 - val_loss: 0.4841 - val_mse: 0.1468 - val_tp: 5.0000 - val_fp: 194.0000 - val_tn: 1523.0000 - val_fn: 8.0000 - val_accuracy: 0.8832 - val_precision: 0.0251 - val_recall: 0.3846 - val_auc: 0.8257 - val_prc: 0.0200\n",
      "Epoch 25/30\n",
      "32/32 [==============================] - 1s 31ms/step - loss: 0.3793 - mse: 0.1027 - tp: 7696.0000 - fp: 886.0000 - tn: 7099.0000 - fn: 289.0000 - accuracy: 0.9264 - precision: 0.8968 - recall: 0.9638 - auc: 0.9565 - prc: 0.8880 - val_loss: 0.4055 - val_mse: 0.1111 - val_tp: 5.0000 - val_fp: 147.0000 - val_tn: 1570.0000 - val_fn: 8.0000 - val_accuracy: 0.9104 - val_precision: 0.0329 - val_recall: 0.3846 - val_auc: 0.8175 - val_prc: 0.0218\n",
      "Epoch 26/30\n",
      "32/32 [==============================] - 1s 30ms/step - loss: 0.3014 - mse: 0.0728 - tp: 7739.0000 - fp: 674.0000 - tn: 7311.0000 - fn: 246.0000 - accuracy: 0.9424 - precision: 0.9199 - recall: 0.9692 - auc: 0.9638 - prc: 0.8993 - val_loss: 0.3260 - val_mse: 0.0790 - val_tp: 4.0000 - val_fp: 109.0000 - val_tn: 1608.0000 - val_fn: 9.0000 - val_accuracy: 0.9318 - val_precision: 0.0354 - val_recall: 0.3077 - val_auc: 0.8136 - val_prc: 0.0246\n",
      "Epoch 27/30\n",
      "32/32 [==============================] - 1s 31ms/step - loss: 0.2362 - mse: 0.0515 - tp: 7759.0000 - fp: 531.0000 - tn: 7454.0000 - fn: 226.0000 - accuracy: 0.9526 - precision: 0.9359 - recall: 0.9717 - auc: 0.9690 - prc: 0.9081 - val_loss: 0.2790 - val_mse: 0.0646 - val_tp: 4.0000 - val_fp: 105.0000 - val_tn: 1612.0000 - val_fn: 9.0000 - val_accuracy: 0.9341 - val_precision: 0.0367 - val_recall: 0.3077 - val_auc: 0.8274 - val_prc: 0.0273\n",
      "Epoch 28/30\n",
      "32/32 [==============================] - 1s 31ms/step - loss: 0.1908 - mse: 0.0394 - tp: 7782.0000 - fp: 431.0000 - tn: 7554.0000 - fn: 203.0000 - accuracy: 0.9603 - precision: 0.9475 - recall: 0.9746 - auc: 0.9720 - prc: 0.9140 - val_loss: 0.2038 - val_mse: 0.0433 - val_tp: 2.0000 - val_fp: 73.0000 - val_tn: 1644.0000 - val_fn: 11.0000 - val_accuracy: 0.9514 - val_precision: 0.0267 - val_recall: 0.1538 - val_auc: 0.8036 - val_prc: 0.0284\n",
      "Epoch 29/30\n",
      "32/32 [==============================] - 1s 31ms/step - loss: 0.1583 - mse: 0.0324 - tp: 7786.0000 - fp: 356.0000 - tn: 7629.0000 - fn: 199.0000 - accuracy: 0.9652 - precision: 0.9563 - recall: 0.9751 - auc: 0.9766 - prc: 0.9276 - val_loss: 0.2156 - val_mse: 0.0517 - val_tp: 4.0000 - val_fp: 100.0000 - val_tn: 1617.0000 - val_fn: 9.0000 - val_accuracy: 0.9370 - val_precision: 0.0385 - val_recall: 0.3077 - val_auc: 0.8229 - val_prc: 0.0322\n",
      "Epoch 30/30\n",
      "32/32 [==============================] - 1s 32ms/step - loss: 0.1287 - mse: 0.0261 - tp: 7816.0000 - fp: 289.0000 - tn: 7696.0000 - fn: 169.0000 - accuracy: 0.9713 - precision: 0.9643 - recall: 0.9788 - auc: 0.9839 - prc: 0.9506 - val_loss: 0.1024 - val_mse: 0.0196 - val_tp: 2.0000 - val_fp: 29.0000 - val_tn: 1688.0000 - val_fn: 11.0000 - val_accuracy: 0.9769 - val_precision: 0.0645 - val_recall: 0.1538 - val_auc: 0.7347 - val_prc: 0.0383\n"
     ]
    }
   ],
   "source": [
    "# set a early stopping for saving time during model fitting\n",
    "early_stopping_cb = tf.keras.callbacks.EarlyStopping(\n",
    "    patience=10, \n",
    "    restore_best_weights=True,\n",
    "    mode='max'\n",
    ")  \n",
    "\n",
    "# fitting the model \n",
    "log = best_hb_model.fit(\n",
    "    X_train_scaled,\n",
    "    Y_train_smote,\n",
    "    epochs=30,\n",
    "    batch_size=512,\n",
    "    validation_data=(X_vaild_scaled, Y_valid),\n",
    ")"
   ]
  },
  {
   "cell_type": "code",
   "execution_count": 83,
   "metadata": {},
   "outputs": [
    {
     "name": "stdout",
     "output_type": "stream",
     "text": [
      "55/55 [==============================] - 0s 6ms/step\n",
      "Mean square error:  0.024751556454198794\n",
      "55/55 [==============================] - 0s 5ms/step\n",
      "Threshold-------------------------: 0.34\n",
      "Number of data in testset:--------: 1730\n",
      "Number of predicted frauds--------: 44\n",
      "Total number of frauds in testset-: 17\n",
      "Number of predicted frauds hit----: 0\n",
      "Hit rate--------------------------: 0.0\n",
      "Detection rate--------------------: 0.025433526011560695\n"
     ]
    }
   ],
   "source": [
    "show_predicted_result(best_hb_model, X_test_scaled)"
   ]
  },
  {
   "attachments": {},
   "cell_type": "markdown",
   "metadata": {},
   "source": [
    "## Above code is for we to try out to find a good model that can beat the decision tree. So the output above is different, but we saved the best model as below"
   ]
  },
  {
   "attachments": {},
   "cell_type": "markdown",
   "metadata": {},
   "source": [
    "## Saving the best model above for model comparison of decison tree and future uses\n",
    "\n",
    "    • Only need to run once\n",
    "\n",
    "## Loading the saved model to predict new data\n"
   ]
  },
  {
   "cell_type": "code",
   "execution_count": 105,
   "metadata": {},
   "outputs": [
    {
     "name": "stdout",
     "output_type": "stream",
     "text": [
      "15/55 [=======>......................] - ETA: 0s"
     ]
    },
    {
     "name": "stderr",
     "output_type": "stream",
     "text": [
      "2023-03-08 14:23:12.963775: W tensorflow/core/util/tensor_slice_reader.cc:96] Could not open final_model_better_then_dt: FAILED_PRECONDITION: final_model_better_then_dt; Is a directory: perhaps your file is in a different file format and you need to use a different restore operator?\n",
      "2023-03-08 14:23:13.034159: I tensorflow/core/grappler/optimizers/custom_graph_optimizer_registry.cc:114] Plugin optimizer for device_type GPU is enabled.\n"
     ]
    },
    {
     "name": "stdout",
     "output_type": "stream",
     "text": [
      "55/55 [==============================] - 0s 4ms/step\n",
      "Mean square error:  0.03130440940386984\n",
      "55/55 [==============================] - 0s 3ms/step\n",
      "Threshold-------------------------: 0.97\n",
      "Number of data in testset:--------: 1730\n",
      "Number of predicted frauds--------: 26\n",
      "Total number of frauds in testset-: 17\n",
      "Number of predicted frauds hit----: 4\n",
      "Hit rate--------------------------: 0.15384615384615385\n",
      "Detection rate--------------------: 0.015028901734104046\n"
     ]
    }
   ],
   "source": [
    "# tf.keras.models.save_model(best_hb_model, \"final_model_better_then_dt\")\n",
    "\n",
    "final_model = tf.keras.models.load_model(\"final_model_better_then_dt\")\n",
    "final_model.load_weights(\"final_model_better_then_dt\")\n",
    "\n",
    "show_predicted_result(final_model, X_test_scaled)"
   ]
  },
  {
   "attachments": {},
   "cell_type": "markdown",
   "metadata": {},
   "source": [
    "## Result of the network:\n",
    "     The hit rate and detection rate of the network are all higher than the decision \n",
    "\n",
    "        1. Default decision tree\n",
    "                Detection rate: 0.012, Hit rate: 0.095\n",
    "        \n",
    "        2. Neuron network\n",
    "                Detection rate: 0.015, Hit rate: 0.154"
   ]
  },
  {
   "attachments": {},
   "cell_type": "markdown",
   "metadata": {},
   "source": [
    "## Question 6"
   ]
  },
  {
   "attachments": {},
   "cell_type": "markdown",
   "metadata": {},
   "source": [
    "## 2D convolution network try out, but not good for the final result"
   ]
  },
  {
   "cell_type": "code",
   "execution_count": null,
   "metadata": {},
   "outputs": [],
   "source": [
    "# Normalisation, turn the dataframe into arrays\n",
    "scaler = StandardScaler()\n",
    "X_strain = scaler.fit_transform(X_train)\n",
    "X_stest = scaler.transform(X_test)\n",
    "X_svali = scaler.transform(X_vali)\n",
    "\n",
    "# Save the value of the largest absolute value in all dataset as the scaler\n",
    "scaler_to1 = X_strain.max()\n",
    "\n",
    "# Scale datasets with the same standard: scaler_to1\n",
    "X_atrain = X_strain/scaler_to1\n",
    "X_avali = X_svali/scaler_to1\n",
    "X_atest = X_stest/scaler_to1\n",
    "X_atrain\n",
    "\n",
    "X_atrain = X_atrain.reshape(6849, 11, 11)\n",
    "X_avali = X_avali.reshape(1405, 11, 11)\n",
    "X_atest = X_atest.reshape(3276, 11, 11)\n",
    "\n",
    "noise = 0.2\n",
    "\n",
    "X_train_noisy = X_atrain + noise * tf.random.normal(shape=X_atrain.shape) \n",
    "X_vali_noisy = X_avali + noise * tf.random.normal(shape=X_avali.shape)\n",
    "X_test_noisy = X_atest + noise * tf.random.normal(shape=X_atest.shape)\n",
    "\n",
    "X_train_noisy = tf.clip_by_value(X_train_noisy, clip_value_min=0., clip_value_max=1.)\n",
    "X_vali_noisy = tf.clip_by_value(X_vali_noisy, clip_value_min=0., clip_value_max=1.)\n",
    "X_test_noisy = tf.clip_by_value(X_test_noisy, clip_value_min=0., clip_value_max=1.)\n",
    "\n",
    "\n",
    "encoder = tf.keras.Sequential([\n",
    "    tf.keras.layers.Reshape((11,11,1), input_shape=(11,11)),\n",
    "    tf.keras.layers.Conv2D(3, (3, 3), activation='relu', padding='valid', strides=2),\n",
    "    tf.keras.layers.Conv2D(1, (3, 3), activation='relu', padding='valid', strides=2)], name='encoder')\n",
    "\n",
    "\n",
    "decoder = tf.keras.Sequential([\n",
    "    tf.keras.layers.Conv2DTranspose(1, kernel_size=3, strides=2, activation='relu', padding='valid'),\n",
    "    tf.keras.layers.Conv2DTranspose(3, kernel_size=3, strides=2, activation='relu', padding='valid'),\n",
    "    tf.keras.layers.Conv2D(1, kernel_size=(3, 3), activation='sigmoid', padding='same')], name='decoder')\n",
    "\n",
    "\n",
    "autoencoder = tf.keras.Sequential([encoder,decoder])\n",
    "\n",
    "autoencoder.compile(optimizer='rmsprop', loss='mean_squared_error')\n",
    "\n",
    "autoencoder.fit(x=X_train_noisy, y=X_atrain, epochs=10,\n",
    "                batch_size=32, validation_data=(X_vali_noisy, X_avali))\n",
    "\n",
    "test_encoded = encoder(X_test_noisy)\n",
    "test_output = decoder(test_encoded)\n",
    "\n",
    "# Predict the labels for the validation set\n",
    "#val_pred = autoencoder.predict(df_val)\n",
    "val_mse = np.mean(np.power(output - X_stest, 2), axis=1)\n",
    "\n",
    "# Separate the fraudulent and non-fraudulent claims in the validation set\n",
    "fraud_mask = np.array(Y_test) == 1\n",
    "\n",
    "# Plot the histogram of errors for the validation set\n",
    "plt.hist(val_mse[~fraud_mask], bins=50, log = True, label='non-fraudulent')\n",
    "plt.hist(val_mse[fraud_mask], bins=50, log = True, label='fraudulent')\n",
    "plt.xlabel('Mean Squared Error')\n",
    "plt.ylabel('Number of Claims')\n",
    "plt.legend()\n",
    "\n",
    "#val_mse = val_mse.reset_index(drop=True)\n",
    "\n",
    "# Mark the mean error for fraudulent and non-fraudulent claims\n",
    "val_indices = np.arange(len(val_mse))"
   ]
  },
  {
   "cell_type": "markdown",
   "metadata": {},
   "source": [
    "## Split the data as required"
   ]
  },
  {
   "cell_type": "code",
   "execution_count": 40,
   "metadata": {},
   "outputs": [
    {
     "name": "stdout",
     "output_type": "stream",
     "text": [
      "X with fraud: (115, 52)\n",
      "X without fraud: (11415, 52)\n",
      "proportion: 0.010074463425317565\n",
      "X_train_1: (7990, 52)\n",
      "X_other_1: (3425, 52)\n",
      "X_test_n: (1712, 52)\n",
      "X_vali_n: (1713, 52)\n",
      "X_test_y: (57, 52)\n",
      "X_vali_y: (58, 52)\n",
      "X_train_1: (7990, 52)\n",
      "X_test_1: (1769, 52)\n",
      "Y_test_1: (1769,)\n",
      "X_vali_1: (1771, 52)\n"
     ]
    }
   ],
   "source": [
    "insurance_df = pd.read_csv(\"insurance_50cols.csv\")# Divide fraudulent and non-fraudulent observations\n",
    "df_frau = insurance_df.loc[insurance_df[\"Fraud\"] == 1]\n",
    "df_nofr = insurance_df.loc[insurance_df[\"Fraud\"] == 0]\n",
    "# Build X set and y set\n",
    "X_frau = df_frau.drop(columns=[\"Fraud\"])\n",
    "Y_frau = df_frau[\"Fraud\"]\n",
    "X_nofr = df_nofr.drop(columns=[\"Fraud\"])\n",
    "Y_nofr = df_nofr[\"Fraud\"]\n",
    "print(\"X with fraud:\", X_frau.shape)\n",
    "print(\"X without fraud:\", X_nofr.shape)\n",
    "print(\"proportion:\", X_frau.shape[0] / X_nofr.shape[0])\n",
    "\n",
    "# Split Train & Other dataset without fraudulent observations\n",
    "X_train_1, X_other_1, Y_train_1, Y_other_1 = train_test_split(\n",
    "    X_nofr, Y_nofr, test_size=0.3, shuffle=False\n",
    ")\n",
    "print(\"X_train_1:\", X_train_1.shape)\n",
    "print(\"X_other_1:\", X_other_1.shape)\n",
    "# Split Vali & Test dataset without fraudulent observations\n",
    "X_test_n, X_vali_n, Y_test_n, Y_vali_n = train_test_split(\n",
    "    X_other_1, Y_other_1, test_size=0.5, shuffle=False\n",
    ")\n",
    "print(\"X_test_n:\", X_test_n.shape)\n",
    "print(\"X_vali_n:\", X_vali_n.shape)\n",
    "\n",
    "# Split fraudulent observations equally\n",
    "X_test_y, X_vali_y, Y_test_y, Y_vali_y = train_test_split(\n",
    "    X_frau, Y_frau, test_size=0.5, shuffle=False\n",
    ")\n",
    "print(\"X_test_y:\", X_test_y.shape)\n",
    "print(\"X_vali_y:\", X_vali_y.shape)\n",
    "\n",
    "# Concate observations with / without fraudulent observations in test & vali dataset\n",
    "X_test_1 = pd.concat([X_test_n, X_test_y], axis=0, ignore_index=True)\n",
    "Y_test_1= pd.concat([Y_test_n, Y_test_y], axis=0, ignore_index=True)\n",
    "X_vali_1 = pd.concat([X_vali_n, X_vali_y], axis=0, ignore_index=True)\n",
    "Y_vali_1 = pd.concat([Y_vali_n, Y_vali_y], axis=0, ignore_index=True)\n",
    "\n",
    "print(\"X_train_1:\", X_train_1.shape)\n",
    "print(\"X_test_1:\", X_test_1.shape)\n",
    "print(\"Y_test_1:\", Y_test_1.shape)\n",
    "print(\"X_vali_1:\", X_vali_1.shape)"
   ]
  },
  {
   "cell_type": "code",
   "execution_count": 2,
   "metadata": {},
   "outputs": [
    {
     "data": {
      "text/plain": [
       "((1712, 53), (1713, 53))"
      ]
     },
     "execution_count": 2,
     "metadata": {},
     "output_type": "execute_result"
    }
   ],
   "source": [
    "insurance_df = pd.read_csv(\"insurance_50cols.csv\")\n",
    "df_frau = insurance_df.loc[insurance_df[\"Fraud\"] == 1]\n",
    "df_nofr = insurance_df.loc[insurance_df[\"Fraud\"] == 0]\n",
    "\n",
    "nofraud_train_df, nofraud_test_df = train_test_split(df_nofr, test_size=0.3, shuffle=False)\n",
    "fraud_test_df, fraud_valid_df = train_test_split(df_frau, test_size=0.5, shuffle=False)\n",
    "\n",
    "nofraud_test_df, nofraud_valid_df = train_test_split(nofraud_test_df, test_size=0.5, shuffle=False)\n",
    "nofraud_test_df.shape, nofraud_valid_df.shape"
   ]
  },
  {
   "cell_type": "code",
   "execution_count": 8,
   "metadata": {},
   "outputs": [
    {
     "data": {
      "text/plain": [
       "((1769, 53), (1771, 53))"
      ]
     },
     "execution_count": 8,
     "metadata": {},
     "output_type": "execute_result"
    }
   ],
   "source": [
    "test_df.shape, valid_df.shape"
   ]
  },
  {
   "cell_type": "code",
   "execution_count": 9,
   "metadata": {},
   "outputs": [
    {
     "data": {
      "text/plain": [
       "((7990, 52), (1769, 52), (1771, 52))"
      ]
     },
     "execution_count": 9,
     "metadata": {},
     "output_type": "execute_result"
    }
   ],
   "source": []
  },
  {
   "cell_type": "code",
   "execution_count": 10,
   "metadata": {},
   "outputs": [
    {
     "data": {
      "text/plain": [
       "((7990,), (1771,), (1769,))"
      ]
     },
     "execution_count": 10,
     "metadata": {},
     "output_type": "execute_result"
    }
   ],
   "source": [
    "test_y = test_df[\"Fraud\"]\n",
    "nofraud_train_y = nofraud_train_df[\"Fraud\"]\n",
    "valid_y = valid_df[\"Fraud\"]\n",
    "nofraud_train_y.shape, valid_y.shape, test_y.shape"
   ]
  },
  {
   "cell_type": "code",
   "execution_count": 4,
   "metadata": {},
   "outputs": [],
   "source": [
    "insurance_df = pd.read_csv(\"insurance_50cols.csv\")\n",
    "# Create a training set with only non-fraudulent claims\n",
    "train_data = insurance_df[insurance_df['Fraud'] == 0]\n",
    "\n",
    "# Split the remaining data into validation and test sets\n",
    "val_data, test_data = train_test_split(insurance_df[insurance_df['Fraud'] == 1], test_size=0.5)\n",
    "\n",
    "# Append the non-fraudulent claims to the validation and test sets\n",
    "val_data = pd.concat([val_data, train_data.sample(n=len(val_data), random_state=42)])\n",
    "test_data = pd.concat([test_data, train_data.sample(n=len(test_data), random_state=42)])\n",
    "\n",
    "# Shuffle the validation and test sets\n",
    "val_data = val_data.sample(frac=1, random_state=42)\n",
    "test_data = test_data.sample(frac=1, random_state=42)\n"
   ]
  },
  {
   "cell_type": "code",
   "execution_count": 8,
   "metadata": {},
   "outputs": [
    {
     "data": {
      "text/html": [
       "<div>\n",
       "<style scoped>\n",
       "    .dataframe tbody tr th:only-of-type {\n",
       "        vertical-align: middle;\n",
       "    }\n",
       "\n",
       "    .dataframe tbody tr th {\n",
       "        vertical-align: top;\n",
       "    }\n",
       "\n",
       "    .dataframe thead th {\n",
       "        text-align: right;\n",
       "    }\n",
       "</style>\n",
       "<table border=\"1\" class=\"dataframe\">\n",
       "  <thead>\n",
       "    <tr style=\"text-align: right;\">\n",
       "      <th></th>\n",
       "      <th>ThirdPartyVehicleNumber</th>\n",
       "      <th>DamageImportance</th>\n",
       "      <th>PolicyWasSubscribedOnInternet</th>\n",
       "      <th>NumberOfPoliciesOfPolicyholder</th>\n",
       "      <th>FpVehicleAgeMonths</th>\n",
       "      <th>EasinessToStage</th>\n",
       "      <th>ClaimWihoutIdentifiedThirdParty</th>\n",
       "      <th>ClaimAmount</th>\n",
       "      <th>LossHour</th>\n",
       "      <th>PolicyHolderAge</th>\n",
       "      <th>...</th>\n",
       "      <th>FirstPartyVehicleType_Car</th>\n",
       "      <th>FirstPartyVehicleType_Caravan</th>\n",
       "      <th>FirstPartyVehicleType_Motorcycle</th>\n",
       "      <th>FirstPartyVehicleType_PrivateCar</th>\n",
       "      <th>ConnectionBetweenParties_SameAddress</th>\n",
       "      <th>ConnectionBetweenParties_SameBankAccount</th>\n",
       "      <th>ConnectionBetweenParties_SameEmail</th>\n",
       "      <th>ConnectionBetweenParties_SamePhone</th>\n",
       "      <th>ConnectionBetweenParties_SamePolice</th>\n",
       "      <th>IfinSameArea</th>\n",
       "    </tr>\n",
       "  </thead>\n",
       "  <tbody>\n",
       "    <tr>\n",
       "      <th>0</th>\n",
       "      <td>0</td>\n",
       "      <td>0.0</td>\n",
       "      <td>1</td>\n",
       "      <td>1</td>\n",
       "      <td>104.0</td>\n",
       "      <td>0.25</td>\n",
       "      <td>1</td>\n",
       "      <td>4624.73</td>\n",
       "      <td>8.0</td>\n",
       "      <td>45.0</td>\n",
       "      <td>...</td>\n",
       "      <td>1</td>\n",
       "      <td>0</td>\n",
       "      <td>0</td>\n",
       "      <td>0</td>\n",
       "      <td>0</td>\n",
       "      <td>0</td>\n",
       "      <td>0</td>\n",
       "      <td>0</td>\n",
       "      <td>0</td>\n",
       "      <td>1</td>\n",
       "    </tr>\n",
       "    <tr>\n",
       "      <th>1</th>\n",
       "      <td>0</td>\n",
       "      <td>0.0</td>\n",
       "      <td>0</td>\n",
       "      <td>3</td>\n",
       "      <td>230.0</td>\n",
       "      <td>0.50</td>\n",
       "      <td>1</td>\n",
       "      <td>1606.81</td>\n",
       "      <td>11.0</td>\n",
       "      <td>20.0</td>\n",
       "      <td>...</td>\n",
       "      <td>1</td>\n",
       "      <td>0</td>\n",
       "      <td>0</td>\n",
       "      <td>0</td>\n",
       "      <td>0</td>\n",
       "      <td>0</td>\n",
       "      <td>0</td>\n",
       "      <td>0</td>\n",
       "      <td>0</td>\n",
       "      <td>1</td>\n",
       "    </tr>\n",
       "    <tr>\n",
       "      <th>2</th>\n",
       "      <td>0</td>\n",
       "      <td>0.0</td>\n",
       "      <td>0</td>\n",
       "      <td>9</td>\n",
       "      <td>93.0</td>\n",
       "      <td>0.25</td>\n",
       "      <td>0</td>\n",
       "      <td>998.20</td>\n",
       "      <td>18.0</td>\n",
       "      <td>32.0</td>\n",
       "      <td>...</td>\n",
       "      <td>1</td>\n",
       "      <td>0</td>\n",
       "      <td>0</td>\n",
       "      <td>0</td>\n",
       "      <td>0</td>\n",
       "      <td>0</td>\n",
       "      <td>0</td>\n",
       "      <td>0</td>\n",
       "      <td>0</td>\n",
       "      <td>1</td>\n",
       "    </tr>\n",
       "    <tr>\n",
       "      <th>3</th>\n",
       "      <td>0</td>\n",
       "      <td>0.0</td>\n",
       "      <td>0</td>\n",
       "      <td>2</td>\n",
       "      <td>56.0</td>\n",
       "      <td>0.25</td>\n",
       "      <td>0</td>\n",
       "      <td>2506.92</td>\n",
       "      <td>11.0</td>\n",
       "      <td>46.0</td>\n",
       "      <td>...</td>\n",
       "      <td>1</td>\n",
       "      <td>0</td>\n",
       "      <td>0</td>\n",
       "      <td>0</td>\n",
       "      <td>0</td>\n",
       "      <td>0</td>\n",
       "      <td>0</td>\n",
       "      <td>0</td>\n",
       "      <td>0</td>\n",
       "      <td>1</td>\n",
       "    </tr>\n",
       "    <tr>\n",
       "      <th>4</th>\n",
       "      <td>1</td>\n",
       "      <td>0.0</td>\n",
       "      <td>0</td>\n",
       "      <td>4</td>\n",
       "      <td>110.0</td>\n",
       "      <td>0.25</td>\n",
       "      <td>0</td>\n",
       "      <td>12.00</td>\n",
       "      <td>12.0</td>\n",
       "      <td>28.0</td>\n",
       "      <td>...</td>\n",
       "      <td>1</td>\n",
       "      <td>0</td>\n",
       "      <td>0</td>\n",
       "      <td>0</td>\n",
       "      <td>0</td>\n",
       "      <td>0</td>\n",
       "      <td>0</td>\n",
       "      <td>0</td>\n",
       "      <td>0</td>\n",
       "      <td>0</td>\n",
       "    </tr>\n",
       "    <tr>\n",
       "      <th>...</th>\n",
       "      <td>...</td>\n",
       "      <td>...</td>\n",
       "      <td>...</td>\n",
       "      <td>...</td>\n",
       "      <td>...</td>\n",
       "      <td>...</td>\n",
       "      <td>...</td>\n",
       "      <td>...</td>\n",
       "      <td>...</td>\n",
       "      <td>...</td>\n",
       "      <td>...</td>\n",
       "      <td>...</td>\n",
       "      <td>...</td>\n",
       "      <td>...</td>\n",
       "      <td>...</td>\n",
       "      <td>...</td>\n",
       "      <td>...</td>\n",
       "      <td>...</td>\n",
       "      <td>...</td>\n",
       "      <td>...</td>\n",
       "      <td>...</td>\n",
       "    </tr>\n",
       "    <tr>\n",
       "      <th>11525</th>\n",
       "      <td>0</td>\n",
       "      <td>0.0</td>\n",
       "      <td>0</td>\n",
       "      <td>1</td>\n",
       "      <td>85.0</td>\n",
       "      <td>0.50</td>\n",
       "      <td>1</td>\n",
       "      <td>1010.23</td>\n",
       "      <td>0.0</td>\n",
       "      <td>56.0</td>\n",
       "      <td>...</td>\n",
       "      <td>1</td>\n",
       "      <td>0</td>\n",
       "      <td>0</td>\n",
       "      <td>0</td>\n",
       "      <td>0</td>\n",
       "      <td>0</td>\n",
       "      <td>0</td>\n",
       "      <td>0</td>\n",
       "      <td>0</td>\n",
       "      <td>0</td>\n",
       "    </tr>\n",
       "    <tr>\n",
       "      <th>11526</th>\n",
       "      <td>0</td>\n",
       "      <td>0.0</td>\n",
       "      <td>0</td>\n",
       "      <td>3</td>\n",
       "      <td>119.0</td>\n",
       "      <td>0.50</td>\n",
       "      <td>1</td>\n",
       "      <td>154.35</td>\n",
       "      <td>0.0</td>\n",
       "      <td>54.0</td>\n",
       "      <td>...</td>\n",
       "      <td>1</td>\n",
       "      <td>0</td>\n",
       "      <td>0</td>\n",
       "      <td>0</td>\n",
       "      <td>0</td>\n",
       "      <td>0</td>\n",
       "      <td>0</td>\n",
       "      <td>0</td>\n",
       "      <td>0</td>\n",
       "      <td>0</td>\n",
       "    </tr>\n",
       "    <tr>\n",
       "      <th>11527</th>\n",
       "      <td>0</td>\n",
       "      <td>0.0</td>\n",
       "      <td>0</td>\n",
       "      <td>4</td>\n",
       "      <td>139.0</td>\n",
       "      <td>0.50</td>\n",
       "      <td>1</td>\n",
       "      <td>420.25</td>\n",
       "      <td>0.0</td>\n",
       "      <td>34.0</td>\n",
       "      <td>...</td>\n",
       "      <td>1</td>\n",
       "      <td>0</td>\n",
       "      <td>0</td>\n",
       "      <td>0</td>\n",
       "      <td>0</td>\n",
       "      <td>0</td>\n",
       "      <td>0</td>\n",
       "      <td>0</td>\n",
       "      <td>0</td>\n",
       "      <td>0</td>\n",
       "    </tr>\n",
       "    <tr>\n",
       "      <th>11528</th>\n",
       "      <td>0</td>\n",
       "      <td>0.0</td>\n",
       "      <td>0</td>\n",
       "      <td>6</td>\n",
       "      <td>105.0</td>\n",
       "      <td>0.50</td>\n",
       "      <td>1</td>\n",
       "      <td>96.40</td>\n",
       "      <td>0.0</td>\n",
       "      <td>58.0</td>\n",
       "      <td>...</td>\n",
       "      <td>1</td>\n",
       "      <td>0</td>\n",
       "      <td>0</td>\n",
       "      <td>0</td>\n",
       "      <td>0</td>\n",
       "      <td>0</td>\n",
       "      <td>0</td>\n",
       "      <td>0</td>\n",
       "      <td>0</td>\n",
       "      <td>0</td>\n",
       "    </tr>\n",
       "    <tr>\n",
       "      <th>11529</th>\n",
       "      <td>0</td>\n",
       "      <td>0.0</td>\n",
       "      <td>0</td>\n",
       "      <td>2</td>\n",
       "      <td>124.0</td>\n",
       "      <td>0.50</td>\n",
       "      <td>1</td>\n",
       "      <td>223.60</td>\n",
       "      <td>0.0</td>\n",
       "      <td>55.0</td>\n",
       "      <td>...</td>\n",
       "      <td>1</td>\n",
       "      <td>0</td>\n",
       "      <td>0</td>\n",
       "      <td>0</td>\n",
       "      <td>0</td>\n",
       "      <td>0</td>\n",
       "      <td>0</td>\n",
       "      <td>0</td>\n",
       "      <td>0</td>\n",
       "      <td>0</td>\n",
       "    </tr>\n",
       "  </tbody>\n",
       "</table>\n",
       "<p>11415 rows × 53 columns</p>\n",
       "</div>"
      ],
      "text/plain": [
       "       ThirdPartyVehicleNumber  DamageImportance  \\\n",
       "0                            0               0.0   \n",
       "1                            0               0.0   \n",
       "2                            0               0.0   \n",
       "3                            0               0.0   \n",
       "4                            1               0.0   \n",
       "...                        ...               ...   \n",
       "11525                        0               0.0   \n",
       "11526                        0               0.0   \n",
       "11527                        0               0.0   \n",
       "11528                        0               0.0   \n",
       "11529                        0               0.0   \n",
       "\n",
       "       PolicyWasSubscribedOnInternet  NumberOfPoliciesOfPolicyholder  \\\n",
       "0                                  1                               1   \n",
       "1                                  0                               3   \n",
       "2                                  0                               9   \n",
       "3                                  0                               2   \n",
       "4                                  0                               4   \n",
       "...                              ...                             ...   \n",
       "11525                              0                               1   \n",
       "11526                              0                               3   \n",
       "11527                              0                               4   \n",
       "11528                              0                               6   \n",
       "11529                              0                               2   \n",
       "\n",
       "       FpVehicleAgeMonths  EasinessToStage  ClaimWihoutIdentifiedThirdParty  \\\n",
       "0                   104.0             0.25                                1   \n",
       "1                   230.0             0.50                                1   \n",
       "2                    93.0             0.25                                0   \n",
       "3                    56.0             0.25                                0   \n",
       "4                   110.0             0.25                                0   \n",
       "...                   ...              ...                              ...   \n",
       "11525                85.0             0.50                                1   \n",
       "11526               119.0             0.50                                1   \n",
       "11527               139.0             0.50                                1   \n",
       "11528               105.0             0.50                                1   \n",
       "11529               124.0             0.50                                1   \n",
       "\n",
       "       ClaimAmount  LossHour  PolicyHolderAge  ...  FirstPartyVehicleType_Car  \\\n",
       "0          4624.73       8.0             45.0  ...                          1   \n",
       "1          1606.81      11.0             20.0  ...                          1   \n",
       "2           998.20      18.0             32.0  ...                          1   \n",
       "3          2506.92      11.0             46.0  ...                          1   \n",
       "4            12.00      12.0             28.0  ...                          1   \n",
       "...            ...       ...              ...  ...                        ...   \n",
       "11525      1010.23       0.0             56.0  ...                          1   \n",
       "11526       154.35       0.0             54.0  ...                          1   \n",
       "11527       420.25       0.0             34.0  ...                          1   \n",
       "11528        96.40       0.0             58.0  ...                          1   \n",
       "11529       223.60       0.0             55.0  ...                          1   \n",
       "\n",
       "       FirstPartyVehicleType_Caravan  FirstPartyVehicleType_Motorcycle  \\\n",
       "0                                  0                                 0   \n",
       "1                                  0                                 0   \n",
       "2                                  0                                 0   \n",
       "3                                  0                                 0   \n",
       "4                                  0                                 0   \n",
       "...                              ...                               ...   \n",
       "11525                              0                                 0   \n",
       "11526                              0                                 0   \n",
       "11527                              0                                 0   \n",
       "11528                              0                                 0   \n",
       "11529                              0                                 0   \n",
       "\n",
       "       FirstPartyVehicleType_PrivateCar  ConnectionBetweenParties_SameAddress  \\\n",
       "0                                     0                                     0   \n",
       "1                                     0                                     0   \n",
       "2                                     0                                     0   \n",
       "3                                     0                                     0   \n",
       "4                                     0                                     0   \n",
       "...                                 ...                                   ...   \n",
       "11525                                 0                                     0   \n",
       "11526                                 0                                     0   \n",
       "11527                                 0                                     0   \n",
       "11528                                 0                                     0   \n",
       "11529                                 0                                     0   \n",
       "\n",
       "       ConnectionBetweenParties_SameBankAccount  \\\n",
       "0                                             0   \n",
       "1                                             0   \n",
       "2                                             0   \n",
       "3                                             0   \n",
       "4                                             0   \n",
       "...                                         ...   \n",
       "11525                                         0   \n",
       "11526                                         0   \n",
       "11527                                         0   \n",
       "11528                                         0   \n",
       "11529                                         0   \n",
       "\n",
       "       ConnectionBetweenParties_SameEmail  ConnectionBetweenParties_SamePhone  \\\n",
       "0                                       0                                   0   \n",
       "1                                       0                                   0   \n",
       "2                                       0                                   0   \n",
       "3                                       0                                   0   \n",
       "4                                       0                                   0   \n",
       "...                                   ...                                 ...   \n",
       "11525                                   0                                   0   \n",
       "11526                                   0                                   0   \n",
       "11527                                   0                                   0   \n",
       "11528                                   0                                   0   \n",
       "11529                                   0                                   0   \n",
       "\n",
       "       ConnectionBetweenParties_SamePolice  IfinSameArea  \n",
       "0                                        0             1  \n",
       "1                                        0             1  \n",
       "2                                        0             1  \n",
       "3                                        0             1  \n",
       "4                                        0             0  \n",
       "...                                    ...           ...  \n",
       "11525                                    0             0  \n",
       "11526                                    0             0  \n",
       "11527                                    0             0  \n",
       "11528                                    0             0  \n",
       "11529                                    0             0  \n",
       "\n",
       "[11415 rows x 53 columns]"
      ]
     },
     "execution_count": 8,
     "metadata": {},
     "output_type": "execute_result"
    }
   ],
   "source": [
    "\n",
    "train_data"
   ]
  },
  {
   "cell_type": "code",
   "execution_count": 127,
   "metadata": {},
   "outputs": [],
   "source": [
    "scaler = MinMaxScaler()\n",
    "X_train_scaled = scaler.fit_transform(insurance_df.drop(columns=[\"Fraud\"]))\n",
    "X_vali_scaled = scaler.transform(valid_x)\n",
    "X_test_scaled = scaler.transform(test_x)"
   ]
  },
  {
   "cell_type": "code",
   "execution_count": 124,
   "metadata": {},
   "outputs": [],
   "source": [
    "# # Define the AnomalyDetector class\n",
    "class AnomalyDetector(Model):\n",
    "    def __init__(self, encoder, decoder):\n",
    "        super(AnomalyDetector, self).__init__()\n",
    "        self.encoder = encoder\n",
    "        self.decoder = decoder\n",
    "\n",
    "    def call(self, x):\n",
    "        encoded = self.encoder(x)\n",
    "        decoded = self.decoder(encoded)\n",
    "        return decoded"
   ]
  },
  {
   "attachments": {},
   "cell_type": "markdown",
   "metadata": {},
   "source": [
    "## Set up a tuner for encode and decoder\n",
    "\n",
    "    • 3 parameters were tunned"
   ]
  },
  {
   "cell_type": "code",
   "execution_count": 60,
   "metadata": {},
   "outputs": [],
   "source": [
    "import keras_tuner as kt\n",
    "\n",
    "\n",
    "def build_model(hp):\n",
    "\n",
    "    dropout_rate = hp.Float(\"dropout_rate\", min_value=0.1, max_value=0.5)\n",
    "    learning_rate = hp.Float(\n",
    "        \"learning_rate\", min_value=0.001, max_value=0.01, sampling=\"log\"\n",
    "    )\n",
    "    regulizer = hp.Choice(\"regulizer\", values=[\"None\", \"l1\", \"l2\", \"l1_l2\"])\n",
    "\n",
    "    model = tf.keras.Sequential()\n",
    "    model.add(\n",
    "        layers.Dense(\n",
    "            hp.Int(\"neurons1\", min_value=32, max_value=50, step=2),\n",
    "            activation=\"relu\",\n",
    "            kernel_regularizer=get_regularizer(regulizer),\n",
    "            kernel_initializer=\"he_normal\"\n",
    "        )\n",
    "    )\n",
    "    model.add(tf.keras.layers.Dropout(rate=dropout_rate))\n",
    "    model.add(tf.keras.layers.BatchNormalization())\n",
    "    model.add(\n",
    "        layers.Dense(\n",
    "            hp.Int(\"neurons2\", min_value=24, max_value=31, step=2),\n",
    "            activation=\"relu\",\n",
    "            kernel_regularizer=get_regularizer(regulizer),\n",
    "            kernel_initializer=\"he_normal\"\n",
    "        )\n",
    "    )\n",
    "    model.add(tf.keras.layers.Dropout(rate=dropout_rate))\n",
    "    model.add(tf.keras.layers.BatchNormalization())\n",
    "    model.add(\n",
    "        layers.Dense(\n",
    "            hp.Int(\"neurons3\", min_value=16, max_value=23, step=2),\n",
    "            activation=\"relu\",\n",
    "            kernel_regularizer=get_regularizer(regulizer),\n",
    "            kernel_initializer=\"he_normal\"\n",
    "        )\n",
    "    )\n",
    "    model.add(tf.keras.layers.Dropout(rate=dropout_rate))\n",
    "    model.add(tf.keras.layers.BatchNormalization())\n",
    "    model.add(\n",
    "        layers.Dense(\n",
    "            hp.Int(\"neurons4\", min_value=8, max_value=15, step=2),\n",
    "            activation=\"relu\",\n",
    "            kernel_regularizer=get_regularizer(regulizer),\n",
    "            kernel_initializer=\"he_normal\"\n",
    "        )\n",
    "    )\n",
    "\n",
    "    model.add(tf.keras.layers.Dropout(rate=dropout_rate))\n",
    "    model.add(tf.keras.layers.BatchNormalization())\n",
    "    model.add(\n",
    "        layers.Dense(\n",
    "            hp.Int(\"neurons5\", min_value=16, max_value=24, step=2),\n",
    "            activation=\"relu\",\n",
    "            kernel_regularizer=get_regularizer(regulizer),\n",
    "            kernel_initializer=\"he_normal\"\n",
    "        )\n",
    "    )\n",
    "    model.add(tf.keras.layers.Dropout(rate=dropout_rate))\n",
    "    model.add(tf.keras.layers.BatchNormalization())\n",
    "    model.add(\n",
    "        layers.Dense(\n",
    "            hp.Int(\"neurons6\", min_value=25, max_value=32, step=2),\n",
    "            activation=\"relu\",\n",
    "            kernel_regularizer=get_regularizer(regulizer),\n",
    "            kernel_initializer=\"he_normal\"\n",
    "        )\n",
    "    )\n",
    "    model.add(tf.keras.layers.Dropout(rate=dropout_rate))\n",
    "    model.add(tf.keras.layers.BatchNormalization())\n",
    "    model.add(\n",
    "        layers.Dense(\n",
    "            hp.Int(\"neurons7\", min_value=33, max_value=48, step=2),\n",
    "            activation=\"relu\",\n",
    "            kernel_regularizer=get_regularizer(regulizer),\n",
    "            kernel_initializer=\"he_normal\"\n",
    "        )\n",
    "    )\n",
    "    model.add(tf.keras.layers.BatchNormalization())\n",
    "    model.add(layers.Dense(units=52, activation=\"sigmoid\"))\n",
    "\n",
    "    model.compile(\n",
    "        optimizer=tf.keras.optimizers.Adam(learning_rate=learning_rate), loss=\"mse\"\n",
    "    )\n",
    "    return model\n",
    "\n",
    "\n",
    "def get_regularizer(regulizer):\n",
    "    if regulizer == \"None\":\n",
    "        return None\n",
    "    elif regulizer == \"l1\":\n",
    "        return tf.keras.regularizers.l1(0.01)\n",
    "    elif regulizer == \"l2\":\n",
    "        return tf.keras.regularizers.l2(0.01)\n",
    "    elif regulizer == \"l1_l2\":\n",
    "        return tf.keras.regularizers.l1_l2(l1=0.01, l2=0.01)\n",
    "    else:\n",
    "        raise ValueError(f\"Unknown regulizer type {regulizer}\")\n",
    "\n",
    "\n",
    "tuner = kt.Hyperband(\n",
    "    build_model,\n",
    "    objective=\"val_loss\",\n",
    "    max_epochs=1,\n",
    "    factor=2,\n",
    "    directory=\"logs\",\n",
    "    project_name=\"anomaly_detector5\",\n",
    ")"
   ]
  },
  {
   "cell_type": "code",
   "execution_count": 61,
   "metadata": {},
   "outputs": [
    {
     "name": "stdout",
     "output_type": "stream",
     "text": [
      "INFO:tensorflow:Reloading Oracle from existing project logs/anomaly_detector/oracle.json\n",
      "INFO:tensorflow:Reloading Tuner from logs/anomaly_detector/tuner0.json\n"
     ]
    }
   ],
   "source": [
    "import keras_tuner as kt\n",
    "\n",
    "\n",
    "def build_model(hp):\n",
    "\n",
    "    dropout_rate = hp.Float(\"dropout_rate\", min_value=0.1, max_value=0.8)\n",
    "    learning_rate = hp.Float(\n",
    "        \"learning_rate\", min_value=0.001, max_value=0.01, sampling=\"log\"\n",
    "    )\n",
    "    regulizer = hp.Choice(\"regulizer\", values=[\"None\", \"l1\", \"l2\", \"l1_l2\"])\n",
    "\n",
    "    model = tf.keras.Sequential()\n",
    "    model.add(\n",
    "        layers.Dense(\n",
    "            32,\n",
    "            activation=\"tanh\",\n",
    "            kernel_regularizer=get_regularizer(regulizer),\n",
    "        )\n",
    "    )\n",
    "    model.add(tf.keras.layers.Dropout(rate=dropout_rate))\n",
    "    model.add(tf.keras.layers.BatchNormalization())\n",
    "    model.add(\n",
    "        layers.Dense(\n",
    "            24,\n",
    "            activation=\"relu\",\n",
    "            kernel_regularizer=get_regularizer(regulizer),\n",
    "        )\n",
    "    )\n",
    "    model.add(tf.keras.layers.Dropout(rate=dropout_rate))\n",
    "    model.add(tf.keras.layers.BatchNormalization())\n",
    "    model.add(\n",
    "        layers.Dense(\n",
    "            16,\n",
    "            activation=\"relu\",\n",
    "            kernel_regularizer=get_regularizer(regulizer),\n",
    "        )\n",
    "    )\n",
    "\n",
    "    model.add(tf.keras.layers.Dropout(rate=dropout_rate))\n",
    "    model.add(tf.keras.layers.BatchNormalization())\n",
    "    model.add(\n",
    "        layers.Dense(\n",
    "            8,\n",
    "            activation=\"relu\",\n",
    "            kernel_regularizer=get_regularizer(regulizer),\n",
    "        )\n",
    "    )\n",
    "\n",
    "\n",
    "\n",
    "    model.add(tf.keras.layers.Dropout(rate=dropout_rate))\n",
    "    model.add(tf.keras.layers.BatchNormalization())\n",
    "    model.add(\n",
    "        layers.Dense(\n",
    "            16,\n",
    "            activation=\"relu\",\n",
    "            kernel_regularizer=get_regularizer(regulizer),\n",
    "        )\n",
    "    )\n",
    " \n",
    "    model.add(tf.keras.layers.Dropout(rate=dropout_rate))\n",
    "    model.add(tf.keras.layers.BatchNormalization())\n",
    "    model.add(\n",
    "        layers.Dense(\n",
    "            24,\n",
    "            activation=\"relu\",\n",
    "            kernel_regularizer=get_regularizer(regulizer),\n",
    "        )\n",
    "    )\n",
    "\n",
    "    model.add(tf.keras.layers.Dropout(rate=dropout_rate))\n",
    "    model.add(tf.keras.layers.BatchNormalization())\n",
    "    model.add(\n",
    "        layers.Dense(\n",
    "            32,\n",
    "            activation=\"relu\",\n",
    "            kernel_regularizer=get_regularizer(regulizer),\n",
    "        )\n",
    "    )\n",
    "\n",
    "    model.add(tf.keras.layers.Dropout(rate=dropout_rate))\n",
    "    model.add(tf.keras.layers.BatchNormalization())\n",
    "    model.add(layers.Dense(units=52, activation=\"sigmoid\"))\n",
    "\n",
    "    model.compile(\n",
    "        optimizer=tf.keras.optimizers.Adam(learning_rate=learning_rate), loss=\"mse\"\n",
    "    )\n",
    "    return model\n",
    "\n",
    "\n",
    "def get_regularizer(regulizer):\n",
    "    if regulizer == \"None\":\n",
    "        return None\n",
    "    elif regulizer == \"l1\":\n",
    "        return tf.keras.regularizers.l1(0.01)\n",
    "    elif regulizer == \"l2\":\n",
    "        return tf.keras.regularizers.l2(0.01)\n",
    "    elif regulizer == \"l1_l2\":\n",
    "        return tf.keras.regularizers.l1_l2(l1=0.01, l2=0.01)\n",
    "    else:\n",
    "        raise ValueError(f\"Unknown regulizer type {regulizer}\")\n",
    "\n",
    "\n",
    "tuner = kt.Hyperband(\n",
    "    build_model,\n",
    "    objective=\"val_loss\",\n",
    "    max_epochs=2,\n",
    "    factor=3,\n",
    "    directory=\"logs\",\n",
    "    project_name=\"anomaly_detector\",\n",
    ")"
   ]
  },
  {
   "cell_type": "code",
   "execution_count": 62,
   "metadata": {},
   "outputs": [
    {
     "ename": "NameError",
     "evalue": "name 'X_vali_scaled' is not defined",
     "output_type": "error",
     "traceback": [
      "\u001b[0;31m---------------------------------------------------------------------------\u001b[0m",
      "\u001b[0;31mNameError\u001b[0m                                 Traceback (most recent call last)",
      "Cell \u001b[0;32mIn [62], line 1\u001b[0m\n\u001b[0;32m----> 1\u001b[0m tuner\u001b[38;5;241m.\u001b[39msearch(X_train_scaled, X_train_scaled, epochs\u001b[38;5;241m=\u001b[39m\u001b[38;5;241m5\u001b[39m, validation_data\u001b[38;5;241m=\u001b[39m(X_vali_scaled, X_vali_scaled))\n\u001b[1;32m      2\u001b[0m best_model \u001b[38;5;241m=\u001b[39m tuner\u001b[38;5;241m.\u001b[39mget_best_models()[\u001b[38;5;241m0\u001b[39m]\n",
      "\u001b[0;31mNameError\u001b[0m: name 'X_vali_scaled' is not defined"
     ]
    }
   ],
   "source": [
    "tuner.search(X_train_scaled, X_train_scaled, epochs=5, validation_data=(X_vali_scaled, X_vali_scaled))\n",
    "best_model = tuner.get_best_models()[0]"
   ]
  },
  {
   "cell_type": "code",
   "execution_count": 130,
   "metadata": {},
   "outputs": [
    {
     "name": "stdout",
     "output_type": "stream",
     "text": [
      "Epoch 1/30\n"
     ]
    },
    {
     "name": "stderr",
     "output_type": "stream",
     "text": [
      "2023-03-09 02:04:15.275309: I tensorflow/core/grappler/optimizers/custom_graph_optimizer_registry.cc:114] Plugin optimizer for device_type GPU is enabled.\n"
     ]
    },
    {
     "name": "stdout",
     "output_type": "stream",
     "text": [
      "12/12 [==============================] - ETA: 0s - loss: 0.0546"
     ]
    },
    {
     "name": "stderr",
     "output_type": "stream",
     "text": [
      "2023-03-09 02:04:44.455375: I tensorflow/core/grappler/optimizers/custom_graph_optimizer_registry.cc:114] Plugin optimizer for device_type GPU is enabled.\n"
     ]
    },
    {
     "name": "stdout",
     "output_type": "stream",
     "text": [
      "12/12 [==============================] - 34s 2s/step - loss: 0.0546 - val_loss: 0.0491\n",
      "Epoch 2/30\n",
      "12/12 [==============================] - 4s 391ms/step - loss: 0.0528 - val_loss: 0.0492\n",
      "Epoch 3/30\n",
      "12/12 [==============================] - 3s 294ms/step - loss: 0.0522 - val_loss: 0.0493\n",
      "Epoch 4/30\n",
      "12/12 [==============================] - 2s 175ms/step - loss: 0.0520 - val_loss: 0.0493\n",
      "Epoch 5/30\n",
      "12/12 [==============================] - 1s 95ms/step - loss: 0.0517 - val_loss: 0.0493\n",
      "Epoch 6/30\n",
      "12/12 [==============================] - 1s 106ms/step - loss: 0.0516 - val_loss: 0.0493\n",
      "Epoch 7/30\n",
      "12/12 [==============================] - 2s 161ms/step - loss: 0.0515 - val_loss: 0.0493\n",
      "Epoch 8/30\n",
      "12/12 [==============================] - 1s 83ms/step - loss: 0.0515 - val_loss: 0.0494\n",
      "Epoch 9/30\n",
      "12/12 [==============================] - 1s 117ms/step - loss: 0.0513 - val_loss: 0.0494\n",
      "Epoch 10/30\n",
      "12/12 [==============================] - 3s 226ms/step - loss: 0.0513 - val_loss: 0.0493\n",
      "Epoch 11/30\n",
      "12/12 [==============================] - 1s 80ms/step - loss: 0.0513 - val_loss: 0.0493\n",
      "Epoch 12/30\n",
      "12/12 [==============================] - 1s 79ms/step - loss: 0.0513 - val_loss: 0.0493\n",
      "Epoch 13/30\n",
      "12/12 [==============================] - 1s 104ms/step - loss: 0.0512 - val_loss: 0.0493\n",
      "Epoch 14/30\n",
      "12/12 [==============================] - 1s 80ms/step - loss: 0.0512 - val_loss: 0.0493\n",
      "Epoch 15/30\n",
      "12/12 [==============================] - 1s 83ms/step - loss: 0.0512 - val_loss: 0.0493\n",
      "Epoch 16/30\n",
      "12/12 [==============================] - 1s 78ms/step - loss: 0.0511 - val_loss: 0.0493\n",
      "Epoch 17/30\n",
      "12/12 [==============================] - 1s 78ms/step - loss: 0.0511 - val_loss: 0.0493\n",
      "Epoch 18/30\n",
      "12/12 [==============================] - 3s 293ms/step - loss: 0.0511 - val_loss: 0.0493\n",
      "Epoch 19/30\n",
      "12/12 [==============================] - 1s 83ms/step - loss: 0.0510 - val_loss: 0.0492\n",
      "Epoch 20/30\n",
      "12/12 [==============================] - 1s 110ms/step - loss: 0.0510 - val_loss: 0.0492\n",
      "Epoch 21/30\n",
      "12/12 [==============================] - 1s 97ms/step - loss: 0.0510 - val_loss: 0.0492\n",
      "Epoch 22/30\n",
      "12/12 [==============================] - 1s 81ms/step - loss: 0.0509 - val_loss: 0.0493\n",
      "Epoch 23/30\n",
      "12/12 [==============================] - 1s 94ms/step - loss: 0.0510 - val_loss: 0.0493\n",
      "Epoch 24/30\n",
      "12/12 [==============================] - 1s 86ms/step - loss: 0.0509 - val_loss: 0.0493\n",
      "Epoch 25/30\n",
      "12/12 [==============================] - 1s 81ms/step - loss: 0.0509 - val_loss: 0.0492\n",
      "Epoch 26/30\n",
      "12/12 [==============================] - 1s 81ms/step - loss: 0.0508 - val_loss: 0.0493\n",
      "Epoch 27/30\n",
      "12/12 [==============================] - 1s 81ms/step - loss: 0.0508 - val_loss: 0.0493\n",
      "Epoch 28/30\n",
      "12/12 [==============================] - 1s 80ms/step - loss: 0.0508 - val_loss: 0.0493\n",
      "Epoch 29/30\n",
      "12/12 [==============================] - 1s 80ms/step - loss: 0.0507 - val_loss: 0.0493\n",
      "Epoch 30/30\n",
      "12/12 [==============================] - 1s 81ms/step - loss: 0.0508 - val_loss: 0.0492\n"
     ]
    }
   ],
   "source": [
    "autoencoder = AnomalyDetector(best_model, best_model)\n",
    "\n",
    "autoencoder.compile(optimizer=\"nadam\", loss=\"mse\")\n",
    "\n",
    "history = autoencoder.fit(\n",
    "    X_train_scaled, X_train_scaled, epochs=30, batch_size=1024, validation_data=(X_vali_scaled, X_vali_scaled)\n",
    ")"
   ]
  },
  {
   "cell_type": "code",
   "execution_count": 131,
   "metadata": {},
   "outputs": [
    {
     "data": {
      "text/plain": [
       "<matplotlib.legend.Legend at 0x2d37a7d00>"
      ]
     },
     "execution_count": 131,
     "metadata": {},
     "output_type": "execute_result"
    },
    {
     "data": {
      "image/png": "[encoded data removed]",
      "text/plain": [
       "<Figure size 640x480 with 1 Axes>"
      ]
     },
     "metadata": {},
     "output_type": "display_data"
    }
   ],
   "source": [
    "plt.plot(history.history[\"loss\"], label=\"Training Loss\")\n",
    "plt.plot(history.history[\"val_loss\"], label=\"Validation Loss\")\n",
    "plt.legend()"
   ]
  },
  {
   "cell_type": "code",
   "execution_count": 137,
   "metadata": {},
   "outputs": [
    {
     "name": "stdout",
     "output_type": "stream",
     "text": [
      "361/361 [==============================] - 3s 9ms/step\n"
     ]
    },
    {
     "data": {
      "image/png": "[encoded data removed]",
      "text/plain": [
       "<Figure size 640x480 with 1 Axes>"
      ]
     },
     "metadata": {},
     "output_type": "display_data"
    }
   ],
   "source": [
    "reconstructions = autoencoder.predict(X_train_scaled)\n",
    "train_loss = tf.keras.losses.mse(reconstructions, X_train_scaled)\n",
    "\n",
    "plt.hist(train_loss[None, :], bins=50)\n",
    "plt.xlabel(\"Train loss\")\n",
    "plt.ylabel(\"No of examples\")\n",
    "plt.show()"
   ]
  },
  {
   "cell_type": "markdown",
   "metadata": {},
   "source": [
    "## Set up threshold"
   ]
  },
  {
   "cell_type": "code",
   "execution_count": 138,
   "metadata": {},
   "outputs": [
    {
     "name": "stdout",
     "output_type": "stream",
     "text": [
      "Threshold:  0.06745344060160016\n"
     ]
    }
   ],
   "source": [
    "threshold = np.mean(train_loss) + np.std(train_loss)\n",
    "print(\"Threshold: \", threshold)"
   ]
  },
  {
   "cell_type": "code",
   "execution_count": 139,
   "metadata": {},
   "outputs": [
    {
     "name": "stdout",
     "output_type": "stream",
     "text": [
      "56/56 [==============================] - 1s 11ms/step\n"
     ]
    },
    {
     "data": {
      "image/png": "[encoded data removed]",
      "text/plain": [
       "<Figure size 640x480 with 1 Axes>"
      ]
     },
     "metadata": {},
     "output_type": "display_data"
    }
   ],
   "source": [
    "reconstructions = autoencoder.predict(X_test_scaled)\n",
    "test_loss = tf.keras.losses.mse(reconstructions, X_test_scaled)\n",
    "\n",
    "plt.hist(test_loss[None, :], bins=50)\n",
    "plt.xlabel(\"Test loss\")\n",
    "plt.ylabel(\"No of examples\")\n",
    "plt.show()\n"
   ]
  },
  {
   "cell_type": "code",
   "execution_count": 140,
   "metadata": {},
   "outputs": [],
   "source": [
    "def predict(model, data, threshold):\n",
    "    reconstructions = model.predict(data)\n",
    "    loss = tf.keras.losses.mse(reconstructions, data)\n",
    "    return tf.math.less(loss, threshold)\n",
    "\n",
    "\n",
    "def print_stats(predictions, labels):\n",
    "    print(\"Accuracy = {}\".format(accuracy_score(labels, predictions)))\n",
    "    print(\"Hit rate = {}\".format(precision_score(labels, predictions)))\n",
    "\n",
    "    print(\"Detection rate = {}\".format(np.sum(predictions)/ len(labels)))\n",
    "    "
   ]
  },
  {
   "cell_type": "markdown",
   "metadata": {},
   "source": [
    "## Output results for hit and detection rates"
   ]
  },
  {
   "cell_type": "code",
   "execution_count": 141,
   "metadata": {},
   "outputs": [
    {
     "name": "stdout",
     "output_type": "stream",
     "text": [
      "56/56 [==============================] - 1s 11ms/step\n",
      "Accuracy = 0.13099943534726144\n",
      "Hit rate = 0.0231809401159047\n",
      "Detection rate = 0.8769057029926595\n"
     ]
    }
   ],
   "source": [
    "preds = predict(autoencoder, X_vali_scaled, threshold)\n",
    "print_stats(preds, valid_y)"
   ]
  },
  {
   "cell_type": "code",
   "execution_count": 142,
   "metadata": {},
   "outputs": [
    {
     "name": "stdout",
     "output_type": "stream",
     "text": [
      "56/56 [==============================] - 1s 12ms/step\n"
     ]
    },
    {
     "data": {
      "image/png": "[encoded data removed]",
      "text/plain": [
       "<Figure size 640x480 with 1 Axes>"
      ]
     },
     "metadata": {},
     "output_type": "display_data"
    }
   ],
   "source": [
    "df_val = autoencoder.predict(X_test_scaled)\n",
    "\n",
    "val_mse = np.mean(np.power(df_val - X_test_scaled, 2), axis=1)\n",
    "\n",
    "# Separate the fraudulent and non-fraudulent claims in the validation set\n",
    "fraud_mask = np.array(test_y) == 1\n",
    "\n",
    "# Plot the histogram of errors for the validation set\n",
    "plt.hist(val_mse[~fraud_mask], bins=50, log=True, label=\"non-fraudulent\")\n",
    "plt.hist(val_mse[fraud_mask], bins=50, log=True, label=\"fraudulent\")\n",
    "plt.xlabel(\"Mean Squared Error\")\n",
    "plt.ylabel(\"Number of Claims\")\n",
    "plt.legend()\n",
    "\n",
    "# val_mse = val_mse.reset_index(drop=True)\n",
    "\n",
    "# Mark the mean error for fraudulent and non-fraudulent claims\n",
    "val_indices = np.arange(len(val_mse))"
   ]
  },
  {
   "cell_type": "code",
   "execution_count": 115,
   "metadata": {},
   "outputs": [],
   "source": [
    "tf.keras.backend.clear_session()"
   ]
  },
  {
   "attachments": {},
   "cell_type": "markdown",
   "metadata": {},
   "source": [
    "## result summary for autoencoder\n",
    "    \n",
    "    The results of hit and detection rates are worse than the neuron network's one. It detects a large number of false positive.\n",
    "    "
   ]
  }
 ],
 "metadata": {
  "interpreter": {
   "hash": "aee8b7b246df8f9039afb4144a1f6fd8d2ca17a180786b69acc140d282b71a49"
  },
  "kernelspec": {
   "display_name": "Python 3.10.1 64-bit",
   "language": "python",
   "name": "python3"
  },
  "language_info": {
   "codemirror_mode": {
    "name": "ipython",
    "version": 3
   },
   "file_extension": ".py",
   "mimetype": "text/x-python",
   "name": "python",
   "nbconvert_exporter": "python",
   "pygments_lexer": "ipython3",
   "version": "3.10.1"
  },
  "orig_nbformat": 4
 },
 "nbformat": 4,
 "nbformat_minor": 2
}
