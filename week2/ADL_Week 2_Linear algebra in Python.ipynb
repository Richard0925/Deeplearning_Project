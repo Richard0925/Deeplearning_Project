{
 "cells": [
  {
   "cell_type": "markdown",
   "id": "278a4261",
   "metadata": {},
   "source": [
    "# Linear algebra review"
   ]
  },
  {
   "cell_type": "markdown",
   "id": "7a6a61ff",
   "metadata": {},
   "source": [
    "We usually use numpy for linear algebra. Operations here are implemented with extreme efficiency!"
   ]
  },
  {
   "cell_type": "code",
   "execution_count": 2,
   "id": "d9e5d2e4",
   "metadata": {},
   "outputs": [],
   "source": [
    "import numpy as np\n"
   ]
  },
  {
   "cell_type": "markdown",
   "id": "9c45a7e1",
   "metadata": {},
   "source": [
    "## 1. Creating matrices and vectors"
   ]
  },
  {
   "cell_type": "markdown",
   "id": "46d8beb8",
   "metadata": {},
   "source": [
    "### Creating a matrix"
   ]
  },
  {
   "cell_type": "markdown",
   "id": "b3304350",
   "metadata": {},
   "source": [
    "There are different ways to created matrices. We might want to create a matrix completely manually:"
   ]
  },
  {
   "cell_type": "code",
   "execution_count": 3,
   "id": "f7e1db6e",
   "metadata": {},
   "outputs": [
    {
     "data": {
      "text/plain": [
       "(3, 4)"
      ]
     },
     "execution_count": 3,
     "metadata": {},
     "output_type": "execute_result"
    }
   ],
   "source": [
    "A = np.array([[1, 0, 2, 4], [2, 1, 3, 1], [3, 1, 0, 2]])\n",
    "\n",
    "A.shape"
   ]
  },
  {
   "cell_type": "markdown",
   "id": "32210b0c",
   "metadata": {},
   "source": [
    "Alternatively, we could create specific types of matrices, either because we want to use those directly, or as placeholders to fill up later:"
   ]
  },
  {
   "cell_type": "code",
   "execution_count": 4,
   "id": "2b6ff774",
   "metadata": {},
   "outputs": [
    {
     "data": {
      "text/plain": [
       "array([[0., 0., 0., 0.],\n",
       "       [0., 0., 0., 0.],\n",
       "       [0., 0., 0., 0.]])"
      ]
     },
     "execution_count": 4,
     "metadata": {},
     "output_type": "execute_result"
    }
   ],
   "source": [
    "A = np.zeros((3, 4))\n",
    "A"
   ]
  },
  {
   "cell_type": "code",
   "execution_count": 5,
   "id": "a7f65bb8",
   "metadata": {},
   "outputs": [
    {
     "data": {
      "text/plain": [
       "array([[1., 1., 1., 1.],\n",
       "       [1., 1., 1., 1.],\n",
       "       [1., 1., 1., 1.]])"
      ]
     },
     "execution_count": 5,
     "metadata": {},
     "output_type": "execute_result"
    }
   ],
   "source": [
    "A = np.ones((3, 4))\n",
    "A"
   ]
  },
  {
   "cell_type": "code",
   "execution_count": 6,
   "id": "f54b950f",
   "metadata": {},
   "outputs": [
    {
     "data": {
      "text/plain": [
       "array([[6, 6, 6, 6],\n",
       "       [6, 6, 6, 6],\n",
       "       [6, 6, 6, 6]])"
      ]
     },
     "execution_count": 6,
     "metadata": {},
     "output_type": "execute_result"
    }
   ],
   "source": [
    "A = np.full((3, 4), 6)\n",
    "A"
   ]
  },
  {
   "cell_type": "code",
   "execution_count": 7,
   "id": "437e42ce",
   "metadata": {},
   "outputs": [
    {
     "data": {
      "text/plain": [
       "array([[1., 0., 0.],\n",
       "       [0., 1., 0.],\n",
       "       [0., 0., 1.]])"
      ]
     },
     "execution_count": 7,
     "metadata": {},
     "output_type": "execute_result"
    }
   ],
   "source": [
    "A = np.eye(3)\n",
    "A\n"
   ]
  },
  {
   "cell_type": "markdown",
   "id": "8c2f7a6f",
   "metadata": {},
   "source": [
    "To access one or multiple elements in a matrix, we use the usual indexing methods:"
   ]
  },
  {
   "cell_type": "code",
   "execution_count": 8,
   "id": "db7d625b",
   "metadata": {},
   "outputs": [
    {
     "name": "stdout",
     "output_type": "stream",
     "text": [
      "3\n",
      "[1 0]\n",
      "[4 1 2]\n"
     ]
    }
   ],
   "source": [
    "A = np.array([[1, 0, 2, 4], [2, 1, 3, 1], [3, 1, 0, 2]])\n",
    "print(A[1, 2])  # 3\n",
    "print(A[2, 1:3])  # [1,0]\n",
    "print(A[:, 3])  # [4,1,2]"
   ]
  },
  {
   "cell_type": "markdown",
   "id": "7e13ea00",
   "metadata": {},
   "source": [
    "### Creating a vector"
   ]
  },
  {
   "cell_type": "markdown",
   "id": "54b72776",
   "metadata": {},
   "source": [
    "First try: from list"
   ]
  },
  {
   "cell_type": "code",
   "execution_count": 9,
   "id": "3d75cbe0",
   "metadata": {},
   "outputs": [
    {
     "data": {
      "text/plain": [
       "(3,)"
      ]
     },
     "execution_count": 9,
     "metadata": {},
     "output_type": "execute_result"
    }
   ],
   "source": [
    "x_one_dim = np.array([2, 1, 3])\n",
    "x_one_dim.shape"
   ]
  },
  {
   "cell_type": "markdown",
   "id": "8f8225cb",
   "metadata": {},
   "source": [
    "The problem with using one-dimensional vectors is that we may run into problems when doing operations on our matrices and vector later on. Generally, you should aim to use matrics instead of vectors where one dimension is one:"
   ]
  },
  {
   "cell_type": "code",
   "execution_count": 10,
   "id": "112b671f",
   "metadata": {},
   "outputs": [
    {
     "data": {
      "text/plain": [
       "(3, 1)"
      ]
     },
     "execution_count": 10,
     "metadata": {},
     "output_type": "execute_result"
    }
   ],
   "source": [
    "x_two_dim = np.array([[2], [1], [3]])\n",
    "x_two_dim.shape"
   ]
  },
  {
   "cell_type": "markdown",
   "id": "18f25f66",
   "metadata": {},
   "source": [
    "Of course, that's not the most efficient way to do things. Instead, we can also use the one-dimensional vector and reshape it:"
   ]
  },
  {
   "cell_type": "code",
   "execution_count": 10,
   "id": "3f6f4420",
   "metadata": {},
   "outputs": [
    {
     "data": {
      "text/plain": [
       "array([[2],\n",
       "       [1],\n",
       "       [3]])"
      ]
     },
     "execution_count": 10,
     "metadata": {},
     "output_type": "execute_result"
    }
   ],
   "source": [
    "x_one_dim = np.array([2, 1, 3])\n",
    "x_two_dim = x_one_dim.reshape((3, 1))\n",
    "x_two_dim"
   ]
  },
  {
   "cell_type": "markdown",
   "id": "4aa742cd",
   "metadata": {},
   "source": [
    "We can easily add two vectors together:"
   ]
  },
  {
   "cell_type": "code",
   "execution_count": 13,
   "id": "04cc4ecf",
   "metadata": {},
   "outputs": [
    {
     "name": "stdout",
     "output_type": "stream",
     "text": [
      "[[4]\n",
      " [2]\n",
      " [6]]\n",
      "[[4]\n",
      " [2]\n",
      " [6]]\n"
     ]
    }
   ],
   "source": [
    "print(x_two_dim + x_two_dim)\n",
    "print(np.add(x_two_dim, x_two_dim))"
   ]
  },
  {
   "cell_type": "markdown",
   "id": "1a691651",
   "metadata": {},
   "source": [
    "### Broadcasting"
   ]
  },
  {
   "cell_type": "markdown",
   "id": "74c5d0a9",
   "metadata": {},
   "source": [
    "Broadcasting allows us to work with arrays of different sizes when doing arithmetic operations. We will stick to additions for now, but the same logic applies when we do element-wise multiplication.\n",
    "\n",
    "Say we have a matrix $A \\in \\mathcal{R}^{4 \\times 3}$ and a (row-vector) $x \\in \\mathcal{R}^3$. We want to add $x$ **to each row** of $A$"
   ]
  },
  {
   "cell_type": "code",
   "execution_count": 14,
   "id": "d30dd12d",
   "metadata": {},
   "outputs": [],
   "source": [
    "A = np.array([[1, 2, 3], [4, 5, 6], [7, 8, 9], [10, 11, 12]])\n",
    "B = np.empty_like(A)  # Creates an empty matrix of the same shape as A\n",
    "x = np.array([1, 0, 2]).reshape((1, 3))"
   ]
  },
  {
   "cell_type": "markdown",
   "id": "22a2d8db",
   "metadata": {},
   "source": [
    "Let's do this in the most straightforward way, with a loop:"
   ]
  },
  {
   "cell_type": "code",
   "execution_count": 15,
   "id": "fb321381",
   "metadata": {},
   "outputs": [
    {
     "name": "stdout",
     "output_type": "stream",
     "text": [
      "0\n",
      "1\n",
      "2\n",
      "3\n",
      "[[ 2  2  5]\n",
      " [ 5  5  8]\n",
      " [ 8  8 11]\n",
      " [11 11 14]]\n"
     ]
    }
   ],
   "source": [
    "for i in range(4):\n",
    "    print(i)\n",
    "    B[i, :] = A[i, :] + x\n",
    "print(B)\n"
   ]
  },
  {
   "cell_type": "markdown",
   "id": "a834ae45",
   "metadata": {},
   "source": [
    "This is quite tedious. In fact, if we have a large matrix, this will run very long, too. Broadcasting allows us to do this much more effectively:"
   ]
  },
  {
   "cell_type": "code",
   "execution_count": 16,
   "id": "02463392",
   "metadata": {},
   "outputs": [
    {
     "name": "stdout",
     "output_type": "stream",
     "text": [
      "[[ 2  2  5]\n",
      " [ 5  5  8]\n",
      " [ 8  8 11]\n",
      " [11 11 14]]\n"
     ]
    }
   ],
   "source": [
    "B = A + x\n",
    "print(B)\n"
   ]
  },
  {
   "cell_type": "markdown",
   "id": "7e47b0d4",
   "metadata": {},
   "source": [
    "What happens here? The $x$ is treated as if $x = \\begin{pmatrix}1 & 0 & 2\\\\1 & 0 & 2\\\\1 & 0 & 2\\end{pmatrix}$, to be able to do additions with $A$."
   ]
  },
  {
   "cell_type": "markdown",
   "id": "7b99d09a",
   "metadata": {},
   "source": [
    "Broadcasting two arrays together follows these rules:\n",
    "\n",
    "1. If the arrays do not have the same rank, prepend the shape of the lower rank array with 1s until both shapes have the same length.\n",
    "1. The two arrays are said to be compatible in a dimension if they have the same size in the dimension, or if one of the arrays has size 1 in that dimension.\n",
    "1. The arrays can be broadcast together if they are compatible in all dimensions.\n",
    "1. After broadcasting, each array behaves as if it had shape equal to the elementwise maximum of shapes of the two input arrays.\n",
    "1. In any dimension where one array had size 1 and the other array had size greater than 1, the first array behaves as if it were copied along that dimension\n",
    "If this explanation does not make sense, try reading the explanation [from the documentation](http://docs.scipy.org/doc/numpy/user/basics.broadcasting.html) or [this explanation](http://wiki.scipy.org/EricsBroadcastingDoc)."
   ]
  },
  {
   "cell_type": "markdown",
   "id": "2a679c32",
   "metadata": {},
   "source": [
    "## 2. Operations on vectors and matrices"
   ]
  },
  {
   "cell_type": "markdown",
   "id": "e08a392f",
   "metadata": {},
   "source": [
    "### Multiplication"
   ]
  },
  {
   "cell_type": "markdown",
   "id": "09343748",
   "metadata": {},
   "source": [
    "Let's start with multiplying two vectors. Try out the following:"
   ]
  },
  {
   "cell_type": "code",
   "execution_count": 18,
   "id": "1100c239",
   "metadata": {},
   "outputs": [
    {
     "name": "stdout",
     "output_type": "stream",
     "text": [
      "[[2]\n",
      " [1]\n",
      " [3]]\n",
      "[[1]\n",
      " [0]\n",
      " [2]]\n"
     ]
    },
    {
     "data": {
      "text/plain": [
       "array([[2],\n",
       "       [0],\n",
       "       [6]])"
      ]
     },
     "execution_count": 18,
     "metadata": {},
     "output_type": "execute_result"
    }
   ],
   "source": [
    "x = np.array([2, 1, 3]).reshape((3, 1))\n",
    "print(x)\n",
    "y = np.array([1, 0, 2]).reshape((3, 1))\n",
    "print(y)\n",
    "x * y"
   ]
  },
  {
   "cell_type": "code",
   "execution_count": 28,
   "id": "07e787b5",
   "metadata": {},
   "outputs": [
    {
     "name": "stdout",
     "output_type": "stream",
     "text": [
      "(1, 3)\n",
      "(3, 1)\n",
      "The dot product of the x and y.T is a 1X1 matrix. See the below\n"
     ]
    }
   ],
   "source": [
    "print((x.T).shape)\n",
    "print((y).shape)\n",
    "print(\"The dot product of the x and y.T is a 1X1 matrix. See the below\")"
   ]
  },
  {
   "cell_type": "markdown",
   "id": "c1fccd09",
   "metadata": {},
   "source": [
    "The above does **NOT** give us the dot-product. Instead, each entries are multiplied element-wise! For the dot-product, we use the `.dot` function:"
   ]
  },
  {
   "cell_type": "code",
   "execution_count": 19,
   "id": "256288c2",
   "metadata": {},
   "outputs": [
    {
     "data": {
      "text/plain": [
       "array([[8]])"
      ]
     },
     "execution_count": 19,
     "metadata": {},
     "output_type": "execute_result"
    }
   ],
   "source": [
    "np.dot(x.T, y)"
   ]
  },
  {
   "cell_type": "markdown",
   "id": "1097c3d2",
   "metadata": {},
   "source": [
    "Note here that we had to make sure first that the two vectors are properly aligned (using the transpose). Try it without:"
   ]
  },
  {
   "cell_type": "code",
   "execution_count": 23,
   "id": "ed8ff3df",
   "metadata": {},
   "outputs": [
    {
     "ename": "ValueError",
     "evalue": "shapes (3,1) and (3,1) not aligned: 1 (dim 1) != 3 (dim 0)",
     "output_type": "error",
     "traceback": [
      "\u001b[0;31m---------------------------------------------------------------------------\u001b[0m",
      "\u001b[0;31mValueError\u001b[0m                                Traceback (most recent call last)",
      "Cell \u001b[0;32mIn [23], line 1\u001b[0m\n\u001b[0;32m----> 1\u001b[0m np\u001b[38;5;241m.\u001b[39mdot(x,y)\n",
      "File \u001b[0;32m<__array_function__ internals>:180\u001b[0m, in \u001b[0;36mdot\u001b[0;34m(*args, **kwargs)\u001b[0m\n",
      "\u001b[0;31mValueError\u001b[0m: shapes (3,1) and (3,1) not aligned: 1 (dim 1) != 3 (dim 0)"
     ]
    }
   ],
   "source": [
    "np.dot(x, y)"
   ]
  },
  {
   "cell_type": "code",
   "execution_count": 26,
   "id": "5d774dd6",
   "metadata": {},
   "outputs": [
    {
     "name": "stdout",
     "output_type": "stream",
     "text": [
      "(3, 1)\n",
      "(1, 3)\n",
      "The dot product of the x and y.T is a 3X3 matrix\n"
     ]
    }
   ],
   "source": [
    "print((x).shape)\n",
    "print((y.T).shape)\n",
    "print(\"The dot product of the x and y.T is a 3X3 matrix. See the below.\")"
   ]
  },
  {
   "cell_type": "markdown",
   "id": "0bced44c",
   "metadata": {},
   "source": [
    "Naturally, we can get the outer product by arranging the vectors in the right way:"
   ]
  },
  {
   "cell_type": "code",
   "execution_count": 21,
   "id": "8f138577",
   "metadata": {},
   "outputs": [
    {
     "data": {
      "text/plain": [
       "array([[2, 0, 4],\n",
       "       [1, 0, 2],\n",
       "       [3, 0, 6]])"
      ]
     },
     "execution_count": 21,
     "metadata": {},
     "output_type": "execute_result"
    }
   ],
   "source": [
    "np.dot(x, y.T)"
   ]
  },
  {
   "cell_type": "markdown",
   "id": "06cc5013",
   "metadata": {},
   "source": [
    "Let's try multiplying a matrix and a vector now:"
   ]
  },
  {
   "cell_type": "code",
   "execution_count": null,
   "id": "e36747fa",
   "metadata": {},
   "outputs": [],
   "source": [
    "A = np.array([[1, 0, 2, 4], [2, 1, 3, 1], [3, 1, 0, 2]])\n",
    "x = np.array([2, 1, 3]).reshape((3, 1))\n",
    "A * x"
   ]
  },
  {
   "cell_type": "markdown",
   "id": "e7855cfd",
   "metadata": {},
   "source": [
    "As before, we are doing element-wise multiplication. Notice how the vector `x` is repeated and multiplied with each of the columns of `A`. Of course, we can also perform an actual matrix-multiplication, but only with the right dimensions:"
   ]
  },
  {
   "cell_type": "code",
   "execution_count": null,
   "id": "4b610c42",
   "metadata": {},
   "outputs": [],
   "source": [
    "print(A.shape)\n",
    "print(A.T.shape)\n"
   ]
  },
  {
   "cell_type": "code",
   "execution_count": null,
   "id": "ed6b58aa",
   "metadata": {},
   "outputs": [],
   "source": [
    "np.dot(A.T, x)"
   ]
  },
  {
   "cell_type": "markdown",
   "id": "9ef65529",
   "metadata": {},
   "source": [
    "If a matrix is invertible, we can easily get its inverse with `numpy`:"
   ]
  },
  {
   "cell_type": "code",
   "execution_count": null,
   "id": "e65d3521",
   "metadata": {},
   "outputs": [],
   "source": [
    "A = np.array([[1, 0, 2], [2, 1, 3], [3, 1, 0]])\n",
    "np.linalg.inv(A)"
   ]
  },
  {
   "cell_type": "markdown",
   "id": "e37fd1c1",
   "metadata": {},
   "source": [
    "Careful that the matrix is actually invertible:"
   ]
  },
  {
   "cell_type": "code",
   "execution_count": null,
   "id": "fdd10c4f",
   "metadata": {},
   "outputs": [],
   "source": [
    "A = np.array([[1, 0, 1], [2, 1, 3], [2, 0, 2]])\n",
    "np.linalg.inv(A)"
   ]
  },
  {
   "cell_type": "markdown",
   "id": "ae219151",
   "metadata": {},
   "source": [
    "### Eigenvectors and SVD"
   ]
  },
  {
   "cell_type": "markdown",
   "id": "b531c767",
   "metadata": {},
   "source": [
    "We can get both the eigenvectors and eigenvalues from `numpy` (assuming a square matrix):"
   ]
  },
  {
   "cell_type": "code",
   "execution_count": 3,
   "id": "4ad3798a",
   "metadata": {},
   "outputs": [
    {
     "name": "stdout",
     "output_type": "stream",
     "text": [
      "Eigenvalues:\n",
      "[ 3.17740968  0.67836283 -1.85577251]\n",
      "Eigenvectors:\n",
      "[[-0.21772116 -0.29539583 -0.26312244]\n",
      " [-0.85314528  0.95063892 -0.60509323]\n",
      " [-0.47406816  0.09501028  0.75141783]]\n"
     ]
    }
   ],
   "source": [
    "A = np.array([[1, 0, 1], [2, 1, 3], [3, 1, 0]])\n",
    "eigenvalues, eigenvectors = np.linalg.eig(A)\n",
    "\n",
    "print(\"Eigenvalues:\")\n",
    "print(eigenvalues)\n",
    "\n",
    "print(\"Eigenvectors:\")\n",
    "print(eigenvectors)"
   ]
  },
  {
   "cell_type": "markdown",
   "id": "8f784818",
   "metadata": {},
   "source": [
    "Similar with the singular value decomposition:"
   ]
  },
  {
   "cell_type": "code",
   "execution_count": 4,
   "id": "85152456",
   "metadata": {},
   "outputs": [
    {
     "name": "stdout",
     "output_type": "stream",
     "text": [
      "U:\n",
      "[[-0.29152938 -0.11941745 -0.94907855]\n",
      " [-0.77024208 -0.55903255  0.30693606]\n",
      " [-0.56721933  0.82050111  0.07099407]]\n",
      "Sigmas:\n",
      "[4.58774145 2.18953402 0.39820743]\n",
      "V:\n",
      "[[-0.77024208  0.55903255 -0.30693606]\n",
      " [-0.29152938  0.11941745  0.94907855]\n",
      " [-0.56721933 -0.82050111 -0.07099407]]\n"
     ]
    }
   ],
   "source": [
    "U, S, Vtranspose = np.linalg.svd(A)\n",
    "print(\"U:\")\n",
    "print(U)\n",
    "print(\"Sigmas:\")\n",
    "print(S)\n",
    "print(\"V:\")\n",
    "print(Vtranspose.T)\n"
   ]
  },
  {
   "cell_type": "code",
   "execution_count": null,
   "id": "65f1b0e6",
   "metadata": {},
   "outputs": [],
   "source": []
  }
 ],
 "metadata": {
  "interpreter": {
   "hash": "aee8b7b246df8f9039afb4144a1f6fd8d2ca17a180786b69acc140d282b71a49"
  },
  "kernelspec": {
   "display_name": "Python 3.10.1 64-bit",
   "language": "python",
   "name": "python3"
  },
  "language_info": {
   "codemirror_mode": {
    "name": "ipython",
    "version": 3
   },
   "file_extension": ".py",
   "mimetype": "text/x-python",
   "name": "python",
   "nbconvert_exporter": "python",
   "pygments_lexer": "ipython3",
   "version": "3.10.1"
  }
 },
 "nbformat": 4,
 "nbformat_minor": 5
}
