{
 "cells": [
  {
   "cell_type": "code",
   "execution_count": 1,
   "metadata": {},
   "outputs": [],
   "source": [
    "import tensorflow as tf\n",
    "import numpy as np\n",
    "import pandas as pd\n",
    "from sklearn.model_selection import train_test_split\n",
    "import matplotlib.pyplot as plt\n",
    "import datetime\n",
    "import os\n",
    "import random\n",
    "import keras_tuner as kt\n",
    "from sklearn.metrics import f1_score\n",
    "from sklearn.preprocessing import StandardScaler\n",
    "from sklearn.metrics import confusion_matrix\n",
    "from tensorflow import math\n",
    "\n",
    "import ssl\n",
    "ssl._create_default_https_context = ssl._create_unverified_context"
   ]
  },
  {
   "cell_type": "code",
   "execution_count": 2,
   "metadata": {},
   "outputs": [],
   "source": [
    "# read csv file\n",
    "insurance_df = pd.read_csv(\"Insurance_claims.csv\")\n",
    "# insurance_df.head()\n",
    "insurance_df = insurance_df.drop(\n",
    "    [\"ReferenceId\", \"PolicyholderNumber\", \"InsurerNotes\"], axis=1\n",
    ")\n",
    "# these are unique values which should be dropped and column about postcode and date will be dropped later\n",
    "# we need to find those repeated values and set them into 1, others into 0(including the missing value)\n",
    "mask = insurance_df[\"FirstPartyVehicleNumber\"].duplicated()\n",
    "insurance_df.loc[mask, \"FirstPartyVehicleNumber\"] = 1\n",
    "insurance_df.loc[~mask, \"FirstPartyVehicleNumber\"] = 0\n",
    "\n",
    "\n",
    "# check if there is thirdpartyvehicle, yes -> 1, no -> 0\n",
    "insurance_df[\"ThirdPartyVehicleNumber\"].fillna(0)\n",
    "insurance_df[\"ThirdPartyVehicleNumber\"] = insurance_df[\"ThirdPartyVehicleNumber\"].apply(\n",
    "    lambda x: 1 if x > 0 else 0\n",
    ")\n",
    "insurance_df[\"LossDate\"] = pd.to_datetime(insurance_df[\"LossDate\"])\n",
    "insurance_df[\"FirstPolicySubscriptionDate\"] = pd.to_datetime(\n",
    "    insurance_df[\"FirstPolicySubscriptionDate\"]\n",
    ")\n",
    "\n",
    "# calculate the number of days between the two dates\n",
    "insurance_df[\"days_between\"] = insurance_df.apply(\n",
    "    lambda row: (row[\"LossDate\"] - row[\"FirstPolicySubscriptionDate\"]).days, axis=1\n",
    ")\n",
    "insurance_df = insurance_df.drop([\"LossDate\", \"FirstPolicySubscriptionDate\"], axis=1)\n",
    "# check the two postcodes\n",
    "def compare_digits(x, y):\n",
    "    x_len = len(str(x))\n",
    "    y_len = len(str(y))\n",
    "    if x_len == y_len:\n",
    "        if x_len == 5:\n",
    "            return str(x)[:2] == str(y)[:2]\n",
    "        elif x_len == 4:\n",
    "            return str(x)[0] == str(y)[0]\n",
    "        else:\n",
    "            return False\n",
    "    else:\n",
    "        return False\n",
    "\n",
    "\n",
    "# check if the loss place is in the same district of the holder's place\n",
    "insurance_df[\"IfinSameArea\"] = insurance_df.apply(\n",
    "    lambda row: 1\n",
    "    if compare_digits(row[\"LossPostCode\"], row[\"PolicyHolderPostCode\"])\n",
    "    else 0,\n",
    "    axis=1,\n",
    ")\n",
    "insurance_df = insurance_df.drop([\"LossPostCode\", \"PolicyHolderPostCode\"], axis=1)\n",
    "# set these columns to dummies\n",
    "insurance_df = pd.get_dummies(\n",
    "    insurance_df,\n",
    "    columns=[\n",
    "        \"PolicyholderOccupation\",\n",
    "        \"ClaimCause\",\n",
    "        \"ClaimInvolvedCovers\",\n",
    "        \"FirstPartyVehicleType\",\n",
    "        \"ConnectionBetweenParties\",\n",
    "    ],\n",
    ")\n",
    "\n",
    "# check the two postcodes\n",
    "def jud(x):\n",
    "    if x == \"TotalLoss\":\n",
    "        return 2\n",
    "    elif x == \"Medium\":\n",
    "        return 1\n",
    "    else:\n",
    "        return 0\n",
    "\n",
    "\n",
    "insurance_df[\"DamageImportance\"] = insurance_df[\"DamageImportance\"].fillna(0)\n",
    "insurance_df[\"DamageImportance\"] = insurance_df[\"DamageImportance\"].apply(\n",
    "    lambda row: jud(row)\n",
    ")\n",
    "\n",
    "mean_v_fp = insurance_df[\"FpVehicleAgeMonths\"].mean()\n",
    "insurance_df[\"FpVehicleAgeMonths\"] = insurance_df[\"FpVehicleAgeMonths\"].fillna(\n",
    "    value=mean_v_fp\n",
    ")\n",
    "\n",
    "insurance_df[\"LossHour\"] = insurance_df[\"LossHour\"].fillna(\n",
    "    insurance_df[\"LossHour\"].mean()\n",
    ")\n",
    "mean_v_po = insurance_df[\"PolicyHolderAge\"].mean()\n",
    "insurance_df[\"PolicyHolderAge\"] = insurance_df[\"PolicyHolderAge\"].fillna(mean_v_po)\n",
    "\n",
    "# insurance_df[\"weight\"] = insurance_df[\"Fraud\"].apply(lambda x : 2 if x == 1 else 0)"
   ]
  },
  {
   "cell_type": "code",
   "execution_count": 3,
   "metadata": {},
   "outputs": [
    {
     "data": {
      "text/plain": [
       "((8070, 121), (8070,))"
      ]
     },
     "execution_count": 3,
     "metadata": {},
     "output_type": "execute_result"
    }
   ],
   "source": [
    "y = insurance_df[\"Fraud\"]  # creating the dependent variable\n",
    "X = insurance_df.drop(columns=[\"Fraud\"])\n",
    "\n",
    "\n",
    "X_train, X_other, Y_train, Y_other = train_test_split(\n",
    "    X, y, train_size=0.7, random_state=111\n",
    ")\n",
    "\n",
    "X_test, X_valid, Y_test, Y_valid = train_test_split(\n",
    "    X_other, Y_other, test_size=0.5, random_state=111\n",
    ")\n",
    "\n",
    "X_train.shape, Y_train.shape"
   ]
  },
  {
   "cell_type": "code",
   "execution_count": 4,
   "metadata": {},
   "outputs": [],
   "source": [
    "scaler = StandardScaler()\n",
    "X_train_scaled = scaler.fit_transform(X_train)\n",
    "X_valid_scaled = scaler.transform(X_valid)\n",
    "X_test_scaled = scaler.transform(X_test)"
   ]
  },
  {
   "cell_type": "code",
   "execution_count": 5,
   "metadata": {},
   "outputs": [],
   "source": [
    "def train_model(hp):\n",
    "\n",
    "    n_hiddens = hp.Int(\"n_hiddens\", min_value=2, max_value=24, step=1)\n",
    "    n_neurons = hp.Int(\"n_neurons\", min_value=16, max_value=512, step=8)\n",
    "    dropout_rate = hp.Float(\"dropout_rate\", min_value=0.01, max_value=1, step=0.01)\n",
    "    learning_rate = hp.Float(\n",
    "        \"learning_rate\", min_value=0.001, max_value=0.1, sampling=\"log\"\n",
    "    )\n",
    "    \n",
    "    model = tf.keras.Sequential(\n",
    "        [\n",
    "        tf.keras.layers.Flatten(input_shape=(121, 1))]\n",
    "    )\n",
    "\n",
    "    for _ in range(n_hiddens):\n",
    "        \n",
    "        model.add(\n",
    "            tf.keras.layers.Dense(\n",
    "                n_neurons,\n",
    "                activation= tf.keras.layers.LeakyReLU(alpha=0.2),\n",
    "                )\n",
    "        )\n",
    "        tf.keras.layers.BatchNormalization(),\n",
    "        model.add(tf.keras.layers.Dropout(rate=dropout_rate))\n",
    "        \n",
    "    model.add(tf.keras.layers.Dense(1, activation=\"sigmoid\"))\n",
    "\n",
    "    optimizer = hp.Choice(\"optimizer\", values=[\"adam\", \"rmsprop\", \"sgd\"])\n",
    "\n",
    "    if optimizer == \"adam\":\n",
    "        optimizer = tf.keras.optimizers.SGD(learning_rate=learning_rate)\n",
    "    elif optimizer == \"rmsprop\":\n",
    "        optimizer = tf.keras.optimizers.RMSprop(learning_rate=learning_rate)\n",
    "    else:\n",
    "        optimizer = tf.keras.optimizers.Adam(learning_rate=learning_rate)\n",
    "\n",
    "    METRICS = [\n",
    "      tf.keras.metrics.MeanSquaredError(name='mse'),\n",
    "      tf.keras.metrics.TruePositives(name='tp'),\n",
    "      tf.keras.metrics.FalsePositives(name='fp'),\n",
    "      tf.keras.metrics.TrueNegatives(name='tn'),\n",
    "      tf.keras.metrics.FalseNegatives(name='fn'), \n",
    "      tf.keras.metrics.BinaryAccuracy(name='accuracy'),\n",
    "      tf.keras.metrics.Precision(name='precision'),\n",
    "      tf.keras.metrics.Recall(name='recall'),\n",
    "      tf.keras.metrics.AUC(name='auc'),\n",
    "      tf.keras.metrics.AUC(name='prc', curve='PR'), # precision-recall curve\n",
    "    ]\n",
    "\n",
    "    model.compile(\n",
    "        # optimizer=optimizer, loss=\"mean_squared_error\", metrics=[tf.keras.metrics.RootMeanSquaredError(name=\"rmse\")]\n",
    "        optimizer=optimizer, loss='binary_crossentropy',\n",
    "                  metrics=METRICS\n",
    "    )\n",
    "\n",
    "    return model"
   ]
  },
  {
   "cell_type": "code",
   "execution_count": 6,
   "metadata": {},
   "outputs": [],
   "source": [
    "class ClassficationHyperModel(kt.HyperModel):\n",
    "    def train(self, hp):\n",
    "        return train_model(hp)\n",
    "\n",
    "    def fit(self, hp, model, X, y, **kwargs):\n",
    "        if hp.Boolean(\"normalize\"):\n",
    "            norm_layer = tf.keras.layers.Normalization()\n",
    "            X = norm_layer(X)\n",
    "\n",
    "        return model.fit(X, y, **kwargs)\n"
   ]
  },
  {
   "cell_type": "code",
   "execution_count": 7,
   "metadata": {},
   "outputs": [],
   "source": [
    "# def create_plot(log):\n",
    "#     plt.plot(log.history[\"rmse\"], label=\"training rmse\", color=\"red\")\n",
    "#     plt.plot(log.history[\"loss\"], label=\"training loss\", color=\"darkgreen\")\n",
    "#     plt.plot(\n",
    "#         log.history[\"val_rmse\"],\n",
    "#         label=\"validation rmse\",\n",
    "#         color=\"grey\",\n",
    "#     )\n",
    "#     plt.plot(log.history[\"val_loss\"], label=\"validation loss\", color=\"darkblue\")\n",
    "#     plt.legend()\n",
    "#     plt.show()"
   ]
  },
  {
   "cell_type": "code",
   "execution_count": 8,
   "metadata": {},
   "outputs": [],
   "source": [
    "def create_plot(log):\n",
    "    plt.plot(log.history[\"accuracy\"], label=\"training accuracy\", color=\"red\")\n",
    "    plt.plot(log.history[\"loss\"], label=\"training loss\", color=\"darkgreen\")\n",
    "    plt.plot(\n",
    "        log.history[\"val_accuracy\"],\n",
    "        label=\"validation accuracy\",\n",
    "        color=\"grey\",\n",
    "    )\n",
    "    plt.plot(log.history[\"val_loss\"], label=\"validation loss\", color=\"darkblue\")\n",
    "    plt.legend()\n",
    "    plt.show()"
   ]
  },
  {
   "cell_type": "code",
   "execution_count": 9,
   "metadata": {},
   "outputs": [],
   "source": [
    "def opt_threshold(model):\n",
    "    # Make predictions on the test set\n",
    "    y_pred = model.predict(X_test_scaled)\n",
    "\n",
    "    # Calculate the F1 score for different threshold values\n",
    "    f1_scores = []\n",
    "    thresholds = np.arange(0.0, 1.0, 0.01)\n",
    "    for threshold in thresholds:\n",
    "        y_pred_thresh = tf.keras.backend.cast(y_pred > threshold, 'float32')\n",
    "        f1 = f1_score(Y_test, y_pred_thresh)\n",
    "        f1_scores.append(f1)\n",
    "\n",
    "    # Select the threshold with the highest F1 score\n",
    "    optimal_threshold = thresholds[np.argmax(f1_scores)]\n",
    "\n",
    "    return optimal_threshold\n",
    "\n",
    "def show_predicted_result(model, data):\n",
    "    y_pred = model.predict(data)\n",
    "    y_pred = y_pred.ravel()\n",
    "\n",
    "    mse = np.sum((y_pred - Y_test) ** 2) / len(y_pred)\n",
    "    print(\"Mean square error: \", mse)\n",
    "\n",
    "    opt_thresh = opt_threshold(model) \n",
    "\n",
    "    y_pred = [1 if p > opt_thresh else 0 for p in y_pred]\n",
    "\n",
    "    hits = sum(Y_test & y_pred)\n",
    "\n",
    "    hit_rate = hits / np.sum(y_pred)\n",
    "    detection_rate = np.sum(y_pred) / len(y_pred)\n",
    "\n",
    "\n",
    "    print(\"Threshold-------------------------:\", opt_thresh)\n",
    "    print(\"Number of data in testset:--------:\", len(y_pred))\n",
    "    print(\"Number of predicted frauds--------:\", np.sum(y_pred))\n",
    "    print(\"Total number of frauds in testset-:\", np.sum(Y_test))\n",
    "    print(\"Number of predicted frauds hit----:\", hits)\n",
    "    print(\"Hit rate--------------------------:\", hit_rate)\n",
    "    print(\"Detection rate--------------------:\", detection_rate)"
   ]
  },
  {
   "cell_type": "code",
   "execution_count": 10,
   "metadata": {},
   "outputs": [
    {
     "name": "stdout",
     "output_type": "stream",
     "text": [
      "Examples:\n",
      "    Total: 11530\n",
      "    Positive: 115 (1.00% of total)\n",
      "\n",
      "Weight for class 0: 0.51\n",
      "Weight for class 1: 50.13\n"
     ]
    }
   ],
   "source": [
    "neg, pos = np.bincount(insurance_df['Fraud'])\n",
    "total = neg + pos\n",
    "print('Examples:\\n    Total: {}\\n    Positive: {} ({:.2f}% of total)\\n'.format(\n",
    "    total, pos, 100 * pos / total))\n",
    "\n",
    "# Scaling by total/2 helps keep the loss to a similar magnitude.\n",
    "# The sum of the weights of all examples stays the same.\n",
    "weight_for_0 = (1 / neg) * (total / 2.0)\n",
    "weight_for_1 = (1 / pos) * (total / 2.0)\n",
    "\n",
    "class_weight = {0: weight_for_0, 1: weight_for_1}\n",
    "\n",
    "print('Weight for class 0: {:.2f}'.format(weight_for_0))\n",
    "print('Weight for class 1: {:.2f}'.format(weight_for_1))"
   ]
  },
  {
   "attachments": {},
   "cell_type": "markdown",
   "metadata": {},
   "source": [
    "## Hyperband tuner\n",
    "\n",
    "• Dont run it as model is not saved, just for reading and comparing with decision tree"
   ]
  },
  {
   "cell_type": "code",
   "execution_count": 242,
   "metadata": {},
   "outputs": [
    {
     "name": "stdout",
     "output_type": "stream",
     "text": [
      "INFO:tensorflow:Reloading Oracle from existing project logs/hb_tuner/oracle.json\n",
      "INFO:tensorflow:Reloading Tuner from logs/hb_tuner/tuner0.json\n",
      "INFO:tensorflow:Oracle triggered exit\n"
     ]
    }
   ],
   "source": [
    "hyperband_tuner = kt.Hyperband(\n",
    "    train_model,\n",
    "    # objective=kt.Objective(\"rmse\", direction=\"min\"),\n",
    "    objective='val_accuracy',\n",
    "    max_epochs=5,\n",
    "    factor=3,\n",
    "    directory=\"logs\",\n",
    "    project_name=\"hb_tuner\",\n",
    "    \n",
    ")\n",
    "\n",
    "hyperband_tuner.search(X_train_scaled, Y_train, validation_data=(X_valid_scaled, Y_valid))\n",
    "best_hps = hyperband_tuner.get_best_hyperparameters()[0]\n",
    "best_hb_model = hyperband_tuner.hypermodel.build(best_hps)"
   ]
  },
  {
   "cell_type": "code",
   "execution_count": 340,
   "metadata": {},
   "outputs": [
    {
     "name": "stdout",
     "output_type": "stream",
     "text": [
      "Epoch 1/100\n",
      "85/85 [==============================] - 3s 32ms/step - loss: 0.0661 - mse: 0.0223 - tp: 85.0000 - fp: 213.0000 - tn: 7772.0000 - fn: 0.0000e+00 - accuracy: 0.9736 - precision: 0.2852 - recall: 1.0000 - auc: 0.9921 - prc: 0.4070 - val_loss: 0.1563 - val_mse: 0.0301 - val_tp: 6.0000 - val_fp: 52.0000 - val_tn: 1665.0000 - val_fn: 7.0000 - val_accuracy: 0.9659 - val_precision: 0.1034 - val_recall: 0.4615 - val_auc: 0.7473 - val_prc: 0.0759\n",
      "Epoch 2/100\n",
      "85/85 [==============================] - 2s 29ms/step - loss: 0.0571 - mse: 0.0202 - tp: 85.0000 - fp: 198.0000 - tn: 7787.0000 - fn: 0.0000e+00 - accuracy: 0.9755 - precision: 0.3004 - recall: 1.0000 - auc: 0.9935 - prc: 0.4772 - val_loss: 0.1450 - val_mse: 0.0284 - val_tp: 5.0000 - val_fp: 51.0000 - val_tn: 1666.0000 - val_fn: 8.0000 - val_accuracy: 0.9659 - val_precision: 0.0893 - val_recall: 0.3846 - val_auc: 0.7475 - val_prc: 0.0750\n",
      "Epoch 3/100\n",
      "85/85 [==============================] - 2s 29ms/step - loss: 0.0725 - mse: 0.0271 - tp: 84.0000 - fp: 257.0000 - tn: 7728.0000 - fn: 1.0000 - accuracy: 0.9680 - precision: 0.2463 - recall: 0.9882 - auc: 0.9918 - prc: 0.4197 - val_loss: 0.1608 - val_mse: 0.0340 - val_tp: 5.0000 - val_fp: 62.0000 - val_tn: 1655.0000 - val_fn: 8.0000 - val_accuracy: 0.9595 - val_precision: 0.0746 - val_recall: 0.3846 - val_auc: 0.7439 - val_prc: 0.0659\n",
      "Epoch 4/100\n",
      "85/85 [==============================] - 2s 28ms/step - loss: 0.0598 - mse: 0.0239 - tp: 85.0000 - fp: 235.0000 - tn: 7750.0000 - fn: 0.0000e+00 - accuracy: 0.9709 - precision: 0.2656 - recall: 1.0000 - auc: 0.9937 - prc: 0.4870 - val_loss: 0.1462 - val_mse: 0.0311 - val_tp: 5.0000 - val_fp: 55.0000 - val_tn: 1662.0000 - val_fn: 8.0000 - val_accuracy: 0.9636 - val_precision: 0.0833 - val_recall: 0.3846 - val_auc: 0.7442 - val_prc: 0.0909\n",
      "Epoch 5/100\n",
      "85/85 [==============================] - 2s 29ms/step - loss: 0.0474 - mse: 0.0196 - tp: 85.0000 - fp: 205.0000 - tn: 7780.0000 - fn: 0.0000e+00 - accuracy: 0.9746 - precision: 0.2931 - recall: 1.0000 - auc: 0.9958 - prc: 0.6199 - val_loss: 0.1305 - val_mse: 0.0265 - val_tp: 5.0000 - val_fp: 48.0000 - val_tn: 1669.0000 - val_fn: 8.0000 - val_accuracy: 0.9676 - val_precision: 0.0943 - val_recall: 0.3846 - val_auc: 0.7097 - val_prc: 0.0944\n",
      "Epoch 6/100\n",
      "85/85 [==============================] - 2s 29ms/step - loss: 0.0466 - mse: 0.0164 - tp: 85.0000 - fp: 167.0000 - tn: 7818.0000 - fn: 0.0000e+00 - accuracy: 0.9793 - precision: 0.3373 - recall: 1.0000 - auc: 0.9958 - prc: 0.6038 - val_loss: 0.1366 - val_mse: 0.0281 - val_tp: 5.0000 - val_fp: 50.0000 - val_tn: 1667.0000 - val_fn: 8.0000 - val_accuracy: 0.9665 - val_precision: 0.0909 - val_recall: 0.3846 - val_auc: 0.7085 - val_prc: 0.1137\n",
      "Epoch 7/100\n",
      "85/85 [==============================] - 2s 29ms/step - loss: 0.0397 - mse: 0.0150 - tp: 85.0000 - fp: 148.0000 - tn: 7837.0000 - fn: 0.0000e+00 - accuracy: 0.9817 - precision: 0.3648 - recall: 1.0000 - auc: 0.9967 - prc: 0.6761 - val_loss: 0.1284 - val_mse: 0.0255 - val_tp: 5.0000 - val_fp: 46.0000 - val_tn: 1671.0000 - val_fn: 8.0000 - val_accuracy: 0.9688 - val_precision: 0.0980 - val_recall: 0.3846 - val_auc: 0.7107 - val_prc: 0.0985\n",
      "Epoch 8/100\n",
      "85/85 [==============================] - 2s 28ms/step - loss: 0.0496 - mse: 0.0175 - tp: 84.0000 - fp: 173.0000 - tn: 7812.0000 - fn: 1.0000 - accuracy: 0.9784 - precision: 0.3268 - recall: 0.9882 - auc: 0.9963 - prc: 0.6389 - val_loss: 0.1410 - val_mse: 0.0284 - val_tp: 5.0000 - val_fp: 49.0000 - val_tn: 1668.0000 - val_fn: 8.0000 - val_accuracy: 0.9671 - val_precision: 0.0926 - val_recall: 0.3846 - val_auc: 0.7092 - val_prc: 0.0813\n",
      "Epoch 9/100\n",
      "85/85 [==============================] - 2s 28ms/step - loss: 0.0414 - mse: 0.0166 - tp: 85.0000 - fp: 165.0000 - tn: 7820.0000 - fn: 0.0000e+00 - accuracy: 0.9796 - precision: 0.3400 - recall: 1.0000 - auc: 0.9963 - prc: 0.6186 - val_loss: 0.1326 - val_mse: 0.0256 - val_tp: 5.0000 - val_fp: 44.0000 - val_tn: 1673.0000 - val_fn: 8.0000 - val_accuracy: 0.9699 - val_precision: 0.1020 - val_recall: 0.3846 - val_auc: 0.7102 - val_prc: 0.0863\n",
      "Epoch 10/100\n",
      "85/85 [==============================] - 2s 29ms/step - loss: 0.0397 - mse: 0.0150 - tp: 85.0000 - fp: 153.0000 - tn: 7832.0000 - fn: 0.0000e+00 - accuracy: 0.9810 - precision: 0.3571 - recall: 1.0000 - auc: 0.9967 - prc: 0.6738 - val_loss: 0.1302 - val_mse: 0.0250 - val_tp: 4.0000 - val_fp: 42.0000 - val_tn: 1675.0000 - val_fn: 9.0000 - val_accuracy: 0.9705 - val_precision: 0.0870 - val_recall: 0.3077 - val_auc: 0.7102 - val_prc: 0.0803\n",
      "Epoch 11/100\n",
      "85/85 [==============================] - 3s 36ms/step - loss: 0.0370 - mse: 0.0132 - tp: 85.0000 - fp: 134.0000 - tn: 7851.0000 - fn: 0.0000e+00 - accuracy: 0.9834 - precision: 0.3881 - recall: 1.0000 - auc: 0.9970 - prc: 0.7001 - val_loss: 0.1301 - val_mse: 0.0246 - val_tp: 4.0000 - val_fp: 40.0000 - val_tn: 1677.0000 - val_fn: 9.0000 - val_accuracy: 0.9717 - val_precision: 0.0909 - val_recall: 0.3077 - val_auc: 0.7106 - val_prc: 0.0809\n",
      "Epoch 12/100\n",
      "85/85 [==============================] - 3s 31ms/step - loss: 0.0387 - mse: 0.0135 - tp: 85.0000 - fp: 134.0000 - tn: 7851.0000 - fn: 0.0000e+00 - accuracy: 0.9834 - precision: 0.3881 - recall: 1.0000 - auc: 0.9967 - prc: 0.6855 - val_loss: 0.1340 - val_mse: 0.0254 - val_tp: 5.0000 - val_fp: 41.0000 - val_tn: 1676.0000 - val_fn: 8.0000 - val_accuracy: 0.9717 - val_precision: 0.1087 - val_recall: 0.3846 - val_auc: 0.7118 - val_prc: 0.0797\n",
      "Epoch 13/100\n",
      "85/85 [==============================] - 3s 31ms/step - loss: 0.0416 - mse: 0.0159 - tp: 85.0000 - fp: 156.0000 - tn: 7829.0000 - fn: 0.0000e+00 - accuracy: 0.9807 - precision: 0.3527 - recall: 1.0000 - auc: 0.9969 - prc: 0.6975 - val_loss: 0.1344 - val_mse: 0.0254 - val_tp: 5.0000 - val_fp: 42.0000 - val_tn: 1675.0000 - val_fn: 8.0000 - val_accuracy: 0.9711 - val_precision: 0.1064 - val_recall: 0.3846 - val_auc: 0.7118 - val_prc: 0.1011\n"
     ]
    },
    {
     "data": {
      "image/png": "[encoded data removed]",
      "text/plain": [
       "<Figure size 640x480 with 1 Axes>"
      ]
     },
     "metadata": {},
     "output_type": "display_data"
    }
   ],
   "source": [
    "early_stopping_cb = tf.keras.callbacks.EarlyStopping(\n",
    "    patience=10, \n",
    "    restore_best_weights=True,\n",
    "    mode='max'\n",
    ")  \n",
    "\n",
    "checkpoint = tf.keras.callbacks.ModelCheckpoint(\n",
    "    filepath='best_weight_test.h5',\n",
    "    save_best_only=True,\n",
    "    save_weights_only=True,\n",
    "    monitor='val_loss',\n",
    "    mode='min',\n",
    "    verbose=1\n",
    ")\n",
    "\n",
    "log = best_hb_model.fit(\n",
    "    X_train_scaled,\n",
    "    Y_train,\n",
    "    epochs=100,\n",
    "    batch_size=96,\n",
    "    validation_data=(X_valid_scaled, Y_valid),\n",
    "    callbacks=[early_stopping_cb, checkpoint],\n",
    "    class_weight = class_weight\n",
    ")\n",
    "create_plot(log)"
   ]
  },
  {
   "cell_type": "code",
   "execution_count": 443,
   "metadata": {},
   "outputs": [
    {
     "name": "stdout",
     "output_type": "stream",
     "text": [
      "55/55 [==============================] - 1s 9ms/step\n",
      "Mean square error:  0.03499539762198941\n",
      "55/55 [==============================] - 0s 3ms/step\n",
      "Threshold-------------------------: 0.98\n",
      "Number of data in testset:--------: 1730\n",
      "Number of predicted frauds--------: 20\n",
      "Total number of frauds in testset-: 17\n",
      "Number of predicted frauds hit----: 5\n",
      "Hit rate--------------------------: 0.25\n",
      "Detection rate--------------------: 0.011560693641618497\n"
     ]
    }
   ],
   "source": [
    "show_predicted_result(best_hb_model,X_test_scaled)"
   ]
  },
  {
   "cell_type": "code",
   "execution_count": 412,
   "metadata": {},
   "outputs": [
    {
     "data": {
      "text/plain": [
       "(24, 48, 0.6299999999999997, 0.06287028228888145, 'sgd')"
      ]
     },
     "execution_count": 412,
     "metadata": {},
     "output_type": "execute_result"
    }
   ],
   "source": [
    "# save the best weights so far\n",
    "best_hb_model.save_weights(\"best_weight\")\n",
    "\n",
    "# best hp : (24, 48, 0.6299999999999997, 0.06287028228888145, 'sgd')\n",
    "best_hps[\"n_hiddens\"], best_hps[\"n_neurons\"], best_hps[\"dropout_rate\"], best_hps[\"learning_rate\"], best_hps[\"optimizer\"]"
   ]
  },
  {
   "attachments": {},
   "cell_type": "markdown",
   "metadata": {},
   "source": [
    "## Save the best model above\n",
    "\n",
    "• Only need to run once\n"
   ]
  },
  {
   "cell_type": "code",
   "execution_count": 437,
   "metadata": {},
   "outputs": [
    {
     "name": "stderr",
     "output_type": "stream",
     "text": [
      "WARNING:absl:Found untraced functions such as leaky_re_lu_82_layer_call_fn, leaky_re_lu_82_layer_call_and_return_conditional_losses, leaky_re_lu_83_layer_call_fn, leaky_re_lu_83_layer_call_and_return_conditional_losses, leaky_re_lu_84_layer_call_fn while saving (showing 5 of 12). These functions will not be directly callable after loading.\n"
     ]
    },
    {
     "name": "stdout",
     "output_type": "stream",
     "text": [
      "INFO:tensorflow:Assets written to: best_hb_model/assets\n"
     ]
    },
    {
     "name": "stderr",
     "output_type": "stream",
     "text": [
      "INFO:tensorflow:Assets written to: best_hb_model/assets\n"
     ]
    }
   ],
   "source": [
    "# tf.keras.models.save_model(best_hb_model, \"best_hb_model\")"
   ]
  },
  {
   "attachments": {},
   "cell_type": "markdown",
   "metadata": {},
   "source": [
    "## Loading the saved model to predict new data"
   ]
  },
  {
   "cell_type": "code",
   "execution_count": 11,
   "metadata": {},
   "outputs": [
    {
     "name": "stdout",
     "output_type": "stream",
     "text": [
      "Metal device set to: Apple M1 Pro\n",
      "\n",
      "systemMemory: 16.00 GB\n",
      "maxCacheSize: 5.33 GB\n",
      "\n"
     ]
    },
    {
     "name": "stderr",
     "output_type": "stream",
     "text": [
      "2023-03-07 02:51:21.654320: I tensorflow/core/common_runtime/pluggable_device/pluggable_device_factory.cc:306] Could not identify NUMA node of platform GPU ID 0, defaulting to 0. Your kernel may not have been built with NUMA support.\n",
      "2023-03-07 02:51:21.654496: I tensorflow/core/common_runtime/pluggable_device/pluggable_device_factory.cc:272] Created TensorFlow device (/job:localhost/replica:0/task:0/device:GPU:0 with 0 MB memory) -> physical PluggableDevice (device: 0, name: METAL, pci bus id: <undefined>)\n"
     ]
    },
    {
     "name": "stdout",
     "output_type": "stream",
     "text": [
      " 1/55 [..............................] - ETA: 7s"
     ]
    },
    {
     "name": "stderr",
     "output_type": "stream",
     "text": [
      "2023-03-07 02:51:22.580364: W tensorflow/core/util/tensor_slice_reader.cc:96] Could not open best_hb_model: FAILED_PRECONDITION: best_hb_model; Is a directory: perhaps your file is in a different file format and you need to use a different restore operator?\n",
      "2023-03-07 02:51:22.646283: W tensorflow/core/platform/profile_utils/cpu_utils.cc:128] Failed to get CPU frequency: 0 Hz\n",
      "2023-03-07 02:51:22.701545: I tensorflow/core/grappler/optimizers/custom_graph_optimizer_registry.cc:114] Plugin optimizer for device_type GPU is enabled.\n"
     ]
    },
    {
     "name": "stdout",
     "output_type": "stream",
     "text": [
      "55/55 [==============================] - 0s 4ms/step\n",
      "Mean square error:  0.03499539762198941\n",
      "55/55 [==============================] - 0s 3ms/step\n",
      "Threshold-------------------------: 0.98\n",
      "Number of data in testset:--------: 1730\n",
      "Number of predicted frauds--------: 20\n",
      "Total number of frauds in testset-: 17\n",
      "Number of predicted frauds hit----: 5\n",
      "Hit rate--------------------------: 0.25\n",
      "Detection rate--------------------: 0.011560693641618497\n"
     ]
    }
   ],
   "source": [
    "final_model = tf.keras.models.load_model(\"best_hb_model\")\n",
    "final_model.load_weights(\"best_hb_model\")\n",
    "\n",
    "show_predicted_result(final_model, X_test_scaled)"
   ]
  },
  {
   "cell_type": "markdown",
   "metadata": {},
   "source": [
    "## Q6"
   ]
  },
  {
   "cell_type": "code",
   "execution_count": 12,
   "metadata": {},
   "outputs": [
    {
     "name": "stdout",
     "output_type": "stream",
     "text": [
      "X with fraud: (115, 121)\n",
      "X without fraud: (11415, 121)\n",
      "proportion: 0.010074463425317565\n",
      "Train: (6849, 121)\n",
      "Other: (4566, 121)\n",
      "Test_n: (3196, 121)\n",
      "Vali_n: (1370, 121)\n",
      "Test_y: (80, 121)\n",
      "Vali_y: (35, 121)\n",
      "Test: (3276, 121)\n",
      "Vali: (1405, 121)\n"
     ]
    }
   ],
   "source": [
    "# Divide fraudulent and non-fraudulent observations\n",
    "df_frau = insurance_df.loc[insurance_df[\"Fraud\"]==1]\n",
    "df_nofr = insurance_df.loc[insurance_df[\"Fraud\"]==0]\n",
    "# Build X set and y set\n",
    "X_frau = df_frau.drop(columns = [\"Fraud\"])\n",
    "Y_frau = df_frau[\"Fraud\"]\n",
    "X_nofr = df_nofr.drop(columns = [\"Fraud\"])\n",
    "Y_nofr = df_nofr[\"Fraud\"]\n",
    "print(\"X with fraud:\", X_frau.shape)\n",
    "print(\"X without fraud:\", X_nofr.shape)\n",
    "print(\"proportion:\", X_frau.shape[0]/X_nofr.shape[0])\n",
    "\n",
    "# Split Train & Other dataset without fraudulent observations\n",
    "X_train, X_other, Y_train, Y_other = train_test_split(X_nofr, Y_nofr, test_size=0.4, random_state = 111)\n",
    "print(\"Train:\",X_train.shape)\n",
    "print(\"Other:\",X_other.shape)\n",
    "# Split Vali & Test dataset without fraudulent observations\n",
    "X_test_n, X_vali_n, Y_test_n, Y_vali_n = train_test_split(X_other, Y_other, test_size=0.3, random_state = 111)\n",
    "print(\"Test_n:\",X_test_n.shape)\n",
    "print(\"Vali_n:\", X_vali_n.shape)\n",
    "\n",
    "# Split fraudulent observations equally\n",
    "X_test_y, X_vali_y, Y_test_y, Y_vali_y = train_test_split(X_frau, Y_frau, test_size=0.3, random_state = 111)\n",
    "print(\"Test_y:\",X_test_y.shape)\n",
    "print(\"Vali_y:\", X_vali_y.shape)\n",
    "\n",
    "# Concate observations with / without fraudulent observations in test & vali dataset\n",
    "X_test = pd.concat([X_test_n, X_test_y], axis = 0, ignore_index = True)\n",
    "Y_test = pd.concat([Y_test_n, Y_test_y], axis = 0, ignore_index = True)\n",
    "X_vali = pd.concat([X_vali_n, X_vali_y], axis = 0, ignore_index = True)\n",
    "Y_vali = pd.concat([Y_vali_n, Y_vali_y], axis = 0, ignore_index = True)\n",
    "\n",
    "print(\"Test:\",X_test.shape)\n",
    "print(\"Vali:\", X_vali.shape)"
   ]
  },
  {
   "cell_type": "code",
   "execution_count": 16,
   "metadata": {},
   "outputs": [
    {
     "name": "stderr",
     "output_type": "stream",
     "text": [
      "2023-03-07 02:55:33.028635: I tensorflow/core/grappler/optimizers/custom_graph_optimizer_registry.cc:114] Plugin optimizer for device_type GPU is enabled.\n"
     ]
    },
    {
     "ename": "InvalidArgumentError",
     "evalue": "Graph execution error:\n\nDetected at node 'sequential_15/flatten_15/Reshape' defined at (most recent call last):\n    File \"/Library/Frameworks/Python.framework/Versions/3.10/lib/python3.10/runpy.py\", line 196, in _run_module_as_main\n      return _run_code(code, main_globals, None,\n    File \"/Library/Frameworks/Python.framework/Versions/3.10/lib/python3.10/runpy.py\", line 86, in _run_code\n      exec(code, run_globals)\n    File \"/Library/Frameworks/Python.framework/Versions/3.10/lib/python3.10/site-packages/ipykernel_launcher.py\", line 17, in <module>\n      app.launch_new_instance()\n    File \"/Library/Frameworks/Python.framework/Versions/3.10/lib/python3.10/site-packages/traitlets/config/application.py\", line 978, in launch_instance\n      app.start()\n    File \"/Library/Frameworks/Python.framework/Versions/3.10/lib/python3.10/site-packages/ipykernel/kernelapp.py\", line 712, in start\n      self.io_loop.start()\n    File \"/Library/Frameworks/Python.framework/Versions/3.10/lib/python3.10/site-packages/tornado/platform/asyncio.py\", line 215, in start\n      self.asyncio_loop.run_forever()\n    File \"/Library/Frameworks/Python.framework/Versions/3.10/lib/python3.10/asyncio/base_events.py\", line 595, in run_forever\n      self._run_once()\n    File \"/Library/Frameworks/Python.framework/Versions/3.10/lib/python3.10/asyncio/base_events.py\", line 1881, in _run_once\n      handle._run()\n    File \"/Library/Frameworks/Python.framework/Versions/3.10/lib/python3.10/asyncio/events.py\", line 80, in _run\n      self._context.run(self._callback, *self._args)\n    File \"/Library/Frameworks/Python.framework/Versions/3.10/lib/python3.10/site-packages/ipykernel/kernelbase.py\", line 510, in dispatch_queue\n      await self.process_one()\n    File \"/Library/Frameworks/Python.framework/Versions/3.10/lib/python3.10/site-packages/ipykernel/kernelbase.py\", line 499, in process_one\n      await dispatch(*args)\n    File \"/Library/Frameworks/Python.framework/Versions/3.10/lib/python3.10/site-packages/ipykernel/kernelbase.py\", line 406, in dispatch_shell\n      await result\n    File \"/Library/Frameworks/Python.framework/Versions/3.10/lib/python3.10/site-packages/ipykernel/kernelbase.py\", line 730, in execute_request\n      reply_content = await reply_content\n    File \"/Library/Frameworks/Python.framework/Versions/3.10/lib/python3.10/site-packages/ipykernel/ipkernel.py\", line 383, in do_execute\n      res = shell.run_cell(\n    File \"/Library/Frameworks/Python.framework/Versions/3.10/lib/python3.10/site-packages/ipykernel/zmqshell.py\", line 528, in run_cell\n      return super().run_cell(*args, **kwargs)\n    File \"/Library/Frameworks/Python.framework/Versions/3.10/lib/python3.10/site-packages/IPython/core/interactiveshell.py\", line 2885, in run_cell\n      result = self._run_cell(\n    File \"/Library/Frameworks/Python.framework/Versions/3.10/lib/python3.10/site-packages/IPython/core/interactiveshell.py\", line 2940, in _run_cell\n      return runner(coro)\n    File \"/Library/Frameworks/Python.framework/Versions/3.10/lib/python3.10/site-packages/IPython/core/async_helpers.py\", line 129, in _pseudo_sync_runner\n      coro.send(None)\n    File \"/Library/Frameworks/Python.framework/Versions/3.10/lib/python3.10/site-packages/IPython/core/interactiveshell.py\", line 3139, in run_cell_async\n      has_raised = await self.run_ast_nodes(code_ast.body, cell_name,\n    File \"/Library/Frameworks/Python.framework/Versions/3.10/lib/python3.10/site-packages/IPython/core/interactiveshell.py\", line 3318, in run_ast_nodes\n      if await self.run_code(code, result, async_=asy):\n    File \"/Library/Frameworks/Python.framework/Versions/3.10/lib/python3.10/site-packages/IPython/core/interactiveshell.py\", line 3378, in run_code\n      exec(code_obj, self.user_global_ns, self.user_ns)\n    File \"/var/folders/k6/934yyy2n5_vf8y3c9cw39gcr0000gn/T/ipykernel_10508/4054905396.py\", line 1, in <module>\n      y_pred = final_model.predict(X_test.T)\n    File \"/Library/Frameworks/Python.framework/Versions/3.10/lib/python3.10/site-packages/keras/utils/traceback_utils.py\", line 65, in error_handler\n      return fn(*args, **kwargs)\n    File \"/Library/Frameworks/Python.framework/Versions/3.10/lib/python3.10/site-packages/keras/engine/training.py\", line 2253, in predict\n      tmp_batch_outputs = self.predict_function(iterator)\n    File \"/Library/Frameworks/Python.framework/Versions/3.10/lib/python3.10/site-packages/keras/engine/training.py\", line 2041, in predict_function\n      return step_function(self, iterator)\n    File \"/Library/Frameworks/Python.framework/Versions/3.10/lib/python3.10/site-packages/keras/engine/training.py\", line 2027, in step_function\n      outputs = model.distribute_strategy.run(run_step, args=(data,))\n    File \"/Library/Frameworks/Python.framework/Versions/3.10/lib/python3.10/site-packages/keras/engine/training.py\", line 2015, in run_step\n      outputs = model.predict_step(data)\n    File \"/Library/Frameworks/Python.framework/Versions/3.10/lib/python3.10/site-packages/keras/engine/training.py\", line 1983, in predict_step\n      return self(x, training=False)\n    File \"/Library/Frameworks/Python.framework/Versions/3.10/lib/python3.10/site-packages/keras/utils/traceback_utils.py\", line 65, in error_handler\n      return fn(*args, **kwargs)\n    File \"/Library/Frameworks/Python.framework/Versions/3.10/lib/python3.10/site-packages/keras/engine/training.py\", line 557, in __call__\n      return super().__call__(*args, **kwargs)\n    File \"/Library/Frameworks/Python.framework/Versions/3.10/lib/python3.10/site-packages/keras/utils/traceback_utils.py\", line 65, in error_handler\n      return fn(*args, **kwargs)\n    File \"/Library/Frameworks/Python.framework/Versions/3.10/lib/python3.10/site-packages/keras/engine/base_layer.py\", line 1097, in __call__\n      outputs = call_fn(inputs, *args, **kwargs)\n    File \"/Library/Frameworks/Python.framework/Versions/3.10/lib/python3.10/site-packages/keras/utils/traceback_utils.py\", line 96, in error_handler\n      return fn(*args, **kwargs)\n    File \"/Library/Frameworks/Python.framework/Versions/3.10/lib/python3.10/site-packages/keras/engine/sequential.py\", line 410, in call\n      return super().call(inputs, training=training, mask=mask)\n    File \"/Library/Frameworks/Python.framework/Versions/3.10/lib/python3.10/site-packages/keras/engine/functional.py\", line 510, in call\n      return self._run_internal_graph(inputs, training=training, mask=mask)\n    File \"/Library/Frameworks/Python.framework/Versions/3.10/lib/python3.10/site-packages/keras/engine/functional.py\", line 667, in _run_internal_graph\n      outputs = node.layer(*args, **kwargs)\n    File \"/Library/Frameworks/Python.framework/Versions/3.10/lib/python3.10/site-packages/keras/utils/traceback_utils.py\", line 65, in error_handler\n      return fn(*args, **kwargs)\n    File \"/Library/Frameworks/Python.framework/Versions/3.10/lib/python3.10/site-packages/keras/engine/base_layer.py\", line 1097, in __call__\n      outputs = call_fn(inputs, *args, **kwargs)\n    File \"/Library/Frameworks/Python.framework/Versions/3.10/lib/python3.10/site-packages/keras/utils/traceback_utils.py\", line 96, in error_handler\n      return fn(*args, **kwargs)\n    File \"/Library/Frameworks/Python.framework/Versions/3.10/lib/python3.10/site-packages/keras/layers/reshaping/flatten.py\", line 104, in call\n      return tf.reshape(inputs, flattened_shape)\nNode: 'sequential_15/flatten_15/Reshape'\nInput to reshape is a tensor with 104832 values, but the requested shape requires a multiple of 121\n\t [[{{node sequential_15/flatten_15/Reshape}}]] [Op:__inference_predict_function_5654]",
     "output_type": "error",
     "traceback": [
      "\u001b[0;31m---------------------------------------------------------------------------\u001b[0m",
      "\u001b[0;31mInvalidArgumentError\u001b[0m                      Traceback (most recent call last)",
      "\u001b[1;32m/Users/pengjunming/StudyInfos/Master/Bayes/Term2/SMM768 Applied Deep Learning /SMM768_MTP/MTP_v3.ipynb Cell 22\u001b[0m in \u001b[0;36m1\n\u001b[0;32m----> <a href='vscode-notebook-cell:/Users/pengjunming/StudyInfos/Master/Bayes/Term2/SMM768%20Applied%20Deep%20Learning%20/SMM768_MTP/MTP_v3.ipynb#X35sZmlsZQ%3D%3D?line=0'>1</a>\u001b[0m y_pred \u001b[39m=\u001b[39m final_model\u001b[39m.\u001b[39mpredict(X_test\u001b[39m.\u001b[39mT)\n\u001b[1;32m      <a href='vscode-notebook-cell:/Users/pengjunming/StudyInfos/Master/Bayes/Term2/SMM768%20Applied%20Deep%20Learning%20/SMM768_MTP/MTP_v3.ipynb#X35sZmlsZQ%3D%3D?line=1'>2</a>\u001b[0m y_pred \u001b[39m=\u001b[39m y_pred\u001b[39m.\u001b[39mravel()\n\u001b[1;32m      <a href='vscode-notebook-cell:/Users/pengjunming/StudyInfos/Master/Bayes/Term2/SMM768%20Applied%20Deep%20Learning%20/SMM768_MTP/MTP_v3.ipynb#X35sZmlsZQ%3D%3D?line=3'>4</a>\u001b[0m mse \u001b[39m=\u001b[39m np\u001b[39m.\u001b[39msum((y_pred \u001b[39m-\u001b[39m Y_test) \u001b[39m*\u001b[39m\u001b[39m*\u001b[39m \u001b[39m2\u001b[39m) \u001b[39m/\u001b[39m \u001b[39mlen\u001b[39m(y_pred)\n",
      "File \u001b[0;32m/Library/Frameworks/Python.framework/Versions/3.10/lib/python3.10/site-packages/keras/utils/traceback_utils.py:70\u001b[0m, in \u001b[0;36mfilter_traceback.<locals>.error_handler\u001b[0;34m(*args, **kwargs)\u001b[0m\n\u001b[1;32m     67\u001b[0m     filtered_tb \u001b[39m=\u001b[39m _process_traceback_frames(e\u001b[39m.\u001b[39m__traceback__)\n\u001b[1;32m     68\u001b[0m     \u001b[39m# To get the full stack trace, call:\u001b[39;00m\n\u001b[1;32m     69\u001b[0m     \u001b[39m# `tf.debugging.disable_traceback_filtering()`\u001b[39;00m\n\u001b[0;32m---> 70\u001b[0m     \u001b[39mraise\u001b[39;00m e\u001b[39m.\u001b[39mwith_traceback(filtered_tb) \u001b[39mfrom\u001b[39;00m \u001b[39mNone\u001b[39m\n\u001b[1;32m     71\u001b[0m \u001b[39mfinally\u001b[39;00m:\n\u001b[1;32m     72\u001b[0m     \u001b[39mdel\u001b[39;00m filtered_tb\n",
      "File \u001b[0;32m/Library/Frameworks/Python.framework/Versions/3.10/lib/python3.10/site-packages/tensorflow/python/eager/execute.py:54\u001b[0m, in \u001b[0;36mquick_execute\u001b[0;34m(op_name, num_outputs, inputs, attrs, ctx, name)\u001b[0m\n\u001b[1;32m     52\u001b[0m \u001b[39mtry\u001b[39;00m:\n\u001b[1;32m     53\u001b[0m   ctx\u001b[39m.\u001b[39mensure_initialized()\n\u001b[0;32m---> 54\u001b[0m   tensors \u001b[39m=\u001b[39m pywrap_tfe\u001b[39m.\u001b[39mTFE_Py_Execute(ctx\u001b[39m.\u001b[39m_handle, device_name, op_name,\n\u001b[1;32m     55\u001b[0m                                       inputs, attrs, num_outputs)\n\u001b[1;32m     56\u001b[0m \u001b[39mexcept\u001b[39;00m core\u001b[39m.\u001b[39m_NotOkStatusException \u001b[39mas\u001b[39;00m e:\n\u001b[1;32m     57\u001b[0m   \u001b[39mif\u001b[39;00m name \u001b[39mis\u001b[39;00m \u001b[39mnot\u001b[39;00m \u001b[39mNone\u001b[39;00m:\n",
      "\u001b[0;31mInvalidArgumentError\u001b[0m: Graph execution error:\n\nDetected at node 'sequential_15/flatten_15/Reshape' defined at (most recent call last):\n    File \"/Library/Frameworks/Python.framework/Versions/3.10/lib/python3.10/runpy.py\", line 196, in _run_module_as_main\n      return _run_code(code, main_globals, None,\n    File \"/Library/Frameworks/Python.framework/Versions/3.10/lib/python3.10/runpy.py\", line 86, in _run_code\n      exec(code, run_globals)\n    File \"/Library/Frameworks/Python.framework/Versions/3.10/lib/python3.10/site-packages/ipykernel_launcher.py\", line 17, in <module>\n      app.launch_new_instance()\n    File \"/Library/Frameworks/Python.framework/Versions/3.10/lib/python3.10/site-packages/traitlets/config/application.py\", line 978, in launch_instance\n      app.start()\n    File \"/Library/Frameworks/Python.framework/Versions/3.10/lib/python3.10/site-packages/ipykernel/kernelapp.py\", line 712, in start\n      self.io_loop.start()\n    File \"/Library/Frameworks/Python.framework/Versions/3.10/lib/python3.10/site-packages/tornado/platform/asyncio.py\", line 215, in start\n      self.asyncio_loop.run_forever()\n    File \"/Library/Frameworks/Python.framework/Versions/3.10/lib/python3.10/asyncio/base_events.py\", line 595, in run_forever\n      self._run_once()\n    File \"/Library/Frameworks/Python.framework/Versions/3.10/lib/python3.10/asyncio/base_events.py\", line 1881, in _run_once\n      handle._run()\n    File \"/Library/Frameworks/Python.framework/Versions/3.10/lib/python3.10/asyncio/events.py\", line 80, in _run\n      self._context.run(self._callback, *self._args)\n    File \"/Library/Frameworks/Python.framework/Versions/3.10/lib/python3.10/site-packages/ipykernel/kernelbase.py\", line 510, in dispatch_queue\n      await self.process_one()\n    File \"/Library/Frameworks/Python.framework/Versions/3.10/lib/python3.10/site-packages/ipykernel/kernelbase.py\", line 499, in process_one\n      await dispatch(*args)\n    File \"/Library/Frameworks/Python.framework/Versions/3.10/lib/python3.10/site-packages/ipykernel/kernelbase.py\", line 406, in dispatch_shell\n      await result\n    File \"/Library/Frameworks/Python.framework/Versions/3.10/lib/python3.10/site-packages/ipykernel/kernelbase.py\", line 730, in execute_request\n      reply_content = await reply_content\n    File \"/Library/Frameworks/Python.framework/Versions/3.10/lib/python3.10/site-packages/ipykernel/ipkernel.py\", line 383, in do_execute\n      res = shell.run_cell(\n    File \"/Library/Frameworks/Python.framework/Versions/3.10/lib/python3.10/site-packages/ipykernel/zmqshell.py\", line 528, in run_cell\n      return super().run_cell(*args, **kwargs)\n    File \"/Library/Frameworks/Python.framework/Versions/3.10/lib/python3.10/site-packages/IPython/core/interactiveshell.py\", line 2885, in run_cell\n      result = self._run_cell(\n    File \"/Library/Frameworks/Python.framework/Versions/3.10/lib/python3.10/site-packages/IPython/core/interactiveshell.py\", line 2940, in _run_cell\n      return runner(coro)\n    File \"/Library/Frameworks/Python.framework/Versions/3.10/lib/python3.10/site-packages/IPython/core/async_helpers.py\", line 129, in _pseudo_sync_runner\n      coro.send(None)\n    File \"/Library/Frameworks/Python.framework/Versions/3.10/lib/python3.10/site-packages/IPython/core/interactiveshell.py\", line 3139, in run_cell_async\n      has_raised = await self.run_ast_nodes(code_ast.body, cell_name,\n    File \"/Library/Frameworks/Python.framework/Versions/3.10/lib/python3.10/site-packages/IPython/core/interactiveshell.py\", line 3318, in run_ast_nodes\n      if await self.run_code(code, result, async_=asy):\n    File \"/Library/Frameworks/Python.framework/Versions/3.10/lib/python3.10/site-packages/IPython/core/interactiveshell.py\", line 3378, in run_code\n      exec(code_obj, self.user_global_ns, self.user_ns)\n    File \"/var/folders/k6/934yyy2n5_vf8y3c9cw39gcr0000gn/T/ipykernel_10508/4054905396.py\", line 1, in <module>\n      y_pred = final_model.predict(X_test.T)\n    File \"/Library/Frameworks/Python.framework/Versions/3.10/lib/python3.10/site-packages/keras/utils/traceback_utils.py\", line 65, in error_handler\n      return fn(*args, **kwargs)\n    File \"/Library/Frameworks/Python.framework/Versions/3.10/lib/python3.10/site-packages/keras/engine/training.py\", line 2253, in predict\n      tmp_batch_outputs = self.predict_function(iterator)\n    File \"/Library/Frameworks/Python.framework/Versions/3.10/lib/python3.10/site-packages/keras/engine/training.py\", line 2041, in predict_function\n      return step_function(self, iterator)\n    File \"/Library/Frameworks/Python.framework/Versions/3.10/lib/python3.10/site-packages/keras/engine/training.py\", line 2027, in step_function\n      outputs = model.distribute_strategy.run(run_step, args=(data,))\n    File \"/Library/Frameworks/Python.framework/Versions/3.10/lib/python3.10/site-packages/keras/engine/training.py\", line 2015, in run_step\n      outputs = model.predict_step(data)\n    File \"/Library/Frameworks/Python.framework/Versions/3.10/lib/python3.10/site-packages/keras/engine/training.py\", line 1983, in predict_step\n      return self(x, training=False)\n    File \"/Library/Frameworks/Python.framework/Versions/3.10/lib/python3.10/site-packages/keras/utils/traceback_utils.py\", line 65, in error_handler\n      return fn(*args, **kwargs)\n    File \"/Library/Frameworks/Python.framework/Versions/3.10/lib/python3.10/site-packages/keras/engine/training.py\", line 557, in __call__\n      return super().__call__(*args, **kwargs)\n    File \"/Library/Frameworks/Python.framework/Versions/3.10/lib/python3.10/site-packages/keras/utils/traceback_utils.py\", line 65, in error_handler\n      return fn(*args, **kwargs)\n    File \"/Library/Frameworks/Python.framework/Versions/3.10/lib/python3.10/site-packages/keras/engine/base_layer.py\", line 1097, in __call__\n      outputs = call_fn(inputs, *args, **kwargs)\n    File \"/Library/Frameworks/Python.framework/Versions/3.10/lib/python3.10/site-packages/keras/utils/traceback_utils.py\", line 96, in error_handler\n      return fn(*args, **kwargs)\n    File \"/Library/Frameworks/Python.framework/Versions/3.10/lib/python3.10/site-packages/keras/engine/sequential.py\", line 410, in call\n      return super().call(inputs, training=training, mask=mask)\n    File \"/Library/Frameworks/Python.framework/Versions/3.10/lib/python3.10/site-packages/keras/engine/functional.py\", line 510, in call\n      return self._run_internal_graph(inputs, training=training, mask=mask)\n    File \"/Library/Frameworks/Python.framework/Versions/3.10/lib/python3.10/site-packages/keras/engine/functional.py\", line 667, in _run_internal_graph\n      outputs = node.layer(*args, **kwargs)\n    File \"/Library/Frameworks/Python.framework/Versions/3.10/lib/python3.10/site-packages/keras/utils/traceback_utils.py\", line 65, in error_handler\n      return fn(*args, **kwargs)\n    File \"/Library/Frameworks/Python.framework/Versions/3.10/lib/python3.10/site-packages/keras/engine/base_layer.py\", line 1097, in __call__\n      outputs = call_fn(inputs, *args, **kwargs)\n    File \"/Library/Frameworks/Python.framework/Versions/3.10/lib/python3.10/site-packages/keras/utils/traceback_utils.py\", line 96, in error_handler\n      return fn(*args, **kwargs)\n    File \"/Library/Frameworks/Python.framework/Versions/3.10/lib/python3.10/site-packages/keras/layers/reshaping/flatten.py\", line 104, in call\n      return tf.reshape(inputs, flattened_shape)\nNode: 'sequential_15/flatten_15/Reshape'\nInput to reshape is a tensor with 104832 values, but the requested shape requires a multiple of 121\n\t [[{{node sequential_15/flatten_15/Reshape}}]] [Op:__inference_predict_function_5654]"
     ]
    }
   ],
   "source": [
    "y_pred = final_model.predict(X_test.T)\n",
    "y_pred = y_pred.ravel()\n",
    "\n",
    "mse = np.sum((y_pred - Y_test) ** 2) / len(y_pred)\n",
    "print(\"Mean square error: \", mse)\n",
    "\n",
    "opt_thresh = opt_threshold(final_model) \n",
    "\n",
    "y_pred = [1 if p > opt_thresh else 0 for p in y_pred]\n",
    "\n",
    "hits = sum(Y_test & y_pred)\n",
    "\n",
    "hit_rate = hits / np.sum(y_pred)\n",
    "detection_rate = np.sum(y_pred) / len(y_pred)\n",
    "\n",
    "print(\"Threshold-------------------------:\", opt_thresh)\n",
    "print(\"Number of predicted frauds--------:\", np.sum(y_pred))\n",
    "print(\"Total number of frauds in testset-:\", np.sum(Y_test))\n",
    "print(\"Number of predicted frauds hit----:\", hits)\n",
    "print(\"Hit rate--------------------------:\", hit_rate)\n",
    "print(\"Detection rate--------------------:\", detection_rate)"
   ]
  },
  {
   "cell_type": "code",
   "execution_count": null,
   "metadata": {},
   "outputs": [],
   "source": []
  }
 ],
 "metadata": {
  "interpreter": {
   "hash": "aee8b7b246df8f9039afb4144a1f6fd8d2ca17a180786b69acc140d282b71a49"
  },
  "kernelspec": {
   "display_name": "Python 3.10.1 64-bit",
   "language": "python",
   "name": "python3"
  },
  "language_info": {
   "codemirror_mode": {
    "name": "ipython",
    "version": 3
   },
   "file_extension": ".py",
   "mimetype": "text/x-python",
   "name": "python",
   "nbconvert_exporter": "python",
   "pygments_lexer": "ipython3",
   "version": "3.10.1"
  },
  "orig_nbformat": 4
 },
 "nbformat": 4,
 "nbformat_minor": 2
}
