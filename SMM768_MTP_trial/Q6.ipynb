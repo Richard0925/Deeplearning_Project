{
 "cells": [
  {
   "cell_type": "code",
   "execution_count": 1,
   "id": "68021f75",
   "metadata": {
    "ExecuteTime": {
     "end_time": "2023-03-06T17:32:54.509289Z",
     "start_time": "2023-03-06T17:32:47.358975Z"
    }
   },
   "outputs": [],
   "source": [
    "import numpy as np\n",
    "import pandas as pd\n",
    "import pandas_profiling\n",
    "\n",
    "import matplotlib.pyplot as plt\n",
    "import matplotlib as mpl\n",
    "\n",
    "import sklearn\n",
    "from sklearn.metrics import confusion_matrix\n",
    "from sklearn.preprocessing import StandardScaler\n",
    "from sklearn.model_selection import train_test_split\n",
    "from sklearn import metrics\n",
    "from sklearn import preprocessing\n",
    "\n",
    "import tensorflow as tf\n",
    "from tensorflow import keras\n",
    "import keras_tuner as kt\n",
    "\n",
    "import os\n",
    "import tempfile\n",
    "\n",
    "import seaborn as sns"
   ]
  },
  {
   "cell_type": "markdown",
   "id": "e1dab977",
   "metadata": {},
   "source": [
    "# import cleaned data"
   ]
  },
  {
   "cell_type": "code",
   "execution_count": 2,
   "id": "1205d1aa",
   "metadata": {
    "ExecuteTime": {
     "end_time": "2023-03-06T17:32:54.633583Z",
     "start_time": "2023-03-06T17:32:54.511288Z"
    }
   },
   "outputs": [
    {
     "data": {
      "text/html": [
       "<div>\n",
       "<style scoped>\n",
       "    .dataframe tbody tr th:only-of-type {\n",
       "        vertical-align: middle;\n",
       "    }\n",
       "\n",
       "    .dataframe tbody tr th {\n",
       "        vertical-align: top;\n",
       "    }\n",
       "\n",
       "    .dataframe thead th {\n",
       "        text-align: right;\n",
       "    }\n",
       "</style>\n",
       "<table border=\"1\" class=\"dataframe\">\n",
       "  <thead>\n",
       "    <tr style=\"text-align: right;\">\n",
       "      <th></th>\n",
       "      <th>Unnamed: 0</th>\n",
       "      <th>FirstPartyVehicleNumber</th>\n",
       "      <th>ThirdPartyVehicleNumber</th>\n",
       "      <th>DamageImportance</th>\n",
       "      <th>PolicyWasSubscribedOnInternet</th>\n",
       "      <th>NumberOfPoliciesOfPolicyholder</th>\n",
       "      <th>FpVehicleAgeMonths</th>\n",
       "      <th>EasinessToStage</th>\n",
       "      <th>ClaimWihoutIdentifiedThirdParty</th>\n",
       "      <th>ClaimAmount</th>\n",
       "      <th>...</th>\n",
       "      <th>ClaimInvolvedCovers_Windscreen Theft</th>\n",
       "      <th>FirstPartyVehicleType_Car</th>\n",
       "      <th>FirstPartyVehicleType_Caravan</th>\n",
       "      <th>FirstPartyVehicleType_Motorcycle</th>\n",
       "      <th>FirstPartyVehicleType_PrivateCar</th>\n",
       "      <th>ConnectionBetweenParties_SameAddress</th>\n",
       "      <th>ConnectionBetweenParties_SameBankAccount</th>\n",
       "      <th>ConnectionBetweenParties_SameEmail</th>\n",
       "      <th>ConnectionBetweenParties_SamePhone</th>\n",
       "      <th>ConnectionBetweenParties_SamePolice</th>\n",
       "    </tr>\n",
       "  </thead>\n",
       "  <tbody>\n",
       "    <tr>\n",
       "      <th>0</th>\n",
       "      <td>0</td>\n",
       "      <td>0.0</td>\n",
       "      <td>0</td>\n",
       "      <td>0</td>\n",
       "      <td>1</td>\n",
       "      <td>1</td>\n",
       "      <td>104.0</td>\n",
       "      <td>0.25</td>\n",
       "      <td>1</td>\n",
       "      <td>4624.73</td>\n",
       "      <td>...</td>\n",
       "      <td>0</td>\n",
       "      <td>1</td>\n",
       "      <td>0</td>\n",
       "      <td>0</td>\n",
       "      <td>0</td>\n",
       "      <td>0</td>\n",
       "      <td>0</td>\n",
       "      <td>0</td>\n",
       "      <td>0</td>\n",
       "      <td>0</td>\n",
       "    </tr>\n",
       "    <tr>\n",
       "      <th>1</th>\n",
       "      <td>1</td>\n",
       "      <td>0.0</td>\n",
       "      <td>0</td>\n",
       "      <td>0</td>\n",
       "      <td>0</td>\n",
       "      <td>3</td>\n",
       "      <td>230.0</td>\n",
       "      <td>0.50</td>\n",
       "      <td>1</td>\n",
       "      <td>1606.81</td>\n",
       "      <td>...</td>\n",
       "      <td>0</td>\n",
       "      <td>1</td>\n",
       "      <td>0</td>\n",
       "      <td>0</td>\n",
       "      <td>0</td>\n",
       "      <td>0</td>\n",
       "      <td>0</td>\n",
       "      <td>0</td>\n",
       "      <td>0</td>\n",
       "      <td>0</td>\n",
       "    </tr>\n",
       "    <tr>\n",
       "      <th>2</th>\n",
       "      <td>2</td>\n",
       "      <td>0.0</td>\n",
       "      <td>0</td>\n",
       "      <td>0</td>\n",
       "      <td>0</td>\n",
       "      <td>9</td>\n",
       "      <td>93.0</td>\n",
       "      <td>0.25</td>\n",
       "      <td>0</td>\n",
       "      <td>998.20</td>\n",
       "      <td>...</td>\n",
       "      <td>0</td>\n",
       "      <td>1</td>\n",
       "      <td>0</td>\n",
       "      <td>0</td>\n",
       "      <td>0</td>\n",
       "      <td>0</td>\n",
       "      <td>0</td>\n",
       "      <td>0</td>\n",
       "      <td>0</td>\n",
       "      <td>0</td>\n",
       "    </tr>\n",
       "    <tr>\n",
       "      <th>3</th>\n",
       "      <td>3</td>\n",
       "      <td>0.0</td>\n",
       "      <td>0</td>\n",
       "      <td>0</td>\n",
       "      <td>0</td>\n",
       "      <td>2</td>\n",
       "      <td>56.0</td>\n",
       "      <td>0.25</td>\n",
       "      <td>0</td>\n",
       "      <td>2506.92</td>\n",
       "      <td>...</td>\n",
       "      <td>0</td>\n",
       "      <td>1</td>\n",
       "      <td>0</td>\n",
       "      <td>0</td>\n",
       "      <td>0</td>\n",
       "      <td>0</td>\n",
       "      <td>0</td>\n",
       "      <td>0</td>\n",
       "      <td>0</td>\n",
       "      <td>0</td>\n",
       "    </tr>\n",
       "    <tr>\n",
       "      <th>4</th>\n",
       "      <td>4</td>\n",
       "      <td>0.0</td>\n",
       "      <td>1</td>\n",
       "      <td>0</td>\n",
       "      <td>0</td>\n",
       "      <td>4</td>\n",
       "      <td>110.0</td>\n",
       "      <td>0.25</td>\n",
       "      <td>0</td>\n",
       "      <td>12.00</td>\n",
       "      <td>...</td>\n",
       "      <td>0</td>\n",
       "      <td>1</td>\n",
       "      <td>0</td>\n",
       "      <td>0</td>\n",
       "      <td>0</td>\n",
       "      <td>0</td>\n",
       "      <td>0</td>\n",
       "      <td>0</td>\n",
       "      <td>0</td>\n",
       "      <td>0</td>\n",
       "    </tr>\n",
       "  </tbody>\n",
       "</table>\n",
       "<p>5 rows × 123 columns</p>\n",
       "</div>"
      ],
      "text/plain": [
       "   Unnamed: 0  FirstPartyVehicleNumber  ThirdPartyVehicleNumber  \\\n",
       "0           0                      0.0                        0   \n",
       "1           1                      0.0                        0   \n",
       "2           2                      0.0                        0   \n",
       "3           3                      0.0                        0   \n",
       "4           4                      0.0                        1   \n",
       "\n",
       "   DamageImportance  PolicyWasSubscribedOnInternet  \\\n",
       "0                 0                              1   \n",
       "1                 0                              0   \n",
       "2                 0                              0   \n",
       "3                 0                              0   \n",
       "4                 0                              0   \n",
       "\n",
       "   NumberOfPoliciesOfPolicyholder  FpVehicleAgeMonths  EasinessToStage  \\\n",
       "0                               1               104.0             0.25   \n",
       "1                               3               230.0             0.50   \n",
       "2                               9                93.0             0.25   \n",
       "3                               2                56.0             0.25   \n",
       "4                               4               110.0             0.25   \n",
       "\n",
       "   ClaimWihoutIdentifiedThirdParty  ClaimAmount  ...  \\\n",
       "0                                1      4624.73  ...   \n",
       "1                                1      1606.81  ...   \n",
       "2                                0       998.20  ...   \n",
       "3                                0      2506.92  ...   \n",
       "4                                0        12.00  ...   \n",
       "\n",
       "   ClaimInvolvedCovers_Windscreen Theft  FirstPartyVehicleType_Car  \\\n",
       "0                                     0                          1   \n",
       "1                                     0                          1   \n",
       "2                                     0                          1   \n",
       "3                                     0                          1   \n",
       "4                                     0                          1   \n",
       "\n",
       "   FirstPartyVehicleType_Caravan  FirstPartyVehicleType_Motorcycle  \\\n",
       "0                              0                                 0   \n",
       "1                              0                                 0   \n",
       "2                              0                                 0   \n",
       "3                              0                                 0   \n",
       "4                              0                                 0   \n",
       "\n",
       "   FirstPartyVehicleType_PrivateCar  ConnectionBetweenParties_SameAddress  \\\n",
       "0                                 0                                     0   \n",
       "1                                 0                                     0   \n",
       "2                                 0                                     0   \n",
       "3                                 0                                     0   \n",
       "4                                 0                                     0   \n",
       "\n",
       "   ConnectionBetweenParties_SameBankAccount  \\\n",
       "0                                         0   \n",
       "1                                         0   \n",
       "2                                         0   \n",
       "3                                         0   \n",
       "4                                         0   \n",
       "\n",
       "   ConnectionBetweenParties_SameEmail  ConnectionBetweenParties_SamePhone  \\\n",
       "0                                   0                                   0   \n",
       "1                                   0                                   0   \n",
       "2                                   0                                   0   \n",
       "3                                   0                                   0   \n",
       "4                                   0                                   0   \n",
       "\n",
       "   ConnectionBetweenParties_SamePolice  \n",
       "0                                    0  \n",
       "1                                    0  \n",
       "2                                    0  \n",
       "3                                    0  \n",
       "4                                    0  \n",
       "\n",
       "[5 rows x 123 columns]"
      ]
     },
     "execution_count": 2,
     "metadata": {},
     "output_type": "execute_result"
    }
   ],
   "source": [
    "insurance_df = pd.read_csv(\"insurance_new.csv\")\n",
    "insurance_df.head()"
   ]
  },
  {
   "cell_type": "markdown",
   "id": "3853f8d0",
   "metadata": {},
   "source": [
    "# Data split & normalisation"
   ]
  },
  {
   "cell_type": "code",
   "execution_count": 3,
   "id": "4b890f65",
   "metadata": {
    "ExecuteTime": {
     "end_time": "2023-03-06T17:49:31.259523Z",
     "start_time": "2023-03-06T17:49:31.187186Z"
    },
    "scrolled": true
   },
   "outputs": [
    {
     "name": "stdout",
     "output_type": "stream",
     "text": [
      "X with fraud: (115, 122)\n",
      "X without fraud: (11415, 122)\n",
      "proportion: 0.010074463425317565\n",
      "Train: (6849, 122)\n",
      "Other: (4566, 122)\n",
      "Test_n: (3196, 122)\n",
      "Vali_n: (1370, 122)\n",
      "Test_y: (80, 122)\n",
      "Vali_y: (35, 122)\n",
      "Train: (6849, 121)\n",
      "Test: (3276, 121)\n",
      "Vali: (1405, 121)\n"
     ]
    }
   ],
   "source": [
    "# Divide fraudulent and non-fraudulent observations\n",
    "df_frau = insurance_df.loc[insurance_df[\"Fraud\"]==1]\n",
    "df_nofr = insurance_df.loc[insurance_df[\"Fraud\"]==0]\n",
    "# Build X set and y set\n",
    "X_frau = df_frau.drop(columns = [\"Fraud\"])\n",
    "Y_frau = df_frau[\"Fraud\"]\n",
    "X_nofr = df_nofr.drop(columns = [\"Fraud\"])\n",
    "Y_nofr = df_nofr[\"Fraud\"]\n",
    "print(\"X with fraud:\", X_frau.shape)\n",
    "print(\"X without fraud:\", X_nofr.shape)\n",
    "print(\"proportion:\", X_frau.shape[0]/X_nofr.shape[0])\n",
    "\n",
    "# Split Train & Other dataset without fraudulent observations\n",
    "X_train, X_other, Y_train, Y_other = train_test_split(X_nofr, Y_nofr, test_size=0.4, random_state = 111)\n",
    "print(\"Train:\",X_train.shape)\n",
    "print(\"Other:\",X_other.shape)\n",
    "# Split Vali & Test dataset without fraudulent observations\n",
    "X_test_n, X_vali_n, Y_test_n, Y_vali_n = train_test_split(X_other, Y_other, test_size=0.3, random_state = 111)\n",
    "print(\"Test_n:\",X_test_n.shape)\n",
    "print(\"Vali_n:\", X_vali_n.shape)\n",
    "\n",
    "# Split fraudulent observations equally\n",
    "X_test_y, X_vali_y, Y_test_y, Y_vali_y = train_test_split(X_frau, Y_frau, test_size=0.3, random_state = 111)\n",
    "print(\"Test_y:\",X_test_y.shape)\n",
    "print(\"Vali_y:\", X_vali_y.shape)\n",
    "\n",
    "# Concate observations with / without fraudulent observations in test & vali dataset\n",
    "X_test = pd.concat([X_test_n, X_test_y], axis = 0, ignore_index = True)\n",
    "Y_test = pd.concat([Y_test_n, Y_test_y], axis = 0, ignore_index = True)\n",
    "X_vali = pd.concat([X_vali_n, X_vali_y], axis = 0, ignore_index = True)\n",
    "Y_vali = pd.concat([Y_vali_n, Y_vali_y], axis = 0, ignore_index = True)\n",
    "# Drop the \"ID\" column\n",
    "X_train = X_train.drop(columns = [\"Unnamed: 0\"])\n",
    "Y_train = Y_train.drop(columns = [\"Unnamed: 0\"])\n",
    "X_test = X_test.drop(columns = [\"Unnamed: 0\"])\n",
    "Y_test = Y_test.drop(columns = [\"Unnamed: 0\"])\n",
    "X_vali = X_vali.drop(columns = [\"Unnamed: 0\"])\n",
    "Y_vali = Y_vali.drop(columns = [\"Unnamed: 0\"])\n",
    "print(\"Train:\",X_train.shape)\n",
    "print(\"Test:\",X_test.shape)\n",
    "print(\"Vali:\", X_vali.shape)"
   ]
  },
  {
   "cell_type": "code",
   "execution_count": 4,
   "id": "68a36796",
   "metadata": {
    "ExecuteTime": {
     "end_time": "2023-03-06T17:49:33.148303Z",
     "start_time": "2023-03-06T17:49:33.106349Z"
    },
    "scrolled": true
   },
   "outputs": [],
   "source": [
    "# Normalisation, turn the dataframe into arrays\n",
    "scaler = StandardScaler()\n",
    "X_strain = scaler.fit_transform(X_train)\n",
    "X_stest = scaler.transform(X_test)\n",
    "X_svali = scaler.transform(X_vali)"
   ]
  },
  {
   "cell_type": "code",
   "execution_count": 5,
   "id": "6e5f1bc4",
   "metadata": {
    "ExecuteTime": {
     "end_time": "2023-03-06T17:49:36.354546Z",
     "start_time": "2023-03-06T17:49:36.337545Z"
    }
   },
   "outputs": [
    {
     "name": "stdout",
     "output_type": "stream",
     "text": [
      "82.75264346230882 -4.315627629188006\n",
      "82.75264346230881 -4.315627629188006\n",
      "82.75264346230881 -4.315627629188006\n"
     ]
    }
   ],
   "source": [
    "# Divide each datasets by the maximun number in the list to make sure values are ranged from 0 to 1\n",
    "print(X_strain.max(), X_strain.min())\n",
    "print(X_svali.max(), X_svali.min())\n",
    "print(X_stest.max(), X_stest.min())"
   ]
  },
  {
   "cell_type": "code",
   "execution_count": 6,
   "id": "1f5c3f23",
   "metadata": {
    "ExecuteTime": {
     "end_time": "2023-03-06T17:49:41.238471Z",
     "start_time": "2023-03-06T17:49:41.220643Z"
    }
   },
   "outputs": [
    {
     "data": {
      "text/plain": [
       "array([[-0.00567341, -0.00222715, -0.00308181, ..., -0.00020653,\n",
       "        -0.00020653, -0.00038652],\n",
       "       [ 0.02573903, -0.00222715,  0.04865182, ..., -0.00020653,\n",
       "        -0.00020653, -0.00038652],\n",
       "       [ 0.02573903, -0.00222715, -0.00308181, ..., -0.00020653,\n",
       "        -0.00020653, -0.00038652],\n",
       "       ...,\n",
       "       [-0.00567341, -0.00222715, -0.00308181, ..., -0.00020653,\n",
       "        -0.00020653, -0.00038652],\n",
       "       [-0.00567341, -0.00222715, -0.00308181, ..., -0.00020653,\n",
       "        -0.00020653, -0.00038652],\n",
       "       [-0.00567341, -0.00222715,  0.04865182, ..., -0.00020653,\n",
       "        -0.00020653, -0.00038652]])"
      ]
     },
     "execution_count": 6,
     "metadata": {},
     "output_type": "execute_result"
    }
   ],
   "source": [
    "# Save the value of the largest absolute value in all dataset as the scaler\n",
    "scaler_to1 = X_strain.max()\n",
    "\n",
    "# Scale datasets with the same standard: scaler_to1\n",
    "X_atrain = X_strain/scaler_to1\n",
    "X_avali = X_svali/scaler_to1\n",
    "X_atest = X_stest/scaler_to1\n",
    "X_atrain"
   ]
  },
  {
   "cell_type": "markdown",
   "id": "2f25fa2e",
   "metadata": {},
   "source": [
    "# Reshape the arrays"
   ]
  },
  {
   "cell_type": "code",
   "execution_count": 7,
   "id": "3e50907e",
   "metadata": {
    "ExecuteTime": {
     "end_time": "2023-03-06T17:32:54.854083Z",
     "start_time": "2023-03-06T17:32:54.837483Z"
    }
   },
   "outputs": [
    {
     "name": "stdout",
     "output_type": "stream",
     "text": [
      "(6849, 121) (1405, 121) (3276, 121)\n"
     ]
    }
   ],
   "source": [
    "# Reshape to make them be able to fit in convolutional layers later\n",
    "print(X_atrain.shape, X_avali.shape, X_atest.shape)"
   ]
  },
  {
   "cell_type": "code",
   "execution_count": 8,
   "id": "3b91dd2f",
   "metadata": {
    "ExecuteTime": {
     "end_time": "2023-03-06T17:32:54.868999Z",
     "start_time": "2023-03-06T17:32:54.856427Z"
    }
   },
   "outputs": [
    {
     "data": {
      "text/plain": [
       "(6849, 11, 11)"
      ]
     },
     "execution_count": 8,
     "metadata": {},
     "output_type": "execute_result"
    }
   ],
   "source": [
    "X_atrain = X_atrain.reshape(6849, 11, 11)\n",
    "X_avali = X_avali.reshape(1405, 11, 11)\n",
    "X_atest = X_atest.reshape(3276, 11, 11)\n",
    "X_atrain.shape"
   ]
  },
  {
   "cell_type": "markdown",
   "id": "167acf23",
   "metadata": {},
   "source": [
    "# Add noise to non fraud data"
   ]
  },
  {
   "cell_type": "code",
   "execution_count": 9,
   "id": "4d95aa1a",
   "metadata": {
    "ExecuteTime": {
     "end_time": "2023-03-06T17:32:54.999075Z",
     "start_time": "2023-03-06T17:32:54.873499Z"
    }
   },
   "outputs": [
    {
     "name": "stdout",
     "output_type": "stream",
     "text": [
      "Metal device set to: Apple M1 Pro\n",
      "\n",
      "systemMemory: 16.00 GB\n",
      "maxCacheSize: 5.33 GB\n",
      "\n"
     ]
    },
    {
     "name": "stderr",
     "output_type": "stream",
     "text": [
      "2023-03-06 19:46:44.712255: I tensorflow/core/common_runtime/pluggable_device/pluggable_device_factory.cc:306] Could not identify NUMA node of platform GPU ID 0, defaulting to 0. Your kernel may not have been built with NUMA support.\n",
      "2023-03-06 19:46:44.712426: I tensorflow/core/common_runtime/pluggable_device/pluggable_device_factory.cc:272] Created TensorFlow device (/job:localhost/replica:0/task:0/device:GPU:0 with 0 MB memory) -> physical PluggableDevice (device: 0, name: METAL, pci bus id: <undefined>)\n"
     ]
    },
    {
     "data": {
      "text/plain": [
       "<tf.Tensor: shape=(6849, 11, 11), dtype=float32, numpy=\n",
       "array([[[0.01850215, 0.        , 0.        , ..., 0.31514558,\n",
       "         0.        , 0.        ],\n",
       "        [0.32502565, 0.        , 0.        , ..., 0.        ,\n",
       "         0.        , 0.        ],\n",
       "        [0.1662599 , 0.        , 0.        , ..., 0.        ,\n",
       "         0.03931275, 0.09007964],\n",
       "        ...,\n",
       "        [0.16435398, 0.16049603, 0.        , ..., 0.14967664,\n",
       "         0.10703277, 0.0593923 ],\n",
       "        [0.39124954, 0.17048801, 0.11270314, ..., 0.15712154,\n",
       "         0.        , 0.        ],\n",
       "        [0.        , 0.17883512, 0.        , ..., 0.13169502,\n",
       "         0.14150414, 0.        ]],\n",
       "\n",
       "       [[0.31496692, 0.23072061, 0.14031741, ..., 0.        ,\n",
       "         0.38308468, 0.27668053],\n",
       "        [0.        , 0.07238409, 0.12962864, ..., 0.2100436 ,\n",
       "         0.        , 0.        ],\n",
       "        [0.11494353, 0.14819075, 0.15718687, ..., 0.        ,\n",
       "         0.00703775, 0.        ],\n",
       "        ...,\n",
       "        [0.17368068, 0.        , 0.        , ..., 0.        ,\n",
       "         0.        , 0.00889058],\n",
       "        [0.        , 0.        , 0.2163535 , ..., 0.37791488,\n",
       "         0.17055057, 0.15785111],\n",
       "        [0.        , 0.        , 0.        , ..., 0.        ,\n",
       "         0.0519654 , 0.        ]],\n",
       "\n",
       "       [[0.        , 0.09340966, 0.        , ..., 0.16938812,\n",
       "         0.        , 0.2953114 ],\n",
       "        [0.        , 0.        , 0.01180646, ..., 0.        ,\n",
       "         0.10541034, 0.03862419],\n",
       "        [0.2383218 , 0.        , 0.        , ..., 0.02621998,\n",
       "         0.        , 0.        ],\n",
       "        ...,\n",
       "        [0.27089766, 0.07756925, 0.        , ..., 0.        ,\n",
       "         0.        , 0.        ],\n",
       "        [0.        , 0.        , 0.06194386, ..., 0.        ,\n",
       "         0.        , 0.29072616],\n",
       "        [0.        , 0.33626464, 0.17426063, ..., 0.        ,\n",
       "         0.        , 0.0264282 ]],\n",
       "\n",
       "       ...,\n",
       "\n",
       "       [[0.        , 0.026335  , 0.        , ..., 0.07413782,\n",
       "         0.08741523, 0.        ],\n",
       "        [0.20628785, 0.        , 0.        , ..., 0.        ,\n",
       "         0.        , 0.        ],\n",
       "        [0.        , 0.        , 0.        , ..., 0.        ,\n",
       "         0.        , 0.        ],\n",
       "        ...,\n",
       "        [0.        , 0.        , 0.0666682 , ..., 0.        ,\n",
       "         0.24373718, 0.10883196],\n",
       "        [0.01267619, 0.        , 0.        , ..., 0.01038691,\n",
       "         0.1593814 , 0.        ],\n",
       "        [0.        , 0.06340662, 0.        , ..., 0.        ,\n",
       "         0.32377124, 0.09474495]],\n",
       "\n",
       "       [[0.        , 0.        , 0.        , ..., 0.        ,\n",
       "         0.        , 0.        ],\n",
       "        [0.        , 0.40768188, 0.03494654, ..., 0.0319309 ,\n",
       "         0.        , 0.06662279],\n",
       "        [0.24367464, 0.1501884 , 0.        , ..., 0.11982265,\n",
       "         0.        , 0.21552555],\n",
       "        ...,\n",
       "        [0.        , 0.22495554, 0.07379587, ..., 0.        ,\n",
       "         0.        , 0.        ],\n",
       "        [0.3154591 , 0.        , 0.        , ..., 0.06197133,\n",
       "         0.09741116, 0.        ],\n",
       "        [0.        , 0.01469204, 0.        , ..., 0.00277353,\n",
       "         0.2682039 , 0.        ]],\n",
       "\n",
       "       [[0.        , 0.11950383, 0.        , ..., 0.        ,\n",
       "         0.44331008, 0.        ],\n",
       "        [0.0383729 , 0.        , 0.        , ..., 0.2918024 ,\n",
       "         0.04930976, 0.2508611 ],\n",
       "        [0.3314918 , 0.40185767, 0.05998178, ..., 0.        ,\n",
       "         0.        , 0.        ],\n",
       "        ...,\n",
       "        [0.        , 0.0772805 , 0.        , ..., 0.        ,\n",
       "         0.        , 0.21742924],\n",
       "        [0.6280994 , 0.        , 0.14815581, ..., 0.20354183,\n",
       "         0.05566115, 0.        ],\n",
       "        [0.        , 0.        , 0.        , ..., 0.16761458,\n",
       "         0.28026703, 0.        ]]], dtype=float32)>"
      ]
     },
     "execution_count": 9,
     "metadata": {},
     "output_type": "execute_result"
    }
   ],
   "source": [
    "noise = 0.2\n",
    "\n",
    "X_train_noisy = X_atrain + noise * tf.random.normal(shape=X_atrain.shape) \n",
    "X_vali_noisy = X_avali + noise * tf.random.normal(shape=X_avali.shape)\n",
    "X_test_noisy = X_atest + noise * tf.random.normal(shape=X_atest.shape)\n",
    "\n",
    "X_train_noisy = tf.clip_by_value(X_train_noisy, clip_value_min=0., clip_value_max=1.)\n",
    "X_vali_noisy = tf.clip_by_value(X_vali_noisy, clip_value_min=0., clip_value_max=1.)\n",
    "X_test_noisy = tf.clip_by_value(X_test_noisy, clip_value_min=0., clip_value_max=1.)\n",
    "X_train_noisy"
   ]
  },
  {
   "cell_type": "markdown",
   "id": "8fa1e510",
   "metadata": {},
   "source": [
    "# Encoder & Decoder with convolutional layers"
   ]
  },
  {
   "cell_type": "code",
   "execution_count": 10,
   "id": "8bbb6ca1",
   "metadata": {
    "ExecuteTime": {
     "end_time": "2023-03-06T17:32:55.095037Z",
     "start_time": "2023-03-06T17:32:55.000075Z"
    }
   },
   "outputs": [],
   "source": [
    "encoder = tf.keras.Sequential([\n",
    "    tf.keras.layers.Reshape((11,11,1), input_shape=(11,11)),\n",
    "    tf.keras.layers.Conv2D(3, (3, 3), activation='relu', padding='valid', strides=2),\n",
    "    tf.keras.layers.Conv2D(1, (3, 3), activation='relu', padding='valid', strides=2)], name='encoder')"
   ]
  },
  {
   "cell_type": "code",
   "execution_count": 11,
   "id": "14e49243",
   "metadata": {
    "ExecuteTime": {
     "end_time": "2023-03-06T17:32:55.111065Z",
     "start_time": "2023-03-06T17:32:55.097553Z"
    }
   },
   "outputs": [],
   "source": [
    "decoder = tf.keras.Sequential([\n",
    "    tf.keras.layers.Conv2DTranspose(1, kernel_size=3, strides=2, activation='relu', padding='valid'),\n",
    "    tf.keras.layers.Conv2DTranspose(3, kernel_size=3, strides=2, activation='relu', padding='valid'),\n",
    "    tf.keras.layers.Conv2D(1, kernel_size=(3, 3), activation='sigmoid', padding='same')], name='decoder')"
   ]
  },
  {
   "cell_type": "markdown",
   "id": "df310b93",
   "metadata": {},
   "source": [
    "# Auto-encoder"
   ]
  },
  {
   "cell_type": "code",
   "execution_count": 12,
   "id": "c1f24913",
   "metadata": {
    "ExecuteTime": {
     "end_time": "2023-03-06T17:32:55.206108Z",
     "start_time": "2023-03-06T17:32:55.113065Z"
    }
   },
   "outputs": [],
   "source": [
    "autoencoder = tf.keras.Sequential([encoder,decoder])"
   ]
  },
  {
   "cell_type": "code",
   "execution_count": 13,
   "id": "9fdbf198",
   "metadata": {
    "ExecuteTime": {
     "end_time": "2023-03-06T17:32:55.221447Z",
     "start_time": "2023-03-06T17:32:55.207682Z"
    }
   },
   "outputs": [
    {
     "name": "stdout",
     "output_type": "stream",
     "text": [
      "Model: \"encoder\"\n",
      "_________________________________________________________________\n",
      " Layer (type)                Output Shape              Param #   \n",
      "=================================================================\n",
      " reshape (Reshape)           (None, 11, 11, 1)         0         \n",
      "                                                                 \n",
      " conv2d (Conv2D)             (None, 5, 5, 3)           30        \n",
      "                                                                 \n",
      " conv2d_1 (Conv2D)           (None, 2, 2, 1)           28        \n",
      "                                                                 \n",
      "=================================================================\n",
      "Total params: 58\n",
      "Trainable params: 58\n",
      "Non-trainable params: 0\n",
      "_________________________________________________________________\n"
     ]
    }
   ],
   "source": [
    "encoder.summary()"
   ]
  },
  {
   "cell_type": "code",
   "execution_count": 14,
   "id": "743d4877",
   "metadata": {
    "ExecuteTime": {
     "end_time": "2023-03-06T17:32:55.245917Z",
     "start_time": "2023-03-06T17:32:55.224447Z"
    }
   },
   "outputs": [
    {
     "name": "stdout",
     "output_type": "stream",
     "text": [
      "Model: \"decoder\"\n",
      "_________________________________________________________________\n",
      " Layer (type)                Output Shape              Param #   \n",
      "=================================================================\n",
      " conv2d_transpose (Conv2DTra  (None, 5, 5, 1)          10        \n",
      " nspose)                                                         \n",
      "                                                                 \n",
      " conv2d_transpose_1 (Conv2DT  (None, 11, 11, 3)        30        \n",
      " ranspose)                                                       \n",
      "                                                                 \n",
      " conv2d_2 (Conv2D)           (None, 11, 11, 1)         28        \n",
      "                                                                 \n",
      "=================================================================\n",
      "Total params: 68\n",
      "Trainable params: 68\n",
      "Non-trainable params: 0\n",
      "_________________________________________________________________\n"
     ]
    }
   ],
   "source": [
    "decoder.summary()"
   ]
  },
  {
   "cell_type": "code",
   "execution_count": 15,
   "id": "b05cc8f5",
   "metadata": {
    "ExecuteTime": {
     "end_time": "2023-03-06T17:32:55.264970Z",
     "start_time": "2023-03-06T17:32:55.247748Z"
    }
   },
   "outputs": [
    {
     "name": "stdout",
     "output_type": "stream",
     "text": [
      "Model: \"sequential\"\n",
      "_________________________________________________________________\n",
      " Layer (type)                Output Shape              Param #   \n",
      "=================================================================\n",
      " encoder (Sequential)        (None, 2, 2, 1)           58        \n",
      "                                                                 \n",
      " decoder (Sequential)        (None, 11, 11, 1)         68        \n",
      "                                                                 \n",
      "=================================================================\n",
      "Total params: 126\n",
      "Trainable params: 126\n",
      "Non-trainable params: 0\n",
      "_________________________________________________________________\n"
     ]
    }
   ],
   "source": [
    "autoencoder.summary()"
   ]
  },
  {
   "cell_type": "code",
   "execution_count": 16,
   "id": "50bb499f",
   "metadata": {},
   "outputs": [
    {
     "ename": "NameError",
     "evalue": "name 'train_model' is not defined",
     "output_type": "error",
     "traceback": [
      "\u001b[0;31m---------------------------------------------------------------------------\u001b[0m",
      "\u001b[0;31mNameError\u001b[0m                                 Traceback (most recent call last)",
      "\u001b[1;32m/Users/pengjunming/StudyInfos/Master/Bayes/Term2/SMM768 Applied Deep Learning /SMM768_MTP/Q6.ipynb Cell 22\u001b[0m in \u001b[0;36m2\n\u001b[1;32m      <a href='vscode-notebook-cell:/Users/pengjunming/StudyInfos/Master/Bayes/Term2/SMM768%20Applied%20Deep%20Learning%20/SMM768_MTP/Q6.ipynb#X30sZmlsZQ%3D%3D?line=0'>1</a>\u001b[0m hyperband_tuner \u001b[39m=\u001b[39m kt\u001b[39m.\u001b[39mHyperband(\n\u001b[0;32m----> <a href='vscode-notebook-cell:/Users/pengjunming/StudyInfos/Master/Bayes/Term2/SMM768%20Applied%20Deep%20Learning%20/SMM768_MTP/Q6.ipynb#X30sZmlsZQ%3D%3D?line=1'>2</a>\u001b[0m     train_model,\n\u001b[1;32m      <a href='vscode-notebook-cell:/Users/pengjunming/StudyInfos/Master/Bayes/Term2/SMM768%20Applied%20Deep%20Learning%20/SMM768_MTP/Q6.ipynb#X30sZmlsZQ%3D%3D?line=2'>3</a>\u001b[0m     \u001b[39m# objective=kt.Objective(\"rmse\", direction=\"min\"),\u001b[39;00m\n\u001b[1;32m      <a href='vscode-notebook-cell:/Users/pengjunming/StudyInfos/Master/Bayes/Term2/SMM768%20Applied%20Deep%20Learning%20/SMM768_MTP/Q6.ipynb#X30sZmlsZQ%3D%3D?line=3'>4</a>\u001b[0m     objective\u001b[39m=\u001b[39m\u001b[39m'\u001b[39m\u001b[39mval_accuracy\u001b[39m\u001b[39m'\u001b[39m,\n\u001b[1;32m      <a href='vscode-notebook-cell:/Users/pengjunming/StudyInfos/Master/Bayes/Term2/SMM768%20Applied%20Deep%20Learning%20/SMM768_MTP/Q6.ipynb#X30sZmlsZQ%3D%3D?line=4'>5</a>\u001b[0m     max_epochs\u001b[39m=\u001b[39m\u001b[39m5\u001b[39m,\n\u001b[1;32m      <a href='vscode-notebook-cell:/Users/pengjunming/StudyInfos/Master/Bayes/Term2/SMM768%20Applied%20Deep%20Learning%20/SMM768_MTP/Q6.ipynb#X30sZmlsZQ%3D%3D?line=5'>6</a>\u001b[0m     factor\u001b[39m=\u001b[39m\u001b[39m3\u001b[39m,\n\u001b[1;32m      <a href='vscode-notebook-cell:/Users/pengjunming/StudyInfos/Master/Bayes/Term2/SMM768%20Applied%20Deep%20Learning%20/SMM768_MTP/Q6.ipynb#X30sZmlsZQ%3D%3D?line=6'>7</a>\u001b[0m     directory\u001b[39m=\u001b[39m\u001b[39m\"\u001b[39m\u001b[39mlogs\u001b[39m\u001b[39m\"\u001b[39m,\n\u001b[1;32m      <a href='vscode-notebook-cell:/Users/pengjunming/StudyInfos/Master/Bayes/Term2/SMM768%20Applied%20Deep%20Learning%20/SMM768_MTP/Q6.ipynb#X30sZmlsZQ%3D%3D?line=7'>8</a>\u001b[0m     project_name\u001b[39m=\u001b[39m\u001b[39m\"\u001b[39m\u001b[39mhb_tuner\u001b[39m\u001b[39m\"\u001b[39m,\n\u001b[1;32m      <a href='vscode-notebook-cell:/Users/pengjunming/StudyInfos/Master/Bayes/Term2/SMM768%20Applied%20Deep%20Learning%20/SMM768_MTP/Q6.ipynb#X30sZmlsZQ%3D%3D?line=8'>9</a>\u001b[0m     \n\u001b[1;32m     <a href='vscode-notebook-cell:/Users/pengjunming/StudyInfos/Master/Bayes/Term2/SMM768%20Applied%20Deep%20Learning%20/SMM768_MTP/Q6.ipynb#X30sZmlsZQ%3D%3D?line=9'>10</a>\u001b[0m )\n",
      "\u001b[0;31mNameError\u001b[0m: name 'train_model' is not defined"
     ]
    }
   ],
   "source": [
    "hyperband_tuner = kt.Hyperband(\n",
    "    train_model,\n",
    "    # objective=kt.Objective(\"rmse\", direction=\"min\"),\n",
    "    objective='val_accuracy',\n",
    "    max_epochs=5,\n",
    "    factor=3,\n",
    "    directory=\"logs\",\n",
    "    project_name=\"hb_tuner\",\n",
    "    \n",
    ")"
   ]
  },
  {
   "cell_type": "markdown",
   "id": "4b3f2731",
   "metadata": {},
   "source": [
    "# Compile and train the autoencoder"
   ]
  },
  {
   "cell_type": "code",
   "execution_count": 17,
   "id": "635ba60b",
   "metadata": {
    "ExecuteTime": {
     "end_time": "2023-03-06T17:32:55.297479Z",
     "start_time": "2023-03-06T17:32:55.267603Z"
    }
   },
   "outputs": [],
   "source": [
    "autoencoder.compile(optimizer='rmsprop', loss='mean_squared_error')"
   ]
  },
  {
   "cell_type": "code",
   "execution_count": 18,
   "id": "768182d9",
   "metadata": {
    "ExecuteTime": {
     "end_time": "2023-03-06T17:33:04.156007Z",
     "start_time": "2023-03-06T17:32:55.299508Z"
    }
   },
   "outputs": [
    {
     "name": "stdout",
     "output_type": "stream",
     "text": [
      "Epoch 1/10\n"
     ]
    },
    {
     "name": "stderr",
     "output_type": "stream",
     "text": [
      "2023-03-06 19:46:55.390378: W tensorflow/core/platform/profile_utils/cpu_utils.cc:128] Failed to get CPU frequency: 0 Hz\n",
      "2023-03-06 19:46:55.886132: I tensorflow/core/grappler/optimizers/custom_graph_optimizer_registry.cc:114] Plugin optimizer for device_type GPU is enabled.\n"
     ]
    },
    {
     "name": "stdout",
     "output_type": "stream",
     "text": [
      "215/215 [==============================] - ETA: 0s - loss: 0.1701"
     ]
    },
    {
     "name": "stderr",
     "output_type": "stream",
     "text": [
      "2023-03-06 19:47:01.332132: I tensorflow/core/grappler/optimizers/custom_graph_optimizer_registry.cc:114] Plugin optimizer for device_type GPU is enabled.\n"
     ]
    },
    {
     "name": "stdout",
     "output_type": "stream",
     "text": [
      "215/215 [==============================] - 6s 19ms/step - loss: 0.1701 - val_loss: 0.0858\n",
      "Epoch 2/10\n",
      "215/215 [==============================] - 3s 13ms/step - loss: 0.0301 - val_loss: 0.0031\n",
      "Epoch 3/10\n",
      "215/215 [==============================] - 3s 12ms/step - loss: 8.0491e-04 - val_loss: 1.6364e-04\n",
      "Epoch 4/10\n",
      "215/215 [==============================] - 3s 13ms/step - loss: 1.3934e-04 - val_loss: 1.3634e-04\n",
      "Epoch 5/10\n",
      "215/215 [==============================] - 3s 13ms/step - loss: 1.3400e-04 - val_loss: 1.3623e-04\n",
      "Epoch 6/10\n",
      "215/215 [==============================] - 3s 13ms/step - loss: 1.3396e-04 - val_loss: 1.3622e-04\n",
      "Epoch 7/10\n",
      "215/215 [==============================] - 3s 13ms/step - loss: 1.3396e-04 - val_loss: 1.3622e-04\n",
      "Epoch 8/10\n",
      "215/215 [==============================] - 3s 13ms/step - loss: 1.3396e-04 - val_loss: 1.3622e-04\n",
      "Epoch 9/10\n",
      "215/215 [==============================] - 3s 13ms/step - loss: 1.3396e-04 - val_loss: 1.3622e-04\n",
      "Epoch 10/10\n",
      "215/215 [==============================] - 3s 13ms/step - loss: 1.3396e-04 - val_loss: 1.3622e-04\n"
     ]
    },
    {
     "data": {
      "text/plain": [
       "<keras.callbacks.History at 0x2b7a4dab0>"
      ]
     },
     "execution_count": 18,
     "metadata": {},
     "output_type": "execute_result"
    }
   ],
   "source": [
    "autoencoder.fit(x=X_train_noisy, y=X_atrain, epochs=10, shuffle=True,\n",
    "                batch_size=32, validation_data=(X_vali_noisy, X_avali))"
   ]
  },
  {
   "cell_type": "markdown",
   "id": "d9d98eda",
   "metadata": {},
   "source": [
    "# Encode data and decode"
   ]
  },
  {
   "cell_type": "code",
   "execution_count": 19,
   "id": "fe7915f9",
   "metadata": {
    "ExecuteTime": {
     "end_time": "2023-03-06T17:33:04.211029Z",
     "start_time": "2023-03-06T17:33:04.158497Z"
    }
   },
   "outputs": [],
   "source": [
    "test_encoded = encoder(X_test_noisy)\n",
    "test_output = decoder(test_encoded)"
   ]
  },
  {
   "cell_type": "code",
   "execution_count": 20,
   "id": "f6faff63",
   "metadata": {
    "ExecuteTime": {
     "end_time": "2023-03-06T17:41:39.204961Z",
     "start_time": "2023-03-06T17:41:39.192341Z"
    }
   },
   "outputs": [
    {
     "data": {
      "text/plain": [
       "TensorShape([3276, 11, 11, 1])"
      ]
     },
     "execution_count": 20,
     "metadata": {},
     "output_type": "execute_result"
    }
   ],
   "source": [
    "test_output.shape"
   ]
  },
  {
   "cell_type": "code",
   "execution_count": 21,
   "id": "33f1cc7f",
   "metadata": {
    "ExecuteTime": {
     "end_time": "2023-03-06T17:50:41.328883Z",
     "start_time": "2023-03-06T17:50:41.316884Z"
    }
   },
   "outputs": [
    {
     "name": "stdout",
     "output_type": "stream",
     "text": [
      "<class 'numpy.ndarray'> (3276, 121)\n",
      "<class 'numpy.ndarray'> (3276, 121)\n"
     ]
    }
   ],
   "source": [
    "# Output of the decoded data, the true data is \"X_stest\"\n",
    "output = np.array(test_output)\n",
    "output = output.reshape(3276,121)\n",
    "output = output*scaler_to1\n",
    "print(type(output), output.shape)\n",
    "print(type(X_stest), X_stest.shape)"
   ]
  },
  {
   "cell_type": "markdown",
   "id": "cf2c3e6b",
   "metadata": {},
   "source": [
    "# Visualise the output mse distribution"
   ]
  },
  {
   "cell_type": "code",
   "execution_count": 23,
   "id": "39d95bd9",
   "metadata": {
    "ExecuteTime": {
     "end_time": "2023-03-06T18:01:48.163446Z",
     "start_time": "2023-03-06T18:01:47.952727Z"
    }
   },
   "outputs": [
    {
     "data": {
      "image/png": "[encoded data removed]",
      "text/plain": [
       "<Figure size 640x480 with 1 Axes>"
      ]
     },
     "metadata": {},
     "output_type": "display_data"
    }
   ],
   "source": [
    "# Predict the labels for the validation set\n",
    "#val_pred = autoencoder.predict(df_val)\n",
    "val_mse = np.mean(np.power(output - X_stest, 2), axis=1)\n",
    "\n",
    "# Separate the fraudulent and non-fraudulent claims in the validation set\n",
    "fraud_mask = np.array(Y_test) == 1\n",
    "\n",
    "# Plot the histogram of errors for the validation set\n",
    "plt.hist(val_mse[~fraud_mask], bins=50, label='non-fraudulent')\n",
    "plt.hist(val_mse[fraud_mask], bins=50, label='fraudulent')\n",
    "plt.xlabel('Mean Squared Error')\n",
    "plt.ylabel('Number of Claims')\n",
    "plt.legend()\n",
    "\n",
    "#val_mse = val_mse.reset_index(drop=True)\n",
    "\n",
    "# Mark the mean error for fraudulent and non-fraudulent claims\n",
    "val_indices = np.arange(len(val_mse))"
   ]
  },
  {
   "cell_type": "code",
   "execution_count": null,
   "id": "f9ea048f",
   "metadata": {},
   "outputs": [],
   "source": []
  }
 ],
 "metadata": {
  "kernelspec": {
   "display_name": "Python 3 (ipykernel)",
   "language": "python",
   "name": "python3"
  },
  "language_info": {
   "codemirror_mode": {
    "name": "ipython",
    "version": 3
   },
   "file_extension": ".py",
   "mimetype": "text/x-python",
   "name": "python",
   "nbconvert_exporter": "python",
   "pygments_lexer": "ipython3",
   "version": "3.10.1"
  },
  "toc": {
   "base_numbering": 1,
   "nav_menu": {},
   "number_sections": true,
   "sideBar": true,
   "skip_h1_title": false,
   "title_cell": "Table of Contents",
   "title_sidebar": "Contents",
   "toc_cell": false,
   "toc_position": {},
   "toc_section_display": true,
   "toc_window_display": false
  },
  "varInspector": {
   "cols": {
    "lenName": 16,
    "lenType": 16,
    "lenVar": 40
   },
   "kernels_config": {
    "python": {
     "delete_cmd_postfix": "",
     "delete_cmd_prefix": "del ",
     "library": "var_list.py",
     "varRefreshCmd": "print(var_dic_list())"
    },
    "r": {
     "delete_cmd_postfix": ") ",
     "delete_cmd_prefix": "rm(",
     "library": "var_list.r",
     "varRefreshCmd": "cat(var_dic_list()) "
    }
   },
   "position": {
    "height": "279.844px",
    "left": "1855.16px",
    "right": "20px",
    "top": "115px",
    "width": "250.326px"
   },
   "types_to_exclude": [
    "module",
    "function",
    "builtin_function_or_method",
    "instance",
    "_Feature"
   ],
   "window_display": true
  }
 },
 "nbformat": 4,
 "nbformat_minor": 5
}
