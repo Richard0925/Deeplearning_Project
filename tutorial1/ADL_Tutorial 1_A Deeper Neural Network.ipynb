{
 "cells": [
  {
   "cell_type": "markdown",
   "id": "d43d73f0",
   "metadata": {},
   "source": [
    "# Programming a deep feed-forward network"
   ]
  },
  {
   "cell_type": "markdown",
   "id": "07d5f1fc",
   "metadata": {},
   "source": [
    "This notebook is based on a fabulous [Kaggle tutorial by DATAI](https://www.kaggle.com/kanncaa1/deep-learning-tutorial-for-beginners) and uses the \"sign language digits data set\", also found through the link.\n",
    "\n",
    "We start by loading the relevant packages:"
   ]
  },
  {
   "cell_type": "code",
   "execution_count": 1,
   "id": "e1d5101f",
   "metadata": {},
   "outputs": [],
   "source": [
    "import time\n",
    "import numpy as np\n",
    "import matplotlib.pyplot as plt\n",
    "from sklearn.model_selection import train_test_split\n"
   ]
  },
  {
   "cell_type": "markdown",
   "id": "0bb4243e",
   "metadata": {},
   "source": [
    "## 1. The dataset (this part is identical to the logistic regression exercise)"
   ]
  },
  {
   "cell_type": "markdown",
   "id": "fa9f83c1",
   "metadata": {},
   "source": [
    "The dataset contains 64x64 images of the signs used to represent the ten digits, 0-9. Indexes 204 to 408 of the dataset show the sign for zero and indexes 822 to 1027 show the sign for one."
   ]
  },
  {
   "cell_type": "code",
   "execution_count": 71,
   "id": "fb919a37",
   "metadata": {},
   "outputs": [],
   "source": [
    "X = np.load(\"digits_X.npy\")\n",
    "y = np.load(\"digits_y.npy\")"
   ]
  },
  {
   "cell_type": "markdown",
   "id": "49065d90",
   "metadata": {},
   "source": [
    "Each value of `X` is a matrix with pixel values, while each value of `y` is a vector representing the value of the digit (one-hot encoded):"
   ]
  },
  {
   "cell_type": "code",
   "execution_count": 75,
   "id": "e32a988f",
   "metadata": {},
   "outputs": [
    {
     "data": {
      "text/plain": [
       "(64, 64)"
      ]
     },
     "execution_count": 75,
     "metadata": {},
     "output_type": "execute_result"
    }
   ],
   "source": [
    "X[204].shape"
   ]
  },
  {
   "cell_type": "code",
   "execution_count": 78,
   "id": "5a21b785",
   "metadata": {},
   "outputs": [
    {
     "data": {
      "text/plain": [
       "array([0., 1., 0., 0., 0., 0., 0., 0., 0., 0.])"
      ]
     },
     "execution_count": 78,
     "metadata": {},
     "output_type": "execute_result"
    }
   ],
   "source": [
    "y[204]"
   ]
  },
  {
   "cell_type": "markdown",
   "id": "599c006c",
   "metadata": {},
   "source": [
    "We can, of course, display the images:"
   ]
  },
  {
   "cell_type": "code",
   "execution_count": 80,
   "id": "4da45e7b",
   "metadata": {},
   "outputs": [
    {
     "data": {
      "text/plain": [
       "(-0.5, 63.5, 63.5, -0.5)"
      ]
     },
     "execution_count": 80,
     "metadata": {},
     "output_type": "execute_result"
    },
    {
     "data": {
      "image/png": "[encoded data removed]",
      "text/plain": [
       "<Figure size 640x480 with 2 Axes>"
      ]
     },
     "metadata": {},
     "output_type": "display_data"
    }
   ],
   "source": [
    "img_size = 64\n",
    "plt.subplot(1, 2, 1)\n",
    "plt.imshow(X[201].reshape(img_size, img_size))\n",
    "plt.axis(\"off\")\n",
    "plt.subplot(1, 2, 2)\n",
    "plt.imshow(X[829].reshape(img_size, img_size))\n",
    "plt.axis(\"off\")"
   ]
  },
  {
   "cell_type": "markdown",
   "id": "cbc147df",
   "metadata": {},
   "source": [
    "We only need the zeros and ones for our purposes. Hence, start by gathering only the relevant X-variables:"
   ]
  },
  {
   "cell_type": "code",
   "execution_count": 83,
   "id": "3b43afbf",
   "metadata": {},
   "outputs": [],
   "source": [
    "X = np.concatenate((X[204:409], X[822:1028]), axis=0)"
   ]
  },
  {
   "cell_type": "markdown",
   "id": "55819fbd",
   "metadata": {},
   "source": [
    "For the ys, we also only want the relevant ones. Moreover, we want to make sure that instead of a vector, we simply have 0 if the digit is zero and 1 if it is one:"
   ]
  },
  {
   "cell_type": "code",
   "execution_count": 7,
   "id": "b5c2ad0a",
   "metadata": {},
   "outputs": [],
   "source": [
    "z = np.zeros(409 - 204)\n",
    "o = np.ones(1028 - 822)\n",
    "y = np.concatenate((z, o), axis=0).reshape(X.shape[0], 1)"
   ]
  },
  {
   "cell_type": "markdown",
   "id": "7298d019",
   "metadata": {},
   "source": [
    "With the `reshape`, we make sure that `y` is a vector with two dimensions:"
   ]
  },
  {
   "cell_type": "code",
   "execution_count": 8,
   "id": "60642dcc",
   "metadata": {},
   "outputs": [
    {
     "name": "stdout",
     "output_type": "stream",
     "text": [
      "(411, 64, 64)\n",
      "(411, 1)\n"
     ]
    }
   ],
   "source": [
    "print(X.shape)\n",
    "print(y.shape)\n"
   ]
  },
  {
   "cell_type": "markdown",
   "id": "fca75ea4",
   "metadata": {},
   "source": [
    "Next, we split the data into training and testing with 15% in the test set (you know the drill):"
   ]
  },
  {
   "cell_type": "code",
   "execution_count": 9,
   "id": "2bf7efc5",
   "metadata": {},
   "outputs": [
    {
     "name": "stdout",
     "output_type": "stream",
     "text": [
      "(349, 64, 64)\n",
      "(349, 1)\n",
      "(62, 64, 64)\n",
      "(62, 1)\n"
     ]
    }
   ],
   "source": [
    "X_train, X_test, y_train, y_test = train_test_split(\n",
    "    X, y, test_size=0.15, random_state=172\n",
    ")\n",
    "print(X_train.shape)\n",
    "print(y_train.shape)\n",
    "print(X_test.shape)\n",
    "print(y_test.shape)"
   ]
  },
  {
   "cell_type": "markdown",
   "id": "d622c30e",
   "metadata": {},
   "source": [
    "Finally, we need to \"flatten\" the Xs. Currently, our input is three-dimensional (each observation is a matrix). However, when we run regressions (or train models more generally), we usually have two-dimensional inputs, as it makes things a lot easier to work with. There are exceptions to this of course, specifically when using convolutional neural networks, but let's not get ahead of ourselves.\n",
    "\n",
    "What we will do is to convert each matrix (each observation's X-value) to a vector, simply by stacking all the columns of the matrix. If $X^{(i)} \\in \\mathcal{R}^{n \\times m}$, then the fitting vector $\\hat{X}^{(i)} \\in \\mathcal{R}^{n m}$. So we reshape accordingly:"
   ]
  },
  {
   "cell_type": "code",
   "execution_count": 10,
   "id": "123cb6f0",
   "metadata": {},
   "outputs": [
    {
     "name": "stdout",
     "output_type": "stream",
     "text": [
      "(349, 4096)\n",
      "(349, 4096)\n"
     ]
    }
   ],
   "source": [
    "X_train_flat = X_train.reshape(X_train.shape[0], X_train.shape[1] * X_train.shape[2])\n",
    "X_test_flat = X_test.reshape(X_test.shape[0], X_test.shape[1] * X_test.shape[2])\n",
    "print(X_train_flat.shape)\n",
    "print(X_train_flat.shape)"
   ]
  },
  {
   "cell_type": "markdown",
   "id": "6c725fb6",
   "metadata": {},
   "source": [
    "We have 4096 pixels per observation, neatly stacked in a vector. All observations together (349 for train, 62 for test), gives us a (two-dimensional) matrix."
   ]
  },
  {
   "cell_type": "markdown",
   "id": "3499d6fa",
   "metadata": {},
   "source": [
    "## 2. A neural network with an (arbitrarily large) hidden layer of neurons"
   ]
  },
  {
   "cell_type": "markdown",
   "id": "10f547f6",
   "metadata": {},
   "source": [
    "This time, we are creating a model that uses multiple neurons instead of just one. In particular, we will use one hidden layer with `hidden_layer_size` neurons (and the ReLU activation function), and an output layer with a single neuron performing the final binary classification (what activation function do we use here?)\n",
    "\n",
    "The principle approach is the same as before:\n",
    "\n",
    "0. Choose hyperparameters\n",
    "1. Initialize the model parameters $\\theta$ (random weights!)\n",
    "2. Until we cannot improve the cost function anymore (or we reach a certain numer of iterations):\n",
    "- Given your current model parameters, compute the cost function $J(\\theta)$ (forward propagation)\n",
    "- From the cost function, go backward to compute all the relevant derivatives (back-propagation)\n",
    "- Update the parameters: $\\theta := \\theta - \\alpha \\nabla_{\\theta} J(\\theta)$\n",
    "\n",
    "### Initialization\n",
    "\n",
    "Keep in mind that each neuron in the hidden layer has weights for all $m$ incoming edges (i.e. one for each `dimension`), as well as one bias term. The single neuron in the output layer has one weight for each of its incoming edges, as well as its own bias term.\n",
    "\n",
    "We will usually use dictionaries to store parameters when we have many. The function below is partially completed for you - can you finish it?"
   ]
  },
  {
   "cell_type": "code",
   "execution_count": 30,
   "id": "3aa5972c",
   "metadata": {},
   "outputs": [],
   "source": [
    "def initialize_parameters(seed, dimension, hidden_layer_size):\n",
    "    np.random.seed(seed)\n",
    "    parameters = {\n",
    "        \"weights1\": np.random.rand(dimension, hidden_layer_size)\n",
    "        * 0.01,  # Use np.random.rand(dim1,dim2)*0.01, inputing the correct dimensions\n",
    "        \"bias1\": np.zeros(\n",
    "            (1, hidden_layer_size)\n",
    "        ),  # Use np.zeros(shape), inputing the correct shape\n",
    "        \"weights2\": np.random.randn(hidden_layer_size, 1)\n",
    "        * 0.01,  # Use np.random.randn(dim1,dim2)*0.01, inputing the correct dimensions\n",
    "        \"bias2\": np.zeros((1, 1)),\n",
    "    }  # Use np.zeros(shape), inputing the correct shape\n",
    "    return parameters\n",
    "\n",
    "\n",
    "# def initialize_parameters(seed=392,dimension=4096,hidden_layer_size=3):\n",
    "#     np.random.seed(seed)\n",
    "#     parameters = {'weights1': np.random.rand(dimension,hidden_layer_size)*0.01,  # Use np.random.rand(dim1,dim2)*0.01, inputing the correct dimensions\n",
    "#                 'bias1': np.zeros((1,hidden_layer_size)),   # Use np.zeros(shape), inputing the correct shape\n",
    "#                 'weights2': np.random.randn(hidden_layer_size,1)*0.01,   # Use np.random.randn(dim1,dim2)*0.01, inputing the correct dimensions\n",
    "#                 'bias2': np.zeros((1,1))}    # Use np.zeros(shape), inputing the correct shape\n",
    "#     return parameters"
   ]
  },
  {
   "cell_type": "markdown",
   "id": "73d6a5c8",
   "metadata": {},
   "source": [
    "A quick try:"
   ]
  },
  {
   "cell_type": "code",
   "execution_count": 31,
   "id": "a8077456",
   "metadata": {},
   "outputs": [
    {
     "name": "stdout",
     "output_type": "stream",
     "text": [
      "[[0.00696469 0.00286139 0.00226851]\n",
      " [0.00551315 0.00719469 0.00423106]\n",
      " [0.00980764 0.0068483  0.00480932]\n",
      " ...\n",
      " [0.00749327 0.00198134 0.00659555]\n",
      " [0.00293223 0.00258217 0.00602021]\n",
      " [0.00131192 0.00316522 0.00815401]]\n",
      "[[0. 0. 0.]]\n",
      "[[ 0.00625204]\n",
      " [-0.03114263]\n",
      " [-0.01691934]]\n",
      "[[0.]]\n"
     ]
    }
   ],
   "source": [
    "parameters = initialize_parameters(\n",
    "    seed=123, dimension=4096, hidden_layer_size=3)\n",
    "print(parameters[\"weights1\"])\n",
    "print(parameters[\"bias1\"])\n",
    "print(parameters[\"weights2\"])\n",
    "print(parameters[\"bias2\"])\n"
   ]
  },
  {
   "cell_type": "markdown",
   "id": "89236afc",
   "metadata": {},
   "source": [
    "### Forward propagation\n",
    "\n",
    "The forward propagation step is quite similar to what we saw in the logistic regression. Of course, our model for $\\hat{y}$ is now a whole lot more complex. But that doesn't matter: the neural network is essentially a computation graph, so we just go layer by layer, and computations are quite easy at each layer. We will make use of two helper functions to compute the ReLU activation (at the hidden layer) and the logistic sigmoid activation (at the output layer)."
   ]
  },
  {
   "cell_type": "code",
   "execution_count": 33,
   "id": "3df91205",
   "metadata": {},
   "outputs": [],
   "source": [
    "def relu(z):\n",
    "    # for proper vectorization, you might want to look up `np.maximum`\n",
    "    return np.maximum(0, z)"
   ]
  },
  {
   "cell_type": "code",
   "execution_count": 34,
   "id": "d234fb3a",
   "metadata": {},
   "outputs": [],
   "source": [
    "def sigma(z):\n",
    "    # you have seen this before in logistic regression\n",
    "    return 1 / (1 + np.exp(-z))"
   ]
  },
  {
   "cell_type": "markdown",
   "id": "d56e1684",
   "metadata": {},
   "source": [
    "Remember that we want to make fast computations. Hence, our functions need to be able to take a whole matrix of values and compute the activation for each element (they need to be \"vectorized\"). Try it out for both activation functions below:"
   ]
  },
  {
   "cell_type": "code",
   "execution_count": 35,
   "id": "1f0c9806",
   "metadata": {},
   "outputs": [
    {
     "name": "stdout",
     "output_type": "stream",
     "text": [
      "[[1 0 3]\n",
      " [0 6 0]\n",
      " [3 0 0]]\n",
      "[[0.73105858 0.11920292 0.95257413]\n",
      " [0.5        0.99752738 0.11920292]\n",
      " [0.95257413 0.26894142 0.5       ]]\n"
     ]
    }
   ],
   "source": [
    "Z = np.array([[1, -2, 3], [0, 6, -2], [3, -1, 0]])\n",
    "print(relu(Z))\n",
    "print(sigma(Z))"
   ]
  },
  {
   "cell_type": "markdown",
   "id": "7aa8c612",
   "metadata": {},
   "source": [
    "Next comes the actual forward propagation step. Remember that we need to compute:\n",
    "1. For each neuron at the first layer:\n",
    "- $Z^{[1]}$ = the weighted sum of the inputs X, to which we add the bias\n",
    "- $A^{[1]}$ = the actual activation: the neuron's activation function applied to $Z^{[1]}$\n",
    "2. For the neuron at the second layer:\n",
    "- $Z^{[2]}$ = the weighted sum of the inputs $A^{[1]}$, to which we add the bias\n",
    "- $A^{[2]}$ = the actual activation: the neuron's activation function applied to $Z^{[2]}$\n",
    "3. The cost function, given $\\hat{y} = A^{[2]}$: We will stick with what we saw before in binary classification, so $J=\\frac{1}{n}\\sum_{i=1}^n L^{(i)}$ with $L^{(i)} = -y^{(i)} \\log \\hat y^{(i)} - (1-y^{(i)}) (1-\\log \\hat y^{(i)})$"
   ]
  },
  {
   "cell_type": "markdown",
   "id": "bda3efc7",
   "metadata": {},
   "source": [
    "Aside from the cost, the forward propagation should return the computed Z's and A's in what we call a \"cache\". This is important for back-propagation later down the line.\n",
    "\n",
    "We start with a naive implementation, where we compute the activations for each neuron separately. Do you see what happens in the function below? Can you complete the missing pieces?\n",
    "\n",
    "A few hints:\n",
    "- you might benefit from adding print statements and trying out the function using `forward_propagation_naive(X_train_flat,y_train,parameters,2)`\n",
    "- The input matrix $X$ has dimensions $(n,m)$, where $n$ is the number of observations and $m$ the number of features\n",
    "- The weight matrix $W^{[1]}$ has dimensions $(m,\\text{hidden_layer_size})$\n",
    "- The bias vector $b^{[1]}$ has dimensions $(1,\\text{hidden_layer_size})$\n",
    "- The weight matrix $W^{[2]}$ has dimensions $(\\text{hidden_layer_size},1)$\n",
    "- The bias vector $b^{[2]}$ has dimensions $(1,1)$"
   ]
  },
  {
   "cell_type": "code",
   "execution_count": 40,
   "id": "a273ead3",
   "metadata": {},
   "outputs": [],
   "source": [
    "def forward_propagation_naive(X, y, parameters, hidden_layer_size):\n",
    "    # Layer 1 (hidden layer)\n",
    "\n",
    "    Z1 = np.zeros((X.shape[0], hidden_layer_size))\n",
    "    A1 = np.zeros((X.shape[0], hidden_layer_size))\n",
    "\n",
    "    for neuron in range(hidden_layer_size):\n",
    "        w = parameters[\"weights1\"][\n",
    "            :, neuron\n",
    "        ]  # find the right weight (recall that we stacked our weights with shape (in,out))\n",
    "        b = parameters[\"bias1\"][\n",
    "            0, neuron\n",
    "        ]  # find the right bias term (recall that we stacked our biases with shape (1,out))\n",
    "        z = (\n",
    "            np.dot(X, w) + b\n",
    "        )  # compute z, using np.dot. Think of the correct dimensions!\n",
    "        Z1[:, neuron] = z\n",
    "        A1[:, neuron] = relu(z)\n",
    "\n",
    "    # Layer 2 (output layer)\n",
    "    w = parameters[\"weights2\"]\n",
    "    b = parameters[\"bias2\"]\n",
    "    Z2 = (\n",
    "        np.dot(A1, w) + b\n",
    "    )  # at the second layer, there is only one node. Use np.dot again, and watch out for the correct dimensions\n",
    "    A2 = sigma(Z2)\n",
    "\n",
    "    # Compute the cost\n",
    "    yHat = A2  # Complete\n",
    "    cost = (\n",
    "        np.sum(-y * np.log(yHat) - (1 - y) * np.log(1 - yHat)) / X.shape[0]\n",
    "    )  # Complete\n",
    "\n",
    "    # Compute the cache\n",
    "    cache = {\"Z1\": Z1, \"A1\": A1, \"Z2\": Z2, \"A2\": A2}\n",
    "\n",
    "    return cost, cache"
   ]
  },
  {
   "cell_type": "markdown",
   "id": "8c24b462",
   "metadata": {},
   "source": [
    "Try it out. If there are no mistake, the code below should print out 0.7387257645994343"
   ]
  },
  {
   "cell_type": "code",
   "execution_count": 43,
   "id": "2f49fd79",
   "metadata": {},
   "outputs": [
    {
     "name": "stdout",
     "output_type": "stream",
     "text": [
      "0.7387257645994343\n"
     ]
    }
   ],
   "source": [
    "parameters = initialize_parameters(seed=123, dimension=4096, hidden_layer_size=3)\n",
    "cost, _ = forward_propagation_naive(X_train_flat, y_train, parameters, 3)\n",
    "print(cost)"
   ]
  },
  {
   "cell_type": "markdown",
   "id": "bb48a7e9",
   "metadata": {},
   "source": [
    "We know that vectorization is faster, so we will vectorize not just on the observations, but also on the neurons within a layer (and then see that this is quite a bit faster). Can you complete the function?\n",
    "\n",
    "A few additional hints here:\n",
    "- Each neuron has its own total input z for each observations. Hence, $Z^{[1]}$ should have dimensions $(n,\\text{hidden_layer_size})$\n",
    "- The same logic holds for the neuron at the second layer. Hence, $Z^{[2]}$ should have dimensions $(n,1)$\n",
    "- The activation matrix $A^{[l]}$ has the same dimensions as the total input matrix $Z^{[l]}$."
   ]
  },
  {
   "cell_type": "code",
   "execution_count": 49,
   "id": "db6bc8b0",
   "metadata": {},
   "outputs": [],
   "source": [
    "def forward_propagation(X, y, parameters):\n",
    "    # Layer 1 (hidden layer)\n",
    "    Z1 = np.dot(X, parameters[\"weights1\"]) + parameters[\"bias1\"]  # Use np.dot!\n",
    "    A1 = relu(Z1)\n",
    "\n",
    "    # Layer 2 (output layer)\n",
    "    Z2 = np.dot(A1, parameters[\"weights2\"]) + parameters[\"bias2\"]  # Use np.dot!\n",
    "    A2 = sigma(Z2)\n",
    "\n",
    "    # Compute the cost - this is exactly as before!\n",
    "    yHat = A2\n",
    "    cost = np.sum(-y * np.log(yHat) - (1 - y) * np.log(1 - yHat)) / X.shape[0]\n",
    "\n",
    "    # Compute the cache\n",
    "    cache = {\"Z1\": Z1, \"A1\": A1, \"Z2\": Z2, \"A2\": A2}\n",
    "\n",
    "    return cost, cache"
   ]
  },
  {
   "cell_type": "markdown",
   "id": "b5bb57dd",
   "metadata": {},
   "source": [
    "Try it out. If there are no mistake, the code below should print out\n",
    "1. 0.7387257645994343\n",
    "1. (349,3)\n",
    "1. (349,3)\n",
    "1. (349,1)\n",
    "1. (349,1)"
   ]
  },
  {
   "cell_type": "code",
   "execution_count": 50,
   "id": "87b180cb",
   "metadata": {},
   "outputs": [
    {
     "name": "stdout",
     "output_type": "stream",
     "text": [
      "0.7387257645994345\n",
      "(349, 3)\n",
      "(349, 3)\n",
      "(349, 1)\n",
      "(349, 1)\n"
     ]
    }
   ],
   "source": [
    "parameters = initialize_parameters(seed=123, dimension=4096, hidden_layer_size=3)\n",
    "cost, cache = forward_propagation(X_train_flat, y_train, parameters)\n",
    "print(cost)\n",
    "print(cache[\"Z1\"].shape)\n",
    "print(cache[\"A1\"].shape)\n",
    "print(cache[\"Z2\"].shape)\n",
    "print(cache[\"A2\"].shape)"
   ]
  },
  {
   "cell_type": "markdown",
   "id": "80773e10",
   "metadata": {},
   "source": [
    "Let's now compare the difference in computation time. What we will do is to create 200 sets of initial parameters for a network of width 10 and apply forward propagation once:"
   ]
  },
  {
   "cell_type": "code",
   "execution_count": 51,
   "id": "e1538f12",
   "metadata": {},
   "outputs": [
    {
     "name": "stdout",
     "output_type": "stream",
     "text": [
      "Naive: Cost = 0.7061321562751905, computation time = 101.50881999999983ms\n",
      "Vectorized: Cost = 0.7061321562751905, computation time = 21.48927499999973ms\n"
     ]
    }
   ],
   "source": [
    "iterations = 200\n",
    "time_naive = 0\n",
    "cost_naive = 0\n",
    "time_vectorized = 0\n",
    "cost_vectorized = 0\n",
    "\n",
    "for it in range(iterations):\n",
    "    parameters = initialize_parameters(\n",
    "        seed=np.random.randint(1), dimension=4096, hidden_layer_size=10\n",
    "    )\n",
    "    # Running things with a for-loop:\n",
    "    tic = time.process_time()\n",
    "    cost, _ = forward_propagation_naive(X_train_flat, y_train, parameters, 10)\n",
    "    toc = time.process_time()\n",
    "    time_naive += 1000 * (toc - tic)\n",
    "    cost_naive += cost\n",
    "    # Running things \"vectorized\":\n",
    "    tic = time.process_time()\n",
    "    cost, _ = forward_propagation(X_train_flat, y_train, parameters)\n",
    "    toc = time.process_time()\n",
    "    time_vectorized += 1000 * (toc - tic)\n",
    "    cost_vectorized += cost\n",
    "\n",
    "print(\n",
    "    \"Naive: Cost = \"\n",
    "    + str(cost_naive / iterations)\n",
    "    + \", computation time = \"\n",
    "    + str(time_naive / iterations)\n",
    "    + \"ms\"\n",
    ")\n",
    "print(\n",
    "    \"Vectorized: Cost = \"\n",
    "    + str(cost_vectorized / iterations)\n",
    "    + \", computation time = \"\n",
    "    + str(time_vectorized / iterations)\n",
    "    + \"ms\"\n",
    ")"
   ]
  },
  {
   "cell_type": "markdown",
   "id": "ee8f810c",
   "metadata": {},
   "source": [
    "### Back-propagation\n",
    "\n",
    "We move onto the second step of our update: finding the gradients. Make sure you use the chain rule. We will discuss in the tutorial how to derive the derivatives, but for the programming part, the relevant computations can be found below:\n",
    "- `dZ2` $= \\nabla_{Z^{[2]}} J = \\frac{1}{n}(A^{[2]} - y)$  (this should give you a $(n,1)$ matrix - why?)\n",
    "- `dW2` $=\\nabla_{W^{[2]}} J  = (A^{[1]})^T  (\\nabla_{Z^{[2]}} J)$ (this should give you a $(\\text{hidden_layer_size},1)$ matrix - why?)\n",
    "- `db2` $=\\nabla_{b^{[2]}} J = \\sum_{i=1}^n \\frac{\\partial J}{\\partial z_1^{[2](i)}}$ (you are summing up over the entries of dZ2)\n",
    "- `dZ1` $= \\nabla_{Z^{[1]}} J = (\\nabla_{Z^{[2]}} J) (W^{[2]})^T \\circ E^{[1]}$. Here, $\\circ$ is element-wise multiplication and $E^{[1]}$ is a matrix of the same dimensions as $Z^{[1]}$ that is 1 when the entry is positive and 0 otherwise (this should give you a $(n,\\text{hidden_layer_size})$ matrix - why?)\n",
    "- `dW1` $=\\nabla_{W^{[1]}} J  = (X^T)(\\nabla_{Z^{[1]}} J)$ (this should give you a $(m,\\text{hidden_layer_size})$ matrix - why?)\n",
    "- `db1` = $\\left[ \\nabla_{b^{[1]}_1} J, \\nabla_{b^{[1]}_2} J,..., \\nabla_{b^{[1]}_{\\text{hidden_layer_size}}} J \\right] = \\left[\\sum_{i=1}^n \\frac{\\partial J}{\\partial z_1^{[1](i)}}, \\sum_{i=1}^n \\frac{\\partial J}{\\partial z_2^{[1](i)}}, ..., \\sum_{i=1}^n \\frac{\\partial J}{\\partial z_{\\text{hidden_layer_size}}^{[1](i)}} \\right]$ (you are summing up over **one** of the axes of dZ1 - be careful to choose the right one)"
   ]
  },
  {
   "cell_type": "markdown",
   "id": "eb2b9a78",
   "metadata": {},
   "source": [
    "A final hint about computing $E^{[1]}$. See the code below:"
   ]
  },
  {
   "cell_type": "code",
   "execution_count": 52,
   "id": "1d83b4f6",
   "metadata": {},
   "outputs": [
    {
     "data": {
      "text/plain": [
       "array([[1, 0, 1],\n",
       "       [0, 1, 0],\n",
       "       [1, 0, 0]])"
      ]
     },
     "execution_count": 52,
     "metadata": {},
     "output_type": "execute_result"
    }
   ],
   "source": [
    "Z = np.array([[1, -2, 3], [0, 6, -2], [3, -1, 0]])\n",
    "\n",
    "np.where(Z > 0, 1, 0)"
   ]
  },
  {
   "cell_type": "markdown",
   "id": "76da48a9",
   "metadata": {},
   "source": [
    "We can now define the back-propagation step, which returns the gradients:"
   ]
  },
  {
   "cell_type": "code",
   "execution_count": 57,
   "id": "ece447e6",
   "metadata": {},
   "outputs": [],
   "source": [
    "def back_propagation(X, y, parameters, cache):\n",
    "    dZ2 = (cache[\"A2\"] - y) / X.shape[0]  # Complete\n",
    "    dW2 = np.dot(cache[\"A1\"].T, dZ2)  # Complete\n",
    "    db2 = np.sum(dZ2, axis=0)  # Complete\n",
    "    dZ1 = np.dot(dZ2, parameters[\"weights2\"].T) * np.where(\n",
    "        cache[\"Z1\"] > 0, 1, 0\n",
    "    )  # Complete (349,3)\n",
    "    dW1 = np.dot(X.T, dZ1)  # Complete\n",
    "    db1 = np.sum(\n",
    "        dZ1, axis=0, keepdims=True\n",
    "    )  # make sure to sum up over the right axis (see the np.sum documentation), and to set keepdims=True\n",
    "    grads = {\"weights1\": dW1, \"bias1\": db1, \"weights2\": dW2, \"bias2\": db2}\n",
    "    return grads"
   ]
  },
  {
   "cell_type": "markdown",
   "id": "f23bfa61",
   "metadata": {},
   "source": [
    "If everything is programmed correctly, the below code should print out\n",
    "\n",
    "1. -0.000508086877680383\n",
    "1. (4096, 3)\n",
    "1. (1, 3)\n",
    "1. (3, 1)\n",
    "1. (1, 1)"
   ]
  },
  {
   "cell_type": "code",
   "execution_count": 58,
   "id": "d982a7bf",
   "metadata": {},
   "outputs": [
    {
     "name": "stdout",
     "output_type": "stream",
     "text": [
      "-0.0005080868776803828\n",
      "(4096, 3)\n",
      "(1, 3)\n",
      "(3, 1)\n",
      "(1,)\n"
     ]
    }
   ],
   "source": [
    "parameters = initialize_parameters(seed=123, dimension=4096, hidden_layer_size=3)\n",
    "cost, cache = forward_propagation(X_train_flat, y_train, parameters)\n",
    "grads = back_propagation(X_train_flat, y_train, parameters, cache)\n",
    "print(grads[\"weights1\"][0, 0])\n",
    "print(grads[\"weights1\"].shape)\n",
    "print(grads[\"bias1\"].shape)\n",
    "print(grads[\"weights2\"].shape)\n",
    "print(grads[\"bias2\"].shape)"
   ]
  },
  {
   "cell_type": "markdown",
   "id": "5817938b",
   "metadata": {},
   "source": [
    "### Putting it together: parameter updating and training"
   ]
  },
  {
   "cell_type": "markdown",
   "id": "c4df55ce",
   "metadata": {},
   "source": [
    "In each iteration of our learning procedure, we update the parameters, hopefully moving closer towards the optimum. How we update the parameters is determined by the gradient, as well as the learning rate (a hyper-parameter). Let's define one update step:\n",
    "1. Compute the `forward_propagation` step (returning `cost` and `cache`)\n",
    "1. Compute the `back_propagation` step (using `cache` from `forward_propagation`)\n",
    "1. Update each entry in `parameters` as follows: $\\theta := \\theta - \\alpha \\nabla_{\\theta} J$ (Because we made sure above that the shapes are \"in the right way\", we don't have to worry about individual parameters, but can update whole groups - also, we made sure that the parameters and their gradients are referenced in the same way in both dictionaries. Note that $\\alpha$ is the learning rate)\n",
    "1. Return the updated dictionary `parameters` and the `cost` from `forward_propagation`"
   ]
  },
  {
   "cell_type": "code",
   "execution_count": 60,
   "id": "e0a82d2d",
   "metadata": {},
   "outputs": [],
   "source": [
    "def parameter_update(X, y, parameters, learning_rate):\n",
    "    cost, cache = forward_propagation(X, y, parameters)  # Complete\n",
    "    grads = back_propagation(X, y, cache, parameters)  # Complete\n",
    "    for entry in parameters:\n",
    "        parameters[entry] = parameters[entry] - grads[entry] * learning_rate  # Complete\n",
    "        return parameters, cost"
   ]
  },
  {
   "cell_type": "markdown",
   "id": "ac5141b4",
   "metadata": {},
   "source": [
    "We can now train our model, by running the parameter update multiple times. We will use 3 neurons at the hidden layer, a learning rate of 0.01 and run the algorithm for 2,500 iterations. Can you adjust the function below? Make sure to initialize the parameters with our custom-made function. Also, each time you run the parameter-update, store the resulting `cost` in a list `cost_list`. At the end, return the final `parameter` dictionary and the `cost_list`."
   ]
  },
  {
   "cell_type": "code",
   "execution_count": 59,
   "id": "dbc2cf15",
   "metadata": {},
   "outputs": [],
   "source": [
    "def model_training(X, y, hidden_layer_size=3, learning_rate=0.01, iterations=2500, verbose=True):\n",
    "    parameters = initialize_parameters(seed = np.random.randint(1,300), dimension=X.shape[1], hidden_layer_size=hidden_layer_size) # Initialize the parameters\n",
    "    cost_list = []\n",
    "    for it in range(iterations):\n",
    "        parameters, cost = parameter_update(X, y, parameters, learning_rate) # for each iteration, update the parameters using forward and back propagation\n",
    "        cost_list.append(cost) # Also, make sure to add the cost to the cost_list\n",
    "        if verbose:\n",
    "            print('Cost after iteration %i: %f' % (it, cost))\n",
    "    return parameters, cost_list\n"
   ]
  },
  {
   "cell_type": "markdown",
   "id": "37873d5d",
   "metadata": {},
   "source": [
    "Now, train the model and display the training loss:"
   ]
  },
  {
   "cell_type": "markdown",
   "id": "1815d801",
   "metadata": {},
   "source": [
    "def model_training(X,y,hidden_layer_size=3,learning_rate=0.01,iterations=2500,verbose=True):\n",
    "    parameters = initialize_parameters(seed=np.random.randint(1),dimension=X.shape[1],hidden_layer_size=hidden_layer_size) # Initialize the parameters\n",
    "    cost_list = []\n",
    "    for it in range(iterations):\n",
    "        parameters,cost = parameter_update(X,y,parameters,learning_rate) # for each iteration, update the parameters using forward and back propagation\n",
    "        cost_list.append(cost)  # Also, make sure to add the cost to the cost_list\n",
    "        if verbose:\n",
    "            print('Cost after iteration %i: %f' %(it,cost))\n",
    "    return parameters, cost_list"
   ]
  },
  {
   "cell_type": "code",
   "execution_count": 62,
   "id": "39fdda19",
   "metadata": {},
   "outputs": [
    {
     "ename": "KeyError",
     "evalue": "'A2'",
     "output_type": "error",
     "traceback": [
      "\u001b[0;31m---------------------------------------------------------------------------\u001b[0m",
      "\u001b[0;31mKeyError\u001b[0m                                  Traceback (most recent call last)",
      "Cell \u001b[0;32mIn [62], line 1\u001b[0m\n\u001b[0;32m----> 1\u001b[0m parameters, cost_list \u001b[38;5;241m=\u001b[39m model_training(X_train_flat, y_train)\n",
      "Cell \u001b[0;32mIn [59], line 5\u001b[0m, in \u001b[0;36mmodel_training\u001b[0;34m(X, y, hidden_layer_size, learning_rate, iterations, verbose)\u001b[0m\n\u001b[1;32m      3\u001b[0m cost_list \u001b[38;5;241m=\u001b[39m []\n\u001b[1;32m      4\u001b[0m \u001b[38;5;28;01mfor\u001b[39;00m it \u001b[38;5;129;01min\u001b[39;00m \u001b[38;5;28mrange\u001b[39m(iterations):\n\u001b[0;32m----> 5\u001b[0m     parameters, cost \u001b[38;5;241m=\u001b[39m \u001b[43mparameter_update\u001b[49m\u001b[43m(\u001b[49m\u001b[43mX\u001b[49m\u001b[43m,\u001b[49m\u001b[43m \u001b[49m\u001b[43my\u001b[49m\u001b[43m,\u001b[49m\u001b[43m \u001b[49m\u001b[43mparameters\u001b[49m\u001b[43m,\u001b[49m\u001b[43m \u001b[49m\u001b[43mlearning_rate\u001b[49m\u001b[43m)\u001b[49m \u001b[38;5;66;03m# for each iteration, update the parameters using forward and back propagation\u001b[39;00m\n\u001b[1;32m      6\u001b[0m     cost_list\u001b[38;5;241m.\u001b[39mappend(cost) \u001b[38;5;66;03m# Also, make sure to add the cost to the cost_list\u001b[39;00m\n\u001b[1;32m      7\u001b[0m     \u001b[38;5;28;01mif\u001b[39;00m verbose:\n",
      "Cell \u001b[0;32mIn [60], line 3\u001b[0m, in \u001b[0;36mparameter_update\u001b[0;34m(X, y, parameters, learning_rate)\u001b[0m\n\u001b[1;32m      1\u001b[0m \u001b[38;5;28;01mdef\u001b[39;00m \u001b[38;5;21mparameter_update\u001b[39m(X, y, parameters, learning_rate):\n\u001b[1;32m      2\u001b[0m     cost, cache \u001b[38;5;241m=\u001b[39m forward_propagation(X, y, parameters)  \u001b[38;5;66;03m# Complete\u001b[39;00m\n\u001b[0;32m----> 3\u001b[0m     grads \u001b[38;5;241m=\u001b[39m \u001b[43mback_propagation\u001b[49m\u001b[43m(\u001b[49m\u001b[43mX\u001b[49m\u001b[43m,\u001b[49m\u001b[43m \u001b[49m\u001b[43my\u001b[49m\u001b[43m,\u001b[49m\u001b[43m \u001b[49m\u001b[43mcache\u001b[49m\u001b[43m,\u001b[49m\u001b[43m \u001b[49m\u001b[43mparameters\u001b[49m\u001b[43m)\u001b[49m  \u001b[38;5;66;03m# Complete\u001b[39;00m\n\u001b[1;32m      4\u001b[0m     \u001b[38;5;28;01mfor\u001b[39;00m entry \u001b[38;5;129;01min\u001b[39;00m parameters:\n\u001b[1;32m      5\u001b[0m         parameters[entry] \u001b[38;5;241m=\u001b[39m parameters[entry] \u001b[38;5;241m-\u001b[39m grads[entry] \u001b[38;5;241m*\u001b[39m learning_rate  \u001b[38;5;66;03m# Complete\u001b[39;00m\n",
      "Cell \u001b[0;32mIn [57], line 2\u001b[0m, in \u001b[0;36mback_propagation\u001b[0;34m(X, y, parameters, cache)\u001b[0m\n\u001b[1;32m      1\u001b[0m \u001b[38;5;28;01mdef\u001b[39;00m \u001b[38;5;21mback_propagation\u001b[39m(X,y,parameters,cache):\n\u001b[0;32m----> 2\u001b[0m     dZ2 \u001b[38;5;241m=\u001b[39m (\u001b[43mcache\u001b[49m\u001b[43m[\u001b[49m\u001b[38;5;124;43m\"\u001b[39;49m\u001b[38;5;124;43mA2\u001b[39;49m\u001b[38;5;124;43m\"\u001b[39;49m\u001b[43m]\u001b[49m \u001b[38;5;241m-\u001b[39m y) \u001b[38;5;241m/\u001b[39m X\u001b[38;5;241m.\u001b[39mshape[\u001b[38;5;241m0\u001b[39m]\u001b[38;5;66;03m# Complete\u001b[39;00m\n\u001b[1;32m      3\u001b[0m     dW2 \u001b[38;5;241m=\u001b[39m np\u001b[38;5;241m.\u001b[39mdot(cache[\u001b[38;5;124m\"\u001b[39m\u001b[38;5;124mA1\u001b[39m\u001b[38;5;124m\"\u001b[39m]\u001b[38;5;241m.\u001b[39mT, dZ2)\u001b[38;5;66;03m# Complete\u001b[39;00m\n\u001b[1;32m      4\u001b[0m     db2 \u001b[38;5;241m=\u001b[39m np\u001b[38;5;241m.\u001b[39msum(dZ2, axis\u001b[38;5;241m=\u001b[39m\u001b[38;5;241m0\u001b[39m) \u001b[38;5;66;03m# Complete\u001b[39;00m\n",
      "\u001b[0;31mKeyError\u001b[0m: 'A2'"
     ]
    }
   ],
   "source": [
    "parameters, cost_list = model_training(X_train_flat, y_train)"
   ]
  },
  {
   "cell_type": "code",
   "execution_count": null,
   "id": "be0e3cf6",
   "metadata": {},
   "outputs": [],
   "source": [
    "plt.plot(range(len(cost_list)), cost_list)\n",
    "plt.show()"
   ]
  },
  {
   "cell_type": "markdown",
   "id": "48b362b9",
   "metadata": {},
   "source": [
    "### Making predictions\n",
    "\n",
    "We don't just want to train a neural network, we also want to use it to make predictions. For this purpose, we create a `predict` function, that takes an input X, as well as the parameters of the trained model.\n",
    "\n",
    "Don't worry about computing the prediction - we have already done so, when we implemented the forward propagation. Note that forward propagation takes as input both an `X` and a `y`, but we don't care about the cost (only about the `yHat = cache['A2']`, so we can give an empty `y`, as long as it has the correct shape."
   ]
  },
  {
   "cell_type": "code",
   "execution_count": null,
   "id": "c6b97116",
   "metadata": {},
   "outputs": [],
   "source": [
    "def predict(X, parameters):\n",
    "    _, cache = forward_propagation(X, np.zeros((X.shape[0], 1)), parameters)\n",
    "    yHat =    # Get yHat from the cache\n",
    "    y_prediction =      # Make a prediction - when yHat > 0.5, assume 1, otherwise 0\n",
    "    return y_prediction\n"
   ]
  },
  {
   "cell_type": "markdown",
   "id": "702bc17c",
   "metadata": {},
   "source": [
    "Let's see how well our predictions perform, both on the training set and the test set:"
   ]
  },
  {
   "cell_type": "code",
   "execution_count": null,
   "id": "8dd72c71",
   "metadata": {},
   "outputs": [],
   "source": [
    "y_prediction_test = predict(X_test_flat, parameters)\n",
    "y_prediction_train = predict(X_train_flat, parameters)\n",
    "\n",
    "print(\n",
    "    \"train accuracy: {} %\".format(\n",
    "        100 - np.mean(np.abs(y_prediction_train - y_train)) * 100\n",
    "    )\n",
    ")\n",
    "print(\n",
    "    \"test accuracy: {} %\".format(\n",
    "        100 - np.mean(np.abs(y_prediction_test - y_test)) * 100\n",
    "    )\n",
    ")"
   ]
  }
 ],
 "metadata": {
  "interpreter": {
   "hash": "aee8b7b246df8f9039afb4144a1f6fd8d2ca17a180786b69acc140d282b71a49"
  },
  "kernelspec": {
   "display_name": "Python 3.10.1 64-bit",
   "language": "python",
   "name": "python3"
  },
  "language_info": {
   "codemirror_mode": {
    "name": "ipython",
    "version": 3
   },
   "file_extension": ".py",
   "mimetype": "text/x-python",
   "name": "python",
   "nbconvert_exporter": "python",
   "pygments_lexer": "ipython3",
   "version": "3.10.1"
  }
 },
 "nbformat": 4,
 "nbformat_minor": 5
}
