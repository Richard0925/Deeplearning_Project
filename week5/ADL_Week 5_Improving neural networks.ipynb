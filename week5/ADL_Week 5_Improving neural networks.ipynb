{
 "cells": [
  {
   "cell_type": "markdown",
   "id": "4fd1bc41",
   "metadata": {},
   "source": [
    "# Implementing advanced procedures and algorithms in TensorFlow"
   ]
  },
  {
   "cell_type": "markdown",
   "id": "26bdc8d6",
   "metadata": {},
   "source": [
    "This notebook collects advanced procedures relevant to training more complex neural networks. It gives you the possibility to look up the procedures as needed and copy the relevant code. The notebook builds on the books by Aurélien Géron and François Chollet."
   ]
  },
  {
   "cell_type": "code",
   "execution_count": 1,
   "id": "f21cd366",
   "metadata": {},
   "outputs": [],
   "source": [
    "import tensorflow as tf\n",
    "import numpy as np\n",
    "from sklearn.model_selection import train_test_split\n",
    "import matplotlib.pyplot as plt\n",
    "import os, random\n",
    "import ssl\n",
    "\n",
    "ssl._create_default_https_context = ssl._create_unverified_context"
   ]
  },
  {
   "cell_type": "markdown",
   "id": "a31838b2",
   "metadata": {},
   "source": [
    "# 1. From the previous notebook: A multiclass-classification problem"
   ]
  },
  {
   "cell_type": "markdown",
   "id": "6c824b11",
   "metadata": {},
   "source": [
    "Throughout, we will train a neural network on a dataset of fashion-products that is labeled with the categories of each product. The data is loaded directly from TensorFlow (which has quite the broad collection of datasets):"
   ]
  },
  {
   "cell_type": "code",
   "execution_count": 2,
   "id": "ce81c1ae",
   "metadata": {},
   "outputs": [],
   "source": [
    "fashion_mnist = tf.keras.datasets.fashion_mnist\n",
    "(X_other, y_other), (X_test, y_test) = fashion_mnist.load_data()\n"
   ]
  },
  {
   "cell_type": "code",
   "execution_count": 3,
   "id": "7231a214",
   "metadata": {},
   "outputs": [
    {
     "name": "stdout",
     "output_type": "stream",
     "text": [
      "(60000, 28, 28)\n",
      "(60000,)\n",
      "(10000, 28, 28)\n",
      "(10000,)\n"
     ]
    }
   ],
   "source": [
    "print(X_other.shape)\n",
    "print(y_other.shape)\n",
    "print(X_test.shape)\n",
    "print(y_test.shape)\n"
   ]
  },
  {
   "cell_type": "markdown",
   "id": "d502fd8f",
   "metadata": {},
   "source": [
    "The X's are matrices (with 28x28 pixels), while the y's are numbers.\n",
    "Let's plot two examples:"
   ]
  },
  {
   "cell_type": "code",
   "execution_count": 4,
   "id": "1199ffe0",
   "metadata": {},
   "outputs": [
    {
     "data": {
      "text/plain": [
       "(-0.5, 27.5, 27.5, -0.5)"
      ]
     },
     "execution_count": 4,
     "metadata": {},
     "output_type": "execute_result"
    },
    {
     "data": {
      "image/png": "[encoded data removed]",
      "text/plain": [
       "<Figure size 640x480 with 2 Axes>"
      ]
     },
     "metadata": {},
     "output_type": "display_data"
    }
   ],
   "source": [
    "plt.subplot(1, 2, 1)\n",
    "plt.imshow(X_test[0], cmap=\"binary\")\n",
    "plt.axis(\"off\")\n",
    "plt.subplot(1, 2, 2)\n",
    "plt.imshow(X_test[500], cmap=\"binary\")\n",
    "plt.axis(\"off\")"
   ]
  },
  {
   "cell_type": "markdown",
   "id": "ce05e70f",
   "metadata": {},
   "source": [
    "As well as the corresponding labels:"
   ]
  },
  {
   "cell_type": "code",
   "execution_count": 5,
   "id": "89478fbb",
   "metadata": {},
   "outputs": [
    {
     "name": "stdout",
     "output_type": "stream",
     "text": [
      "9\n",
      "2\n"
     ]
    }
   ],
   "source": [
    "print(y_test[0])\n",
    "print(y_test[500])\n"
   ]
  },
  {
   "cell_type": "markdown",
   "id": "e4802b77",
   "metadata": {},
   "source": [
    "That's a bit hard to interpret. Luckily, we have the right names for each label available:"
   ]
  },
  {
   "cell_type": "code",
   "execution_count": 6,
   "id": "51cfed3c",
   "metadata": {},
   "outputs": [],
   "source": [
    "class_names = [\n",
    "    \"T-shirt/top\",\n",
    "    \"Trouser\",\n",
    "    \"Pullover\",\n",
    "    \"Dress\",\n",
    "    \"Coat\",\n",
    "    \"Sandal\",\n",
    "    \"Shirt\",\n",
    "    \"Sneaker\",\n",
    "    \"Bag\",\n",
    "    \"Ankle boot\",\n",
    "]"
   ]
  },
  {
   "cell_type": "markdown",
   "id": "cf13cd27",
   "metadata": {},
   "source": [
    "We can now take another look at what the pictures above represent:"
   ]
  },
  {
   "cell_type": "code",
   "execution_count": 7,
   "id": "ce69c4dd",
   "metadata": {},
   "outputs": [
    {
     "name": "stdout",
     "output_type": "stream",
     "text": [
      "Ankle boot\n",
      "Pullover\n"
     ]
    }
   ],
   "source": [
    "print(class_names[y_test[0]])\n",
    "print(class_names[y_test[500]])\n"
   ]
  },
  {
   "cell_type": "markdown",
   "id": "bc37aff5",
   "metadata": {},
   "source": [
    "Finally, we divide the values of X by 255 (essentially standardizing the pixel-values to 0-1) and also split apart a validation set (of the same size as the test set):"
   ]
  },
  {
   "cell_type": "code",
   "execution_count": 8,
   "id": "09935b02",
   "metadata": {},
   "outputs": [
    {
     "name": "stdout",
     "output_type": "stream",
     "text": [
      "(50000, 28, 28)\n",
      "(50000,)\n",
      "(10000, 28, 28)\n",
      "(10000,)\n"
     ]
    }
   ],
   "source": [
    "X_other = X_other / 255.0\n",
    "X_test = X_test / 255.0\n",
    "X_train, X_valid, y_train, y_valid = train_test_split(\n",
    "    X_other, y_other, train_size=50000, random_state=152\n",
    ")\n",
    "\n",
    "print(X_train.shape)\n",
    "print(y_train.shape)\n",
    "print(X_valid.shape)\n",
    "print(y_valid.shape)"
   ]
  },
  {
   "cell_type": "markdown",
   "id": "473138d8",
   "metadata": {},
   "source": [
    "# 2. Help! My model won't train"
   ]
  },
  {
   "cell_type": "markdown",
   "id": "1c2ebe4f",
   "metadata": {},
   "source": [
    "Sometimes models just won't train, or they only achieve very bad performance. Don't worry, luckily we can always train *some* model, because we can even learn from random data (now, whether this is desirable is another question). Let's see what could be the issue with training our model:"
   ]
  },
  {
   "cell_type": "code",
   "execution_count": 9,
   "id": "cfaabf96",
   "metadata": {},
   "outputs": [
    {
     "name": "stdout",
     "output_type": "stream",
     "text": [
      "Metal device set to: Apple M1 Pro\n",
      "\n",
      "systemMemory: 16.00 GB\n",
      "maxCacheSize: 5.33 GB\n",
      "\n"
     ]
    },
    {
     "name": "stderr",
     "output_type": "stream",
     "text": [
      "2023-03-27 13:59:30.556387: I tensorflow/core/common_runtime/pluggable_device/pluggable_device_factory.cc:306] Could not identify NUMA node of platform GPU ID 0, defaulting to 0. Your kernel may not have been built with NUMA support.\n",
      "2023-03-27 13:59:30.556597: I tensorflow/core/common_runtime/pluggable_device/pluggable_device_factory.cc:272] Created TensorFlow device (/job:localhost/replica:0/task:0/device:GPU:0 with 0 MB memory) -> physical PluggableDevice (device: 0, name: METAL, pci bus id: <undefined>)\n"
     ]
    }
   ],
   "source": [
    "model = tf.keras.models.Sequential(\n",
    "    [\n",
    "        tf.keras.layers.Flatten(input_shape=[28, 28]),\n",
    "        tf.keras.layers.Dense(512, activation=\"relu\"),\n",
    "        tf.keras.layers.Dense(10, activation=\"softmax\"),\n",
    "    ]\n",
    ")"
   ]
  },
  {
   "cell_type": "markdown",
   "id": "455e72fb",
   "metadata": {},
   "source": [
    "Use the `summary` function, to see whether everything worked out as it should. If we defined the model as discussed above, we should get a total of 407,050 parameters."
   ]
  },
  {
   "cell_type": "code",
   "execution_count": 10,
   "id": "c25373f1",
   "metadata": {},
   "outputs": [
    {
     "name": "stdout",
     "output_type": "stream",
     "text": [
      "Model: \"sequential\"\n",
      "_________________________________________________________________\n",
      " Layer (type)                Output Shape              Param #   \n",
      "=================================================================\n",
      " flatten (Flatten)           (None, 784)               0         \n",
      "                                                                 \n",
      " dense (Dense)               (None, 512)               401920    \n",
      "                                                                 \n",
      " dense_1 (Dense)             (None, 10)                5130      \n",
      "                                                                 \n",
      "=================================================================\n",
      "Total params: 407,050\n",
      "Trainable params: 407,050\n",
      "Non-trainable params: 0\n",
      "_________________________________________________________________\n"
     ]
    }
   ],
   "source": [
    "model.summary()\n"
   ]
  },
  {
   "cell_type": "markdown",
   "id": "5f91d79b",
   "metadata": {},
   "source": [
    "We can now compile the model. We use `optimizer=tf.keras.optimizers.experimental.SGD(learning_rate=1.0)` and `metrics=['accuracy']`. For the loss, we use `sparse_categorical_crossentropy`. This is because our y's here are **not** one-hot-encoded, but instead are values from 0 to 9."
   ]
  },
  {
   "cell_type": "code",
   "execution_count": 11,
   "id": "42d71356",
   "metadata": {},
   "outputs": [],
   "source": [
    "model.compile(\n",
    "    loss=\"sparse_categorical_crossentropy\",\n",
    "    optimizer=tf.keras.optimizers.SGD(learning_rate=1.0),\n",
    "    metrics=[\"accuracy\"],\n",
    ")"
   ]
  },
  {
   "cell_type": "markdown",
   "id": "22a9e0f4",
   "metadata": {},
   "source": [
    "Train the model for 15 epochs, keeping track also of the `validation_data`."
   ]
  },
  {
   "cell_type": "code",
   "execution_count": 12,
   "id": "0ee79f8b",
   "metadata": {},
   "outputs": [
    {
     "name": "stdout",
     "output_type": "stream",
     "text": [
      "Epoch 1/10\n"
     ]
    },
    {
     "name": "stderr",
     "output_type": "stream",
     "text": [
      "2023-03-27 13:59:38.114001: W tensorflow/core/platform/profile_utils/cpu_utils.cc:128] Failed to get CPU frequency: 0 Hz\n",
      "2023-03-27 13:59:38.270236: I tensorflow/core/grappler/optimizers/custom_graph_optimizer_registry.cc:114] Plugin optimizer for device_type GPU is enabled.\n"
     ]
    },
    {
     "name": "stdout",
     "output_type": "stream",
     "text": [
      "391/391 [==============================] - ETA: 0s - loss: 2.2876 - accuracy: 0.2547"
     ]
    },
    {
     "name": "stderr",
     "output_type": "stream",
     "text": [
      "2023-03-27 13:59:40.865387: I tensorflow/core/grappler/optimizers/custom_graph_optimizer_registry.cc:114] Plugin optimizer for device_type GPU is enabled.\n"
     ]
    },
    {
     "name": "stdout",
     "output_type": "stream",
     "text": [
      "391/391 [==============================] - 3s 7ms/step - loss: 2.2876 - accuracy: 0.2547 - val_loss: 1.5909 - val_accuracy: 0.3388\n",
      "Epoch 2/10\n",
      "391/391 [==============================] - 3s 7ms/step - loss: 1.8938 - accuracy: 0.2807 - val_loss: 1.5809 - val_accuracy: 0.3679\n",
      "Epoch 3/10\n",
      "391/391 [==============================] - 3s 7ms/step - loss: 2.0414 - accuracy: 0.2203 - val_loss: 2.2578 - val_accuracy: 0.1174\n",
      "Epoch 4/10\n",
      "391/391 [==============================] - 3s 8ms/step - loss: 2.0115 - accuracy: 0.2188 - val_loss: 1.5512 - val_accuracy: 0.3593\n",
      "Epoch 5/10\n",
      "391/391 [==============================] - 3s 7ms/step - loss: 2.1257 - accuracy: 0.1879 - val_loss: 2.0836 - val_accuracy: 0.1185\n",
      "Epoch 6/10\n",
      "391/391 [==============================] - 3s 7ms/step - loss: 2.1277 - accuracy: 0.1745 - val_loss: 2.0180 - val_accuracy: 0.2053\n",
      "Epoch 7/10\n",
      "391/391 [==============================] - 3s 7ms/step - loss: 2.1844 - accuracy: 0.1502 - val_loss: 2.3040 - val_accuracy: 0.1153\n",
      "Epoch 8/10\n",
      "391/391 [==============================] - 3s 7ms/step - loss: 2.2666 - accuracy: 0.1182 - val_loss: 2.3048 - val_accuracy: 0.1034\n",
      "Epoch 9/10\n",
      "391/391 [==============================] - 3s 7ms/step - loss: 2.2393 - accuracy: 0.1267 - val_loss: 1.9317 - val_accuracy: 0.1935\n",
      "Epoch 10/10\n",
      "391/391 [==============================] - 3s 7ms/step - loss: 2.1384 - accuracy: 0.1798 - val_loss: 2.3793 - val_accuracy: 0.1997\n"
     ]
    }
   ],
   "source": [
    "log = model.fit(\n",
    "    X_train, y_train, epochs=10, batch_size=128, validation_data=(X_valid, y_valid)\n",
    ")"
   ]
  },
  {
   "cell_type": "markdown",
   "id": "e175357c",
   "metadata": {},
   "source": [
    "Take a look at the training process:"
   ]
  },
  {
   "cell_type": "code",
   "execution_count": 13,
   "id": "1d30a452",
   "metadata": {},
   "outputs": [
    {
     "data": {
      "image/png": "[encoded data removed]",
      "text/plain": [
       "<Figure size 640x480 with 1 Axes>"
      ]
     },
     "metadata": {},
     "output_type": "display_data"
    }
   ],
   "source": [
    "def create_plot(log):\n",
    "    plt.plot(log.history[\"accuracy\"], label=\"training accuracy\", color=\"green\")\n",
    "    plt.plot(log.history[\"loss\"], label=\"training loss\", color=\"darkgreen\")\n",
    "    plt.plot(log.history[\"val_accuracy\"], label=\"validation accuracy\", color=\"grey\")\n",
    "    plt.plot(log.history[\"val_loss\"], label=\"validation loss\", color=\"darkblue\")\n",
    "    plt.legend()\n",
    "    plt.show()\n",
    "\n",
    "\n",
    "create_plot(log)"
   ]
  },
  {
   "cell_type": "markdown",
   "id": "e8883a32",
   "metadata": {},
   "source": [
    "Of course, we are not making great predictions with our model:"
   ]
  },
  {
   "cell_type": "code",
   "execution_count": 14,
   "id": "5dbd4e2d",
   "metadata": {},
   "outputs": [
    {
     "name": "stdout",
     "output_type": "stream",
     "text": [
      "1/1 [==============================] - 0s 55ms/step\n",
      "Predictions are: ['Sandal', 'Pullover', 'Pullover', 'Pullover']\n"
     ]
    },
    {
     "name": "stderr",
     "output_type": "stream",
     "text": [
      "2023-03-27 14:00:05.693307: I tensorflow/core/grappler/optimizers/custom_graph_optimizer_registry.cc:114] Plugin optimizer for device_type GPU is enabled.\n"
     ]
    },
    {
     "data": {
      "image/png": "[encoded data removed]",
      "text/plain": [
       "<Figure size 640x480 with 4 Axes>"
      ]
     },
     "metadata": {},
     "output_type": "display_data"
    }
   ],
   "source": [
    "X_new = X_test[:4]\n",
    "y_predict = np.argmax(model.predict(X_new), axis=-1)\n",
    "y_predict = [class_names[y] for y in y_predict]\n",
    "plt.subplot(1, 4, 1)\n",
    "plt.imshow(X_test[0], cmap=\"binary\")\n",
    "plt.axis(\"off\")\n",
    "plt.subplot(1, 4, 2)\n",
    "plt.imshow(X_test[1], cmap=\"binary\")\n",
    "plt.axis(\"off\")\n",
    "plt.subplot(1, 4, 3)\n",
    "plt.imshow(X_test[2], cmap=\"binary\")\n",
    "plt.axis(\"off\")\n",
    "plt.subplot(1, 4, 4)\n",
    "plt.imshow(X_test[3], cmap=\"binary\")\n",
    "plt.axis(\"off\")\n",
    "print(\"Predictions are: \" + str(y_predict))"
   ]
  },
  {
   "cell_type": "markdown",
   "id": "82d38f9b",
   "metadata": {},
   "source": [
    "Let's try this again, by lowering our learning rate:"
   ]
  },
  {
   "cell_type": "code",
   "execution_count": 32,
   "id": "56c8dace",
   "metadata": {},
   "outputs": [
    {
     "name": "stdout",
     "output_type": "stream",
     "text": [
      "Epoch 1/20\n",
      " 14/391 [>.............................] - ETA: 3s - loss: 2.0620 - accuracy: 0.3549"
     ]
    },
    {
     "name": "stderr",
     "output_type": "stream",
     "text": [
      "2023-02-23 09:37:30.776902: I tensorflow/core/grappler/optimizers/custom_graph_optimizer_registry.cc:114] Plugin optimizer for device_type GPU is enabled.\n"
     ]
    },
    {
     "name": "stdout",
     "output_type": "stream",
     "text": [
      "391/391 [==============================] - ETA: 0s - loss: 1.0326 - accuracy: 0.6914"
     ]
    },
    {
     "name": "stderr",
     "output_type": "stream",
     "text": [
      "2023-02-23 09:37:33.870223: I tensorflow/core/grappler/optimizers/custom_graph_optimizer_registry.cc:114] Plugin optimizer for device_type GPU is enabled.\n"
     ]
    },
    {
     "name": "stdout",
     "output_type": "stream",
     "text": [
      "391/391 [==============================] - 4s 9ms/step - loss: 1.0326 - accuracy: 0.6914 - val_loss: 0.7517 - val_accuracy: 0.7572\n",
      "Epoch 2/20\n",
      "391/391 [==============================] - 3s 7ms/step - loss: 0.6768 - accuracy: 0.7846 - val_loss: 0.6391 - val_accuracy: 0.7906\n",
      "Epoch 3/20\n",
      "391/391 [==============================] - 3s 7ms/step - loss: 0.5967 - accuracy: 0.8097 - val_loss: 0.5848 - val_accuracy: 0.8048\n",
      "Epoch 4/20\n",
      "391/391 [==============================] - 3s 7ms/step - loss: 0.5538 - accuracy: 0.8199 - val_loss: 0.5566 - val_accuracy: 0.8090\n",
      "Epoch 5/20\n",
      "391/391 [==============================] - 3s 7ms/step - loss: 0.5262 - accuracy: 0.8271 - val_loss: 0.5336 - val_accuracy: 0.8183\n",
      "Epoch 6/20\n",
      "391/391 [==============================] - 3s 7ms/step - loss: 0.5056 - accuracy: 0.8322 - val_loss: 0.5126 - val_accuracy: 0.8251\n",
      "Epoch 7/20\n",
      "391/391 [==============================] - 3s 7ms/step - loss: 0.4903 - accuracy: 0.8358 - val_loss: 0.5081 - val_accuracy: 0.8272\n",
      "Epoch 8/20\n",
      "391/391 [==============================] - 3s 7ms/step - loss: 0.4780 - accuracy: 0.8391 - val_loss: 0.4889 - val_accuracy: 0.8335\n",
      "Epoch 9/20\n",
      "391/391 [==============================] - 3s 7ms/step - loss: 0.4678 - accuracy: 0.8424 - val_loss: 0.4778 - val_accuracy: 0.8340\n",
      "Epoch 10/20\n",
      "391/391 [==============================] - 3s 7ms/step - loss: 0.4586 - accuracy: 0.8441 - val_loss: 0.4700 - val_accuracy: 0.8376\n",
      "Epoch 11/20\n",
      "391/391 [==============================] - 3s 7ms/step - loss: 0.4510 - accuracy: 0.8473 - val_loss: 0.4606 - val_accuracy: 0.8423\n",
      "Epoch 12/20\n",
      "391/391 [==============================] - 3s 7ms/step - loss: 0.4440 - accuracy: 0.8497 - val_loss: 0.4612 - val_accuracy: 0.8417\n",
      "Epoch 13/20\n",
      "391/391 [==============================] - 3s 7ms/step - loss: 0.4383 - accuracy: 0.8509 - val_loss: 0.4505 - val_accuracy: 0.8458\n",
      "Epoch 14/20\n",
      "391/391 [==============================] - 3s 7ms/step - loss: 0.4325 - accuracy: 0.8533 - val_loss: 0.4481 - val_accuracy: 0.8453\n",
      "Epoch 15/20\n",
      "391/391 [==============================] - 3s 7ms/step - loss: 0.4277 - accuracy: 0.8547 - val_loss: 0.4418 - val_accuracy: 0.8478\n",
      "Epoch 16/20\n",
      "391/391 [==============================] - 3s 7ms/step - loss: 0.4228 - accuracy: 0.8560 - val_loss: 0.4368 - val_accuracy: 0.8530\n",
      "Epoch 17/20\n",
      "391/391 [==============================] - 3s 7ms/step - loss: 0.4185 - accuracy: 0.8583 - val_loss: 0.4386 - val_accuracy: 0.8472\n",
      "Epoch 18/20\n",
      "391/391 [==============================] - 3s 7ms/step - loss: 0.4141 - accuracy: 0.8588 - val_loss: 0.4395 - val_accuracy: 0.8474\n",
      "Epoch 19/20\n",
      "391/391 [==============================] - 3s 6ms/step - loss: 0.4109 - accuracy: 0.8601 - val_loss: 0.4291 - val_accuracy: 0.8517\n",
      "Epoch 20/20\n",
      "391/391 [==============================] - 3s 7ms/step - loss: 0.4072 - accuracy: 0.8611 - val_loss: 0.4362 - val_accuracy: 0.8488\n"
     ]
    },
    {
     "data": {
      "image/png": "[encoded data removed]",
      "text/plain": [
       "<Figure size 640x480 with 1 Axes>"
      ]
     },
     "metadata": {},
     "output_type": "display_data"
    }
   ],
   "source": [
    "model = tf.keras.models.Sequential(\n",
    "    [\n",
    "        tf.keras.layers.Flatten(input_shape=[28, 28]),\n",
    "        tf.keras.layers.Dense(512, activation=\"relu\"),\n",
    "        tf.keras.layers.Dense(10, activation=\"softmax\"),\n",
    "    ]\n",
    ")\n",
    "model.compile(\n",
    "    loss=\"sparse_categorical_crossentropy\",\n",
    "    optimizer=tf.keras.optimizers.SGD(learning_rate=0.01),\n",
    "    metrics=[\"accuracy\"],\n",
    ")\n",
    "log = model.fit(\n",
    "    X_train, y_train, epochs=20, batch_size=128, validation_data=(X_valid, y_valid)\n",
    ")\n",
    "create_plot(log)"
   ]
  },
  {
   "cell_type": "markdown",
   "id": "761f747a",
   "metadata": {},
   "source": [
    "Looking much better, right? Our predictions also make somewhat more sense:"
   ]
  },
  {
   "cell_type": "code",
   "execution_count": 21,
   "id": "06013504",
   "metadata": {},
   "outputs": [
    {
     "name": "stdout",
     "output_type": "stream",
     "text": [
      "1/1 [==============================] - 0s 33ms/step\n",
      "Predictions are: ['Ankle boot', 'Pullover', 'Trouser', 'Trouser']\n"
     ]
    },
    {
     "name": "stderr",
     "output_type": "stream",
     "text": [
      "2023-02-23 09:20:52.287058: I tensorflow/core/grappler/optimizers/custom_graph_optimizer_registry.cc:114] Plugin optimizer for device_type GPU is enabled.\n"
     ]
    },
    {
     "data": {
      "image/png": "[encoded data removed]",
      "text/plain": [
       "<Figure size 640x480 with 4 Axes>"
      ]
     },
     "metadata": {},
     "output_type": "display_data"
    }
   ],
   "source": [
    "X_new = X_test[:4]\n",
    "y_predict = np.argmax(model.predict(X_new), axis=-1)\n",
    "y_predict = [class_names[y] for y in y_predict]\n",
    "plt.subplot(1, 4, 1)\n",
    "plt.imshow(X_test[0], cmap=\"binary\")\n",
    "plt.axis(\"off\")\n",
    "plt.subplot(1, 4, 2)\n",
    "plt.imshow(X_test[1], cmap=\"binary\")\n",
    "plt.axis(\"off\")\n",
    "plt.subplot(1, 4, 3)\n",
    "plt.imshow(X_test[2], cmap=\"binary\")\n",
    "plt.axis(\"off\")\n",
    "plt.subplot(1, 4, 4)\n",
    "plt.imshow(X_test[3], cmap=\"binary\")\n",
    "plt.axis(\"off\")\n",
    "print(\"Predictions are: \" + str(y_predict))"
   ]
  },
  {
   "cell_type": "markdown",
   "id": "28cf4e93",
   "metadata": {},
   "source": [
    "## 2.1 Other changes that may be useful"
   ]
  },
  {
   "cell_type": "markdown",
   "id": "70aa7d56",
   "metadata": {},
   "source": [
    "### Defining the batch size"
   ]
  },
  {
   "cell_type": "markdown",
   "id": "b25e8f6b",
   "metadata": {},
   "source": [
    "You might not have noticed, but we run mini-batch gradient descent by default. We can control the batch-size within the `model.fit` function. The default is `32`. Run the below code:"
   ]
  },
  {
   "cell_type": "code",
   "execution_count": 23,
   "id": "b216a467",
   "metadata": {},
   "outputs": [
    {
     "name": "stdout",
     "output_type": "stream",
     "text": [
      "Epoch 1/2\n",
      "  21/6250 [..............................] - ETA: 32s - loss: 2.0746 - accuracy: 0.3155 "
     ]
    },
    {
     "name": "stderr",
     "output_type": "stream",
     "text": [
      "2023-02-23 09:21:06.262782: I tensorflow/core/grappler/optimizers/custom_graph_optimizer_registry.cc:114] Plugin optimizer for device_type GPU is enabled.\n"
     ]
    },
    {
     "name": "stdout",
     "output_type": "stream",
     "text": [
      "6242/6250 [============================>.] - ETA: 0s - loss: 0.5756 - accuracy: 0.8052"
     ]
    },
    {
     "name": "stderr",
     "output_type": "stream",
     "text": [
      "2023-02-23 09:21:37.034123: I tensorflow/core/grappler/optimizers/custom_graph_optimizer_registry.cc:114] Plugin optimizer for device_type GPU is enabled.\n"
     ]
    },
    {
     "name": "stdout",
     "output_type": "stream",
     "text": [
      "6250/6250 [==============================] - 35s 6ms/step - loss: 0.5755 - accuracy: 0.8052 - val_loss: 0.4716 - val_accuracy: 0.8367\n",
      "Epoch 2/2\n",
      "6250/6250 [==============================] - 34s 5ms/step - loss: 0.4320 - accuracy: 0.8492 - val_loss: 0.4149 - val_accuracy: 0.8553\n"
     ]
    }
   ],
   "source": [
    "model = tf.keras.models.Sequential(\n",
    "    [\n",
    "        tf.keras.layers.Flatten(input_shape=[28, 28]),\n",
    "        tf.keras.layers.Dense(512, activation=\"relu\"),\n",
    "        tf.keras.layers.Dense(10, activation=\"softmax\"),\n",
    "    ]\n",
    ")\n",
    "model.compile(\n",
    "    loss=\"sparse_categorical_crossentropy\",\n",
    "    optimizer=tf.keras.optimizers.SGD(learning_rate=0.01),\n",
    "    metrics=[\"accuracy\"],\n",
    ")\n",
    "log = model.fit(\n",
    "    X_train, y_train, epochs=2, batch_size=8, validation_data=(X_valid, y_valid)\n",
    ")"
   ]
  },
  {
   "cell_type": "markdown",
   "id": "377b4fd8",
   "metadata": {},
   "source": [
    "Can you remake the model, but change the `batch_size` to `256`?"
   ]
  },
  {
   "cell_type": "code",
   "execution_count": 34,
   "id": "2bc02406",
   "metadata": {},
   "outputs": [
    {
     "name": "stdout",
     "output_type": "stream",
     "text": [
      "Epoch 1/10\n",
      "  16/1563 [..............................] - ETA: 10s - loss: 2.0935 - accuracy: 0.2422"
     ]
    },
    {
     "name": "stderr",
     "output_type": "stream",
     "text": [
      "2023-02-23 09:39:39.696424: I tensorflow/core/grappler/optimizers/custom_graph_optimizer_registry.cc:114] Plugin optimizer for device_type GPU is enabled.\n"
     ]
    },
    {
     "name": "stdout",
     "output_type": "stream",
     "text": [
      "1563/1563 [==============================] - ETA: 0s - loss: 0.7319 - accuracy: 0.7654"
     ]
    },
    {
     "name": "stderr",
     "output_type": "stream",
     "text": [
      "2023-02-23 09:39:49.320725: I tensorflow/core/grappler/optimizers/custom_graph_optimizer_registry.cc:114] Plugin optimizer for device_type GPU is enabled.\n"
     ]
    },
    {
     "name": "stdout",
     "output_type": "stream",
     "text": [
      "1563/1563 [==============================] - 11s 7ms/step - loss: 0.7319 - accuracy: 0.7654 - val_loss: 0.5671 - val_accuracy: 0.8084\n",
      "Epoch 2/10\n",
      "1563/1563 [==============================] - 10s 6ms/step - loss: 0.5123 - accuracy: 0.8278 - val_loss: 0.5000 - val_accuracy: 0.8293\n",
      "Epoch 3/10\n",
      "1563/1563 [==============================] - 10s 6ms/step - loss: 0.4671 - accuracy: 0.8413 - val_loss: 0.4777 - val_accuracy: 0.8317\n",
      "Epoch 4/10\n",
      "1563/1563 [==============================] - 10s 6ms/step - loss: 0.4414 - accuracy: 0.8479 - val_loss: 0.4489 - val_accuracy: 0.8421\n",
      "Epoch 5/10\n",
      "1563/1563 [==============================] - 11s 7ms/step - loss: 0.4232 - accuracy: 0.8541 - val_loss: 0.4549 - val_accuracy: 0.8382\n",
      "Epoch 6/10\n",
      "1563/1563 [==============================] - 10s 6ms/step - loss: 0.4093 - accuracy: 0.8596 - val_loss: 0.4212 - val_accuracy: 0.8532\n",
      "Epoch 7/10\n",
      "1563/1563 [==============================] - 9s 6ms/step - loss: 0.3983 - accuracy: 0.8626 - val_loss: 0.4011 - val_accuracy: 0.8627\n",
      "Epoch 8/10\n",
      "1563/1563 [==============================] - 10s 7ms/step - loss: 0.3876 - accuracy: 0.8674 - val_loss: 0.3990 - val_accuracy: 0.8629\n",
      "Epoch 9/10\n",
      "1563/1563 [==============================] - 11s 7ms/step - loss: 0.3772 - accuracy: 0.8700 - val_loss: 0.3927 - val_accuracy: 0.8640\n",
      "Epoch 10/10\n",
      "1563/1563 [==============================] - 10s 6ms/step - loss: 0.3698 - accuracy: 0.8716 - val_loss: 0.3889 - val_accuracy: 0.8631\n"
     ]
    }
   ],
   "source": [
    "model = tf.keras.models.Sequential(\n",
    "    [\n",
    "        tf.keras.layers.Flatten(input_shape=[28, 28]),\n",
    "        tf.keras.layers.Dense(512, activation=\"relu\"),\n",
    "        tf.keras.layers.Dense(10, activation=\"softmax\"),\n",
    "    ]\n",
    ")\n",
    "model.compile(\n",
    "    loss=\"sparse_categorical_crossentropy\",\n",
    "    optimizer=tf.keras.optimizers.SGD(learning_rate=0.01),\n",
    "    metrics=[\"accuracy\"],\n",
    ")\n",
    "log = model.fit(\n",
    "    X_train, y_train, epochs=10, batch_size=32, validation_data=(X_valid, y_valid)\n",
    ")"
   ]
  },
  {
   "cell_type": "markdown",
   "id": "fb6c220c",
   "metadata": {},
   "source": [
    "Notice the number of steps taken in each epoch (the counter just underneath \"Epoch x/30\"). Can you explain where the number of steps are coming from? What do you notice about the time taken?"
   ]
  },
  {
   "cell_type": "markdown",
   "id": "d4b81f19",
   "metadata": {},
   "source": [
    "### Using Momentum"
   ]
  },
  {
   "cell_type": "markdown",
   "id": "77537c1f",
   "metadata": {},
   "source": [
    "We can add momentum to many algorithms. The base case is to add momentum to `SGD`. A typical value is `0.9` but keep in mind that this is another hyperparameter that may need some tuning. When setting up `SGD`, you can also tick `nesterov=True` to use the Nesterov algorithm, a moment-based algorithm we didn't discuss. Try it out:"
   ]
  },
  {
   "cell_type": "code",
   "execution_count": 35,
   "id": "06f507ec",
   "metadata": {},
   "outputs": [
    {
     "name": "stdout",
     "output_type": "stream",
     "text": [
      "Epoch 1/5\n",
      " 15/391 [>.............................] - ETA: 2s - loss: 1.7818 - accuracy: 0.4240"
     ]
    },
    {
     "name": "stderr",
     "output_type": "stream",
     "text": [
      "2023-02-23 09:41:30.259286: I tensorflow/core/grappler/optimizers/custom_graph_optimizer_registry.cc:114] Plugin optimizer for device_type GPU is enabled.\n"
     ]
    },
    {
     "name": "stdout",
     "output_type": "stream",
     "text": [
      "391/391 [==============================] - ETA: 0s - loss: 0.6399 - accuracy: 0.7838"
     ]
    },
    {
     "name": "stderr",
     "output_type": "stream",
     "text": [
      "2023-02-23 09:41:32.931011: I tensorflow/core/grappler/optimizers/custom_graph_optimizer_registry.cc:114] Plugin optimizer for device_type GPU is enabled.\n"
     ]
    },
    {
     "name": "stdout",
     "output_type": "stream",
     "text": [
      "391/391 [==============================] - 3s 8ms/step - loss: 0.6399 - accuracy: 0.7838 - val_loss: 0.4840 - val_accuracy: 0.8327\n",
      "Epoch 2/5\n",
      "391/391 [==============================] - 3s 7ms/step - loss: 0.4546 - accuracy: 0.8444 - val_loss: 0.4325 - val_accuracy: 0.8508\n",
      "Epoch 3/5\n",
      "391/391 [==============================] - 3s 8ms/step - loss: 0.4111 - accuracy: 0.8578 - val_loss: 0.4157 - val_accuracy: 0.8545\n",
      "Epoch 4/5\n",
      "391/391 [==============================] - 3s 7ms/step - loss: 0.3863 - accuracy: 0.8658 - val_loss: 0.3948 - val_accuracy: 0.8585\n",
      "Epoch 5/5\n",
      "391/391 [==============================] - 3s 7ms/step - loss: 0.3716 - accuracy: 0.8701 - val_loss: 0.3895 - val_accuracy: 0.8640\n"
     ]
    },
    {
     "data": {
      "image/png": "[encoded data removed]",
      "text/plain": [
       "<Figure size 640x480 with 1 Axes>"
      ]
     },
     "metadata": {},
     "output_type": "display_data"
    }
   ],
   "source": [
    "model = tf.keras.models.Sequential(\n",
    "    [\n",
    "        tf.keras.layers.Flatten(input_shape=[28, 28]),\n",
    "        tf.keras.layers.Dense(512, activation=\"relu\"),\n",
    "        tf.keras.layers.Dense(10, activation=\"softmax\"),\n",
    "    ]\n",
    ")\n",
    "model.compile(\n",
    "    loss=\"sparse_categorical_crossentropy\",\n",
    "    optimizer=tf.keras.optimizers.SGD(\n",
    "        learning_rate=0.01, momentum=0.9, nesterov=False\n",
    "    ),\n",
    "    metrics=[\"accuracy\"],\n",
    ")\n",
    "log = model.fit(\n",
    "    X_train, y_train, epochs=5, batch_size=128, validation_data=(X_valid, y_valid)\n",
    ")\n",
    "create_plot(log)"
   ]
  },
  {
   "cell_type": "markdown",
   "id": "378536d2",
   "metadata": {},
   "source": [
    "### RMSpop"
   ]
  },
  {
   "cell_type": "markdown",
   "id": "0a7b6580",
   "metadata": {},
   "source": [
    "RMSprop is an algorithm that pursues a slightly different idea: it normalizes the gradients using their squares. It requires to specify a `learning_rate`, as well as the hyperparameters `rho` and `epsilon`. For the latter two, the standard values usually do just fine, while even the `learning_rate` is less problematic than in `SGD`.\n",
    "\n",
    "If you want, you can also add `momentum` to the algorithm.\n",
    "\n",
    "Try it out:"
   ]
  },
  {
   "cell_type": "code",
   "execution_count": 31,
   "id": "e87deefe",
   "metadata": {},
   "outputs": [
    {
     "name": "stdout",
     "output_type": "stream",
     "text": [
      "Epoch 1/3\n"
     ]
    },
    {
     "name": "stderr",
     "output_type": "stream",
     "text": [
      "2023-02-23 09:35:59.533746: I tensorflow/core/grappler/optimizers/custom_graph_optimizer_registry.cc:114] Plugin optimizer for device_type GPU is enabled.\n"
     ]
    },
    {
     "name": "stdout",
     "output_type": "stream",
     "text": [
      "391/391 [==============================] - ETA: 0s - loss: 0.5846 - accuracy: 0.7944"
     ]
    },
    {
     "name": "stderr",
     "output_type": "stream",
     "text": [
      "2023-02-23 09:36:03.088044: I tensorflow/core/grappler/optimizers/custom_graph_optimizer_registry.cc:114] Plugin optimizer for device_type GPU is enabled.\n"
     ]
    },
    {
     "name": "stdout",
     "output_type": "stream",
     "text": [
      "391/391 [==============================] - 4s 10ms/step - loss: 0.5846 - accuracy: 0.7944 - val_loss: 0.4310 - val_accuracy: 0.8385\n",
      "Epoch 2/3\n",
      "391/391 [==============================] - 3s 8ms/step - loss: 0.3950 - accuracy: 0.8555 - val_loss: 0.3835 - val_accuracy: 0.8548\n",
      "Epoch 3/3\n",
      "391/391 [==============================] - 3s 8ms/step - loss: 0.3465 - accuracy: 0.8727 - val_loss: 0.3977 - val_accuracy: 0.8548\n"
     ]
    },
    {
     "data": {
      "image/png": "[encoded data removed]",
      "text/plain": [
       "<Figure size 640x480 with 1 Axes>"
      ]
     },
     "metadata": {},
     "output_type": "display_data"
    }
   ],
   "source": [
    "model = tf.keras.models.Sequential(\n",
    "    [\n",
    "        tf.keras.layers.Flatten(input_shape=[28, 28]),\n",
    "        tf.keras.layers.Dense(512, activation=\"relu\"),\n",
    "        tf.keras.layers.Dense(10, activation=\"softmax\"),\n",
    "    ]\n",
    ")\n",
    "model.compile(\n",
    "    loss=\"sparse_categorical_crossentropy\",\n",
    "    optimizer=tf.keras.optimizers.RMSprop(\n",
    "        learning_rate=0.001, rho=0.9, epsilon=1e-07, momentum=0.0\n",
    "    ),\n",
    "    metrics=[\"accuracy\"],\n",
    ")\n",
    "log = model.fit(\n",
    "    X_train, y_train, epochs=3, batch_size=128, validation_data=(X_valid, y_valid)\n",
    ")\n",
    "create_plot(log)"
   ]
  },
  {
   "cell_type": "markdown",
   "id": "3a480df7",
   "metadata": {},
   "source": [
    "### Adam"
   ]
  },
  {
   "cell_type": "markdown",
   "id": "5324f9d3",
   "metadata": {},
   "source": [
    "Finally, we have `Adam`, which is used as commonly (or even more) than `RMSprop`. Adam combines the ideas of RMSprop and momentum gradient descent. However, it also adds a slight adjustment that is particularly relevant for early iterations. The hyperparameters are `learning_rate`, `beta_1`, `beta_2`, and `epislon`, even though mostly people leave everything but the `learning_rate` alone. Try it out:"
   ]
  },
  {
   "cell_type": "code",
   "execution_count": 41,
   "id": "3ebeeefd",
   "metadata": {},
   "outputs": [
    {
     "name": "stdout",
     "output_type": "stream",
     "text": [
      "Epoch 1/3\n",
      "  1/391 [..............................] - ETA: 1:56 - loss: 2.5621 - accuracy: 0.0781"
     ]
    },
    {
     "name": "stderr",
     "output_type": "stream",
     "text": [
      "2023-02-23 09:45:05.569237: I tensorflow/core/grappler/optimizers/custom_graph_optimizer_registry.cc:114] Plugin optimizer for device_type GPU is enabled.\n"
     ]
    },
    {
     "name": "stdout",
     "output_type": "stream",
     "text": [
      "391/391 [==============================] - ETA: 0s - loss: 0.5256 - accuracy: 0.8164"
     ]
    },
    {
     "name": "stderr",
     "output_type": "stream",
     "text": [
      "2023-02-23 09:45:08.524690: I tensorflow/core/grappler/optimizers/custom_graph_optimizer_registry.cc:114] Plugin optimizer for device_type GPU is enabled.\n"
     ]
    },
    {
     "name": "stdout",
     "output_type": "stream",
     "text": [
      "391/391 [==============================] - 3s 8ms/step - loss: 0.5256 - accuracy: 0.8164 - val_loss: 0.4503 - val_accuracy: 0.8387\n",
      "Epoch 2/3\n",
      "391/391 [==============================] - 3s 7ms/step - loss: 0.3894 - accuracy: 0.8613 - val_loss: 0.3644 - val_accuracy: 0.8709\n",
      "Epoch 3/3\n",
      "391/391 [==============================] - 3s 7ms/step - loss: 0.3415 - accuracy: 0.8764 - val_loss: 0.3902 - val_accuracy: 0.8624\n"
     ]
    },
    {
     "data": {
      "image/png": "[encoded data removed]",
      "text/plain": [
       "<Figure size 640x480 with 1 Axes>"
      ]
     },
     "metadata": {},
     "output_type": "display_data"
    }
   ],
   "source": [
    "model = tf.keras.models.Sequential(\n",
    "    [\n",
    "        tf.keras.layers.Flatten(input_shape=[28, 28]),\n",
    "        tf.keras.layers.Dense(512, activation=\"relu\"),\n",
    "        tf.keras.layers.Dense(10, activation=\"softmax\"),\n",
    "    ]\n",
    ")\n",
    "model.compile(\n",
    "    loss=\"sparse_categorical_crossentropy\",\n",
    "    optimizer=tf.keras.optimizers.Adam(\n",
    "        learning_rate=0.001, beta_1=0.9, beta_2=0.999, epsilon=1e-07\n",
    "    ),\n",
    "    metrics=[\"accuracy\"],\n",
    ")\n",
    "log = model.fit(\n",
    "    X_train, y_train, epochs=3, batch_size=128, validation_data=(X_valid, y_valid)\n",
    ")\n",
    "create_plot(log)"
   ]
  },
  {
   "cell_type": "markdown",
   "id": "859fd868",
   "metadata": {},
   "source": [
    "### Specific initializations"
   ]
  },
  {
   "cell_type": "markdown",
   "id": "6a0a5e08",
   "metadata": {},
   "source": [
    "We generally want to initialize our weights in a sensible manner (especially if we are not using batch normalization, for example, because of runtime concerns). Let's start with our baseline model:"
   ]
  },
  {
   "cell_type": "code",
   "execution_count": 42,
   "id": "6c53a04b",
   "metadata": {},
   "outputs": [
    {
     "name": "stdout",
     "output_type": "stream",
     "text": [
      "First layer: 0.051384553\n",
      "Last layer: 0.04810781\n"
     ]
    }
   ],
   "source": [
    "os.environ[\"PYTHONHASHSEED\"] = str(631)\n",
    "random.seed(631)\n",
    "np.random.seed(631)\n",
    "tf.random.set_seed(631)\n",
    "\n",
    "model = tf.keras.models.Sequential(\n",
    "    [\n",
    "        tf.keras.layers.Flatten(input_shape=[28, 28]),\n",
    "        tf.keras.layers.Dense(512, activation=\"relu\"),\n",
    "        tf.keras.layers.Dense(10, activation=\"softmax\"),\n",
    "    ]\n",
    ")\n",
    "\n",
    "weights, biases = model.layers[1].get_weights()\n",
    "print(\"First layer: \" + str(weights[0, 0]))\n",
    "weights, biases = model.layers[-1].get_weights()\n",
    "print(\"Last layer: \" + str(weights[0, 0]))"
   ]
  },
  {
   "cell_type": "markdown",
   "id": "b4eeffbb",
   "metadata": {},
   "source": [
    "Can you copy the model definition, but change the first layer to `kernel_initializer='he_normal'` and the output layer to `kernel_initializer='glorot_uniform'`?\n",
    "\n",
    "What changes do you observe in the first layer, what changes in the last layer? Do they make sense?"
   ]
  },
  {
   "cell_type": "code",
   "execution_count": 43,
   "id": "e96b34dc",
   "metadata": {},
   "outputs": [
    {
     "name": "stdout",
     "output_type": "stream",
     "text": [
      "First layer: -0.022559397\n",
      "Last layer: 0.04810781\n"
     ]
    }
   ],
   "source": [
    "os.environ[\"PYTHONHASHSEED\"] = str(631)\n",
    "random.seed(631)\n",
    "np.random.seed(631)\n",
    "tf.random.set_seed(631)\n",
    "\n",
    "model = tf.keras.models.Sequential(\n",
    "    [\n",
    "        tf.keras.layers.Flatten(input_shape=[28, 28]),\n",
    "        tf.keras.layers.Dense(512, activation=\"relu\", kernel_initializer=\"he_normal\"),\n",
    "        tf.keras.layers.Dense(\n",
    "            10, activation=\"softmax\", kernel_initializer=\"glorot_uniform\"\n",
    "        ),\n",
    "    ]\n",
    ")\n",
    "\n",
    "weights, biases = model.layers[1].get_weights()\n",
    "print(\"First layer: \" + str(weights[0, 0]))\n",
    "weights, biases = model.layers[-1].get_weights()\n",
    "print(\"Last layer: \" + str(weights[0, 0]))"
   ]
  },
  {
   "cell_type": "markdown",
   "id": "7078eaff",
   "metadata": {},
   "source": [
    "# 3. Enabling and speeding up training"
   ]
  },
  {
   "cell_type": "markdown",
   "id": "6c2ab13f",
   "metadata": {},
   "source": [
    "Below, we create a much deeper neural network. As you can see, not much is happening in terms of learning for now:"
   ]
  },
  {
   "cell_type": "code",
   "execution_count": 45,
   "id": "49ea296d",
   "metadata": {},
   "outputs": [
    {
     "name": "stdout",
     "output_type": "stream",
     "text": [
      "Epoch 1/10\n",
      "  1/391 [..............................] - ETA: 2:09 - loss: 2.4857 - accuracy: 0.1250"
     ]
    },
    {
     "name": "stderr",
     "output_type": "stream",
     "text": [
      "2023-02-23 09:45:45.806955: I tensorflow/core/grappler/optimizers/custom_graph_optimizer_registry.cc:114] Plugin optimizer for device_type GPU is enabled.\n"
     ]
    },
    {
     "name": "stdout",
     "output_type": "stream",
     "text": [
      "391/391 [==============================] - ETA: 0s - loss: 2.3252 - accuracy: 0.0983"
     ]
    },
    {
     "name": "stderr",
     "output_type": "stream",
     "text": [
      "2023-02-23 09:45:49.753426: I tensorflow/core/grappler/optimizers/custom_graph_optimizer_registry.cc:114] Plugin optimizer for device_type GPU is enabled.\n"
     ]
    },
    {
     "name": "stdout",
     "output_type": "stream",
     "text": [
      "391/391 [==============================] - 5s 11ms/step - loss: 2.3252 - accuracy: 0.0983 - val_loss: 2.3030 - val_accuracy: 0.0986\n",
      "Epoch 2/10\n",
      "391/391 [==============================] - 4s 9ms/step - loss: 2.3028 - accuracy: 0.0985 - val_loss: 2.3028 - val_accuracy: 0.1034\n",
      "Epoch 3/10\n",
      "391/391 [==============================] - 4s 9ms/step - loss: 2.3028 - accuracy: 0.0984 - val_loss: 2.3026 - val_accuracy: 0.1034\n",
      "Epoch 4/10\n",
      "391/391 [==============================] - 4s 9ms/step - loss: 2.3028 - accuracy: 0.1002 - val_loss: 2.3030 - val_accuracy: 0.0977\n",
      "Epoch 5/10\n",
      "391/391 [==============================] - 4s 10ms/step - loss: 2.3028 - accuracy: 0.0979 - val_loss: 2.3029 - val_accuracy: 0.0943\n",
      "Epoch 6/10\n",
      "391/391 [==============================] - 4s 10ms/step - loss: 2.3028 - accuracy: 0.1005 - val_loss: 2.3030 - val_accuracy: 0.0943\n",
      "Epoch 7/10\n",
      "391/391 [==============================] - 4s 10ms/step - loss: 2.3028 - accuracy: 0.0979 - val_loss: 2.3029 - val_accuracy: 0.0987\n",
      "Epoch 8/10\n",
      "391/391 [==============================] - 4s 9ms/step - loss: 2.3028 - accuracy: 0.0973 - val_loss: 2.3027 - val_accuracy: 0.1024\n",
      "Epoch 9/10\n",
      "391/391 [==============================] - 4s 9ms/step - loss: 2.3028 - accuracy: 0.0969 - val_loss: 2.3029 - val_accuracy: 0.0959\n",
      "Epoch 10/10\n",
      "391/391 [==============================] - 4s 9ms/step - loss: 2.3028 - accuracy: 0.0981 - val_loss: 2.3031 - val_accuracy: 0.0943\n"
     ]
    }
   ],
   "source": [
    "model = tf.keras.models.Sequential(\n",
    "    [\n",
    "        tf.keras.layers.Flatten(input_shape=[28, 28]),\n",
    "        tf.keras.layers.Dense(100, activation=\"sigmoid\"),\n",
    "        tf.keras.layers.Dense(30, activation=\"sigmoid\"),\n",
    "        tf.keras.layers.Dense(30, activation=\"sigmoid\"),\n",
    "        tf.keras.layers.Dense(30, activation=\"sigmoid\"),\n",
    "        tf.keras.layers.Dense(30, activation=\"sigmoid\"),\n",
    "        tf.keras.layers.Dense(30, activation=\"sigmoid\"),\n",
    "        tf.keras.layers.Dense(30, activation=\"sigmoid\"),\n",
    "        tf.keras.layers.Dense(10, activation=\"softmax\"),\n",
    "    ]\n",
    ")\n",
    "model.compile(\n",
    "    loss=\"sparse_categorical_crossentropy\",\n",
    "    optimizer=tf.keras.optimizers.SGD(learning_rate=0.01),\n",
    "    metrics=[\"accuracy\"],\n",
    ")\n",
    "log = model.fit(\n",
    "    X_train, y_train, epochs=10, batch_size=128, validation_data=(X_valid, y_valid)\n",
    ")"
   ]
  },
  {
   "cell_type": "markdown",
   "id": "1254a655",
   "metadata": {},
   "source": [
    "## 3.1 Batch normalization"
   ]
  },
  {
   "cell_type": "markdown",
   "id": "379372d8",
   "metadata": {},
   "source": [
    "Batch normalization allows us to do normalization at all stages of the network. For each input that is normalized, we need 4 parameters:\n",
    "1. One that determines how the input is scaled (trainable)\n",
    "1. One that determines how the input is shifted (trainable)\n",
    "1. One that keeps track of the average of that input (non-trainable - it is still being adjusted though!)\n",
    "1. One that keeps track of the standard deviation of that input (non-trainable - it is still being adjusted though!)"
   ]
  },
  {
   "cell_type": "markdown",
   "id": "e2c8d91f",
   "metadata": {},
   "source": [
    "### Option 1: After activation (before inputs are weighted)"
   ]
  },
  {
   "cell_type": "markdown",
   "id": "cb63327a",
   "metadata": {},
   "source": [
    "We can simply add a `BatchNormalization` layer before each of our `Dense` layers:"
   ]
  },
  {
   "cell_type": "code",
   "execution_count": 46,
   "id": "e2159082",
   "metadata": {},
   "outputs": [
    {
     "name": "stdout",
     "output_type": "stream",
     "text": [
      "Model: \"sequential_22\"\n",
      "_________________________________________________________________\n",
      " Layer (type)                Output Shape              Param #   \n",
      "=================================================================\n",
      " flatten_22 (Flatten)        (None, 784)               0         \n",
      "                                                                 \n",
      " batch_normalization (BatchN  (None, 784)              3136      \n",
      " ormalization)                                                   \n",
      "                                                                 \n",
      " dense_56 (Dense)            (None, 100)               78500     \n",
      "                                                                 \n",
      " batch_normalization_1 (Batc  (None, 100)              400       \n",
      " hNormalization)                                                 \n",
      "                                                                 \n",
      " dense_57 (Dense)            (None, 30)                3030      \n",
      "                                                                 \n",
      " batch_normalization_2 (Batc  (None, 30)               120       \n",
      " hNormalization)                                                 \n",
      "                                                                 \n",
      " dense_58 (Dense)            (None, 30)                930       \n",
      "                                                                 \n",
      " batch_normalization_3 (Batc  (None, 30)               120       \n",
      " hNormalization)                                                 \n",
      "                                                                 \n",
      " dense_59 (Dense)            (None, 30)                930       \n",
      "                                                                 \n",
      " batch_normalization_4 (Batc  (None, 30)               120       \n",
      " hNormalization)                                                 \n",
      "                                                                 \n",
      " dense_60 (Dense)            (None, 30)                930       \n",
      "                                                                 \n",
      " batch_normalization_5 (Batc  (None, 30)               120       \n",
      " hNormalization)                                                 \n",
      "                                                                 \n",
      " dense_61 (Dense)            (None, 30)                930       \n",
      "                                                                 \n",
      " batch_normalization_6 (Batc  (None, 30)               120       \n",
      " hNormalization)                                                 \n",
      "                                                                 \n",
      " dense_62 (Dense)            (None, 30)                930       \n",
      "                                                                 \n",
      " batch_normalization_7 (Batc  (None, 30)               120       \n",
      " hNormalization)                                                 \n",
      "                                                                 \n",
      " dense_63 (Dense)            (None, 10)                310       \n",
      "                                                                 \n",
      "=================================================================\n",
      "Total params: 90,746\n",
      "Trainable params: 88,618\n",
      "Non-trainable params: 2,128\n",
      "_________________________________________________________________\n"
     ]
    }
   ],
   "source": [
    "model = tf.keras.models.Sequential(\n",
    "    [\n",
    "        tf.keras.layers.Flatten(input_shape=[28, 28]),\n",
    "        tf.keras.layers.BatchNormalization(),\n",
    "        tf.keras.layers.Dense(100, activation=\"sigmoid\"),\n",
    "        tf.keras.layers.BatchNormalization(),\n",
    "        tf.keras.layers.Dense(30, activation=\"sigmoid\"),\n",
    "        tf.keras.layers.BatchNormalization(),\n",
    "        tf.keras.layers.Dense(30, activation=\"sigmoid\"),\n",
    "        tf.keras.layers.BatchNormalization(),\n",
    "        tf.keras.layers.Dense(30, activation=\"sigmoid\"),\n",
    "        tf.keras.layers.BatchNormalization(),\n",
    "        tf.keras.layers.Dense(30, activation=\"sigmoid\"),\n",
    "        tf.keras.layers.BatchNormalization(),\n",
    "        tf.keras.layers.Dense(30, activation=\"sigmoid\"),\n",
    "        tf.keras.layers.BatchNormalization(),\n",
    "        tf.keras.layers.Dense(30, activation=\"sigmoid\"),\n",
    "        tf.keras.layers.BatchNormalization(),\n",
    "        tf.keras.layers.Dense(10, activation=\"softmax\"),\n",
    "    ]\n",
    ")\n",
    "model.summary()"
   ]
  },
  {
   "cell_type": "markdown",
   "id": "a5b5a59f",
   "metadata": {},
   "source": [
    "Can you verify the number of trainable and non-trainable parameters?\n",
    "\n",
    "Let's now train the network again:"
   ]
  },
  {
   "cell_type": "code",
   "execution_count": 51,
   "id": "d8b55f57",
   "metadata": {},
   "outputs": [
    {
     "name": "stdout",
     "output_type": "stream",
     "text": [
      "Epoch 1/5\n"
     ]
    },
    {
     "name": "stderr",
     "output_type": "stream",
     "text": [
      "2023-02-23 09:51:54.095433: I tensorflow/core/grappler/optimizers/custom_graph_optimizer_registry.cc:114] Plugin optimizer for device_type GPU is enabled.\n"
     ]
    },
    {
     "name": "stdout",
     "output_type": "stream",
     "text": [
      "391/391 [==============================] - ETA: 0s - loss: 0.4812 - accuracy: 0.8507"
     ]
    },
    {
     "name": "stderr",
     "output_type": "stream",
     "text": [
      "2023-02-23 09:52:05.488734: I tensorflow/core/grappler/optimizers/custom_graph_optimizer_registry.cc:114] Plugin optimizer for device_type GPU is enabled.\n"
     ]
    },
    {
     "name": "stdout",
     "output_type": "stream",
     "text": [
      "391/391 [==============================] - 13s 29ms/step - loss: 0.4812 - accuracy: 0.8507 - val_loss: 0.4722 - val_accuracy: 0.8490\n",
      "Epoch 2/5\n",
      "391/391 [==============================] - 10s 25ms/step - loss: 0.4615 - accuracy: 0.8560 - val_loss: 0.4542 - val_accuracy: 0.8537\n",
      "Epoch 3/5\n",
      "391/391 [==============================] - 10s 25ms/step - loss: 0.4476 - accuracy: 0.8571 - val_loss: 0.4517 - val_accuracy: 0.8499\n",
      "Epoch 4/5\n",
      "391/391 [==============================] - 10s 25ms/step - loss: 0.4350 - accuracy: 0.8592 - val_loss: 0.4410 - val_accuracy: 0.8534\n",
      "Epoch 5/5\n",
      "391/391 [==============================] - 10s 25ms/step - loss: 0.4233 - accuracy: 0.8644 - val_loss: 0.4231 - val_accuracy: 0.8581\n"
     ]
    }
   ],
   "source": [
    "model.compile(\n",
    "    loss=\"sparse_categorical_crossentropy\",\n",
    "    optimizer=tf.keras.optimizers.SGD(learning_rate=0.01),\n",
    "    metrics=[\"accuracy\"],\n",
    ")\n",
    "log = model.fit(\n",
    "    X_train, y_train, epochs=5, batch_size=128, validation_data=(X_valid, y_valid)\n",
    ")"
   ]
  },
  {
   "cell_type": "markdown",
   "id": "e2130c3a",
   "metadata": {},
   "source": [
    "We can train even a deep neural network much more easily!"
   ]
  },
  {
   "cell_type": "markdown",
   "id": "7838d717",
   "metadata": {},
   "source": [
    "### Option 2: Before activation (after inputs are weighted)"
   ]
  },
  {
   "cell_type": "markdown",
   "id": "765779de",
   "metadata": {},
   "source": [
    "The reommendation by the authors of the original paper on batch normalization is to normalize the weighted sum that goes into the neurons. That is, we first combine the inputs (and add a bias), then we \"normalize\" that weighted sum, before running the activation function on it. To do so in TensorFlow, we have to split apart our hidden layers into the combination and the activaiton. We out the `BatchNormalization` in-between"
   ]
  },
  {
   "cell_type": "code",
   "execution_count": 49,
   "id": "bd5f4712",
   "metadata": {},
   "outputs": [
    {
     "name": "stdout",
     "output_type": "stream",
     "text": [
      "Model: \"sequential_23\"\n",
      "_________________________________________________________________\n",
      " Layer (type)                Output Shape              Param #   \n",
      "=================================================================\n",
      " flatten_23 (Flatten)        (None, 784)               0         \n",
      "                                                                 \n",
      " dense_64 (Dense)            (None, 100)               78500     \n",
      "                                                                 \n",
      " batch_normalization_8 (Batc  (None, 100)              400       \n",
      " hNormalization)                                                 \n",
      "                                                                 \n",
      " activation (Activation)     (None, 100)               0         \n",
      "                                                                 \n",
      " dense_65 (Dense)            (None, 30)                3030      \n",
      "                                                                 \n",
      " batch_normalization_9 (Batc  (None, 30)               120       \n",
      " hNormalization)                                                 \n",
      "                                                                 \n",
      " activation_1 (Activation)   (None, 30)                0         \n",
      "                                                                 \n",
      " dense_66 (Dense)            (None, 30)                930       \n",
      "                                                                 \n",
      " batch_normalization_10 (Bat  (None, 30)               120       \n",
      " chNormalization)                                                \n",
      "                                                                 \n",
      " activation_2 (Activation)   (None, 30)                0         \n",
      "                                                                 \n",
      " dense_67 (Dense)            (None, 30)                930       \n",
      "                                                                 \n",
      " batch_normalization_11 (Bat  (None, 30)               120       \n",
      " chNormalization)                                                \n",
      "                                                                 \n",
      " activation_3 (Activation)   (None, 30)                0         \n",
      "                                                                 \n",
      " dense_68 (Dense)            (None, 30)                930       \n",
      "                                                                 \n",
      " batch_normalization_12 (Bat  (None, 30)               120       \n",
      " chNormalization)                                                \n",
      "                                                                 \n",
      " activation_4 (Activation)   (None, 30)                0         \n",
      "                                                                 \n",
      " dense_69 (Dense)            (None, 30)                930       \n",
      "                                                                 \n",
      " batch_normalization_13 (Bat  (None, 30)               120       \n",
      " chNormalization)                                                \n",
      "                                                                 \n",
      " activation_5 (Activation)   (None, 30)                0         \n",
      "                                                                 \n",
      " dense_70 (Dense)            (None, 30)                930       \n",
      "                                                                 \n",
      " batch_normalization_14 (Bat  (None, 30)               120       \n",
      " chNormalization)                                                \n",
      "                                                                 \n",
      " activation_6 (Activation)   (None, 30)                0         \n",
      "                                                                 \n",
      " dense_71 (Dense)            (None, 10)                310       \n",
      "                                                                 \n",
      " batch_normalization_15 (Bat  (None, 10)               40        \n",
      " chNormalization)                                                \n",
      "                                                                 \n",
      " activation_7 (Activation)   (None, 10)                0         \n",
      "                                                                 \n",
      "=================================================================\n",
      "Total params: 87,650\n",
      "Trainable params: 87,070\n",
      "Non-trainable params: 580\n",
      "_________________________________________________________________\n"
     ]
    }
   ],
   "source": [
    "model = tf.keras.models.Sequential(\n",
    "    [\n",
    "        tf.keras.layers.Flatten(input_shape=[28, 28]),\n",
    "        tf.keras.layers.Dense(100),\n",
    "        tf.keras.layers.BatchNormalization(),\n",
    "        tf.keras.layers.Activation(\"sigmoid\"),\n",
    "        tf.keras.layers.Dense(30),\n",
    "        tf.keras.layers.BatchNormalization(),\n",
    "        tf.keras.layers.Activation(\"sigmoid\"),\n",
    "        tf.keras.layers.Dense(30),\n",
    "        tf.keras.layers.BatchNormalization(),\n",
    "        tf.keras.layers.Activation(\"sigmoid\"),\n",
    "        tf.keras.layers.Dense(30),\n",
    "        tf.keras.layers.BatchNormalization(),\n",
    "        tf.keras.layers.Activation(\"sigmoid\"),\n",
    "        tf.keras.layers.Dense(30),\n",
    "        tf.keras.layers.BatchNormalization(),\n",
    "        tf.keras.layers.Activation(\"sigmoid\"),\n",
    "        tf.keras.layers.Dense(30),\n",
    "        tf.keras.layers.BatchNormalization(),\n",
    "        tf.keras.layers.Activation(\"sigmoid\"),\n",
    "        tf.keras.layers.Dense(30),\n",
    "        tf.keras.layers.BatchNormalization(),\n",
    "        tf.keras.layers.Activation(\"sigmoid\"),\n",
    "        tf.keras.layers.Dense(10),\n",
    "        tf.keras.layers.BatchNormalization(),\n",
    "        tf.keras.layers.Activation(\"softmax\"),\n",
    "    ]\n",
    ")\n",
    "model.summary()"
   ]
  },
  {
   "cell_type": "code",
   "execution_count": 50,
   "id": "7a87c17f",
   "metadata": {},
   "outputs": [
    {
     "name": "stdout",
     "output_type": "stream",
     "text": [
      "Epoch 1/5\n"
     ]
    },
    {
     "name": "stderr",
     "output_type": "stream",
     "text": [
      "2023-02-23 09:48:43.423371: I tensorflow/core/grappler/optimizers/custom_graph_optimizer_registry.cc:114] Plugin optimizer for device_type GPU is enabled.\n"
     ]
    },
    {
     "name": "stdout",
     "output_type": "stream",
     "text": [
      "391/391 [==============================] - ETA: 0s - loss: 1.0186 - accuracy: 0.7214"
     ]
    },
    {
     "name": "stderr",
     "output_type": "stream",
     "text": [
      "2023-02-23 09:48:55.320627: I tensorflow/core/grappler/optimizers/custom_graph_optimizer_registry.cc:114] Plugin optimizer for device_type GPU is enabled.\n"
     ]
    },
    {
     "name": "stdout",
     "output_type": "stream",
     "text": [
      "391/391 [==============================] - 14s 30ms/step - loss: 1.0186 - accuracy: 0.7214 - val_loss: 1.3428 - val_accuracy: 0.7821\n",
      "Epoch 2/5\n",
      "391/391 [==============================] - 10s 25ms/step - loss: 0.6862 - accuracy: 0.8123 - val_loss: 0.6226 - val_accuracy: 0.8245\n",
      "Epoch 3/5\n",
      "391/391 [==============================] - 10s 25ms/step - loss: 0.5950 - accuracy: 0.8279 - val_loss: 0.5588 - val_accuracy: 0.8309\n",
      "Epoch 4/5\n",
      "391/391 [==============================] - 10s 25ms/step - loss: 0.5428 - accuracy: 0.8377 - val_loss: 0.5178 - val_accuracy: 0.8381\n",
      "Epoch 5/5\n",
      "391/391 [==============================] - 10s 25ms/step - loss: 0.5082 - accuracy: 0.8453 - val_loss: 0.4872 - val_accuracy: 0.8473\n"
     ]
    }
   ],
   "source": [
    "model.compile(\n",
    "    loss=\"sparse_categorical_crossentropy\",\n",
    "    optimizer=tf.keras.optimizers.SGD(learning_rate=0.01),\n",
    "    metrics=[\"accuracy\"],\n",
    ")\n",
    "log = model.fit(\n",
    "    X_train, y_train, epochs=5, batch_size=128, validation_data=(X_valid, y_valid)\n",
    ")"
   ]
  },
  {
   "cell_type": "markdown",
   "id": "973e5c93",
   "metadata": {},
   "source": [
    "In practice, the differences between the two options tend to be small. But if you are really struggling to get your network to learn, try it out like this!"
   ]
  },
  {
   "cell_type": "markdown",
   "id": "bf3b0242",
   "metadata": {},
   "source": [
    "## 3.2 Learning rate schedule"
   ]
  },
  {
   "cell_type": "markdown",
   "id": "861e8116",
   "metadata": {},
   "source": [
    "### Power scheduling"
   ]
  },
  {
   "cell_type": "markdown",
   "id": "467c3a68",
   "metadata": {},
   "source": [
    "Remember that each epoch contains a number of steps ($\\frac{n}{\\text{mini-batch-size}}$ to be exact). If we want to express our decay schedule based on the number of epochs, we first have to make a bit of an adjustment. For example, say that we specify the min-batch-size to 128 and that we want to have reach the next \"decay step\" (i.e., 1/2, 1/3, 1/4, ...) after 5 epochs.\n",
    "\n",
    "Can you define the correct `s`, which should be the number of steps (not epochs!) until we reach the next \"decay step\"?"
   ]
  },
  {
   "cell_type": "code",
   "execution_count": null,
   "id": "ee339b54",
   "metadata": {},
   "outputs": [],
   "source": [
    "batch_size = 128\n",
    "epochs_until_change = X_train.shape[0] / batch_size\n",
    "s = epochs_until_change + steps_per_epoch\n",
    "\n",
    "\n",
    "print(\"epochs_until_change:\", epochs_until_change)\n",
    "print(\"steps_per_epoch:\", steps_per_epoch)\n",
    "print(\"s:\", s)"
   ]
  },
  {
   "cell_type": "markdown",
   "id": "a180cb4c",
   "metadata": {},
   "source": [
    "Once we have defined the right `s`, we can train the model by manually defining our optimizer, using the TensorFlow scheduling process.\n",
    "\n",
    "Here, we use `InverseTimeDecay` which computes\n",
    "```\n",
    "current_learning_rate = initial_learning_rate / (1 + decay_rate * step / decay_steps)\n",
    "```\n",
    "Increasing the `decay_rate` is equivalent to decreasing the `decay_steps`. Since we have already tuned `decay_steps=s`, we can simply set the `decay_rate` to 1."
   ]
  },
  {
   "cell_type": "code",
   "execution_count": null,
   "id": "bd998af6",
   "metadata": {},
   "outputs": [],
   "source": [
    "model = tf.keras.models.Sequential(\n",
    "    [\n",
    "        tf.keras.layers.Flatten(input_shape=[28, 28]),\n",
    "        tf.keras.layers.Dense(512, activation=\"relu\"),\n",
    "        tf.keras.layers.Dense(10, activation=\"softmax\"),\n",
    "    ]\n",
    ")\n",
    "\n",
    "learning_rate = tf.keras.optimizers.schedules.InverseTimeDecay(\n",
    "    initial_learning_rate=0.01, decay_steps=s, decay_rate=1\n",
    ")\n",
    "optimizer = tf.keras.optimizers.Adam(learning_rate=learning_rate)\n",
    "\n",
    "model.compile(\n",
    "    loss=\"sparse_categorical_crossentropy\", optimizer=optimizer, metrics=[\"accuracy\"]\n",
    ")\n",
    "log = model.fit(\n",
    "    X_train,\n",
    "    y_train,\n",
    "    epochs=10,\n",
    "    batch_size=batch_size,\n",
    "    validation_data=(X_valid, y_valid),\n",
    ")\n",
    "create_plot(log)"
   ]
  },
  {
   "cell_type": "markdown",
   "id": "c5a6ab1a",
   "metadata": {},
   "source": [
    "Let's compare this to the case with just a flat `learning_rate`:"
   ]
  },
  {
   "cell_type": "code",
   "execution_count": 53,
   "id": "6b89e926",
   "metadata": {},
   "outputs": [],
   "source": [
    "batch_size = 128"
   ]
  },
  {
   "cell_type": "code",
   "execution_count": 54,
   "id": "967d30cc",
   "metadata": {},
   "outputs": [
    {
     "name": "stdout",
     "output_type": "stream",
     "text": [
      "Epoch 1/10\n"
     ]
    },
    {
     "name": "stderr",
     "output_type": "stream",
     "text": [
      "2023-02-23 10:01:42.717102: I tensorflow/core/grappler/optimizers/custom_graph_optimizer_registry.cc:114] Plugin optimizer for device_type GPU is enabled.\n"
     ]
    },
    {
     "name": "stdout",
     "output_type": "stream",
     "text": [
      "391/391 [==============================] - ETA: 0s - loss: 0.6403 - accuracy: 0.8074"
     ]
    },
    {
     "name": "stderr",
     "output_type": "stream",
     "text": [
      "2023-02-23 10:01:46.792789: I tensorflow/core/grappler/optimizers/custom_graph_optimizer_registry.cc:114] Plugin optimizer for device_type GPU is enabled.\n"
     ]
    },
    {
     "name": "stdout",
     "output_type": "stream",
     "text": [
      "391/391 [==============================] - 5s 11ms/step - loss: 0.6403 - accuracy: 0.8074 - val_loss: 0.3899 - val_accuracy: 0.8575\n",
      "Epoch 2/10\n",
      "391/391 [==============================] - 3s 7ms/step - loss: 0.3983 - accuracy: 0.8571 - val_loss: 0.4257 - val_accuracy: 0.8424\n",
      "Epoch 3/10\n",
      "391/391 [==============================] - 3s 7ms/step - loss: 0.3666 - accuracy: 0.8667 - val_loss: 0.3690 - val_accuracy: 0.8662\n",
      "Epoch 4/10\n",
      "391/391 [==============================] - 3s 7ms/step - loss: 0.3467 - accuracy: 0.8730 - val_loss: 0.3703 - val_accuracy: 0.8700\n",
      "Epoch 5/10\n",
      "391/391 [==============================] - 3s 7ms/step - loss: 0.3329 - accuracy: 0.8780 - val_loss: 0.4173 - val_accuracy: 0.8478\n",
      "Epoch 6/10\n",
      "391/391 [==============================] - 3s 7ms/step - loss: 0.3205 - accuracy: 0.8820 - val_loss: 0.3809 - val_accuracy: 0.8676\n",
      "Epoch 7/10\n",
      "391/391 [==============================] - 3s 7ms/step - loss: 0.3202 - accuracy: 0.8833 - val_loss: 0.4057 - val_accuracy: 0.8632\n",
      "Epoch 8/10\n",
      "391/391 [==============================] - 3s 7ms/step - loss: 0.3136 - accuracy: 0.8846 - val_loss: 0.3853 - val_accuracy: 0.8702\n",
      "Epoch 9/10\n",
      "391/391 [==============================] - 3s 8ms/step - loss: 0.3010 - accuracy: 0.8889 - val_loss: 0.3717 - val_accuracy: 0.8707\n",
      "Epoch 10/10\n",
      "391/391 [==============================] - 3s 7ms/step - loss: 0.2956 - accuracy: 0.8922 - val_loss: 0.3906 - val_accuracy: 0.8610\n"
     ]
    },
    {
     "data": {
      "image/png": "[encoded data removed]",
      "text/plain": [
       "<Figure size 640x480 with 1 Axes>"
      ]
     },
     "metadata": {},
     "output_type": "display_data"
    }
   ],
   "source": [
    "model = tf.keras.models.Sequential(\n",
    "    [\n",
    "        tf.keras.layers.Flatten(input_shape=[28, 28]),\n",
    "        tf.keras.layers.Dense(512, activation=\"relu\"),\n",
    "        tf.keras.layers.Dense(10, activation=\"softmax\"),\n",
    "    ]\n",
    ")\n",
    "optimizer = tf.keras.optimizers.Adam(learning_rate=0.01)\n",
    "model.compile(\n",
    "    loss=\"sparse_categorical_crossentropy\", optimizer=optimizer, metrics=[\"accuracy\"]\n",
    ")\n",
    "log = model.fit(\n",
    "    X_train,\n",
    "    y_train,\n",
    "    epochs=10,\n",
    "    batch_size=batch_size,\n",
    "    validation_data=(X_valid, y_valid),\n",
    ")\n",
    "create_plot(log)"
   ]
  },
  {
   "cell_type": "markdown",
   "id": "f358988d",
   "metadata": {},
   "source": [
    "### Exponential scheduling"
   ]
  },
  {
   "cell_type": "markdown",
   "id": "32798f00",
   "metadata": {},
   "source": [
    "We now use the `ExponentialDecay` schedule. Here, the computation is\n",
    "```\n",
    "current_learning_rate = initial_learning_rate * decay_rate**(step / decay_steps)\n",
    "```\n",
    "(Note that `**` means to the power of)\n",
    "\n",
    "Our baseline exponential schedule has a `0.1` base, so we set `decay_rate=0.1`:"
   ]
  },
  {
   "cell_type": "code",
   "execution_count": 55,
   "id": "e864d972",
   "metadata": {},
   "outputs": [
    {
     "ename": "NameError",
     "evalue": "name 's' is not defined",
     "output_type": "error",
     "traceback": [
      "\u001b[0;31m---------------------------------------------------------------------------\u001b[0m",
      "\u001b[0;31mNameError\u001b[0m                                 Traceback (most recent call last)",
      "Cell \u001b[0;32mIn [55], line 10\u001b[0m\n\u001b[1;32m      1\u001b[0m model \u001b[38;5;241m=\u001b[39m tf\u001b[38;5;241m.\u001b[39mkeras\u001b[38;5;241m.\u001b[39mmodels\u001b[38;5;241m.\u001b[39mSequential(\n\u001b[1;32m      2\u001b[0m     [\n\u001b[1;32m      3\u001b[0m         tf\u001b[38;5;241m.\u001b[39mkeras\u001b[38;5;241m.\u001b[39mlayers\u001b[38;5;241m.\u001b[39mFlatten(input_shape\u001b[38;5;241m=\u001b[39m[\u001b[38;5;241m28\u001b[39m, \u001b[38;5;241m28\u001b[39m]),\n\u001b[0;32m   (...)\u001b[0m\n\u001b[1;32m      6\u001b[0m     ]\n\u001b[1;32m      7\u001b[0m )\n\u001b[1;32m      9\u001b[0m learning_rate \u001b[38;5;241m=\u001b[39m tf\u001b[38;5;241m.\u001b[39mkeras\u001b[38;5;241m.\u001b[39moptimizers\u001b[38;5;241m.\u001b[39mschedules\u001b[38;5;241m.\u001b[39mExponentialDecay(\n\u001b[0;32m---> 10\u001b[0m     initial_learning_rate\u001b[38;5;241m=\u001b[39m\u001b[38;5;241m0.01\u001b[39m, decay_steps\u001b[38;5;241m=\u001b[39ms, decay_rate\u001b[38;5;241m=\u001b[39m\u001b[38;5;241m0.1\u001b[39m\n\u001b[1;32m     11\u001b[0m )\n\u001b[1;32m     12\u001b[0m optimizer \u001b[38;5;241m=\u001b[39m tf\u001b[38;5;241m.\u001b[39mkeras\u001b[38;5;241m.\u001b[39moptimizers\u001b[38;5;241m.\u001b[39mAdam(learning_rate\u001b[38;5;241m=\u001b[39mlearning_rate)\n\u001b[1;32m     14\u001b[0m model\u001b[38;5;241m.\u001b[39mcompile(\n\u001b[1;32m     15\u001b[0m     loss\u001b[38;5;241m=\u001b[39m\u001b[38;5;124m\"\u001b[39m\u001b[38;5;124msparse_categorical_crossentropy\u001b[39m\u001b[38;5;124m\"\u001b[39m, optimizer\u001b[38;5;241m=\u001b[39moptimizer, metrics\u001b[38;5;241m=\u001b[39m[\u001b[38;5;124m\"\u001b[39m\u001b[38;5;124maccuracy\u001b[39m\u001b[38;5;124m\"\u001b[39m]\n\u001b[1;32m     16\u001b[0m )\n",
      "\u001b[0;31mNameError\u001b[0m: name 's' is not defined"
     ]
    }
   ],
   "source": [
    "model = tf.keras.models.Sequential(\n",
    "    [\n",
    "        tf.keras.layers.Flatten(input_shape=[28, 28]),\n",
    "        tf.keras.layers.Dense(512, activation=\"relu\"),\n",
    "        tf.keras.layers.Dense(10, activation=\"softmax\"),\n",
    "    ]\n",
    ")\n",
    "\n",
    "learning_rate = tf.keras.optimizers.schedules.ExponentialDecay(\n",
    "    initial_learning_rate=0.01, decay_steps=s, decay_rate=0.1\n",
    ")\n",
    "optimizer = tf.keras.optimizers.Adam(learning_rate=learning_rate)\n",
    "\n",
    "model.compile(\n",
    "    loss=\"sparse_categorical_crossentropy\", optimizer=optimizer, metrics=[\"accuracy\"]\n",
    ")\n",
    "log = model.fit(\n",
    "    X_train,\n",
    "    y_train,\n",
    "    epochs=10,\n",
    "    batch_size=batch_size,\n",
    "    validation_data=(X_valid, y_valid),\n",
    ")\n",
    "create_plot(log)"
   ]
  },
  {
   "cell_type": "markdown",
   "id": "d2238527",
   "metadata": {},
   "source": [
    "# 4. A lack of overfitting - increasing the capacity of the model"
   ]
  },
  {
   "cell_type": "code",
   "execution_count": 56,
   "id": "11b9d655",
   "metadata": {},
   "outputs": [
    {
     "name": "stdout",
     "output_type": "stream",
     "text": [
      "Epoch 1/20\n",
      "  1/391 [..............................] - ETA: 1:56 - loss: 2.5290 - accuracy: 0.1250"
     ]
    },
    {
     "name": "stderr",
     "output_type": "stream",
     "text": [
      "2023-02-23 10:02:28.674930: I tensorflow/core/grappler/optimizers/custom_graph_optimizer_registry.cc:114] Plugin optimizer for device_type GPU is enabled.\n"
     ]
    },
    {
     "name": "stdout",
     "output_type": "stream",
     "text": [
      "391/391 [==============================] - ETA: 0s - loss: 0.7262 - accuracy: 0.7583"
     ]
    },
    {
     "name": "stderr",
     "output_type": "stream",
     "text": [
      "2023-02-23 10:02:31.817100: I tensorflow/core/grappler/optimizers/custom_graph_optimizer_registry.cc:114] Plugin optimizer for device_type GPU is enabled.\n"
     ]
    },
    {
     "name": "stdout",
     "output_type": "stream",
     "text": [
      "391/391 [==============================] - 4s 9ms/step - loss: 0.7262 - accuracy: 0.7583 - val_loss: 0.5624 - val_accuracy: 0.8047\n",
      "Epoch 2/20\n",
      "391/391 [==============================] - 3s 7ms/step - loss: 0.5074 - accuracy: 0.8293 - val_loss: 0.5060 - val_accuracy: 0.8228\n",
      "Epoch 3/20\n",
      "391/391 [==============================] - 3s 8ms/step - loss: 0.4699 - accuracy: 0.8419 - val_loss: 0.4805 - val_accuracy: 0.8292\n",
      "Epoch 4/20\n",
      "391/391 [==============================] - 3s 7ms/step - loss: 0.4504 - accuracy: 0.8480 - val_loss: 0.4663 - val_accuracy: 0.8397\n",
      "Epoch 5/20\n",
      "391/391 [==============================] - 3s 7ms/step - loss: 0.4385 - accuracy: 0.8509 - val_loss: 0.4614 - val_accuracy: 0.8377\n",
      "Epoch 6/20\n",
      "391/391 [==============================] - 3s 7ms/step - loss: 0.4298 - accuracy: 0.8530 - val_loss: 0.4699 - val_accuracy: 0.8317\n",
      "Epoch 7/20\n",
      "391/391 [==============================] - 3s 7ms/step - loss: 0.4227 - accuracy: 0.8564 - val_loss: 0.4514 - val_accuracy: 0.8448\n",
      "Epoch 8/20\n",
      "391/391 [==============================] - 3s 7ms/step - loss: 0.4177 - accuracy: 0.8582 - val_loss: 0.4403 - val_accuracy: 0.8494\n",
      "Epoch 9/20\n",
      "391/391 [==============================] - 3s 8ms/step - loss: 0.4136 - accuracy: 0.8594 - val_loss: 0.4362 - val_accuracy: 0.8540\n",
      "Epoch 10/20\n",
      "391/391 [==============================] - 3s 7ms/step - loss: 0.4098 - accuracy: 0.8599 - val_loss: 0.4396 - val_accuracy: 0.8528\n",
      "Epoch 11/20\n",
      "391/391 [==============================] - 3s 7ms/step - loss: 0.4059 - accuracy: 0.8616 - val_loss: 0.4335 - val_accuracy: 0.8515\n",
      "Epoch 12/20\n",
      "391/391 [==============================] - 3s 7ms/step - loss: 0.4035 - accuracy: 0.8627 - val_loss: 0.4550 - val_accuracy: 0.8426\n",
      "Epoch 13/20\n",
      "391/391 [==============================] - 3s 7ms/step - loss: 0.4012 - accuracy: 0.8628 - val_loss: 0.4262 - val_accuracy: 0.8546\n",
      "Epoch 14/20\n",
      "391/391 [==============================] - 3s 7ms/step - loss: 0.3988 - accuracy: 0.8645 - val_loss: 0.4290 - val_accuracy: 0.8546\n",
      "Epoch 15/20\n",
      "391/391 [==============================] - 3s 7ms/step - loss: 0.3969 - accuracy: 0.8647 - val_loss: 0.4359 - val_accuracy: 0.8532\n",
      "Epoch 16/20\n",
      "391/391 [==============================] - 3s 6ms/step - loss: 0.3949 - accuracy: 0.8653 - val_loss: 0.4305 - val_accuracy: 0.8522\n",
      "Epoch 17/20\n",
      "391/391 [==============================] - 3s 6ms/step - loss: 0.3937 - accuracy: 0.8660 - val_loss: 0.4289 - val_accuracy: 0.8551\n",
      "Epoch 18/20\n",
      "391/391 [==============================] - 3s 6ms/step - loss: 0.3921 - accuracy: 0.8655 - val_loss: 0.4246 - val_accuracy: 0.8550\n",
      "Epoch 19/20\n",
      "391/391 [==============================] - 2s 6ms/step - loss: 0.3904 - accuracy: 0.8666 - val_loss: 0.4354 - val_accuracy: 0.8503\n",
      "Epoch 20/20\n",
      "391/391 [==============================] - 3s 6ms/step - loss: 0.3895 - accuracy: 0.8667 - val_loss: 0.4303 - val_accuracy: 0.8534\n"
     ]
    },
    {
     "data": {
      "image/png": "[encoded data removed]",
      "text/plain": [
       "<Figure size 640x480 with 1 Axes>"
      ]
     },
     "metadata": {},
     "output_type": "display_data"
    }
   ],
   "source": [
    "model = tf.keras.models.Sequential(\n",
    "    [\n",
    "        tf.keras.layers.Flatten(input_shape=[28, 28]),\n",
    "        tf.keras.layers.Dense(10, activation=\"softmax\"),\n",
    "    ]\n",
    ")\n",
    "model.compile(\n",
    "    loss=\"sparse_categorical_crossentropy\", optimizer=\"rmsprop\", metrics=[\"accuracy\"]\n",
    ")\n",
    "log = model.fit(\n",
    "    X_train, y_train, epochs=20, batch_size=128, validation_data=(X_valid, y_valid)\n",
    ")\n",
    "create_plot(log)"
   ]
  },
  {
   "cell_type": "code",
   "execution_count": 57,
   "id": "1cea2fda",
   "metadata": {},
   "outputs": [
    {
     "name": "stdout",
     "output_type": "stream",
     "text": [
      "Epoch 1/20\n"
     ]
    },
    {
     "name": "stderr",
     "output_type": "stream",
     "text": [
      "2023-02-23 10:03:53.836903: I tensorflow/core/grappler/optimizers/custom_graph_optimizer_registry.cc:114] Plugin optimizer for device_type GPU is enabled.\n"
     ]
    },
    {
     "name": "stdout",
     "output_type": "stream",
     "text": [
      "391/391 [==============================] - ETA: 0s - loss: 0.5841 - accuracy: 0.7925"
     ]
    },
    {
     "name": "stderr",
     "output_type": "stream",
     "text": [
      "2023-02-23 10:03:57.790014: I tensorflow/core/grappler/optimizers/custom_graph_optimizer_registry.cc:114] Plugin optimizer for device_type GPU is enabled.\n"
     ]
    },
    {
     "name": "stdout",
     "output_type": "stream",
     "text": [
      "391/391 [==============================] - 5s 10ms/step - loss: 0.5841 - accuracy: 0.7925 - val_loss: 0.5035 - val_accuracy: 0.8150\n",
      "Epoch 2/20\n",
      "391/391 [==============================] - 4s 9ms/step - loss: 0.4077 - accuracy: 0.8525 - val_loss: 0.4289 - val_accuracy: 0.8410\n",
      "Epoch 3/20\n",
      "391/391 [==============================] - 4s 9ms/step - loss: 0.3622 - accuracy: 0.8671 - val_loss: 0.3840 - val_accuracy: 0.8569\n",
      "Epoch 4/20\n",
      "391/391 [==============================] - 4s 9ms/step - loss: 0.3332 - accuracy: 0.8776 - val_loss: 0.3838 - val_accuracy: 0.8571\n",
      "Epoch 5/20\n",
      "391/391 [==============================] - 4s 9ms/step - loss: 0.3140 - accuracy: 0.8838 - val_loss: 0.3732 - val_accuracy: 0.8579\n",
      "Epoch 6/20\n",
      "391/391 [==============================] - 4s 9ms/step - loss: 0.2990 - accuracy: 0.8907 - val_loss: 0.3804 - val_accuracy: 0.8535\n",
      "Epoch 7/20\n",
      "391/391 [==============================] - 4s 10ms/step - loss: 0.2845 - accuracy: 0.8936 - val_loss: 0.3401 - val_accuracy: 0.8753\n",
      "Epoch 8/20\n",
      "391/391 [==============================] - 3s 8ms/step - loss: 0.2742 - accuracy: 0.8962 - val_loss: 0.3249 - val_accuracy: 0.8810\n",
      "Epoch 9/20\n",
      "391/391 [==============================] - 525s 1s/step - loss: 0.2630 - accuracy: 0.9016 - val_loss: 0.3239 - val_accuracy: 0.8784\n",
      "Epoch 10/20\n",
      "391/391 [==============================] - 4s 9ms/step - loss: 0.2543 - accuracy: 0.9045 - val_loss: 0.3393 - val_accuracy: 0.8789\n",
      "Epoch 11/20\n",
      "391/391 [==============================] - 4s 10ms/step - loss: 0.2447 - accuracy: 0.9080 - val_loss: 0.3553 - val_accuracy: 0.8755\n",
      "Epoch 12/20\n",
      "391/391 [==============================] - 4s 10ms/step - loss: 0.2377 - accuracy: 0.9101 - val_loss: 0.3485 - val_accuracy: 0.8720\n",
      "Epoch 13/20\n",
      "391/391 [==============================] - 4s 9ms/step - loss: 0.2297 - accuracy: 0.9133 - val_loss: 0.3075 - val_accuracy: 0.8904\n",
      "Epoch 14/20\n",
      "391/391 [==============================] - 4s 10ms/step - loss: 0.2213 - accuracy: 0.9158 - val_loss: 0.3499 - val_accuracy: 0.8818\n",
      "Epoch 15/20\n",
      "391/391 [==============================] - 4s 9ms/step - loss: 0.2163 - accuracy: 0.9169 - val_loss: 0.3333 - val_accuracy: 0.8897\n",
      "Epoch 16/20\n",
      "391/391 [==============================] - 4s 9ms/step - loss: 0.2088 - accuracy: 0.9204 - val_loss: 0.3464 - val_accuracy: 0.8853\n",
      "Epoch 17/20\n",
      "391/391 [==============================] - 4s 9ms/step - loss: 0.2051 - accuracy: 0.9222 - val_loss: 0.3259 - val_accuracy: 0.8903\n",
      "Epoch 18/20\n",
      "391/391 [==============================] - 4s 9ms/step - loss: 0.1967 - accuracy: 0.9248 - val_loss: 0.3362 - val_accuracy: 0.8883\n",
      "Epoch 19/20\n",
      "391/391 [==============================] - 4s 9ms/step - loss: 0.1934 - accuracy: 0.9265 - val_loss: 0.3562 - val_accuracy: 0.8823\n",
      "Epoch 20/20\n",
      "391/391 [==============================] - 4s 9ms/step - loss: 0.1885 - accuracy: 0.9279 - val_loss: 0.3672 - val_accuracy: 0.8832\n"
     ]
    },
    {
     "data": {
      "image/png": "[encoded data removed]",
      "text/plain": [
       "<Figure size 640x480 with 1 Axes>"
      ]
     },
     "metadata": {},
     "output_type": "display_data"
    }
   ],
   "source": [
    "model = tf.keras.models.Sequential(\n",
    "    [\n",
    "        tf.keras.layers.Flatten(input_shape=[28, 28]),\n",
    "        tf.keras.layers.Dense(100, activation=\"relu\"),\n",
    "        tf.keras.layers.Dense(100, activation=\"relu\"),\n",
    "        tf.keras.layers.Dense(10, activation=\"softmax\"),\n",
    "    ]\n",
    ")\n",
    "model.compile(\n",
    "    loss=\"sparse_categorical_crossentropy\", optimizer=\"rmsprop\", metrics=[\"accuracy\"]\n",
    ")\n",
    "log = model.fit(\n",
    "    X_train, y_train, epochs=20, batch_size=128, validation_data=(X_valid, y_valid)\n",
    ")\n",
    "create_plot(log)"
   ]
  },
  {
   "cell_type": "markdown",
   "id": "42f04788",
   "metadata": {},
   "source": [
    "# 5. Reducing bias through hyperparameter tuning"
   ]
  },
  {
   "cell_type": "markdown",
   "id": "66596f96",
   "metadata": {},
   "source": [
    "One option to run HP tuning relies on TensorBoard and makes things quite visual. It's also relatively intuitive, but doesn't have as much functionality as the Keras Tuner, which we will see in the tutorial."
   ]
  },
  {
   "cell_type": "code",
   "execution_count": 58,
   "id": "57d2510b",
   "metadata": {},
   "outputs": [],
   "source": [
    "from tensorboard.plugins.hparams import api as hp\n"
   ]
  },
  {
   "cell_type": "code",
   "execution_count": 59,
   "id": "99c65d7f",
   "metadata": {},
   "outputs": [],
   "source": [
    "%load_ext tensorboard\n"
   ]
  },
  {
   "cell_type": "markdown",
   "id": "93a3fd77",
   "metadata": {},
   "source": [
    "The following command deletes the log folder and may be useful for cleaning up. But be careful not to delete the things you still want to keep:"
   ]
  },
  {
   "cell_type": "code",
   "execution_count": 60,
   "id": "aeabaf70",
   "metadata": {},
   "outputs": [
    {
     "name": "stdout",
     "output_type": "stream",
     "text": [
      "rm: -: No such file or directory\n",
      "rm: rf: No such file or directory\n",
      "rm: ./logs/: No such file or directory\n"
     ]
    }
   ],
   "source": [
    "rm - rf ./logs/\n"
   ]
  },
  {
   "cell_type": "markdown",
   "id": "1ad5934a",
   "metadata": {},
   "source": [
    "We start by defining the parameters to tune over. We will tune the learning rate, the choice of optimizer, the dropout rate, and the number of hidden units per layer. We will stay fixed with two hidden layers, however.\n",
    "\n",
    "Using HParams, we define the parameters, as well as the interval over which we may vary them:"
   ]
  },
  {
   "cell_type": "code",
   "execution_count": 61,
   "id": "d368265d",
   "metadata": {},
   "outputs": [],
   "source": [
    "HP_LEARNING_RATE = hp.HParam(\"learning_rate\", hp.RealInterval(0.001, 1.0))\n",
    "HP_OPTIMIZER = hp.HParam(\"optimizer\", hp.Discrete([\"adam\", \"rmsprop\"]))\n",
    "HP_DROPOUT = hp.HParam(\"dropout\", hp.RealInterval(0.1, 0.3))\n",
    "HP_NUM_UNITS = hp.HParam(\"num_units\", hp.Discrete(range(50, 150)))"
   ]
  },
  {
   "cell_type": "markdown",
   "id": "a51dcf1d",
   "metadata": {},
   "source": [
    "We also need to define the metrics to measure. We will only care about the accuracy in our case, since we are performing a classification on balanced data:"
   ]
  },
  {
   "cell_type": "code",
   "execution_count": 62,
   "id": "141feb18",
   "metadata": {},
   "outputs": [],
   "source": [
    "METRIC_ACCURACY = \"accuracy\""
   ]
  },
  {
   "cell_type": "markdown",
   "id": "b6961d55",
   "metadata": {},
   "source": [
    "Once we have set up our parameters and metrics, we write those into our folder with the logs:"
   ]
  },
  {
   "cell_type": "code",
   "execution_count": 63,
   "id": "5bd43ae4",
   "metadata": {},
   "outputs": [],
   "source": [
    "with tf.summary.create_file_writer(\"logs/hparam_tuning\").as_default():\n",
    "    hp.hparams_config(\n",
    "        hparams=[HP_LEARNING_RATE, HP_OPTIMIZER, HP_DROPOUT, HP_NUM_UNITS],\n",
    "        metrics=[hp.Metric(METRIC_ACCURACY, display_name=\"Accuracy\")],\n",
    "    )"
   ]
  },
  {
   "cell_type": "markdown",
   "id": "de4d81f1",
   "metadata": {},
   "source": [
    "Next, we define a function that creates and trains a model, and evaluates it on the test set. This function will get a dictionary `hparams`, that contains the different parameter choices. Hence, the way the model is build is kept variable.\n",
    "\n",
    "The function also logs the choice of parameters and the output of our function (the mse), in order to display both in TensorBoard. For this purpose, we give it the current directory where the relevant information should be kept, `run_dir`."
   ]
  },
  {
   "cell_type": "code",
   "execution_count": 66,
   "id": "fc3d3628",
   "metadata": {},
   "outputs": [],
   "source": [
    "def train_test_model(hparams, run_dir):\n",
    "\n",
    "    model = tf.keras.models.Sequential(\n",
    "        [\n",
    "            tf.keras.layers.Flatten(input_shape=[28, 28]),\n",
    "            tf.keras.layers.Dropout(hparams[HP_DROPOUT]),\n",
    "            tf.keras.layers.Dense(hparams[HP_NUM_UNITS], activation=\"relu\"),\n",
    "            tf.keras.layers.Dropout(hparams[HP_DROPOUT]),\n",
    "            tf.keras.layers.Dense(hparams[HP_NUM_UNITS], activation=\"relu\"),\n",
    "            tf.keras.layers.Dense(10, activation=\"softmax\"),\n",
    "        ]\n",
    "    )\n",
    "\n",
    "    if hparams[HP_OPTIMIZER] == \"rmsprop\":\n",
    "        optimizer = tf.keras.optimizers.RMSprop(\n",
    "            learning_rate=hparams[HP_LEARNING_RATE]\n",
    "        )\n",
    "    elif hparams[HP_OPTIMIZER] == \"adam\":\n",
    "        optimizer = tf.keras.optimizers.Adam(\n",
    "            learning_rate=hparams[HP_LEARNING_RATE]\n",
    "            )\n",
    "\n",
    "    model.compile(\n",
    "        optimizer=optimizer,\n",
    "        loss=\"sparse_categorical_crossentropy\",\n",
    "        metrics=[\"accuracy\"],\n",
    "    )\n",
    "\n",
    "    model.fit(X_train, y_train, epochs=5)\n",
    "    accuracy = model.evaluate(X_valid, y_valid)[1]\n",
    "\n",
    "    with tf.summary.create_file_writer(run_dir).as_default():\n",
    "        hp.hparams(hparams)\n",
    "        tf.summary.scalar(METRIC_ACCURACY, accuracy, step=1)"
   ]
  },
  {
   "cell_type": "markdown",
   "id": "eb5bd757",
   "metadata": {},
   "source": [
    "Finally, we run a few different choices of parameters. Remember to choose parameters randomly! It is fine to sample the `dropout_rate`, `num_units` and `optimizer` at uniformly, but keep in mind the scaling issue when it comes to the `learning_rate`:"
   ]
  },
  {
   "cell_type": "code",
   "execution_count": 67,
   "id": "3de85ead",
   "metadata": {},
   "outputs": [
    {
     "name": "stdout",
     "output_type": "stream",
     "text": [
      "--- Starting trial: run-0\n",
      "{'learning_rate': 0.1656569108179011, 'optimizer': 'rmsprop', 'dropout': 0.1728127281958103, 'num_units': 108}\n",
      "Epoch 1/5\n"
     ]
    },
    {
     "name": "stderr",
     "output_type": "stream",
     "text": [
      "2023-02-23 10:29:39.798286: I tensorflow/core/grappler/optimizers/custom_graph_optimizer_registry.cc:114] Plugin optimizer for device_type GPU is enabled.\n"
     ]
    },
    {
     "name": "stdout",
     "output_type": "stream",
     "text": [
      "1563/1563 [==============================] - 15s 9ms/step - loss: 14.7876 - accuracy: 0.0992\n",
      "Epoch 2/5\n",
      "1563/1563 [==============================] - 13s 8ms/step - loss: 2.3265 - accuracy: 0.0992\n",
      "Epoch 3/5\n",
      "1563/1563 [==============================] - 14s 9ms/step - loss: 2.3260 - accuracy: 0.1005\n",
      "Epoch 4/5\n",
      "1563/1563 [==============================] - 15s 9ms/step - loss: 2.3263 - accuracy: 0.0978\n",
      "Epoch 5/5\n",
      "1563/1563 [==============================] - 13s 9ms/step - loss: 2.3260 - accuracy: 0.0991\n",
      "  5/313 [..............................] - ETA: 5s - loss: 2.3189 - accuracy: 0.1187 "
     ]
    },
    {
     "name": "stderr",
     "output_type": "stream",
     "text": [
      "2023-02-23 10:30:49.872479: I tensorflow/core/grappler/optimizers/custom_graph_optimizer_registry.cc:114] Plugin optimizer for device_type GPU is enabled.\n"
     ]
    },
    {
     "name": "stdout",
     "output_type": "stream",
     "text": [
      "313/313 [==============================] - 3s 8ms/step - loss: 2.3228 - accuracy: 0.1024\n",
      "--- Starting trial: run-1\n",
      "{'learning_rate': 0.024483051110277515, 'optimizer': 'rmsprop', 'dropout': 0.2734000827387859, 'num_units': 148}\n",
      "Epoch 1/5\n"
     ]
    },
    {
     "name": "stderr",
     "output_type": "stream",
     "text": [
      "2023-02-23 10:30:52.738241: I tensorflow/core/grappler/optimizers/custom_graph_optimizer_registry.cc:114] Plugin optimizer for device_type GPU is enabled.\n"
     ]
    },
    {
     "name": "stdout",
     "output_type": "stream",
     "text": [
      "1563/1563 [==============================] - 14s 9ms/step - loss: 1.3744 - accuracy: 0.6073\n",
      "Epoch 2/5\n",
      "1563/1563 [==============================] - 13s 8ms/step - loss: 1.0619 - accuracy: 0.6388\n",
      "Epoch 3/5\n",
      "1563/1563 [==============================] - 13s 8ms/step - loss: 1.0935 - accuracy: 0.6414\n",
      "Epoch 4/5\n",
      "1563/1563 [==============================] - 15s 9ms/step - loss: 1.0561 - accuracy: 0.6448\n",
      "Epoch 5/5\n",
      "1563/1563 [==============================] - 14s 9ms/step - loss: 1.0497 - accuracy: 0.6507\n",
      " 14/313 [>.............................] - ETA: 2s - loss: 0.8076 - accuracy: 0.6763"
     ]
    },
    {
     "name": "stderr",
     "output_type": "stream",
     "text": [
      "2023-02-23 10:32:01.766328: I tensorflow/core/grappler/optimizers/custom_graph_optimizer_registry.cc:114] Plugin optimizer for device_type GPU is enabled.\n"
     ]
    },
    {
     "name": "stdout",
     "output_type": "stream",
     "text": [
      "313/313 [==============================] - 2s 5ms/step - loss: 0.8821 - accuracy: 0.7142\n",
      "--- Starting trial: run-2\n",
      "{'learning_rate': 0.020070336720716307, 'optimizer': 'rmsprop', 'dropout': 0.2287472739514336, 'num_units': 92}\n",
      "Epoch 1/5\n"
     ]
    },
    {
     "name": "stderr",
     "output_type": "stream",
     "text": [
      "2023-02-23 10:32:04.052016: I tensorflow/core/grappler/optimizers/custom_graph_optimizer_registry.cc:114] Plugin optimizer for device_type GPU is enabled.\n"
     ]
    },
    {
     "name": "stdout",
     "output_type": "stream",
     "text": [
      "1563/1563 [==============================] - 14s 9ms/step - loss: 1.0618 - accuracy: 0.6416\n",
      "Epoch 2/5\n",
      "1563/1563 [==============================] - 14s 9ms/step - loss: 0.9768 - accuracy: 0.6724\n",
      "Epoch 3/5\n",
      "1563/1563 [==============================] - 13s 8ms/step - loss: 0.9799 - accuracy: 0.6826\n",
      "Epoch 4/5\n",
      "1563/1563 [==============================] - 13s 8ms/step - loss: 1.0102 - accuracy: 0.6850\n",
      "Epoch 5/5\n",
      "1563/1563 [==============================] - 12s 8ms/step - loss: 0.9834 - accuracy: 0.6866\n",
      " 15/313 [>.............................] - ETA: 2s - loss: 0.7811 - accuracy: 0.6958"
     ]
    },
    {
     "name": "stderr",
     "output_type": "stream",
     "text": [
      "2023-02-23 10:33:10.892904: I tensorflow/core/grappler/optimizers/custom_graph_optimizer_registry.cc:114] Plugin optimizer for device_type GPU is enabled.\n"
     ]
    },
    {
     "name": "stdout",
     "output_type": "stream",
     "text": [
      "313/313 [==============================] - 2s 5ms/step - loss: 1.0693 - accuracy: 0.7074\n"
     ]
    }
   ],
   "source": [
    "total_sessions = 3\n",
    "\n",
    "for session in range(total_sessions):\n",
    "\n",
    "    # Create hyperparameters randomly\n",
    "    dropout_rate = HP_DROPOUT.domain.sample_uniform()\n",
    "    num_units = HP_NUM_UNITS.domain.sample_uniform()\n",
    "    optimizer = HP_OPTIMIZER.domain.sample_uniform()\n",
    "\n",
    "    r = -3 * np.random.rand()\n",
    "    learning_rate = 10.0**r\n",
    "\n",
    "    # Create a dictionary of hyperparameters\n",
    "    hparams = {\n",
    "        HP_LEARNING_RATE: learning_rate,\n",
    "        HP_OPTIMIZER: optimizer,\n",
    "        HP_DROPOUT: dropout_rate,\n",
    "        HP_NUM_UNITS: num_units,\n",
    "    }\n",
    "\n",
    "    # train the model with the chosen parameters\n",
    "    run_name = \"run-%d\" % session\n",
    "    print(\"--- Starting trial: %s\" % run_name)\n",
    "    print({h.name: hparams[h] for h in hparams})\n",
    "    train_test_model(hparams, \"logs/hparam_tuning/\" + run_name)"
   ]
  },
  {
   "cell_type": "markdown",
   "id": "dd459da9",
   "metadata": {},
   "source": [
    "Finally, we display the runs using TensorBoard. If you are lucky, it is enough to call\n",
    "```\n",
    "%tensorboard --logdir logs\n",
    "```\n",
    "Otherwise, you might have to specify the path to the TensorBoard binary, such as here:"
   ]
  },
  {
   "cell_type": "code",
   "execution_count": 68,
   "id": "8c6be7ee",
   "metadata": {},
   "outputs": [
    {
     "data": {
      "text/plain": [
       "ERROR: Could not find\n",
       "'/Users/philippe/anaconda3/envs/adl_env/bin/tensorboard' (set by the\n",
       "`TENSORBOARD_BINARY` environment variable). Please ensure that your\n",
       "PATH contains an executable `tensorboard` program, or explicitly\n",
       "specify the path to a TensorBoard binary by setting the\n",
       "`TENSORBOARD_BINARY` environment variable."
      ]
     },
     "metadata": {},
     "output_type": "display_data"
    }
   ],
   "source": [
    "os.environ['TENSORBOARD_BINARY'] = '/Users/philippe/anaconda3/envs/adl_env/bin/tensorboard'\n",
    "%tensorboard - -logdir logs\n"
   ]
  },
  {
   "cell_type": "markdown",
   "id": "11037455",
   "metadata": {},
   "source": [
    "Once you have chosen a model that you like based on the hyperparameter search, how do you proceed?"
   ]
  },
  {
   "cell_type": "markdown",
   "id": "6466b402",
   "metadata": {},
   "source": [
    "# 6. Variance"
   ]
  },
  {
   "cell_type": "markdown",
   "id": "77681f67",
   "metadata": {},
   "source": [
    "## 6.1 Spurious correlations as a source of variance"
   ]
  },
  {
   "cell_type": "markdown",
   "id": "b05ade47",
   "metadata": {},
   "source": [
    "We will see here that noise in your data makes your predictions worse - because it introduces spurious correlations that the model \"learns\" but that are actually without any meaning for generalization (i.e., that lead to more and more overfitting).\n",
    "\n",
    "To show this, let's add additional features to the data. In one case, we will add features that are all zero, and in another case we will add features that are random. Note that we flatten the data first in this case, to make this process easier:"
   ]
  },
  {
   "cell_type": "code",
   "execution_count": 69,
   "id": "43151e89",
   "metadata": {},
   "outputs": [],
   "source": [
    "X_flat = X_other.reshape(X_other.shape[0], X_other.shape[1] ** 2)\n",
    "X_with_noise = np.concatenate(\n",
    "    [X_flat, np.random.random((X_flat.shape[0], X_flat.shape[1]))], axis=1\n",
    ")\n",
    "X_with_zero = np.concatenate(\n",
    "    [X_flat, np.zeros((X_flat.shape[0], X_flat.shape[1]))], axis=1\n",
    ")"
   ]
  },
  {
   "cell_type": "markdown",
   "id": "42809bfa",
   "metadata": {},
   "source": [
    "Take a look at the shapes of our new data sets:"
   ]
  },
  {
   "cell_type": "code",
   "execution_count": 70,
   "id": "ab570baf",
   "metadata": {},
   "outputs": [
    {
     "name": "stdout",
     "output_type": "stream",
     "text": [
      "(60000, 784)\n",
      "(60000, 1568)\n",
      "(60000, 1568)\n"
     ]
    }
   ],
   "source": [
    "print(X_flat.shape)\n",
    "print(X_with_noise.shape)\n",
    "print(X_with_zero.shape)\n"
   ]
  },
  {
   "cell_type": "markdown",
   "id": "2d73b724",
   "metadata": {},
   "source": [
    "We will now create the same model twice. Note that we no longer need a `Flatten` layer, because we already flattened the data. Also, we only applied our transformation once, to the `X_other` data. Hence, instead of resplitting our data, we will let `TensorFlow` do it for us, using `validation_split`."
   ]
  },
  {
   "cell_type": "code",
   "execution_count": 71,
   "id": "063e1d63",
   "metadata": {},
   "outputs": [
    {
     "name": "stdout",
     "output_type": "stream",
     "text": [
      "Epoch 1/5\n"
     ]
    },
    {
     "name": "stderr",
     "output_type": "stream",
     "text": [
      "2023-02-23 10:36:40.659419: I tensorflow/core/grappler/optimizers/custom_graph_optimizer_registry.cc:114] Plugin optimizer for device_type GPU is enabled.\n"
     ]
    },
    {
     "name": "stdout",
     "output_type": "stream",
     "text": [
      "372/375 [============================>.] - ETA: 0s - loss: 0.7935 - accuracy: 0.7244"
     ]
    },
    {
     "name": "stderr",
     "output_type": "stream",
     "text": [
      "2023-02-23 10:36:45.409953: I tensorflow/core/grappler/optimizers/custom_graph_optimizer_registry.cc:114] Plugin optimizer for device_type GPU is enabled.\n"
     ]
    },
    {
     "name": "stdout",
     "output_type": "stream",
     "text": [
      "375/375 [==============================] - 5s 13ms/step - loss: 0.7913 - accuracy: 0.7251 - val_loss: 0.5087 - val_accuracy: 0.8144\n",
      "Epoch 2/5\n",
      "375/375 [==============================] - 3s 8ms/step - loss: 0.4843 - accuracy: 0.8187 - val_loss: 0.5367 - val_accuracy: 0.8058\n",
      "Epoch 3/5\n",
      "375/375 [==============================] - 3s 8ms/step - loss: 0.4149 - accuracy: 0.8444 - val_loss: 0.4217 - val_accuracy: 0.8431\n",
      "Epoch 4/5\n",
      "375/375 [==============================] - 4s 9ms/step - loss: 0.3720 - accuracy: 0.8607 - val_loss: 0.4102 - val_accuracy: 0.8499\n",
      "Epoch 5/5\n",
      "375/375 [==============================] - 3s 9ms/step - loss: 0.3374 - accuracy: 0.8718 - val_loss: 0.3739 - val_accuracy: 0.8662\n",
      "Epoch 1/5\n",
      "375/375 [==============================] - 3s 9ms/step - loss: 0.3406 - accuracy: 0.8765 - val_loss: 0.3667 - val_accuracy: 0.8698\n",
      "Epoch 2/5\n",
      "375/375 [==============================] - 4s 10ms/step - loss: 0.3083 - accuracy: 0.8860 - val_loss: 0.3401 - val_accuracy: 0.8809\n",
      "Epoch 3/5\n",
      "375/375 [==============================] - 3s 9ms/step - loss: 0.2914 - accuracy: 0.8928 - val_loss: 0.3323 - val_accuracy: 0.8783\n",
      "Epoch 4/5\n",
      "375/375 [==============================] - 3s 8ms/step - loss: 0.2781 - accuracy: 0.8972 - val_loss: 0.3169 - val_accuracy: 0.8873\n",
      "Epoch 5/5\n",
      "375/375 [==============================] - 3s 9ms/step - loss: 0.2662 - accuracy: 0.9018 - val_loss: 0.3222 - val_accuracy: 0.8880\n"
     ]
    }
   ],
   "source": [
    "model = tf.keras.models.Sequential(\n",
    "    [\n",
    "        tf.keras.layers.Dense(512, activation=\"relu\"),\n",
    "        tf.keras.layers.Dense(10, activation=\"softmax\"),\n",
    "    ]\n",
    ")\n",
    "model.compile(\n",
    "    loss=\"sparse_categorical_crossentropy\", optimizer=\"rmsprop\", metrics=[\"accuracy\"]\n",
    ")\n",
    "log_noise = model.fit(\n",
    "    X_with_noise, y_other, epochs=5, batch_size=128, validation_split=0.2\n",
    ")\n",
    "log_zero = model.fit(\n",
    "    X_with_zero, y_other, epochs=5, batch_size=128, validation_split=0.2\n",
    ")"
   ]
  },
  {
   "cell_type": "markdown",
   "id": "3c2ff4e6",
   "metadata": {},
   "source": [
    "Plot the results below. You will see that adding noise is always detrimental to the generalization ability of your model. The more noise, the worse!"
   ]
  },
  {
   "cell_type": "code",
   "execution_count": 72,
   "id": "2478e323",
   "metadata": {},
   "outputs": [
    {
     "data": {
      "image/png": "[encoded data removed]",
      "text/plain": [
       "<Figure size 640x480 with 1 Axes>"
      ]
     },
     "metadata": {},
     "output_type": "display_data"
    }
   ],
   "source": [
    "plt.plot(log_noise.history[\"val_accuracy\"], label=\"Noise added\", color=\"green\")\n",
    "plt.plot(log_zero.history[\"val_accuracy\"], label=\"Zero added\", color=\"darkblue\")\n",
    "plt.title(\"Validation accuracies\")\n",
    "plt.legend()\n",
    "plt.show()"
   ]
  },
  {
   "cell_type": "markdown",
   "id": "4243b595",
   "metadata": {},
   "source": [
    "# 6.2 Lowering variance through regularization\n",
    "\n",
    "We learned about a number of regularization techniques. Here, we will see how to implement early stopping, L2-regularization, and dropout-regularization"
   ]
  },
  {
   "cell_type": "markdown",
   "id": "f4a2aeb7",
   "metadata": {},
   "source": [
    "### Early stopping"
   ]
  },
  {
   "cell_type": "markdown",
   "id": "3e967ce4",
   "metadata": {},
   "source": [
    "When we implement early stopping, the model definition and compilation is unchanged:"
   ]
  },
  {
   "cell_type": "code",
   "execution_count": 73,
   "id": "57fb9122",
   "metadata": {},
   "outputs": [],
   "source": [
    "model = tf.keras.models.Sequential(\n",
    "    [\n",
    "        tf.keras.layers.Flatten(input_shape=[28, 28]),\n",
    "        tf.keras.layers.Dense(512, activation=\"relu\"),\n",
    "        tf.keras.layers.Dense(10, activation=\"softmax\"),\n",
    "    ]\n",
    ")\n",
    "model.compile(\n",
    "    loss=\"sparse_categorical_crossentropy\", optimizer=\"rmsprop\", metrics=[\"accuracy\"]\n",
    ")"
   ]
  },
  {
   "cell_type": "markdown",
   "id": "d9e2f299",
   "metadata": {},
   "source": [
    "However, we now need to add a `callback` to the training process. We define the `EarlyStopping` callback, which interrupts training if the validation loss is no longer improving. In particular, the callback waits for `patience` epochs of no improvement before interrupting:"
   ]
  },
  {
   "cell_type": "code",
   "execution_count": 74,
   "id": "90a7a3b7",
   "metadata": {},
   "outputs": [],
   "source": [
    "early_stopping_cb = tf.keras.callbacks.EarlyStopping(\n",
    "    patience=5, restore_best_weights=True\n",
    ")"
   ]
  },
  {
   "cell_type": "markdown",
   "id": "0271305c",
   "metadata": {},
   "source": [
    "The other parameter here is `restore_best_weights`. If set to `True`, this simply means that, once the callback decides to interrupt, it takes the version of the model that led to the best validation loss so far (do you know which epoch this corresponds to?)"
   ]
  },
  {
   "cell_type": "code",
   "execution_count": 75,
   "id": "f953dff7",
   "metadata": {},
   "outputs": [
    {
     "name": "stdout",
     "output_type": "stream",
     "text": [
      "Epoch 1/50\n"
     ]
    },
    {
     "name": "stderr",
     "output_type": "stream",
     "text": [
      "2023-02-23 10:37:46.035053: I tensorflow/core/grappler/optimizers/custom_graph_optimizer_registry.cc:114] Plugin optimizer for device_type GPU is enabled.\n"
     ]
    },
    {
     "name": "stdout",
     "output_type": "stream",
     "text": [
      "391/391 [==============================] - ETA: 0s - loss: 0.5785 - accuracy: 0.7963"
     ]
    },
    {
     "name": "stderr",
     "output_type": "stream",
     "text": [
      "2023-02-23 10:37:49.507539: I tensorflow/core/grappler/optimizers/custom_graph_optimizer_registry.cc:114] Plugin optimizer for device_type GPU is enabled.\n"
     ]
    },
    {
     "name": "stdout",
     "output_type": "stream",
     "text": [
      "391/391 [==============================] - 4s 9ms/step - loss: 0.5785 - accuracy: 0.7963 - val_loss: 0.5107 - val_accuracy: 0.8049\n",
      "Epoch 2/50\n",
      "391/391 [==============================] - 3s 8ms/step - loss: 0.3943 - accuracy: 0.8574 - val_loss: 0.4227 - val_accuracy: 0.8502\n",
      "Epoch 3/50\n",
      "391/391 [==============================] - 3s 9ms/step - loss: 0.3467 - accuracy: 0.8729 - val_loss: 0.3836 - val_accuracy: 0.8610\n",
      "Epoch 4/50\n",
      "391/391 [==============================] - 3s 8ms/step - loss: 0.3173 - accuracy: 0.8843 - val_loss: 0.3703 - val_accuracy: 0.8612\n",
      "Epoch 5/50\n",
      "391/391 [==============================] - 4s 9ms/step - loss: 0.2985 - accuracy: 0.8898 - val_loss: 0.3567 - val_accuracy: 0.8648\n",
      "Epoch 6/50\n",
      "391/391 [==============================] - 4s 9ms/step - loss: 0.2843 - accuracy: 0.8953 - val_loss: 0.3697 - val_accuracy: 0.8644\n",
      "Epoch 7/50\n",
      "391/391 [==============================] - 3s 9ms/step - loss: 0.2684 - accuracy: 0.9020 - val_loss: 0.3294 - val_accuracy: 0.8819\n",
      "Epoch 8/50\n",
      "391/391 [==============================] - 3s 8ms/step - loss: 0.2570 - accuracy: 0.9045 - val_loss: 0.3141 - val_accuracy: 0.8864\n",
      "Epoch 9/50\n",
      "391/391 [==============================] - 3s 9ms/step - loss: 0.2456 - accuracy: 0.9101 - val_loss: 0.3216 - val_accuracy: 0.8844\n",
      "Epoch 10/50\n",
      "391/391 [==============================] - 3s 8ms/step - loss: 0.2354 - accuracy: 0.9135 - val_loss: 0.3428 - val_accuracy: 0.8785\n",
      "Epoch 11/50\n",
      "391/391 [==============================] - 3s 8ms/step - loss: 0.2281 - accuracy: 0.9155 - val_loss: 0.3614 - val_accuracy: 0.8806\n",
      "Epoch 12/50\n",
      "391/391 [==============================] - 3s 8ms/step - loss: 0.2197 - accuracy: 0.9203 - val_loss: 0.3720 - val_accuracy: 0.8742\n",
      "Epoch 13/50\n",
      "391/391 [==============================] - 3s 8ms/step - loss: 0.2125 - accuracy: 0.9207 - val_loss: 0.3196 - val_accuracy: 0.8934\n"
     ]
    },
    {
     "data": {
      "image/png": "[encoded data removed]",
      "text/plain": [
       "<Figure size 640x480 with 1 Axes>"
      ]
     },
     "metadata": {},
     "output_type": "display_data"
    }
   ],
   "source": [
    "log = model.fit(\n",
    "    X_train,\n",
    "    y_train,\n",
    "    epochs=50,\n",
    "    batch_size=128,\n",
    "    validation_data=(X_valid, y_valid),\n",
    "    callbacks=[early_stopping_cb],\n",
    ")\n",
    "create_plot(log)"
   ]
  },
  {
   "cell_type": "markdown",
   "id": "e44d9086",
   "metadata": {},
   "source": [
    "### L2- regularization"
   ]
  },
  {
   "cell_type": "markdown",
   "id": "f69c479a",
   "metadata": {},
   "source": [
    "L2-regularization adds a penalty based on the L2-norm to the loss function. Usually, we add the same penalty for all weights, and we don't add a penalty for the biases. But you could also add a `bias_regularizer`, or even an `activity_regularizer`, which regularizes the output of the neurons instead of the parameters.\n",
    "\n",
    "Keep in mind that the regularization parameter is another hyperparameter that might need tuning. A good starting point is 0.01, but it can vary quite a bit depending on the problem and network."
   ]
  },
  {
   "cell_type": "code",
   "execution_count": 76,
   "id": "91a4131a",
   "metadata": {},
   "outputs": [],
   "source": [
    "reg_param = 0.01\n",
    "regularizer = tf.keras.regularizers.l2(reg_param)"
   ]
  },
  {
   "cell_type": "markdown",
   "id": "d614e6d8",
   "metadata": {},
   "source": [
    "Can you rerun the model from above, but using regularization? In particular, to each `Dense` layer, you want to add the argument `kernel_regularizer=regularizer`:"
   ]
  },
  {
   "cell_type": "code",
   "execution_count": 77,
   "id": "2d4255db",
   "metadata": {},
   "outputs": [
    {
     "name": "stdout",
     "output_type": "stream",
     "text": [
      "Epoch 1/10\n"
     ]
    },
    {
     "name": "stderr",
     "output_type": "stream",
     "text": [
      "2023-02-23 10:46:43.321361: I tensorflow/core/grappler/optimizers/custom_graph_optimizer_registry.cc:114] Plugin optimizer for device_type GPU is enabled.\n"
     ]
    },
    {
     "name": "stdout",
     "output_type": "stream",
     "text": [
      "391/391 [==============================] - ETA: 0s - loss: 1.7258 - accuracy: 0.7468"
     ]
    },
    {
     "name": "stderr",
     "output_type": "stream",
     "text": [
      "2023-02-23 10:46:49.411176: I tensorflow/core/grappler/optimizers/custom_graph_optimizer_registry.cc:114] Plugin optimizer for device_type GPU is enabled.\n"
     ]
    },
    {
     "name": "stdout",
     "output_type": "stream",
     "text": [
      "391/391 [==============================] - 7s 17ms/step - loss: 1.7258 - accuracy: 0.7468 - val_loss: 0.9511 - val_accuracy: 0.7569\n",
      "Epoch 2/10\n",
      "391/391 [==============================] - 6s 16ms/step - loss: 0.9120 - accuracy: 0.7742 - val_loss: 0.8538 - val_accuracy: 0.8005\n",
      "Epoch 3/10\n",
      "391/391 [==============================] - 6s 16ms/step - loss: 0.8841 - accuracy: 0.7802 - val_loss: 0.9346 - val_accuracy: 0.7596\n",
      "Epoch 4/10\n",
      "391/391 [==============================] - 6s 16ms/step - loss: 0.8708 - accuracy: 0.7843 - val_loss: 1.0076 - val_accuracy: 0.7075\n",
      "Epoch 5/10\n",
      "391/391 [==============================] - 6s 16ms/step - loss: 0.8621 - accuracy: 0.7883 - val_loss: 0.8812 - val_accuracy: 0.7661\n",
      "Epoch 6/10\n",
      "391/391 [==============================] - 6s 16ms/step - loss: 0.8535 - accuracy: 0.7915 - val_loss: 0.8864 - val_accuracy: 0.7608\n",
      "Epoch 7/10\n",
      "391/391 [==============================] - 6s 16ms/step - loss: 0.8438 - accuracy: 0.7934 - val_loss: 0.8501 - val_accuracy: 0.7972\n",
      "Epoch 8/10\n",
      "391/391 [==============================] - 6s 16ms/step - loss: 0.8370 - accuracy: 0.7987 - val_loss: 0.8452 - val_accuracy: 0.7932\n",
      "Epoch 9/10\n",
      "391/391 [==============================] - 6s 16ms/step - loss: 0.8358 - accuracy: 0.7989 - val_loss: 0.8423 - val_accuracy: 0.7953\n",
      "Epoch 10/10\n",
      "391/391 [==============================] - 6s 16ms/step - loss: 0.8289 - accuracy: 0.8016 - val_loss: 0.8728 - val_accuracy: 0.7742\n"
     ]
    },
    {
     "data": {
      "image/png": "[encoded data removed]",
      "text/plain": [
       "<Figure size 640x480 with 1 Axes>"
      ]
     },
     "metadata": {},
     "output_type": "display_data"
    }
   ],
   "source": [
    "model = tf.keras.models.Sequential(\n",
    "    [\n",
    "        tf.keras.layers.Flatten(input_shape=[28, 28]),\n",
    "        tf.keras.layers.Dense(512, activation=\"relu\", kernel_regularizer=regularizer),\n",
    "        tf.keras.layers.Dense(10, activation=\"softmax\", kernel_regularizer=regularizer),\n",
    "    ]\n",
    ")\n",
    "\n",
    "model.compile(\n",
    "    loss=\"sparse_categorical_crossentropy\", optimizer=\"rmsprop\", metrics=[\"accuracy\"]\n",
    ")\n",
    "log = model.fit(\n",
    "    X_train, y_train, epochs=10, batch_size=128, validation_data=(X_valid, y_valid)\n",
    ")\n",
    "create_plot(log)"
   ]
  },
  {
   "cell_type": "markdown",
   "id": "115ecc21",
   "metadata": {},
   "source": [
    "As the regularization term is added when training but not when validating/testing, the loss will typically start out quite high, before the optimization routine finds a good way to adjust the weights to reduce the loss.\n",
    "\n",
    "Note that we have improved the overfitting issue quite a bit, but unfortunately we have made it more difficult for the model to learn (we introduced bias). This is frequently the case, and we usually need to do some fiddling to find a good compromise."
   ]
  },
  {
   "cell_type": "markdown",
   "id": "2c97cc8d",
   "metadata": {},
   "source": [
    "### Dropout-regularization"
   ]
  },
  {
   "cell_type": "markdown",
   "id": "40ef8ffa",
   "metadata": {},
   "source": [
    "Another regularization method is dropout-regularization. At training time, in each iteration, a number of neurons will be considered as non-existent, so we force the network to distribute weights more equally across neurons.\n",
    "\n",
    "This makes the correct computation for activations a bit challenging when doing predictions, but luckily TensorFlow takes care of the added complexity.\n",
    "\n",
    "If we want to ensure that neurons at a certain layer drop out (with probability `rate`), we add a `Dropout` layer before the corresponding `Dense` layer, using\n",
    "```\n",
    "tf.keras.layers.Dropout(rate=0.2)\n",
    "```\n",
    "Of course, `0.2` is just a particular choice and we can vary that.\n",
    "Can you repeat the previous (baseline) model, but adding a `Dropout` layer before each `Dense` layer?"
   ]
  },
  {
   "cell_type": "code",
   "execution_count": null,
   "id": "e2fbc9e0",
   "metadata": {},
   "outputs": [],
   "source": [
    "\n",
    "\n",
    "\n",
    "\n",
    "\n",
    "\n"
   ]
  }
 ],
 "metadata": {
  "interpreter": {
   "hash": "aee8b7b246df8f9039afb4144a1f6fd8d2ca17a180786b69acc140d282b71a49"
  },
  "kernelspec": {
   "display_name": "Python 3.10.1 64-bit",
   "language": "python",
   "name": "python3"
  },
  "language_info": {
   "codemirror_mode": {
    "name": "ipython",
    "version": 3
   },
   "file_extension": ".py",
   "mimetype": "text/x-python",
   "name": "python",
   "nbconvert_exporter": "python",
   "pygments_lexer": "ipython3",
   "version": "3.10.1"
  }
 },
 "nbformat": 4,
 "nbformat_minor": 5
}
