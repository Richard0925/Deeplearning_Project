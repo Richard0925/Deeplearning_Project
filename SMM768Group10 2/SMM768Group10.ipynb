{
 "cells": [
  {
   "cell_type": "code",
   "execution_count": 2,
   "metadata": {},
   "outputs": [],
   "source": [
    "import tensorflow as tf\n",
    "import numpy as np\n",
    "import pandas as pd\n",
    "from sklearn.model_selection import train_test_split\n",
    "import matplotlib.pyplot as plt\n",
    "import datetime\n",
    "import os\n",
    "import random\n",
    "import keras_tuner as kt\n",
    "from sklearn.metrics import f1_score\n",
    "from sklearn.preprocessing import MinMaxScaler\n",
    "from sklearn.preprocessing import StandardScaler\n",
    "from sklearn.metrics import confusion_matrix\n",
    "from tensorflow import math\n",
    "from sklearn.tree import DecisionTreeClassifier\n",
    "from sklearn.metrics import accuracy_score, precision_score, recall_score\n",
    "from tensorflow.keras.models import Model\n",
    "from tensorflow.keras import layers, losses\n",
    "\n",
    "import ssl\n",
    "ssl._create_default_https_context = ssl._create_unverified_context"
   ]
  },
  {
   "cell_type": "markdown",
   "metadata": {},
   "source": [
    "## Data cleaning"
   ]
  },
  {
   "cell_type": "code",
   "execution_count": 3,
   "metadata": {},
   "outputs": [
    {
     "data": {
      "text/html": [
       "<div>\n",
       "<style scoped>\n",
       "    .dataframe tbody tr th:only-of-type {\n",
       "        vertical-align: middle;\n",
       "    }\n",
       "\n",
       "    .dataframe tbody tr th {\n",
       "        vertical-align: top;\n",
       "    }\n",
       "\n",
       "    .dataframe thead th {\n",
       "        text-align: right;\n",
       "    }\n",
       "</style>\n",
       "<table border=\"1\" class=\"dataframe\">\n",
       "  <thead>\n",
       "    <tr style=\"text-align: right;\">\n",
       "      <th></th>\n",
       "      <th>FirstPartyVehicleNumber</th>\n",
       "      <th>ThirdPartyVehicleNumber</th>\n",
       "      <th>DamageImportance</th>\n",
       "      <th>PolicyWasSubscribedOnInternet</th>\n",
       "      <th>NumberOfPoliciesOfPolicyholder</th>\n",
       "      <th>FpVehicleAgeMonths</th>\n",
       "      <th>EasinessToStage</th>\n",
       "      <th>ClaimWihoutIdentifiedThirdParty</th>\n",
       "      <th>ClaimAmount</th>\n",
       "      <th>LossHour</th>\n",
       "      <th>...</th>\n",
       "      <th>ClaimInvolvedCovers_Windscreen ActLiability</th>\n",
       "      <th>ClaimInvolvedCovers_Windscreen ActLiability Burglary</th>\n",
       "      <th>ClaimInvolvedCovers_Windscreen ActLiability Burglary Theft</th>\n",
       "      <th>ClaimInvolvedCovers_Windscreen ActLiability NaturalCatastrophes</th>\n",
       "      <th>ClaimInvolvedCovers_Windscreen ActLiability Theft</th>\n",
       "      <th>ClaimInvolvedCovers_Windscreen ActLiability Theft ReplacementVehicle</th>\n",
       "      <th>ClaimInvolvedCovers_Windscreen MaterialDamages</th>\n",
       "      <th>ClaimInvolvedCovers_Windscreen MaterialDamages ActLiability</th>\n",
       "      <th>ClaimInvolvedCovers_Windscreen NaturalCatastrophes</th>\n",
       "      <th>ClaimInvolvedCovers_Windscreen Theft</th>\n",
       "    </tr>\n",
       "  </thead>\n",
       "  <tbody>\n",
       "    <tr>\n",
       "      <th>0</th>\n",
       "      <td>0.0</td>\n",
       "      <td>0</td>\n",
       "      <td>0.0</td>\n",
       "      <td>1</td>\n",
       "      <td>1</td>\n",
       "      <td>104.0</td>\n",
       "      <td>0.25</td>\n",
       "      <td>1</td>\n",
       "      <td>4624.73</td>\n",
       "      <td>8.0</td>\n",
       "      <td>...</td>\n",
       "      <td>0</td>\n",
       "      <td>0</td>\n",
       "      <td>0</td>\n",
       "      <td>0</td>\n",
       "      <td>0</td>\n",
       "      <td>0</td>\n",
       "      <td>0</td>\n",
       "      <td>0</td>\n",
       "      <td>0</td>\n",
       "      <td>0</td>\n",
       "    </tr>\n",
       "    <tr>\n",
       "      <th>1</th>\n",
       "      <td>0.0</td>\n",
       "      <td>0</td>\n",
       "      <td>0.0</td>\n",
       "      <td>0</td>\n",
       "      <td>3</td>\n",
       "      <td>230.0</td>\n",
       "      <td>0.50</td>\n",
       "      <td>1</td>\n",
       "      <td>1606.81</td>\n",
       "      <td>11.0</td>\n",
       "      <td>...</td>\n",
       "      <td>0</td>\n",
       "      <td>0</td>\n",
       "      <td>0</td>\n",
       "      <td>0</td>\n",
       "      <td>0</td>\n",
       "      <td>0</td>\n",
       "      <td>0</td>\n",
       "      <td>0</td>\n",
       "      <td>0</td>\n",
       "      <td>0</td>\n",
       "    </tr>\n",
       "    <tr>\n",
       "      <th>2</th>\n",
       "      <td>0.0</td>\n",
       "      <td>0</td>\n",
       "      <td>0.0</td>\n",
       "      <td>0</td>\n",
       "      <td>9</td>\n",
       "      <td>93.0</td>\n",
       "      <td>0.25</td>\n",
       "      <td>0</td>\n",
       "      <td>998.20</td>\n",
       "      <td>18.0</td>\n",
       "      <td>...</td>\n",
       "      <td>0</td>\n",
       "      <td>0</td>\n",
       "      <td>0</td>\n",
       "      <td>0</td>\n",
       "      <td>0</td>\n",
       "      <td>0</td>\n",
       "      <td>0</td>\n",
       "      <td>0</td>\n",
       "      <td>0</td>\n",
       "      <td>0</td>\n",
       "    </tr>\n",
       "    <tr>\n",
       "      <th>3</th>\n",
       "      <td>0.0</td>\n",
       "      <td>0</td>\n",
       "      <td>0.0</td>\n",
       "      <td>0</td>\n",
       "      <td>2</td>\n",
       "      <td>56.0</td>\n",
       "      <td>0.25</td>\n",
       "      <td>0</td>\n",
       "      <td>2506.92</td>\n",
       "      <td>11.0</td>\n",
       "      <td>...</td>\n",
       "      <td>0</td>\n",
       "      <td>0</td>\n",
       "      <td>0</td>\n",
       "      <td>0</td>\n",
       "      <td>0</td>\n",
       "      <td>0</td>\n",
       "      <td>0</td>\n",
       "      <td>0</td>\n",
       "      <td>0</td>\n",
       "      <td>0</td>\n",
       "    </tr>\n",
       "    <tr>\n",
       "      <th>4</th>\n",
       "      <td>0.0</td>\n",
       "      <td>1</td>\n",
       "      <td>0.0</td>\n",
       "      <td>0</td>\n",
       "      <td>4</td>\n",
       "      <td>110.0</td>\n",
       "      <td>0.25</td>\n",
       "      <td>0</td>\n",
       "      <td>12.00</td>\n",
       "      <td>12.0</td>\n",
       "      <td>...</td>\n",
       "      <td>0</td>\n",
       "      <td>0</td>\n",
       "      <td>0</td>\n",
       "      <td>0</td>\n",
       "      <td>0</td>\n",
       "      <td>0</td>\n",
       "      <td>0</td>\n",
       "      <td>0</td>\n",
       "      <td>0</td>\n",
       "      <td>0</td>\n",
       "    </tr>\n",
       "  </tbody>\n",
       "</table>\n",
       "<p>5 rows × 122 columns</p>\n",
       "</div>"
      ],
      "text/plain": [
       "   FirstPartyVehicleNumber  ThirdPartyVehicleNumber  DamageImportance  \\\n",
       "0                      0.0                        0               0.0   \n",
       "1                      0.0                        0               0.0   \n",
       "2                      0.0                        0               0.0   \n",
       "3                      0.0                        0               0.0   \n",
       "4                      0.0                        1               0.0   \n",
       "\n",
       "   PolicyWasSubscribedOnInternet  NumberOfPoliciesOfPolicyholder  \\\n",
       "0                              1                               1   \n",
       "1                              0                               3   \n",
       "2                              0                               9   \n",
       "3                              0                               2   \n",
       "4                              0                               4   \n",
       "\n",
       "   FpVehicleAgeMonths  EasinessToStage  ClaimWihoutIdentifiedThirdParty  \\\n",
       "0               104.0             0.25                                1   \n",
       "1               230.0             0.50                                1   \n",
       "2                93.0             0.25                                0   \n",
       "3                56.0             0.25                                0   \n",
       "4               110.0             0.25                                0   \n",
       "\n",
       "   ClaimAmount  LossHour  ...  ClaimInvolvedCovers_Windscreen ActLiability  \\\n",
       "0      4624.73       8.0  ...                                            0   \n",
       "1      1606.81      11.0  ...                                            0   \n",
       "2       998.20      18.0  ...                                            0   \n",
       "3      2506.92      11.0  ...                                            0   \n",
       "4        12.00      12.0  ...                                            0   \n",
       "\n",
       "   ClaimInvolvedCovers_Windscreen ActLiability Burglary  \\\n",
       "0                                                  0      \n",
       "1                                                  0      \n",
       "2                                                  0      \n",
       "3                                                  0      \n",
       "4                                                  0      \n",
       "\n",
       "   ClaimInvolvedCovers_Windscreen ActLiability Burglary Theft  \\\n",
       "0                                                  0            \n",
       "1                                                  0            \n",
       "2                                                  0            \n",
       "3                                                  0            \n",
       "4                                                  0            \n",
       "\n",
       "   ClaimInvolvedCovers_Windscreen ActLiability NaturalCatastrophes  \\\n",
       "0                                                  0                 \n",
       "1                                                  0                 \n",
       "2                                                  0                 \n",
       "3                                                  0                 \n",
       "4                                                  0                 \n",
       "\n",
       "   ClaimInvolvedCovers_Windscreen ActLiability Theft  \\\n",
       "0                                                  0   \n",
       "1                                                  0   \n",
       "2                                                  0   \n",
       "3                                                  0   \n",
       "4                                                  0   \n",
       "\n",
       "   ClaimInvolvedCovers_Windscreen ActLiability Theft ReplacementVehicle  \\\n",
       "0                                                  0                      \n",
       "1                                                  0                      \n",
       "2                                                  0                      \n",
       "3                                                  0                      \n",
       "4                                                  0                      \n",
       "\n",
       "   ClaimInvolvedCovers_Windscreen MaterialDamages  \\\n",
       "0                                               0   \n",
       "1                                               0   \n",
       "2                                               0   \n",
       "3                                               0   \n",
       "4                                               0   \n",
       "\n",
       "   ClaimInvolvedCovers_Windscreen MaterialDamages ActLiability  \\\n",
       "0                                                  0             \n",
       "1                                                  0             \n",
       "2                                                  0             \n",
       "3                                                  0             \n",
       "4                                                  0             \n",
       "\n",
       "   ClaimInvolvedCovers_Windscreen NaturalCatastrophes  \\\n",
       "0                                                  0    \n",
       "1                                                  0    \n",
       "2                                                  0    \n",
       "3                                                  0    \n",
       "4                                                  0    \n",
       "\n",
       "   ClaimInvolvedCovers_Windscreen Theft  \n",
       "0                                     0  \n",
       "1                                     0  \n",
       "2                                     0  \n",
       "3                                     0  \n",
       "4                                     0  \n",
       "\n",
       "[5 rows x 122 columns]"
      ]
     },
     "execution_count": 3,
     "metadata": {},
     "output_type": "execute_result"
    }
   ],
   "source": [
    "# read csv file\n",
    "insurance_df = pd.read_csv(\"Insurance_claims.csv\")\n",
    "# insurance_df.head()\n",
    "insurance_df = insurance_df.drop(\n",
    "    [\"ReferenceId\", \"PolicyholderNumber\", \"InsurerNotes\"], axis=1\n",
    ")\n",
    "# these are unique values which should be dropped and column about postcode and date will be dropped later\n",
    "# we need to find those repeated values and set them into 1, others into 0(including the missing value)\n",
    "mask = insurance_df[\"FirstPartyVehicleNumber\"].duplicated()\n",
    "insurance_df.loc[mask, \"FirstPartyVehicleNumber\"] = 1\n",
    "insurance_df.loc[~mask, \"FirstPartyVehicleNumber\"] = 0\n",
    "# check if there is thirdpartyvehicle, yes -> 1, no -> 0\n",
    "insurance_df[\"ThirdPartyVehicleNumber\"].fillna(0)\n",
    "insurance_df[\"ThirdPartyVehicleNumber\"] = insurance_df[\"ThirdPartyVehicleNumber\"].apply(\n",
    "    lambda x: 1 if x > 0 else 0\n",
    ")\n",
    "\n",
    "insurance_df[\"LossDate\"] = pd.to_datetime(insurance_df[\"LossDate\"])\n",
    "insurance_df[\"FirstPolicySubscriptionDate\"] = pd.to_datetime(\n",
    "    insurance_df[\"FirstPolicySubscriptionDate\"]\n",
    ")\n",
    "\n",
    "# calculate the number of days between the two dates\n",
    "insurance_df[\"days_between\"] = insurance_df.apply(\n",
    "    lambda row: (row[\"LossDate\"] - row[\"FirstPolicySubscriptionDate\"]).days, axis=1\n",
    ")\n",
    "insurance_df = insurance_df.drop([\"LossDate\", \"FirstPolicySubscriptionDate\"], axis=1)\n",
    "\n",
    "# check the two postcodes\n",
    "def compare_digits(x, y):\n",
    "    x_len = len(str(x))\n",
    "    y_len = len(str(y))\n",
    "    if x_len == y_len:\n",
    "        if x_len == 5:\n",
    "            return str(x)[:2] == str(y)[:2]\n",
    "        elif x_len == 4:\n",
    "            return str(x)[0] == str(y)[0]\n",
    "        else:\n",
    "            return False\n",
    "    else:\n",
    "        return False\n",
    "\n",
    "\n",
    "# check if the loss place is in the same district of the holder's place\n",
    "insurance_df[\"IfinSameArea\"] = insurance_df.apply(\n",
    "    lambda row: 1\n",
    "    if compare_digits(row[\"LossPostCode\"], row[\"PolicyHolderPostCode\"])\n",
    "    else 0,\n",
    "    axis=1,\n",
    ")\n",
    "insurance_df = insurance_df.drop([\"LossPostCode\", \"PolicyHolderPostCode\"], axis=1)\n",
    "\n",
    "# set these columns to dummies\n",
    "insurance_df = pd.get_dummies(\n",
    "    insurance_df,\n",
    "    columns=[\n",
    "        \"FirstPartyVehicleType\",\n",
    "        \"PolicyholderOccupation\",\n",
    "        \"ClaimCause\",       \n",
    "        \"ConnectionBetweenParties\",\n",
    "        \"ClaimInvolvedCovers\",\n",
    "    ],\n",
    ")\n",
    "\n",
    "# check the two postcodes\n",
    "def jud(x):\n",
    "    if x == \"TotalLoss\":\n",
    "        return 1\n",
    "    elif x == \"Medium\":\n",
    "        return 0.5\n",
    "    else:\n",
    "        return 0\n",
    "\n",
    "\n",
    "insurance_df[\"DamageImportance\"] = insurance_df[\"DamageImportance\"].fillna(0)\n",
    "insurance_df[\"DamageImportance\"] = insurance_df[\"DamageImportance\"].apply(\n",
    "    lambda row: jud(row)\n",
    ")\n",
    "\n",
    "mean_v_fp = insurance_df[\"FpVehicleAgeMonths\"].mean()\n",
    "insurance_df[\"FpVehicleAgeMonths\"] = insurance_df[\"FpVehicleAgeMonths\"].fillna(\n",
    "    value=mean_v_fp\n",
    ")\n",
    "\n",
    "insurance_df[\"LossHour\"] = insurance_df[\"LossHour\"].fillna(\n",
    "    insurance_df[\"LossHour\"].mean()\n",
    ")\n",
    "\n",
    "mean_v_po = insurance_df[\"PolicyHolderAge\"].mean()\n",
    "insurance_df[\"PolicyHolderAge\"] = insurance_df[\"PolicyHolderAge\"].fillna(mean_v_po)\n",
    "\n",
    "insurance_df.head()"
   ]
  },
  {
   "attachments": {},
   "cell_type": "markdown",
   "metadata": {},
   "source": [
    "## Question 3"
   ]
  },
  {
   "cell_type": "code",
   "execution_count": 7,
   "metadata": {},
   "outputs": [
    {
     "data": {
      "image/png": "[encoded data removed]",
      "text/plain": [
       "<Figure size 640x480 with 1 Axes>"
      ]
     },
     "metadata": {},
     "output_type": "display_data"
    }
   ],
   "source": [
    "import numpy as np\n",
    "import matplotlib.pyplot as plt\n",
    "\n",
    "detection = insurance_df.groupby(['days_between']).size().reset_index(name='count')\n",
    "detection.loc[:, \"count_cum\"] = detection['count'].cumsum()\n",
    "detection.loc[:, \"detection_rate_cum\"] =  detection[['count_cum']]/len(insurance_df)\n",
    "detection.loc[:, \"fraud_cum\"]  = insurance_df.groupby(['days_between'])[['Fraud']].sum().cumsum()\n",
    "detection.loc[:, \"hit_rate_cum\"] = detection['fraud_cum']/detection['count_cum']\n",
    "\n",
    "\n",
    "x = detection['days_between']\n",
    "f = detection['detection_rate_cum']\n",
    "g = detection['hit_rate_cum']\n",
    "\n",
    "plt.plot(x, f, \"-b\", label=\"detection_rate_cum\")\n",
    "plt.plot(x, g, \"-r\", label=\"hit_rate_cum\")\n",
    "plt.legend(loc=\"upper left\")\n",
    "\n",
    "plt.show()"
   ]
  },
  {
   "attachments": {},
   "cell_type": "markdown",
   "metadata": {},
   "source": [
    "## Split and standardize data"
   ]
  },
  {
   "cell_type": "code",
   "execution_count": 99,
   "metadata": {},
   "outputs": [
    {
     "data": {
      "text/plain": [
       "((8070, 121), (8070,), (1730, 121))"
      ]
     },
     "execution_count": 99,
     "metadata": {},
     "output_type": "execute_result"
    }
   ],
   "source": [
    "y = insurance_df[\"Fraud\"]  # creating the dependent variable\n",
    "X = insurance_df.drop(columns=[\"Fraud\"])\n",
    "\n",
    "\n",
    "X_train, X_other, Y_train, Y_other = train_test_split(\n",
    "    X, y, train_size=0.7, random_state=111\n",
    ")\n",
    "\n",
    "X_test, X_valid, Y_test, Y_valid = train_test_split(\n",
    "    X_other, Y_other, test_size=0.5, random_state=111\n",
    ")\n",
    "\n",
    "X_train.shape, Y_train.shape, X_test.shape"
   ]
  },
  {
   "cell_type": "code",
   "execution_count": 100,
   "metadata": {},
   "outputs": [
    {
     "data": {
      "text/plain": [
       "(1730, 121)"
      ]
     },
     "execution_count": 100,
     "metadata": {},
     "output_type": "execute_result"
    }
   ],
   "source": [
    "scaler = StandardScaler()\n",
    "\n",
    "X_train_scaled = scaler.fit_transform(X_train)\n",
    "X_test_scaled = scaler.transform(X_test)\n",
    "X_vaild_scaled = scaler.transform(X_valid)\n",
    "X_vaild_scaled.shape"
   ]
  },
  {
   "cell_type": "markdown",
   "metadata": {},
   "source": [
    "## Boxplot analyses for potentially important feature"
   ]
  },
  {
   "cell_type": "code",
   "execution_count": 5,
   "metadata": {},
   "outputs": [],
   "source": [
    "# Split the dataframe into two groups which have different results of patent application.\n",
    "df_no_all = insurance_df.loc[insurance_df[\"Fraud\"] == 0]\n",
    "df_yes_all = insurance_df.loc[insurance_df[\"Fraud\"] == 1]\n",
    "\n",
    "# Select the parameters that assumed to be related.\n",
    "list_para = [\"NumberOfPoliciesOfPolicyholder\",\"FpVehicleAgeMonths\",\"ClaimAmount\",\"LossHour\",\"PolicyHolderAge\",\"days_between\"]\n",
    "df_no = df_no_all[[\"NumberOfPoliciesOfPolicyholder\",\"FpVehicleAgeMonths\",\"ClaimAmount\",\"LossHour\",\"PolicyHolderAge\",\"days_between\"]]\n",
    "df_yes = df_yes_all[[\"NumberOfPoliciesOfPolicyholder\",\"FpVehicleAgeMonths\",\"ClaimAmount\",\"LossHour\",\"PolicyHolderAge\",\"days_between\"]]\n"
   ]
  },
  {
   "cell_type": "code",
   "execution_count": 6,
   "metadata": {},
   "outputs": [
    {
     "data": {
      "image/png": "[encoded data removed]",
      "text/plain": [
       "<Figure size 1500x1500 with 6 Axes>"
      ]
     },
     "metadata": {},
     "output_type": "display_data"
    }
   ],
   "source": [
    "fig, axes = plt.subplots(nrows = 3, ncols = 2, figsize = (15,15))\n",
    "\n",
    "# Draw the box plots by iterating features\n",
    "k = 0\n",
    "for i in range(3):\n",
    "    for j in range(2):\n",
    "        if k >6:\n",
    "            break\n",
    "        axes[i,j].boxplot([df_yes[list_para[k]], df_no[list_para[k]]])\n",
    "        axes[i,j].set_title(list_para[k])\n",
    "        axes[i,j].set(xlabel = \"Fraud\")\n",
    "        xlabels = axes[i,j].set_xticklabels([\"1\", \"0\"])\n",
    "        k += 1\n",
    "        "
   ]
  },
  {
   "attachments": {},
   "cell_type": "markdown",
   "metadata": {},
   "source": [
    "## This section includes 3 methods: \n",
    "\n",
    "    1. opt_threshold() calculates the optimal threshold for dealing with the network outputs based on \"sigmiod\" activetion function.\n",
    "       The optimal threshold will be the highest f1 score of Y_vaild and y_pred_threshold.\n",
    "\n",
    "    2. show_predicted_result() shows the hit rate, detection rate and other relevant results.\n",
    "\n",
    "    3. create_plot() shows the model loss, accuracy, validation loss and validation accuracy."
   ]
  },
  {
   "cell_type": "code",
   "execution_count": 104,
   "metadata": {},
   "outputs": [],
   "source": [
    "def opt_threshold(model):\n",
    "    # Make predictions on the test set\n",
    "    y_pred = model.predict(X_vaild_scaled)\n",
    "\n",
    "    # Calculate the F1 score for different threshold values\n",
    "    f1_scores = []\n",
    "    thresholds = np.arange(0.0, 1.0, 0.01)\n",
    "    for threshold in thresholds:\n",
    "        y_pred_thresh = tf.keras.backend.cast(y_pred > threshold, 'float32')\n",
    "        f1 = f1_score(Y_valid, y_pred_thresh)\n",
    "        f1_scores.append(f1)\n",
    "\n",
    "    # Select the threshold with the highest F1 score\n",
    "    optimal_threshold = thresholds[np.argmax(f1_scores)]\n",
    "\n",
    "    return optimal_threshold\n",
    "\n",
    "\n",
    "def show_predicted_result(model, data):\n",
    "    y_pred = model.predict(data)\n",
    "    y_pred = y_pred.ravel()\n",
    "\n",
    "    mse = np.sum((y_pred - Y_test) ** 2) / len(y_pred)\n",
    "    print(\"Mean square error: \", mse)\n",
    "\n",
    "    opt_thresh = opt_threshold(model) \n",
    "\n",
    "    y_pred = [1 if p > opt_thresh else 0 for p in y_pred]\n",
    "\n",
    "    hits = sum(Y_test & y_pred)\n",
    "\n",
    "    hit_rate = hits / np.sum(y_pred)\n",
    "    detection_rate = np.sum(y_pred) / len(y_pred)\n",
    "\n",
    "\n",
    "    print(\"Threshold-------------------------:\", opt_thresh)\n",
    "    print(\"Number of data in testset:--------:\", len(y_pred))\n",
    "    print(\"Number of predicted frauds--------:\", np.sum(y_pred))\n",
    "    print(\"Total number of frauds in testset-:\", np.sum(Y_test))\n",
    "    print(\"Number of predicted frauds hit----:\", hits)\n",
    "    print(\"Hit rate--------------------------:\", hit_rate)\n",
    "    print(\"Detection rate--------------------:\", detection_rate)\n",
    "    \n",
    "\n",
    "def create_plot(log):\n",
    "    plt.plot(log.history[\"accuracy\"], label=\"training accuracy\", color=\"red\")\n",
    "    plt.plot(log.history[\"loss\"], label=\"training loss\", color=\"darkgreen\")\n",
    "    plt.plot(\n",
    "        log.history[\"val_accuracy\"],\n",
    "        label=\"validation accuracy\",\n",
    "        color=\"grey\",\n",
    "    )\n",
    "    plt.plot(log.history[\"val_loss\"], label=\"validation loss\", color=\"darkblue\")\n",
    "    plt.legend()\n",
    "    plt.show()"
   ]
  },
  {
   "attachments": {},
   "cell_type": "markdown",
   "metadata": {},
   "source": [
    "## Question 4: Building a decision tree model\n",
    "\n",
    "    • A default tree is given and its hit rate is lower than the neuron network's one\n",
    "      when having the similar detection rates.\n",
    "\n",
    "    1. Default decision tree\n",
    "            Detection rate: 0.012, Hit rate: 0.095\n",
    "  \n",
    "    2. Neuron network\n",
    "            Detection rate: 0.015, Hit rate: 0.154"
   ]
  },
  {
   "cell_type": "code",
   "execution_count": 119,
   "metadata": {},
   "outputs": [
    {
     "name": "stdout",
     "output_type": "stream",
     "text": [
      "Hit rate: 0.09523809523809523\n",
      "Detection rate: 0.012138728323699421\n"
     ]
    }
   ],
   "source": [
    "dtc = DecisionTreeClassifier()\n",
    "dtc.fit(X_train, Y_train)\n",
    "Pred = dtc.predict(X_test)\n",
    "hits1 = sum(Y_test & Pred)\n",
    "\n",
    "hit_rate1 = hits1 / Pred.sum()\n",
    "detection_rate1 = Pred.sum()/ len(Y_test)\n",
    "\n",
    "print(\"Hit rate:\", hit_rate1)\n",
    "print(\"Detection rate:\", detection_rate1)"
   ]
  },
  {
   "attachments": {},
   "cell_type": "markdown",
   "metadata": {},
   "source": [
    "    We also tried to see the top 27 important features and select them as the key features to see if they can help in question 6\n",
    "\n",
    "    The features after 27th have zero importance scores, so we discarded them"
   ]
  },
  {
   "cell_type": "code",
   "execution_count": 10,
   "metadata": {},
   "outputs": [
    {
     "name": "stdout",
     "output_type": "stream",
     "text": [
      "days_between: 0.2307\n",
      "FpVehicleAgeMonths: 0.1676\n",
      "ClaimAmount: 0.1213\n",
      "LossHour: 0.0875\n",
      "PolicyHolderAge: 0.0623\n",
      "NumberOfPoliciesOfPolicyholder: 0.0405\n",
      "DamageImportance: 0.0370\n",
      "ClaimInvolvedCovers_ActLiability Fire ThirdParty: 0.0209\n",
      "IfinSameArea: 0.0202\n",
      "ClaimCause_LossOfControl: 0.0186\n",
      "ClaimCause_WindscreenDamage: 0.0185\n",
      "PolicyWasSubscribedOnInternet: 0.0159\n",
      "PolicyholderOccupation_Retired: 0.0149\n",
      "EasinessToStage: 0.0148\n",
      "FirstPartyVehicleType_Car: 0.0144\n",
      "ConnectionBetweenParties_SameAddress: 0.0132\n",
      "FirstPartyLiability: 0.0118\n",
      "ClaimWihoutIdentifiedThirdParty: 0.0117\n",
      "ClaimCause_AccidentWithUnidentifiedThirdParty: 0.0104\n",
      "ClaimCause_Flood: 0.0100\n",
      "ClaimInvolvedCovers_ActLiability Fire: 0.0094\n",
      "PolicyholderOccupation_Employee: 0.0089\n",
      "PolicyholderOccupation_Merchant: 0.0079\n",
      "PolicyholderOccupation_SelfEmployed: 0.0059\n",
      "ClaimCause_Hail: 0.0053\n",
      "ClaimInvolvedCovers_ThirdParty: 0.0053\n",
      "ClaimInvolvedCovers_Windscreen ActLiability: 0.0045\n",
      "ClaimCause_AccidentOrCollision: 0.0040\n",
      "ClaimInvolvedCovers_MaterialDamages ActLiability MedicalCare: 0.0021\n",
      "ConnectionBetweenParties_SamePolice: 0.0017\n"
     ]
    }
   ],
   "source": [
    "# Create a list of tuples with feature names and their importance scores\n",
    "feature_importances = [(feature, importance) for feature, importance in zip(dtc.feature_names_in_, dtc.feature_importances_)]\n",
    "\n",
    "# Sort the list of feature importances in descending order\n",
    "feature_importances = sorted(feature_importances, key=lambda x: x[1], reverse=True)\n",
    "\n",
    "# Print the first 10 most important features\n",
    "for feature, importance in feature_importances[:30]:\n",
    "    print(f\"{feature}: {importance:.4f}\")"
   ]
  },
  {
   "attachments": {},
   "cell_type": "markdown",
   "metadata": {},
   "source": [
    "## Question 5: Building a deep neuron network\n",
    "\n",
    "    We first create a hyperparameter searching space for Hyperband tuner to train and search the best model\n",
    "\n",
    "    • 5 hyperparameters are tuned and 3 optimizers as well\n",
    "    • Leaky relu is used as a choice to capture more negative inputs with alpha = 0.2, improving the \"dying relu\" problem\n",
    "    • Batch normalisation layers help the network to converge faster\n",
    "    • 10 metrics will be output by the model\n",
    "     "
   ]
  },
  {
   "cell_type": "code",
   "execution_count": 225,
   "metadata": {},
   "outputs": [],
   "source": [
    "def train_model(hp):\n",
    "\n",
    "    # 5 hyperparameters to tune\n",
    "    n_hiddens = hp.Int(\"n_hiddens\", min_value=2, max_value=24, step=1)\n",
    "    n_neurons = hp.Int(\"n_neurons\", min_value=16, max_value=512, step=8)\n",
    "    dropout_rate = hp.Float(\"dropout_rate\", min_value=0.01, max_value=1, step=0.01)\n",
    "    learning_rate = hp.Float(\n",
    "        \"learning_rate\", min_value=0.001, max_value=0.1, sampling=\"log\"\n",
    "    )\n",
    "    \n",
    "    model = tf.keras.Sequential(\n",
    "        [tf.keras.layers.Flatten(input_shape=(121, 1))]\n",
    "    )\n",
    "    \n",
    "    for _ in range(n_hiddens):\n",
    "        \n",
    "        model.add(\n",
    "            tf.keras.layers.Dense(\n",
    "                n_neurons,\n",
    "                activation = tf.keras.layers.LeakyReLU(0.2),\n",
    "                )\n",
    "        )\n",
    "        tf.keras.layers.BatchNormalization(),\n",
    "        model.add(tf.keras.layers.Dropout(rate=dropout_rate))\n",
    "        \n",
    "    model.add(tf.keras.layers.Dense(1, activation=\"sigmoid\"))\n",
    "\n",
    "    optimizer = hp.Choice(\"optimizer\", values=[\"adam\", \"rmsprop\", \"sgd\"])\n",
    "\n",
    "    if optimizer == \"adam\":\n",
    "        optimizer = tf.keras.optimizers.Adam(learning_rate=learning_rate)\n",
    "    elif optimizer == \"rmsprop\":\n",
    "        optimizer = tf.keras.optimizers.RMSprop(learning_rate=learning_rate)\n",
    "    else:\n",
    "        optimizer = tf.keras.optimizers.SGD(learning_rate=learning_rate)\n",
    "\n",
    "    METRICS = [\n",
    "      tf.keras.metrics.MeanSquaredError(name='mse'),\n",
    "      tf.keras.metrics.TruePositives(name='tp'),\n",
    "      tf.keras.metrics.FalsePositives(name='fp'),\n",
    "      tf.keras.metrics.TrueNegatives(name='tn'),\n",
    "      tf.keras.metrics.FalseNegatives(name='fn'), \n",
    "      tf.keras.metrics.BinaryAccuracy(name='accuracy'),\n",
    "      tf.keras.metrics.Precision(name='precision'),\n",
    "      tf.keras.metrics.Recall(name='recall'),\n",
    "      tf.keras.metrics.AUC(name='auc'),\n",
    "      tf.keras.metrics.AUC(name='prc', curve='PR'), # precision-recall curve\n",
    "    ]\n",
    "\n",
    "    model.compile(\n",
    "        # optimizer=optimizer, loss=\"mean_squared_error\", metrics=[tf.keras.metrics.RootMeanSquaredError(name=\"rmse\")]\n",
    "        optimizer=optimizer, loss='binary_crossentropy', \n",
    "                  metrics=METRICS\n",
    "    )\n",
    "\n",
    "    return model"
   ]
  },
  {
   "attachments": {},
   "cell_type": "markdown",
   "metadata": {},
   "source": [
    "## Calculate a weight ratio for frauds and non frauds data\n",
    "\n",
    "    • Adding more weights on the fraud data as they are only 1% of the total dataset\n",
    "    \n",
    "    • The purpose of doing this is to let the neuron network pays more attention on the fraud data in the training process"
   ]
  },
  {
   "cell_type": "code",
   "execution_count": 226,
   "metadata": {},
   "outputs": [
    {
     "name": "stdout",
     "output_type": "stream",
     "text": [
      "Total: 11530\n",
      "Frauds: 115 (1.00% of total)\n",
      "\n",
      "Weight for class 0: 0.51\n",
      "Weight for class 1: 50.13\n"
     ]
    }
   ],
   "source": [
    "neg, pos = np.bincount(insurance_df['Fraud'])\n",
    "total = neg + pos\n",
    "print('Total: {}\\nFrauds: {} ({:.2f}% of total)\\n'.format(\n",
    "    total, pos, 100 * pos / total))\n",
    "\n",
    "# Scaling by total/2 helps keep the loss to a similar magnitude.\n",
    "# The sum of the weights of all examples stays the same.\n",
    "weight_for_0 = (1 / neg) * (total / 2.0)\n",
    "weight_for_1 = (1 / pos) * (total / 2.0)\n",
    "\n",
    "class_weight = {0: weight_for_0, 1: weight_for_1}\n",
    "\n",
    "print('Weight for class 0: {:.2f}'.format(weight_for_0))\n",
    "print('Weight for class 1: {:.2f}'.format(weight_for_1))"
   ]
  },
  {
   "attachments": {},
   "cell_type": "markdown",
   "metadata": {},
   "source": [
    "## Hyperband tuner \n",
    "\n",
    "    • The tuner objective is to find the best \"val_accuracy\", despite it is not the task goal\n",
    "    • A better model \"best_hb_model\" was saved after several model fittings for comparing with result from decision tree"
   ]
  },
  {
   "cell_type": "code",
   "execution_count": 227,
   "metadata": {},
   "outputs": [
    {
     "name": "stdout",
     "output_type": "stream",
     "text": [
      "INFO:tensorflow:Reloading Oracle from existing project logs/hb_tuner/oracle.json\n",
      "INFO:tensorflow:Reloading Tuner from logs/hb_tuner/tuner0.json\n",
      "INFO:tensorflow:Oracle triggered exit\n"
     ]
    }
   ],
   "source": [
    "hyperband_tuner = kt.Hyperband(\n",
    "    train_model,\n",
    "    # objective=kt.Objective(\"rmse\", direction=\"min\"),\n",
    "    objective='val_accuracy',\n",
    "    max_epochs=5,\n",
    "    factor=3,\n",
    "    directory=\"logs\",\n",
    "    project_name=\"hb_tuner\",\n",
    "    \n",
    ")\n",
    "\n",
    "hyperband_tuner.search(X_train_scaled, Y_train, validation_data=(X_vaild_scaled, Y_valid))\n",
    "best_hps = hyperband_tuner.get_best_hyperparameters()[0]\n",
    "best_hb_model = hyperband_tuner.hypermodel.build(best_hps)"
   ]
  },
  {
   "cell_type": "code",
   "execution_count": null,
   "metadata": {},
   "outputs": [],
   "source": [
    "# set a early stopping for saving time during model fitting\n",
    "early_stopping_cb = tf.keras.callbacks.EarlyStopping(\n",
    "    patience=10, \n",
    "    restore_best_weights=True,\n",
    "    mode='max'\n",
    ")  \n",
    "\n",
    "# fitting the model \n",
    "log = best_hb_model.fit(\n",
    "    X_train_scaled,\n",
    "    Y_train,\n",
    "    epochs=30,\n",
    "    batch_size=512,\n",
    "    validation_data=(X_vaild_scaled, Y_valid),\n",
    "    class_weight = class_weight\n",
    ")"
   ]
  },
  {
   "cell_type": "code",
   "execution_count": 121,
   "metadata": {},
   "outputs": [
    {
     "name": "stdout",
     "output_type": "stream",
     "text": [
      "55/55 [==============================] - 0s 5ms/step\n",
      "Mean square error:  0.16241890440189513\n",
      "55/55 [==============================] - 0s 4ms/step\n",
      "Threshold-------------------------: 0.24\n",
      "Number of data in testset:--------: 1730\n",
      "Number of predicted frauds--------: 290\n",
      "Total number of frauds in testset-: 17\n",
      "Number of predicted frauds hit----: 13\n",
      "Hit rate--------------------------: 0.04482758620689655\n",
      "Detection rate--------------------: 0.1676300578034682\n"
     ]
    }
   ],
   "source": [
    "show_predicted_result(best_hb_model, X_test_scaled)"
   ]
  },
  {
   "attachments": {},
   "cell_type": "markdown",
   "metadata": {},
   "source": [
    "## Above code is for we to try out to find a good model that can beat the decision tree. So the output above is different, but we saved the best model as below"
   ]
  },
  {
   "attachments": {},
   "cell_type": "markdown",
   "metadata": {},
   "source": [
    "## Saving the best model above for model comparison of decison tree and future uses\n",
    "\n",
    "    • Only need to run once\n",
    "\n",
    "## Loading the saved model to predict new data\n"
   ]
  },
  {
   "cell_type": "code",
   "execution_count": 105,
   "metadata": {},
   "outputs": [
    {
     "name": "stdout",
     "output_type": "stream",
     "text": [
      "15/55 [=======>......................] - ETA: 0s"
     ]
    },
    {
     "name": "stderr",
     "output_type": "stream",
     "text": [
      "2023-03-08 14:23:12.963775: W tensorflow/core/util/tensor_slice_reader.cc:96] Could not open final_model_better_then_dt: FAILED_PRECONDITION: final_model_better_then_dt; Is a directory: perhaps your file is in a different file format and you need to use a different restore operator?\n",
      "2023-03-08 14:23:13.034159: I tensorflow/core/grappler/optimizers/custom_graph_optimizer_registry.cc:114] Plugin optimizer for device_type GPU is enabled.\n"
     ]
    },
    {
     "name": "stdout",
     "output_type": "stream",
     "text": [
      "55/55 [==============================] - 0s 4ms/step\n",
      "Mean square error:  0.03130440940386984\n",
      "55/55 [==============================] - 0s 3ms/step\n",
      "Threshold-------------------------: 0.97\n",
      "Number of data in testset:--------: 1730\n",
      "Number of predicted frauds--------: 26\n",
      "Total number of frauds in testset-: 17\n",
      "Number of predicted frauds hit----: 4\n",
      "Hit rate--------------------------: 0.15384615384615385\n",
      "Detection rate--------------------: 0.015028901734104046\n"
     ]
    }
   ],
   "source": [
    "# tf.keras.models.save_model(best_hb_model, \"final_model_better_then_dt\")\n",
    "\n",
    "final_model = tf.keras.models.load_model(\"final_model_better_then_dt\")\n",
    "final_model.load_weights(\"final_model_better_then_dt\")\n",
    "\n",
    "show_predicted_result(final_model, X_test_scaled)"
   ]
  },
  {
   "attachments": {},
   "cell_type": "markdown",
   "metadata": {},
   "source": [
    "## Result of the network:\n",
    "     The hit rate and detection rate of the network are all higher than the decision \n",
    "\n",
    "        1. Default decision tree\n",
    "                Detection rate: 0.012, Hit rate: 0.095\n",
    "        \n",
    "        2. Neuron network\n",
    "                Detection rate: 0.015, Hit rate: 0.154"
   ]
  },
  {
   "attachments": {},
   "cell_type": "markdown",
   "metadata": {},
   "source": [
    "## Question 6"
   ]
  },
  {
   "attachments": {},
   "cell_type": "markdown",
   "metadata": {},
   "source": [
    "## 2D convolution network try out, but not good for the final result"
   ]
  },
  {
   "cell_type": "code",
   "execution_count": null,
   "metadata": {},
   "outputs": [],
   "source": [
    "# Normalisation, turn the dataframe into arrays\n",
    "scaler = StandardScaler()\n",
    "X_strain = scaler.fit_transform(X_train)\n",
    "X_stest = scaler.transform(X_test)\n",
    "X_svali = scaler.transform(X_vali)\n",
    "\n",
    "# Save the value of the largest absolute value in all dataset as the scaler\n",
    "scaler_to1 = X_strain.max()\n",
    "\n",
    "# Scale datasets with the same standard: scaler_to1\n",
    "X_atrain = X_strain/scaler_to1\n",
    "X_avali = X_svali/scaler_to1\n",
    "X_atest = X_stest/scaler_to1\n",
    "X_atrain\n",
    "\n",
    "X_atrain = X_atrain.reshape(6849, 11, 11)\n",
    "X_avali = X_avali.reshape(1405, 11, 11)\n",
    "X_atest = X_atest.reshape(3276, 11, 11)\n",
    "\n",
    "noise = 0.2\n",
    "\n",
    "X_train_noisy = X_atrain + noise * tf.random.normal(shape=X_atrain.shape) \n",
    "X_vali_noisy = X_avali + noise * tf.random.normal(shape=X_avali.shape)\n",
    "X_test_noisy = X_atest + noise * tf.random.normal(shape=X_atest.shape)\n",
    "\n",
    "X_train_noisy = tf.clip_by_value(X_train_noisy, clip_value_min=0., clip_value_max=1.)\n",
    "X_vali_noisy = tf.clip_by_value(X_vali_noisy, clip_value_min=0., clip_value_max=1.)\n",
    "X_test_noisy = tf.clip_by_value(X_test_noisy, clip_value_min=0., clip_value_max=1.)\n",
    "\n",
    "\n",
    "encoder = tf.keras.Sequential([\n",
    "    tf.keras.layers.Reshape((11,11,1), input_shape=(11,11)),\n",
    "    tf.keras.layers.Conv2D(3, (3, 3), activation='relu', padding='valid', strides=2),\n",
    "    tf.keras.layers.Conv2D(1, (3, 3), activation='relu', padding='valid', strides=2)], name='encoder')\n",
    "\n",
    "\n",
    "decoder = tf.keras.Sequential([\n",
    "    tf.keras.layers.Conv2DTranspose(1, kernel_size=3, strides=2, activation='relu', padding='valid'),\n",
    "    tf.keras.layers.Conv2DTranspose(3, kernel_size=3, strides=2, activation='relu', padding='valid'),\n",
    "    tf.keras.layers.Conv2D(1, kernel_size=(3, 3), activation='sigmoid', padding='same')], name='decoder')\n",
    "\n",
    "\n",
    "autoencoder = tf.keras.Sequential([encoder,decoder])\n",
    "\n",
    "autoencoder.compile(optimizer='rmsprop', loss='mean_squared_error')\n",
    "\n",
    "autoencoder.fit(x=X_train_noisy, y=X_atrain, epochs=10,\n",
    "                batch_size=32, validation_data=(X_vali_noisy, X_avali))\n",
    "\n",
    "test_encoded = encoder(X_test_noisy)\n",
    "test_output = decoder(test_encoded)\n",
    "\n",
    "# Predict the labels for the validation set\n",
    "#val_pred = autoencoder.predict(df_val)\n",
    "val_mse = np.mean(np.power(output - X_stest, 2), axis=1)\n",
    "\n",
    "# Separate the fraudulent and non-fraudulent claims in the validation set\n",
    "fraud_mask = np.array(Y_test) == 1\n",
    "\n",
    "# Plot the histogram of errors for the validation set\n",
    "plt.hist(val_mse[~fraud_mask], bins=50, log = True, label='non-fraudulent')\n",
    "plt.hist(val_mse[fraud_mask], bins=50, log = True, label='fraudulent')\n",
    "plt.xlabel('Mean Squared Error')\n",
    "plt.ylabel('Number of Claims')\n",
    "plt.legend()\n",
    "\n",
    "#val_mse = val_mse.reset_index(drop=True)\n",
    "\n",
    "# Mark the mean error for fraudulent and non-fraudulent claims\n",
    "val_indices = np.arange(len(val_mse))"
   ]
  },
  {
   "cell_type": "markdown",
   "metadata": {},
   "source": [
    "## Split the data as required"
   ]
  },
  {
   "cell_type": "code",
   "execution_count": 206,
   "metadata": {},
   "outputs": [
    {
     "name": "stdout",
     "output_type": "stream",
     "text": [
      "X with fraud: (115, 121)\n",
      "X without fraud: (11415, 121)\n",
      "proportion: 0.010074463425317565\n",
      "Train: (6849, 121)\n",
      "Other: (4566, 121)\n",
      "Test_n: (2283, 121)\n",
      "Vali_n: (2283, 121)\n",
      "Test_y: (57, 121)\n",
      "Vali_y: (58, 121)\n",
      "Train: (6849, 121)\n",
      "Test: (2340, 121)\n",
      "Test_Y: (2340,)\n",
      "Vali: (2341, 121)\n"
     ]
    }
   ],
   "source": [
    "# Divide fraudulent and non-fraudulent observations\n",
    "df_frau = insurance_df.loc[insurance_df[\"Fraud\"] == 1]\n",
    "df_nofr = insurance_df.loc[insurance_df[\"Fraud\"] == 0]\n",
    "# Build X set and y set\n",
    "X_frau = df_frau.drop(columns=[\"Fraud\"])\n",
    "Y_frau = df_frau[\"Fraud\"]\n",
    "X_nofr = df_nofr.drop(columns=[\"Fraud\"])\n",
    "Y_nofr = df_nofr[\"Fraud\"]\n",
    "print(\"X with fraud:\", X_frau.shape)\n",
    "print(\"X without fraud:\", X_nofr.shape)\n",
    "print(\"proportion:\", X_frau.shape[0] / X_nofr.shape[0])\n",
    "\n",
    "# Split Train & Other dataset without fraudulent observations\n",
    "X_train_1, X_other_1, Y_train_1, Y_other_1 = train_test_split(\n",
    "    X_nofr, Y_nofr, test_size=0.4, random_state=111\n",
    ")\n",
    "print(\"Train:\", X_train_1.shape)\n",
    "print(\"Other:\", X_other_1.shape)\n",
    "# Split Vali & Test dataset without fraudulent observations\n",
    "X_test_n, X_vali_n, Y_test_n, Y_vali_n = train_test_split(\n",
    "    X_other_1, Y_other_1, test_size=0.5, random_state=111\n",
    ")\n",
    "print(\"Test_n:\", X_test_n.shape)\n",
    "print(\"Vali_n:\", X_vali_n.shape)\n",
    "\n",
    "# Split fraudulent observations equally\n",
    "X_test_y, X_vali_y, Y_test_y, Y_vali_y = train_test_split(\n",
    "    X_frau, Y_frau, test_size=0.5, random_state=111\n",
    ")\n",
    "print(\"Test_y:\", X_test_y.shape)\n",
    "print(\"Vali_y:\", X_vali_y.shape)\n",
    "\n",
    "# Concate observations with / without fraudulent observations in test & vali dataset\n",
    "X_test_1 = pd.concat([X_test_n, X_test_y], axis=0, ignore_index=True)\n",
    "Y_test_1= pd.concat([Y_test_n, Y_test_y], axis=0, ignore_index=True)\n",
    "X_vali_1 = pd.concat([X_vali_n, X_vali_y], axis=0, ignore_index=True)\n",
    "Y_vali_1 = pd.concat([Y_vali_n, Y_vali_y], axis=0, ignore_index=True)\n",
    "\n",
    "print(\"Train:\", X_train_1.shape)\n",
    "print(\"Test:\", X_test_1.shape)\n",
    "print(\"Test_Y:\", Y_test_1.shape)\n",
    "print(\"Vali:\", X_vali_1.shape)"
   ]
  },
  {
   "cell_type": "code",
   "execution_count": 207,
   "metadata": {},
   "outputs": [
    {
     "data": {
      "text/plain": [
       "(2341, 121)"
      ]
     },
     "execution_count": 207,
     "metadata": {},
     "output_type": "execute_result"
    }
   ],
   "source": [
    "scaler = MinMaxScaler()\n",
    "X_train_scaled = scaler.fit_transform(X_train_1)\n",
    "X_vali_scaled = scaler.transform(X_vali_1)\n",
    "X_test_scaled = scaler.transform(X_test_1)\n",
    "X_vali_scaled.shape"
   ]
  },
  {
   "cell_type": "code",
   "execution_count": 208,
   "metadata": {},
   "outputs": [],
   "source": [
    "# # Define the AnomalyDetector class\n",
    "class AnomalyDetector(Model):\n",
    "    def __init__(self, encoder, decoder):\n",
    "        super(AnomalyDetector, self).__init__()\n",
    "        self.encoder = encoder\n",
    "        self.decoder = decoder\n",
    "\n",
    "    def call(self, x):\n",
    "        encoded = self.encoder(x)\n",
    "        decoded = self.decoder(encoded)\n",
    "        return decoded"
   ]
  },
  {
   "attachments": {},
   "cell_type": "markdown",
   "metadata": {},
   "source": [
    "## Set up a tuner for encode and decoder\n",
    "\n",
    "    • 3 parameters were tunned"
   ]
  },
  {
   "cell_type": "code",
   "execution_count": 228,
   "metadata": {},
   "outputs": [],
   "source": [
    "import keras_tuner as kt\n",
    "\n",
    "\n",
    "def build_model(hp):\n",
    "\n",
    "    dropout_rate = hp.Float(\"dropout_rate\", min_value=0.1, max_value=1)\n",
    "    learning_rate = hp.Float(\n",
    "        \"learning_rate\", min_value=0.001, max_value=0.1, sampling=\"log\"\n",
    "    )\n",
    "    regulizer = hp.Choice(\"regulizer\", values=[\"None\", 'l1', 'l2', 'l1_l2'])\n",
    "\n",
    "    model = tf.keras.Sequential()\n",
    "    model.add(tf.keras.layers.BatchNormalization())\n",
    "    model.add(layers.Dense(96, activation=\"relu\", kernel_regularizer=get_regularizer(regulizer)))\n",
    "    model.add(tf.keras.layers.Dropout(rate=dropout_rate))\n",
    "    model.add(tf.keras.layers.BatchNormalization())\n",
    "    model.add(layers.Dense(64, activation=\"relu\", kernel_regularizer=get_regularizer(regulizer)))\n",
    "    model.add(tf.keras.layers.Dropout(rate=dropout_rate))\n",
    "    model.add(tf.keras.layers.BatchNormalization())\n",
    "    model.add(layers.Dense(32, activation=\"relu\", kernel_regularizer=get_regularizer(regulizer)))\n",
    "    model.add(tf.keras.layers.Dropout(rate=dropout_rate))\n",
    "    model.add(tf.keras.layers.BatchNormalization())\n",
    "    model.add(layers.Dense(16, activation=\"relu\", kernel_regularizer=get_regularizer(regulizer)))\n",
    "\n",
    "\n",
    "    model.add(tf.keras.layers.Dropout(rate=dropout_rate))\n",
    "    model.add(tf.keras.layers.BatchNormalization())\n",
    "    model.add(layers.Dense(32, activation=\"relu\", kernel_regularizer=get_regularizer(regulizer)))\n",
    "    model.add(tf.keras.layers.Dropout(rate=dropout_rate))\n",
    "    model.add(tf.keras.layers.BatchNormalization())\n",
    "    model.add(layers.Dense(64, activation=\"relu\", kernel_regularizer=get_regularizer(regulizer)))\n",
    "    model.add(tf.keras.layers.Dropout(rate=dropout_rate))\n",
    "    model.add(tf.keras.layers.BatchNormalization())\n",
    "    model.add(layers.Dense(96, activation=\"relu\", kernel_regularizer=get_regularizer(regulizer)))\n",
    "    model.add(layers.Dense(units=121, activation=\"relu\"))\n",
    "\n",
    "    model.compile(\n",
    "        optimizer=tf.keras.optimizers.Adam(learning_rate=learning_rate), loss=\"mse\"\n",
    "    )\n",
    "    return model\n",
    "\n",
    "def get_regularizer(regulizer):\n",
    "    if regulizer == \"None\":\n",
    "        return None\n",
    "    elif regulizer == \"l1\":\n",
    "        return tf.keras.regularizers.l1(0.01)\n",
    "    elif regulizer == \"l2\":\n",
    "        return tf.keras.regularizers.l2(0.01)\n",
    "    elif regulizer == \"l1_l2\":\n",
    "        return tf.keras.regularizers.l1_l2(l1=0.01, l2=0.01)\n",
    "    else:\n",
    "        raise ValueError(f\"Unknown regulizer type {regulizer}\")\n",
    "\n",
    "tuner = kt.Hyperband(\n",
    "    build_model,\n",
    "    objective=\"val_loss\",\n",
    "    max_epochs=2,\n",
    "    factor=3,\n",
    "    directory=\"logs\",\n",
    "    project_name=\"anomaly_detector\",\n",
    ")"
   ]
  },
  {
   "cell_type": "code",
   "execution_count": 255,
   "metadata": {},
   "outputs": [
    {
     "name": "stdout",
     "output_type": "stream",
     "text": [
      "INFO:tensorflow:Oracle triggered exit\n"
     ]
    }
   ],
   "source": [
    "tuner.search(X_train_scaled, X_train_scaled, epochs=5, validation_data=(X_vali_scaled, X_vali_scaled))\n",
    "best_model = tuner.get_best_models()[0]"
   ]
  },
  {
   "cell_type": "code",
   "execution_count": 259,
   "metadata": {},
   "outputs": [
    {
     "name": "stdout",
     "output_type": "stream",
     "text": [
      "Epoch 1/30\n",
      "WARNING:tensorflow:Detecting that an object or model or tf.train.Checkpoint is being deleted with unrestored values. See the following logs for the specific values in question. To silence these warnings, use `status.expect_partial()`. See https://www.tensorflow.org/api_docs/python/tf/train/Checkpoint#restorefor details about the status object returned by the restore function.\n",
      "WARNING:tensorflow:Value in checkpoint could not be found in the restored object: (root).optimizer.iter\n",
      "WARNING:tensorflow:Value in checkpoint could not be found in the restored object: (root).optimizer.beta_1\n",
      "WARNING:tensorflow:Value in checkpoint could not be found in the restored object: (root).optimizer.beta_2\n",
      "WARNING:tensorflow:Value in checkpoint could not be found in the restored object: (root).optimizer.decay\n",
      "WARNING:tensorflow:Value in checkpoint could not be found in the restored object: (root).optimizer.learning_rate\n",
      "WARNING:tensorflow:Value in checkpoint could not be found in the restored object: (root).optimizer's state 'm' for (root).layer_with_weights-0.gamma\n",
      "WARNING:tensorflow:Value in checkpoint could not be found in the restored object: (root).optimizer's state 'm' for (root).layer_with_weights-0.beta\n",
      "WARNING:tensorflow:Value in checkpoint could not be found in the restored object: (root).optimizer's state 'm' for (root).layer_with_weights-1.kernel\n",
      "WARNING:tensorflow:Value in checkpoint could not be found in the restored object: (root).optimizer's state 'm' for (root).layer_with_weights-1.bias\n",
      "WARNING:tensorflow:Value in checkpoint could not be found in the restored object: (root).optimizer's state 'm' for (root).layer_with_weights-2.gamma\n",
      "WARNING:tensorflow:Value in checkpoint could not be found in the restored object: (root).optimizer's state 'm' for (root).layer_with_weights-2.beta\n",
      "WARNING:tensorflow:Value in checkpoint could not be found in the restored object: (root).optimizer's state 'm' for (root).layer_with_weights-3.kernel\n",
      "WARNING:tensorflow:Value in checkpoint could not be found in the restored object: (root).optimizer's state 'm' for (root).layer_with_weights-3.bias\n",
      "WARNING:tensorflow:Value in checkpoint could not be found in the restored object: (root).optimizer's state 'm' for (root).layer_with_weights-4.gamma\n",
      "WARNING:tensorflow:Value in checkpoint could not be found in the restored object: (root).optimizer's state 'm' for (root).layer_with_weights-4.beta\n",
      "WARNING:tensorflow:Value in checkpoint could not be found in the restored object: (root).optimizer's state 'm' for (root).layer_with_weights-5.kernel\n",
      "WARNING:tensorflow:Value in checkpoint could not be found in the restored object: (root).optimizer's state 'm' for (root).layer_with_weights-5.bias\n",
      "WARNING:tensorflow:Value in checkpoint could not be found in the restored object: (root).optimizer's state 'm' for (root).layer_with_weights-6.gamma\n",
      "WARNING:tensorflow:Value in checkpoint could not be found in the restored object: (root).optimizer's state 'm' for (root).layer_with_weights-6.beta\n",
      "WARNING:tensorflow:Value in checkpoint could not be found in the restored object: (root).optimizer's state 'm' for (root).layer_with_weights-7.kernel\n",
      "WARNING:tensorflow:Value in checkpoint could not be found in the restored object: (root).optimizer's state 'm' for (root).layer_with_weights-7.bias\n",
      "WARNING:tensorflow:Value in checkpoint could not be found in the restored object: (root).optimizer's state 'm' for (root).layer_with_weights-8.gamma\n",
      "WARNING:tensorflow:Value in checkpoint could not be found in the restored object: (root).optimizer's state 'm' for (root).layer_with_weights-8.beta\n",
      "WARNING:tensorflow:Value in checkpoint could not be found in the restored object: (root).optimizer's state 'm' for (root).layer_with_weights-9.kernel\n",
      "WARNING:tensorflow:Value in checkpoint could not be found in the restored object: (root).optimizer's state 'm' for (root).layer_with_weights-9.bias\n",
      "WARNING:tensorflow:Value in checkpoint could not be found in the restored object: (root).optimizer's state 'm' for (root).layer_with_weights-10.gamma\n",
      "WARNING:tensorflow:Value in checkpoint could not be found in the restored object: (root).optimizer's state 'm' for (root).layer_with_weights-10.beta\n",
      "WARNING:tensorflow:Value in checkpoint could not be found in the restored object: (root).optimizer's state 'm' for (root).layer_with_weights-11.kernel\n",
      "WARNING:tensorflow:Value in checkpoint could not be found in the restored object: (root).optimizer's state 'm' for (root).layer_with_weights-11.bias\n",
      "WARNING:tensorflow:Value in checkpoint could not be found in the restored object: (root).optimizer's state 'm' for (root).layer_with_weights-12.gamma\n",
      "WARNING:tensorflow:Value in checkpoint could not be found in the restored object: (root).optimizer's state 'm' for (root).layer_with_weights-12.beta\n",
      "WARNING:tensorflow:Value in checkpoint could not be found in the restored object: (root).optimizer's state 'm' for (root).layer_with_weights-13.kernel\n",
      "WARNING:tensorflow:Value in checkpoint could not be found in the restored object: (root).optimizer's state 'm' for (root).layer_with_weights-13.bias\n",
      "WARNING:tensorflow:Value in checkpoint could not be found in the restored object: (root).optimizer's state 'm' for (root).layer_with_weights-14.kernel\n",
      "WARNING:tensorflow:Value in checkpoint could not be found in the restored object: (root).optimizer's state 'm' for (root).layer_with_weights-14.bias\n",
      "WARNING:tensorflow:Value in checkpoint could not be found in the restored object: (root).optimizer's state 'v' for (root).layer_with_weights-0.gamma\n",
      "WARNING:tensorflow:Value in checkpoint could not be found in the restored object: (root).optimizer's state 'v' for (root).layer_with_weights-0.beta\n",
      "WARNING:tensorflow:Value in checkpoint could not be found in the restored object: (root).optimizer's state 'v' for (root).layer_with_weights-1.kernel\n",
      "WARNING:tensorflow:Value in checkpoint could not be found in the restored object: (root).optimizer's state 'v' for (root).layer_with_weights-1.bias\n",
      "WARNING:tensorflow:Value in checkpoint could not be found in the restored object: (root).optimizer's state 'v' for (root).layer_with_weights-2.gamma\n",
      "WARNING:tensorflow:Value in checkpoint could not be found in the restored object: (root).optimizer's state 'v' for (root).layer_with_weights-2.beta\n",
      "WARNING:tensorflow:Value in checkpoint could not be found in the restored object: (root).optimizer's state 'v' for (root).layer_with_weights-3.kernel\n",
      "WARNING:tensorflow:Value in checkpoint could not be found in the restored object: (root).optimizer's state 'v' for (root).layer_with_weights-3.bias\n",
      "WARNING:tensorflow:Value in checkpoint could not be found in the restored object: (root).optimizer's state 'v' for (root).layer_with_weights-4.gamma\n",
      "WARNING:tensorflow:Value in checkpoint could not be found in the restored object: (root).optimizer's state 'v' for (root).layer_with_weights-4.beta\n",
      "WARNING:tensorflow:Value in checkpoint could not be found in the restored object: (root).optimizer's state 'v' for (root).layer_with_weights-5.kernel\n",
      "WARNING:tensorflow:Value in checkpoint could not be found in the restored object: (root).optimizer's state 'v' for (root).layer_with_weights-5.bias\n",
      "WARNING:tensorflow:Value in checkpoint could not be found in the restored object: (root).optimizer's state 'v' for (root).layer_with_weights-6.gamma\n",
      "WARNING:tensorflow:Value in checkpoint could not be found in the restored object: (root).optimizer's state 'v' for (root).layer_with_weights-6.beta\n",
      "WARNING:tensorflow:Value in checkpoint could not be found in the restored object: (root).optimizer's state 'v' for (root).layer_with_weights-7.kernel\n",
      "WARNING:tensorflow:Value in checkpoint could not be found in the restored object: (root).optimizer's state 'v' for (root).layer_with_weights-7.bias\n",
      "WARNING:tensorflow:Value in checkpoint could not be found in the restored object: (root).optimizer's state 'v' for (root).layer_with_weights-8.gamma\n",
      "WARNING:tensorflow:Value in checkpoint could not be found in the restored object: (root).optimizer's state 'v' for (root).layer_with_weights-8.beta\n",
      "WARNING:tensorflow:Value in checkpoint could not be found in the restored object: (root).optimizer's state 'v' for (root).layer_with_weights-9.kernel\n",
      "WARNING:tensorflow:Value in checkpoint could not be found in the restored object: (root).optimizer's state 'v' for (root).layer_with_weights-9.bias\n",
      "WARNING:tensorflow:Value in checkpoint could not be found in the restored object: (root).optimizer's state 'v' for (root).layer_with_weights-10.gamma\n",
      "WARNING:tensorflow:Value in checkpoint could not be found in the restored object: (root).optimizer's state 'v' for (root).layer_with_weights-10.beta\n",
      "WARNING:tensorflow:Value in checkpoint could not be found in the restored object: (root).optimizer's state 'v' for (root).layer_with_weights-11.kernel\n",
      "WARNING:tensorflow:Value in checkpoint could not be found in the restored object: (root).optimizer's state 'v' for (root).layer_with_weights-11.bias\n",
      "WARNING:tensorflow:Value in checkpoint could not be found in the restored object: (root).optimizer's state 'v' for (root).layer_with_weights-12.gamma\n",
      "WARNING:tensorflow:Value in checkpoint could not be found in the restored object: (root).optimizer's state 'v' for (root).layer_with_weights-12.beta\n",
      "WARNING:tensorflow:Value in checkpoint could not be found in the restored object: (root).optimizer's state 'v' for (root).layer_with_weights-13.kernel\n",
      "WARNING:tensorflow:Value in checkpoint could not be found in the restored object: (root).optimizer's state 'v' for (root).layer_with_weights-13.bias\n",
      "WARNING:tensorflow:Value in checkpoint could not be found in the restored object: (root).optimizer's state 'v' for (root).layer_with_weights-14.kernel\n",
      "WARNING:tensorflow:Value in checkpoint could not be found in the restored object: (root).optimizer's state 'v' for (root).layer_with_weights-14.bias\n"
     ]
    },
    {
     "name": "stderr",
     "output_type": "stream",
     "text": [
      "2023-03-08 15:32:28.501677: I tensorflow/core/grappler/optimizers/custom_graph_optimizer_registry.cc:114] Plugin optimizer for device_type GPU is enabled.\n"
     ]
    },
    {
     "name": "stdout",
     "output_type": "stream",
     "text": [
      "7/7 [==============================] - ETA: 0s - loss: 0.1577"
     ]
    },
    {
     "name": "stderr",
     "output_type": "stream",
     "text": [
      "2023-03-08 15:32:52.223255: I tensorflow/core/grappler/optimizers/custom_graph_optimizer_registry.cc:114] Plugin optimizer for device_type GPU is enabled.\n"
     ]
    },
    {
     "name": "stdout",
     "output_type": "stream",
     "text": [
      "7/7 [==============================] - 30s 3s/step - loss: 0.1577 - val_loss: 0.0463\n",
      "Epoch 2/30\n",
      "7/7 [==============================] - 6s 936ms/step - loss: 0.0838 - val_loss: 0.0916\n",
      "Epoch 3/30\n",
      "7/7 [==============================] - 3s 493ms/step - loss: 0.0851 - val_loss: 0.0907\n",
      "Epoch 4/30\n",
      "7/7 [==============================] - 2s 252ms/step - loss: 0.0806 - val_loss: 0.0783\n",
      "Epoch 5/30\n",
      "7/7 [==============================] - 2s 348ms/step - loss: 0.0671 - val_loss: 0.0629\n",
      "Epoch 6/30\n",
      "7/7 [==============================] - 3s 452ms/step - loss: 0.0678 - val_loss: 0.0523\n",
      "Epoch 7/30\n",
      "7/7 [==============================] - 2s 246ms/step - loss: 0.0550 - val_loss: 0.0574\n",
      "Epoch 8/30\n",
      "7/7 [==============================] - 1s 227ms/step - loss: 0.0628 - val_loss: 0.0722\n",
      "Epoch 9/30\n",
      "7/7 [==============================] - 2s 332ms/step - loss: 0.0644 - val_loss: 0.0526\n",
      "Epoch 10/30\n",
      "7/7 [==============================] - 1s 187ms/step - loss: 0.0567 - val_loss: 0.0681\n",
      "Epoch 11/30\n",
      "7/7 [==============================] - 1s 171ms/step - loss: 0.0654 - val_loss: 0.0635\n",
      "Epoch 12/30\n",
      "7/7 [==============================] - 1s 175ms/step - loss: 0.0588 - val_loss: 0.0583\n",
      "Epoch 13/30\n",
      "7/7 [==============================] - 2s 236ms/step - loss: 0.0622 - val_loss: 0.0631\n",
      "Epoch 14/30\n",
      "7/7 [==============================] - 1s 187ms/step - loss: 0.0612 - val_loss: 0.0565\n",
      "Epoch 15/30\n",
      "7/7 [==============================] - 1s 189ms/step - loss: 0.0571 - val_loss: 0.0589\n",
      "Epoch 16/30\n",
      "7/7 [==============================] - 1s 169ms/step - loss: 0.0670 - val_loss: 0.0678\n",
      "Epoch 17/30\n",
      "7/7 [==============================] - 2s 232ms/step - loss: 0.0594 - val_loss: 0.0530\n",
      "Epoch 18/30\n",
      "7/7 [==============================] - 1s 192ms/step - loss: 0.0583 - val_loss: 0.0669\n",
      "Epoch 19/30\n",
      "7/7 [==============================] - 1s 197ms/step - loss: 0.0653 - val_loss: 0.0610\n",
      "Epoch 20/30\n",
      "7/7 [==============================] - 2s 286ms/step - loss: 0.0584 - val_loss: 0.0628\n",
      "Epoch 21/30\n",
      "7/7 [==============================] - 1s 195ms/step - loss: 0.0634 - val_loss: 0.0693\n",
      "Epoch 22/30\n",
      "7/7 [==============================] - 2s 242ms/step - loss: 0.0605 - val_loss: 0.0534\n",
      "Epoch 23/30\n",
      "7/7 [==============================] - 1s 193ms/step - loss: 0.0596 - val_loss: 0.0616\n",
      "Epoch 24/30\n",
      "7/7 [==============================] - 2s 249ms/step - loss: 0.0660 - val_loss: 0.0597\n",
      "Epoch 25/30\n",
      "7/7 [==============================] - 2s 254ms/step - loss: 0.0579 - val_loss: 0.0503\n",
      "Epoch 26/30\n",
      "7/7 [==============================] - 1s 195ms/step - loss: 0.0611 - val_loss: 0.0662\n",
      "Epoch 27/30\n",
      "7/7 [==============================] - 1s 207ms/step - loss: 0.0612 - val_loss: 0.0568\n",
      "Epoch 28/30\n",
      "7/7 [==============================] - 1s 174ms/step - loss: 0.0611 - val_loss: 0.0701\n",
      "Epoch 29/30\n",
      "7/7 [==============================] - 1s 174ms/step - loss: 0.0673 - val_loss: 0.0597\n",
      "Epoch 30/30\n",
      "7/7 [==============================] - 1s 161ms/step - loss: 0.0547 - val_loss: 0.0537\n"
     ]
    }
   ],
   "source": [
    "autoencoder = AnomalyDetector(best_model, best_model)\n",
    "\n",
    "autoencoder.compile(optimizer=\"adam\", loss=\"mse\")\n",
    "\n",
    "history = autoencoder.fit(\n",
    "    X_train_scaled, X_train_scaled, epochs=30, batch_size=1024, validation_data=(X_vali_scaled, X_vali_scaled)\n",
    ")"
   ]
  },
  {
   "cell_type": "code",
   "execution_count": 260,
   "metadata": {},
   "outputs": [
    {
     "data": {
      "text/plain": [
       "<matplotlib.legend.Legend at 0x53aeeaa70>"
      ]
     },
     "execution_count": 260,
     "metadata": {},
     "output_type": "execute_result"
    },
    {
     "data": {
      "image/png": "[encoded data removed]",
      "text/plain": [
       "<Figure size 640x480 with 1 Axes>"
      ]
     },
     "metadata": {},
     "output_type": "display_data"
    }
   ],
   "source": [
    "plt.plot(history.history[\"loss\"], label=\"Training Loss\")\n",
    "plt.plot(history.history[\"val_loss\"], label=\"Validation Loss\")\n",
    "plt.legend()"
   ]
  },
  {
   "cell_type": "code",
   "execution_count": 261,
   "metadata": {},
   "outputs": [
    {
     "name": "stderr",
     "output_type": "stream",
     "text": [
      "2023-03-08 15:33:54.268884: I tensorflow/core/grappler/optimizers/custom_graph_optimizer_registry.cc:114] Plugin optimizer for device_type GPU is enabled.\n"
     ]
    },
    {
     "name": "stdout",
     "output_type": "stream",
     "text": [
      "215/215 [==============================] - 7s 16ms/step\n"
     ]
    },
    {
     "data": {
      "image/png": "[encoded data removed]",
      "text/plain": [
       "<Figure size 640x480 with 1 Axes>"
      ]
     },
     "metadata": {},
     "output_type": "display_data"
    }
   ],
   "source": [
    "reconstructions = autoencoder.predict(X_train_scaled)\n",
    "train_loss = tf.keras.losses.mse(reconstructions, X_train_scaled)\n",
    "\n",
    "plt.hist(train_loss[None, :], bins=50)\n",
    "plt.xlabel(\"Train loss\")\n",
    "plt.ylabel(\"No of examples\")\n",
    "plt.show()"
   ]
  },
  {
   "cell_type": "markdown",
   "metadata": {},
   "source": [
    "## Set up threshold"
   ]
  },
  {
   "cell_type": "code",
   "execution_count": 262,
   "metadata": {},
   "outputs": [
    {
     "name": "stdout",
     "output_type": "stream",
     "text": [
      "Threshold:  0.03945734970945848\n"
     ]
    }
   ],
   "source": [
    "threshold = np.mean(train_loss) + np.std(train_loss)\n",
    "print(\"Threshold: \", threshold)"
   ]
  },
  {
   "cell_type": "code",
   "execution_count": 263,
   "metadata": {},
   "outputs": [
    {
     "name": "stdout",
     "output_type": "stream",
     "text": [
      "74/74 [==============================] - 2s 22ms/step\n"
     ]
    },
    {
     "data": {
      "image/png": "[encoded data removed]",
      "text/plain": [
       "<Figure size 640x480 with 1 Axes>"
      ]
     },
     "metadata": {},
     "output_type": "display_data"
    }
   ],
   "source": [
    "reconstructions = autoencoder.predict(X_test_scaled)\n",
    "test_loss = tf.keras.losses.mse(reconstructions, X_test_scaled)\n",
    "\n",
    "plt.hist(test_loss[None, :], bins=50)\n",
    "plt.xlabel(\"Test loss\")\n",
    "plt.ylabel(\"No of examples\")\n",
    "plt.show()\n"
   ]
  },
  {
   "cell_type": "code",
   "execution_count": 264,
   "metadata": {},
   "outputs": [],
   "source": [
    "def predict(model, data, threshold):\n",
    "    reconstructions = model.predict(data)\n",
    "    loss = tf.keras.losses.mse(reconstructions, data)\n",
    "    return tf.math.less(loss, threshold)\n",
    "\n",
    "\n",
    "def print_stats(predictions, labels):\n",
    "    print(\"Accuracy = {}\".format(accuracy_score(labels, predictions)))\n",
    "    print(\"Hit rate = {}\".format(precision_score(labels, predictions)))\n",
    "\n",
    "    print(\"Detection rate = {}\".format(np.sum(predictions)/ len(labels)))\n",
    "    "
   ]
  },
  {
   "cell_type": "markdown",
   "metadata": {},
   "source": [
    "## Output results for hit and detection rates"
   ]
  },
  {
   "cell_type": "code",
   "execution_count": 266,
   "metadata": {},
   "outputs": [
    {
     "name": "stdout",
     "output_type": "stream",
     "text": [
      "74/74 [==============================] - 1s 17ms/step\n",
      "Accuracy = 0.16403246475865016\n",
      "Hit rate = 0.01728520589730554\n",
      "Detection rate = 0.8402392140111064\n"
     ]
    }
   ],
   "source": [
    "preds = predict(autoencoder, X_vali_scaled, threshold)\n",
    "print_stats(preds, Y_vali_1)"
   ]
  },
  {
   "cell_type": "code",
   "execution_count": 267,
   "metadata": {},
   "outputs": [
    {
     "name": "stdout",
     "output_type": "stream",
     "text": [
      "74/74 [==============================] - 1s 11ms/step\n"
     ]
    },
    {
     "data": {
      "image/png": "[encoded data removed]",
      "text/plain": [
       "<Figure size 640x480 with 1 Axes>"
      ]
     },
     "metadata": {},
     "output_type": "display_data"
    }
   ],
   "source": [
    "df_val = autoencoder.predict(X_test_scaled)\n",
    "\n",
    "val_mse = np.mean(np.power(df_val - X_test_scaled, 2), axis=1)\n",
    "\n",
    "# Separate the fraudulent and non-fraudulent claims in the validation set\n",
    "fraud_mask = np.array(Y_test_1) == 1\n",
    "\n",
    "# Plot the histogram of errors for the validation set\n",
    "plt.hist(val_mse[~fraud_mask], bins=50, log=True, label=\"non-fraudulent\")\n",
    "plt.hist(val_mse[fraud_mask], bins=50, log=True, label=\"fraudulent\")\n",
    "plt.xlabel(\"Mean Squared Error\")\n",
    "plt.ylabel(\"Number of Claims\")\n",
    "plt.legend()\n",
    "\n",
    "# val_mse = val_mse.reset_index(drop=True)\n",
    "\n",
    "# Mark the mean error for fraudulent and non-fraudulent claims\n",
    "val_indices = np.arange(len(val_mse))"
   ]
  },
  {
   "attachments": {},
   "cell_type": "markdown",
   "metadata": {},
   "source": [
    "## result summary for autoencoder\n",
    "    \n",
    "    The results of hit and detection rates are worse than the neuron network's one. It detects a large number of false positive.\n",
    "    "
   ]
  }
 ],
 "metadata": {
  "interpreter": {
   "hash": "aee8b7b246df8f9039afb4144a1f6fd8d2ca17a180786b69acc140d282b71a49"
  },
  "kernelspec": {
   "display_name": "Python 3.10.1 64-bit",
   "language": "python",
   "name": "python3"
  },
  "language_info": {
   "codemirror_mode": {
    "name": "ipython",
    "version": 3
   },
   "file_extension": ".py",
   "mimetype": "text/x-python",
   "name": "python",
   "nbconvert_exporter": "python",
   "pygments_lexer": "ipython3",
   "version": "3.10.1"
  },
  "orig_nbformat": 4
 },
 "nbformat": 4,
 "nbformat_minor": 2
}
