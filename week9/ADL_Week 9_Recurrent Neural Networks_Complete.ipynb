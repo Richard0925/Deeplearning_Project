{
 "cells": [
  {
   "cell_type": "markdown",
   "id": "e1e20e0d",
   "metadata": {},
   "source": [
    "In this notebook, we will take a look at data wrangling with TensorFlow, as well as at Recurrent Neural Networks and how to implement them im TensorFlow. We will also dive in more depth into the TensorFlow Data API. The notebook builds on a combination of the GitHub repositories by [Aurélien Géron](https://github.com/ageron/handson-ml2) and [Francois Chollet](https://github.com/fchollet/deep-learning-with-python-notebooks), and official TensorFlow tutorials."
   ]
  },
  {
   "cell_type": "code",
   "execution_count": 1,
   "id": "116f6c95",
   "metadata": {
    "id": "116f6c95"
   },
   "outputs": [
    {
     "name": "stderr",
     "output_type": "stream",
     "text": [
      "/Users/pengjunming/Desktop/Anaconda/anaconda3/envs/myenv/lib/python3.10/site-packages/requests/__init__.py:89: RequestsDependencyWarning: urllib3 (1.24.3) or chardet (4.0.0) doesn't match a supported version!\n",
      "  warnings.warn(\"urllib3 ({}) or chardet ({}) doesn't match a supported \"\n",
      "/Users/pengjunming/Desktop/Anaconda/anaconda3/envs/myenv/lib/python3.10/site-packages/scipy/__init__.py:146: UserWarning: A NumPy version >=1.16.5 and <1.23.0 is required for this version of SciPy (detected version 1.24.2\n",
      "  warnings.warn(f\"A NumPy version >={np_minversion} and <{np_maxversion}\"\n"
     ]
    }
   ],
   "source": [
    "import numpy as np\n",
    "import os\n",
    "from pathlib import Path\n",
    "import tensorflow as tf\n",
    "import pandas\n",
    "import matplotlib.pyplot as plt\n",
    "from tensorflow.keras.layers import (\n",
    "    Flatten,\n",
    "    Dense,\n",
    "    SimpleRNN,\n",
    "    BatchNormalization,\n",
    "    LSTM,\n",
    "    Conv1D,\n",
    "    Embedding,\n",
    "    GRU,\n",
    "    GlobalAveragePooling1D,\n",
    "    MaxPooling1D,\n",
    "    Dropout,\n",
    ")\n",
    "from tensorflow.keras.metrics import mean_squared_error\n",
    "\n",
    "import ssl\n",
    "ssl._create_default_https_context = ssl._create_unverified_context"
   ]
  },
  {
   "cell_type": "markdown",
   "id": "2626e00e",
   "metadata": {
    "id": "5792ea68"
   },
   "source": [
    "# 1. TensorFlow Data API"
   ]
  },
  {
   "cell_type": "markdown",
   "id": "852f6770",
   "metadata": {},
   "source": [
    "We have used the TensorFlow Data API sometimes, without paying a lot of notice to it. For sequence predictions, however, a lot of complex data manipulation is necessary, so the functionality of the API can come in quite handy. Hence, we will take a brief look at some of the key features."
   ]
  },
  {
   "cell_type": "markdown",
   "id": "cf0788d2",
   "metadata": {
    "id": "0ccde71b"
   },
   "source": [
    "## 1.1 Generating and pre-processing data sets "
   ]
  },
  {
   "cell_type": "markdown",
   "id": "a3d253f4",
   "metadata": {},
   "source": [
    "First of all, the Data API helps creating `Dataset`s made specifically for TensorFlow model training. It's quite straightforward to create a dataset from a list, matrix, array, or tensor:"
   ]
  },
  {
   "cell_type": "code",
   "execution_count": 2,
   "id": "8d11ae1e",
   "metadata": {},
   "outputs": [
    {
     "name": "stderr",
     "output_type": "stream",
     "text": [
      "2023-04-10 00:09:26.283381: I tensorflow/core/platform/cpu_feature_guard.cc:193] This TensorFlow binary is optimized with oneAPI Deep Neural Network Library (oneDNN) to use the following CPU instructions in performance-critical operations:  SSE4.1 SSE4.2\n",
      "To enable them in other operations, rebuild TensorFlow with the appropriate compiler flags.\n"
     ]
    }
   ],
   "source": [
    "example_array = np.array(\n",
    "    [\n",
    "        [1, 2, 3, 4],\n",
    "        [5, 6, 7, 8],\n",
    "        [9, 10, 11, 12],\n",
    "        [13, 14, 15, 16],\n",
    "        [17, 18, 19, 20],\n",
    "        [21, 22, 23, 24],\n",
    "    ]\n",
    ")\n",
    "dataset = tf.data.Dataset.from_tensor_slices(example_array)"
   ]
  },
  {
   "cell_type": "markdown",
   "id": "f71d990d",
   "metadata": {},
   "source": [
    "We can iterate through a dataset, for example with a for-loop. This is exactly what our training algorithm will do"
   ]
  },
  {
   "cell_type": "code",
   "execution_count": 3,
   "id": "bd103c77",
   "metadata": {
    "id": "e03898b4",
    "outputId": "3b90a1ea-e0af-4284-8e6a-be97c10e5e64"
   },
   "outputs": [
    {
     "name": "stdout",
     "output_type": "stream",
     "text": [
      "tf.Tensor([1 2 3 4], shape=(4,), dtype=int64)\n",
      "tf.Tensor([5 6 7 8], shape=(4,), dtype=int64)\n",
      "tf.Tensor([ 9 10 11 12], shape=(4,), dtype=int64)\n",
      "tf.Tensor([13 14 15 16], shape=(4,), dtype=int64)\n",
      "tf.Tensor([17 18 19 20], shape=(4,), dtype=int64)\n",
      "tf.Tensor([21 22 23 24], shape=(4,), dtype=int64)\n"
     ]
    }
   ],
   "source": [
    "for item in dataset:\n",
    "    print(item)\n"
   ]
  },
  {
   "cell_type": "markdown",
   "id": "5ca6850c",
   "metadata": {},
   "source": [
    "We can also inspect the type of data to be found in a `Dataset`:"
   ]
  },
  {
   "cell_type": "code",
   "execution_count": 4,
   "id": "f7f11b3f",
   "metadata": {
    "id": "a8ac97b4",
    "outputId": "c2c366ff-2326-4082-9583-f359f10485bc"
   },
   "outputs": [
    {
     "data": {
      "text/plain": [
       "TensorSpec(shape=(4,), dtype=tf.int64, name=None)"
      ]
     },
     "execution_count": 4,
     "metadata": {},
     "output_type": "execute_result"
    }
   ],
   "source": [
    "dataset.element_spec\n"
   ]
  },
  {
   "cell_type": "markdown",
   "id": "650d210e",
   "metadata": {},
   "source": [
    "The most important aspect about working with datasets is that we can directly apply some very important operations. One is to shuffle the data in the set. Especially when the dataset is large, we don't want to shuffle it too much, since this takes time. Hence, the `shuffle` operation is parametrized with a `'buffer_size'`. This controls how many elements are considered to fill the the current slot. E.g., when deciding what to place in first slot, the randomizer will consider only the first `'buff_size'` items. Run the following code a few times to see exactly how the randomization operates (note that `[13,14,15,16]` will never appear in the first spot, `[17,18,19,20]` will never appear in the first or second spot, and so on)"
   ]
  },
  {
   "cell_type": "code",
   "execution_count": 5,
   "id": "11645370",
   "metadata": {
    "id": "82b6c2b9",
    "outputId": "ea8d6f79-7aab-45ea-9653-edbd59c03b4c"
   },
   "outputs": [
    {
     "name": "stdout",
     "output_type": "stream",
     "text": [
      "tf.Tensor([5 6 7 8], shape=(4,), dtype=int64)\n",
      "tf.Tensor([1 2 3 4], shape=(4,), dtype=int64)\n",
      "tf.Tensor([17 18 19 20], shape=(4,), dtype=int64)\n",
      "tf.Tensor([13 14 15 16], shape=(4,), dtype=int64)\n",
      "tf.Tensor([21 22 23 24], shape=(4,), dtype=int64)\n",
      "tf.Tensor([ 9 10 11 12], shape=(4,), dtype=int64)\n"
     ]
    }
   ],
   "source": [
    "dataset_new = dataset.shuffle(3)\n",
    "for item in dataset_new:\n",
    "    print(item)\n"
   ]
  },
  {
   "cell_type": "markdown",
   "id": "6dde802e",
   "metadata": {},
   "source": [
    "The best part about using the Data API is that these operations happen at runtime. Hence, we only need to have enough memory for the original dataset, but not for all the possible randomized versions that might be called up when training a neural network (keep in mind that in each epoch the randomization is different, unless we specify `reshuffle_each_iteration=False`)"
   ]
  },
  {
   "cell_type": "markdown",
   "id": "4aa8833a",
   "metadata": {},
   "source": [
    "Another important feature of `Dataset`s is that we can batch together a number of data points. This is very important to perform mini-batch gradient descent.\n",
    "\n",
    "**Code**: Generate a `dataset_new` using `datatset.batch(k)` where `k` is a number of your choice. Then print out the items of your new dataset to see what is happening."
   ]
  },
  {
   "cell_type": "code",
   "execution_count": 6,
   "id": "a902f146",
   "metadata": {
    "id": "a813cd5c",
    "outputId": "b81c8b88-9fc5-436c-d6d5-1ab4ad3ae265"
   },
   "outputs": [
    {
     "name": "stdout",
     "output_type": "stream",
     "text": [
      "tf.Tensor(\n",
      "[[ 1  2  3  4]\n",
      " [ 5  6  7  8]\n",
      " [ 9 10 11 12]], shape=(3, 4), dtype=int64)\n",
      "tf.Tensor(\n",
      "[[13 14 15 16]\n",
      " [17 18 19 20]\n",
      " [21 22 23 24]], shape=(3, 4), dtype=int64)\n"
     ]
    }
   ],
   "source": [
    "dataset_new = dataset.batch(3)\n",
    "for item in dataset_new:\n",
    "    print(item)\n"
   ]
  },
  {
   "cell_type": "markdown",
   "id": "b564860c",
   "metadata": {},
   "source": [
    "What do you think happens when the size of the dataset is not divisible by the batch size? Try it out!"
   ]
  },
  {
   "cell_type": "markdown",
   "id": "2e260b63",
   "metadata": {},
   "source": [
    "We can also `repeat` the data in our dataset (either a pre-specified number of times or infinitely often if we don't specify a number). The `take` operation specifies how many of the elements of the datasets to take out (in FIFO order!)"
   ]
  },
  {
   "cell_type": "code",
   "execution_count": 7,
   "id": "ff8e1d21",
   "metadata": {
    "id": "551ac16f",
    "outputId": "33ac4a1e-b349-4b40-ff2b-70a1b3cbbd63"
   },
   "outputs": [
    {
     "name": "stdout",
     "output_type": "stream",
     "text": [
      "tf.Tensor([1 2 3 4], shape=(4,), dtype=int64)\n",
      "tf.Tensor([5 6 7 8], shape=(4,), dtype=int64)\n",
      "tf.Tensor([ 9 10 11 12], shape=(4,), dtype=int64)\n",
      "tf.Tensor([13 14 15 16], shape=(4,), dtype=int64)\n",
      "tf.Tensor([17 18 19 20], shape=(4,), dtype=int64)\n",
      "tf.Tensor([21 22 23 24], shape=(4,), dtype=int64)\n",
      "tf.Tensor([1 2 3 4], shape=(4,), dtype=int64)\n",
      "tf.Tensor([5 6 7 8], shape=(4,), dtype=int64)\n",
      "tf.Tensor([ 9 10 11 12], shape=(4,), dtype=int64)\n",
      "tf.Tensor([13 14 15 16], shape=(4,), dtype=int64)\n",
      "tf.Tensor([17 18 19 20], shape=(4,), dtype=int64)\n",
      "tf.Tensor([21 22 23 24], shape=(4,), dtype=int64)\n",
      "tf.Tensor([1 2 3 4], shape=(4,), dtype=int64)\n",
      "tf.Tensor([5 6 7 8], shape=(4,), dtype=int64)\n",
      "tf.Tensor([ 9 10 11 12], shape=(4,), dtype=int64)\n",
      "tf.Tensor([13 14 15 16], shape=(4,), dtype=int64)\n",
      "tf.Tensor([17 18 19 20], shape=(4,), dtype=int64)\n",
      "tf.Tensor([21 22 23 24], shape=(4,), dtype=int64)\n"
     ]
    }
   ],
   "source": [
    "dataset_new = dataset.repeat().take(18)\n",
    "for item in dataset_new:\n",
    "    print(item)\n"
   ]
  },
  {
   "cell_type": "markdown",
   "id": "c422cb5c",
   "metadata": {},
   "source": [
    "Using `map`, we can apply a function to all the elements of the dataset. We could specify the function somewhere else and call it here, but the quickest way to implement this is using so-called \"lambda functions\". Here, for example, we take every element from the dataset (and we call such an element `x`), then we multiply it by `2`."
   ]
  },
  {
   "cell_type": "code",
   "execution_count": 8,
   "id": "99ea5785",
   "metadata": {
    "id": "23d46b21",
    "outputId": "191a93e5-b0f7-484b-f4cb-49853f772cb9"
   },
   "outputs": [
    {
     "name": "stdout",
     "output_type": "stream",
     "text": [
      "tf.Tensor([2 4 6 8], shape=(4,), dtype=int64)\n",
      "tf.Tensor([10 12 14 16], shape=(4,), dtype=int64)\n",
      "tf.Tensor([18 20 22 24], shape=(4,), dtype=int64)\n",
      "tf.Tensor([26 28 30 32], shape=(4,), dtype=int64)\n",
      "tf.Tensor([34 36 38 40], shape=(4,), dtype=int64)\n",
      "tf.Tensor([42 44 46 48], shape=(4,), dtype=int64)\n"
     ]
    }
   ],
   "source": [
    "dataset_new = dataset.map(lambda x: x * 2)\n",
    "for item in dataset_new:\n",
    "    print(item)"
   ]
  },
  {
   "cell_type": "markdown",
   "id": "2fcb481b",
   "metadata": {},
   "source": [
    "Similarly, we can filter the data, specifying a function that determines whether the current observation should be added into the iteration or not. Again, lambda functions can be useful here.\n",
    "\n",
    "**Code**: Can you come up with a lambda-function that uses a filter to only keep observations where the last entry is greater `6`? "
   ]
  },
  {
   "cell_type": "code",
   "execution_count": 9,
   "id": "b593afe4",
   "metadata": {
    "id": "964eb6a3",
    "outputId": "ad672a1e-6d11-4f70-eb71-982855b369ed"
   },
   "outputs": [
    {
     "name": "stdout",
     "output_type": "stream",
     "text": [
      "tf.Tensor([5 6 7 8], shape=(4,), dtype=int64)\n",
      "tf.Tensor([ 9 10 11 12], shape=(4,), dtype=int64)\n",
      "tf.Tensor([13 14 15 16], shape=(4,), dtype=int64)\n",
      "tf.Tensor([17 18 19 20], shape=(4,), dtype=int64)\n",
      "tf.Tensor([21 22 23 24], shape=(4,), dtype=int64)\n"
     ]
    }
   ],
   "source": [
    "dataset_new = dataset.filter(lambda x: x[-1] > 6)\n",
    "for item in dataset_new:\n",
    "    print(item)"
   ]
  },
  {
   "cell_type": "markdown",
   "id": "8c184e4c",
   "metadata": {},
   "source": [
    "**Code**: How about one where all elements have to be greater `8`? `tf.math.reduce_any` might come in useful here (it works like `any` in base Python)."
   ]
  },
  {
   "cell_type": "code",
   "execution_count": 10,
   "id": "4d141262",
   "metadata": {},
   "outputs": [
    {
     "name": "stdout",
     "output_type": "stream",
     "text": [
      "tf.Tensor([ 9 10 11 12], shape=(4,), dtype=int64)\n",
      "tf.Tensor([13 14 15 16], shape=(4,), dtype=int64)\n",
      "tf.Tensor([17 18 19 20], shape=(4,), dtype=int64)\n",
      "tf.Tensor([21 22 23 24], shape=(4,), dtype=int64)\n"
     ]
    }
   ],
   "source": [
    "dataset_new = dataset.filter(lambda x: tf.math.reduce_any(x > 8))\n",
    "for item in dataset_new:\n",
    "    print(item)"
   ]
  },
  {
   "cell_type": "markdown",
   "id": "82cb1554",
   "metadata": {},
   "source": [
    "Note that we can apply multiple operations to the same dataset by just adding them sequentially:"
   ]
  },
  {
   "cell_type": "code",
   "execution_count": 11,
   "id": "67c74f6a",
   "metadata": {},
   "outputs": [
    {
     "name": "stdout",
     "output_type": "stream",
     "text": [
      "tf.Tensor(\n",
      "[[ 2  4  6  8]\n",
      " [10 12 14 16]\n",
      " [18 20 22 24]], shape=(3, 4), dtype=int64)\n",
      "tf.Tensor(\n",
      "[[26 28 30 32]\n",
      " [34 36 38 40]\n",
      " [42 44 46 48]], shape=(3, 4), dtype=int64)\n"
     ]
    }
   ],
   "source": [
    "dataset_new = dataset.map(lambda x: x * 2).batch(3)\n",
    "for item in dataset_new:\n",
    "    print(item)"
   ]
  },
  {
   "cell_type": "markdown",
   "id": "f1327815",
   "metadata": {
    "id": "c98c9d6d"
   },
   "source": [
    "### A slightly more complex example"
   ]
  },
  {
   "cell_type": "markdown",
   "id": "d1ca0e32",
   "metadata": {},
   "source": [
    "We will now load some images from the `mnist` dataset. Don't worry too much about the content, the key here is how we will process them as a `Dataset`."
   ]
  },
  {
   "cell_type": "code",
   "execution_count": 12,
   "id": "6cb20c8e",
   "metadata": {
    "id": "fdad020e",
    "outputId": "c6edf21e-eda0-4220-f733-00c881ebc1cd"
   },
   "outputs": [],
   "source": [
    "DATA_URL = \"https://storage.googleapis.com/tensorflow/tf-keras-datasets/mnist.npz\"\n",
    "\n",
    "path = tf.keras.utils.get_file(\"mnist.npz\", DATA_URL)\n",
    "with np.load(path) as data:\n",
    "    train_examples = data[\"x_train\"]\n",
    "    train_labels = data[\"y_train\"]\n",
    "    test_examples = data[\"x_test\"]\n",
    "    test_labels = data[\"y_test\"]"
   ]
  },
  {
   "cell_type": "code",
   "execution_count": 13,
   "id": "f41785ea",
   "metadata": {},
   "outputs": [
    {
     "name": "stdout",
     "output_type": "stream",
     "text": [
      "(60000, 28, 28)\n",
      "(60000,)\n"
     ]
    }
   ],
   "source": [
    "print(train_examples.shape)\n",
    "print(train_labels.shape)\n"
   ]
  },
  {
   "cell_type": "markdown",
   "id": "73e61f1e",
   "metadata": {},
   "source": [
    "We used TensorFlow to download the images into a folder (you can see which one by typing in `print(path)`). We also loaded each of `x_train`, `y_train`, `x_test`, and `y_test` as a numpy array. We will now directly convert the numpy arrays into datasets (one for training, one for testing). The code below shows you how to combine `x` and `y` into a single dataset, using tuples:"
   ]
  },
  {
   "cell_type": "code",
   "execution_count": 14,
   "id": "09245125",
   "metadata": {
    "id": "e8de3ad2"
   },
   "outputs": [],
   "source": [
    "train_dataset = tf.data.Dataset.from_tensor_slices(\n",
    "    (train_examples, train_labels))\n",
    "test_dataset = tf.data.Dataset.from_tensor_slices((test_examples, test_labels))\n"
   ]
  },
  {
   "cell_type": "markdown",
   "id": "68c21f32",
   "metadata": {},
   "source": [
    "As before, we can easily check what our dataset contains. We see that the `x`-data are arrays of shape (28,28) and the `y`-data are individual points (i.e., a number indicating the class that the image belongs to)"
   ]
  },
  {
   "cell_type": "markdown",
   "id": "a69026c8",
   "metadata": {},
   "source": [
    "We will now shuffle and batch our training dataset.\n",
    "\n",
    "**Code**: Can you apply the `shuffle` operation (with a shuffle buffer size of 100) to the `train_dataset`, followed by the `batch` operation (with a batch size of 128)? For the testing dataset, we don't need to shuffle it, so simply apply the `batch` operation."
   ]
  },
  {
   "cell_type": "code",
   "execution_count": 16,
   "id": "581d5891",
   "metadata": {
    "id": "35f68c62"
   },
   "outputs": [
    {
     "data": {
      "text/plain": [
       "(<BatchDataset element_spec=(TensorSpec(shape=(None, None, 28, 28), dtype=tf.uint8, name=None), TensorSpec(shape=(None, None), dtype=tf.uint8, name=None))>,\n",
       " <BatchDataset element_spec=(TensorSpec(shape=(None, None, 28, 28), dtype=tf.uint8, name=None), TensorSpec(shape=(None, None), dtype=tf.uint8, name=None))>)"
      ]
     },
     "execution_count": 16,
     "metadata": {},
     "output_type": "execute_result"
    }
   ],
   "source": [
    "batch_size = 128\n",
    "shuffle_buffer_size = 100\n",
    "\n",
    "train_dataset = train_dataset.shuffle(shuffle_buffer_size).batch(batch_size)\n",
    "test_dataset = test_dataset.batch(batch_size)\n",
    "test_dataset, train_dataset"
   ]
  },
  {
   "cell_type": "markdown",
   "id": "af41c881",
   "metadata": {},
   "source": [
    "With the line below, you can see how data is now returned: in batches of size 128 each!"
   ]
  },
  {
   "cell_type": "code",
   "execution_count": 17,
   "id": "48a7d735",
   "metadata": {
    "id": "e230c007",
    "outputId": "d805731e-0c69-455f-e247-fb2c69348a26"
   },
   "outputs": [
    {
     "name": "stdout",
     "output_type": "stream",
     "text": [
      "x-shape: (128, 128, 28, 28) | y-shape:(128, 128)\n"
     ]
    }
   ],
   "source": [
    "for item in train_dataset:\n",
    "    print(\"x-shape: \" + str(item[0].shape) +\n",
    "          \" | y-shape:\" + str(item[1].shape))\n",
    "    break\n"
   ]
  },
  {
   "attachments": {
    "image.png": {
     "image/png": "[encoded data removed]"
    }
   },
   "cell_type": "markdown",
   "id": "cf738b39",
   "metadata": {},
   "source": [
    "Finally, we usually want to call `prefetch(1)` when we build a `Dataset` in this manner. The reason is, that our `Dataset` will work in parallel with the training process and things will speed up a lot. The following illustration from Geron, 2022, shows exactly why `prefetch` is useful:\n",
    "\n",
    "![image.png](attachment:image.png)"
   ]
  },
  {
   "cell_type": "code",
   "execution_count": 18,
   "id": "b9cb3e9a",
   "metadata": {
    "id": "5db386f8"
   },
   "outputs": [],
   "source": [
    "train_dataset = train_dataset.prefetch(1)\n",
    "test_dataset = test_dataset.prefetch(1)\n"
   ]
  },
  {
   "cell_type": "markdown",
   "id": "39879b00",
   "metadata": {
    "id": "f7b9df14"
   },
   "source": [
    "We can now train our models using `train_dataset` instead of `x` and `y`, and evaluate them using `test_dataset`"
   ]
  },
  {
   "cell_type": "markdown",
   "id": "98f223e7",
   "metadata": {
    "id": "fc7ed802"
   },
   "source": [
    "## 1.2 Dealing with data that doesn't fit into memory"
   ]
  },
  {
   "cell_type": "markdown",
   "id": "5a97e03f",
   "metadata": {},
   "source": [
    "Sometimes, even the original dataset doesn't fit into memory, before any of the pre-procesisng. In this case, we want to load data on the fly.\n",
    "\n",
    "We already saw the `ImageDataGenerator`, which can take images directly from files and generate a `flow` of images at runtime. More generally, TensorFlow provides the TFRecord format to save data and load it on the fly through a `TFRecordDataset`. Let's create some data in the right format, and call it into a dataset:"
   ]
  },
  {
   "cell_type": "code",
   "execution_count": 19,
   "id": "20e13aa2",
   "metadata": {
    "id": "36275afe"
   },
   "outputs": [],
   "source": [
    "with tf.io.TFRecordWriter(\"my_data.tfrecord\") as f:\n",
    "    f.write(b\"This is the first record\")\n",
    "    f.write(b\"And this is the second record\")\n"
   ]
  },
  {
   "cell_type": "code",
   "execution_count": 20,
   "id": "0a3a9d7c",
   "metadata": {
    "id": "8475e9f4",
    "outputId": "6777bc8c-6526-4db9-f652-bf97bc9891a4"
   },
   "outputs": [
    {
     "name": "stdout",
     "output_type": "stream",
     "text": [
      "tf.Tensor(b'This is the first record', shape=(), dtype=string)\n",
      "tf.Tensor(b'And this is the second record', shape=(), dtype=string)\n"
     ]
    }
   ],
   "source": [
    "dataset = tf.data.TFRecordDataset([\"my_data.tfrecord\"])\n",
    "for item in dataset:\n",
    "    print(item)\n"
   ]
  },
  {
   "cell_type": "markdown",
   "id": "1b10f5ec",
   "metadata": {},
   "source": [
    "Want to also save hard drive space?\n",
    "We can also call up data without decompressing it. In the code below, we create a compressed TFRecord folder, and load from this folder without a complete decompression. Data is decompressed on the fly, too."
   ]
  },
  {
   "cell_type": "code",
   "execution_count": 21,
   "id": "581b9089",
   "metadata": {
    "id": "5c2c9776"
   },
   "outputs": [],
   "source": [
    "options = tf.io.TFRecordOptions(compression_type=\"GZIP\")\n",
    "with tf.io.TFRecordWriter(\"my_compressed.tfrecord\", options) as f:\n",
    "    f.write(b\"This is the first record\")\n",
    "    f.write(b\"And this is the second record\")\n"
   ]
  },
  {
   "cell_type": "code",
   "execution_count": 22,
   "id": "538a2de4",
   "metadata": {
    "id": "0716310c",
    "outputId": "8e3cfb77-39bf-422d-e5bd-dd6b26ba6c2c"
   },
   "outputs": [
    {
     "name": "stdout",
     "output_type": "stream",
     "text": [
      "tf.Tensor(b'This is the first record', shape=(), dtype=string)\n",
      "tf.Tensor(b'And this is the second record', shape=(), dtype=string)\n"
     ]
    }
   ],
   "source": [
    "dataset = tf.data.TFRecordDataset([\"my_compressed.tfrecord\"], compression_type=\"GZIP\")\n",
    "for item in dataset:\n",
    "    print(item)"
   ]
  },
  {
   "cell_type": "markdown",
   "id": "f5851f8c",
   "metadata": {},
   "source": [
    "# 2. A timeseries prediction example"
   ]
  },
  {
   "cell_type": "markdown",
   "id": "3c5f81d0",
   "metadata": {},
   "source": [
    "## 2.1 Preparing the data"
   ]
  },
  {
   "cell_type": "markdown",
   "id": "9cfdce1b",
   "metadata": {},
   "source": [
    "We start by fetching the data. If you have the \"climate_data.csv\" file in the same folder as the notebook, there is no need to do anything here (just leave `google = False`). If you are running on Colab, make sure to adjust to `google = True`."
   ]
  },
  {
   "cell_type": "code",
   "execution_count": 23,
   "id": "396a1925",
   "metadata": {},
   "outputs": [],
   "source": [
    "google = False\n",
    "\n",
    "if google:\n",
    "    from google.colab import drive\n",
    "\n",
    "    drive.mount(\"/content/gdrive\")\n",
    "    path = \"gdrive/MyDrive/\"\n",
    "else:\n",
    "    path = \"\""
   ]
  },
  {
   "cell_type": "markdown",
   "id": "72fb144d",
   "metadata": {},
   "source": [
    "The data collects the temperature and other temperature-related indicators over a multi-year horizon in ten minutes interval. We load the data, then print out the column names to see what kind of variables we have available."
   ]
  },
  {
   "cell_type": "code",
   "execution_count": 24,
   "id": "4dcc0fc5",
   "metadata": {},
   "outputs": [
    {
     "name": "stdout",
     "output_type": "stream",
     "text": [
      "['\"Date Time\"', '\"p (mbar)\"', '\"T (degC)\"', '\"Tpot (K)\"', '\"Tdew (degC)\"', '\"rh (%)\"', '\"VPmax (mbar)\"', '\"VPact (mbar)\"', '\"VPdef (mbar)\"', '\"sh (g/kg)\"', '\"H2OC (mmol/mol)\"', '\"rho (g/m**3)\"', '\"wv (m/s)\"', '\"max. wv (m/s)\"', '\"wd (deg)\"']\n"
     ]
    }
   ],
   "source": [
    "fname = os.path.join(path + \"climate_data.csv\")\n",
    "\n",
    "with open(fname) as f:\n",
    "    data = f.read()\n",
    "\n",
    "lines = data.split(\"\\n\")\n",
    "header = lines[0].split(\",\")\n",
    "lines = lines[1:]\n",
    "print(header)"
   ]
  },
  {
   "cell_type": "markdown",
   "id": "ffd156b5",
   "metadata": {},
   "source": [
    "Next, we convert the data into arrays. In particular, we will create a vector of temperature values over time (this is what we are trying to predict), and an array of regressors over time (this will also include the temperature values - after all, temperature on day t is very predictive of temperature on day t+1)."
   ]
  },
  {
   "cell_type": "code",
   "execution_count": 25,
   "id": "ab99ca36",
   "metadata": {},
   "outputs": [
    {
     "name": "stdout",
     "output_type": "stream",
     "text": [
      "(420451,)\n",
      "(420451, 14)\n"
     ]
    }
   ],
   "source": [
    "temperature = np.zeros((len(lines),))\n",
    "raw_data = np.zeros((len(lines), len(header) - 1))\n",
    "\n",
    "for i, line in enumerate(lines):\n",
    "    values = [\n",
    "        float(x) for x in line.split(\",\")[1:]\n",
    "    ]  # Date Time is irrelevant, as data is equally spaced, so we drop it\n",
    "    temperature[i] = values[\n",
    "        1\n",
    "    ]  # We store the temperature (this is what we will predict)\n",
    "    raw_data[i, :] = values[\n",
    "        :\n",
    "    ]  # We store all data points (including the temperature), which will be our predictors\n",
    "print(temperature.shape)\n",
    "print(raw_data.shape)"
   ]
  },
  {
   "cell_type": "markdown",
   "id": "818eb681",
   "metadata": {},
   "source": [
    "Let's take a look at the temperature over time:"
   ]
  },
  {
   "cell_type": "code",
   "execution_count": 26,
   "id": "9f1a5701",
   "metadata": {},
   "outputs": [
    {
     "data": {
      "text/plain": [
       "[<matplotlib.lines.Line2D at 0x7faccb5aa050>]"
      ]
     },
     "execution_count": 26,
     "metadata": {},
     "output_type": "execute_result"
    },
    {
     "data": {
      "image/png": "[encoded data removed]",
      "text/plain": [
       "<Figure size 640x480 with 1 Axes>"
      ]
     },
     "metadata": {},
     "output_type": "display_data"
    }
   ],
   "source": [
    "plt.plot(range(len(temperature)), temperature)\n"
   ]
  },
  {
   "cell_type": "markdown",
   "id": "e580e0f4",
   "metadata": {},
   "source": [
    "We next specify the size of the training and validation dataset (the test set will be the rest). Keep in mind that with time series data we don't subdivide at random, but we take the first part as training and the later part as validation/testing data.\n",
    "\n",
    "**Discussion**: Why are we not randomly subdividing the data?"
   ]
  },
  {
   "cell_type": "code",
   "execution_count": 27,
   "id": "ba2100b9",
   "metadata": {},
   "outputs": [],
   "source": [
    "train_size = int(0.5 * len(raw_data))\n",
    "valid_size = int(0.25 * len(raw_data))\n"
   ]
  },
  {
   "attachments": {},
   "cell_type": "markdown",
   "id": "d4df4146",
   "metadata": {},
   "source": [
    "We standardize the data. In particular, we use the mean and standard deviation **of the training data** to standardize.\n",
    "\n",
    "**Discussion**: Why do we not use the mean and standard deviation of the whole data here?"
   ]
  },
  {
   "cell_type": "code",
   "execution_count": 28,
   "id": "b19c9035",
   "metadata": {},
   "outputs": [],
   "source": [
    "mean = raw_data[:train_size].mean(axis=0)\n",
    "std = raw_data[:train_size].std(axis=0)\n",
    "raw_data = (raw_data - mean) / std"
   ]
  },
  {
   "cell_type": "markdown",
   "id": "362b914e",
   "metadata": {},
   "source": [
    "Now, we use `tf.keras.utils.timeseries_dataset_from_array` to create a `Dataset` object that is formatted \"correctly\" for a time series prediction task. In partcular, we need to specify\n",
    "- The length of the sequences used to make predictions\n",
    "- The \"delay\", that is, the time after the start of the input sequences when we start to make predictions\n",
    "- The batch size in which our data set returns inputs and targets.\n",
    "\n",
    "We make a small example below, to visualize this. Feelf ree to play around with the main variables to see better what is happening here."
   ]
  },
  {
   "cell_type": "code",
   "execution_count": 29,
   "id": "abcad128",
   "metadata": {},
   "outputs": [
    {
     "name": "stdout",
     "output_type": "stream",
     "text": [
      "Next batch:\n",
      "   input: [0, 1, 2] | output: 4\n",
      "   input: [1, 2, 3] | output: 5\n",
      "Next batch:\n",
      "   input: [2, 3, 4] | output: 6\n",
      "   input: [3, 4, 5] | output: 7\n",
      "Next batch:\n",
      "   input: [4, 5, 6] | output: 8\n",
      "   input: [5, 6, 7] | output: 9\n",
      "Next batch:\n",
      "   input: [6, 7, 8] | output: 10\n"
     ]
    }
   ],
   "source": [
    "int_sequence = np.array([0, 1, 2, 3, 4, 5, 6, 7, 8, 9, 10, 11, 12])\n",
    "delay = 4\n",
    "dummy_dataset = tf.keras.utils.timeseries_dataset_from_array(\n",
    "    data=int_sequence[:-delay],\n",
    "    targets=int_sequence[delay:],\n",
    "    sequence_length=3,\n",
    "    batch_size=2,\n",
    ")\n",
    "\n",
    "for inputs, targets in dummy_dataset:\n",
    "    print(\"Next batch:\")\n",
    "    for i in range(inputs.shape[0]):\n",
    "        print(\"   input:\", [int(x) for x in inputs[i]], \"| output:\", int(targets[i]))"
   ]
  },
  {
   "cell_type": "code",
   "execution_count": 30,
   "id": "db1ab031",
   "metadata": {},
   "outputs": [
    {
     "data": {
      "text/plain": [
       "array([0, 1, 2, 3, 4, 5, 6, 7, 8])"
      ]
     },
     "execution_count": 30,
     "metadata": {},
     "output_type": "execute_result"
    }
   ],
   "source": [
    "int_sequence[:-4]"
   ]
  },
  {
   "cell_type": "code",
   "execution_count": 31,
   "id": "10f52a8e",
   "metadata": {},
   "outputs": [
    {
     "data": {
      "text/plain": [
       "array([ 4,  5,  6,  7,  8,  9, 10, 11, 12])"
      ]
     },
     "execution_count": 31,
     "metadata": {},
     "output_type": "execute_result"
    }
   ],
   "source": [
    "int_sequence[delay:]"
   ]
  },
  {
   "cell_type": "markdown",
   "id": "f22d9de8",
   "metadata": {},
   "source": [
    "Let's now scale things up and create the actual data set. The main difference to our trial is that we specify also the `start_index` and the `end_index`, in order to allow us to create training/validation/testing datasets from different parts of the sequence. We also define a `sampling_rate` here.\n",
    "\n",
    "We specify our prediction problem as follows:\n",
    "- We use sequences of 120 observations to make a prediction about the temperature one day (24 hours) after the last observation\n",
    "- We create batches of size 256\n",
    "- We sample at a `sampling_rate` of 6, meaning that we only take every 6th data point (so we measure temperature per hour rather than per ten minutes)."
   ]
  },
  {
   "cell_type": "code",
   "execution_count": 32,
   "id": "e19d987a",
   "metadata": {},
   "outputs": [],
   "source": [
    "sampling_rate = 6\n",
    "sequence_length = 120\n",
    "batch_size = 256\n",
    "\n",
    "\n",
    "def create_timeseries_dataset(start_index, end_index):\n",
    "    delay = sampling_rate * (sequence_length + 24 - 1)\n",
    "    data_set = tf.keras.utils.timeseries_dataset_from_array(\n",
    "        data=raw_data[:-delay],\n",
    "        targets=temperature[delay:],\n",
    "        sampling_rate=sampling_rate,\n",
    "        sequence_length=sequence_length,\n",
    "        shuffle=True,\n",
    "        batch_size=batch_size,\n",
    "        start_index=start_index,\n",
    "        end_index=end_index,\n",
    "    )\n",
    "    return data_set"
   ]
  },
  {
   "cell_type": "code",
   "execution_count": 33,
   "id": "3c3e3c78",
   "metadata": {},
   "outputs": [
    {
     "data": {
      "text/plain": [
       "858"
      ]
     },
     "execution_count": 33,
     "metadata": {},
     "output_type": "execute_result"
    }
   ],
   "source": [
    "sampling_rate * (sequence_length + 24 - 1)"
   ]
  },
  {
   "cell_type": "code",
   "execution_count": 34,
   "id": "615a87de",
   "metadata": {},
   "outputs": [],
   "source": [
    "train_dataset = create_timeseries_dataset(0, train_size)\n",
    "val_dataset = create_timeseries_dataset(train_size, train_size + valid_size)\n",
    "test_dataset = create_timeseries_dataset(train_size + valid_size, None)\n"
   ]
  },
  {
   "cell_type": "markdown",
   "id": "4e6def3d",
   "metadata": {},
   "source": [
    "Finally, a quick look at a single batch from the training data, to see if everything worked as intended:"
   ]
  },
  {
   "cell_type": "code",
   "execution_count": 35,
   "id": "2983d801",
   "metadata": {},
   "outputs": [
    {
     "name": "stdout",
     "output_type": "stream",
     "text": [
      "samples shape: (256, 120, 14)\n",
      "targets shape: (256,)\n"
     ]
    }
   ],
   "source": [
    "for samples, targets in train_dataset:\n",
    "    print(\"samples shape:\", samples.shape)\n",
    "    print(\"targets shape:\", targets.shape)\n",
    "    break\n"
   ]
  },
  {
   "cell_type": "markdown",
   "id": "c2472bc3",
   "metadata": {},
   "source": [
    "## 2.2 Establishing some baselines\n",
    "\n",
    "It tends to be quite easy to predict only a few steps ahead. For example, if you want a very good prediction for the weather tomorrow, just take the weather today. Of course, it varies a bit by location, but in many places that already gives you a great prediction. We will use this as a baseline, and we will also build a simple dense neural network."
   ]
  },
  {
   "cell_type": "markdown",
   "id": "af5c806b",
   "metadata": {},
   "source": [
    "### Predicting tomorrow based on today\n",
    "\n",
    "Our first approach is to take our last observation of an input sequence, and simply predict that tomorrow's temperature will be the same as today's. Keep in mind that we standardized the input, so we have to \"destandardize\" to get back to a temperature reading.\n",
    "\n",
    "**Discussion**: What do you think of this baseline? Are we doing an accurate job predicting temperatures?"
   ]
  },
  {
   "cell_type": "code",
   "execution_count": 36,
   "id": "a9b686e4",
   "metadata": {},
   "outputs": [
    {
     "name": "stdout",
     "output_type": "stream",
     "text": [
      "Train MAE: 2.69\n",
      "Validation MAE: 2.44\n",
      "Test MAE: 2.62\n"
     ]
    }
   ],
   "source": [
    "def naive_method(dataset):\n",
    "    total_abs_err = 0.0\n",
    "    samples_seen = 0\n",
    "    for samples, targets in dataset:\n",
    "        preds = samples[:, -1, 1] * std[1] + mean[1]\n",
    "        total_abs_err += np.sum(np.abs(preds - targets))\n",
    "        samples_seen += samples.shape[0]\n",
    "    return total_abs_err / samples_seen\n",
    "\n",
    "\n",
    "print(f\"Train MAE: {naive_method(train_dataset):.2f}\")\n",
    "print(f\"Validation MAE: {naive_method(val_dataset):.2f}\")\n",
    "print(f\"Test MAE: {naive_method(test_dataset):.2f}\")"
   ]
  },
  {
   "cell_type": "markdown",
   "id": "1dbc0e44",
   "metadata": {},
   "source": [
    "### A (simple) dense network"
   ]
  },
  {
   "cell_type": "markdown",
   "id": "54078ee5",
   "metadata": {},
   "source": [
    "Our second approach is to build a simple (dense) neural network. In particular, we take each sequence of data point and flatten it, in order to run it through a Dense layer with `\"relu\"` activation. We then have a final Dense layer to make a prediction.\n",
    "\n",
    "**Discussion**: Why are we not using any activation function for the second Dense layer here?"
   ]
  },
  {
   "cell_type": "code",
   "execution_count": 37,
   "id": "975e1676",
   "metadata": {},
   "outputs": [
    {
     "name": "stdout",
     "output_type": "stream",
     "text": [
      "Model: \"sequential\"\n",
      "_________________________________________________________________\n",
      " Layer (type)                Output Shape              Param #   \n",
      "=================================================================\n",
      " flatten (Flatten)           (None, 1680)              0         \n",
      "                                                                 \n",
      " dense (Dense)               (None, 16)                26896     \n",
      "                                                                 \n",
      " dense_1 (Dense)             (None, 1)                 17        \n",
      "                                                                 \n",
      "=================================================================\n",
      "Total params: 26,913\n",
      "Trainable params: 26,913\n",
      "Non-trainable params: 0\n",
      "_________________________________________________________________\n"
     ]
    }
   ],
   "source": [
    "model = tf.keras.Sequential(\n",
    "    [\n",
    "        tf.keras.Input(shape=(sequence_length, raw_data.shape[-1])),\n",
    "        Flatten(),\n",
    "        Dense(16, activation=\"relu\"),\n",
    "        Dense(1),\n",
    "    ]\n",
    ")\n",
    "model.summary()"
   ]
  },
  {
   "cell_type": "markdown",
   "id": "b28c635b",
   "metadata": {},
   "source": [
    "Next, train the model. \n",
    "\n",
    "**Discussion**: What do you observe? Would you re-evaluate your previous baseline?"
   ]
  },
  {
   "cell_type": "code",
   "execution_count": 38,
   "id": "6d9bb257",
   "metadata": {},
   "outputs": [
    {
     "name": "stdout",
     "output_type": "stream",
     "text": [
      "Epoch 1/5\n",
      "808/819 [============================>.] - ETA: 0s - loss: 11.6331 - mae: 2.6487INFO:tensorflow:Assets written to: temp_dense/assets\n",
      "819/819 [==============================] - 18s 21ms/step - loss: 11.6076 - mae: 2.6462 - val_loss: 10.8364 - val_mae: 2.5897\n",
      "Epoch 2/5\n",
      "809/819 [============================>.] - ETA: 0s - loss: 8.8137 - mae: 2.3366INFO:tensorflow:Assets written to: temp_dense/assets\n",
      "819/819 [==============================] - 17s 20ms/step - loss: 8.8125 - mae: 2.3363 - val_loss: 10.2043 - val_mae: 2.5219\n",
      "Epoch 3/5\n",
      "819/819 [==============================] - 17s 21ms/step - loss: 8.2493 - mae: 2.2620 - val_loss: 10.7489 - val_mae: 2.5947\n",
      "Epoch 4/5\n",
      "819/819 [==============================] - 18s 22ms/step - loss: 7.8494 - mae: 2.2077 - val_loss: 11.0327 - val_mae: 2.6109\n",
      "Epoch 5/5\n",
      "819/819 [==============================] - 21s 26ms/step - loss: 7.5556 - mae: 2.1646 - val_loss: 11.3564 - val_mae: 2.6496\n",
      "405/405 [==============================] - 7s 16ms/step - loss: 11.2802 - mae: 2.6376\n",
      "Test MAE: 2.64\n"
     ]
    }
   ],
   "source": [
    "checkpoint_cb = tf.keras.callbacks.ModelCheckpoint(\"temp_dense\", save_best_only=True)\n",
    "model.compile(optimizer=\"rmsprop\", loss=\"mse\", metrics=[\"mae\"])\n",
    "history = model.fit(\n",
    "    train_dataset, epochs=5, validation_data=val_dataset, callbacks=[checkpoint_cb]\n",
    ")\n",
    "\n",
    "model = tf.keras.models.load_model(\"temp_dense\")\n",
    "print(f\"Test MAE: {model.evaluate(test_dataset)[1]:.2f}\")"
   ]
  },
  {
   "cell_type": "markdown",
   "id": "70f0ee8a",
   "metadata": {},
   "source": [
    "## 2.3 A first try with 1D convolutions"
   ]
  },
  {
   "cell_type": "markdown",
   "id": "e71a46e6",
   "metadata": {},
   "source": [
    "One-dimensional convolutional layers work exactly like two-dimensional convolutional layers. Except that they are one-dimensional, of course. They help to transmit a sequence into a smaller sequence. You can visualize the what happens in the layer below as follows:\n",
    "\n",
    "```\n",
    "1D conv layer with kernel size 4, stride 2, VALID padding:\n",
    "\n",
    "\n",
    "Input:\n",
    "   0  1  2  3  4  5  6  7  8  9  10 11 12 ...112 113 114 115 116 117 118 119\n",
    "              |-----2-----|     |-----5---...-------|        |------58-----|\n",
    "        |-----1-----|     |-----4-----|   ...       |------57-----|\n",
    "  |-----0----|      |-----3-----|     |---...|------56-----|\n",
    "\n",
    "Output:\n",
    "       0-3   2-5   4-7   6-9   8-11 10-13 ...-113 112-115 114-117 116-119\n",
    "```"
   ]
  },
  {
   "cell_type": "markdown",
   "id": "ddda1ab8",
   "metadata": {},
   "source": [
    "Let's try it out. Below, we create a CNN for sequences (including convolutions, max poling, and global average pooling)."
   ]
  },
  {
   "cell_type": "code",
   "execution_count": 57,
   "id": "b5f19c84",
   "metadata": {},
   "outputs": [
    {
     "name": "stdout",
     "output_type": "stream",
     "text": [
      "Model: \"sequential_1\"\n",
      "_________________________________________________________________\n",
      " Layer (type)                Output Shape              Param #   \n",
      "=================================================================\n",
      " conv1d (Conv1D)             (None, 97, 8)             2696      \n",
      "                                                                 \n",
      " max_pooling1d (MaxPooling1D  (None, 48, 8)            0         \n",
      " )                                                               \n",
      "                                                                 \n",
      " conv1d_1 (Conv1D)           (None, 37, 8)             776       \n",
      "                                                                 \n",
      " max_pooling1d_1 (MaxPooling  (None, 18, 8)            0         \n",
      " 1D)                                                             \n",
      "                                                                 \n",
      " conv1d_2 (Conv1D)           (None, 13, 8)             392       \n",
      "                                                                 \n",
      " global_average_pooling1d (G  (None, 8)                0         \n",
      " lobalAveragePooling1D)                                          \n",
      "                                                                 \n",
      " dense_2 (Dense)             (None, 1)                 9         \n",
      "                                                                 \n",
      "=================================================================\n",
      "Total params: 3,873\n",
      "Trainable params: 3,873\n",
      "Non-trainable params: 0\n",
      "_________________________________________________________________\n"
     ]
    }
   ],
   "source": [
    "model = tf.keras.Sequential(\n",
    "    [\n",
    "        tf.keras.Input(shape=(sequence_length, raw_data.shape[-1])),\n",
    "        Conv1D(8, 24, activation=\"relu\"),\n",
    "        MaxPooling1D(2),\n",
    "        Conv1D(8, 12, activation=\"relu\"),\n",
    "        MaxPooling1D(2),\n",
    "        Conv1D(8, 6, activation=\"relu\"),\n",
    "        GlobalAveragePooling1D(),\n",
    "        Dense(1),\n",
    "    ]\n",
    ")\n",
    "model.summary()"
   ]
  },
  {
   "cell_type": "code",
   "execution_count": 38,
   "id": "4ac33ef1",
   "metadata": {
    "scrolled": true
   },
   "outputs": [
    {
     "name": "stdout",
     "output_type": "stream",
     "text": [
      "Epoch 1/8\n"
     ]
    },
    {
     "name": "stderr",
     "output_type": "stream",
     "text": [
      "2023-03-27 14:08:02.960249: I tensorflow/core/grappler/optimizers/custom_graph_optimizer_registry.cc:114] Plugin optimizer for device_type GPU is enabled.\n"
     ]
    },
    {
     "name": "stdout",
     "output_type": "stream",
     "text": [
      "819/819 [==============================] - ETA: 0s - loss: 23.4545 - mae: 3.7634"
     ]
    },
    {
     "name": "stderr",
     "output_type": "stream",
     "text": [
      "2023-03-27 14:08:16.865643: I tensorflow/core/grappler/optimizers/custom_graph_optimizer_registry.cc:114] Plugin optimizer for device_type GPU is enabled.\n",
      "WARNING:absl:Found untraced functions such as _jit_compiled_convolution_op, _jit_compiled_convolution_op, _jit_compiled_convolution_op while saving (showing 3 of 3). These functions will not be directly callable after loading.\n"
     ]
    },
    {
     "name": "stdout",
     "output_type": "stream",
     "text": [
      "INFO:tensorflow:Assets written to: temp_cnn/assets\n"
     ]
    },
    {
     "name": "stderr",
     "output_type": "stream",
     "text": [
      "INFO:tensorflow:Assets written to: temp_cnn/assets\n"
     ]
    },
    {
     "name": "stdout",
     "output_type": "stream",
     "text": [
      "819/819 [==============================] - 19s 22ms/step - loss: 23.4545 - mae: 3.7634 - val_loss: 15.4049 - val_mae: 3.0963\n",
      "Epoch 2/8\n",
      "819/819 [==============================] - 18s 22ms/step - loss: 15.2752 - mae: 3.0928 - val_loss: 15.9493 - val_mae: 3.1501\n",
      "Epoch 3/8\n",
      "819/819 [==============================] - ETA: 0s - loss: 14.0750 - mae: 2.9635"
     ]
    },
    {
     "name": "stderr",
     "output_type": "stream",
     "text": [
      "WARNING:absl:Found untraced functions such as _jit_compiled_convolution_op, _jit_compiled_convolution_op, _jit_compiled_convolution_op while saving (showing 3 of 3). These functions will not be directly callable after loading.\n"
     ]
    },
    {
     "name": "stdout",
     "output_type": "stream",
     "text": [
      "INFO:tensorflow:Assets written to: temp_cnn/assets\n"
     ]
    },
    {
     "name": "stderr",
     "output_type": "stream",
     "text": [
      "INFO:tensorflow:Assets written to: temp_cnn/assets\n"
     ]
    },
    {
     "name": "stdout",
     "output_type": "stream",
     "text": [
      "819/819 [==============================] - 19s 22ms/step - loss: 14.0750 - mae: 2.9635 - val_loss: 13.9171 - val_mae: 2.9403\n",
      "Epoch 4/8\n",
      "819/819 [==============================] - 17s 21ms/step - loss: 13.2471 - mae: 2.8750 - val_loss: 16.7535 - val_mae: 3.2611\n",
      "Epoch 5/8\n",
      "819/819 [==============================] - 17s 21ms/step - loss: 12.7010 - mae: 2.8133 - val_loss: 16.1729 - val_mae: 3.1614\n",
      "Epoch 6/8\n",
      "819/819 [==============================] - 17s 21ms/step - loss: 12.2323 - mae: 2.7633 - val_loss: 14.1629 - val_mae: 2.9549\n",
      "Epoch 7/8\n",
      "819/819 [==============================] - 17s 21ms/step - loss: 11.8040 - mae: 2.7149 - val_loss: 14.9629 - val_mae: 3.0055\n",
      "Epoch 8/8\n",
      "819/819 [==============================] - ETA: 0s - loss: 11.4380 - mae: 2.6741"
     ]
    },
    {
     "name": "stderr",
     "output_type": "stream",
     "text": [
      "WARNING:absl:Found untraced functions such as _jit_compiled_convolution_op, _jit_compiled_convolution_op, _jit_compiled_convolution_op while saving (showing 3 of 3). These functions will not be directly callable after loading.\n"
     ]
    },
    {
     "name": "stdout",
     "output_type": "stream",
     "text": [
      "INFO:tensorflow:Assets written to: temp_cnn/assets\n"
     ]
    },
    {
     "name": "stderr",
     "output_type": "stream",
     "text": [
      "INFO:tensorflow:Assets written to: temp_cnn/assets\n"
     ]
    },
    {
     "name": "stdout",
     "output_type": "stream",
     "text": [
      "819/819 [==============================] - 18s 22ms/step - loss: 11.4380 - mae: 2.6741 - val_loss: 13.7955 - val_mae: 2.9220\n",
      "  1/405 [..............................] - ETA: 1:27 - loss: 17.0281 - mae: 3.2774"
     ]
    },
    {
     "name": "stderr",
     "output_type": "stream",
     "text": [
      "2023-03-27 14:10:26.308406: I tensorflow/core/grappler/optimizers/custom_graph_optimizer_registry.cc:114] Plugin optimizer for device_type GPU is enabled.\n"
     ]
    },
    {
     "name": "stdout",
     "output_type": "stream",
     "text": [
      "405/405 [==============================] - 5s 11ms/step - loss: 15.5220 - mae: 3.0956\n",
      "Test MAE: 3.10\n"
     ]
    }
   ],
   "source": [
    "checkpoint_cb = tf.keras.callbacks.ModelCheckpoint(\"temp_cnn\", save_best_only=True)\n",
    "model.compile(optimizer=\"rmsprop\", loss=\"mse\", metrics=[\"mae\"])\n",
    "history = model.fit(\n",
    "    train_dataset, epochs=8, validation_data=val_dataset, callbacks=[checkpoint_cb]\n",
    ")\n",
    "\n",
    "model = tf.keras.models.load_model(\"temp_cnn\")\n",
    "print(f\"Test MAE: {model.evaluate(test_dataset)[1]:.2f}\")"
   ]
  },
  {
   "cell_type": "markdown",
   "id": "83f6518a",
   "metadata": {},
   "source": [
    "This doesn't even come close to the simple baseline. Probably because this is not a great example when it comes to the translation invariance assumption."
   ]
  },
  {
   "cell_type": "markdown",
   "id": "913ab813",
   "metadata": {},
   "source": [
    "# 3. Understanding recurrence in TensorFlow"
   ]
  },
  {
   "cell_type": "markdown",
   "id": "69a4bdcf",
   "metadata": {},
   "source": [
    "We start with a very simple RNN, with only one recurrent layer. Note that our input has a certain number of features, `num_features`, as well as a certain sequence-length, which for now is just `None`. Play around with the features and the number of recurrent neurons. What do you notice?\n",
    "\n",
    "**Discussion**: Does the number of parameters make sense to you? How would you compute it?"
   ]
  },
  {
   "cell_type": "code",
   "execution_count": 39,
   "id": "dd9538eb",
   "metadata": {},
   "outputs": [
    {
     "name": "stdout",
     "output_type": "stream",
     "text": [
      "Model: \"sequential_2\"\n",
      "_________________________________________________________________\n",
      " Layer (type)                Output Shape              Param #   \n",
      "=================================================================\n",
      " simple_rnn (SimpleRNN)      (None, 2)                 10        \n",
      "                                                                 \n",
      "=================================================================\n",
      "Total params: 10\n",
      "Trainable params: 10\n",
      "Non-trainable params: 0\n",
      "_________________________________________________________________\n"
     ]
    }
   ],
   "source": [
    "num_features = 2\n",
    "model = tf.keras.Sequential([tf.keras.Input(shape=(None, num_features)), SimpleRNN(2)])\n",
    "model.summary()"
   ]
  },
  {
   "cell_type": "markdown",
   "id": "093b6177",
   "metadata": {},
   "source": [
    "So far, our layer has taken a sequence, and returned a single output - corresponding to the last value of the actual output sequence. We can, instead, return the whole sequence, by setting `return_sequences=True`.\n",
    "\n",
    "**Discussion**: How does the output change, and where does the difference come from?"
   ]
  },
  {
   "cell_type": "code",
   "execution_count": 40,
   "id": "e36c468d",
   "metadata": {},
   "outputs": [
    {
     "name": "stdout",
     "output_type": "stream",
     "text": [
      "Model: \"sequential_3\"\n",
      "_________________________________________________________________\n",
      " Layer (type)                Output Shape              Param #   \n",
      "=================================================================\n",
      " simple_rnn_1 (SimpleRNN)    (None, None, 2)           10        \n",
      "                                                                 \n",
      "=================================================================\n",
      "Total params: 10\n",
      "Trainable params: 10\n",
      "Non-trainable params: 0\n",
      "_________________________________________________________________\n"
     ]
    }
   ],
   "source": [
    "num_features = 2\n",
    "model = tf.keras.Sequential(\n",
    "    [tf.keras.Input(shape=(None, num_features)), SimpleRNN(2, return_sequences=True)]\n",
    ")\n",
    "model.summary()"
   ]
  },
  {
   "cell_type": "markdown",
   "id": "5d0cfff9",
   "metadata": {},
   "source": [
    "So far, we have not specified the length of the input sequences. This is useful if we have variable sequences. However, we usually want fixed-length sequences, because this can improve performance a lot (if we have actually different lengths, we can also just use \"masking\", as we will see later). Try out creating a network with a specified sequence length:"
   ]
  },
  {
   "cell_type": "code",
   "execution_count": 41,
   "id": "d3a0e707",
   "metadata": {},
   "outputs": [
    {
     "name": "stdout",
     "output_type": "stream",
     "text": [
      "Model: \"sequential_4\"\n",
      "_________________________________________________________________\n",
      " Layer (type)                Output Shape              Param #   \n",
      "=================================================================\n",
      " simple_rnn_2 (SimpleRNN)    (None, 120, 2)            10        \n",
      "                                                                 \n",
      "=================================================================\n",
      "Total params: 10\n",
      "Trainable params: 10\n",
      "Non-trainable params: 0\n",
      "_________________________________________________________________\n"
     ]
    }
   ],
   "source": [
    "num_features = 2\n",
    "num_steps = 120\n",
    "model = tf.keras.Sequential(\n",
    "    [\n",
    "        tf.keras.Input(shape=(num_steps, num_features)),\n",
    "        SimpleRNN(2, return_sequences=True),\n",
    "    ]\n",
    ")\n",
    "model.summary()"
   ]
  },
  {
   "cell_type": "markdown",
   "id": "dc3f9145",
   "metadata": {},
   "source": [
    "Let's go deeper. If we have multiple layers of recurrent nodes, we need to consider what to pass on between layers. In particular, we need to set `return_sequences=True` in a recurrent layer, so that all outputs are passed to the next layer. Otherwise, only the last otuput (corresponding to the last time step) is passed to the next layer (which means the layer does not receive a sequence). Try out the code below:"
   ]
  },
  {
   "cell_type": "code",
   "execution_count": 45,
   "id": "a9c1efc2",
   "metadata": {},
   "outputs": [
    {
     "ename": "ValueError",
     "evalue": "Input 0 of layer \"simple_rnn_8\" is incompatible with the layer: expected ndim=3, found ndim=2. Full shape received: (None, 8)",
     "output_type": "error",
     "traceback": [
      "\u001b[0;31m---------------------------------------------------------------------------\u001b[0m",
      "\u001b[0;31mValueError\u001b[0m                                Traceback (most recent call last)",
      "\u001b[1;32m/Users/pengjunming/StudyInfos/Master/Bayes/Term2/SMM768 Applied Deep Learning /week9/ADL_Week 9_Recurrent Neural Networks_Complete.ipynb Cell 93\u001b[0m in \u001b[0;36m3\n\u001b[1;32m      <a href='vscode-notebook-cell:/Users/pengjunming/StudyInfos/Master/Bayes/Term2/SMM768%20Applied%20Deep%20Learning%20/week9/ADL_Week%209_Recurrent%20Neural%20Networks_Complete.ipynb#Y161sZmlsZQ%3D%3D?line=0'>1</a>\u001b[0m num_features \u001b[39m=\u001b[39m \u001b[39m14\u001b[39m\n\u001b[1;32m      <a href='vscode-notebook-cell:/Users/pengjunming/StudyInfos/Master/Bayes/Term2/SMM768%20Applied%20Deep%20Learning%20/week9/ADL_Week%209_Recurrent%20Neural%20Networks_Complete.ipynb#Y161sZmlsZQ%3D%3D?line=1'>2</a>\u001b[0m num_steps \u001b[39m=\u001b[39m \u001b[39m120\u001b[39m\n\u001b[0;32m----> <a href='vscode-notebook-cell:/Users/pengjunming/StudyInfos/Master/Bayes/Term2/SMM768%20Applied%20Deep%20Learning%20/week9/ADL_Week%209_Recurrent%20Neural%20Networks_Complete.ipynb#Y161sZmlsZQ%3D%3D?line=2'>3</a>\u001b[0m model \u001b[39m=\u001b[39m tf\u001b[39m.\u001b[39mkeras\u001b[39m.\u001b[39mSequential([\n\u001b[1;32m      <a href='vscode-notebook-cell:/Users/pengjunming/StudyInfos/Master/Bayes/Term2/SMM768%20Applied%20Deep%20Learning%20/week9/ADL_Week%209_Recurrent%20Neural%20Networks_Complete.ipynb#Y161sZmlsZQ%3D%3D?line=3'>4</a>\u001b[0m     tf\u001b[39m.\u001b[39mkeras\u001b[39m.\u001b[39mInput(shape\u001b[39m=\u001b[39m(num_steps, num_features)),\n\u001b[1;32m      <a href='vscode-notebook-cell:/Users/pengjunming/StudyInfos/Master/Bayes/Term2/SMM768%20Applied%20Deep%20Learning%20/week9/ADL_Week%209_Recurrent%20Neural%20Networks_Complete.ipynb#Y161sZmlsZQ%3D%3D?line=4'>5</a>\u001b[0m     SimpleRNN(\u001b[39m8\u001b[39m),\n\u001b[1;32m      <a href='vscode-notebook-cell:/Users/pengjunming/StudyInfos/Master/Bayes/Term2/SMM768%20Applied%20Deep%20Learning%20/week9/ADL_Week%209_Recurrent%20Neural%20Networks_Complete.ipynb#Y161sZmlsZQ%3D%3D?line=5'>6</a>\u001b[0m     SimpleRNN(\u001b[39m8\u001b[39m)])\n\u001b[1;32m      <a href='vscode-notebook-cell:/Users/pengjunming/StudyInfos/Master/Bayes/Term2/SMM768%20Applied%20Deep%20Learning%20/week9/ADL_Week%209_Recurrent%20Neural%20Networks_Complete.ipynb#Y161sZmlsZQ%3D%3D?line=6'>7</a>\u001b[0m model\u001b[39m.\u001b[39msummary()\n",
      "File \u001b[0;32m/Library/Frameworks/Python.framework/Versions/3.10/lib/python3.10/site-packages/tensorflow/python/trackable/base.py:205\u001b[0m, in \u001b[0;36mno_automatic_dependency_tracking.<locals>._method_wrapper\u001b[0;34m(self, *args, **kwargs)\u001b[0m\n\u001b[1;32m    203\u001b[0m \u001b[39mself\u001b[39m\u001b[39m.\u001b[39m_self_setattr_tracking \u001b[39m=\u001b[39m \u001b[39mFalse\u001b[39;00m  \u001b[39m# pylint: disable=protected-access\u001b[39;00m\n\u001b[1;32m    204\u001b[0m \u001b[39mtry\u001b[39;00m:\n\u001b[0;32m--> 205\u001b[0m   result \u001b[39m=\u001b[39m method(\u001b[39mself\u001b[39;49m, \u001b[39m*\u001b[39;49margs, \u001b[39m*\u001b[39;49m\u001b[39m*\u001b[39;49mkwargs)\n\u001b[1;32m    206\u001b[0m \u001b[39mfinally\u001b[39;00m:\n\u001b[1;32m    207\u001b[0m   \u001b[39mself\u001b[39m\u001b[39m.\u001b[39m_self_setattr_tracking \u001b[39m=\u001b[39m previous_value  \u001b[39m# pylint: disable=protected-access\u001b[39;00m\n",
      "File \u001b[0;32m/Library/Frameworks/Python.framework/Versions/3.10/lib/python3.10/site-packages/keras/utils/traceback_utils.py:70\u001b[0m, in \u001b[0;36mfilter_traceback.<locals>.error_handler\u001b[0;34m(*args, **kwargs)\u001b[0m\n\u001b[1;32m     67\u001b[0m     filtered_tb \u001b[39m=\u001b[39m _process_traceback_frames(e\u001b[39m.\u001b[39m__traceback__)\n\u001b[1;32m     68\u001b[0m     \u001b[39m# To get the full stack trace, call:\u001b[39;00m\n\u001b[1;32m     69\u001b[0m     \u001b[39m# `tf.debugging.disable_traceback_filtering()`\u001b[39;00m\n\u001b[0;32m---> 70\u001b[0m     \u001b[39mraise\u001b[39;00m e\u001b[39m.\u001b[39mwith_traceback(filtered_tb) \u001b[39mfrom\u001b[39;00m \u001b[39mNone\u001b[39m\n\u001b[1;32m     71\u001b[0m \u001b[39mfinally\u001b[39;00m:\n\u001b[1;32m     72\u001b[0m     \u001b[39mdel\u001b[39;00m filtered_tb\n",
      "File \u001b[0;32m/Library/Frameworks/Python.framework/Versions/3.10/lib/python3.10/site-packages/keras/engine/input_spec.py:232\u001b[0m, in \u001b[0;36massert_input_compatibility\u001b[0;34m(input_spec, inputs, layer_name)\u001b[0m\n\u001b[1;32m    230\u001b[0m     ndim \u001b[39m=\u001b[39m shape\u001b[39m.\u001b[39mrank\n\u001b[1;32m    231\u001b[0m     \u001b[39mif\u001b[39;00m ndim \u001b[39m!=\u001b[39m spec\u001b[39m.\u001b[39mndim:\n\u001b[0;32m--> 232\u001b[0m         \u001b[39mraise\u001b[39;00m \u001b[39mValueError\u001b[39;00m(\n\u001b[1;32m    233\u001b[0m             \u001b[39mf\u001b[39m\u001b[39m'\u001b[39m\u001b[39mInput \u001b[39m\u001b[39m{\u001b[39;00minput_index\u001b[39m}\u001b[39;00m\u001b[39m of layer \u001b[39m\u001b[39m\"\u001b[39m\u001b[39m{\u001b[39;00mlayer_name\u001b[39m}\u001b[39;00m\u001b[39m\"\u001b[39m\u001b[39m \u001b[39m\u001b[39m'\u001b[39m\n\u001b[1;32m    234\u001b[0m             \u001b[39m\"\u001b[39m\u001b[39mis incompatible with the layer: \u001b[39m\u001b[39m\"\u001b[39m\n\u001b[1;32m    235\u001b[0m             \u001b[39mf\u001b[39m\u001b[39m\"\u001b[39m\u001b[39mexpected ndim=\u001b[39m\u001b[39m{\u001b[39;00mspec\u001b[39m.\u001b[39mndim\u001b[39m}\u001b[39;00m\u001b[39m, found ndim=\u001b[39m\u001b[39m{\u001b[39;00mndim\u001b[39m}\u001b[39;00m\u001b[39m. \u001b[39m\u001b[39m\"\u001b[39m\n\u001b[1;32m    236\u001b[0m             \u001b[39mf\u001b[39m\u001b[39m\"\u001b[39m\u001b[39mFull shape received: \u001b[39m\u001b[39m{\u001b[39;00m\u001b[39mtuple\u001b[39m(shape)\u001b[39m}\u001b[39;00m\u001b[39m\"\u001b[39m\n\u001b[1;32m    237\u001b[0m         )\n\u001b[1;32m    238\u001b[0m \u001b[39mif\u001b[39;00m spec\u001b[39m.\u001b[39mmax_ndim \u001b[39mis\u001b[39;00m \u001b[39mnot\u001b[39;00m \u001b[39mNone\u001b[39;00m:\n\u001b[1;32m    239\u001b[0m     ndim \u001b[39m=\u001b[39m x\u001b[39m.\u001b[39mshape\u001b[39m.\u001b[39mrank\n",
      "\u001b[0;31mValueError\u001b[0m: Input 0 of layer \"simple_rnn_8\" is incompatible with the layer: expected ndim=3, found ndim=2. Full shape received: (None, 8)"
     ]
    }
   ],
   "source": [
    "num_features = 14\n",
    "num_steps = 120\n",
    "model = tf.keras.Sequential(\n",
    "    [tf.keras.Input(shape=(num_steps, num_features)), SimpleRNN(8), SimpleRNN(8)]\n",
    ")\n",
    "model.summary()"
   ]
  },
  {
   "cell_type": "markdown",
   "id": "7669e923",
   "metadata": {},
   "source": [
    "Let's try this again, specying `return_sequences=True` for our intermediate layer.\n",
    "\n",
    "**Discussion**: What is the main difference? Why does it work this time?"
   ]
  },
  {
   "cell_type": "code",
   "execution_count": 46,
   "id": "9def41ab",
   "metadata": {},
   "outputs": [
    {
     "name": "stdout",
     "output_type": "stream",
     "text": [
      "Model: \"sequential_7\"\n",
      "_________________________________________________________________\n",
      " Layer (type)                Output Shape              Param #   \n",
      "=================================================================\n",
      " simple_rnn_9 (SimpleRNN)    (None, 120, 8)            184       \n",
      "                                                                 \n",
      " simple_rnn_10 (SimpleRNN)   (None, 8)                 136       \n",
      "                                                                 \n",
      "=================================================================\n",
      "Total params: 320\n",
      "Trainable params: 320\n",
      "Non-trainable params: 0\n",
      "_________________________________________________________________\n"
     ]
    }
   ],
   "source": [
    "num_features = 14\n",
    "num_steps = 120\n",
    "model = tf.keras.Sequential(\n",
    "    [\n",
    "        tf.keras.Input(shape=(num_steps, num_features)),\n",
    "        SimpleRNN(8, return_sequences=True),\n",
    "        SimpleRNN(8),\n",
    "    ]\n",
    ")\n",
    "model.summary()"
   ]
  },
  {
   "cell_type": "markdown",
   "id": "950e7231",
   "metadata": {},
   "source": [
    "### Dropouts in RNNs"
   ]
  },
  {
   "cell_type": "markdown",
   "id": "a5677555",
   "metadata": {},
   "source": [
    "You could add a Dropout layer between recurrent layers. However, this won't work very well, because you want to ensure that the same dropout mask is applied to each timestep.\n",
    "\n",
    "Hence, recurrent layers have a `dropout` argument, that lets you specify dropouts more correctly. However, this will only drop out the actual inputs. If you want to drop out also the input from the previous step, you have to specify the `recurrent_dropout` argument.\n",
    "\n",
    "Finally, of course you can still add Dropout layers to dropout inputs into non-recurrent layers."
   ]
  },
  {
   "cell_type": "code",
   "execution_count": 47,
   "id": "a167c334",
   "metadata": {},
   "outputs": [
    {
     "name": "stdout",
     "output_type": "stream",
     "text": [
      "Model: \"sequential_8\"\n",
      "_________________________________________________________________\n",
      " Layer (type)                Output Shape              Param #   \n",
      "=================================================================\n",
      " simple_rnn_11 (SimpleRNN)   (None, 120, 8)            184       \n",
      "                                                                 \n",
      " simple_rnn_12 (SimpleRNN)   (None, 8)                 136       \n",
      "                                                                 \n",
      " dropout (Dropout)           (None, 8)                 0         \n",
      "                                                                 \n",
      " dense_3 (Dense)             (None, 1)                 9         \n",
      "                                                                 \n",
      "=================================================================\n",
      "Total params: 329\n",
      "Trainable params: 329\n",
      "Non-trainable params: 0\n",
      "_________________________________________________________________\n"
     ]
    }
   ],
   "source": [
    "num_features = 14\n",
    "num_steps = 120\n",
    "model = tf.keras.Sequential(\n",
    "    [\n",
    "        tf.keras.Input(shape=(num_steps, num_features)),\n",
    "        SimpleRNN(8, return_sequences=True, dropout=0.2, recurrent_dropout=0.25),\n",
    "        SimpleRNN(8),\n",
    "        Dropout(0.3),\n",
    "        Dense(1),\n",
    "    ]\n",
    ")\n",
    "model.summary()"
   ]
  },
  {
   "cell_type": "markdown",
   "id": "fcad5c31",
   "metadata": {},
   "source": [
    "**A note for advanced usage**: One difficulty of recurrent layers is that they naturally contain a for loop - you can't compute the second period operation without the first period operation. As a result, small RNNs will actually run faster on CPUs than on GPUs, because the CPUs' advantage of flexibility outweighs the scaling advantages of GPUs.\n",
    "\n",
    "As a result, modern NVIDIA GPUs have some specific speed-up techniques (called \"cuDNN kernels\"). These support most \"standard\" layers, but not all additional options. For example, if you add `recurrent_dropout`, there is no cuDNN implementation, so your training will default to a \"normal\" GPU implementation and might not be much faster than when using a CPU. Within limits, you can still speed up the process in these cases, by manually \"unrolling\" your RNN for-loop - basically, making sure that your GPU can still parallelize the operations. This will cost a lot of memory, however, so it's only useful for short sequences."
   ]
  },
  {
   "cell_type": "code",
   "execution_count": 48,
   "id": "4b794282",
   "metadata": {},
   "outputs": [
    {
     "name": "stdout",
     "output_type": "stream",
     "text": [
      "Model: \"sequential_9\"\n",
      "_________________________________________________________________\n",
      " Layer (type)                Output Shape              Param #   \n",
      "=================================================================\n",
      " simple_rnn_13 (SimpleRNN)   (None, 120, 8)            184       \n",
      "                                                                 \n",
      " simple_rnn_14 (SimpleRNN)   (None, 8)                 136       \n",
      "                                                                 \n",
      " dropout_1 (Dropout)         (None, 8)                 0         \n",
      "                                                                 \n",
      " dense_4 (Dense)             (None, 1)                 9         \n",
      "                                                                 \n",
      "=================================================================\n",
      "Total params: 329\n",
      "Trainable params: 329\n",
      "Non-trainable params: 0\n",
      "_________________________________________________________________\n"
     ]
    }
   ],
   "source": [
    "num_features = 14\n",
    "num_steps = 120\n",
    "model = tf.keras.Sequential(\n",
    "    [\n",
    "        tf.keras.Input(shape=(num_steps, num_features)),\n",
    "        SimpleRNN(\n",
    "            8, return_sequences=True, dropout=0.2, recurrent_dropout=0.25, unroll=True\n",
    "        ),\n",
    "        SimpleRNN(8, unroll=True),\n",
    "        Dropout(0.3),\n",
    "        Dense(1),\n",
    "    ]\n",
    ")\n",
    "model.summary()"
   ]
  },
  {
   "cell_type": "markdown",
   "id": "a52d5bea",
   "metadata": {},
   "source": [
    "# 4. A (complex) recurrent network for our temperature prediction task"
   ]
  },
  {
   "cell_type": "markdown",
   "id": "9013cd10",
   "metadata": {},
   "source": [
    "Let's put some of what we learned together and build a (more complex) RNN to predict the weather. Note that this will take quite some time to train on a CPU."
   ]
  },
  {
   "cell_type": "code",
   "execution_count": 49,
   "id": "50686f9d",
   "metadata": {},
   "outputs": [
    {
     "name": "stdout",
     "output_type": "stream",
     "text": [
      "WARNING:tensorflow:Layer gru will not use cuDNN kernels since it doesn't meet the criteria. It will use a generic GPU kernel as fallback when running on GPU.\n"
     ]
    },
    {
     "name": "stderr",
     "output_type": "stream",
     "text": [
      "WARNING:tensorflow:Layer gru will not use cuDNN kernels since it doesn't meet the criteria. It will use a generic GPU kernel as fallback when running on GPU.\n"
     ]
    },
    {
     "name": "stdout",
     "output_type": "stream",
     "text": [
      "WARNING:tensorflow:Layer gru_1 will not use cuDNN kernels since it doesn't meet the criteria. It will use a generic GPU kernel as fallback when running on GPU.\n"
     ]
    },
    {
     "name": "stderr",
     "output_type": "stream",
     "text": [
      "WARNING:tensorflow:Layer gru_1 will not use cuDNN kernels since it doesn't meet the criteria. It will use a generic GPU kernel as fallback when running on GPU.\n"
     ]
    },
    {
     "name": "stdout",
     "output_type": "stream",
     "text": [
      "Model: \"sequential_10\"\n",
      "_________________________________________________________________\n",
      " Layer (type)                Output Shape              Param #   \n",
      "=================================================================\n",
      " gru (GRU)                   (None, 120, 32)           4608      \n",
      "                                                                 \n",
      " gru_1 (GRU)                 (None, 32)                6336      \n",
      "                                                                 \n",
      " dropout_2 (Dropout)         (None, 32)                0         \n",
      "                                                                 \n",
      " dense_5 (Dense)             (None, 1)                 33        \n",
      "                                                                 \n",
      "=================================================================\n",
      "Total params: 10,977\n",
      "Trainable params: 10,977\n",
      "Non-trainable params: 0\n",
      "_________________________________________________________________\n"
     ]
    }
   ],
   "source": [
    "model = tf.keras.Sequential(\n",
    "    [\n",
    "        tf.keras.Input(shape=(sequence_length, raw_data.shape[-1])),\n",
    "        GRU(32, recurrent_dropout=0.5, return_sequences=True),\n",
    "        GRU(32, recurrent_dropout=0.5),\n",
    "        Dropout(0.5),\n",
    "        Dense(1),\n",
    "    ]\n",
    ")\n",
    "model.summary()"
   ]
  },
  {
   "cell_type": "code",
   "execution_count": 50,
   "id": "76ca2576",
   "metadata": {},
   "outputs": [
    {
     "name": "stdout",
     "output_type": "stream",
     "text": [
      "Epoch 1/8\n"
     ]
    },
    {
     "name": "stderr",
     "output_type": "stream",
     "text": [
      "2023-03-27 14:14:13.794033: I tensorflow/core/grappler/optimizers/custom_graph_optimizer_registry.cc:114] Plugin optimizer for device_type GPU is enabled.\n"
     ]
    },
    {
     "name": "stdout",
     "output_type": "stream",
     "text": [
      "  4/819 [..............................] - ETA: 8:16:22 - loss: 145.7177 - mae: 9.9645"
     ]
    }
   ],
   "source": [
    "checkpoint_cb = tf.keras.callbacks.ModelCheckpoint(\"temp_gru\", save_best_only=True)\n",
    "model.compile(optimizer=\"rmsprop\", loss=\"mse\", metrics=[\"mae\"])\n",
    "history = model.fit(\n",
    "    train_dataset, epochs=8, validation_data=val_dataset, callbacks=[checkpoint_cb]\n",
    ")\n",
    "\n",
    "model = tf.keras.models.load_model(\"temp_gru\")\n",
    "print(f\"Test MAE: {model.evaluate(test_dataset)[1]:.2f}\")"
   ]
  },
  {
   "cell_type": "markdown",
   "id": "b92af775",
   "metadata": {},
   "source": [
    "We are clearly doing better now! However, note that the improvement is not massive in absolute terms compared to simply predicting today's temperature for tomorrow.\n",
    "\n",
    "How could you do even better?\n",
    "- Adjust the learning rate, the number of units, and the dropout\n",
    "- Use multiple `Dense` layers at the end, rather than just a single one (similar to how most CNNs have a stack of Dense layers at the end)\n",
    "- Change the input, e.g., using longer or shorter sequences, or some feature engineering"
   ]
  },
  {
   "cell_type": "markdown",
   "id": "6aa370c9",
   "metadata": {},
   "source": [
    "# 5. Forecasting multiple timesteps: a sequence-to-vector approach"
   ]
  },
  {
   "cell_type": "markdown",
   "id": "9652b6d5",
   "metadata": {},
   "source": [
    "So far, we have only forecast one timestep. We will now forecast the temperature for the entire next day, instead. For this, we have to recreate our datasets accordingly. To see how to create the correct dataset, let's start with a simple dummy example. The idea is that we create two datasets, one for input sequences, and one for output sequences, then add them together to have a single dataset to call when fitting the model."
   ]
  },
  {
   "cell_type": "code",
   "execution_count": 95,
   "id": "ad70b077",
   "metadata": {},
   "outputs": [
    {
     "name": "stdout",
     "output_type": "stream",
     "text": [
      "Next data set:\n",
      "    Next batch:\n",
      "       input: [0, 1, 2, 3] | output: [5, 6]\n",
      "       input: [1, 2, 3, 4] | output: [6, 7]\n",
      "       input: [2, 3, 4, 5] | output: [7, 8]\n",
      "       input: [3, 4, 5, 6] | output: [8, 9]\n",
      "    Next batch:\n",
      "       input: [4, 5, 6, 7] | output: [9, 10]\n",
      "Next data set:\n",
      "    Next batch:\n",
      "       input: [8, 9, 10, 11] | output: [13, 14]\n",
      "       input: [9, 10, 11, 12] | output: [14, 15]\n"
     ]
    }
   ],
   "source": [
    "int_sequence = np.arange(18)\n",
    "sequence_length_input = 4\n",
    "sequence_length_output = 2\n",
    "delay = sequence_length_input + 1\n",
    "batch_size = 4\n",
    "\n",
    "\n",
    "def create_multiple_dummy_datasets(start_index, end_index):\n",
    "    dummy_input_data = tf.keras.preprocessing.timeseries_dataset_from_array(\n",
    "        data=int_sequence[:-delay],\n",
    "        targets=None,\n",
    "        sequence_length=sequence_length_input,\n",
    "        start_index=start_index,\n",
    "        end_index=end_index,\n",
    "        batch_size=1,\n",
    "    ).unbatch()  # We create \"unbatched\" datasets, since we want to merge the data one by one\n",
    "    dummy_target_data = tf.keras.preprocessing.timeseries_dataset_from_array(\n",
    "        data=int_sequence[delay:],\n",
    "        targets=None,\n",
    "        sequence_length=sequence_length_output,  # The length of the output sequences may be different from the length of the input sequences\n",
    "        start_index=start_index,\n",
    "        end_index=end_index,\n",
    "        batch_size=1,\n",
    "    ).unbatch()  # We create \"unbatched\" datasets, since we want to merge the data one by one\n",
    "    return tf.data.Dataset.zip((dummy_input_data, dummy_target_data)).batch(\n",
    "        batch_size\n",
    "    )  # We merge the two datasets and then batch them\n",
    "\n",
    "\n",
    "train_dummies = create_multiple_dummy_datasets(0, 8)\n",
    "val_dummies = create_multiple_dummy_datasets(8, None)\n",
    "\n",
    "for data in [train_dummies, val_dummies]:\n",
    "    print(\"Next data set:\")\n",
    "    for inputs, targets in data:\n",
    "        print(\"    Next batch:\")\n",
    "        for i in range(targets.shape[0]):\n",
    "            print(\n",
    "                \"       input:\",\n",
    "                [int(x) for x in inputs[i]],\n",
    "                \"| output:\",\n",
    "                [int(x) for x in targets[i]],\n",
    "            )"
   ]
  },
  {
   "cell_type": "markdown",
   "id": "4154ecb1",
   "metadata": {},
   "source": [
    "Once we have understood how to combine two data sets in order to generate input and output sequence, we can scale it up to create our actual datasets.\n",
    "\n",
    "**Code**: Can you complete the code below to ensure that our targets are 24 steps after the specified delays?"
   ]
  },
  {
   "cell_type": "code",
   "execution_count": 90,
   "id": "8f033d61",
   "metadata": {},
   "outputs": [],
   "source": [
    "sampling_rate = 6\n",
    "sequence_length_input = 120\n",
    "sequence_length_output = 24\n",
    "delay = sampling_rate * (sequence_length_input + 24 - 1)\n",
    "batch_size = 256\n",
    "\n",
    "\n",
    "def create_multiple_datasets(start_index, end_index):\n",
    "    input_data = tf.keras.utils.timeseries_dataset_from_array(\n",
    "        data=raw_data[:-delay],\n",
    "        targets=None,\n",
    "        sampling_rate=sampling_rate,\n",
    "        sequence_length=sequence_length_input,\n",
    "        batch_size=1,\n",
    "        start_index=start_index,\n",
    "        end_index=end_index,\n",
    "    ).unbatch()\n",
    "    target_data = tf.keras.utils.timeseries_dataset_from_array(\n",
    "        data=temperature[delay:],\n",
    "        targets=None,\n",
    "        sampling_rate=sampling_rate,\n",
    "        sequence_length=sequence_length_output,\n",
    "        batch_size=1,\n",
    "        start_index=start_index,\n",
    "        end_index=end_index,\n",
    "    ).unbatch()\n",
    "    print(end_index)\n",
    "    return (\n",
    "        tf.data.Dataset.zip((input_data, target_data)).shuffle(100).batch(batch_size)\n",
    "    )  # Compared to the dummy data, we also shuffle the dataset"
   ]
  },
  {
   "cell_type": "code",
   "execution_count": null,
   "id": "fee564ca",
   "metadata": {},
   "outputs": [],
   "source": [
    "train_data = create_multiple_datasets(0, train_size)\n",
    "val_data = create_multiple_datasets(train_size, train_size + valid_size)\n",
    "test_data = create_multiple_datasets(train_size + valid_size, None)\n",
    "\n",
    "i = 1\n",
    "for data in [train_data, val_data]:\n",
    "  \n",
    "        print(\"Next data set:\")\n",
    "        for inputs, targets in data:\n",
    "            if i == 1:\n",
    "                print(\"    Next batch:\")\n",
    "                for i in range(targets.shape[0]):\n",
    "                        \n",
    "                        print(\n",
    "                            \"       input:\",\n",
    "                            [int(x) for x in inputs[i][3].numpy().flatten()],\n",
    "                            \"| output:\",\n",
    "                            [int(x) for x in inputs[i][3].numpy().flatten()],\n",
    "                        )\n",
    "                        break"
   ]
  },
  {
   "cell_type": "code",
   "execution_count": 85,
   "id": "a8eaf162",
   "metadata": {},
   "outputs": [
    {
     "data": {
      "text/plain": [
       "(<BatchDataset element_spec=(TensorSpec(shape=(None, None, 14), dtype=tf.float64, name=None), TensorSpec(shape=(None, None), dtype=tf.float64, name=None))>,\n",
       " <BatchDataset element_spec=(TensorSpec(shape=(None, None, 14), dtype=tf.float64, name=None), TensorSpec(shape=(None, None), dtype=tf.float64, name=None))>,\n",
       " <BatchDataset element_spec=(TensorSpec(shape=(None, None, 14), dtype=tf.float64, name=None), TensorSpec(shape=(None, None), dtype=tf.float64, name=None))>)"
      ]
     },
     "execution_count": 85,
     "metadata": {},
     "output_type": "execute_result"
    }
   ],
   "source": [
    "train_data, test_data, val_data"
   ]
  },
  {
   "attachments": {},
   "cell_type": "markdown",
   "id": "c2d5ee47",
   "metadata": {},
   "source": [
    "Let's take a look at dimensions. Note that our **inputs are 120-entry sequences of vectors with dimension 14 each**. Our **outputs, on the other hand, are 24-dimensional vectors**, but not actual sequences. We could create target sequences of vectors **(for example, for a sequence-to-sequence approach)**, but we won't worry about this for now, as it's quite a bit more complex."
   ]
  },
  {
   "cell_type": "code",
   "execution_count": 86,
   "id": "43373f06",
   "metadata": {},
   "outputs": [
    {
     "name": "stdout",
     "output_type": "stream",
     "text": [
      "Input: (256, 120, 14)\n",
      "Output: (256, 24)\n"
     ]
    }
   ],
   "source": [
    "for inputs, targets in train_data:\n",
    "    print(\"Input:\", inputs.shape)\n",
    "    print(\"Output:\", targets.shape)\n",
    "    break"
   ]
  },
  {
   "cell_type": "markdown",
   "id": "fa306830",
   "metadata": {},
   "source": [
    "Let's create a model. We are going to predict ten timesteps ahead with a sequence-to-vector model (i.e., we take the sequence `0,...,119` and predict `143,...,166` as a single output, or vector). The key here is that we need to have 24 outputs in the dense layer, corresponding to the length of our target vectors."
   ]
  },
  {
   "cell_type": "code",
   "execution_count": 87,
   "id": "4a4fe35b",
   "metadata": {},
   "outputs": [
    {
     "name": "stdout",
     "output_type": "stream",
     "text": [
      "Model: \"sequential_2\"\n",
      "_________________________________________________________________\n",
      " Layer (type)                Output Shape              Param #   \n",
      "=================================================================\n",
      " gru (GRU)                   (None, 120, 20)           2160      \n",
      "                                                                 \n",
      " gru_1 (GRU)                 (None, 20)                2520      \n",
      "                                                                 \n",
      " dense_3 (Dense)             (None, 24)                504       \n",
      "                                                                 \n",
      "=================================================================\n",
      "Total params: 5,184\n",
      "Trainable params: 5,184\n",
      "Non-trainable params: 0\n",
      "_________________________________________________________________\n"
     ]
    }
   ],
   "source": [
    "model = tf.keras.Sequential(\n",
    "    [\n",
    "        tf.keras.Input(shape=(sequence_length, raw_data.shape[-1])),\n",
    "        GRU(20, return_sequences=True),\n",
    "        GRU(20),\n",
    "        Dense(24),\n",
    "    ]\n",
    ")\n",
    "model.summary()"
   ]
  },
  {
   "cell_type": "markdown",
   "id": "81e1cc9c",
   "metadata": {},
   "source": [
    "Note that it will take a bit to train the model."
   ]
  },
  {
   "cell_type": "code",
   "execution_count": 88,
   "id": "c34cd540",
   "metadata": {},
   "outputs": [
    {
     "name": "stdout",
     "output_type": "stream",
     "text": [
      "Epoch 1/8\n",
      "    819/Unknown - 71s 83ms/step - loss: 79.7756 - mae: 7.0393"
     ]
    },
    {
     "name": "stderr",
     "output_type": "stream",
     "text": [
      "WARNING:absl:Found untraced functions such as gru_cell_layer_call_fn, gru_cell_layer_call_and_return_conditional_losses, gru_cell_1_layer_call_fn, gru_cell_1_layer_call_and_return_conditional_losses while saving (showing 4 of 4). These functions will not be directly callable after loading.\n"
     ]
    },
    {
     "name": "stdout",
     "output_type": "stream",
     "text": [
      "INFO:tensorflow:Assets written to: temp_stv/assets\n"
     ]
    },
    {
     "name": "stderr",
     "output_type": "stream",
     "text": [
      "INFO:tensorflow:Assets written to: temp_stv/assets\n"
     ]
    },
    {
     "name": "stdout",
     "output_type": "stream",
     "text": [
      "819/819 [==============================] - 87s 103ms/step - loss: 79.7756 - mae: 7.0393 - val_loss: 50.3104 - val_mae: 5.5429\n",
      "Epoch 2/8\n",
      "819/819 [==============================] - ETA: 0s - loss: 35.1171 - mae: 4.5735"
     ]
    },
    {
     "name": "stderr",
     "output_type": "stream",
     "text": [
      "WARNING:absl:Found untraced functions such as gru_cell_layer_call_fn, gru_cell_layer_call_and_return_conditional_losses, gru_cell_1_layer_call_fn, gru_cell_1_layer_call_and_return_conditional_losses while saving (showing 4 of 4). These functions will not be directly callable after loading.\n"
     ]
    },
    {
     "name": "stdout",
     "output_type": "stream",
     "text": [
      "INFO:tensorflow:Assets written to: temp_stv/assets\n"
     ]
    },
    {
     "name": "stderr",
     "output_type": "stream",
     "text": [
      "INFO:tensorflow:Assets written to: temp_stv/assets\n"
     ]
    },
    {
     "name": "stdout",
     "output_type": "stream",
     "text": [
      "819/819 [==============================] - 84s 103ms/step - loss: 35.1171 - mae: 4.5735 - val_loss: 27.1136 - val_mae: 3.9961\n",
      "Epoch 3/8\n",
      "819/819 [==============================] - ETA: 0s - loss: 23.9811 - mae: 3.7952"
     ]
    },
    {
     "name": "stderr",
     "output_type": "stream",
     "text": [
      "WARNING:absl:Found untraced functions such as gru_cell_layer_call_fn, gru_cell_layer_call_and_return_conditional_losses, gru_cell_1_layer_call_fn, gru_cell_1_layer_call_and_return_conditional_losses while saving (showing 4 of 4). These functions will not be directly callable after loading.\n"
     ]
    },
    {
     "name": "stdout",
     "output_type": "stream",
     "text": [
      "INFO:tensorflow:Assets written to: temp_stv/assets\n"
     ]
    },
    {
     "name": "stderr",
     "output_type": "stream",
     "text": [
      "INFO:tensorflow:Assets written to: temp_stv/assets\n"
     ]
    },
    {
     "name": "stdout",
     "output_type": "stream",
     "text": [
      "819/819 [==============================] - 83s 102ms/step - loss: 23.9811 - mae: 3.7952 - val_loss: 22.8546 - val_mae: 3.7346\n",
      "Epoch 4/8\n",
      "819/819 [==============================] - 80s 98ms/step - loss: 21.2728 - mae: 3.6081 - val_loss: 22.8553 - val_mae: 3.7405\n",
      "Epoch 5/8\n",
      "819/819 [==============================] - 79s 97ms/step - loss: 19.9947 - mae: 3.5113 - val_loss: 25.1835 - val_mae: 3.9447\n",
      "Epoch 6/8\n",
      "819/819 [==============================] - 80s 98ms/step - loss: 19.1046 - mae: 3.4363 - val_loss: 27.5881 - val_mae: 4.1416\n",
      "Epoch 7/8\n",
      "819/819 [==============================] - 84s 103ms/step - loss: 18.3328 - mae: 3.3675 - val_loss: 32.3009 - val_mae: 4.4753\n",
      "Epoch 8/8\n",
      "819/819 [==============================] - 80s 97ms/step - loss: 17.6708 - mae: 3.3052 - val_loss: 39.4346 - val_mae: 4.8517\n",
      "405/405 [==============================] - 13s 30ms/step - loss: 26.1277 - mae: 3.9362\n",
      "Test MAE: 3.94\n"
     ]
    }
   ],
   "source": [
    "checkpoint_cb = tf.keras.callbacks.ModelCheckpoint(\"temp_stv\", save_best_only=True)\n",
    "model.compile(optimizer=\"rmsprop\", loss=\"mse\", metrics=[\"mae\"])\n",
    "history = model.fit(\n",
    "    train_data, epochs=8, validation_data=val_data, callbacks=[checkpoint_cb]\n",
    ")\n",
    "\n",
    "model = tf.keras.models.load_model(\"temp_stv\")\n",
    "print(f\"Test MAE: {model.evaluate(test_data)[1]:.2f}\")"
   ]
  },
  {
   "cell_type": "code",
   "execution_count": 106,
   "id": "21d687d8",
   "metadata": {},
   "outputs": [
    {
     "ename": "InvalidArgumentError",
     "evalue": "Graph execution error:\n\nDetected at node 'mean_squared_error/SquaredDifference' defined at (most recent call last):\n    File \"/Users/pengjunming/Desktop/Anaconda/anaconda3/envs/myenv/lib/python3.10/runpy.py\", line 196, in _run_module_as_main\n      return _run_code(code, main_globals, None,\n    File \"/Users/pengjunming/Desktop/Anaconda/anaconda3/envs/myenv/lib/python3.10/runpy.py\", line 86, in _run_code\n      exec(code, run_globals)\n    File \"/Users/pengjunming/Desktop/Anaconda/anaconda3/envs/myenv/lib/python3.10/site-packages/ipykernel_launcher.py\", line 17, in <module>\n      app.launch_new_instance()\n    File \"/Users/pengjunming/Desktop/Anaconda/anaconda3/envs/myenv/lib/python3.10/site-packages/traitlets/config/application.py\", line 846, in launch_instance\n      app.start()\n    File \"/Users/pengjunming/Desktop/Anaconda/anaconda3/envs/myenv/lib/python3.10/site-packages/ipykernel/kernelapp.py\", line 712, in start\n      self.io_loop.start()\n    File \"/Users/pengjunming/Desktop/Anaconda/anaconda3/envs/myenv/lib/python3.10/site-packages/tornado/platform/asyncio.py\", line 215, in start\n      self.asyncio_loop.run_forever()\n    File \"/Users/pengjunming/Desktop/Anaconda/anaconda3/envs/myenv/lib/python3.10/asyncio/base_events.py\", line 600, in run_forever\n      self._run_once()\n    File \"/Users/pengjunming/Desktop/Anaconda/anaconda3/envs/myenv/lib/python3.10/asyncio/base_events.py\", line 1896, in _run_once\n      handle._run()\n    File \"/Users/pengjunming/Desktop/Anaconda/anaconda3/envs/myenv/lib/python3.10/asyncio/events.py\", line 80, in _run\n      self._context.run(self._callback, *self._args)\n    File \"/Users/pengjunming/Desktop/Anaconda/anaconda3/envs/myenv/lib/python3.10/site-packages/ipykernel/kernelbase.py\", line 510, in dispatch_queue\n      await self.process_one()\n    File \"/Users/pengjunming/Desktop/Anaconda/anaconda3/envs/myenv/lib/python3.10/site-packages/ipykernel/kernelbase.py\", line 499, in process_one\n      await dispatch(*args)\n    File \"/Users/pengjunming/Desktop/Anaconda/anaconda3/envs/myenv/lib/python3.10/site-packages/ipykernel/kernelbase.py\", line 406, in dispatch_shell\n      await result\n    File \"/Users/pengjunming/Desktop/Anaconda/anaconda3/envs/myenv/lib/python3.10/site-packages/ipykernel/kernelbase.py\", line 730, in execute_request\n      reply_content = await reply_content\n    File \"/Users/pengjunming/Desktop/Anaconda/anaconda3/envs/myenv/lib/python3.10/site-packages/ipykernel/ipkernel.py\", line 390, in do_execute\n      res = shell.run_cell(code, store_history=store_history, silent=silent)\n    File \"/Users/pengjunming/Desktop/Anaconda/anaconda3/envs/myenv/lib/python3.10/site-packages/ipykernel/zmqshell.py\", line 528, in run_cell\n      return super().run_cell(*args, **kwargs)\n    File \"/Users/pengjunming/Desktop/Anaconda/anaconda3/envs/myenv/lib/python3.10/site-packages/IPython/core/interactiveshell.py\", line 2914, in run_cell\n      result = self._run_cell(\n    File \"/Users/pengjunming/Desktop/Anaconda/anaconda3/envs/myenv/lib/python3.10/site-packages/IPython/core/interactiveshell.py\", line 2960, in _run_cell\n      return runner(coro)\n    File \"/Users/pengjunming/Desktop/Anaconda/anaconda3/envs/myenv/lib/python3.10/site-packages/IPython/core/async_helpers.py\", line 78, in _pseudo_sync_runner\n      coro.send(None)\n    File \"/Users/pengjunming/Desktop/Anaconda/anaconda3/envs/myenv/lib/python3.10/site-packages/IPython/core/interactiveshell.py\", line 3185, in run_cell_async\n      has_raised = await self.run_ast_nodes(code_ast.body, cell_name,\n    File \"/Users/pengjunming/Desktop/Anaconda/anaconda3/envs/myenv/lib/python3.10/site-packages/IPython/core/interactiveshell.py\", line 3377, in run_ast_nodes\n      if (await self.run_code(code, result,  async_=asy)):\n    File \"/Users/pengjunming/Desktop/Anaconda/anaconda3/envs/myenv/lib/python3.10/site-packages/IPython/core/interactiveshell.py\", line 3457, in run_code\n      exec(code_obj, self.user_global_ns, self.user_ns)\n    File \"/var/folders/k6/934yyy2n5_vf8y3c9cw39gcr0000gn/T/ipykernel_97183/2939487641.py\", line 8, in <module>\n      print(f\"Test MAE: {model.evaluate(test_data)[1]:.2f}\")\n    File \"/Users/pengjunming/Desktop/Anaconda/anaconda3/envs/myenv/lib/python3.10/site-packages/keras/utils/traceback_utils.py\", line 64, in error_handler\n      return fn(*args, **kwargs)\n    File \"/Users/pengjunming/Desktop/Anaconda/anaconda3/envs/myenv/lib/python3.10/site-packages/keras/engine/training.py\", line 1756, in evaluate\n      tmp_logs = self.test_function(iterator)\n    File \"/Users/pengjunming/Desktop/Anaconda/anaconda3/envs/myenv/lib/python3.10/site-packages/keras/engine/training.py\", line 1557, in test_function\n      return step_function(self, iterator)\n    File \"/Users/pengjunming/Desktop/Anaconda/anaconda3/envs/myenv/lib/python3.10/site-packages/keras/engine/training.py\", line 1546, in step_function\n      outputs = model.distribute_strategy.run(run_step, args=(data,))\n    File \"/Users/pengjunming/Desktop/Anaconda/anaconda3/envs/myenv/lib/python3.10/site-packages/keras/engine/training.py\", line 1535, in run_step\n      outputs = model.test_step(data)\n    File \"/Users/pengjunming/Desktop/Anaconda/anaconda3/envs/myenv/lib/python3.10/site-packages/keras/engine/training.py\", line 1501, in test_step\n      self.compute_loss(x, y, y_pred, sample_weight)\n    File \"/Users/pengjunming/Desktop/Anaconda/anaconda3/envs/myenv/lib/python3.10/site-packages/keras/engine/training.py\", line 948, in compute_loss\n      return self.compiled_loss(\n    File \"/Users/pengjunming/Desktop/Anaconda/anaconda3/envs/myenv/lib/python3.10/site-packages/keras/engine/compile_utils.py\", line 201, in __call__\n      loss_value = loss_obj(y_t, y_p, sample_weight=sw)\n    File \"/Users/pengjunming/Desktop/Anaconda/anaconda3/envs/myenv/lib/python3.10/site-packages/keras/losses.py\", line 139, in __call__\n      losses = call_fn(y_true, y_pred)\n    File \"/Users/pengjunming/Desktop/Anaconda/anaconda3/envs/myenv/lib/python3.10/site-packages/keras/losses.py\", line 243, in call\n      return ag_fn(y_true, y_pred, **self._fn_kwargs)\n    File \"/Users/pengjunming/Desktop/Anaconda/anaconda3/envs/myenv/lib/python3.10/site-packages/keras/losses.py\", line 1327, in mean_squared_error\n      return backend.mean(tf.math.squared_difference(y_pred, y_true), axis=-1)\nNode: 'mean_squared_error/SquaredDifference'\nIncompatible shapes: [4,2] vs. [4,24]\n\t [[{{node mean_squared_error/SquaredDifference}}]] [Op:__inference_test_function_105453]",
     "output_type": "error",
     "traceback": [
      "\u001b[0;31m---------------------------------------------------------------------------\u001b[0m",
      "\u001b[0;31mInvalidArgumentError\u001b[0m                      Traceback (most recent call last)",
      "\u001b[0;32m/var/folders/k6/934yyy2n5_vf8y3c9cw39gcr0000gn/T/ipykernel_97183/3614076582.py\u001b[0m in \u001b[0;36m<module>\u001b[0;34m\u001b[0m\n\u001b[0;32m----> 1\u001b[0;31m \u001b[0mprint\u001b[0m\u001b[0;34m(\u001b[0m\u001b[0;34mf\"Test MAE: {model.evaluate(test_data)[1]:.2f}\"\u001b[0m\u001b[0;34m)\u001b[0m\u001b[0;34m\u001b[0m\u001b[0;34m\u001b[0m\u001b[0m\n\u001b[0m",
      "\u001b[0;32m~/Desktop/Anaconda/anaconda3/envs/myenv/lib/python3.10/site-packages/keras/utils/traceback_utils.py\u001b[0m in \u001b[0;36merror_handler\u001b[0;34m(*args, **kwargs)\u001b[0m\n\u001b[1;32m     65\u001b[0m     \u001b[0;32mexcept\u001b[0m \u001b[0mException\u001b[0m \u001b[0;32mas\u001b[0m \u001b[0me\u001b[0m\u001b[0;34m:\u001b[0m  \u001b[0;31m# pylint: disable=broad-except\u001b[0m\u001b[0;34m\u001b[0m\u001b[0;34m\u001b[0m\u001b[0m\n\u001b[1;32m     66\u001b[0m       \u001b[0mfiltered_tb\u001b[0m \u001b[0;34m=\u001b[0m \u001b[0m_process_traceback_frames\u001b[0m\u001b[0;34m(\u001b[0m\u001b[0me\u001b[0m\u001b[0;34m.\u001b[0m\u001b[0m__traceback__\u001b[0m\u001b[0;34m)\u001b[0m\u001b[0;34m\u001b[0m\u001b[0;34m\u001b[0m\u001b[0m\n\u001b[0;32m---> 67\u001b[0;31m       \u001b[0;32mraise\u001b[0m \u001b[0me\u001b[0m\u001b[0;34m.\u001b[0m\u001b[0mwith_traceback\u001b[0m\u001b[0;34m(\u001b[0m\u001b[0mfiltered_tb\u001b[0m\u001b[0;34m)\u001b[0m \u001b[0;32mfrom\u001b[0m \u001b[0;32mNone\u001b[0m\u001b[0;34m\u001b[0m\u001b[0;34m\u001b[0m\u001b[0m\n\u001b[0m\u001b[1;32m     68\u001b[0m     \u001b[0;32mfinally\u001b[0m\u001b[0;34m:\u001b[0m\u001b[0;34m\u001b[0m\u001b[0;34m\u001b[0m\u001b[0m\n\u001b[1;32m     69\u001b[0m       \u001b[0;32mdel\u001b[0m \u001b[0mfiltered_tb\u001b[0m\u001b[0;34m\u001b[0m\u001b[0;34m\u001b[0m\u001b[0m\n",
      "\u001b[0;32m~/Desktop/Anaconda/anaconda3/envs/myenv/lib/python3.10/site-packages/tensorflow/python/eager/execute.py\u001b[0m in \u001b[0;36mquick_execute\u001b[0;34m(op_name, num_outputs, inputs, attrs, ctx, name)\u001b[0m\n\u001b[1;32m     52\u001b[0m   \u001b[0;32mtry\u001b[0m\u001b[0;34m:\u001b[0m\u001b[0;34m\u001b[0m\u001b[0;34m\u001b[0m\u001b[0m\n\u001b[1;32m     53\u001b[0m     \u001b[0mctx\u001b[0m\u001b[0;34m.\u001b[0m\u001b[0mensure_initialized\u001b[0m\u001b[0;34m(\u001b[0m\u001b[0;34m)\u001b[0m\u001b[0;34m\u001b[0m\u001b[0;34m\u001b[0m\u001b[0m\n\u001b[0;32m---> 54\u001b[0;31m     tensors = pywrap_tfe.TFE_Py_Execute(ctx._handle, device_name, op_name,\n\u001b[0m\u001b[1;32m     55\u001b[0m                                         inputs, attrs, num_outputs)\n\u001b[1;32m     56\u001b[0m   \u001b[0;32mexcept\u001b[0m \u001b[0mcore\u001b[0m\u001b[0;34m.\u001b[0m\u001b[0m_NotOkStatusException\u001b[0m \u001b[0;32mas\u001b[0m \u001b[0me\u001b[0m\u001b[0;34m:\u001b[0m\u001b[0;34m\u001b[0m\u001b[0;34m\u001b[0m\u001b[0m\n",
      "\u001b[0;31mInvalidArgumentError\u001b[0m: Graph execution error:\n\nDetected at node 'mean_squared_error/SquaredDifference' defined at (most recent call last):\n    File \"/Users/pengjunming/Desktop/Anaconda/anaconda3/envs/myenv/lib/python3.10/runpy.py\", line 196, in _run_module_as_main\n      return _run_code(code, main_globals, None,\n    File \"/Users/pengjunming/Desktop/Anaconda/anaconda3/envs/myenv/lib/python3.10/runpy.py\", line 86, in _run_code\n      exec(code, run_globals)\n    File \"/Users/pengjunming/Desktop/Anaconda/anaconda3/envs/myenv/lib/python3.10/site-packages/ipykernel_launcher.py\", line 17, in <module>\n      app.launch_new_instance()\n    File \"/Users/pengjunming/Desktop/Anaconda/anaconda3/envs/myenv/lib/python3.10/site-packages/traitlets/config/application.py\", line 846, in launch_instance\n      app.start()\n    File \"/Users/pengjunming/Desktop/Anaconda/anaconda3/envs/myenv/lib/python3.10/site-packages/ipykernel/kernelapp.py\", line 712, in start\n      self.io_loop.start()\n    File \"/Users/pengjunming/Desktop/Anaconda/anaconda3/envs/myenv/lib/python3.10/site-packages/tornado/platform/asyncio.py\", line 215, in start\n      self.asyncio_loop.run_forever()\n    File \"/Users/pengjunming/Desktop/Anaconda/anaconda3/envs/myenv/lib/python3.10/asyncio/base_events.py\", line 600, in run_forever\n      self._run_once()\n    File \"/Users/pengjunming/Desktop/Anaconda/anaconda3/envs/myenv/lib/python3.10/asyncio/base_events.py\", line 1896, in _run_once\n      handle._run()\n    File \"/Users/pengjunming/Desktop/Anaconda/anaconda3/envs/myenv/lib/python3.10/asyncio/events.py\", line 80, in _run\n      self._context.run(self._callback, *self._args)\n    File \"/Users/pengjunming/Desktop/Anaconda/anaconda3/envs/myenv/lib/python3.10/site-packages/ipykernel/kernelbase.py\", line 510, in dispatch_queue\n      await self.process_one()\n    File \"/Users/pengjunming/Desktop/Anaconda/anaconda3/envs/myenv/lib/python3.10/site-packages/ipykernel/kernelbase.py\", line 499, in process_one\n      await dispatch(*args)\n    File \"/Users/pengjunming/Desktop/Anaconda/anaconda3/envs/myenv/lib/python3.10/site-packages/ipykernel/kernelbase.py\", line 406, in dispatch_shell\n      await result\n    File \"/Users/pengjunming/Desktop/Anaconda/anaconda3/envs/myenv/lib/python3.10/site-packages/ipykernel/kernelbase.py\", line 730, in execute_request\n      reply_content = await reply_content\n    File \"/Users/pengjunming/Desktop/Anaconda/anaconda3/envs/myenv/lib/python3.10/site-packages/ipykernel/ipkernel.py\", line 390, in do_execute\n      res = shell.run_cell(code, store_history=store_history, silent=silent)\n    File \"/Users/pengjunming/Desktop/Anaconda/anaconda3/envs/myenv/lib/python3.10/site-packages/ipykernel/zmqshell.py\", line 528, in run_cell\n      return super().run_cell(*args, **kwargs)\n    File \"/Users/pengjunming/Desktop/Anaconda/anaconda3/envs/myenv/lib/python3.10/site-packages/IPython/core/interactiveshell.py\", line 2914, in run_cell\n      result = self._run_cell(\n    File \"/Users/pengjunming/Desktop/Anaconda/anaconda3/envs/myenv/lib/python3.10/site-packages/IPython/core/interactiveshell.py\", line 2960, in _run_cell\n      return runner(coro)\n    File \"/Users/pengjunming/Desktop/Anaconda/anaconda3/envs/myenv/lib/python3.10/site-packages/IPython/core/async_helpers.py\", line 78, in _pseudo_sync_runner\n      coro.send(None)\n    File \"/Users/pengjunming/Desktop/Anaconda/anaconda3/envs/myenv/lib/python3.10/site-packages/IPython/core/interactiveshell.py\", line 3185, in run_cell_async\n      has_raised = await self.run_ast_nodes(code_ast.body, cell_name,\n    File \"/Users/pengjunming/Desktop/Anaconda/anaconda3/envs/myenv/lib/python3.10/site-packages/IPython/core/interactiveshell.py\", line 3377, in run_ast_nodes\n      if (await self.run_code(code, result,  async_=asy)):\n    File \"/Users/pengjunming/Desktop/Anaconda/anaconda3/envs/myenv/lib/python3.10/site-packages/IPython/core/interactiveshell.py\", line 3457, in run_code\n      exec(code_obj, self.user_global_ns, self.user_ns)\n    File \"/var/folders/k6/934yyy2n5_vf8y3c9cw39gcr0000gn/T/ipykernel_97183/2939487641.py\", line 8, in <module>\n      print(f\"Test MAE: {model.evaluate(test_data)[1]:.2f}\")\n    File \"/Users/pengjunming/Desktop/Anaconda/anaconda3/envs/myenv/lib/python3.10/site-packages/keras/utils/traceback_utils.py\", line 64, in error_handler\n      return fn(*args, **kwargs)\n    File \"/Users/pengjunming/Desktop/Anaconda/anaconda3/envs/myenv/lib/python3.10/site-packages/keras/engine/training.py\", line 1756, in evaluate\n      tmp_logs = self.test_function(iterator)\n    File \"/Users/pengjunming/Desktop/Anaconda/anaconda3/envs/myenv/lib/python3.10/site-packages/keras/engine/training.py\", line 1557, in test_function\n      return step_function(self, iterator)\n    File \"/Users/pengjunming/Desktop/Anaconda/anaconda3/envs/myenv/lib/python3.10/site-packages/keras/engine/training.py\", line 1546, in step_function\n      outputs = model.distribute_strategy.run(run_step, args=(data,))\n    File \"/Users/pengjunming/Desktop/Anaconda/anaconda3/envs/myenv/lib/python3.10/site-packages/keras/engine/training.py\", line 1535, in run_step\n      outputs = model.test_step(data)\n    File \"/Users/pengjunming/Desktop/Anaconda/anaconda3/envs/myenv/lib/python3.10/site-packages/keras/engine/training.py\", line 1501, in test_step\n      self.compute_loss(x, y, y_pred, sample_weight)\n    File \"/Users/pengjunming/Desktop/Anaconda/anaconda3/envs/myenv/lib/python3.10/site-packages/keras/engine/training.py\", line 948, in compute_loss\n      return self.compiled_loss(\n    File \"/Users/pengjunming/Desktop/Anaconda/anaconda3/envs/myenv/lib/python3.10/site-packages/keras/engine/compile_utils.py\", line 201, in __call__\n      loss_value = loss_obj(y_t, y_p, sample_weight=sw)\n    File \"/Users/pengjunming/Desktop/Anaconda/anaconda3/envs/myenv/lib/python3.10/site-packages/keras/losses.py\", line 139, in __call__\n      losses = call_fn(y_true, y_pred)\n    File \"/Users/pengjunming/Desktop/Anaconda/anaconda3/envs/myenv/lib/python3.10/site-packages/keras/losses.py\", line 243, in call\n      return ag_fn(y_true, y_pred, **self._fn_kwargs)\n    File \"/Users/pengjunming/Desktop/Anaconda/anaconda3/envs/myenv/lib/python3.10/site-packages/keras/losses.py\", line 1327, in mean_squared_error\n      return backend.mean(tf.math.squared_difference(y_pred, y_true), axis=-1)\nNode: 'mean_squared_error/SquaredDifference'\nIncompatible shapes: [4,2] vs. [4,24]\n\t [[{{node mean_squared_error/SquaredDifference}}]] [Op:__inference_test_function_105453]"
     ]
    }
   ],
   "source": [
    "print(f\"Test MAE: {model.evaluate(test_data)[1]:.2f}\")"
   ]
  },
  {
   "cell_type": "markdown",
   "id": "cb6a07af",
   "metadata": {},
   "source": [
    "Is the model doing well? We can't compare with the previous one, because we are now estimating temperatures for the whole day rather than just one time point. But you could build very similar baselines as before."
   ]
  }
 ],
 "metadata": {
  "accelerator": "GPU",
  "colab": {
   "collapsed_sections": [
    "fc7ed802",
    "bcb07d9a",
    "0c76eec8",
    "e5305007",
    "8e858af8",
    "91052a51",
    "4732829d"
   ],
   "name": "ADL_Week 9_Recurrent Neural Networks.ipynb",
   "provenance": []
  },
  "kernelspec": {
   "display_name": "myenv",
   "language": "python",
   "name": "python3"
  },
  "language_info": {
   "codemirror_mode": {
    "name": "ipython",
    "version": 3
   },
   "file_extension": ".py",
   "mimetype": "text/x-python",
   "name": "python",
   "nbconvert_exporter": "python",
   "pygments_lexer": "ipython3",
   "version": "3.10.4"
  },
  "vscode": {
   "interpreter": {
    "hash": "d4295dcc68d7f47a44459d29b7eda4aa2012eabeb02423850ca68a5e382986aa"
   }
  }
 },
 "nbformat": 4,
 "nbformat_minor": 5
}
