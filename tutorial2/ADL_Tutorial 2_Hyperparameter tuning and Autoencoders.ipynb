{
 "cells": [
  {
   "cell_type": "markdown",
   "id": "d256e085",
   "metadata": {},
   "source": [
    "# Tutorial 2 - Hyperparameter tuning and autoencoders"
   ]
  },
  {
   "cell_type": "markdown",
   "id": "96e20eb1",
   "metadata": {},
   "source": [
    "Welcome to Tutorial 2. We will go into more depth about running a hyperparameter tuning operation, before we dive into programming an autoencoder. Parts of the notebook are based on the TensorFlow tutorials."
   ]
  },
  {
   "cell_type": "code",
   "execution_count": 1,
   "id": "8ffc385a",
   "metadata": {},
   "outputs": [],
   "source": [
    "import tensorflow as tf\n",
    "import numpy as np\n",
    "import datetime\n",
    "from sklearn.model_selection import train_test_split\n",
    "import matplotlib.pyplot as plt\n",
    "import ssl\n",
    "\n",
    "ssl._create_default_https_context = ssl._create_unverified_context"
   ]
  },
  {
   "cell_type": "markdown",
   "id": "9ea6989f",
   "metadata": {},
   "source": [
    "# 1. Hyperparameter tuning"
   ]
  },
  {
   "cell_type": "markdown",
   "id": "1c3f0ea8",
   "metadata": {},
   "source": [
    "This time, we will use the Keras Tuner for Hyperparameter tuning. While a bit less intuitive, it is more powerful and allows you to easily implement complex Hypertuning processes."
   ]
  },
  {
   "cell_type": "markdown",
   "id": "6b16ccd2",
   "metadata": {},
   "source": [
    "## 1.1 The Reuters dataset - our first foray into NLP"
   ]
  },
  {
   "cell_type": "markdown",
   "id": "7cbaa03d",
   "metadata": {},
   "source": [
    "First, let's get some data. We will be using the \"Reuters dataset\", a set of newswires published by Reuters in 1986. Each newswire is classified into one of 46 topics. This will be our first NLP example!"
   ]
  },
  {
   "cell_type": "code",
   "execution_count": 2,
   "id": "d3f7990e",
   "metadata": {},
   "outputs": [],
   "source": [
    "(X_other, y_other), (X_test, y_test) = tf.keras.datasets.reuters.load_data(\n",
    "    num_words=10000\n",
    ")"
   ]
  },
  {
   "cell_type": "markdown",
   "id": "52bc9c79",
   "metadata": {},
   "source": [
    "We only use the 10,000 most frequent words in the data. This will be much more than enough."
   ]
  },
  {
   "cell_type": "code",
   "execution_count": 3,
   "id": "2ede5a10",
   "metadata": {},
   "outputs": [
    {
     "name": "stdout",
     "output_type": "stream",
     "text": [
      "(8982,)\n",
      "(8982,)\n",
      "(2246,)\n",
      "(2246,)\n"
     ]
    }
   ],
   "source": [
    "print(X_other.shape)\n",
    "print(y_other.shape)\n",
    "print(X_test.shape)\n",
    "print(y_test.shape)\n"
   ]
  },
  {
   "cell_type": "markdown",
   "id": "6fd5fe4b",
   "metadata": {},
   "source": [
    "Each observation consists of a sequence of integers, and a label:"
   ]
  },
  {
   "cell_type": "code",
   "execution_count": 4,
   "id": "cd9c7995",
   "metadata": {},
   "outputs": [
    {
     "name": "stdout",
     "output_type": "stream",
     "text": [
      "[1, 2, 2, 8, 43, 10, 447, 5, 25, 207, 270, 5, 3095, 111, 16, 369, 186, 90, 67, 7, 89, 5, 19, 102, 6, 19, 124, 15, 90, 67, 84, 22, 482, 26, 7, 48, 4, 49, 8, 864, 39, 209, 154, 6, 151, 6, 83, 11, 15, 22, 155, 11, 15, 7, 48, 9, 4579, 1005, 504, 6, 258, 6, 272, 11, 15, 22, 134, 44, 11, 15, 16, 8, 197, 1245, 90, 67, 52, 29, 209, 30, 32, 132, 6, 109, 15, 17, 12]\n",
      "3\n"
     ]
    }
   ],
   "source": [
    "print(X_other[0])\n",
    "print(y_other[0])"
   ]
  },
  {
   "cell_type": "markdown",
   "id": "5559f85c",
   "metadata": {},
   "source": [
    "You can decode the words used in a newswire as follows (note that 0-2 are special indices used to indicate \"padding\", \"start of sequence\", or \"unknown\"):"
   ]
  },
  {
   "cell_type": "code",
   "execution_count": 5,
   "id": "0833066d",
   "metadata": {},
   "outputs": [
    {
     "name": "stdout",
     "output_type": "stream",
     "text": [
      "Newswire: ? ? ? said as a result of its december acquisition of space co it expects earnings per share in 1987 of 1 15 to 1 30 dlrs per share up from 70 cts in 1986 the company said pretax net should rise to nine to 10 mln dlrs from six mln dlrs in 1986 and rental operation revenues to 19 to 22 mln dlrs from 12 5 mln dlrs it said cash flow per share this year should be 2 50 to three dlrs reuter 3\n"
     ]
    }
   ],
   "source": [
    "word_index = tf.keras.datasets.reuters.get_word_index()\n",
    "reverse_word_index = {value: key for (key, value) in word_index.items()}\n",
    "decoded_text = \" \".join([reverse_word_index.get(word - 3, \"?\") for word in X_other[0]])\n",
    "print(\"Newswire:\", decoded_text)"
   ]
  },
  {
   "cell_type": "markdown",
   "id": "bf679d5e",
   "metadata": {},
   "source": [
    "### Preparing the data"
   ]
  },
  {
   "cell_type": "markdown",
   "id": "351189bb",
   "metadata": {},
   "source": [
    "In order to run any neural network, we first need to convert our data into an appropriate format. For this, we will one-hot encode the words used for each newswire. In particular, each newswire will correspond to a vector over words with 1 if that word appears and 0 if it does not. Before executing the code, think about what you expect the dimensionality of our resulting `X` to be?"
   ]
  },
  {
   "cell_type": "code",
   "execution_count": 6,
   "id": "607232a0",
   "metadata": {},
   "outputs": [
    {
     "name": "stdout",
     "output_type": "stream",
     "text": [
      "(8982, 10000)\n",
      "(2246, 10000)\n"
     ]
    }
   ],
   "source": [
    "def vectorize_sequences(X, dimension=10000):\n",
    "    results = np.zeros((X.shape[0], dimension))\n",
    "    for i, Xi in enumerate(X):\n",
    "        for j in Xi:\n",
    "            results[i, j] = 1.0\n",
    "    return results\n",
    "\n",
    "\n",
    "X_other = vectorize_sequences(X_other)\n",
    "X_test = vectorize_sequences(X_test)\n",
    "\n",
    "print(X_other.shape)\n",
    "print(X_test.shape)"
   ]
  },
  {
   "cell_type": "markdown",
   "id": "bc783205",
   "metadata": {},
   "source": [
    "We also convert our labels by vectorizing them (an entry is 1 if the newswire corresponds to the category of the index). This is easier as we are converting a single number into a vector and can use the inbuilt functionality of `tf`:"
   ]
  },
  {
   "cell_type": "code",
   "execution_count": 7,
   "id": "13c3105a",
   "metadata": {},
   "outputs": [
    {
     "name": "stdout",
     "output_type": "stream",
     "text": [
      "(8982, 46)\n",
      "(2246, 46)\n"
     ]
    }
   ],
   "source": [
    "y_other = tf.keras.utils.to_categorical(y_other)\n",
    "y_test = tf.keras.utils.to_categorical(y_test)\n",
    "\n",
    "print(y_other.shape)\n",
    "print(y_test.shape)\n"
   ]
  },
  {
   "cell_type": "markdown",
   "id": "fd47ec05",
   "metadata": {},
   "source": [
    "Finally, we branch off a validation dataset:"
   ]
  },
  {
   "cell_type": "code",
   "execution_count": 8,
   "id": "93e6f351",
   "metadata": {},
   "outputs": [],
   "source": [
    "X_train, X_valid, y_train, y_valid = train_test_split(\n",
    "    X_other, y_other, test_size=1000, random_state=687\n",
    ")"
   ]
  },
  {
   "cell_type": "markdown",
   "id": "4b6a2d88",
   "metadata": {},
   "source": [
    "## 1.2 The Keras Tuner\n",
    "\n",
    "Let's try out the Keras Tuner. We may first need to `pip` install it:"
   ]
  },
  {
   "cell_type": "markdown",
   "id": "be353c1a",
   "metadata": {},
   "source": [
    "Once we have installed Keras Tuner, we can import it:"
   ]
  },
  {
   "cell_type": "code",
   "execution_count": 9,
   "id": "99461e23",
   "metadata": {},
   "outputs": [],
   "source": [
    "import keras_tuner as kt\n"
   ]
  },
  {
   "cell_type": "markdown",
   "id": "a94c47c3",
   "metadata": {},
   "source": [
    "With Keras Tuner, we create again a function that builds a model. This time, however, the function does not contain the actual model fitting and evaluation, only the model building and compilation.\n",
    "\n",
    "We start simple, with a function that builds a model with an arbitrary number of units per hidden layer. Instead of pre-specifying the parameters, the Keras Tuner now generates them, based on the `hp` input to the function. We want an integer value for `num_units`, between 3 and 20. Hence, we can use \n",
    "```\n",
    "num_units = hp.Int('num_units', min_value = ..., max_value=...)\n",
    "```\n",
    "where the `min_value` and `max_value` are filled appropriately."
   ]
  },
  {
   "cell_type": "code",
   "execution_count": 10,
   "id": "5c910105",
   "metadata": {},
   "outputs": [],
   "source": [
    "def train_model(hp):\n",
    "    num_units = hp.Int(\"num_units\", min_value=32, max_value=256)\n",
    "\n",
    "    model = tf.keras.models.Sequential(\n",
    "        [\n",
    "            tf.keras.layers.Dense(num_units, activation=\"relu\"),\n",
    "            tf.keras.layers.Dense(num_units, activation=\"relu\"),\n",
    "            tf.keras.layers.Dense(46, activation=\"softmax\"),\n",
    "        ]\n",
    "    )\n",
    "\n",
    "    model.compile(\n",
    "        optimizer=\"rmsprop\", loss=\"categorical_crossentropy\", metrics=[\"accuracy\"]\n",
    "    )\n",
    "\n",
    "    return model"
   ]
  },
  {
   "cell_type": "markdown",
   "id": "933cc487",
   "metadata": {},
   "source": [
    "Once we have defined the function to build the model, we can create a Keras Tuner object. Here, we have to decide how we want to do the tuning.\n",
    "\n",
    "We could use `kt.RandomSearch` to consider different random combinations of hyperparameters, as we have before. But the real benefit of using a hyperparameter tuning framework like Keras Tuner comes from the ability to do better. In particular, we can use the following tuners that don't just look randomly at different sets of hyperparameters, but choose sets of hyperparameters that make sense to explore based on what the tuner has seen so far:\n",
    "- `Hyperband`\n",
    "- `BayesianOptimization`\n",
    "- `Sklearn`\n",
    "\n",
    "We will use Hyperband here. If you want to know exactly how it works, you can find [the relevant paper here](https://arxiv.org/pdf/1603.06560.pdf).\n",
    "\n",
    "The code below generates a `Hyperband` tuner. We need to specify\n",
    "- `objective`, the objective that the tuner is trying to optimize. In our case, we want to maximize the accuracy on the validation data\n",
    "- `max_epochs`, that is the maximum number of epochs that any trial is allowed to take (the tuner will usually only use a part of these epochs and stop early if the trial seems hopeless compared to other trials)\n",
    "- `factor` (if we don't specify this, it defaults to 3, which is usually fine), which has to do with the reduction of epochs across trials. It goes beyond the scope of the course, but if you want to know more, you can find all the information in the paper\n",
    "- `directory`, where our log is stored\n",
    "- `project_name`, the sub-directory to store our log\n",
    "\n",
    "Note that we don't specify the number of trials (we would if we were to choose the `RandomSearch` tuner)! This is based of how the algorithm works and will be roughly\n",
    "```\n",
    "max_epochs * log(max_epochs) / log(factor)\n",
    "```\n",
    "We will use a small number for `max_epochs` to avoid taking too much time. However, it is usually recommended to have a large number together with an early stopping callback, to find better models. For more on this, take a look at the [documentation](https://keras.io/api/keras_tuner/tuners/hyperband/)."
   ]
  },
  {
   "cell_type": "code",
   "execution_count": 11,
   "id": "cf4727fa",
   "metadata": {},
   "outputs": [
    {
     "name": "stdout",
     "output_type": "stream",
     "text": [
      "INFO:tensorflow:Reloading Oracle from existing project logs/kt_tutorial_1/oracle.json\n",
      "Metal device set to: Apple M1 Pro\n",
      "\n",
      "systemMemory: 16.00 GB\n",
      "maxCacheSize: 5.33 GB\n",
      "\n",
      "INFO:tensorflow:Reloading Tuner from logs/kt_tutorial_1/tuner0.json\n"
     ]
    },
    {
     "name": "stderr",
     "output_type": "stream",
     "text": [
      "2023-03-05 00:40:22.352380: I tensorflow/core/common_runtime/pluggable_device/pluggable_device_factory.cc:306] Could not identify NUMA node of platform GPU ID 0, defaulting to 0. Your kernel may not have been built with NUMA support.\n",
      "2023-03-05 00:40:22.352575: I tensorflow/core/common_runtime/pluggable_device/pluggable_device_factory.cc:272] Created TensorFlow device (/job:localhost/replica:0/task:0/device:GPU:0 with 0 MB memory) -> physical PluggableDevice (device: 0, name: METAL, pci bus id: <undefined>)\n"
     ]
    }
   ],
   "source": [
    "tuner = kt.Hyperband(\n",
    "    train_model,\n",
    "    objective=\"val_accuracy\",\n",
    "    max_epochs=5,\n",
    "    factor=3,\n",
    "    directory=\"logs\",\n",
    "    project_name=\"kt_tutorial_1\",\n",
    ")"
   ]
  },
  {
   "cell_type": "markdown",
   "id": "9053ab44",
   "metadata": {},
   "source": [
    "Note that the tuner won't run if the folder `'directory/project_name'` has already been filled. In that case, you might want to clear it out as follows:"
   ]
  },
  {
   "cell_type": "code",
   "execution_count": 12,
   "id": "0af0b9bc",
   "metadata": {},
   "outputs": [
    {
     "name": "stdout",
     "output_type": "stream",
     "text": [
      "rm: -: No such file or directory\n",
      "rm: rf: No such file or directory\n",
      "rm: ./logs/kt_tutorial_1: is a directory\n"
     ]
    }
   ],
   "source": [
    "rm - rf ./logs/kt_tutorial_1\n"
   ]
  },
  {
   "cell_type": "markdown",
   "id": "3a943832",
   "metadata": {},
   "source": [
    "Next, we can run the tuner with the `search` function. This takes the same inputs as when you `fit` a single model. Only that it will now generate parameters based on the Hyperband algorithm.\n",
    "\n",
    "\n",
    "When the tuner runs, you can see the current statistics, as well as the statistics of the best hyperparameter set found so far."
   ]
  },
  {
   "cell_type": "code",
   "execution_count": 12,
   "id": "5446d340",
   "metadata": {},
   "outputs": [
    {
     "name": "stdout",
     "output_type": "stream",
     "text": [
      "INFO:tensorflow:Oracle triggered exit\n"
     ]
    }
   ],
   "source": [
    "tuner.search(X_train, y_train, validation_data=(X_valid, y_valid))"
   ]
  },
  {
   "cell_type": "markdown",
   "id": "e9f6cccf",
   "metadata": {},
   "source": [
    "Once you are done, you can take a look at the best hyperparameters found. You can index them like a dictionary (based on the name you gave before):"
   ]
  },
  {
   "cell_type": "code",
   "execution_count": 13,
   "id": "e5fb8486",
   "metadata": {},
   "outputs": [
    {
     "data": {
      "text/plain": [
       "160"
      ]
     },
     "execution_count": 13,
     "metadata": {},
     "output_type": "execute_result"
    }
   ],
   "source": [
    "best_hps = tuner.get_best_hyperparameters()[0]\n",
    "best_hps[\"num_units\"]"
   ]
  },
  {
   "cell_type": "markdown",
   "id": "7c0a221d",
   "metadata": {},
   "source": [
    "We can also now directly build a model that uses the best hyperparameters:"
   ]
  },
  {
   "cell_type": "code",
   "execution_count": 14,
   "id": "fdd97759",
   "metadata": {},
   "outputs": [],
   "source": [
    "best_model = tuner.hypermodel.build(best_hps)"
   ]
  },
  {
   "cell_type": "markdown",
   "id": "86242d02",
   "metadata": {},
   "source": [
    "This is a fresh model that we still have to train (the hyperparameters have been chosen, but the parameters (weights and biases) don't even exist yet (verify this, for example, with `best_model.layers[1].get_weights()`)\n",
    "\n",
    "Hence, we can now train the model as usual. Assuming we have decided that this is our final model, we will combine the training and validation data:"
   ]
  },
  {
   "cell_type": "code",
   "execution_count": 15,
   "id": "8e8256ad",
   "metadata": {},
   "outputs": [
    {
     "name": "stdout",
     "output_type": "stream",
     "text": [
      "Epoch 1/5\n"
     ]
    },
    {
     "name": "stderr",
     "output_type": "stream",
     "text": [
      "2023-03-05 00:41:51.633070: W tensorflow/core/platform/profile_utils/cpu_utils.cc:128] Failed to get CPU frequency: 0 Hz\n",
      "2023-03-05 00:41:52.021367: I tensorflow/core/grappler/optimizers/custom_graph_optimizer_registry.cc:114] Plugin optimizer for device_type GPU is enabled.\n"
     ]
    },
    {
     "name": "stdout",
     "output_type": "stream",
     "text": [
      "281/281 [==============================] - 5s 16ms/step - loss: 1.2349 - accuracy: 0.7250\n",
      "Epoch 2/5\n",
      "281/281 [==============================] - 5s 16ms/step - loss: 0.5772 - accuracy: 0.8716\n",
      "Epoch 3/5\n",
      "281/281 [==============================] - 4s 15ms/step - loss: 0.3456 - accuracy: 0.9221\n",
      "Epoch 4/5\n",
      "281/281 [==============================] - 4s 16ms/step - loss: 0.2648 - accuracy: 0.9403\n",
      "Epoch 5/5\n",
      "281/281 [==============================] - 5s 16ms/step - loss: 0.2206 - accuracy: 0.9498\n"
     ]
    },
    {
     "data": {
      "text/plain": [
       "<keras.callbacks.History at 0x2cc6be3b0>"
      ]
     },
     "execution_count": 15,
     "metadata": {},
     "output_type": "execute_result"
    }
   ],
   "source": [
    "best_model.fit(X_other, y_other, epochs=5)"
   ]
  },
  {
   "cell_type": "markdown",
   "id": "08217a82",
   "metadata": {},
   "source": [
    "Once we are done with training, we can evaluate the model on the test set:"
   ]
  },
  {
   "cell_type": "code",
   "execution_count": 16,
   "id": "e90bf67f",
   "metadata": {},
   "outputs": [
    {
     "name": "stdout",
     "output_type": "stream",
     "text": [
      "10/71 [===>..........................] - ETA: 0s - loss: 1.1758 - accuracy: 0.8250"
     ]
    },
    {
     "name": "stderr",
     "output_type": "stream",
     "text": [
      "2023-03-05 00:42:21.947801: I tensorflow/core/grappler/optimizers/custom_graph_optimizer_registry.cc:114] Plugin optimizer for device_type GPU is enabled.\n"
     ]
    },
    {
     "name": "stdout",
     "output_type": "stream",
     "text": [
      "71/71 [==============================] - 1s 12ms/step - loss: 1.2244 - accuracy: 0.7952\n"
     ]
    },
    {
     "data": {
      "text/plain": [
       "[1.2244298458099365, 0.7951914668083191]"
      ]
     },
     "execution_count": 16,
     "metadata": {},
     "output_type": "execute_result"
    }
   ],
   "source": [
    "best_model.evaluate(X_test, y_test)\n"
   ]
  },
  {
   "cell_type": "markdown",
   "id": "2177cf12",
   "metadata": {},
   "source": [
    "## 1.3 Tuning more parameters"
   ]
  },
  {
   "cell_type": "markdown",
   "id": "1602a263",
   "metadata": {},
   "source": [
    "Let's make things a bit more interesting. Create again the `train_model(hp)` function, but this time, we vary all the hyperparameters that we varied before. In particular:\n",
    "- vary the `num_units`, as before\n",
    "- Add `Dropout` layers and vary the `dropout_rate`. This is not an integer value, but a float, but otherwise things are like before. Hence, you want to use `hp.Float('dropout_rate', min_value = ..., max_value=...)` with the right values\n",
    "- vary the `learning_rate`. This is a float again, but remember that we want a log-scale. Here, we can implement this quite easily with `hp.Float('learning_rate', min_value = ..., max_value=..., sampling='log')` (and, of course, again with the right minimum and maximum values)"
   ]
  },
  {
   "cell_type": "code",
   "execution_count": 8,
   "id": "14f21419",
   "metadata": {},
   "outputs": [],
   "source": [
    "def train_model(hp):\n",
    "    num_units = hp.Int('num_units', min_value=32, max_value=256)\n",
    "    dropout_rate =  hp.Float('dropout_rate', min_value = 0.1, max_value = 0.3) # Complete\n",
    "    learning_rate = hp.Float('learning_rate', min_value = 0.005, max_value = 0.1) # Complete\n",
    "\n",
    "    model = tf.keras.models.Sequential([\n",
    "        tf.keras.layers.Dropout(dropout_rate),\n",
    "        tf.keras.layers.Dense(num_units, activation=\"relu\"),\n",
    "        tf.keras.layers.Dropout(dropout_rate),\n",
    "        tf.keras.layers.Dense(num_units, activation=\"relu\"),\n",
    "        tf.keras.layers.Dense(46, activation=\"softmax\")])\n",
    "\n",
    "    model.compile(optimizer=tf.keras.optimizers.RMSprop(learning_rate=learning_rate),\n",
    "                  loss='categorical_crossentropy',\n",
    "                  metrics=[\"accuracy\"])\n",
    "\n",
    "    return model"
   ]
  },
  {
   "cell_type": "markdown",
   "id": "6d3fa713",
   "metadata": {},
   "source": [
    "Once you have specified your model, we can again generate the `Hyperband` tuner object and search through the space of hyperparameters:"
   ]
  },
  {
   "cell_type": "code",
   "execution_count": 9,
   "id": "5f2f6200",
   "metadata": {},
   "outputs": [
    {
     "name": "stdout",
     "output_type": "stream",
     "text": [
      "INFO:tensorflow:Reloading Oracle from existing project logs/kt_tutorial_2/oracle.json\n",
      "Metal device set to: Apple M1 Pro\n",
      "\n",
      "systemMemory: 16.00 GB\n",
      "maxCacheSize: 5.33 GB\n",
      "\n"
     ]
    },
    {
     "name": "stderr",
     "output_type": "stream",
     "text": [
      "2023-02-24 10:08:02.884508: I tensorflow/core/common_runtime/pluggable_device/pluggable_device_factory.cc:306] Could not identify NUMA node of platform GPU ID 0, defaulting to 0. Your kernel may not have been built with NUMA support.\n",
      "2023-02-24 10:08:02.884638: I tensorflow/core/common_runtime/pluggable_device/pluggable_device_factory.cc:272] Created TensorFlow device (/job:localhost/replica:0/task:0/device:GPU:0 with 0 MB memory) -> physical PluggableDevice (device: 0, name: METAL, pci bus id: <undefined>)\n"
     ]
    }
   ],
   "source": [
    "tuner = kt.Hyperband(\n",
    "    train_model,\n",
    "    objective=\"val_accuracy\",\n",
    "    max_epochs=5,\n",
    "    factor=3,\n",
    "    directory=\"logs\",\n",
    "    project_name=\"kt_tutorial_2\",\n",
    ")\n"
   ]
  },
  {
   "cell_type": "code",
   "execution_count": 10,
   "id": "cd8d4fca",
   "metadata": {},
   "outputs": [
    {
     "name": "stdout",
     "output_type": "stream",
     "text": [
      "rm: -: No such file or directory\n",
      "rm: rf: No such file or directory\n",
      "rm: ./logs/kt_tutorial_1: is a directory\n"
     ]
    }
   ],
   "source": [
    "rm - rf ./logs/kt_tutorial_1"
   ]
  },
  {
   "cell_type": "code",
   "execution_count": 11,
   "id": "478f5827",
   "metadata": {},
   "outputs": [
    {
     "name": "stdout",
     "output_type": "stream",
     "text": [
      "Trial 10 Complete [00h 00m 19s]\n",
      "val_accuracy: 0.5180000066757202\n",
      "\n",
      "Best val_accuracy So Far: 0.7980000376701355\n",
      "Total elapsed time: 00h 11m 40s\n",
      "INFO:tensorflow:Oracle triggered exit\n"
     ]
    }
   ],
   "source": [
    "tuner.search(X_train, y_train, validation_data=(X_valid, y_valid))"
   ]
  },
  {
   "cell_type": "markdown",
   "id": "00c8fa3e",
   "metadata": {},
   "source": [
    "Once done, take a look at the optimal parameters:"
   ]
  },
  {
   "cell_type": "code",
   "execution_count": 12,
   "id": "e80531db",
   "metadata": {},
   "outputs": [
    {
     "name": "stdout",
     "output_type": "stream",
     "text": [
      "Best number of hidden units: 175\n",
      "Best dropout rate: 0.23563918897283112\n",
      "Best learning rate: 0.006720818661226628\n"
     ]
    }
   ],
   "source": [
    "best_hps = tuner.get_best_hyperparameters()[0]\n",
    "print(\"Best number of hidden units:\", best_hps[\"num_units\"])\n",
    "print(\"Best dropout rate:\", best_hps[\"dropout_rate\"])\n",
    "print(\"Best learning rate:\", best_hps[\"learning_rate\"])"
   ]
  },
  {
   "cell_type": "markdown",
   "id": "4b62d6db",
   "metadata": {},
   "source": [
    "Again, we can build a fresh model using these hyperparameters:"
   ]
  },
  {
   "cell_type": "code",
   "execution_count": 13,
   "id": "ae7c2e60",
   "metadata": {},
   "outputs": [],
   "source": [
    "best_model = tuner.hypermodel.build(best_hps)"
   ]
  },
  {
   "cell_type": "markdown",
   "id": "0e814270",
   "metadata": {},
   "source": [
    "This time, we won't just train the model, we will also add in an `EarlyStopping` callback. Can you create a callback `early_stopping_cb` using `tf.keras.callbacks.EarlyStopping(...)`, with `patience=5` and `restor_best_weights=True`?"
   ]
  },
  {
   "cell_type": "code",
   "execution_count": 15,
   "id": "9fed8877",
   "metadata": {},
   "outputs": [],
   "source": [
    "early_stopping_cb = tf.keras.callbacks.EarlyStopping(patience=5, restore_best_weights=True)# Complete\n"
   ]
  },
  {
   "cell_type": "markdown",
   "id": "669dda3b",
   "metadata": {},
   "source": [
    "Now, train the best model, using also an early stop. "
   ]
  },
  {
   "cell_type": "code",
   "execution_count": 16,
   "id": "af53b2d3",
   "metadata": {},
   "outputs": [
    {
     "name": "stdout",
     "output_type": "stream",
     "text": [
      "Epoch 1/30\n"
     ]
    },
    {
     "name": "stderr",
     "output_type": "stream",
     "text": [
      "2023-02-24 10:22:30.306039: I tensorflow/core/grappler/optimizers/custom_graph_optimizer_registry.cc:114] Plugin optimizer for device_type GPU is enabled.\n"
     ]
    },
    {
     "name": "stdout",
     "output_type": "stream",
     "text": [
      "250/250 [==============================] - ETA: 0s - loss: 1.4754 - accuracy: 0.6738"
     ]
    },
    {
     "name": "stderr",
     "output_type": "stream",
     "text": [
      "2023-02-24 10:22:34.166151: I tensorflow/core/grappler/optimizers/custom_graph_optimizer_registry.cc:114] Plugin optimizer for device_type GPU is enabled.\n"
     ]
    },
    {
     "name": "stdout",
     "output_type": "stream",
     "text": [
      "250/250 [==============================] - 4s 16ms/step - loss: 1.4754 - accuracy: 0.6738 - val_loss: 1.1109 - val_accuracy: 0.7700\n",
      "Epoch 2/30\n",
      "250/250 [==============================] - 4s 15ms/step - loss: 1.0667 - accuracy: 0.7830 - val_loss: 1.1105 - val_accuracy: 0.7890\n",
      "Epoch 3/30\n",
      "250/250 [==============================] - 4s 15ms/step - loss: 0.9440 - accuracy: 0.8150 - val_loss: 1.1588 - val_accuracy: 0.7710\n",
      "Epoch 4/30\n",
      "250/250 [==============================] - 4s 15ms/step - loss: 0.8352 - accuracy: 0.8315 - val_loss: 1.4353 - val_accuracy: 0.7890\n",
      "Epoch 5/30\n",
      "250/250 [==============================] - 4s 15ms/step - loss: 0.8019 - accuracy: 0.8443 - val_loss: 1.4404 - val_accuracy: 0.7830\n",
      "Epoch 6/30\n",
      "250/250 [==============================] - 4s 15ms/step - loss: 0.7455 - accuracy: 0.8479 - val_loss: 1.6621 - val_accuracy: 0.7870\n",
      "Epoch 7/30\n",
      "250/250 [==============================] - 4s 15ms/step - loss: 0.7166 - accuracy: 0.8613 - val_loss: 2.0770 - val_accuracy: 0.8010\n"
     ]
    },
    {
     "data": {
      "text/plain": [
       "<keras.callbacks.History at 0x294473910>"
      ]
     },
     "execution_count": 16,
     "metadata": {},
     "output_type": "execute_result"
    }
   ],
   "source": [
    "best_model.fit(\n",
    "    X_train,\n",
    "    y_train,\n",
    "    epochs=30,\n",
    "    validation_data=(X_valid, y_valid),\n",
    "    callbacks=[early_stopping_cb],\n",
    ")"
   ]
  },
  {
   "cell_type": "markdown",
   "id": "e51c8697",
   "metadata": {},
   "source": [
    "Finally, let's evaluate this model on the test set:"
   ]
  },
  {
   "cell_type": "code",
   "execution_count": 17,
   "id": "798d3c44",
   "metadata": {},
   "outputs": [
    {
     "name": "stdout",
     "output_type": "stream",
     "text": [
      "71/71 [==============================] - 1s 11ms/step - loss: 1.2033 - accuracy: 0.7573\n"
     ]
    },
    {
     "data": {
      "text/plain": [
       "[1.2032861709594727, 0.7573463916778564]"
      ]
     },
     "execution_count": 17,
     "metadata": {},
     "output_type": "execute_result"
    }
   ],
   "source": [
    "best_model.evaluate(X_test, y_test)\n"
   ]
  },
  {
   "cell_type": "markdown",
   "id": "e5c118f3",
   "metadata": {},
   "source": [
    "# 2. Autoencoder"
   ]
  },
  {
   "cell_type": "markdown",
   "id": "52d9d5f6",
   "metadata": {},
   "source": [
    "We will build autoencoders. First, we create a simple autoencoder to compress data, then we will create another one that allows to denoise images! In your assignment, you will also build an autoencoder to detect anomalies - quite the versatile tool, right?"
   ]
  },
  {
   "cell_type": "markdown",
   "id": "3aa56240",
   "metadata": {},
   "source": [
    "## 2.1 A basic autoencoder"
   ]
  },
  {
   "cell_type": "markdown",
   "id": "c5739afc",
   "metadata": {},
   "source": [
    "We use the previous `fashion_mnist` dataset that you should be familiar with by now:"
   ]
  },
  {
   "cell_type": "code",
   "execution_count": 18,
   "id": "d1048366",
   "metadata": {},
   "outputs": [
    {
     "name": "stdout",
     "output_type": "stream",
     "text": [
      "(50000, 28, 28)\n",
      "(50000,)\n"
     ]
    }
   ],
   "source": [
    "fashion_mnist = tf.keras.datasets.fashion_mnist\n",
    "(X_other, y_other), (X_test, y_test) = fashion_mnist.load_data()\n",
    "X_other = X_other / 255.0\n",
    "X_test = X_test / 255.0\n",
    "X_train, X_valid, y_train, y_valid = train_test_split(\n",
    "    X_other, y_other, train_size=50000, random_state=152\n",
    ")\n",
    "print(X_train.shape)\n",
    "print(y_train.shape)"
   ]
  },
  {
   "cell_type": "markdown",
   "id": "0481616a",
   "metadata": {},
   "source": [
    "An autoencoder consists of two parts: the encoder (with less and less neurons per layer) and the decoder (with more and more neurons per layer). You don't have to, but it usually makes sense to define the encoder and the decoder separately. Let's start with the encoder. We will create an encoder that flattens the inputs, but only uses one hidden layer (with 64 inputs):"
   ]
  },
  {
   "cell_type": "code",
   "execution_count": 20,
   "id": "d0e4a985",
   "metadata": {},
   "outputs": [],
   "source": [
    "encoder = tf.keras.Sequential(\n",
    "    [\n",
    "        tf.keras.layers.Flatten(input_shape=(28, 28)),\n",
    "        tf.keras.layers.Dense(64, activation=\"relu\"),\n",
    "    ],\n",
    "    name=\"encoder\",\n",
    ")"
   ]
  },
  {
   "cell_type": "markdown",
   "id": "aa0aafb6",
   "metadata": {},
   "source": [
    "Keep in mind that our inputs have $28\\times 28 = 784$ dimensions, while the input layer only has $64$ \"dimensions\". We are essentially forcing our encoder to compress the information available. Of course, something will be lost - but our aim is to get a lot of information per feature!"
   ]
  },
  {
   "cell_type": "markdown",
   "id": "76bb97a9",
   "metadata": {},
   "source": [
    "We can now define a decoder (with a single layer). Keep in mind that we want to return an image, so we have to reshape our output. Also, can you guess why we use a `\"sigmoid\"` activation?"
   ]
  },
  {
   "cell_type": "code",
   "execution_count": 22,
   "id": "5d06b479",
   "metadata": {},
   "outputs": [],
   "source": [
    "decoder = tf.keras.Sequential(\n",
    "    [\n",
    "        tf.keras.layers.Dense(784, activation=\"sigmoid\"),\n",
    "        tf.keras.layers.Reshape((28, 28)),\n",
    "    ],\n",
    "    name=\"decoder\",\n",
    ")"
   ]
  },
  {
   "cell_type": "markdown",
   "id": "817ea0f1",
   "metadata": {},
   "source": [
    "The autoencoder now simply takes the encoding layers and the decoding layers and puts them together:"
   ]
  },
  {
   "cell_type": "code",
   "execution_count": 23,
   "id": "955e7410",
   "metadata": {},
   "outputs": [],
   "source": [
    "autoencoder = tf.keras.Sequential([encoder, decoder])"
   ]
  },
  {
   "cell_type": "markdown",
   "id": "33201eae",
   "metadata": {},
   "source": [
    "Let's take a look at our autoencoder:"
   ]
  },
  {
   "cell_type": "code",
   "execution_count": 24,
   "id": "2e44c410",
   "metadata": {},
   "outputs": [
    {
     "name": "stdout",
     "output_type": "stream",
     "text": [
      "Model: \"sequential_2\"\n",
      "_________________________________________________________________\n",
      " Layer (type)                Output Shape              Param #   \n",
      "=================================================================\n",
      " encoder (Sequential)        (None, 64)                50240     \n",
      "                                                                 \n",
      " decoder (Sequential)        (None, 28, 28)            50960     \n",
      "                                                                 \n",
      "=================================================================\n",
      "Total params: 101,200\n",
      "Trainable params: 101,200\n",
      "Non-trainable params: 0\n",
      "_________________________________________________________________\n"
     ]
    }
   ],
   "source": [
    "autoencoder.summary()\n"
   ]
  },
  {
   "cell_type": "markdown",
   "id": "23026d03",
   "metadata": {},
   "source": [
    "This doesn't tell us much, since it doesn't break up the encoder and decoder. However, we can look at individual summaries:"
   ]
  },
  {
   "cell_type": "code",
   "execution_count": 25,
   "id": "89799da2",
   "metadata": {},
   "outputs": [
    {
     "name": "stdout",
     "output_type": "stream",
     "text": [
      "Model: \"encoder\"\n",
      "_________________________________________________________________\n",
      " Layer (type)                Output Shape              Param #   \n",
      "=================================================================\n",
      " flatten_1 (Flatten)         (None, 784)               0         \n",
      "                                                                 \n",
      " dense_7 (Dense)             (None, 64)                50240     \n",
      "                                                                 \n",
      "=================================================================\n",
      "Total params: 50,240\n",
      "Trainable params: 50,240\n",
      "Non-trainable params: 0\n",
      "_________________________________________________________________\n"
     ]
    }
   ],
   "source": [
    "encoder.summary()\n"
   ]
  },
  {
   "cell_type": "code",
   "execution_count": 26,
   "id": "3443a26e",
   "metadata": {},
   "outputs": [
    {
     "name": "stdout",
     "output_type": "stream",
     "text": [
      "Model: \"decoder\"\n",
      "_________________________________________________________________\n",
      " Layer (type)                Output Shape              Param #   \n",
      "=================================================================\n",
      " dense_8 (Dense)             (None, 784)               50960     \n",
      "                                                                 \n",
      " reshape (Reshape)           (None, 28, 28)            0         \n",
      "                                                                 \n",
      "=================================================================\n",
      "Total params: 50,960\n",
      "Trainable params: 50,960\n",
      "Non-trainable params: 0\n",
      "_________________________________________________________________\n"
     ]
    }
   ],
   "source": [
    "decoder.summary()\n"
   ]
  },
  {
   "cell_type": "markdown",
   "id": "f107f0a6",
   "metadata": {},
   "source": [
    "The output has the same shape as our original inputs - good!\n",
    "We also need to make sure that the output is even able to recreate the input. Consider that each image-pixel is a value between 0 and 1 (because we normalized it like this). Recall that `'sigmoid'` can take values between 0 and 1, so it seems ideal for our purposes!\n",
    "\n",
    "Let's now compile our model. For autoencoders, we usually use the `'mean_squared_error'` as a loss."
   ]
  },
  {
   "cell_type": "code",
   "execution_count": 27,
   "id": "08780222",
   "metadata": {},
   "outputs": [],
   "source": [
    "autoencoder.compile(optimizer=\"rmsprop\", loss=\"mean_squared_error\")"
   ]
  },
  {
   "cell_type": "markdown",
   "id": "9bb8e98a",
   "metadata": {},
   "source": [
    "After compiling, we can train the model. The important part is that we train the model to recreate the input. So what should our \"y\" be?"
   ]
  },
  {
   "cell_type": "code",
   "execution_count": 28,
   "id": "cf90c8e8",
   "metadata": {},
   "outputs": [
    {
     "name": "stdout",
     "output_type": "stream",
     "text": [
      "Epoch 1/10\n",
      "  1/782 [..............................] - ETA: 4:26 - loss: 0.1739"
     ]
    },
    {
     "name": "stderr",
     "output_type": "stream",
     "text": [
      "2023-02-24 10:32:31.651299: I tensorflow/core/grappler/optimizers/custom_graph_optimizer_registry.cc:114] Plugin optimizer for device_type GPU is enabled.\n"
     ]
    },
    {
     "name": "stdout",
     "output_type": "stream",
     "text": [
      "782/782 [==============================] - ETA: 0s - loss: 0.0312"
     ]
    },
    {
     "name": "stderr",
     "output_type": "stream",
     "text": [
      "2023-02-24 10:32:36.663465: I tensorflow/core/grappler/optimizers/custom_graph_optimizer_registry.cc:114] Plugin optimizer for device_type GPU is enabled.\n"
     ]
    },
    {
     "name": "stdout",
     "output_type": "stream",
     "text": [
      "782/782 [==============================] - 6s 7ms/step - loss: 0.0312 - val_loss: 0.0228\n",
      "Epoch 2/10\n",
      "782/782 [==============================] - 5s 7ms/step - loss: 0.0173 - val_loss: 0.0151\n",
      "Epoch 3/10\n",
      "782/782 [==============================] - 6s 7ms/step - loss: 0.0145 - val_loss: 0.0143\n",
      "Epoch 4/10\n",
      "782/782 [==============================] - 5s 7ms/step - loss: 0.0131 - val_loss: 0.0121\n",
      "Epoch 5/10\n",
      "782/782 [==============================] - 6s 7ms/step - loss: 0.0121 - val_loss: 0.0114\n",
      "Epoch 6/10\n",
      "782/782 [==============================] - 5s 6ms/step - loss: 0.0115 - val_loss: 0.0110\n",
      "Epoch 7/10\n",
      "782/782 [==============================] - 5s 7ms/step - loss: 0.0110 - val_loss: 0.0110\n",
      "Epoch 8/10\n",
      "782/782 [==============================] - 5s 6ms/step - loss: 0.0106 - val_loss: 0.0103\n",
      "Epoch 9/10\n",
      "782/782 [==============================] - 5s 6ms/step - loss: 0.0104 - val_loss: 0.0108\n",
      "Epoch 10/10\n",
      "782/782 [==============================] - 5s 6ms/step - loss: 0.0102 - val_loss: 0.0104\n"
     ]
    },
    {
     "data": {
      "text/plain": [
       "<keras.callbacks.History at 0x294cfc160>"
      ]
     },
     "execution_count": 28,
     "metadata": {},
     "output_type": "execute_result"
    }
   ],
   "source": [
    "autoencoder.fit(\n",
    "    x=X_train, y=X_train, epochs=10, batch_size=64, validation_data=(X_valid, X_valid)\n",
    ")"
   ]
  },
  {
   "cell_type": "markdown",
   "id": "8125c141",
   "metadata": {},
   "source": [
    "Now that we have trained the model, we can encode and decode our test data (we can either use the `autoencoder` directly to get the recreated data, or we can do so in two steps: first get the encoding, then use the encoding to recreate the data. We usually use the second approach in case we might want to better understand the encoding."
   ]
  },
  {
   "cell_type": "code",
   "execution_count": 29,
   "id": "b74e1d1f",
   "metadata": {},
   "outputs": [
    {
     "name": "stdout",
     "output_type": "stream",
     "text": [
      "(10000, 28, 28)\n",
      "(10000, 64)\n",
      "(10000, 28, 28)\n"
     ]
    }
   ],
   "source": [
    "encoded_imgs = encoder(X_test).numpy()\n",
    "decoded_imgs = decoder(encoded_imgs).numpy()\n",
    "print(X_test.shape)\n",
    "print(encoded_imgs.shape)\n",
    "print(decoded_imgs.shape)\n"
   ]
  },
  {
   "cell_type": "markdown",
   "id": "43bea54a",
   "metadata": {},
   "source": [
    "Let's look at some examples; both the original data and the recreated data:"
   ]
  },
  {
   "cell_type": "code",
   "execution_count": 30,
   "id": "5e74a07d",
   "metadata": {},
   "outputs": [
    {
     "data": {
      "image/png": "[encoded data removed]",
      "text/plain": [
       "<Figure size 1000x400 with 10 Axes>"
      ]
     },
     "metadata": {},
     "output_type": "display_data"
    }
   ],
   "source": [
    "n = 5\n",
    "plt.figure(figsize=(2 * n, 4))\n",
    "for i in range(n):\n",
    "    # display original\n",
    "    ax = plt.subplot(2, n, i + 1)\n",
    "    plt.imshow(X_test[i])\n",
    "    plt.title(\"original\")\n",
    "    plt.gray()\n",
    "    ax.get_xaxis().set_visible(False)\n",
    "    ax.get_yaxis().set_visible(False)\n",
    "\n",
    "    # display reconstruction\n",
    "    ax = plt.subplot(2, n, i + 1 + n)\n",
    "    plt.imshow(decoded_imgs[i])\n",
    "    plt.title(\"reconstructed\")\n",
    "    plt.gray()\n",
    "    ax.get_xaxis().set_visible(False)\n",
    "    ax.get_yaxis().set_visible(False)\n",
    "plt.show()"
   ]
  },
  {
   "cell_type": "markdown",
   "id": "0d755f72",
   "metadata": {},
   "source": [
    "Keep in mind that we only use $\\frac{64}{28*28} \\approx 8\\%$ of the features in the encoding, so this is quite the powerful result!\n",
    "\n",
    "What do you observe when you decrease the number of layers in the encoding even further?"
   ]
  },
  {
   "cell_type": "markdown",
   "id": "521e81db",
   "metadata": {},
   "source": [
    "## 2.2 Denoising data using an autoencoder"
   ]
  },
  {
   "cell_type": "markdown",
   "id": "44c1a6ba",
   "metadata": {},
   "source": [
    "We will now train an autoencoder to denoise images (you know, like the cliché geek in action thrillers). So let's create some noisy data - we add some normally distributed (\"Gaussian\") noise to the data. We also \"clip\" the data, to make sure that the pixel values are still between 0 and 1."
   ]
  },
  {
   "cell_type": "code",
   "execution_count": 31,
   "id": "40c6b6d0",
   "metadata": {},
   "outputs": [],
   "source": [
    "noise = 0.2\n",
    "\n",
    "X_train_noisy = X_train + noise * tf.random.normal(shape=X_train.shape)\n",
    "X_valid_noisy = X_valid + noise * tf.random.normal(shape=X_valid.shape)\n",
    "X_test_noisy = X_test + noise * tf.random.normal(shape=X_test.shape)\n",
    "\n",
    "X_train_noisy = tf.clip_by_value(X_train_noisy, clip_value_min=0.0, clip_value_max=1.0)\n",
    "X_valid_noisy = tf.clip_by_value(X_valid_noisy, clip_value_min=0.0, clip_value_max=1.0)\n",
    "X_test_noisy = tf.clip_by_value(X_test_noisy, clip_value_min=0.0, clip_value_max=1.0)"
   ]
  },
  {
   "cell_type": "markdown",
   "id": "cb413b32",
   "metadata": {},
   "source": [
    "Let's take a look at some images and their noisy version:"
   ]
  },
  {
   "cell_type": "code",
   "execution_count": 32,
   "id": "42c81088",
   "metadata": {},
   "outputs": [
    {
     "data": {
      "image/png": "[encoded data removed]",
      "text/plain": [
       "<Figure size 1000x400 with 10 Axes>"
      ]
     },
     "metadata": {},
     "output_type": "display_data"
    }
   ],
   "source": [
    "n = 5\n",
    "plt.figure(figsize=(2 * n, 4))\n",
    "for i in range(n):\n",
    "    # display original\n",
    "    ax = plt.subplot(2, n, i + 1)\n",
    "    plt.imshow(X_test[i])\n",
    "    plt.title(\"original\")\n",
    "    plt.gray()\n",
    "    ax.get_xaxis().set_visible(False)\n",
    "    ax.get_yaxis().set_visible(False)\n",
    "\n",
    "    # display reconstruction\n",
    "    ax = plt.subplot(2, n, i + 1 + n)\n",
    "    plt.imshow(X_test_noisy[i])\n",
    "    plt.title(\"original + noise\")\n",
    "    plt.gray()\n",
    "    ax.get_xaxis().set_visible(False)\n",
    "    ax.get_yaxis().set_visible(False)\n",
    "plt.show()"
   ]
  },
  {
   "cell_type": "markdown",
   "id": "f25ef206",
   "metadata": {},
   "source": [
    "Of course, you can increase or decrease the noise by simply changing the `noise` parameter."
   ]
  },
  {
   "cell_type": "markdown",
   "id": "cf4bc6e9",
   "metadata": {},
   "source": [
    "Let's now create an autoencoder. This will use convolutional layers - but don't worry, you don't need to know in detail what they do, we will get back to them in the next class.\n",
    "\n",
    "Start by creating an `encoder`, as before. However, instead of flattening the input and then using one `Dense` layer, we now use three different layers:\n",
    "1. a `Reshape` layer, with `tf.keras.layers.Reshape((28,28,1), input_shape=(28,28))` (this is because convolutional layers work with 3 dimensions, so we convert our matrices into 3-dimensional arrays, where the last dimension simply has size 1 - so basically still a matrix)\n",
    "1. a `Conv2D` layer, with `tf.keras.layers.Conv2D(16, (3, 3), activation='relu', padding='same', strides=2)`\n",
    "1. a `Conv2D` layer, with `tf.keras.layers.Conv2D(8, (3, 3), activation='relu', padding='same', strides=2)`"
   ]
  },
  {
   "cell_type": "code",
   "execution_count": 33,
   "id": "de893923",
   "metadata": {},
   "outputs": [],
   "source": [
    "encoder = tf.keras.Sequential(\n",
    "    [\n",
    "        tf.keras.layers.Reshape((28, 28, 1), input_shape=(28, 28)),\n",
    "        tf.keras.layers.Conv2D(\n",
    "            16, (3, 3), activation=\"relu\", padding=\"same\", strides=2\n",
    "        ),\n",
    "        tf.keras.layers.Conv2D(8, (3, 3), activation=\"relu\", padding=\"same\", strides=2),\n",
    "    ],\n",
    "    name=\"encoder\",\n",
    ")"
   ]
  },
  {
   "cell_type": "markdown",
   "id": "3d77e484",
   "metadata": {},
   "source": [
    "Next, create a `decoder`. Again, this is simply a `Sequential` model, that basically builds a symmetric version of the `encoder`. This time, we need three layers:\n",
    "1. a `Conv2DTranspose` layer (basically inverting a convolutional layer), with `tf.keras.layers.Conv2DTranspose(8, kernel_size=3, strides=2, activation='relu', padding='same')`\n",
    "1. another `Conv2DTranspose` layer, with `tf.keras.layers.Conv2DTranspose(16, kernel_size=3, strides=2, activation='relu', padding='same')`\n",
    "1. a `Conv2D` layer, that allows use to recreate the output, with `tf.keras.layers.Conv2D(1, kernel_size=(3, 3), activation='sigmoid', padding='same')`"
   ]
  },
  {
   "cell_type": "code",
   "execution_count": 40,
   "id": "fefe8792",
   "metadata": {},
   "outputs": [],
   "source": [
    "decoder = tf.keras.Sequential(\n",
    "    [\n",
    "        tf.keras.layers.Conv2DTranspose(\n",
    "            8, kernel_size=3, strides=2, activation=\"relu\", padding=\"same\"\n",
    "        ),\n",
    "        tf.keras.layers.Conv2DTranspose(\n",
    "            16, kernel_size=3, strides=2, activation=\"relu\", padding=\"same\"\n",
    "        ),\n",
    "        tf.keras.layers.Conv2D(\n",
    "            1, kernel_size=(3, 3), activation=\"sigmoid\", padding=\"same\"\n",
    "        ),\n",
    "    ],\n",
    "    name=\"decoder\",\n",
    ")"
   ]
  },
  {
   "cell_type": "markdown",
   "id": "d3da8a3d",
   "metadata": {},
   "source": [
    "Do you see why the output is able to recreate the input? What is the critical ingredient here?"
   ]
  },
  {
   "cell_type": "markdown",
   "id": "0a86eb8c",
   "metadata": {},
   "source": [
    "We can now combine everything into an `autoencoder`, exactly as we did before:"
   ]
  },
  {
   "cell_type": "code",
   "execution_count": 41,
   "id": "d024321d",
   "metadata": {},
   "outputs": [],
   "source": [
    "autoencoder = tf.keras.Sequential([encoder, decoder])"
   ]
  },
  {
   "cell_type": "markdown",
   "id": "44d0666e",
   "metadata": {},
   "source": [
    "Next, take a look at the summary of the `encoder`:"
   ]
  },
  {
   "cell_type": "code",
   "execution_count": 42,
   "id": "e9c93d22",
   "metadata": {},
   "outputs": [
    {
     "name": "stdout",
     "output_type": "stream",
     "text": [
      "Model: \"encoder\"\n",
      "_________________________________________________________________\n",
      " Layer (type)                Output Shape              Param #   \n",
      "=================================================================\n",
      " reshape_1 (Reshape)         (None, 28, 28, 1)         0         \n",
      "                                                                 \n",
      " conv2d (Conv2D)             (None, 14, 14, 16)        160       \n",
      "                                                                 \n",
      " conv2d_1 (Conv2D)           (None, 7, 7, 8)           1160      \n",
      "                                                                 \n",
      "=================================================================\n",
      "Total params: 1,320\n",
      "Trainable params: 1,320\n",
      "Non-trainable params: 0\n",
      "_________________________________________________________________\n"
     ]
    }
   ],
   "source": [
    "encoder.summary()\n"
   ]
  },
  {
   "cell_type": "markdown",
   "id": "de5b18c1",
   "metadata": {},
   "source": [
    "Compare the dimensions of the original input with the dimension of the encoding. How much smaller is our encoding compared to the original data?"
   ]
  },
  {
   "cell_type": "code",
   "execution_count": 48,
   "id": "7d44ba39",
   "metadata": {},
   "outputs": [
    {
     "data": {
      "text/plain": [
       "(None, 28, 28)"
      ]
     },
     "execution_count": 48,
     "metadata": {},
     "output_type": "execute_result"
    }
   ],
   "source": [
    "encoder.input_shape"
   ]
  },
  {
   "cell_type": "code",
   "execution_count": 49,
   "id": "1a432ee3",
   "metadata": {},
   "outputs": [
    {
     "data": {
      "text/plain": [
       "(None, 7, 7, 8)"
      ]
     },
     "execution_count": 49,
     "metadata": {},
     "output_type": "execute_result"
    }
   ],
   "source": [
    "encoder.output_shape"
   ]
  },
  {
   "cell_type": "markdown",
   "id": "25a4242b",
   "metadata": {},
   "source": [
    "Let's also take a look at the decoding process:"
   ]
  },
  {
   "cell_type": "code",
   "execution_count": 44,
   "id": "4f59285d",
   "metadata": {},
   "outputs": [
    {
     "name": "stdout",
     "output_type": "stream",
     "text": [
      "Model: \"decoder\"\n",
      "_________________________________________________________________\n",
      " Layer (type)                Output Shape              Param #   \n",
      "=================================================================\n",
      " conv2d_transpose_2 (Conv2DT  (None, 14, 14, 8)        584       \n",
      " ranspose)                                                       \n",
      "                                                                 \n",
      " conv2d_transpose_3 (Conv2DT  (None, 28, 28, 16)       1168      \n",
      " ranspose)                                                       \n",
      "                                                                 \n",
      " conv2d_3 (Conv2D)           (None, 28, 28, 1)         145       \n",
      "                                                                 \n",
      "=================================================================\n",
      "Total params: 1,897\n",
      "Trainable params: 1,897\n",
      "Non-trainable params: 0\n",
      "_________________________________________________________________\n"
     ]
    }
   ],
   "source": [
    "decoder.summary()\n"
   ]
  },
  {
   "cell_type": "markdown",
   "id": "3f88c0aa",
   "metadata": {},
   "source": [
    "Next, compile the `autoencoder`. As before, we use the `'mean_squared_error'` as a loss and `'rmsprop'` as an optimizer:"
   ]
  },
  {
   "cell_type": "code",
   "execution_count": null,
   "id": "3e8ef19d",
   "metadata": {},
   "outputs": [],
   "source": []
  },
  {
   "cell_type": "markdown",
   "id": "37800d91",
   "metadata": {},
   "source": [
    "Finally, we need to train our `autoencoder`. Remember that we are taking the noisy image and then trying to predict the original one (**not** the noisy one) - so make sure to set the right \"y\" values for both training and validation.\n",
    "\n",
    "Then, run the training for 10 `epochs` using a `batch_size` of 32 - this might take a bit, so it's a good time for a break."
   ]
  },
  {
   "cell_type": "code",
   "execution_count": null,
   "id": "78cf8404",
   "metadata": {},
   "outputs": [],
   "source": [
    "\n"
   ]
  },
  {
   "cell_type": "markdown",
   "id": "a63c62e4",
   "metadata": {},
   "source": [
    "Let's create again the encodings of the (noisy) test images, as well as the decoded version:"
   ]
  },
  {
   "cell_type": "code",
   "execution_count": null,
   "id": "fd5bf17c",
   "metadata": {},
   "outputs": [],
   "source": [
    "encoded_imgs = encoder(X_test_noisy).numpy()\n",
    "decoded_imgs = decoder(encoded_imgs).numpy()\n",
    "\n",
    "print(X_test.shape)\n",
    "print(encoded_imgs.shape)\n",
    "print(decoded_imgs.shape)\n"
   ]
  },
  {
   "cell_type": "markdown",
   "id": "a1c46f19",
   "metadata": {},
   "source": [
    "We can plot all three: original images, noisy versions, and decoded original images:"
   ]
  },
  {
   "cell_type": "code",
   "execution_count": null,
   "id": "2fc830a6",
   "metadata": {},
   "outputs": [],
   "source": [
    "n = 5\n",
    "plt.figure(figsize=(2 * n, 6))\n",
    "for i in range(n):\n",
    "    # display original\n",
    "    ax = plt.subplot(3, n, i + 1)\n",
    "    plt.title(\"original\")\n",
    "    plt.imshow(tf.squeeze(X_test[i]))\n",
    "    plt.gray()\n",
    "    ax.get_xaxis().set_visible(False)\n",
    "    ax.get_yaxis().set_visible(False)\n",
    "\n",
    "    # display original + noise\n",
    "    bx = plt.subplot(3, n, i + n + 1)\n",
    "    plt.title(\"original + noise\")\n",
    "    plt.imshow(tf.squeeze(X_test_noisy[i]))\n",
    "    plt.gray()\n",
    "    bx.get_xaxis().set_visible(False)\n",
    "    bx.get_yaxis().set_visible(False)\n",
    "\n",
    "    # display reconstruction\n",
    "    cx = plt.subplot(3, n, i + 2 * n + 1)\n",
    "    plt.title(\"reconstructed\")\n",
    "    plt.imshow(tf.squeeze(decoded_imgs[i]))\n",
    "    plt.gray()\n",
    "    cx.get_xaxis().set_visible(False)\n",
    "    cx.get_yaxis().set_visible(False)\n",
    "plt.show()"
   ]
  },
  {
   "cell_type": "markdown",
   "id": "ff660055",
   "metadata": {},
   "source": [
    "Not at the level of an action thriller yet, but pretty good for a very basic neural network without much tuning!"
   ]
  }
 ],
 "metadata": {
  "interpreter": {
   "hash": "aee8b7b246df8f9039afb4144a1f6fd8d2ca17a180786b69acc140d282b71a49"
  },
  "kernelspec": {
   "display_name": "Python 3.10.1 64-bit",
   "language": "python",
   "name": "python3"
  },
  "language_info": {
   "codemirror_mode": {
    "name": "ipython",
    "version": 3
   },
   "file_extension": ".py",
   "mimetype": "text/x-python",
   "name": "python",
   "nbconvert_exporter": "python",
   "pygments_lexer": "ipython3",
   "version": "3.10.1"
  }
 },
 "nbformat": 4,
 "nbformat_minor": 5
}
