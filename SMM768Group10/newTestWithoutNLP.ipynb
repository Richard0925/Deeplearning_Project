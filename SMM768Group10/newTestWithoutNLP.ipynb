{
 "cells": [
  {
   "cell_type": "code",
   "execution_count": 1,
   "metadata": {},
   "outputs": [],
   "source": [
    "import tensorflow as tf\n",
    "import numpy as np\n",
    "import pandas as pd\n",
    "from sklearn.model_selection import train_test_split\n",
    "import matplotlib.pyplot as plt\n",
    "import datetime\n",
    "import os\n",
    "import random\n",
    "import keras_tuner as kt\n",
    "from sklearn.metrics import f1_score\n",
    "from sklearn.preprocessing import MinMaxScaler\n",
    "from sklearn.preprocessing import StandardScaler\n",
    "from sklearn.metrics import confusion_matrix\n",
    "from tensorflow import math\n",
    "from sklearn.tree import DecisionTreeClassifier\n",
    "from sklearn.metrics import accuracy_score, precision_score, recall_score\n",
    "from tensorflow.keras.models import Model\n",
    "from tensorflow.keras import layers, losses\n",
    "from imblearn.over_sampling import SMOTE\n",
    "from sklearn.metrics import classification_report\n",
    "from tensorflow.keras.models import Sequential\n",
    "from tensorflow.keras.layers import Dense\n",
    "from sklearn.ensemble import RandomForestClassifier\n",
    "from tensorflow.keras.layers import Dense, Dropout"
   ]
  },
  {
   "cell_type": "code",
   "execution_count": 3,
   "metadata": {},
   "outputs": [],
   "source": [
    "# pd.set_option('display.max_rows', None)"
   ]
  },
  {
   "cell_type": "code",
   "execution_count": 3,
   "metadata": {},
   "outputs": [
    {
     "data": {
      "text/html": [
       "<div>\n",
       "<style scoped>\n",
       "    .dataframe tbody tr th:only-of-type {\n",
       "        vertical-align: middle;\n",
       "    }\n",
       "\n",
       "    .dataframe tbody tr th {\n",
       "        vertical-align: top;\n",
       "    }\n",
       "\n",
       "    .dataframe thead th {\n",
       "        text-align: right;\n",
       "    }\n",
       "</style>\n",
       "<table border=\"1\" class=\"dataframe\">\n",
       "  <thead>\n",
       "    <tr style=\"text-align: right;\">\n",
       "      <th></th>\n",
       "      <th>ReferenceId</th>\n",
       "      <th>PolicyholderNumber</th>\n",
       "      <th>FirstPartyVehicleNumber</th>\n",
       "      <th>ThirdPartyVehicleNumber</th>\n",
       "      <th>InsurerNotes</th>\n",
       "      <th>PolicyholderOccupation</th>\n",
       "      <th>LossDate</th>\n",
       "      <th>FirstPolicySubscriptionDate</th>\n",
       "      <th>ClaimCause</th>\n",
       "      <th>ClaimInvolvedCovers</th>\n",
       "      <th>...</th>\n",
       "      <th>NumberOfPoliciesOfPolicyholder</th>\n",
       "      <th>FpVehicleAgeMonths</th>\n",
       "      <th>EasinessToStage</th>\n",
       "      <th>ClaimWihoutIdentifiedThirdParty</th>\n",
       "      <th>ClaimAmount</th>\n",
       "      <th>LossHour</th>\n",
       "      <th>PolicyHolderAge</th>\n",
       "      <th>NumberOfBodilyInjuries</th>\n",
       "      <th>FirstPartyLiability</th>\n",
       "      <th>Fraud</th>\n",
       "    </tr>\n",
       "  </thead>\n",
       "  <tbody>\n",
       "    <tr>\n",
       "      <th>0</th>\n",
       "      <td>4842</td>\n",
       "      <td>531112</td>\n",
       "      <td>715507.0</td>\n",
       "      <td>NaN</td>\n",
       "      <td>avoids a cat and hits a garage pole With deduc...</td>\n",
       "      <td>CivilServant</td>\n",
       "      <td>1/2/19</td>\n",
       "      <td>6/18/18</td>\n",
       "      <td>CollisionWithAnimal</td>\n",
       "      <td>MaterialDamages ActLiability</td>\n",
       "      <td>...</td>\n",
       "      <td>1</td>\n",
       "      <td>104.0</td>\n",
       "      <td>0.25</td>\n",
       "      <td>1</td>\n",
       "      <td>4624.73</td>\n",
       "      <td>8.0</td>\n",
       "      <td>45.0</td>\n",
       "      <td>0</td>\n",
       "      <td>1.0</td>\n",
       "      <td>0</td>\n",
       "    </tr>\n",
       "    <tr>\n",
       "      <th>1</th>\n",
       "      <td>4844</td>\n",
       "      <td>87170</td>\n",
       "      <td>71164.0</td>\n",
       "      <td>NaN</td>\n",
       "      <td>accident only expert contacts us to inform us ...</td>\n",
       "      <td>Worker</td>\n",
       "      <td>1/2/19</td>\n",
       "      <td>6/29/17</td>\n",
       "      <td>LossOfControl</td>\n",
       "      <td>MaterialDamages ActLiability</td>\n",
       "      <td>...</td>\n",
       "      <td>3</td>\n",
       "      <td>230.0</td>\n",
       "      <td>0.50</td>\n",
       "      <td>1</td>\n",
       "      <td>1606.81</td>\n",
       "      <td>11.0</td>\n",
       "      <td>20.0</td>\n",
       "      <td>0</td>\n",
       "      <td>1.0</td>\n",
       "      <td>0</td>\n",
       "    </tr>\n",
       "    <tr>\n",
       "      <th>2</th>\n",
       "      <td>4848</td>\n",
       "      <td>98706</td>\n",
       "      <td>442609.0</td>\n",
       "      <td>NaN</td>\n",
       "      <td>ae Miss/ for garage change A/ setting up EAD/ ...</td>\n",
       "      <td>Worker</td>\n",
       "      <td>1/2/19</td>\n",
       "      <td>2/5/17</td>\n",
       "      <td>AccidentWithIdentifiedThirdParty</td>\n",
       "      <td>MaterialDamages ActLiability</td>\n",
       "      <td>...</td>\n",
       "      <td>9</td>\n",
       "      <td>93.0</td>\n",
       "      <td>0.25</td>\n",
       "      <td>0</td>\n",
       "      <td>998.20</td>\n",
       "      <td>18.0</td>\n",
       "      <td>32.0</td>\n",
       "      <td>0</td>\n",
       "      <td>0.5</td>\n",
       "      <td>0</td>\n",
       "    </tr>\n",
       "    <tr>\n",
       "      <th>3</th>\n",
       "      <td>4849</td>\n",
       "      <td>38240</td>\n",
       "      <td>24604.0</td>\n",
       "      <td>NaN</td>\n",
       "      <td>awaiting report to determine rc, no box checke...</td>\n",
       "      <td>CivilServant</td>\n",
       "      <td>1/2/19</td>\n",
       "      <td>1/21/17</td>\n",
       "      <td>AccidentWithIdentifiedThirdParty</td>\n",
       "      <td>MaterialDamages ActLiability ReplacementVehicle</td>\n",
       "      <td>...</td>\n",
       "      <td>2</td>\n",
       "      <td>56.0</td>\n",
       "      <td>0.25</td>\n",
       "      <td>0</td>\n",
       "      <td>2506.92</td>\n",
       "      <td>11.0</td>\n",
       "      <td>46.0</td>\n",
       "      <td>0</td>\n",
       "      <td>0.5</td>\n",
       "      <td>0</td>\n",
       "    </tr>\n",
       "    <tr>\n",
       "      <th>4</th>\n",
       "      <td>4850</td>\n",
       "      <td>11339</td>\n",
       "      <td>2933.0</td>\n",
       "      <td>229134.0</td>\n",
       "      <td>Insured in THIRD-PARTY formula Insured in a su...</td>\n",
       "      <td>Farmer</td>\n",
       "      <td>1/2/19</td>\n",
       "      <td>1/13/18</td>\n",
       "      <td>AccidentWithIdentifiedThirdParty</td>\n",
       "      <td>ActLiability</td>\n",
       "      <td>...</td>\n",
       "      <td>4</td>\n",
       "      <td>110.0</td>\n",
       "      <td>0.25</td>\n",
       "      <td>0</td>\n",
       "      <td>12.00</td>\n",
       "      <td>12.0</td>\n",
       "      <td>28.0</td>\n",
       "      <td>0</td>\n",
       "      <td>0.0</td>\n",
       "      <td>0</td>\n",
       "    </tr>\n",
       "  </tbody>\n",
       "</table>\n",
       "<p>5 rows × 26 columns</p>\n",
       "</div>"
      ],
      "text/plain": [
       "   ReferenceId  PolicyholderNumber  FirstPartyVehicleNumber  \\\n",
       "0         4842              531112                 715507.0   \n",
       "1         4844               87170                  71164.0   \n",
       "2         4848               98706                 442609.0   \n",
       "3         4849               38240                  24604.0   \n",
       "4         4850               11339                   2933.0   \n",
       "\n",
       "   ThirdPartyVehicleNumber                                       InsurerNotes  \\\n",
       "0                      NaN  avoids a cat and hits a garage pole With deduc...   \n",
       "1                      NaN  accident only expert contacts us to inform us ...   \n",
       "2                      NaN  ae Miss/ for garage change A/ setting up EAD/ ...   \n",
       "3                      NaN  awaiting report to determine rc, no box checke...   \n",
       "4                 229134.0  Insured in THIRD-PARTY formula Insured in a su...   \n",
       "\n",
       "  PolicyholderOccupation LossDate FirstPolicySubscriptionDate  \\\n",
       "0           CivilServant   1/2/19                     6/18/18   \n",
       "1                 Worker   1/2/19                     6/29/17   \n",
       "2                 Worker   1/2/19                      2/5/17   \n",
       "3           CivilServant   1/2/19                     1/21/17   \n",
       "4                 Farmer   1/2/19                     1/13/18   \n",
       "\n",
       "                         ClaimCause  \\\n",
       "0               CollisionWithAnimal   \n",
       "1                     LossOfControl   \n",
       "2  AccidentWithIdentifiedThirdParty   \n",
       "3  AccidentWithIdentifiedThirdParty   \n",
       "4  AccidentWithIdentifiedThirdParty   \n",
       "\n",
       "                               ClaimInvolvedCovers  ...  \\\n",
       "0                     MaterialDamages ActLiability  ...   \n",
       "1                     MaterialDamages ActLiability  ...   \n",
       "2                     MaterialDamages ActLiability  ...   \n",
       "3  MaterialDamages ActLiability ReplacementVehicle  ...   \n",
       "4                                     ActLiability  ...   \n",
       "\n",
       "  NumberOfPoliciesOfPolicyholder FpVehicleAgeMonths EasinessToStage  \\\n",
       "0                              1              104.0            0.25   \n",
       "1                              3              230.0            0.50   \n",
       "2                              9               93.0            0.25   \n",
       "3                              2               56.0            0.25   \n",
       "4                              4              110.0            0.25   \n",
       "\n",
       "  ClaimWihoutIdentifiedThirdParty ClaimAmount  LossHour  PolicyHolderAge  \\\n",
       "0                               1     4624.73       8.0             45.0   \n",
       "1                               1     1606.81      11.0             20.0   \n",
       "2                               0      998.20      18.0             32.0   \n",
       "3                               0     2506.92      11.0             46.0   \n",
       "4                               0       12.00      12.0             28.0   \n",
       "\n",
       "   NumberOfBodilyInjuries  FirstPartyLiability  Fraud  \n",
       "0                       0                  1.0      0  \n",
       "1                       0                  1.0      0  \n",
       "2                       0                  0.5      0  \n",
       "3                       0                  0.5      0  \n",
       "4                       0                  0.0      0  \n",
       "\n",
       "[5 rows x 26 columns]"
      ]
     },
     "execution_count": 3,
     "metadata": {},
     "output_type": "execute_result"
    }
   ],
   "source": [
    "insurance_df = pd.read_csv(\"Insurance_claims.csv\")\n",
    "insurance_df.head()"
   ]
  },
  {
   "cell_type": "markdown",
   "metadata": {},
   "source": [
    "### For Q1, you need to describe the hit rate and detection rate metrics and their trade-off, and evaluate a model with given rates in monetary terms. Consider the following:\n",
    "\n",
    "Hit Rate (Conversion Rate): Measures the model's effectiveness in identifying true fraud cases among the cases it flags. It's the ratio of true positives to the total flagged cases.\n",
    "\n",
    "Detection Rate: Measures the model's ability to identify fraud cases from the entire dataset. It's the ratio of true positives to the total actual fraud cases.\n",
    "\n",
    "Trade-off: Focusing solely on increasing the hit rate might decrease the detection rate as the model becomes too conservative, flagging only high-confidence cases. Conversely, aiming to increase the detection rate might decrease the hit rate as the model flags more cases, including more false positives.\n",
    "\n",
    "Monetary Evaluation: Evaluate a model by considering the costs and savings involved. This includes the cost of false positives (incorrectly flagged cases), the cost of missed frauds (false negatives), the cost of investigating true positives, and the fixed capacity of investigation departments. Balancing these costs against the savings from identifying frauds gives a monetary value to the model's performance.\n",
    "\n",
    "Remember to account for the fixed capacity of the investigation department, meaning that the investigation cost doesn't linearly increase with the number of flagged cases but is limited to the department's capacity. This affects the trade-off between the hit rate and detection rate and should be factored into the cost computation."
   ]
  },
  {
   "cell_type": "code",
   "execution_count": 4,
   "metadata": {},
   "outputs": [
    {
     "data": {
      "text/plain": [
       "ReferenceId                            0\n",
       "NumberOfBodilyInjuries                 0\n",
       "ClaimAmount                            0\n",
       "ClaimWihoutIdentifiedThirdParty        0\n",
       "EasinessToStage                        0\n",
       "NumberOfPoliciesOfPolicyholder         0\n",
       "PolicyWasSubscribedOnInternet          0\n",
       "PolicyHolderPostCode                   0\n",
       "FirstPartyLiability                    0\n",
       "Fraud                                  0\n",
       "FirstPolicySubscriptionDate            0\n",
       "LossDate                               0\n",
       "PolicyholderNumber                     0\n",
       "FirstPartyVehicleType                 12\n",
       "FpVehicleAgeMonths                    12\n",
       "PolicyHolderAge                       36\n",
       "LossHour                              94\n",
       "ClaimInvolvedCovers                  195\n",
       "ClaimCause                           197\n",
       "PolicyholderOccupation               343\n",
       "FirstPartyVehicleNumber              495\n",
       "LossPostCode                        1408\n",
       "InsurerNotes                        2357\n",
       "DamageImportance                   10792\n",
       "ThirdPartyVehicleNumber            11151\n",
       "ConnectionBetweenParties           11432\n",
       "dtype: int64"
      ]
     },
     "execution_count": 4,
     "metadata": {},
     "output_type": "execute_result"
    }
   ],
   "source": [
    "insurance_df.isna().sum().sort_values()"
   ]
  },
  {
   "cell_type": "code",
   "execution_count": 5,
   "metadata": {},
   "outputs": [
    {
     "data": {
      "text/plain": [
       "0    144.0\n",
       "Name: FpVehicleAgeMonths, dtype: float64"
      ]
     },
     "execution_count": 5,
     "metadata": {},
     "output_type": "execute_result"
    }
   ],
   "source": [
    "insurance_df['FpVehicleAgeMonths'].mode()"
   ]
  },
  {
   "cell_type": "code",
   "execution_count": 7,
   "metadata": {},
   "outputs": [
    {
     "name": "stderr",
     "output_type": "stream",
     "text": [
      "/Library/Frameworks/Python.framework/Versions/3.10/lib/python3.10/site-packages/sklearn/utils/deprecation.py:87: FutureWarning: Function get_feature_names is deprecated; get_feature_names is deprecated in 1.0 and will be removed in 1.2. Please use get_feature_names_out instead.\n",
      "  warnings.warn(msg, category=FutureWarning)\n"
     ]
    }
   ],
   "source": [
    "from sklearn.feature_extraction.text import TfidfVectorizer\n",
    "\n",
    "insurance_df = pd.read_csv(\"Insurance_claims.csv\")\n",
    "# Sample data\n",
    "text_data = insurance_df['InsurerNotes'].fillna(\"nonSpecified\")  # replace 'text_column_name' with your actual column name\n",
    "\n",
    "# Create the transform\n",
    "vectorizer = TfidfVectorizer(max_features=500, min_df=5, max_df=0.75, stop_words='english')\n",
    "\n",
    "# Tokenize and build vocab\n",
    "X_tfidf = vectorizer.fit_transform(text_data)\n",
    "\n",
    "# Convert the result to a dense DataFrame\n",
    "df_tfidf = pd.DataFrame(X_tfidf.toarray(), columns=vectorizer.get_feature_names())\n"
   ]
  },
  {
   "cell_type": "code",
   "execution_count": 6,
   "metadata": {},
   "outputs": [
    {
     "name": "stderr",
     "output_type": "stream",
     "text": [
      "/var/folders/k6/934yyy2n5_vf8y3c9cw39gcr0000gn/T/ipykernel_20304/3282033013.py:7: UserWarning: Could not infer format, so each element will be parsed individually, falling back to `dateutil`. To ensure parsing is consistent and as-expected, please specify a format.\n",
      "  insurance_df[\"LossDate\"] = pd.to_datetime(insurance_df[\"LossDate\"])\n",
      "/var/folders/k6/934yyy2n5_vf8y3c9cw39gcr0000gn/T/ipykernel_20304/3282033013.py:10: UserWarning: Could not infer format, so each element will be parsed individually, falling back to `dateutil`. To ensure parsing is consistent and as-expected, please specify a format.\n",
      "  insurance_df[\"FirstPolicySubscriptionDate\"] = pd.to_datetime(insurance_df[\"FirstPolicySubscriptionDate\"])\n"
     ]
    }
   ],
   "source": [
    "# insurance_df = pd.read_csv(\"Insurance_claims.csv\")\n",
    "\n",
    "insurance_df = insurance_df.drop(\n",
    "    columns=[\"ReferenceId\", \"PolicyholderNumber\",\"InsurerNotes\"]\n",
    ")\n",
    "\n",
    "insurance_df[\"LossDate\"] = pd.to_datetime(insurance_df[\"LossDate\"])\n",
    "\n",
    "insurance_df[\"LossDate\"] = pd.to_datetime(insurance_df[\"LossDate\"])\n",
    "insurance_df[\"FirstPolicySubscriptionDate\"] = pd.to_datetime(insurance_df[\"FirstPolicySubscriptionDate\"])\n",
    "\n",
    "# calculate the number of days between the two dates\n",
    "insurance_df[\"days_between\"] = insurance_df.apply(\n",
    "    lambda row: (row[\"LossDate\"] - row[\"FirstPolicySubscriptionDate\"]).days, axis=1\n",
    ")\n",
    "\n",
    "insurance_df = insurance_df.drop(columns=[\"LossDate\", \"FirstPolicySubscriptionDate\"])\n",
    "\n",
    "# Convert the columns to integer type\n",
    "insurance_df['LossPostCode'] = pd.to_numeric(insurance_df['LossPostCode'], errors='coerce')\n",
    "insurance_df['PolicyHolderPostCode'] = pd.to_numeric(insurance_df['PolicyHolderPostCode'], errors='coerce')\n",
    "\n",
    "insurance_df['FirstPartyVehicleNumber_DupCount'] = insurance_df['FirstPartyVehicleNumber'].transform(lambda x: x.map(x.value_counts()))\n",
    "insurance_df['FirstPartyVehicleNumber_DupCount'] = insurance_df['FirstPartyVehicleNumber_DupCount'].fillna(0)\n",
    "insurance_df[\"FirstPartyVehicleNumber\"] = insurance_df[\"FirstPartyVehicleNumber\"].fillna(0)\n",
    "\n",
    "insurance_df['ThirdPartyVehicleNumber_DupCount'] = insurance_df['ThirdPartyVehicleNumber'].transform(lambda x: x.map(x.value_counts()))\n",
    "insurance_df[\"ThirdPartyVehicleNumber_DupCount\"] = insurance_df[\"ThirdPartyVehicleNumber_DupCount\"].fillna(0)\n",
    "insurance_df[\"ThirdPartyVehicleNumber\"] = insurance_df[\"ThirdPartyVehicleNumber\"].fillna(0)\n",
    "\n",
    "\n",
    "insurance_df['PolicyholderOccupation'] = insurance_df['PolicyholderOccupation'].fillna('nonSpecified')\n",
    "insurance_df['ClaimCause'] = insurance_df['ClaimCause'].fillna('nonSpecified')\n",
    "insurance_df['ClaimInvolvedCovers'] = insurance_df['ClaimInvolvedCovers'].fillna('nonSpecified')\n",
    "insurance_df[\"DamageImportance\"] = insurance_df[\"DamageImportance\"].fillna('nonSpecified')\n",
    "insurance_df['FirstPartyVehicleType'] = insurance_df['FirstPartyVehicleType'].fillna('nonSpecified')\n",
    "insurance_df['ConnectionBetweenParties'] = insurance_df['ConnectionBetweenParties'].fillna('nonSpecified')\n",
    "insurance_df[\"LossPostCode\"] = insurance_df[\"LossPostCode\"].fillna(0)\n",
    "insurance_df['EasinessToStage'] = insurance_df['EasinessToStage'].fillna(insurance_df['EasinessToStage'].mean())\n",
    "insurance_df['FpVehicleAgeMonths'] = insurance_df['FpVehicleAgeMonths'].fillna(insurance_df['FpVehicleAgeMonths'].mode()[0])\n",
    "insurance_df['LossHour'] = insurance_df['LossHour'].fillna(insurance_df['LossHour'].mean())\n",
    "insurance_df['PolicyHolderAge'] = insurance_df['PolicyHolderAge'].fillna(insurance_df['PolicyHolderAge'].mean())\n",
    "insurance_df['PolicyHolderPostCode'] = insurance_df['PolicyHolderPostCode'].fillna(insurance_df['PolicyHolderPostCode'].mode()[0])\n",
    "\n",
    "\n",
    "# check the two postcodes\n",
    "def compare_digits(x, y):\n",
    "    x_len = len(str(x))\n",
    "    y_len = len(str(y))\n",
    "    if x_len == y_len:\n",
    "        if x_len == 5:\n",
    "            return str(x)[:2] == str(y)[:2]\n",
    "        elif x_len == 4:\n",
    "            return str(x)[0] == str(y)[0]\n",
    "        else:\n",
    "            return False\n",
    "    else:\n",
    "        return False\n",
    "\n",
    "\n",
    "# check if the loss place is in the same district of the holder's place\n",
    "insurance_df[\"IfinSameArea\"] = insurance_df.apply(\n",
    "    lambda row: 1\n",
    "    if compare_digits(row[\"LossPostCode\"], row[\"PolicyHolderPostCode\"])\n",
    "    else 0,\n",
    "    axis=1,\n",
    ")"
   ]
  },
  {
   "cell_type": "code",
   "execution_count": 7,
   "metadata": {},
   "outputs": [
    {
     "data": {
      "text/plain": [
       "FirstPartyVehicleNumber             0\n",
       "ThirdPartyVehicleNumber             0\n",
       "PolicyholderOccupation              0\n",
       "ClaimCause                          0\n",
       "ClaimInvolvedCovers                 0\n",
       "DamageImportance                    0\n",
       "FirstPartyVehicleType               0\n",
       "ConnectionBetweenParties            0\n",
       "LossPostCode                        0\n",
       "PolicyHolderPostCode                0\n",
       "PolicyWasSubscribedOnInternet       0\n",
       "NumberOfPoliciesOfPolicyholder      0\n",
       "FpVehicleAgeMonths                  0\n",
       "EasinessToStage                     0\n",
       "ClaimWihoutIdentifiedThirdParty     0\n",
       "ClaimAmount                         0\n",
       "LossHour                            0\n",
       "PolicyHolderAge                     0\n",
       "NumberOfBodilyInjuries              0\n",
       "FirstPartyLiability                 0\n",
       "Fraud                               0\n",
       "days_between                        0\n",
       "FirstPartyVehicleNumber_DupCount    0\n",
       "ThirdPartyVehicleNumber_DupCount    0\n",
       "IfinSameArea                        0\n",
       "dtype: int64"
      ]
     },
     "execution_count": 7,
     "metadata": {},
     "output_type": "execute_result"
    }
   ],
   "source": [
    "insurance_df.isna().sum()"
   ]
  },
  {
   "cell_type": "code",
   "execution_count": 8,
   "metadata": {},
   "outputs": [
    {
     "data": {
      "text/plain": [
       "['PolicyholderOccupation',\n",
       " 'ClaimCause',\n",
       " 'ClaimInvolvedCovers',\n",
       " 'DamageImportance',\n",
       " 'FirstPartyVehicleType',\n",
       " 'ConnectionBetweenParties']"
      ]
     },
     "execution_count": 8,
     "metadata": {},
     "output_type": "execute_result"
    }
   ],
   "source": [
    "object_columns = insurance_df.select_dtypes(include=['object']).columns.tolist()\n",
    "object_columns"
   ]
  },
  {
   "cell_type": "code",
   "execution_count": 9,
   "metadata": {},
   "outputs": [],
   "source": [
    "# Perform one-hot encoding\n",
    "# set these columns to dummies\n",
    "insurance_df = pd.get_dummies(\n",
    "    insurance_df,\n",
    "    columns=object_columns,\n",
    "    dtype='int32'\n",
    ")"
   ]
  },
  {
   "cell_type": "code",
   "execution_count": 10,
   "metadata": {},
   "outputs": [
    {
     "data": {
      "text/html": [
       "<div>\n",
       "<style scoped>\n",
       "    .dataframe tbody tr th:only-of-type {\n",
       "        vertical-align: middle;\n",
       "    }\n",
       "\n",
       "    .dataframe tbody tr th {\n",
       "        vertical-align: top;\n",
       "    }\n",
       "\n",
       "    .dataframe thead th {\n",
       "        text-align: right;\n",
       "    }\n",
       "</style>\n",
       "<table border=\"1\" class=\"dataframe\">\n",
       "  <thead>\n",
       "    <tr style=\"text-align: right;\">\n",
       "      <th></th>\n",
       "      <th>FirstPartyVehicleNumber</th>\n",
       "      <th>ThirdPartyVehicleNumber</th>\n",
       "      <th>LossPostCode</th>\n",
       "      <th>PolicyHolderPostCode</th>\n",
       "      <th>PolicyWasSubscribedOnInternet</th>\n",
       "      <th>NumberOfPoliciesOfPolicyholder</th>\n",
       "      <th>FpVehicleAgeMonths</th>\n",
       "      <th>EasinessToStage</th>\n",
       "      <th>ClaimWihoutIdentifiedThirdParty</th>\n",
       "      <th>ClaimAmount</th>\n",
       "      <th>...</th>\n",
       "      <th>FirstPartyVehicleType_Caravan</th>\n",
       "      <th>FirstPartyVehicleType_Motorcycle</th>\n",
       "      <th>FirstPartyVehicleType_PrivateCar</th>\n",
       "      <th>FirstPartyVehicleType_nonSpecified</th>\n",
       "      <th>ConnectionBetweenParties_SameAddress</th>\n",
       "      <th>ConnectionBetweenParties_SameBankAccount</th>\n",
       "      <th>ConnectionBetweenParties_SameEmail</th>\n",
       "      <th>ConnectionBetweenParties_SamePhone</th>\n",
       "      <th>ConnectionBetweenParties_SamePolice</th>\n",
       "      <th>ConnectionBetweenParties_nonSpecified</th>\n",
       "    </tr>\n",
       "  </thead>\n",
       "  <tbody>\n",
       "    <tr>\n",
       "      <th>0</th>\n",
       "      <td>715507.0</td>\n",
       "      <td>0.0</td>\n",
       "      <td>31330.0</td>\n",
       "      <td>31330.0</td>\n",
       "      <td>1</td>\n",
       "      <td>1</td>\n",
       "      <td>104.0</td>\n",
       "      <td>0.25</td>\n",
       "      <td>1</td>\n",
       "      <td>4624.73</td>\n",
       "      <td>...</td>\n",
       "      <td>0</td>\n",
       "      <td>0</td>\n",
       "      <td>0</td>\n",
       "      <td>0</td>\n",
       "      <td>0</td>\n",
       "      <td>0</td>\n",
       "      <td>0</td>\n",
       "      <td>0</td>\n",
       "      <td>0</td>\n",
       "      <td>1</td>\n",
       "    </tr>\n",
       "    <tr>\n",
       "      <th>1</th>\n",
       "      <td>71164.0</td>\n",
       "      <td>0.0</td>\n",
       "      <td>29810.0</td>\n",
       "      <td>29200.0</td>\n",
       "      <td>0</td>\n",
       "      <td>3</td>\n",
       "      <td>230.0</td>\n",
       "      <td>0.50</td>\n",
       "      <td>1</td>\n",
       "      <td>1606.81</td>\n",
       "      <td>...</td>\n",
       "      <td>0</td>\n",
       "      <td>0</td>\n",
       "      <td>0</td>\n",
       "      <td>0</td>\n",
       "      <td>0</td>\n",
       "      <td>0</td>\n",
       "      <td>0</td>\n",
       "      <td>0</td>\n",
       "      <td>0</td>\n",
       "      <td>1</td>\n",
       "    </tr>\n",
       "    <tr>\n",
       "      <th>2</th>\n",
       "      <td>442609.0</td>\n",
       "      <td>0.0</td>\n",
       "      <td>33500.0</td>\n",
       "      <td>33500.0</td>\n",
       "      <td>0</td>\n",
       "      <td>9</td>\n",
       "      <td>93.0</td>\n",
       "      <td>0.25</td>\n",
       "      <td>0</td>\n",
       "      <td>998.20</td>\n",
       "      <td>...</td>\n",
       "      <td>0</td>\n",
       "      <td>0</td>\n",
       "      <td>0</td>\n",
       "      <td>0</td>\n",
       "      <td>0</td>\n",
       "      <td>0</td>\n",
       "      <td>0</td>\n",
       "      <td>0</td>\n",
       "      <td>0</td>\n",
       "      <td>1</td>\n",
       "    </tr>\n",
       "    <tr>\n",
       "      <th>3</th>\n",
       "      <td>24604.0</td>\n",
       "      <td>0.0</td>\n",
       "      <td>35310.0</td>\n",
       "      <td>35310.0</td>\n",
       "      <td>0</td>\n",
       "      <td>2</td>\n",
       "      <td>56.0</td>\n",
       "      <td>0.25</td>\n",
       "      <td>0</td>\n",
       "      <td>2506.92</td>\n",
       "      <td>...</td>\n",
       "      <td>0</td>\n",
       "      <td>0</td>\n",
       "      <td>0</td>\n",
       "      <td>0</td>\n",
       "      <td>0</td>\n",
       "      <td>0</td>\n",
       "      <td>0</td>\n",
       "      <td>0</td>\n",
       "      <td>0</td>\n",
       "      <td>1</td>\n",
       "    </tr>\n",
       "    <tr>\n",
       "      <th>4</th>\n",
       "      <td>2933.0</td>\n",
       "      <td>229134.0</td>\n",
       "      <td>29600.0</td>\n",
       "      <td>22000.0</td>\n",
       "      <td>0</td>\n",
       "      <td>4</td>\n",
       "      <td>110.0</td>\n",
       "      <td>0.25</td>\n",
       "      <td>0</td>\n",
       "      <td>12.00</td>\n",
       "      <td>...</td>\n",
       "      <td>0</td>\n",
       "      <td>0</td>\n",
       "      <td>0</td>\n",
       "      <td>0</td>\n",
       "      <td>0</td>\n",
       "      <td>0</td>\n",
       "      <td>0</td>\n",
       "      <td>0</td>\n",
       "      <td>0</td>\n",
       "      <td>1</td>\n",
       "    </tr>\n",
       "  </tbody>\n",
       "</table>\n",
       "<p>5 rows × 133 columns</p>\n",
       "</div>"
      ],
      "text/plain": [
       "   FirstPartyVehicleNumber  ThirdPartyVehicleNumber  LossPostCode  \\\n",
       "0                 715507.0                      0.0       31330.0   \n",
       "1                  71164.0                      0.0       29810.0   \n",
       "2                 442609.0                      0.0       33500.0   \n",
       "3                  24604.0                      0.0       35310.0   \n",
       "4                   2933.0                 229134.0       29600.0   \n",
       "\n",
       "   PolicyHolderPostCode  PolicyWasSubscribedOnInternet  \\\n",
       "0               31330.0                              1   \n",
       "1               29200.0                              0   \n",
       "2               33500.0                              0   \n",
       "3               35310.0                              0   \n",
       "4               22000.0                              0   \n",
       "\n",
       "   NumberOfPoliciesOfPolicyholder  FpVehicleAgeMonths  EasinessToStage  \\\n",
       "0                               1               104.0             0.25   \n",
       "1                               3               230.0             0.50   \n",
       "2                               9                93.0             0.25   \n",
       "3                               2                56.0             0.25   \n",
       "4                               4               110.0             0.25   \n",
       "\n",
       "   ClaimWihoutIdentifiedThirdParty  ClaimAmount  ...  \\\n",
       "0                                1      4624.73  ...   \n",
       "1                                1      1606.81  ...   \n",
       "2                                0       998.20  ...   \n",
       "3                                0      2506.92  ...   \n",
       "4                                0        12.00  ...   \n",
       "\n",
       "   FirstPartyVehicleType_Caravan  FirstPartyVehicleType_Motorcycle  \\\n",
       "0                              0                                 0   \n",
       "1                              0                                 0   \n",
       "2                              0                                 0   \n",
       "3                              0                                 0   \n",
       "4                              0                                 0   \n",
       "\n",
       "   FirstPartyVehicleType_PrivateCar  FirstPartyVehicleType_nonSpecified  \\\n",
       "0                                 0                                   0   \n",
       "1                                 0                                   0   \n",
       "2                                 0                                   0   \n",
       "3                                 0                                   0   \n",
       "4                                 0                                   0   \n",
       "\n",
       "   ConnectionBetweenParties_SameAddress  \\\n",
       "0                                     0   \n",
       "1                                     0   \n",
       "2                                     0   \n",
       "3                                     0   \n",
       "4                                     0   \n",
       "\n",
       "   ConnectionBetweenParties_SameBankAccount  \\\n",
       "0                                         0   \n",
       "1                                         0   \n",
       "2                                         0   \n",
       "3                                         0   \n",
       "4                                         0   \n",
       "\n",
       "   ConnectionBetweenParties_SameEmail  ConnectionBetweenParties_SamePhone  \\\n",
       "0                                   0                                   0   \n",
       "1                                   0                                   0   \n",
       "2                                   0                                   0   \n",
       "3                                   0                                   0   \n",
       "4                                   0                                   0   \n",
       "\n",
       "   ConnectionBetweenParties_SamePolice  ConnectionBetweenParties_nonSpecified  \n",
       "0                                    0                                      1  \n",
       "1                                    0                                      1  \n",
       "2                                    0                                      1  \n",
       "3                                    0                                      1  \n",
       "4                                    0                                      1  \n",
       "\n",
       "[5 rows x 133 columns]"
      ]
     },
     "execution_count": 10,
     "metadata": {},
     "output_type": "execute_result"
    }
   ],
   "source": [
    "insurance_df.head()"
   ]
  },
  {
   "cell_type": "code",
   "execution_count": 11,
   "metadata": {},
   "outputs": [
    {
     "data": {
      "text/plain": [
       "Fraud\n",
       "0    11415\n",
       "1      115\n",
       "Name: count, dtype: int64"
      ]
     },
     "execution_count": 11,
     "metadata": {},
     "output_type": "execute_result"
    }
   ],
   "source": [
    "insurance_df.Fraud.value_counts()"
   ]
  },
  {
   "cell_type": "code",
   "execution_count": 12,
   "metadata": {},
   "outputs": [],
   "source": [
    "insurance_df.to_csv('test1.csv')"
   ]
  },
  {
   "cell_type": "code",
   "execution_count": 17,
   "metadata": {},
   "outputs": [
    {
     "data": {
      "image/png": "[encoded data removed]",
      "text/plain": [
       "<Figure size 640x480 with 1 Axes>"
      ]
     },
     "metadata": {},
     "output_type": "display_data"
    }
   ],
   "source": [
    "import numpy as np\n",
    "import matplotlib.pyplot as plt\n",
    "\n",
    "detection = insurance_df.groupby(['days_between']).size().reset_index(name='count')\n",
    "detection.loc[:, \"count_cum\"] = detection['count'].cumsum()\n",
    "detection.loc[:, \"detection_rate_cum\"] =  detection[['count_cum']]/len(insurance_df)\n",
    "detection.loc[:, \"fraud_cum\"]  = insurance_df.groupby(['days_between'])[['Fraud']].sum().cumsum()\n",
    "detection.loc[:, \"hit_rate_cum\"] = detection['fraud_cum']/detection['count_cum']\n",
    "\n",
    "\n",
    "x = detection['days_between']\n",
    "f = detection['detection_rate_cum']\n",
    "g = detection['hit_rate_cum']\n",
    "\n",
    "plt.plot(x, f, \"-b\", label=\"detection_rate_cum\")\n",
    "plt.plot(x, g, \"-r\", label=\"hit_rate_cum\")\n",
    "plt.legend(loc=\"upper left\")\n",
    "\n",
    "plt.show()"
   ]
  },
  {
   "cell_type": "code",
   "execution_count": 13,
   "metadata": {},
   "outputs": [
    {
     "name": "stdout",
     "output_type": "stream",
     "text": [
      "Fraud\n",
      "0    3430\n",
      "1      30\n",
      "Name: count, dtype: int64\n",
      "Shapes of datasets:\n",
      "X_train (before SMOTE): (8070, 132)\n",
      "Y_train (before SMOTE): (8070,)\n",
      "X_train (after SMOTE): (9582, 132)\n",
      "Y_train (after SMOTE): (9582,)\n",
      "X_test: (3460, 132)\n",
      "Y_test: (3460,)\n"
     ]
    }
   ],
   "source": [
    "y = insurance_df[\"Fraud\"]  # creating the dependent variable\n",
    "X = insurance_df.drop(columns=[\"Fraud\"])\n",
    "\n",
    "\n",
    "X_train, X_test, Y_train, Y_test = train_test_split(\n",
    "    X, y, train_size=0.7, random_state=111\n",
    ")\n",
    "\n",
    "# X_test, X_valid, Y_test, Y_valid = train_test_split(\n",
    "#     X_other, Y_other, test_size=0.5, random_state=111\n",
    "# )\n",
    "\n",
    "print(Y_test.value_counts())\n",
    "\n",
    "smote = SMOTE(random_state=111, sampling_strategy=0.2)\n",
    "X_train_smote, Y_train_smote = smote.fit_resample(X_train, Y_train)\n",
    "\n",
    "\n",
    "# Checking the shapes of the datasets\n",
    "print(\"Shapes of datasets:\")\n",
    "print(\"X_train (before SMOTE):\", X_train.shape)\n",
    "print(\"Y_train (before SMOTE):\", Y_train.shape)\n",
    "print(\"X_train (after SMOTE):\", X_train_smote.shape)\n",
    "print(\"Y_train (after SMOTE):\", Y_train_smote.shape)\n",
    "print(\"X_test:\", X_test.shape)\n",
    "print(\"Y_test:\", Y_test.shape)\n"
   ]
  },
  {
   "cell_type": "code",
   "execution_count": 14,
   "metadata": {},
   "outputs": [
    {
     "data": {
      "text/plain": [
       "(Fraud\n",
       " 0    7985\n",
       " 1    1597\n",
       " Name: count, dtype: int64,\n",
       " Fraud\n",
       " 0    7985\n",
       " 1      85\n",
       " Name: count, dtype: int64,\n",
       " Fraud\n",
       " 0    3430\n",
       " 1      30\n",
       " Name: count, dtype: int64)"
      ]
     },
     "execution_count": 14,
     "metadata": {},
     "output_type": "execute_result"
    }
   ],
   "source": [
    "Y_train_smote.value_counts(),Y_train.value_counts(),Y_test.value_counts()"
   ]
  },
  {
   "cell_type": "code",
   "execution_count": 15,
   "metadata": {},
   "outputs": [],
   "source": [
    "scaler = MinMaxScaler()\n",
    "\n",
    "X_train_scaled = scaler.fit_transform(X_train_smote)\n",
    "X_test_scaled = scaler.transform(X_test)\n",
    "# X_valid_scaled = scaler.transform(X_valid)\n",
    "# X_valid_scaled.shape"
   ]
  },
  {
   "cell_type": "code",
   "execution_count": 17,
   "metadata": {},
   "outputs": [
    {
     "name": "stdout",
     "output_type": "stream",
     "text": [
      "Decision Tree classifier: \n",
      "               precision    recall  f1-score   support\n",
      "\n",
      "           0       0.99      0.99      0.99      3430\n",
      "           1       0.14      0.23      0.18        30\n",
      "\n",
      "    accuracy                           0.98      3460\n",
      "   macro avg       0.57      0.61      0.58      3460\n",
      "weighted avg       0.99      0.98      0.98      3460\n",
      "\n"
     ]
    }
   ],
   "source": [
    "dt_model = DecisionTreeClassifier(random_state=111)\n",
    "dt_model.fit(X_train_smote, Y_train_smote)\n",
    "\n",
    "dt_y_pred = dt_model.predict(X_test)\n",
    "\n",
    "print(\"Decision Tree classifier: \\n\", classification_report(Y_test, dt_y_pred))"
   ]
  },
  {
   "cell_type": "code",
   "execution_count": 18,
   "metadata": {},
   "outputs": [],
   "source": [
    "def hit_detection_rates(Pred, model):\n",
    "    Pred = model.predict(X_test)\n",
    "    hits1 = sum(Y_test & Pred)\n",
    "\n",
    "    hit_rate1 = hits1 / Pred.sum()\n",
    "    detection_rate1 = hits1 / Y_test.sum()\n",
    "\n",
    "    print(\"Hit rate:\", hit_rate1)\n",
    "    print(\"Detection rate:\", detection_rate1)"
   ]
  },
  {
   "cell_type": "code",
   "execution_count": 19,
   "metadata": {},
   "outputs": [
    {
     "name": "stdout",
     "output_type": "stream",
     "text": [
      "days_between: 0.4045\n",
      "ConnectionBetweenParties_nonSpecified: 0.1614\n",
      "DamageImportance_TotalLoss: 0.0681\n",
      "DamageImportance_nonSpecified: 0.0515\n",
      "ClaimCause_WindscreenDamage: 0.0514\n",
      "ClaimAmount: 0.0443\n",
      "DamageImportance_Medium: 0.0257\n",
      "FirstPartyVehicleNumber: 0.0195\n",
      "ConnectionBetweenParties_SameAddress: 0.0184\n",
      "FirstPartyLiability: 0.0164\n"
     ]
    }
   ],
   "source": [
    "# Create a list of tuples with feature names and their importance scores\n",
    "feature_importances = [(feature, importance) for feature, importance in zip(dt_model.feature_names_in_, dt_model.feature_importances_)]\n",
    "\n",
    "# Sort the list of feature importances in descending order\n",
    "feature_importances = sorted(feature_importances, key=lambda x: x[1], reverse=True)\n",
    "\n",
    "# Print the first 10 most important features\n",
    "for feature, importance in feature_importances[:10]:\n",
    "    print(f\"{feature}: {importance:.4f}\")"
   ]
  },
  {
   "cell_type": "code",
   "execution_count": 31,
   "metadata": {},
   "outputs": [
    {
     "name": "stdout",
     "output_type": "stream",
     "text": [
      "Epoch 1/20\n"
     ]
    },
    {
     "name": "stderr",
     "output_type": "stream",
     "text": [
      "2024-02-04 23:57:09.638272: I tensorflow/core/grappler/optimizers/custom_graph_optimizer_registry.cc:114] Plugin optimizer for device_type GPU is enabled.\n",
      "loc(\"mps_select\"(\"(mpsFileLoc): /AppleInternal/Library/BuildRoots/0032d1ee-80fd-11ee-8227-6aecfccc70fe/Library/Caches/com.apple.xbs/Sources/MetalPerformanceShadersGraph/mpsgraph/MetalPerformanceShadersGraph/Core/Files/MPSGraphUtilities.mm\":294:0)): error: 'anec.gain_offset_control' op result #0 must be 4D/5D memref of 16-bit float or 8-bit signed integer or 8-bit unsigned integer values, but got 'memref<1x64x1x1xi1>'\n",
      "loc(\"mps_select\"(\"(mpsFileLoc): /AppleInternal/Library/BuildRoots/0032d1ee-80fd-11ee-8227-6aecfccc70fe/Library/Caches/com.apple.xbs/Sources/MetalPerformanceShadersGraph/mpsgraph/MetalPerformanceShadersGraph/Core/Files/MPSGraphUtilities.mm\":294:0)): error: 'anec.gain_offset_control' op result #0 must be 4D/5D memref of 16-bit float or 8-bit signed integer or 8-bit unsigned integer values, but got 'memref<1x64x1x1xi1>'\n",
      "loc(\"mps_select\"(\"(mpsFileLoc): /AppleInternal/Library/BuildRoots/0032d1ee-80fd-11ee-8227-6aecfccc70fe/Library/Caches/com.apple.xbs/Sources/MetalPerformanceShadersGraph/mpsgraph/MetalPerformanceShadersGraph/Core/Files/MPSGraphUtilities.mm\":294:0)): error: 'anec.gain_offset_control' op result #0 must be 4D/5D memref of 16-bit float or 8-bit signed integer or 8-bit unsigned integer values, but got 'memref<1x64x1x1xi1>'\n",
      "loc(\"mps_select\"(\"(mpsFileLoc): /AppleInternal/Library/BuildRoots/0032d1ee-80fd-11ee-8227-6aecfccc70fe/Library/Caches/com.apple.xbs/Sources/MetalPerformanceShadersGraph/mpsgraph/MetalPerformanceShadersGraph/Core/Files/MPSGraphUtilities.mm\":294:0)): error: 'anec.gain_offset_control' op result #0 must be 4D/5D memref of 16-bit float or 8-bit signed integer or 8-bit unsigned integer values, but got 'memref<1x1x1x1xi1>'\n",
      "loc(\"mps_select\"(\"(mpsFileLoc): /AppleInternal/Library/BuildRoots/0032d1ee-80fd-11ee-8227-6aecfccc70fe/Library/Caches/com.apple.xbs/Sources/MetalPerformanceShadersGraph/mpsgraph/MetalPerformanceShadersGraph/Core/Files/MPSGraphUtilities.mm\":294:0)): error: 'anec.gain_offset_control' op result #0 must be 4D/5D memref of 16-bit float or 8-bit signed integer or 8-bit unsigned integer values, but got 'memref<1x64x1x1xi1>'\n",
      "loc(\"mps_select\"(\"(mpsFileLoc): /AppleInternal/Library/BuildRoots/0032d1ee-80fd-11ee-8227-6aecfccc70fe/Library/Caches/com.apple.xbs/Sources/MetalPerformanceShadersGraph/mpsgraph/MetalPerformanceShadersGraph/Core/Files/MPSGraphUtilities.mm\":294:0)): error: 'anec.gain_offset_control' op result #0 must be 4D/5D memref of 16-bit float or 8-bit signed integer or 8-bit unsigned integer values, but got 'memref<1x64x1x1xi1>'\n"
     ]
    },
    {
     "name": "stdout",
     "output_type": "stream",
     "text": [
      "117/120 [============================>.] - ETA: 0s - loss: 0.1522 - tp: 0.0000e+00 - tn: 7407.0000 - par: 0.0147"
     ]
    },
    {
     "name": "stderr",
     "output_type": "stream",
     "text": [
      "loc(\"mps_select\"(\"(mpsFileLoc): /AppleInternal/Library/BuildRoots/0032d1ee-80fd-11ee-8227-6aecfccc70fe/Library/Caches/com.apple.xbs/Sources/MetalPerformanceShadersGraph/mpsgraph/MetalPerformanceShadersGraph/Core/Files/MPSGraphUtilities.mm\":294:0)): error: 'anec.gain_offset_control' op result #0 must be 4D/5D memref of 16-bit float or 8-bit signed integer or 8-bit unsigned integer values, but got 'memref<1x49x1x1xi1>'\n",
      "loc(\"mps_select\"(\"(mpsFileLoc): /AppleInternal/Library/BuildRoots/0032d1ee-80fd-11ee-8227-6aecfccc70fe/Library/Caches/com.apple.xbs/Sources/MetalPerformanceShadersGraph/mpsgraph/MetalPerformanceShadersGraph/Core/Files/MPSGraphUtilities.mm\":294:0)): error: 'anec.gain_offset_control' op result #0 must be 4D/5D memref of 16-bit float or 8-bit signed integer or 8-bit unsigned integer values, but got 'memref<1x49x1x1xi1>'\n",
      "loc(\"mps_select\"(\"(mpsFileLoc): /AppleInternal/Library/BuildRoots/0032d1ee-80fd-11ee-8227-6aecfccc70fe/Library/Caches/com.apple.xbs/Sources/MetalPerformanceShadersGraph/mpsgraph/MetalPerformanceShadersGraph/Core/Files/MPSGraphUtilities.mm\":294:0)): error: 'anec.gain_offset_control' op result #0 must be 4D/5D memref of 16-bit float or 8-bit signed integer or 8-bit unsigned integer values, but got 'memref<1x49x1x1xi1>'\n",
      "loc(\"mps_select\"(\"(mpsFileLoc): /AppleInternal/Library/BuildRoots/0032d1ee-80fd-11ee-8227-6aecfccc70fe/Library/Caches/com.apple.xbs/Sources/MetalPerformanceShadersGraph/mpsgraph/MetalPerformanceShadersGraph/Core/Files/MPSGraphUtilities.mm\":294:0)): error: 'anec.gain_offset_control' op result #0 must be 4D/5D memref of 16-bit float or 8-bit signed integer or 8-bit unsigned integer values, but got 'memref<1x49x1x1xi1>'\n",
      "loc(\"mps_select\"(\"(mpsFileLoc): /AppleInternal/Library/BuildRoots/0032d1ee-80fd-11ee-8227-6aecfccc70fe/Library/Caches/com.apple.xbs/Sources/MetalPerformanceShadersGraph/mpsgraph/MetalPerformanceShadersGraph/Core/Files/MPSGraphUtilities.mm\":294:0)): error: 'anec.gain_offset_control' op result #0 must be 4D/5D memref of 16-bit float or 8-bit signed integer or 8-bit unsigned integer values, but got 'memref<1x49x1x1xi1>'\n"
     ]
    },
    {
     "name": "stdout",
     "output_type": "stream",
     "text": [
      "120/120 [==============================] - ETA: 0s - loss: 0.1514 - tp: 0.0000e+00 - tn: 7582.0000 - par: 0.0150"
     ]
    },
    {
     "name": "stderr",
     "output_type": "stream",
     "text": [
      "2024-02-04 23:57:14.094491: I tensorflow/core/grappler/optimizers/custom_graph_optimizer_registry.cc:114] Plugin optimizer for device_type GPU is enabled.\n",
      "loc(\"mps_select\"(\"(mpsFileLoc): /AppleInternal/Library/BuildRoots/0032d1ee-80fd-11ee-8227-6aecfccc70fe/Library/Caches/com.apple.xbs/Sources/MetalPerformanceShadersGraph/mpsgraph/MetalPerformanceShadersGraph/Core/Files/MPSGraphUtilities.mm\":294:0)): error: 'anec.gain_offset_control' op result #0 must be 4D/5D memref of 16-bit float or 8-bit signed integer or 8-bit unsigned integer values, but got 'memref<1x64x1x1xi1>'\n",
      "loc(\"mps_select\"(\"(mpsFileLoc): /AppleInternal/Library/BuildRoots/0032d1ee-80fd-11ee-8227-6aecfccc70fe/Library/Caches/com.apple.xbs/Sources/MetalPerformanceShadersGraph/mpsgraph/MetalPerformanceShadersGraph/Core/Files/MPSGraphUtilities.mm\":294:0)): error: 'anec.gain_offset_control' op result #0 must be 4D/5D memref of 16-bit float or 8-bit signed integer or 8-bit unsigned integer values, but got 'memref<1x64x1x1xi1>'\n",
      "loc(\"mps_select\"(\"(mpsFileLoc): /AppleInternal/Library/BuildRoots/0032d1ee-80fd-11ee-8227-6aecfccc70fe/Library/Caches/com.apple.xbs/Sources/MetalPerformanceShadersGraph/mpsgraph/MetalPerformanceShadersGraph/Core/Files/MPSGraphUtilities.mm\":294:0)): error: 'anec.gain_offset_control' op result #0 must be 4D/5D memref of 16-bit float or 8-bit signed integer or 8-bit unsigned integer values, but got 'memref<1x1x1x1xi1>'\n"
     ]
    },
    {
     "name": "stdout",
     "output_type": "stream",
     "text": [
      "120/120 [==============================] - 6s 37ms/step - loss: 0.1514 - tp: 0.0000e+00 - tn: 7582.0000 - par: 0.0150 - val_loss: 1.6712 - val_tp: 0.0000e+00 - val_tn: 403.0000 - val_par: 0.9969\n",
      "Epoch 2/20\n",
      "  4/120 [>.............................] - ETA: 2s - loss: 0.1096 - tp: 0.0000e+00 - tn: 253.0000 - par: 0.2222"
     ]
    },
    {
     "name": "stderr",
     "output_type": "stream",
     "text": [
      "loc(\"mps_select\"(\"(mpsFileLoc): /AppleInternal/Library/BuildRoots/0032d1ee-80fd-11ee-8227-6aecfccc70fe/Library/Caches/com.apple.xbs/Sources/MetalPerformanceShadersGraph/mpsgraph/MetalPerformanceShadersGraph/Core/Files/MPSGraphUtilities.mm\":294:0)): error: 'anec.gain_offset_control' op result #0 must be 4D/5D memref of 16-bit float or 8-bit signed integer or 8-bit unsigned integer values, but got 'memref<1x61x1x1xi1>'\n",
      "loc(\"mps_select\"(\"(mpsFileLoc): /AppleInternal/Library/BuildRoots/0032d1ee-80fd-11ee-8227-6aecfccc70fe/Library/Caches/com.apple.xbs/Sources/MetalPerformanceShadersGraph/mpsgraph/MetalPerformanceShadersGraph/Core/Files/MPSGraphUtilities.mm\":294:0)): error: 'anec.gain_offset_control' op result #0 must be 4D/5D memref of 16-bit float or 8-bit signed integer or 8-bit unsigned integer values, but got 'memref<1x61x1x1xi1>'\n"
     ]
    },
    {
     "name": "stdout",
     "output_type": "stream",
     "text": [
      "120/120 [==============================] - 3s 21ms/step - loss: 0.1032 - tp: 0.0000e+00 - tn: 7582.0000 - par: 0.0541 - val_loss: 1.1455 - val_tp: 0.0000e+00 - val_tn: 403.0000 - val_par: 0.9988\n",
      "Epoch 3/20\n",
      "120/120 [==============================] - 3s 21ms/step - loss: 0.0866 - tp: 0.0000e+00 - tn: 7582.0000 - par: 0.1377 - val_loss: 1.0477 - val_tp: 0.0000e+00 - val_tn: 403.0000 - val_par: 1.0000\n",
      "Epoch 4/20\n",
      "120/120 [==============================] - 3s 22ms/step - loss: 0.0769 - tp: 2.0000 - tn: 7582.0000 - par: 0.2448 - val_loss: 0.9197 - val_tp: 202.0000 - val_tn: 403.0000 - val_par: 1.0000\n",
      "Epoch 5/20\n",
      "120/120 [==============================] - 2s 21ms/step - loss: 0.0722 - tp: 13.0000 - tn: 7571.0000 - par: 0.2537 - val_loss: 0.7438 - val_tp: 763.0000 - val_tn: 402.0000 - val_par: 1.0000\n",
      "Epoch 6/20\n",
      "120/120 [==============================] - 3s 21ms/step - loss: 0.0679 - tp: 20.0000 - tn: 7559.0000 - par: 0.2434 - val_loss: 0.7074 - val_tp: 957.0000 - val_tn: 401.0000 - val_par: 0.9989\n",
      "Epoch 7/20\n",
      "120/120 [==============================] - 3s 21ms/step - loss: 0.0636 - tp: 28.0000 - tn: 7548.0000 - par: 0.3469 - val_loss: 0.7469 - val_tp: 947.0000 - val_tn: 401.0000 - val_par: 0.9989\n",
      "Epoch 8/20\n",
      "120/120 [==============================] - 2s 21ms/step - loss: 0.0614 - tp: 30.0000 - tn: 7535.0000 - par: 0.3953 - val_loss: 0.6168 - val_tp: 1177.0000 - val_tn: 400.0000 - val_par: 0.9982\n",
      "Epoch 9/20\n",
      "120/120 [==============================] - 3s 22ms/step - loss: 0.0582 - tp: 36.0000 - tn: 7525.0000 - par: 0.3854 - val_loss: 0.6013 - val_tp: 1196.0000 - val_tn: 400.0000 - val_par: 0.9979\n",
      "Epoch 10/20\n",
      "120/120 [==============================] - 3s 21ms/step - loss: 0.0551 - tp: 38.0000 - tn: 7525.0000 - par: 0.4730 - val_loss: 0.5179 - val_tp: 1284.0000 - val_tn: 398.0000 - val_par: 0.9975\n",
      "Epoch 11/20\n",
      "120/120 [==============================] - 3s 21ms/step - loss: 0.0522 - tp: 43.0000 - tn: 7513.0000 - par: 0.4557 - val_loss: 0.4404 - val_tp: 1360.0000 - val_tn: 394.0000 - val_par: 0.9971\n",
      "Epoch 12/20\n",
      "120/120 [==============================] - 3s 21ms/step - loss: 0.0483 - tp: 49.0000 - tn: 7501.0000 - par: 0.5373 - val_loss: 0.4629 - val_tp: 1291.0000 - val_tn: 398.0000 - val_par: 0.9976\n",
      "Epoch 13/20\n",
      "120/120 [==============================] - 3s 21ms/step - loss: 0.0452 - tp: 53.0000 - tn: 7504.0000 - par: 0.5667 - val_loss: 0.3816 - val_tp: 1360.0000 - val_tn: 397.0000 - val_par: 0.9976\n",
      "Epoch 14/20\n",
      "120/120 [==============================] - 2s 21ms/step - loss: 0.0405 - tp: 58.0000 - tn: 7515.0000 - par: 0.6731 - val_loss: 0.2953 - val_tp: 1414.0000 - val_tn: 397.0000 - val_par: 0.9977\n",
      "Epoch 15/20\n",
      "120/120 [==============================] - 3s 21ms/step - loss: 0.0367 - tp: 61.0000 - tn: 7524.0000 - par: 0.7551 - val_loss: 0.2732 - val_tp: 1412.0000 - val_tn: 398.0000 - val_par: 0.9978\n",
      "Epoch 16/20\n",
      "120/120 [==============================] - 3s 21ms/step - loss: 0.0328 - tp: 63.0000 - tn: 7535.0000 - par: 0.8718 - val_loss: 0.2490 - val_tp: 1423.0000 - val_tn: 399.0000 - val_par: 1.0000\n",
      "Epoch 17/20\n",
      "120/120 [==============================] - 3s 21ms/step - loss: 0.0276 - tp: 64.0000 - tn: 7538.0000 - par: 0.9286 - val_loss: 0.2798 - val_tp: 1388.0000 - val_tn: 399.0000 - val_par: 1.0000\n",
      "Epoch 18/20\n",
      "120/120 [==============================] - 3s 21ms/step - loss: 0.0234 - tp: 69.0000 - tn: 7542.0000 - par: 0.9524 - val_loss: 0.2039 - val_tp: 1444.0000 - val_tn: 399.0000 - val_par: 1.0000\n",
      "Epoch 19/20\n",
      "120/120 [==============================] - 3s 22ms/step - loss: 0.0206 - tp: 71.0000 - tn: 7552.0000 - par: 0.9730 - val_loss: 0.1348 - val_tp: 1488.0000 - val_tn: 398.0000 - val_par: 1.0000\n",
      "Epoch 20/20\n",
      "120/120 [==============================] - 3s 21ms/step - loss: 0.0164 - tp: 73.0000 - tn: 7552.0000 - par: 1.0000 - val_loss: 0.1994 - val_tp: 1445.0000 - val_tn: 399.0000 - val_par: 1.0000\n",
      " 40/109 [==========>...................] - ETA: 0s"
     ]
    },
    {
     "name": "stderr",
     "output_type": "stream",
     "text": [
      "2024-02-04 23:58:03.619336: I tensorflow/core/grappler/optimizers/custom_graph_optimizer_registry.cc:114] Plugin optimizer for device_type GPU is enabled.\n"
     ]
    },
    {
     "name": "stdout",
     "output_type": "stream",
     "text": [
      "109/109 [==============================] - 0s 3ms/step\n",
      "Best threshold: 0.9406777620315552\n",
      "              precision    recall  f1-score   support\n",
      "\n",
      "           0       0.99      1.00      1.00      3430\n",
      "           1       0.00      0.00      0.00        30\n",
      "\n",
      "    accuracy                           0.99      3460\n",
      "   macro avg       0.50      0.50      0.50      3460\n",
      "weighted avg       0.98      0.99      0.99      3460\n",
      "\n"
     ]
    },
    {
     "name": "stderr",
     "output_type": "stream",
     "text": [
      "/var/folders/k6/934yyy2n5_vf8y3c9cw39gcr0000gn/T/ipykernel_19849/2210737306.py:47: RuntimeWarning: invalid value encountered in divide\n",
      "  f1_scores = 2 * recall * precision / (recall + precision)\n"
     ]
    }
   ],
   "source": [
    "from sklearn.metrics import precision_recall_curve, classification_report\n",
    "from sklearn.utils.class_weight import compute_class_weight\n",
    "\n",
    "# Calculate class weights\n",
    "class_weights = compute_class_weight(\n",
    "    class_weight='balanced',\n",
    "    classes=np.unique(Y_train_smote),\n",
    "    y=Y_train_smote\n",
    ")\n",
    "\n",
    "class_weights_dict = dict(enumerate(class_weights))\n",
    "\n",
    "\n",
    "model = Sequential()\n",
    "model.add(Dense(32, input_shape=(X_train_scaled.shape[1],)))\n",
    "model.add(tf.keras.layers.ReLU())\n",
    "\n",
    "model.add(Dense(16))\n",
    "model.add(tf.keras.layers.ReLU())\n",
    "\n",
    "model.add(Dense(16))\n",
    "model.add(tf.keras.layers.ReLU())\n",
    "\n",
    "model.add(Dense(8))\n",
    "model.add(tf.keras.layers.ReLU())\n",
    "\n",
    "model.add(Dense(1, activation='sigmoid')) \n",
    "\n",
    "# Compile the model\n",
    "model.compile(optimizer=tf.keras.optimizers.RMSprop(), \n",
    "              loss='binary_crossentropy', \n",
    "              metrics=[tf.keras.metrics.TruePositives(name='tp'),\n",
    "                        tf.keras.metrics.TrueNegatives(name='tn'),\n",
    "                        tf.keras.metrics.PrecisionAtRecall(recall=0.4, name='par')])\n",
    "\n",
    "# Then pass this dictionary to the class_weight parameter in the fit method\n",
    "history = model.fit(X_train_scaled, Y_train_smote, epochs=20, batch_size=64, \n",
    "                    validation_split=0.2, class_weight=class_weights_dict)\n",
    "\n",
    "# Predict probabilities\n",
    "probabilities = model.predict(X_test_scaled).ravel()\n",
    "\n",
    "# Compute precision-recall curve\n",
    "precision, recall, thresholds = precision_recall_curve(Y_test, probabilities)\n",
    "\n",
    "# Calculate the F1 score for each threshold\n",
    "f1_scores = 2 * recall * precision / (recall + precision)\n",
    "# Find the index of the highest F1 score\n",
    "best_threshold_index = np.argmax(f1_scores)\n",
    "\n",
    "# Find the best threshold that gives the highest F1 score\n",
    "best_threshold = thresholds[best_threshold_index]\n",
    "\n",
    "# Make predictions based on the best threshold\n",
    "y_pred_threshold = (probabilities >= best_threshold).astype(int)\n",
    "\n",
    "# Print classification report based on the best threshold\n",
    "print(f'Best threshold: {best_threshold}')\n",
    "print(classification_report(Y_test, y_pred_threshold))\n"
   ]
  },
  {
   "cell_type": "code",
   "execution_count": 20,
   "metadata": {},
   "outputs": [
    {
     "name": "stderr",
     "output_type": "stream",
     "text": [
      "2024-02-05 00:22:29.039813: I tensorflow/core/common_runtime/pluggable_device/pluggable_device_factory.cc:306] Could not identify NUMA node of platform GPU ID 0, defaulting to 0. Your kernel may not have been built with NUMA support.\n",
      "2024-02-05 00:22:29.039998: I tensorflow/core/common_runtime/pluggable_device/pluggable_device_factory.cc:272] Created TensorFlow device (/job:localhost/replica:0/task:0/device:GPU:0 with 0 MB memory) -> physical PluggableDevice (device: 0, name: METAL, pci bus id: <undefined>)\n"
     ]
    },
    {
     "name": "stdout",
     "output_type": "stream",
     "text": [
      "Metal device set to: Apple M1 Pro\n",
      "\n",
      "systemMemory: 16.00 GB\n",
      "maxCacheSize: 5.33 GB\n",
      "\n",
      "Epoch 1/20\n"
     ]
    },
    {
     "name": "stderr",
     "output_type": "stream",
     "text": [
      "2024-02-05 00:22:29.597887: W tensorflow/core/platform/profile_utils/cpu_utils.cc:128] Failed to get CPU frequency: 0 Hz\n",
      "2024-02-05 00:22:30.304545: I tensorflow/core/grappler/optimizers/custom_graph_optimizer_registry.cc:114] Plugin optimizer for device_type GPU is enabled.\n",
      "loc(\"mps_select\"(\"(mpsFileLoc): /AppleInternal/Library/BuildRoots/0032d1ee-80fd-11ee-8227-6aecfccc70fe/Library/Caches/com.apple.xbs/Sources/MetalPerformanceShadersGraph/mpsgraph/MetalPerformanceShadersGraph/Core/Files/MPSGraphUtilities.mm\":294:0)): error: 'anec.gain_offset_control' op result #0 must be 4D/5D memref of 16-bit float or 8-bit signed integer or 8-bit unsigned integer values, but got 'memref<1x64x1x1xi1>'\n",
      "loc(\"mps_select\"(\"(mpsFileLoc): /AppleInternal/Library/BuildRoots/0032d1ee-80fd-11ee-8227-6aecfccc70fe/Library/Caches/com.apple.xbs/Sources/MetalPerformanceShadersGraph/mpsgraph/MetalPerformanceShadersGraph/Core/Files/MPSGraphUtilities.mm\":294:0)): error: 'anec.gain_offset_control' op result #0 must be 4D/5D memref of 16-bit float or 8-bit signed integer or 8-bit unsigned integer values, but got 'memref<1x64x1x1xi1>'\n",
      "loc(\"mps_select\"(\"(mpsFileLoc): /AppleInternal/Library/BuildRoots/0032d1ee-80fd-11ee-8227-6aecfccc70fe/Library/Caches/com.apple.xbs/Sources/MetalPerformanceShadersGraph/mpsgraph/MetalPerformanceShadersGraph/Core/Files/MPSGraphUtilities.mm\":294:0)): error: 'anec.gain_offset_control' op result #0 must be 4D/5D memref of 16-bit float or 8-bit signed integer or 8-bit unsigned integer values, but got 'memref<1x64x1x1xi1>'\n",
      "loc(\"mps_select\"(\"(mpsFileLoc): /AppleInternal/Library/BuildRoots/0032d1ee-80fd-11ee-8227-6aecfccc70fe/Library/Caches/com.apple.xbs/Sources/MetalPerformanceShadersGraph/mpsgraph/MetalPerformanceShadersGraph/Core/Files/MPSGraphUtilities.mm\":294:0)): error: 'anec.gain_offset_control' op result #0 must be 4D/5D memref of 16-bit float or 8-bit signed integer or 8-bit unsigned integer values, but got 'memref<1x64x1x1xi1>'\n",
      "loc(\"mps_select\"(\"(mpsFileLoc): /AppleInternal/Library/BuildRoots/0032d1ee-80fd-11ee-8227-6aecfccc70fe/Library/Caches/com.apple.xbs/Sources/MetalPerformanceShadersGraph/mpsgraph/MetalPerformanceShadersGraph/Core/Files/MPSGraphUtilities.mm\":294:0)): error: 'anec.gain_offset_control' op result #0 must be 4D/5D memref of 16-bit float or 8-bit signed integer or 8-bit unsigned integer values, but got 'memref<1x64x1x1xi1>'\n"
     ]
    },
    {
     "name": "stdout",
     "output_type": "stream",
     "text": [
      "118/120 [============================>.] - ETA: 0s - loss: 25.0113 - tp: 24.0000 - tn: 5526.0000 - precision: 0.0122 - recall: 0.2963"
     ]
    },
    {
     "name": "stderr",
     "output_type": "stream",
     "text": [
      "loc(\"mps_select\"(\"(mpsFileLoc): /AppleInternal/Library/BuildRoots/0032d1ee-80fd-11ee-8227-6aecfccc70fe/Library/Caches/com.apple.xbs/Sources/MetalPerformanceShadersGraph/mpsgraph/MetalPerformanceShadersGraph/Core/Files/MPSGraphUtilities.mm\":294:0)): error: 'anec.gain_offset_control' op result #0 must be 4D/5D memref of 16-bit float or 8-bit signed integer or 8-bit unsigned integer values, but got 'memref<1x49x1x1xi1>'\n",
      "loc(\"mps_select\"(\"(mpsFileLoc): /AppleInternal/Library/BuildRoots/0032d1ee-80fd-11ee-8227-6aecfccc70fe/Library/Caches/com.apple.xbs/Sources/MetalPerformanceShadersGraph/mpsgraph/MetalPerformanceShadersGraph/Core/Files/MPSGraphUtilities.mm\":294:0)): error: 'anec.gain_offset_control' op result #0 must be 4D/5D memref of 16-bit float or 8-bit signed integer or 8-bit unsigned integer values, but got 'memref<1x49x1x1xi1>'\n",
      "loc(\"mps_select\"(\"(mpsFileLoc): /AppleInternal/Library/BuildRoots/0032d1ee-80fd-11ee-8227-6aecfccc70fe/Library/Caches/com.apple.xbs/Sources/MetalPerformanceShadersGraph/mpsgraph/MetalPerformanceShadersGraph/Core/Files/MPSGraphUtilities.mm\":294:0)): error: 'anec.gain_offset_control' op result #0 must be 4D/5D memref of 16-bit float or 8-bit signed integer or 8-bit unsigned integer values, but got 'memref<1x49x1x1xi1>'\n",
      "loc(\"mps_select\"(\"(mpsFileLoc): /AppleInternal/Library/BuildRoots/0032d1ee-80fd-11ee-8227-6aecfccc70fe/Library/Caches/com.apple.xbs/Sources/MetalPerformanceShadersGraph/mpsgraph/MetalPerformanceShadersGraph/Core/Files/MPSGraphUtilities.mm\":294:0)): error: 'anec.gain_offset_control' op result #0 must be 4D/5D memref of 16-bit float or 8-bit signed integer or 8-bit unsigned integer values, but got 'memref<1x49x1x1xi1>'\n",
      "loc(\"mps_select\"(\"(mpsFileLoc): /AppleInternal/Library/BuildRoots/0032d1ee-80fd-11ee-8227-6aecfccc70fe/Library/Caches/com.apple.xbs/Sources/MetalPerformanceShadersGraph/mpsgraph/MetalPerformanceShadersGraph/Core/Files/MPSGraphUtilities.mm\":294:0)): error: 'anec.gain_offset_control' op result #0 must be 4D/5D memref of 16-bit float or 8-bit signed integer or 8-bit unsigned integer values, but got 'memref<1x49x1x1xi1>'\n"
     ]
    },
    {
     "name": "stdout",
     "output_type": "stream",
     "text": [
      "120/120 [==============================] - ETA: 0s - loss: 24.7606 - tp: 24.0000 - tn: 5632.0000 - precision: 0.0122 - recall: 0.2892"
     ]
    },
    {
     "name": "stderr",
     "output_type": "stream",
     "text": [
      "2024-02-05 00:22:41.030440: I tensorflow/core/grappler/optimizers/custom_graph_optimizer_registry.cc:114] Plugin optimizer for device_type GPU is enabled.\n",
      "loc(\"mps_select\"(\"(mpsFileLoc): /AppleInternal/Library/BuildRoots/0032d1ee-80fd-11ee-8227-6aecfccc70fe/Library/Caches/com.apple.xbs/Sources/MetalPerformanceShadersGraph/mpsgraph/MetalPerformanceShadersGraph/Core/Files/MPSGraphUtilities.mm\":294:0)): error: 'anec.gain_offset_control' op result #0 must be 4D/5D memref of 16-bit float or 8-bit signed integer or 8-bit unsigned integer values, but got 'memref<1x64x1x1xi1>'\n",
      "loc(\"mps_select\"(\"(mpsFileLoc): /AppleInternal/Library/BuildRoots/0032d1ee-80fd-11ee-8227-6aecfccc70fe/Library/Caches/com.apple.xbs/Sources/MetalPerformanceShadersGraph/mpsgraph/MetalPerformanceShadersGraph/Core/Files/MPSGraphUtilities.mm\":294:0)): error: 'anec.gain_offset_control' op result #0 must be 4D/5D memref of 16-bit float or 8-bit signed integer or 8-bit unsigned integer values, but got 'memref<1x64x1x1xi1>'\n"
     ]
    },
    {
     "name": "stdout",
     "output_type": "stream",
     "text": [
      "120/120 [==============================] - 13s 62ms/step - loss: 24.7606 - tp: 24.0000 - tn: 5632.0000 - precision: 0.0122 - recall: 0.2892 - val_loss: 8.5460 - val_tp: 0.0000e+00 - val_tn: 403.0000 - val_precision: 0.0000e+00 - val_recall: 0.0000e+00\n",
      "Epoch 2/20\n",
      "  1/120 [..............................] - ETA: 5s - loss: 7.8442 - tp: 0.0000e+00 - tn: 58.0000 - precision: 0.0000e+00 - recall: 0.0000e+00"
     ]
    },
    {
     "name": "stderr",
     "output_type": "stream",
     "text": [
      "loc(\"mps_select\"(\"(mpsFileLoc): /AppleInternal/Library/BuildRoots/0032d1ee-80fd-11ee-8227-6aecfccc70fe/Library/Caches/com.apple.xbs/Sources/MetalPerformanceShadersGraph/mpsgraph/MetalPerformanceShadersGraph/Core/Files/MPSGraphUtilities.mm\":294:0)): error: 'anec.gain_offset_control' op result #0 must be 4D/5D memref of 16-bit float or 8-bit signed integer or 8-bit unsigned integer values, but got 'memref<1x61x1x1xi1>'\n",
      "loc(\"mps_select\"(\"(mpsFileLoc): /AppleInternal/Library/BuildRoots/0032d1ee-80fd-11ee-8227-6aecfccc70fe/Library/Caches/com.apple.xbs/Sources/MetalPerformanceShadersGraph/mpsgraph/MetalPerformanceShadersGraph/Core/Files/MPSGraphUtilities.mm\":294:0)): error: 'anec.gain_offset_control' op result #0 must be 4D/5D memref of 16-bit float or 8-bit signed integer or 8-bit unsigned integer values, but got 'memref<1x61x1x1xi1>'\n"
     ]
    },
    {
     "name": "stdout",
     "output_type": "stream",
     "text": [
      "120/120 [==============================] - 6s 49ms/step - loss: 3.8108 - tp: 8.0000 - tn: 7075.0000 - precision: 0.0155 - recall: 0.0964 - val_loss: 3.4120 - val_tp: 0.0000e+00 - val_tn: 403.0000 - val_precision: 0.0000e+00 - val_recall: 0.0000e+00\n",
      "Epoch 3/20\n",
      "120/120 [==============================] - 6s 49ms/step - loss: 1.3528 - tp: 3.0000 - tn: 7404.0000 - precision: 0.0166 - recall: 0.0361 - val_loss: 2.5197 - val_tp: 0.0000e+00 - val_tn: 403.0000 - val_precision: 0.0000e+00 - val_recall: 0.0000e+00\n",
      "Epoch 4/20\n",
      "120/120 [==============================] - 6s 48ms/step - loss: 0.7777 - tp: 1.0000 - tn: 7451.0000 - precision: 0.0076 - recall: 0.0120 - val_loss: 2.2271 - val_tp: 0.0000e+00 - val_tn: 403.0000 - val_precision: 0.0000e+00 - val_recall: 0.0000e+00\n",
      "Epoch 5/20\n",
      "120/120 [==============================] - 6s 47ms/step - loss: 0.5061 - tp: 3.0000 - tn: 7503.0000 - precision: 0.0366 - recall: 0.0361 - val_loss: 2.3202 - val_tp: 0.0000e+00 - val_tn: 403.0000 - val_precision: 0.0000e+00 - val_recall: 0.0000e+00\n",
      "Epoch 6/20\n",
      "120/120 [==============================] - 6s 48ms/step - loss: 0.3869 - tp: 1.0000 - tn: 7522.0000 - precision: 0.0164 - recall: 0.0120 - val_loss: 2.2769 - val_tp: 0.0000e+00 - val_tn: 403.0000 - val_precision: 0.0000e+00 - val_recall: 0.0000e+00\n",
      "Epoch 7/20\n",
      "120/120 [==============================] - 6s 46ms/step - loss: 0.3799 - tp: 2.0000 - tn: 7520.0000 - precision: 0.0312 - recall: 0.0241 - val_loss: 3.0427 - val_tp: 0.0000e+00 - val_tn: 403.0000 - val_precision: 0.0000e+00 - val_recall: 0.0000e+00\n",
      "Epoch 8/20\n",
      "120/120 [==============================] - 6s 46ms/step - loss: 0.3292 - tp: 1.0000 - tn: 7528.0000 - precision: 0.0182 - recall: 0.0120 - val_loss: 2.1875 - val_tp: 0.0000e+00 - val_tn: 403.0000 - val_precision: 0.0000e+00 - val_recall: 0.0000e+00\n",
      "Epoch 9/20\n",
      "120/120 [==============================] - 6s 46ms/step - loss: 0.2891 - tp: 3.0000 - tn: 7548.0000 - precision: 0.0811 - recall: 0.0361 - val_loss: 2.5459 - val_tp: 0.0000e+00 - val_tn: 403.0000 - val_precision: 0.0000e+00 - val_recall: 0.0000e+00\n",
      "Epoch 10/20\n",
      "120/120 [==============================] - 6s 47ms/step - loss: 0.2839 - tp: 3.0000 - tn: 7541.0000 - precision: 0.0682 - recall: 0.0361 - val_loss: 2.1952 - val_tp: 0.0000e+00 - val_tn: 403.0000 - val_precision: 0.0000e+00 - val_recall: 0.0000e+00\n",
      "Epoch 11/20\n",
      "120/120 [==============================] - 6s 48ms/step - loss: 0.2543 - tp: 0.0000e+00 - tn: 7557.0000 - precision: 0.0000e+00 - recall: 0.0000e+00 - val_loss: 2.1626 - val_tp: 0.0000e+00 - val_tn: 403.0000 - val_precision: 0.0000e+00 - val_recall: 0.0000e+00\n",
      "Epoch 12/20\n",
      "120/120 [==============================] - 6s 47ms/step - loss: 0.2179 - tp: 0.0000e+00 - tn: 7572.0000 - precision: 0.0000e+00 - recall: 0.0000e+00 - val_loss: 2.2379 - val_tp: 0.0000e+00 - val_tn: 403.0000 - val_precision: 0.0000e+00 - val_recall: 0.0000e+00\n",
      "Epoch 13/20\n",
      "120/120 [==============================] - 6s 48ms/step - loss: 0.2102 - tp: 0.0000e+00 - tn: 7576.0000 - precision: 0.0000e+00 - recall: 0.0000e+00 - val_loss: 1.9290 - val_tp: 0.0000e+00 - val_tn: 403.0000 - val_precision: 0.0000e+00 - val_recall: 0.0000e+00\n",
      "Epoch 14/20\n",
      "120/120 [==============================] - 6s 48ms/step - loss: 0.2259 - tp: 1.0000 - tn: 7562.0000 - precision: 0.0476 - recall: 0.0120 - val_loss: 2.9191 - val_tp: 0.0000e+00 - val_tn: 403.0000 - val_precision: 0.0000e+00 - val_recall: 0.0000e+00\n",
      "Epoch 15/20\n",
      "120/120 [==============================] - 6s 49ms/step - loss: 0.3244 - tp: 2.0000 - tn: 7534.0000 - precision: 0.0400 - recall: 0.0241 - val_loss: 1.9433 - val_tp: 0.0000e+00 - val_tn: 403.0000 - val_precision: 0.0000e+00 - val_recall: 0.0000e+00\n",
      "Epoch 16/20\n",
      "120/120 [==============================] - 6s 48ms/step - loss: 0.3589 - tp: 2.0000 - tn: 7533.0000 - precision: 0.0392 - recall: 0.0241 - val_loss: 1.8653 - val_tp: 0.0000e+00 - val_tn: 403.0000 - val_precision: 0.0000e+00 - val_recall: 0.0000e+00\n",
      "Epoch 17/20\n",
      "120/120 [==============================] - 6s 49ms/step - loss: 0.3467 - tp: 2.0000 - tn: 7544.0000 - precision: 0.0500 - recall: 0.0241 - val_loss: 2.4754 - val_tp: 0.0000e+00 - val_tn: 403.0000 - val_precision: 0.0000e+00 - val_recall: 0.0000e+00\n",
      "Epoch 18/20\n",
      "120/120 [==============================] - 6s 47ms/step - loss: 0.2595 - tp: 1.0000 - tn: 7557.0000 - precision: 0.0385 - recall: 0.0120 - val_loss: 2.2234 - val_tp: 0.0000e+00 - val_tn: 403.0000 - val_precision: 0.0000e+00 - val_recall: 0.0000e+00\n",
      "Epoch 19/20\n",
      "120/120 [==============================] - 6s 47ms/step - loss: 0.2447 - tp: 1.0000 - tn: 7554.0000 - precision: 0.0345 - recall: 0.0120 - val_loss: 1.6877 - val_tp: 0.0000e+00 - val_tn: 403.0000 - val_precision: 0.0000e+00 - val_recall: 0.0000e+00\n",
      "Epoch 20/20\n",
      "120/120 [==============================] - 6s 48ms/step - loss: 0.2230 - tp: 2.0000 - tn: 7551.0000 - precision: 0.0606 - recall: 0.0241 - val_loss: 2.4253 - val_tp: 0.0000e+00 - val_tn: 403.0000 - val_precision: 0.0000e+00 - val_recall: 0.0000e+00\n",
      "  5/109 [>.............................] - ETA: 2s - loss: 0.2064 - tp: 0.0000e+00 - tn: 156.0000 - precision: 0.0000e+00 - recall: 0.0000e+00"
     ]
    },
    {
     "name": "stderr",
     "output_type": "stream",
     "text": [
      "loc(\"mps_select\"(\"(mpsFileLoc): /AppleInternal/Library/BuildRoots/0032d1ee-80fd-11ee-8227-6aecfccc70fe/Library/Caches/com.apple.xbs/Sources/MetalPerformanceShadersGraph/mpsgraph/MetalPerformanceShadersGraph/Core/Files/MPSGraphUtilities.mm\":294:0)): error: 'anec.gain_offset_control' op result #0 must be 4D/5D memref of 16-bit float or 8-bit signed integer or 8-bit unsigned integer values, but got 'memref<1x32x1x1xi1>'\n",
      "loc(\"mps_select\"(\"(mpsFileLoc): /AppleInternal/Library/BuildRoots/0032d1ee-80fd-11ee-8227-6aecfccc70fe/Library/Caches/com.apple.xbs/Sources/MetalPerformanceShadersGraph/mpsgraph/MetalPerformanceShadersGraph/Core/Files/MPSGraphUtilities.mm\":294:0)): error: 'anec.gain_offset_control' op result #0 must be 4D/5D memref of 16-bit float or 8-bit signed integer or 8-bit unsigned integer values, but got 'memref<1x32x1x1xi1>'\n"
     ]
    },
    {
     "name": "stdout",
     "output_type": "stream",
     "text": [
      "109/109 [==============================] - 4s 31ms/step - loss: 0.1615 - tp: 0.0000e+00 - tn: 3430.0000 - precision: 0.0000e+00 - recall: 0.0000e+00\n"
     ]
    },
    {
     "name": "stderr",
     "output_type": "stream",
     "text": [
      "loc(\"mps_select\"(\"(mpsFileLoc): /AppleInternal/Library/BuildRoots/0032d1ee-80fd-11ee-8227-6aecfccc70fe/Library/Caches/com.apple.xbs/Sources/MetalPerformanceShadersGraph/mpsgraph/MetalPerformanceShadersGraph/Core/Files/MPSGraphUtilities.mm\":294:0)): error: 'anec.gain_offset_control' op result #0 must be 4D/5D memref of 16-bit float or 8-bit signed integer or 8-bit unsigned integer values, but got 'memref<1x4x1x1xi1>'\n",
      "loc(\"mps_select\"(\"(mpsFileLoc): /AppleInternal/Library/BuildRoots/0032d1ee-80fd-11ee-8227-6aecfccc70fe/Library/Caches/com.apple.xbs/Sources/MetalPerformanceShadersGraph/mpsgraph/MetalPerformanceShadersGraph/Core/Files/MPSGraphUtilities.mm\":294:0)): error: 'anec.gain_offset_control' op result #0 must be 4D/5D memref of 16-bit float or 8-bit signed integer or 8-bit unsigned integer values, but got 'memref<1x4x1x1xi1>'\n",
      "2024-02-05 00:24:34.847803: I tensorflow/core/grappler/optimizers/custom_graph_optimizer_registry.cc:114] Plugin optimizer for device_type GPU is enabled.\n"
     ]
    },
    {
     "name": "stdout",
     "output_type": "stream",
     "text": [
      "\n",
      "Test set loss: 0.161484956741333\n",
      "Test set accuracy: 0.0\n",
      "109/109 [==============================] - 1s 5ms/step\n",
      "\n",
      "Best threshold: 0.0773087590932846\n",
      "              precision    recall  f1-score   support\n",
      "\n",
      "           0       0.99      1.00      1.00      3430\n",
      "           1       0.00      0.00      0.00        30\n",
      "\n",
      "    accuracy                           0.99      3460\n",
      "   macro avg       0.50      0.50      0.50      3460\n",
      "weighted avg       0.98      0.99      0.99      3460\n",
      "\n"
     ]
    },
    {
     "name": "stderr",
     "output_type": "stream",
     "text": [
      "/var/folders/k6/934yyy2n5_vf8y3c9cw39gcr0000gn/T/ipykernel_20304/1133287378.py:82: RuntimeWarning: invalid value encountered in divide\n",
      "  f1_scores = 2 * recall * precision / (recall + precision)\n"
     ]
    }
   ],
   "source": [
    "from tensorflow.keras.models import Sequential\n",
    "from tensorflow.keras.layers import Dense, BatchNormalization, Dropout, LeakyReLU\n",
    "from tensorflow.keras.regularizers import l1_l2\n",
    "from tensorflow.keras.optimizers import Adam\n",
    "from tensorflow.keras.metrics import TruePositives, TrueNegatives, Precision, Recall\n",
    "from sklearn.metrics import precision_recall_curve, classification_report\n",
    "from sklearn.utils.class_weight import compute_class_weight\n",
    "\n",
    "# Calculate class weights\n",
    "class_weights = compute_class_weight(\n",
    "    class_weight='balanced',\n",
    "    classes=np.unique(Y_train_smote),\n",
    "    y=Y_train_smote\n",
    ")\n",
    "\n",
    "class_weights_dict = dict(enumerate(class_weights))\n",
    "\n",
    "# Model configuration\n",
    "input_shape = (X_train_scaled.shape[1],)\n",
    "batch_size = 64\n",
    "no_epochs = 20\n",
    "learning_rate = 0.001\n",
    "l1_reg = 0.01\n",
    "l2_reg = 0.01\n",
    "dropout_rate = 0.5\n",
    "\n",
    "# Define the neural network model\n",
    "model = Sequential()\n",
    "\n",
    "# Input Layer\n",
    "model.add(Dense(64, input_shape=input_shape, kernel_regularizer=l1_l2(l1=l1_reg, l2=l2_reg)))\n",
    "model.add(LeakyReLU())\n",
    "model.add(BatchNormalization())\n",
    "model.add(Dropout(dropout_rate))\n",
    "\n",
    "# Hidden Layers\n",
    "model.add(Dense(128, kernel_regularizer=l1_l2(l1=l1_reg, l2=l2_reg)))\n",
    "model.add(LeakyReLU())\n",
    "model.add(BatchNormalization())\n",
    "model.add(Dropout(dropout_rate))\n",
    "\n",
    "# Hidden Layers\n",
    "model.add(Dense(256, kernel_regularizer=l1_l2(l1=l1_reg, l2=l2_reg)))\n",
    "model.add(LeakyReLU())\n",
    "model.add(BatchNormalization())\n",
    "model.add(Dropout(dropout_rate))\n",
    "\n",
    "model.add(Dense(64, kernel_regularizer=l1_l2(l1=l1_reg, l2=l2_reg)))\n",
    "model.add(LeakyReLU())\n",
    "model.add(BatchNormalization())\n",
    "model.add(Dropout(dropout_rate))\n",
    "\n",
    "# Output Layer\n",
    "model.add(Dense(1, activation='sigmoid')) \n",
    "\n",
    "# Compile the model\n",
    "model.compile(optimizer=Adam(learning_rate=learning_rate), \n",
    "              loss='binary_crossentropy', \n",
    "              metrics=[TruePositives(name='tp'),\n",
    "                       TrueNegatives(name='tn'),\n",
    "                       Precision(name='precision'),\n",
    "                       Recall(name='recall')])\n",
    "\n",
    "# Fit the model\n",
    "history = model.fit(X_train_scaled, Y_train_smote, \n",
    "                    batch_size=batch_size, \n",
    "                    epochs=no_epochs, \n",
    "                    verbose=1,\n",
    "                    validation_split=0.2, \n",
    "                    class_weight=class_weights_dict)\n",
    "\n",
    "# Evaluate the model\n",
    "evaluation = model.evaluate(X_test_scaled, Y_test, verbose=1)\n",
    "print('\\nTest set loss:', evaluation[0])\n",
    "print('Test set accuracy:', evaluation[1])\n",
    "\n",
    "# Predict probabilities\n",
    "probabilities = model.predict(X_test_scaled).ravel()\n",
    "\n",
    "# Find the optimal threshold\n",
    "precision, recall, thresholds = precision_recall_curve(Y_test, probabilities)\n",
    "f1_scores = 2 * recall * precision / (recall + precision)\n",
    "best_threshold_index = np.argmax(f1_scores)\n",
    "best_threshold = thresholds[best_threshold_index]\n",
    "\n",
    "# Make predictions based on the best threshold\n",
    "y_pred_threshold = (probabilities >= best_threshold).astype(int)\n",
    "\n",
    "# Print classification report based on the best threshold\n",
    "print(f'\\nBest threshold: {best_threshold}')\n",
    "print(classification_report(Y_test, y_pred_threshold))\n"
   ]
  },
  {
   "cell_type": "code",
   "execution_count": 21,
   "metadata": {},
   "outputs": [
    {
     "name": "stdout",
     "output_type": "stream",
     "text": [
      "Epoch 1/20\n"
     ]
    },
    {
     "name": "stderr",
     "output_type": "stream",
     "text": [
      "2024-02-05 00:25:03.456519: I tensorflow/core/grappler/optimizers/custom_graph_optimizer_registry.cc:114] Plugin optimizer for device_type GPU is enabled.\n",
      "loc(\"mps_select\"(\"(mpsFileLoc): /AppleInternal/Library/BuildRoots/0032d1ee-80fd-11ee-8227-6aecfccc70fe/Library/Caches/com.apple.xbs/Sources/MetalPerformanceShadersGraph/mpsgraph/MetalPerformanceShadersGraph/Core/Files/MPSGraphUtilities.mm\":294:0)): error: 'anec.gain_offset_control' op result #0 must be 4D/5D memref of 16-bit float or 8-bit signed integer or 8-bit unsigned integer values, but got 'memref<1x64x1x1xi1>'\n",
      "loc(\"mps_select\"(\"(mpsFileLoc): /AppleInternal/Library/BuildRoots/0032d1ee-80fd-11ee-8227-6aecfccc70fe/Library/Caches/com.apple.xbs/Sources/MetalPerformanceShadersGraph/mpsgraph/MetalPerformanceShadersGraph/Core/Files/MPSGraphUtilities.mm\":294:0)): error: 'anec.gain_offset_control' op result #0 must be 4D/5D memref of 16-bit float or 8-bit signed integer or 8-bit unsigned integer values, but got 'memref<1x64x1x1xi1>'\n",
      "loc(\"mps_select\"(\"(mpsFileLoc): /AppleInternal/Library/BuildRoots/0032d1ee-80fd-11ee-8227-6aecfccc70fe/Library/Caches/com.apple.xbs/Sources/MetalPerformanceShadersGraph/mpsgraph/MetalPerformanceShadersGraph/Core/Files/MPSGraphUtilities.mm\":294:0)): error: 'anec.gain_offset_control' op result #0 must be 4D/5D memref of 16-bit float or 8-bit signed integer or 8-bit unsigned integer values, but got 'memref<1x64x1x1xi1>'\n",
      "loc(\"mps_select\"(\"(mpsFileLoc): /AppleInternal/Library/BuildRoots/0032d1ee-80fd-11ee-8227-6aecfccc70fe/Library/Caches/com.apple.xbs/Sources/MetalPerformanceShadersGraph/mpsgraph/MetalPerformanceShadersGraph/Core/Files/MPSGraphUtilities.mm\":294:0)): error: 'anec.gain_offset_control' op result #0 must be 4D/5D memref of 16-bit float or 8-bit signed integer or 8-bit unsigned integer values, but got 'memref<1x64x1x1xi1>'\n",
      "loc(\"mps_select\"(\"(mpsFileLoc): /AppleInternal/Library/BuildRoots/0032d1ee-80fd-11ee-8227-6aecfccc70fe/Library/Caches/com.apple.xbs/Sources/MetalPerformanceShadersGraph/mpsgraph/MetalPerformanceShadersGraph/Core/Files/MPSGraphUtilities.mm\":294:0)): error: 'anec.gain_offset_control' op result #0 must be 4D/5D memref of 16-bit float or 8-bit signed integer or 8-bit unsigned integer values, but got 'memref<1x64x1x1xi1>'\n"
     ]
    },
    {
     "name": "stdout",
     "output_type": "stream",
     "text": [
      "118/120 [============================>.] - ETA: 0s - loss: 14.4263 - tp: 25.0000 - tn: 5412.0000 - precision: 0.0120 - recall: 0.3125"
     ]
    },
    {
     "name": "stderr",
     "output_type": "stream",
     "text": [
      "loc(\"mps_select\"(\"(mpsFileLoc): /AppleInternal/Library/BuildRoots/0032d1ee-80fd-11ee-8227-6aecfccc70fe/Library/Caches/com.apple.xbs/Sources/MetalPerformanceShadersGraph/mpsgraph/MetalPerformanceShadersGraph/Core/Files/MPSGraphUtilities.mm\":294:0)): error: 'anec.gain_offset_control' op result #0 must be 4D/5D memref of 16-bit float or 8-bit signed integer or 8-bit unsigned integer values, but got 'memref<1x49x1x1xi1>'\n",
      "loc(\"mps_select\"(\"(mpsFileLoc): /AppleInternal/Library/BuildRoots/0032d1ee-80fd-11ee-8227-6aecfccc70fe/Library/Caches/com.apple.xbs/Sources/MetalPerformanceShadersGraph/mpsgraph/MetalPerformanceShadersGraph/Core/Files/MPSGraphUtilities.mm\":294:0)): error: 'anec.gain_offset_control' op result #0 must be 4D/5D memref of 16-bit float or 8-bit signed integer or 8-bit unsigned integer values, but got 'memref<1x49x1x1xi1>'\n",
      "loc(\"mps_select\"(\"(mpsFileLoc): /AppleInternal/Library/BuildRoots/0032d1ee-80fd-11ee-8227-6aecfccc70fe/Library/Caches/com.apple.xbs/Sources/MetalPerformanceShadersGraph/mpsgraph/MetalPerformanceShadersGraph/Core/Files/MPSGraphUtilities.mm\":294:0)): error: 'anec.gain_offset_control' op result #0 must be 4D/5D memref of 16-bit float or 8-bit signed integer or 8-bit unsigned integer values, but got 'memref<1x49x1x1xi1>'\n",
      "loc(\"mps_select\"(\"(mpsFileLoc): /AppleInternal/Library/BuildRoots/0032d1ee-80fd-11ee-8227-6aecfccc70fe/Library/Caches/com.apple.xbs/Sources/MetalPerformanceShadersGraph/mpsgraph/MetalPerformanceShadersGraph/Core/Files/MPSGraphUtilities.mm\":294:0)): error: 'anec.gain_offset_control' op result #0 must be 4D/5D memref of 16-bit float or 8-bit signed integer or 8-bit unsigned integer values, but got 'memref<1x49x1x1xi1>'\n",
      "loc(\"mps_select\"(\"(mpsFileLoc): /AppleInternal/Library/BuildRoots/0032d1ee-80fd-11ee-8227-6aecfccc70fe/Library/Caches/com.apple.xbs/Sources/MetalPerformanceShadersGraph/mpsgraph/MetalPerformanceShadersGraph/Core/Files/MPSGraphUtilities.mm\":294:0)): error: 'anec.gain_offset_control' op result #0 must be 4D/5D memref of 16-bit float or 8-bit signed integer or 8-bit unsigned integer values, but got 'memref<1x49x1x1xi1>'\n"
     ]
    },
    {
     "name": "stdout",
     "output_type": "stream",
     "text": [
      "120/120 [==============================] - ETA: 0s - loss: 14.3096 - tp: 25.0000 - tn: 5508.0000 - precision: 0.0119 - recall: 0.3012"
     ]
    },
    {
     "name": "stderr",
     "output_type": "stream",
     "text": [
      "2024-02-05 00:25:09.297447: I tensorflow/core/grappler/optimizers/custom_graph_optimizer_registry.cc:114] Plugin optimizer for device_type GPU is enabled.\n",
      "loc(\"mps_select\"(\"(mpsFileLoc): /AppleInternal/Library/BuildRoots/0032d1ee-80fd-11ee-8227-6aecfccc70fe/Library/Caches/com.apple.xbs/Sources/MetalPerformanceShadersGraph/mpsgraph/MetalPerformanceShadersGraph/Core/Files/MPSGraphUtilities.mm\":294:0)): error: 'anec.gain_offset_control' op result #0 must be 4D/5D memref of 16-bit float or 8-bit signed integer or 8-bit unsigned integer values, but got 'memref<1x64x1x1xi1>'\n",
      "loc(\"mps_select\"(\"(mpsFileLoc): /AppleInternal/Library/BuildRoots/0032d1ee-80fd-11ee-8227-6aecfccc70fe/Library/Caches/com.apple.xbs/Sources/MetalPerformanceShadersGraph/mpsgraph/MetalPerformanceShadersGraph/Core/Files/MPSGraphUtilities.mm\":294:0)): error: 'anec.gain_offset_control' op result #0 must be 4D/5D memref of 16-bit float or 8-bit signed integer or 8-bit unsigned integer values, but got 'memref<1x64x1x1xi1>'\n"
     ]
    },
    {
     "name": "stdout",
     "output_type": "stream",
     "text": [
      "120/120 [==============================] - 8s 50ms/step - loss: 14.3096 - tp: 25.0000 - tn: 5508.0000 - precision: 0.0119 - recall: 0.3012 - val_loss: 7.0208 - val_tp: 0.0000e+00 - val_tn: 403.0000 - val_precision: 0.0000e+00 - val_recall: 0.0000e+00\n",
      "Epoch 2/20\n",
      "  3/120 [..............................] - ETA: 4s - loss: 6.1460 - tp: 1.0000 - tn: 169.0000 - precision: 0.0455 - recall: 0.5000           "
     ]
    },
    {
     "name": "stderr",
     "output_type": "stream",
     "text": [
      "loc(\"mps_select\"(\"(mpsFileLoc): /AppleInternal/Library/BuildRoots/0032d1ee-80fd-11ee-8227-6aecfccc70fe/Library/Caches/com.apple.xbs/Sources/MetalPerformanceShadersGraph/mpsgraph/MetalPerformanceShadersGraph/Core/Files/MPSGraphUtilities.mm\":294:0)): error: 'anec.gain_offset_control' op result #0 must be 4D/5D memref of 16-bit float or 8-bit signed integer or 8-bit unsigned integer values, but got 'memref<1x61x1x1xi1>'\n",
      "loc(\"mps_select\"(\"(mpsFileLoc): /AppleInternal/Library/BuildRoots/0032d1ee-80fd-11ee-8227-6aecfccc70fe/Library/Caches/com.apple.xbs/Sources/MetalPerformanceShadersGraph/mpsgraph/MetalPerformanceShadersGraph/Core/Files/MPSGraphUtilities.mm\":294:0)): error: 'anec.gain_offset_control' op result #0 must be 4D/5D memref of 16-bit float or 8-bit signed integer or 8-bit unsigned integer values, but got 'memref<1x61x1x1xi1>'\n"
     ]
    },
    {
     "name": "stdout",
     "output_type": "stream",
     "text": [
      "120/120 [==============================] - 5s 41ms/step - loss: 3.1802 - tp: 9.0000 - tn: 7111.0000 - precision: 0.0188 - recall: 0.1084 - val_loss: 2.7329 - val_tp: 0.0000e+00 - val_tn: 403.0000 - val_precision: 0.0000e+00 - val_recall: 0.0000e+00\n",
      "Epoch 3/20\n",
      "120/120 [==============================] - 5s 41ms/step - loss: 1.0258 - tp: 4.0000 - tn: 7378.0000 - precision: 0.0192 - recall: 0.0482 - val_loss: 2.1291 - val_tp: 0.0000e+00 - val_tn: 403.0000 - val_precision: 0.0000e+00 - val_recall: 0.0000e+00\n",
      "Epoch 4/20\n",
      "120/120 [==============================] - 5s 40ms/step - loss: 0.6176 - tp: 4.0000 - tn: 7414.0000 - precision: 0.0233 - recall: 0.0482 - val_loss: 2.1714 - val_tp: 0.0000e+00 - val_tn: 403.0000 - val_precision: 0.0000e+00 - val_recall: 0.0000e+00\n",
      "Epoch 5/20\n",
      "120/120 [==============================] - 5s 40ms/step - loss: 0.3852 - tp: 1.0000 - tn: 7494.0000 - precision: 0.0112 - recall: 0.0120 - val_loss: 2.0649 - val_tp: 0.0000e+00 - val_tn: 403.0000 - val_precision: 0.0000e+00 - val_recall: 0.0000e+00\n",
      "Epoch 6/20\n",
      "120/120 [==============================] - 5s 41ms/step - loss: 0.3258 - tp: 1.0000 - tn: 7495.0000 - precision: 0.0114 - recall: 0.0120 - val_loss: 2.1887 - val_tp: 0.0000e+00 - val_tn: 403.0000 - val_precision: 0.0000e+00 - val_recall: 0.0000e+00\n",
      "Epoch 7/20\n",
      "120/120 [==============================] - 5s 40ms/step - loss: 0.2726 - tp: 3.0000 - tn: 7524.0000 - precision: 0.0492 - recall: 0.0361 - val_loss: 1.8588 - val_tp: 0.0000e+00 - val_tn: 403.0000 - val_precision: 0.0000e+00 - val_recall: 0.0000e+00\n",
      "Epoch 8/20\n",
      "120/120 [==============================] - 5s 40ms/step - loss: 0.2630 - tp: 3.0000 - tn: 7514.0000 - precision: 0.0423 - recall: 0.0361 - val_loss: 1.9717 - val_tp: 0.0000e+00 - val_tn: 403.0000 - val_precision: 0.0000e+00 - val_recall: 0.0000e+00\n",
      "Epoch 9/20\n",
      "120/120 [==============================] - 5s 40ms/step - loss: 0.2308 - tp: 3.0000 - tn: 7532.0000 - precision: 0.0566 - recall: 0.0361 - val_loss: 2.0247 - val_tp: 0.0000e+00 - val_tn: 403.0000 - val_precision: 0.0000e+00 - val_recall: 0.0000e+00\n",
      "Epoch 10/20\n",
      "120/120 [==============================] - 5s 41ms/step - loss: 0.2126 - tp: 5.0000 - tn: 7535.0000 - precision: 0.0962 - recall: 0.0602 - val_loss: 2.0864 - val_tp: 0.0000e+00 - val_tn: 403.0000 - val_precision: 0.0000e+00 - val_recall: 0.0000e+00\n",
      "Epoch 11/20\n",
      "120/120 [==============================] - 5s 40ms/step - loss: 0.2117 - tp: 2.0000 - tn: 7558.0000 - precision: 0.0769 - recall: 0.0241 - val_loss: 1.8006 - val_tp: 0.0000e+00 - val_tn: 403.0000 - val_precision: 0.0000e+00 - val_recall: 0.0000e+00\n",
      "Epoch 12/20\n",
      "120/120 [==============================] - 5s 40ms/step - loss: 0.1898 - tp: 3.0000 - tn: 7542.0000 - precision: 0.0698 - recall: 0.0361 - val_loss: 1.8598 - val_tp: 0.0000e+00 - val_tn: 403.0000 - val_precision: 0.0000e+00 - val_recall: 0.0000e+00\n",
      "Epoch 13/20\n",
      "120/120 [==============================] - 5s 40ms/step - loss: 0.1879 - tp: 6.0000 - tn: 7524.0000 - precision: 0.0938 - recall: 0.0723 - val_loss: 1.5371 - val_tp: 1.0000 - val_tn: 403.0000 - val_precision: 1.0000 - val_recall: 6.6050e-04\n",
      "Epoch 14/20\n",
      "120/120 [==============================] - 5s 40ms/step - loss: 0.2016 - tp: 8.0000 - tn: 7517.0000 - precision: 0.1096 - recall: 0.0964 - val_loss: 1.9088 - val_tp: 0.0000e+00 - val_tn: 403.0000 - val_precision: 0.0000e+00 - val_recall: 0.0000e+00\n",
      "Epoch 15/20\n",
      "120/120 [==============================] - 5s 40ms/step - loss: 0.1921 - tp: 1.0000 - tn: 7567.0000 - precision: 0.0625 - recall: 0.0120 - val_loss: 1.8468 - val_tp: 0.0000e+00 - val_tn: 403.0000 - val_precision: 0.0000e+00 - val_recall: 0.0000e+00\n",
      "Epoch 16/20\n",
      "120/120 [==============================] - 5s 40ms/step - loss: 0.1733 - tp: 3.0000 - tn: 7560.0000 - precision: 0.1200 - recall: 0.0361 - val_loss: 2.3775 - val_tp: 0.0000e+00 - val_tn: 403.0000 - val_precision: 0.0000e+00 - val_recall: 0.0000e+00\n",
      "Epoch 17/20\n",
      "120/120 [==============================] - 5s 40ms/step - loss: 0.1808 - tp: 3.0000 - tn: 7533.0000 - precision: 0.0577 - recall: 0.0361 - val_loss: 2.1118 - val_tp: 0.0000e+00 - val_tn: 403.0000 - val_precision: 0.0000e+00 - val_recall: 0.0000e+00\n",
      "Epoch 18/20\n",
      "120/120 [==============================] - 5s 40ms/step - loss: 0.1703 - tp: 3.0000 - tn: 7548.0000 - precision: 0.0811 - recall: 0.0361 - val_loss: 1.7421 - val_tp: 0.0000e+00 - val_tn: 403.0000 - val_precision: 0.0000e+00 - val_recall: 0.0000e+00\n",
      "Epoch 19/20\n",
      "120/120 [==============================] - 5s 40ms/step - loss: 0.1763 - tp: 0.0000e+00 - tn: 7544.0000 - precision: 0.0000e+00 - recall: 0.0000e+00 - val_loss: 1.8048 - val_tp: 0.0000e+00 - val_tn: 403.0000 - val_precision: 0.0000e+00 - val_recall: 0.0000e+00\n",
      "Epoch 20/20\n",
      "120/120 [==============================] - 5s 40ms/step - loss: 0.1775 - tp: 2.0000 - tn: 7561.0000 - precision: 0.0870 - recall: 0.0241 - val_loss: 2.7076 - val_tp: 0.0000e+00 - val_tn: 403.0000 - val_precision: 0.0000e+00 - val_recall: 0.0000e+00\n",
      "  5/109 [>.............................] - ETA: 2s - loss: 0.1825 - tp: 0.0000e+00 - tn: 156.0000 - precision: 0.0000e+00 - recall: 0.0000e+00"
     ]
    },
    {
     "name": "stderr",
     "output_type": "stream",
     "text": [
      "loc(\"mps_select\"(\"(mpsFileLoc): /AppleInternal/Library/BuildRoots/0032d1ee-80fd-11ee-8227-6aecfccc70fe/Library/Caches/com.apple.xbs/Sources/MetalPerformanceShadersGraph/mpsgraph/MetalPerformanceShadersGraph/Core/Files/MPSGraphUtilities.mm\":294:0)): error: 'anec.gain_offset_control' op result #0 must be 4D/5D memref of 16-bit float or 8-bit signed integer or 8-bit unsigned integer values, but got 'memref<1x32x1x1xi1>'\n",
      "loc(\"mps_select\"(\"(mpsFileLoc): /AppleInternal/Library/BuildRoots/0032d1ee-80fd-11ee-8227-6aecfccc70fe/Library/Caches/com.apple.xbs/Sources/MetalPerformanceShadersGraph/mpsgraph/MetalPerformanceShadersGraph/Core/Files/MPSGraphUtilities.mm\":294:0)): error: 'anec.gain_offset_control' op result #0 must be 4D/5D memref of 16-bit float or 8-bit signed integer or 8-bit unsigned integer values, but got 'memref<1x32x1x1xi1>'\n"
     ]
    },
    {
     "name": "stdout",
     "output_type": "stream",
     "text": [
      "109/109 [==============================] - 3s 26ms/step - loss: 0.1198 - tp: 0.0000e+00 - tn: 3430.0000 - precision: 0.0000e+00 - recall: 0.0000e+00\n"
     ]
    },
    {
     "name": "stderr",
     "output_type": "stream",
     "text": [
      "loc(\"mps_select\"(\"(mpsFileLoc): /AppleInternal/Library/BuildRoots/0032d1ee-80fd-11ee-8227-6aecfccc70fe/Library/Caches/com.apple.xbs/Sources/MetalPerformanceShadersGraph/mpsgraph/MetalPerformanceShadersGraph/Core/Files/MPSGraphUtilities.mm\":294:0)): error: 'anec.gain_offset_control' op result #0 must be 4D/5D memref of 16-bit float or 8-bit signed integer or 8-bit unsigned integer values, but got 'memref<1x4x1x1xi1>'\n",
      "loc(\"mps_select\"(\"(mpsFileLoc): /AppleInternal/Library/BuildRoots/0032d1ee-80fd-11ee-8227-6aecfccc70fe/Library/Caches/com.apple.xbs/Sources/MetalPerformanceShadersGraph/mpsgraph/MetalPerformanceShadersGraph/Core/Files/MPSGraphUtilities.mm\":294:0)): error: 'anec.gain_offset_control' op result #0 must be 4D/5D memref of 16-bit float or 8-bit signed integer or 8-bit unsigned integer values, but got 'memref<1x4x1x1xi1>'\n",
      "2024-02-05 00:26:44.683412: I tensorflow/core/grappler/optimizers/custom_graph_optimizer_registry.cc:114] Plugin optimizer for device_type GPU is enabled.\n"
     ]
    },
    {
     "name": "stdout",
     "output_type": "stream",
     "text": [
      "\n",
      "Test set loss: 0.11980283260345459\n",
      "Test set accuracy: 0.0\n",
      "109/109 [==============================] - 1s 4ms/step\n",
      "\n",
      "Best threshold: 0.1868910938501358\n",
      "              precision    recall  f1-score   support\n",
      "\n",
      "           0       0.99      1.00      1.00      3430\n",
      "           1       0.00      0.00      0.00        30\n",
      "\n",
      "    accuracy                           0.99      3460\n",
      "   macro avg       0.50      0.50      0.50      3460\n",
      "weighted avg       0.98      0.99      0.99      3460\n",
      "\n"
     ]
    },
    {
     "name": "stderr",
     "output_type": "stream",
     "text": [
      "/var/folders/k6/934yyy2n5_vf8y3c9cw39gcr0000gn/T/ipykernel_20304/1278090715.py:76: RuntimeWarning: invalid value encountered in divide\n",
      "  f1_scores = 2 * recall * precision / (recall + precision)\n"
     ]
    }
   ],
   "source": [
    "from tensorflow.keras.models import Sequential\n",
    "from tensorflow.keras.layers import Dense, BatchNormalization, Dropout, LeakyReLU\n",
    "from tensorflow.keras.regularizers import l1_l2\n",
    "from tensorflow.keras.optimizers import Adam\n",
    "from tensorflow.keras.metrics import TruePositives, TrueNegatives, Precision, Recall\n",
    "from sklearn.metrics import precision_recall_curve, classification_report\n",
    "from sklearn.utils.class_weight import compute_class_weight\n",
    "\n",
    "# Calculate class weights\n",
    "class_weights = compute_class_weight(\n",
    "    class_weight='balanced',\n",
    "    classes=np.unique(Y_train_smote),\n",
    "    y=Y_train_smote\n",
    ")\n",
    "\n",
    "class_weights_dict = dict(enumerate(class_weights))\n",
    "\n",
    "# Model configuration\n",
    "input_shape = (X_train_scaled.shape[1],)\n",
    "batch_size = 64\n",
    "no_epochs = 20\n",
    "learning_rate = 0.001\n",
    "l1_reg = 0.01\n",
    "l2_reg = 0.01\n",
    "dropout_rate = 0.5\n",
    "\n",
    "# Define the neural network model\n",
    "model = Sequential()\n",
    "\n",
    "# Input Layer\n",
    "model.add(Dense(64, input_shape=input_shape, kernel_regularizer=l1_l2(l1=l1_reg, l2=l2_reg)))\n",
    "model.add(LeakyReLU())\n",
    "model.add(BatchNormalization())\n",
    "model.add(Dropout(dropout_rate))\n",
    "\n",
    "# Hidden Layers\n",
    "model.add(Dense(128, kernel_regularizer=l1_l2(l1=l1_reg, l2=l2_reg)))\n",
    "model.add(LeakyReLU())\n",
    "model.add(BatchNormalization())\n",
    "model.add(Dropout(dropout_rate))\n",
    "\n",
    "model.add(Dense(64, kernel_regularizer=l1_l2(l1=l1_reg, l2=l2_reg)))\n",
    "model.add(LeakyReLU())\n",
    "model.add(BatchNormalization())\n",
    "model.add(Dropout(dropout_rate))\n",
    "\n",
    "# Output Layer\n",
    "model.add(Dense(1, activation='sigmoid')) \n",
    "\n",
    "# Compile the model\n",
    "model.compile(optimizer=Adam(learning_rate=learning_rate), \n",
    "              loss='binary_crossentropy', \n",
    "              metrics=[TruePositives(name='tp'),\n",
    "                       TrueNegatives(name='tn'),\n",
    "                       Precision(name='precision'),\n",
    "                       Recall(name='recall')])\n",
    "\n",
    "# Fit the model\n",
    "history = model.fit(X_train_scaled, Y_train_smote, \n",
    "                    batch_size=batch_size, \n",
    "                    epochs=no_epochs, \n",
    "                    verbose=1,\n",
    "                    validation_split=0.2, \n",
    "                    class_weight=class_weights_dict)\n",
    "\n",
    "# Evaluate the model\n",
    "evaluation = model.evaluate(X_test_scaled, Y_test, verbose=1)\n",
    "print('\\nTest set loss:', evaluation[0])\n",
    "print('Test set accuracy:', evaluation[1])\n",
    "\n",
    "# Predict probabilities\n",
    "probabilities = model.predict(X_test_scaled).ravel()\n",
    "\n",
    "# Find the optimal threshold\n",
    "precision, recall, thresholds = precision_recall_curve(Y_test, probabilities)\n",
    "f1_scores = 2 * recall * precision / (recall + precision)\n",
    "best_threshold_index = np.argmax(f1_scores)\n",
    "best_threshold = thresholds[best_threshold_index]\n",
    "\n",
    "# Make predictions based on the best threshold\n",
    "y_pred_threshold = (probabilities >= best_threshold).astype(int)\n",
    "\n",
    "# Print classification report based on the best threshold\n",
    "print(f'\\nBest threshold: {best_threshold}')\n",
    "print(classification_report(Y_test, y_pred_threshold))"
   ]
  },
  {
   "cell_type": "code",
   "execution_count": null,
   "metadata": {},
   "outputs": [],
   "source": []
  }
 ],
 "metadata": {
  "kernelspec": {
   "display_name": "Python 3",
   "language": "python",
   "name": "python3"
  },
  "language_info": {
   "codemirror_mode": {
    "name": "ipython",
    "version": 3
   },
   "file_extension": ".py",
   "mimetype": "text/x-python",
   "name": "python",
   "nbconvert_exporter": "python",
   "pygments_lexer": "ipython3",
   "version": "3.10.1"
  }
 },
 "nbformat": 4,
 "nbformat_minor": 2
}
